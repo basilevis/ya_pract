{
 "cells": [
  {
   "cell_type": "markdown",
   "metadata": {},
   "source": [
    "# Рекомендация тарифов"
   ]
  },
  {
   "cell_type": "markdown",
   "metadata": {},
   "source": [
    "В вашем распоряжении данные о поведении клиентов, которые уже перешли на эти тарифы (из проекта курса «Статистический анализ данных»). Нужно построить модель для задачи классификации, которая выберет подходящий тариф. Предобработка данных не понадобится — вы её уже сделали.\n",
    "\n",
    "Постройте модель с максимально большим значением *accuracy*. Чтобы сдать проект успешно, нужно довести долю правильных ответов по крайней мере до 0.75. Проверьте *accuracy* на тестовой выборке самостоятельно.\n",
    "\n",
    "\n",
    "**Описание данных**\n",
    "<br>Каждый объект в наборе данных — это информация о поведении одного пользователя за месяц. Известно:\n",
    "* *сalls* — количество звонков,\n",
    "* *minutes* — суммарная длительность звонков в минутах,\n",
    "* *messages* — количество sms-сообщений,\n",
    "* *mb_used* — израсходованный интернет-трафик в Мб,\n",
    "* *is_ultra* — каким тарифом пользовался в течение месяца («Ультра» — 1, «Смарт» — 0).\n",
    "\n"
   ]
  },
  {
   "cell_type": "markdown",
   "metadata": {},
   "source": [
    "## Откройте и изучите файл"
   ]
  },
  {
   "cell_type": "code",
   "execution_count": 1,
   "metadata": {},
   "outputs": [],
   "source": [
    "import pandas as pd\n",
    "import os\n",
    "import numpy as np\n",
    "from pathlib import Path\n",
    "from sklearn.metrics import accuracy_score\n",
    "from sklearn.model_selection import train_test_split\n",
    "from sklearn.tree import DecisionTreeClassifier\n",
    "from sklearn.linear_model import LogisticRegression\n",
    "from sklearn.ensemble import RandomForestClassifier\n",
    "from sklearn.dummy import DummyClassifier\n",
    "import warnings\n",
    "warnings.filterwarnings(\"ignore\")\n"
   ]
  },
  {
   "cell_type": "markdown",
   "metadata": {},
   "source": [
    "Откроем файл и выведем первые пять строк:"
   ]
  },
  {
   "cell_type": "code",
   "execution_count": 2,
   "metadata": {},
   "outputs": [
    {
     "data": {
      "text/html": [
       "<div>\n",
       "<style scoped>\n",
       "    .dataframe tbody tr th:only-of-type {\n",
       "        vertical-align: middle;\n",
       "    }\n",
       "\n",
       "    .dataframe tbody tr th {\n",
       "        vertical-align: top;\n",
       "    }\n",
       "\n",
       "    .dataframe thead th {\n",
       "        text-align: right;\n",
       "    }\n",
       "</style>\n",
       "<table border=\"1\" class=\"dataframe\">\n",
       "  <thead>\n",
       "    <tr style=\"text-align: right;\">\n",
       "      <th></th>\n",
       "      <th>calls</th>\n",
       "      <th>minutes</th>\n",
       "      <th>messages</th>\n",
       "      <th>mb_used</th>\n",
       "      <th>is_ultra</th>\n",
       "    </tr>\n",
       "  </thead>\n",
       "  <tbody>\n",
       "    <tr>\n",
       "      <th>0</th>\n",
       "      <td>40.0</td>\n",
       "      <td>311.90</td>\n",
       "      <td>83.0</td>\n",
       "      <td>19915.42</td>\n",
       "      <td>0</td>\n",
       "    </tr>\n",
       "    <tr>\n",
       "      <th>1</th>\n",
       "      <td>85.0</td>\n",
       "      <td>516.75</td>\n",
       "      <td>56.0</td>\n",
       "      <td>22696.96</td>\n",
       "      <td>0</td>\n",
       "    </tr>\n",
       "    <tr>\n",
       "      <th>2</th>\n",
       "      <td>77.0</td>\n",
       "      <td>467.66</td>\n",
       "      <td>86.0</td>\n",
       "      <td>21060.45</td>\n",
       "      <td>0</td>\n",
       "    </tr>\n",
       "    <tr>\n",
       "      <th>3</th>\n",
       "      <td>106.0</td>\n",
       "      <td>745.53</td>\n",
       "      <td>81.0</td>\n",
       "      <td>8437.39</td>\n",
       "      <td>1</td>\n",
       "    </tr>\n",
       "    <tr>\n",
       "      <th>4</th>\n",
       "      <td>66.0</td>\n",
       "      <td>418.74</td>\n",
       "      <td>1.0</td>\n",
       "      <td>14502.75</td>\n",
       "      <td>0</td>\n",
       "    </tr>\n",
       "  </tbody>\n",
       "</table>\n",
       "</div>"
      ],
      "text/plain": [
       "   calls  minutes  messages   mb_used  is_ultra\n",
       "0   40.0   311.90      83.0  19915.42         0\n",
       "1   85.0   516.75      56.0  22696.96         0\n",
       "2   77.0   467.66      86.0  21060.45         0\n",
       "3  106.0   745.53      81.0   8437.39         1\n",
       "4   66.0   418.74       1.0  14502.75         0"
      ]
     },
     "execution_count": 2,
     "metadata": {},
     "output_type": "execute_result"
    }
   ],
   "source": [
    "df = pd.read_csv('/datasets/users_behavior.csv')\n",
    "df.head()"
   ]
  },
  {
   "cell_type": "markdown",
   "metadata": {},
   "source": [
    "Изучим информацию о файле:"
   ]
  },
  {
   "cell_type": "code",
   "execution_count": 3,
   "metadata": {},
   "outputs": [
    {
     "name": "stdout",
     "output_type": "stream",
     "text": [
      "<class 'pandas.core.frame.DataFrame'>\n",
      "RangeIndex: 3214 entries, 0 to 3213\n",
      "Data columns (total 5 columns):\n",
      " #   Column    Non-Null Count  Dtype  \n",
      "---  ------    --------------  -----  \n",
      " 0   calls     3214 non-null   float64\n",
      " 1   minutes   3214 non-null   float64\n",
      " 2   messages  3214 non-null   float64\n",
      " 3   mb_used   3214 non-null   float64\n",
      " 4   is_ultra  3214 non-null   int64  \n",
      "dtypes: float64(4), int64(1)\n",
      "memory usage: 125.7 KB\n"
     ]
    }
   ],
   "source": [
    "df.info()"
   ]
  },
  {
   "cell_type": "code",
   "execution_count": 4,
   "metadata": {},
   "outputs": [
    {
     "data": {
      "text/html": [
       "<div>\n",
       "<style scoped>\n",
       "    .dataframe tbody tr th:only-of-type {\n",
       "        vertical-align: middle;\n",
       "    }\n",
       "\n",
       "    .dataframe tbody tr th {\n",
       "        vertical-align: top;\n",
       "    }\n",
       "\n",
       "    .dataframe thead th {\n",
       "        text-align: right;\n",
       "    }\n",
       "</style>\n",
       "<table border=\"1\" class=\"dataframe\">\n",
       "  <thead>\n",
       "    <tr style=\"text-align: right;\">\n",
       "      <th></th>\n",
       "      <th>calls</th>\n",
       "      <th>minutes</th>\n",
       "      <th>messages</th>\n",
       "      <th>mb_used</th>\n",
       "      <th>is_ultra</th>\n",
       "    </tr>\n",
       "  </thead>\n",
       "  <tbody>\n",
       "    <tr>\n",
       "      <th>count</th>\n",
       "      <td>3214.000000</td>\n",
       "      <td>3214.000000</td>\n",
       "      <td>3214.000000</td>\n",
       "      <td>3214.000000</td>\n",
       "      <td>3214.000000</td>\n",
       "    </tr>\n",
       "    <tr>\n",
       "      <th>mean</th>\n",
       "      <td>63.038892</td>\n",
       "      <td>438.208787</td>\n",
       "      <td>38.281269</td>\n",
       "      <td>17207.673836</td>\n",
       "      <td>0.306472</td>\n",
       "    </tr>\n",
       "    <tr>\n",
       "      <th>std</th>\n",
       "      <td>33.236368</td>\n",
       "      <td>234.569872</td>\n",
       "      <td>36.148326</td>\n",
       "      <td>7570.968246</td>\n",
       "      <td>0.461100</td>\n",
       "    </tr>\n",
       "    <tr>\n",
       "      <th>min</th>\n",
       "      <td>0.000000</td>\n",
       "      <td>0.000000</td>\n",
       "      <td>0.000000</td>\n",
       "      <td>0.000000</td>\n",
       "      <td>0.000000</td>\n",
       "    </tr>\n",
       "    <tr>\n",
       "      <th>25%</th>\n",
       "      <td>40.000000</td>\n",
       "      <td>274.575000</td>\n",
       "      <td>9.000000</td>\n",
       "      <td>12491.902500</td>\n",
       "      <td>0.000000</td>\n",
       "    </tr>\n",
       "    <tr>\n",
       "      <th>50%</th>\n",
       "      <td>62.000000</td>\n",
       "      <td>430.600000</td>\n",
       "      <td>30.000000</td>\n",
       "      <td>16943.235000</td>\n",
       "      <td>0.000000</td>\n",
       "    </tr>\n",
       "    <tr>\n",
       "      <th>75%</th>\n",
       "      <td>82.000000</td>\n",
       "      <td>571.927500</td>\n",
       "      <td>57.000000</td>\n",
       "      <td>21424.700000</td>\n",
       "      <td>1.000000</td>\n",
       "    </tr>\n",
       "    <tr>\n",
       "      <th>max</th>\n",
       "      <td>244.000000</td>\n",
       "      <td>1632.060000</td>\n",
       "      <td>224.000000</td>\n",
       "      <td>49745.730000</td>\n",
       "      <td>1.000000</td>\n",
       "    </tr>\n",
       "  </tbody>\n",
       "</table>\n",
       "</div>"
      ],
      "text/plain": [
       "             calls      minutes     messages       mb_used     is_ultra\n",
       "count  3214.000000  3214.000000  3214.000000   3214.000000  3214.000000\n",
       "mean     63.038892   438.208787    38.281269  17207.673836     0.306472\n",
       "std      33.236368   234.569872    36.148326   7570.968246     0.461100\n",
       "min       0.000000     0.000000     0.000000      0.000000     0.000000\n",
       "25%      40.000000   274.575000     9.000000  12491.902500     0.000000\n",
       "50%      62.000000   430.600000    30.000000  16943.235000     0.000000\n",
       "75%      82.000000   571.927500    57.000000  21424.700000     1.000000\n",
       "max     244.000000  1632.060000   224.000000  49745.730000     1.000000"
      ]
     },
     "execution_count": 4,
     "metadata": {},
     "output_type": "execute_result"
    }
   ],
   "source": [
    "df.describe()"
   ]
  },
  {
   "cell_type": "markdown",
   "metadata": {},
   "source": [
    "**Итог:**\n",
    "\n",
    "- Данные состоят из 3214 строк и 5 столбцов.\n",
    "- Предобработка не требуется по условию задания.\n",
    "- Целевым признаком является столбец *is_ultra* (качественный тип данных). \n",
    "- Цель работы - построить модель, которая будет отбирать пользователей, которым стоит предложить сменить тариф на Ультра\n",
    "- Перед нами стоит задача классификации\n",
    "- Так как выборка не очень большая, возможно переобучение."
   ]
  },
  {
   "cell_type": "markdown",
   "metadata": {},
   "source": [
    "## Разбейте данные на выборки"
   ]
  },
  {
   "cell_type": "markdown",
   "metadata": {},
   "source": [
    "**Разделим исходные данные на обучающую, валидационную и тестовую выборки.**\n",
    "\n",
    "Разобьем выборку по принципу 3:1:1. Таким образом получаем:\n",
    "\n",
    "- обучающеая выборка 60%\n",
    "- валидационная выборка 20%\n",
    "- тестовая выборка 20%"
   ]
  },
  {
   "cell_type": "code",
   "execution_count": 5,
   "metadata": {},
   "outputs": [
    {
     "name": "stdout",
     "output_type": "stream",
     "text": [
      "Размер тренериующей выборки: 1928\n",
      "Размер валидационной выборки: 643\n",
      "Размер тестовой выборки: 643\n"
     ]
    }
   ],
   "source": [
    "df_train, df_valid = train_test_split(df, test_size=0.4, random_state=1)\n",
    "df_valid, df_test = train_test_split(df_valid, test_size=0.5, random_state=1)\n",
    "\n",
    "print('Размер тренериующей выборки:', df_train.shape[0])\n",
    "print('Размер валидационной выборки:', df_valid.shape[0])\n",
    "print('Размер тестовой выборки:', df_test.shape[0])"
   ]
  },
  {
   "cell_type": "markdown",
   "metadata": {},
   "source": [
    "*Итого:*\n",
    "- Обучение пройдет на данных *df_train*\n",
    "- Валидация модели на данных *df_valid*\n",
    "<br>Лучшая модель по валидации будет применена на данных *df_test*"
   ]
  },
  {
   "cell_type": "markdown",
   "metadata": {},
   "source": [
    "## Исследуйте модели"
   ]
  },
  {
   "cell_type": "markdown",
   "metadata": {},
   "source": [
    "**Исследуем качество разных моделей, меняя гиперпараметры.**"
   ]
  },
  {
   "cell_type": "markdown",
   "metadata": {},
   "source": [
    "Сформируем три модели:\n",
    "* дерево решений;\n",
    "* случайный лес;\n",
    "* логическая регрессия.\n",
    "\n",
    "На базе обучающей, целевой и тестовой выборок формируем датасеты признаков и serias целевого признака *is_ultra*. Выведем для проверки:"
   ]
  },
  {
   "cell_type": "code",
   "execution_count": 6,
   "metadata": {},
   "outputs": [
    {
     "data": {
      "text/html": [
       "<div>\n",
       "<style scoped>\n",
       "    .dataframe tbody tr th:only-of-type {\n",
       "        vertical-align: middle;\n",
       "    }\n",
       "\n",
       "    .dataframe tbody tr th {\n",
       "        vertical-align: top;\n",
       "    }\n",
       "\n",
       "    .dataframe thead th {\n",
       "        text-align: right;\n",
       "    }\n",
       "</style>\n",
       "<table border=\"1\" class=\"dataframe\">\n",
       "  <thead>\n",
       "    <tr style=\"text-align: right;\">\n",
       "      <th></th>\n",
       "      <th>calls</th>\n",
       "      <th>minutes</th>\n",
       "      <th>messages</th>\n",
       "      <th>mb_used</th>\n",
       "    </tr>\n",
       "  </thead>\n",
       "  <tbody>\n",
       "    <tr>\n",
       "      <th>1587</th>\n",
       "      <td>53.0</td>\n",
       "      <td>376.78</td>\n",
       "      <td>44.0</td>\n",
       "      <td>17334.12</td>\n",
       "    </tr>\n",
       "    <tr>\n",
       "      <th>11</th>\n",
       "      <td>45.0</td>\n",
       "      <td>344.32</td>\n",
       "      <td>13.0</td>\n",
       "      <td>19898.81</td>\n",
       "    </tr>\n",
       "    <tr>\n",
       "      <th>353</th>\n",
       "      <td>68.0</td>\n",
       "      <td>493.00</td>\n",
       "      <td>29.0</td>\n",
       "      <td>20021.73</td>\n",
       "    </tr>\n",
       "    <tr>\n",
       "      <th>350</th>\n",
       "      <td>65.0</td>\n",
       "      <td>423.06</td>\n",
       "      <td>40.0</td>\n",
       "      <td>18625.97</td>\n",
       "    </tr>\n",
       "    <tr>\n",
       "      <th>2708</th>\n",
       "      <td>45.0</td>\n",
       "      <td>296.26</td>\n",
       "      <td>75.0</td>\n",
       "      <td>13121.85</td>\n",
       "    </tr>\n",
       "  </tbody>\n",
       "</table>\n",
       "</div>"
      ],
      "text/plain": [
       "      calls  minutes  messages   mb_used\n",
       "1587   53.0   376.78      44.0  17334.12\n",
       "11     45.0   344.32      13.0  19898.81\n",
       "353    68.0   493.00      29.0  20021.73\n",
       "350    65.0   423.06      40.0  18625.97\n",
       "2708   45.0   296.26      75.0  13121.85"
      ]
     },
     "execution_count": 6,
     "metadata": {},
     "output_type": "execute_result"
    }
   ],
   "source": [
    "features_train = df_train.drop(['is_ultra'], axis=1)\n",
    "target_train = df_train['is_ultra']\n",
    "\n",
    "features_valid = df_valid.drop(['is_ultra'], axis=1)\n",
    "target_valid = df_valid['is_ultra']\n",
    "\n",
    "features_test = df_test.drop(['is_ultra'], axis=1)\n",
    "target_test = df_test['is_ultra']\n",
    "\n",
    "\n",
    "features_train.head()"
   ]
  },
  {
   "cell_type": "markdown",
   "metadata": {},
   "source": [
    "**Модель \"Дерево решений\"**"
   ]
  },
  {
   "cell_type": "markdown",
   "metadata": {},
   "source": [
    "Самый важный гиперпараметр  дерева — max_depth. Перебираем разные значения параметра и сравнить качество моделей в разных вариантах. "
   ]
  },
  {
   "cell_type": "code",
   "execution_count": 7,
   "metadata": {},
   "outputs": [
    {
     "name": "stdout",
     "output_type": "stream",
     "text": [
      "При max_depth:  1 accuracy = 0.71850699844479\n",
      "При max_depth:  2 accuracy = 0.7558320373250389\n",
      "При max_depth:  3 accuracy = 0.7713841368584758\n",
      "При max_depth:  4 accuracy = 0.7667185069984448\n",
      "При max_depth:  5 accuracy = 0.7698289269051322\n",
      "При max_depth:  6 accuracy = 0.7682737169517885\n",
      "При max_depth:  7 accuracy = 0.7791601866251944\n",
      "При max_depth:  8 accuracy = 0.7838258164852255\n",
      "При max_depth:  9 accuracy = 0.7947122861586314\n",
      "При max_depth:  10 accuracy = 0.7822706065318819\n",
      "При max_depth:  11 accuracy = 0.7884914463452566\n",
      "При max_depth:  12 accuracy = 0.7853810264385692\n",
      "При max_depth:  13 accuracy = 0.7884914463452566\n",
      "При max_depth:  14 accuracy = 0.7713841368584758\n",
      "При max_depth:  15 accuracy = 0.7744945567651633\n",
      "При max_depth:  16 accuracy = 0.7822706065318819\n",
      "При max_depth:  17 accuracy = 0.7682737169517885\n",
      "При max_depth:  18 accuracy = 0.7527216174183515\n",
      "При max_depth:  19 accuracy = 0.7418351477449455\n",
      "\n",
      "Наибольшая точность выборки: accuracy = 0.7947122861586314, при max_depth = 9\n"
     ]
    }
   ],
   "source": [
    "best_model_three = None\n",
    "best_result_three = 0\n",
    "depth_best= 0\n",
    "for depth in range(1, 20):\n",
    "    model_tree=DecisionTreeClassifier(random_state=12345, max_depth=depth) \n",
    "    model_tree.fit(features_train,target_train) \n",
    "    prediction_tree=model_tree.predict(features_valid)\n",
    "    result_three = accuracy_score(prediction_tree,target_valid)\n",
    "    print('При max_depth: ', depth, 'accuracy =', result_three)\n",
    "\n",
    "    if result_three > best_result_three:\n",
    "        depth_best= depth\n",
    "        best_model_three = model_tree \n",
    "        best_result_three = result_three \n",
    "print()\n",
    "print('Наибольшая точность выборки: accuracy =', best_result_three, end='')\n",
    "print(', при max_depth =', depth_best )"
   ]
  },
  {
   "cell_type": "markdown",
   "metadata": {},
   "source": [
    "В данной модели полученная accuracy удовлетворяет поставленному условию."
   ]
  },
  {
   "cell_type": "markdown",
   "metadata": {},
   "source": [
    "**Модель \"Случайный лес\"**\n",
    "\n",
    "Значения взяла больше, чем в DecisionTree, а max_depth использовала равный 9 как наименьший лучший показатель в дереве решений."
   ]
  },
  {
   "cell_type": "code",
   "execution_count": 8,
   "metadata": {},
   "outputs": [
    {
     "name": "stdout",
     "output_type": "stream",
     "text": [
      "При n_estimators:  1 результат = 0.7558320373250389\n",
      "При n_estimators:  2 результат = 0.7480559875583204\n",
      "При n_estimators:  3 результат = 0.7776049766718507\n",
      "При n_estimators:  4 результат = 0.7651632970451011\n",
      "При n_estimators:  5 результат = 0.7791601866251944\n",
      "При n_estimators:  6 результат = 0.7698289269051322\n",
      "При n_estimators:  7 результат = 0.7853810264385692\n",
      "При n_estimators:  8 результат = 0.7838258164852255\n",
      "При n_estimators:  9 результат = 0.7822706065318819\n",
      "При n_estimators:  10 результат = 0.7807153965785381\n",
      "При n_estimators:  11 результат = 0.7916018662519441\n",
      "При n_estimators:  12 результат = 0.7900466562986003\n",
      "При n_estimators:  13 результат = 0.7853810264385692\n",
      "При n_estimators:  14 результат = 0.7853810264385692\n",
      "При n_estimators:  15 результат = 0.7869362363919129\n",
      "При n_estimators:  16 результат = 0.7822706065318819\n",
      "При n_estimators:  17 результат = 0.7822706065318819\n",
      "При n_estimators:  18 результат = 0.7853810264385692\n",
      "При n_estimators:  19 результат = 0.7807153965785381\n",
      "При n_estimators:  20 результат = 0.7838258164852255\n",
      "При n_estimators:  21 результат = 0.7838258164852255\n",
      "При n_estimators:  22 результат = 0.7807153965785381\n",
      "При n_estimators:  23 результат = 0.7807153965785381\n",
      "При n_estimators:  24 результат = 0.7807153965785381\n",
      "При n_estimators:  25 результат = 0.7807153965785381\n",
      "При n_estimators:  26 результат = 0.7791601866251944\n",
      "При n_estimators:  27 результат = 0.7791601866251944\n",
      "При n_estimators:  28 результат = 0.7807153965785381\n",
      "При n_estimators:  29 результат = 0.7822706065318819\n",
      "При n_estimators:  30 результат = 0.7807153965785381\n",
      "При n_estimators:  31 результат = 0.7791601866251944\n",
      "При n_estimators:  32 результат = 0.7791601866251944\n",
      "При n_estimators:  33 результат = 0.7744945567651633\n",
      "При n_estimators:  34 результат = 0.7822706065318819\n",
      "При n_estimators:  35 результат = 0.776049766718507\n",
      "При n_estimators:  36 результат = 0.7807153965785381\n",
      "При n_estimators:  37 результат = 0.7776049766718507\n",
      "При n_estimators:  38 результат = 0.7807153965785381\n",
      "При n_estimators:  39 результат = 0.7838258164852255\n",
      "При значении n_estimators =  11 ; лучший результат:  0.7916018662519441\n"
     ]
    }
   ],
   "source": [
    "best_model_forest = None\n",
    "best_result_forest = 0\n",
    "est_best = 0\n",
    "\n",
    "\n",
    "for est in range(1, 40 ):\n",
    "    model_forest = RandomForestClassifier(random_state=12345, n_estimators=est,  max_depth=9) \n",
    "    model_forest.fit(features_train,target_train) \n",
    "    result_forest = model_forest.score(features_valid, target_valid)\n",
    "    print('При n_estimators: ', est, 'результат =', result_forest)\n",
    "    if result_forest > best_result_forest:\n",
    "        est_best = est\n",
    "        best_model_forest = model_forest \n",
    "        best_result_forest = result_forest \n",
    "\n",
    "print(\"При значении n_estimators = \", est_best, \"; лучший результат: \", best_result_forest )"
   ]
  },
  {
   "cell_type": "markdown",
   "metadata": {},
   "source": [
    "**Логистическая регрессия.**\n",
    "\n",
    "Так как для данной модели есть несколько разных вариантов параметров, из которых по умолчанию может использоваться один. Создадим функцию для испытания всех параметров, вдруг, при установленном нестандартном будет выходить лучшее решение."
   ]
  },
  {
   "cell_type": "code",
   "execution_count": 9,
   "metadata": {},
   "outputs": [
    {
     "name": "stdout",
     "output_type": "stream",
     "text": [
      "newton-cg :  0.7200622083981337\n",
      "lbfgs :  0.7200622083981337\n",
      "liblinear :  0.6889580093312597\n",
      "sag :  0.6640746500777605\n",
      "saga :  0.6640746500777605\n"
     ]
    }
   ],
   "source": [
    "#скорее всего, что-то не то делаю, но пусть будет\n",
    "def df_accuracy_score(model):\n",
    "    predictions_valid = model.predict(features_valid)\n",
    "    return accuracy_score(target_valid, predictions_valid)\n",
    "\n",
    "solvers = ['newton-cg', 'lbfgs', 'liblinear', 'sag', 'saga']\n",
    "def logistic_regression(solver=solvers):\n",
    "    model = LogisticRegression(solver=solver, random_state=1)\n",
    "    model.fit(features_train, target_train)\n",
    "    return df_accuracy_score(model)\n",
    "\n",
    "for solver in solvers:\n",
    "    print(solver, ': ', logistic_regression(solver=solver))"
   ]
  },
  {
   "cell_type": "markdown",
   "metadata": {},
   "source": [
    "Лучший результат дают параметры newton-cg и lbfgs, самые распространеные и идущие по умолчанию."
   ]
  },
  {
   "cell_type": "code",
   "execution_count": 10,
   "metadata": {},
   "outputs": [
    {
     "name": "stdout",
     "output_type": "stream",
     "text": [
      "Accuracy модели логистической регрессии на валидационной выборке: 0.7200622083981337\n"
     ]
    }
   ],
   "source": [
    "model_log = LogisticRegression(random_state=12345, solver='lbfgs')\n",
    "model_log.fit(features_train,target_train) \n",
    "result_log = model_log.score(features_valid,target_valid) \n",
    "\n",
    "print(\"Accuracy модели логистической регрессии на валидационной выборке:\", result_log)"
   ]
  },
  {
   "cell_type": "markdown",
   "metadata": {},
   "source": [
    "Сравним полученные пезультаты: "
   ]
  },
  {
   "cell_type": "code",
   "execution_count": 11,
   "metadata": {},
   "outputs": [
    {
     "name": "stdout",
     "output_type": "stream",
     "text": [
      "Модель \"Дерево решений\":\n",
      "Наибольшая точность выборки: accuracy = 0.7947122861586314 , при max_depth = 9\n",
      "\n",
      "Модель \"Случайный лес\":\n",
      "При значении n_estimators =  11 ; лучший результат:  0.7916018662519441\n",
      "\n",
      "Логистическая регрессия:\n",
      "Accuracy модели логистической регрессии на валидационной выборке: 0.7200622083981337\n",
      "\n"
     ]
    }
   ],
   "source": [
    "print('Модель \"Дерево решений\":')\n",
    "print('Наибольшая точность выборки: accuracy =', best_result_three, ', при max_depth =', depth_best, end='\\n\\n')\n",
    "\n",
    "print('Модель \"Случайный лес\":')\n",
    "print(\"При значении n_estimators = \", est_best, \"; лучший результат: \", best_result_forest, end='\\n\\n' )\n",
    "print('Логистическая регрессия:')\n",
    "print(\"Accuracy модели логистической регрессии на валидационной выборке:\", result_log, end='\\n\\n')"
   ]
  },
  {
   "cell_type": "markdown",
   "metadata": {},
   "source": [
    "**Вывод:** исходя из полученных данных, лучший результат вышел у модели \"Дерево решений\". "
   ]
  },
  {
   "cell_type": "markdown",
   "metadata": {},
   "source": [
    "## Проверьте модель на тестовой выборке"
   ]
  },
  {
   "cell_type": "markdown",
   "metadata": {},
   "source": [
    "**\"Дерево решений\"**"
   ]
  },
  {
   "cell_type": "code",
   "execution_count": 12,
   "metadata": {},
   "outputs": [
    {
     "name": "stdout",
     "output_type": "stream",
     "text": [
      "0.7853810264385692\n"
     ]
    }
   ],
   "source": [
    "model_tree=DecisionTreeClassifier(random_state=12345, max_depth=9)  #, min_samples_leaf=1, min_samples_split= 3\n",
    "model_tree.fit(features_train, target_train)\n",
    "accuracy_tree=model_tree.score(features_test, target_test)\n",
    "print(accuracy_tree)"
   ]
  },
  {
   "cell_type": "markdown",
   "metadata": {},
   "source": [
    "**\"Случайный лес\"**"
   ]
  },
  {
   "cell_type": "code",
   "execution_count": 13,
   "metadata": {},
   "outputs": [
    {
     "name": "stdout",
     "output_type": "stream",
     "text": [
      "0.8087091757387247\n"
     ]
    }
   ],
   "source": [
    "model_forest=RandomForestClassifier(random_state=12345, max_depth=9)\n",
    "model_forest.fit(features_train, target_train)\n",
    "accuracy_forest=model_forest.score(features_test, target_test)\n",
    "print(accuracy_forest)"
   ]
  },
  {
   "cell_type": "markdown",
   "metadata": {},
   "source": [
    "**Логистическая регрессия**"
   ]
  },
  {
   "cell_type": "code",
   "execution_count": 14,
   "metadata": {},
   "outputs": [
    {
     "name": "stdout",
     "output_type": "stream",
     "text": [
      "0.7558320373250389\n"
     ]
    }
   ],
   "source": [
    "model_log=LogisticRegression(random_state=12345)\n",
    "model_log.fit(features_train, target_train)\n",
    "accuracy_log=model_log.score(features_test, target_test)\n",
    "print(accuracy_log)"
   ]
  },
  {
   "cell_type": "markdown",
   "metadata": {},
   "source": [
    "**Вывод:** при проверке модели на тестовой выборке лучший результат у \"случайного леса\". Исходя из полученного значения, можно сказать, что с вероятностью 80% мы получим правильный результат. \n",
    "<br>Эта модель склонна к переобучению, ее лучше использовать на небольших выборках. В данном случае вероятность переобучения низкая, т к разница между результатами с тестовой и валидационной выборками небольшой."
   ]
  },
  {
   "cell_type": "markdown",
   "metadata": {},
   "source": [
    "## (бонус) Проверьте модели на адекватность"
   ]
  },
  {
   "cell_type": "markdown",
   "metadata": {},
   "source": [
    "*1-й способ:*\n",
    "\n",
    "Оценим адекватность модели с помощью  DummyClassifier, для которого выбрала стратегию stratified, при которой гененрируется  случайный прогноз с учетом распределения классов обучающего набора:"
   ]
  },
  {
   "cell_type": "code",
   "execution_count": 15,
   "metadata": {},
   "outputs": [
    {
     "name": "stdout",
     "output_type": "stream",
     "text": [
      "0.6049766718506998\n"
     ]
    }
   ],
   "source": [
    "#class sklearn.dummy.DummyClassifier(*, strategy='prior', random_state=None, constant=None)\n",
    "clf = DummyClassifier(strategy='stratified', random_state=0)\n",
    "clf.fit(features_train, target_train)\n",
    "DummyClassifier(random_state=0, strategy='stratified')\n",
    "results=clf.score(features_test, target_test)\n",
    "\n",
    "print(results)"
   ]
  },
  {
   "cell_type": "code",
   "execution_count": 16,
   "metadata": {},
   "outputs": [
    {
     "name": "stdout",
     "output_type": "stream",
     "text": [
      "0.6936236391912908\n"
     ]
    }
   ],
   "source": [
    "#class sklearn.dummy.DummyClassifier(*, strategy='prior', random_state=None, constant=None)\n",
    "clf = DummyClassifier(strategy='most_frequent', random_state=0)\n",
    "clf.fit(features_train, target_train)\n",
    "DummyClassifier(random_state=0, strategy='most_frequent')\n",
    "results=clf.score(features_test, target_test)\n",
    "\n",
    "print(results)"
   ]
  },
  {
   "cell_type": "markdown",
   "metadata": {},
   "source": [
    "*2-й способ* - подсчетом большего класса в исходном файле:"
   ]
  },
  {
   "cell_type": "code",
   "execution_count": 17,
   "metadata": {},
   "outputs": [
    {
     "data": {
      "text/plain": [
       "0    0.693528\n",
       "1    0.306472\n",
       "Name: is_ultra, dtype: float64"
      ]
     },
     "execution_count": 17,
     "metadata": {},
     "output_type": "execute_result"
    }
   ],
   "source": [
    "df['is_ultra'].value_counts(normalize=True)"
   ]
  },
  {
   "cell_type": "markdown",
   "metadata": {},
   "source": [
    "**Итого:**\n",
    "* результат DummyClassifier-а - 0.69362\n",
    "* Доля большего класса тестовой выборки равна ~0.69 (Смарт)\n",
    "<br>С учетом того, что полученная нами модель имеет accuracy ~0.80, т е выше, чем в двух вариантах выше, мы можем считать получившуюся у нас модель адекватной для использования."
   ]
  },
  {
   "cell_type": "markdown",
   "metadata": {},
   "source": [
    "## Общий вывод\n",
    "\n",
    "В ходе проделанной работы было выполнено:\n",
    "- Изучен файл с данными.\n",
    "- Разбиты данные на три выборки: обучающая, валидационная и тестовая.\n",
    "- Исследованы три модели классификации: Решающее дерево, Случайный лес и Логистическая регрессия.\n",
    "- Найдены оптимальные параметры для каждой модели и выбрана одна из них для обучения модели.\n",
    "- Оценена точность обученной модели.\n",
    "- Оценена адекватность модели.\n"
   ]
  }
 ],
 "metadata": {
  "ExecuteTimeLog": [
   {
    "duration": 1566,
    "start_time": "2022-05-10T17:25:32.461Z"
   },
   {
    "duration": 35,
    "start_time": "2022-05-10T17:26:24.424Z"
   },
   {
    "duration": 12,
    "start_time": "2022-05-10T17:27:16.957Z"
   },
   {
    "duration": 24,
    "start_time": "2022-05-10T17:27:32.424Z"
   },
   {
    "duration": 8,
    "start_time": "2022-05-10T17:29:09.577Z"
   },
   {
    "duration": 6,
    "start_time": "2022-05-10T17:30:36.786Z"
   },
   {
    "duration": 13,
    "start_time": "2022-05-10T17:31:40.449Z"
   },
   {
    "duration": 109,
    "start_time": "2022-05-10T17:32:20.945Z"
   },
   {
    "duration": 36,
    "start_time": "2022-05-10T17:32:34.399Z"
   },
   {
    "duration": 11,
    "start_time": "2022-05-10T17:32:58.253Z"
   },
   {
    "duration": 1541,
    "start_time": "2022-05-10T17:33:40.526Z"
   },
   {
    "duration": 32,
    "start_time": "2022-05-10T17:35:23.271Z"
   },
   {
    "duration": 105,
    "start_time": "2022-05-10T17:37:39.657Z"
   },
   {
    "duration": 60,
    "start_time": "2022-05-10T17:37:50.153Z"
   },
   {
    "duration": 32,
    "start_time": "2022-05-10T17:39:03.679Z"
   },
   {
    "duration": 61,
    "start_time": "2022-05-10T17:39:34.106Z"
   },
   {
    "duration": 18,
    "start_time": "2022-05-10T17:39:44.198Z"
   },
   {
    "duration": 38,
    "start_time": "2022-05-10T17:39:58.081Z"
   },
   {
    "duration": 1926,
    "start_time": "2022-05-10T17:40:15.654Z"
   },
   {
    "duration": 36,
    "start_time": "2022-05-10T17:46:45.674Z"
   },
   {
    "duration": 65,
    "start_time": "2022-05-10T17:46:56.253Z"
   },
   {
    "duration": 177,
    "start_time": "2022-05-10T17:47:08.301Z"
   },
   {
    "duration": 185,
    "start_time": "2022-05-10T17:49:13.415Z"
   },
   {
    "duration": 183,
    "start_time": "2022-05-10T17:49:23.528Z"
   },
   {
    "duration": 176,
    "start_time": "2022-05-10T17:49:39.046Z"
   },
   {
    "duration": 1388,
    "start_time": "2022-05-10T17:50:50.838Z"
   },
   {
    "duration": 1927,
    "start_time": "2022-05-10T17:51:09.279Z"
   },
   {
    "duration": 1566,
    "start_time": "2022-05-10T17:52:03.799Z"
   },
   {
    "duration": 1489,
    "start_time": "2022-05-10T17:54:35.122Z"
   },
   {
    "duration": 1715,
    "start_time": "2022-05-10T17:55:10.018Z"
   },
   {
    "duration": 1513,
    "start_time": "2022-05-10T17:56:22.883Z"
   },
   {
    "duration": 1898,
    "start_time": "2022-05-10T17:56:31.369Z"
   },
   {
    "duration": 369,
    "start_time": "2022-05-10T17:57:10.203Z"
   },
   {
    "duration": 705,
    "start_time": "2022-05-10T17:57:26.507Z"
   },
   {
    "duration": 908,
    "start_time": "2022-05-10T17:57:48.656Z"
   },
   {
    "duration": 31,
    "start_time": "2022-05-10T17:58:54.277Z"
   },
   {
    "duration": 332,
    "start_time": "2022-05-10T18:09:57.726Z"
   },
   {
    "duration": 173,
    "start_time": "2022-05-10T18:10:18.582Z"
   },
   {
    "duration": 872,
    "start_time": "2022-05-10T18:10:43.138Z"
   },
   {
    "duration": 1490,
    "start_time": "2022-05-10T18:10:55.322Z"
   },
   {
    "duration": 702,
    "start_time": "2022-05-10T18:11:23.721Z"
   },
   {
    "duration": 3,
    "start_time": "2022-05-10T18:14:50.586Z"
   },
   {
    "duration": 119,
    "start_time": "2022-05-10T18:15:20.725Z"
   },
   {
    "duration": 109,
    "start_time": "2022-05-10T18:15:47.438Z"
   },
   {
    "duration": 185,
    "start_time": "2022-05-10T18:19:34.581Z"
   },
   {
    "duration": 166,
    "start_time": "2022-05-10T18:20:37.806Z"
   },
   {
    "duration": 30,
    "start_time": "2022-05-10T18:20:45.557Z"
   },
   {
    "duration": 6,
    "start_time": "2022-05-10T18:24:30.377Z"
   },
   {
    "duration": 5,
    "start_time": "2022-05-10T18:26:39.057Z"
   },
   {
    "duration": 5,
    "start_time": "2022-05-10T18:26:44.954Z"
   },
   {
    "duration": 176,
    "start_time": "2022-05-10T18:27:00.363Z"
   },
   {
    "duration": 6,
    "start_time": "2022-05-10T18:27:11.595Z"
   },
   {
    "duration": 6,
    "start_time": "2022-05-10T18:27:52.166Z"
   },
   {
    "duration": 726,
    "start_time": "2022-05-10T18:28:47.369Z"
   },
   {
    "duration": 2760,
    "start_time": "2022-05-10T18:30:06.196Z"
   },
   {
    "duration": 32,
    "start_time": "2022-05-10T18:31:44.415Z"
   },
   {
    "duration": 12,
    "start_time": "2022-05-10T18:34:38.691Z"
   },
   {
    "duration": 16,
    "start_time": "2022-05-10T18:35:35.913Z"
   },
   {
    "duration": 14,
    "start_time": "2022-05-10T18:36:12.572Z"
   },
   {
    "duration": 331,
    "start_time": "2022-05-10T18:36:52.918Z"
   },
   {
    "duration": 354,
    "start_time": "2022-05-10T18:37:08.665Z"
   },
   {
    "duration": 369,
    "start_time": "2022-05-10T18:37:34.498Z"
   },
   {
    "duration": 355,
    "start_time": "2022-05-10T18:39:09.775Z"
   },
   {
    "duration": 383,
    "start_time": "2022-05-10T18:39:14.902Z"
   },
   {
    "duration": 49,
    "start_time": "2022-05-10T18:39:19.732Z"
   },
   {
    "duration": 294,
    "start_time": "2022-05-10T18:39:30.586Z"
   },
   {
    "duration": 842,
    "start_time": "2022-05-10T18:39:50.689Z"
   },
   {
    "duration": 221,
    "start_time": "2022-05-10T18:39:51.611Z"
   },
   {
    "duration": 49,
    "start_time": "2022-05-10T18:39:52.119Z"
   },
   {
    "duration": 7,
    "start_time": "2022-05-10T18:39:52.552Z"
   },
   {
    "duration": 16,
    "start_time": "2022-05-10T18:39:53.816Z"
   },
   {
    "duration": 377,
    "start_time": "2022-05-10T18:39:54.056Z"
   },
   {
    "duration": 36,
    "start_time": "2022-05-10T18:39:54.438Z"
   },
   {
    "duration": 2716,
    "start_time": "2022-05-10T18:40:04.674Z"
   },
   {
    "duration": 191,
    "start_time": "2022-05-10T18:40:07.392Z"
   },
   {
    "duration": 48,
    "start_time": "2022-05-10T18:40:07.585Z"
   },
   {
    "duration": 6,
    "start_time": "2022-05-10T18:40:07.636Z"
   },
   {
    "duration": 13,
    "start_time": "2022-05-10T18:40:07.895Z"
   },
   {
    "duration": 369,
    "start_time": "2022-05-10T18:40:08.041Z"
   },
   {
    "duration": 61,
    "start_time": "2022-05-10T18:40:08.412Z"
   },
   {
    "duration": 32,
    "start_time": "2022-05-10T18:41:39.865Z"
   },
   {
    "duration": 10,
    "start_time": "2022-05-10T18:44:58.233Z"
   },
   {
    "duration": 5,
    "start_time": "2022-05-10T18:45:27.468Z"
   },
   {
    "duration": 11,
    "start_time": "2022-05-10T18:45:38.650Z"
   },
   {
    "duration": 2220,
    "start_time": "2022-05-10T18:50:09.594Z"
   },
   {
    "duration": 761,
    "start_time": "2022-05-10T18:50:11.817Z"
   },
   {
    "duration": 16,
    "start_time": "2022-05-10T18:50:12.579Z"
   },
   {
    "duration": 43,
    "start_time": "2022-05-10T18:50:12.598Z"
   },
   {
    "duration": 11,
    "start_time": "2022-05-10T18:50:12.645Z"
   },
   {
    "duration": 23,
    "start_time": "2022-05-10T18:50:12.658Z"
   },
   {
    "duration": 215,
    "start_time": "2022-05-10T18:50:12.683Z"
   },
   {
    "duration": 2858,
    "start_time": "2022-05-10T18:50:12.899Z"
   },
   {
    "duration": 201,
    "start_time": "2022-05-10T18:50:15.759Z"
   },
   {
    "duration": 39,
    "start_time": "2022-05-10T18:50:15.964Z"
   },
   {
    "duration": 22,
    "start_time": "2022-05-10T18:50:16.005Z"
   },
   {
    "duration": 15,
    "start_time": "2022-05-10T18:50:16.030Z"
   },
   {
    "duration": 349,
    "start_time": "2022-05-10T18:50:16.047Z"
   },
   {
    "duration": 46,
    "start_time": "2022-05-10T18:50:16.398Z"
   },
   {
    "duration": 10,
    "start_time": "2022-05-10T18:50:16.446Z"
   },
   {
    "duration": 1263,
    "start_time": "2022-05-10T18:57:08.349Z"
   },
   {
    "duration": 35,
    "start_time": "2022-05-10T18:57:09.614Z"
   },
   {
    "duration": 14,
    "start_time": "2022-05-10T18:57:09.651Z"
   },
   {
    "duration": 24,
    "start_time": "2022-05-10T18:57:09.667Z"
   },
   {
    "duration": 30,
    "start_time": "2022-05-10T18:57:09.695Z"
   },
   {
    "duration": 14,
    "start_time": "2022-05-10T18:57:09.727Z"
   },
   {
    "duration": 216,
    "start_time": "2022-05-10T18:57:09.743Z"
   },
   {
    "duration": 2786,
    "start_time": "2022-05-10T18:57:09.961Z"
   },
   {
    "duration": 203,
    "start_time": "2022-05-10T18:57:12.749Z"
   },
   {
    "duration": 33,
    "start_time": "2022-05-10T18:57:12.953Z"
   },
   {
    "duration": 6,
    "start_time": "2022-05-10T18:57:12.988Z"
   },
   {
    "duration": 40,
    "start_time": "2022-05-10T18:57:12.996Z"
   },
   {
    "duration": 340,
    "start_time": "2022-05-10T18:57:13.038Z"
   },
   {
    "duration": 43,
    "start_time": "2022-05-10T18:57:13.381Z"
   },
   {
    "duration": 10,
    "start_time": "2022-05-10T18:57:13.426Z"
   },
   {
    "duration": 15,
    "start_time": "2022-05-10T19:00:51.337Z"
   },
   {
    "duration": 459,
    "start_time": "2022-05-10T19:01:24.543Z"
   },
   {
    "duration": 48,
    "start_time": "2022-05-10T19:01:53.083Z"
   },
   {
    "duration": 7,
    "start_time": "2022-05-10T19:06:51.135Z"
   },
   {
    "duration": 1234,
    "start_time": "2022-05-10T19:25:16.778Z"
   },
   {
    "duration": 41,
    "start_time": "2022-05-10T19:25:18.014Z"
   },
   {
    "duration": 14,
    "start_time": "2022-05-10T19:25:18.060Z"
   },
   {
    "duration": 33,
    "start_time": "2022-05-10T19:25:18.078Z"
   },
   {
    "duration": 14,
    "start_time": "2022-05-10T19:25:18.114Z"
   },
   {
    "duration": 24,
    "start_time": "2022-05-10T19:25:18.130Z"
   },
   {
    "duration": 214,
    "start_time": "2022-05-10T19:25:18.156Z"
   },
   {
    "duration": 2767,
    "start_time": "2022-05-10T19:25:18.371Z"
   },
   {
    "duration": 210,
    "start_time": "2022-05-10T19:25:21.141Z"
   },
   {
    "duration": 33,
    "start_time": "2022-05-10T19:25:21.353Z"
   },
   {
    "duration": 6,
    "start_time": "2022-05-10T19:25:21.388Z"
   },
   {
    "duration": 47,
    "start_time": "2022-05-10T19:25:21.396Z"
   },
   {
    "duration": 321,
    "start_time": "2022-05-10T19:25:21.446Z"
   },
   {
    "duration": 31,
    "start_time": "2022-05-10T19:25:21.769Z"
   },
   {
    "duration": 164,
    "start_time": "2022-05-10T19:25:21.802Z"
   },
   {
    "duration": 0,
    "start_time": "2022-05-10T19:25:21.968Z"
   },
   {
    "duration": 171,
    "start_time": "2022-05-10T19:29:58.380Z"
   },
   {
    "duration": 6,
    "start_time": "2022-05-10T19:30:20.745Z"
   },
   {
    "duration": 403,
    "start_time": "2022-05-10T19:31:39.794Z"
   },
   {
    "duration": 321,
    "start_time": "2022-05-10T19:31:46.083Z"
   },
   {
    "duration": 9,
    "start_time": "2022-05-10T19:34:05.468Z"
   },
   {
    "duration": 1411,
    "start_time": "2022-05-10T19:40:04.771Z"
   },
   {
    "duration": 34,
    "start_time": "2022-05-10T19:40:06.184Z"
   },
   {
    "duration": 14,
    "start_time": "2022-05-10T19:40:06.221Z"
   },
   {
    "duration": 33,
    "start_time": "2022-05-10T19:40:06.237Z"
   },
   {
    "duration": 11,
    "start_time": "2022-05-10T19:40:06.272Z"
   },
   {
    "duration": 47,
    "start_time": "2022-05-10T19:40:06.285Z"
   },
   {
    "duration": 245,
    "start_time": "2022-05-10T19:40:06.335Z"
   },
   {
    "duration": 2890,
    "start_time": "2022-05-10T19:40:06.582Z"
   },
   {
    "duration": 215,
    "start_time": "2022-05-10T19:40:09.474Z"
   },
   {
    "duration": 49,
    "start_time": "2022-05-10T19:40:09.693Z"
   },
   {
    "duration": 6,
    "start_time": "2022-05-10T19:40:09.744Z"
   },
   {
    "duration": 15,
    "start_time": "2022-05-10T19:40:09.752Z"
   },
   {
    "duration": 367,
    "start_time": "2022-05-10T19:40:09.769Z"
   },
   {
    "duration": 33,
    "start_time": "2022-05-10T19:40:10.138Z"
   },
   {
    "duration": 6,
    "start_time": "2022-05-10T19:40:10.173Z"
   },
   {
    "duration": 18,
    "start_time": "2022-05-10T19:40:10.181Z"
   },
   {
    "duration": 4,
    "start_time": "2022-05-10T20:14:16.688Z"
   },
   {
    "duration": 6,
    "start_time": "2022-05-10T20:15:49.739Z"
   },
   {
    "duration": 1914,
    "start_time": "2022-05-10T20:19:19.093Z"
   },
   {
    "duration": 50,
    "start_time": "2022-05-10T20:19:21.010Z"
   },
   {
    "duration": 14,
    "start_time": "2022-05-10T20:19:21.061Z"
   },
   {
    "duration": 40,
    "start_time": "2022-05-10T20:19:21.077Z"
   },
   {
    "duration": 14,
    "start_time": "2022-05-10T20:19:21.119Z"
   },
   {
    "duration": 31,
    "start_time": "2022-05-10T20:19:21.137Z"
   },
   {
    "duration": 230,
    "start_time": "2022-05-10T20:19:21.170Z"
   },
   {
    "duration": 3428,
    "start_time": "2022-05-10T20:19:21.402Z"
   },
   {
    "duration": 256,
    "start_time": "2022-05-10T20:19:24.832Z"
   },
   {
    "duration": 36,
    "start_time": "2022-05-10T20:19:25.090Z"
   },
   {
    "duration": 8,
    "start_time": "2022-05-10T20:19:25.128Z"
   },
   {
    "duration": 29,
    "start_time": "2022-05-10T20:19:25.138Z"
   },
   {
    "duration": 373,
    "start_time": "2022-05-10T20:19:25.168Z"
   },
   {
    "duration": 35,
    "start_time": "2022-05-10T20:19:25.547Z"
   },
   {
    "duration": 6,
    "start_time": "2022-05-10T20:19:25.584Z"
   },
   {
    "duration": 14,
    "start_time": "2022-05-10T20:19:25.591Z"
   },
   {
    "duration": 22,
    "start_time": "2022-05-10T20:19:25.628Z"
   },
   {
    "duration": 191,
    "start_time": "2022-05-10T20:19:25.652Z"
   },
   {
    "duration": 191,
    "start_time": "2022-05-10T21:12:30.098Z"
   },
   {
    "duration": 1646,
    "start_time": "2022-05-11T00:30:12.991Z"
   },
   {
    "duration": 61,
    "start_time": "2022-05-11T00:30:14.641Z"
   },
   {
    "duration": 17,
    "start_time": "2022-05-11T00:30:14.704Z"
   },
   {
    "duration": 39,
    "start_time": "2022-05-11T00:30:14.735Z"
   },
   {
    "duration": 12,
    "start_time": "2022-05-11T00:30:14.776Z"
   },
   {
    "duration": 87,
    "start_time": "2022-05-11T00:30:14.791Z"
   },
   {
    "duration": 338,
    "start_time": "2022-05-11T00:30:14.897Z"
   },
   {
    "duration": 3901,
    "start_time": "2022-05-11T00:30:15.238Z"
   },
   {
    "duration": 320,
    "start_time": "2022-05-11T00:30:19.141Z"
   },
   {
    "duration": 47,
    "start_time": "2022-05-11T00:30:19.464Z"
   },
   {
    "duration": 15,
    "start_time": "2022-05-11T00:30:19.525Z"
   },
   {
    "duration": 31,
    "start_time": "2022-05-11T00:30:19.545Z"
   },
   {
    "duration": 471,
    "start_time": "2022-05-11T00:30:19.578Z"
   },
   {
    "duration": 46,
    "start_time": "2022-05-11T00:30:20.051Z"
   },
   {
    "duration": 25,
    "start_time": "2022-05-11T00:30:20.099Z"
   },
   {
    "duration": 10,
    "start_time": "2022-05-11T00:30:20.131Z"
   },
   {
    "duration": 14,
    "start_time": "2022-05-11T00:30:20.144Z"
   }
  ],
  "kernelspec": {
   "display_name": "Python 3 (ipykernel)",
   "language": "python",
   "name": "python3"
  },
  "language_info": {
   "codemirror_mode": {
    "name": "ipython",
    "version": 3
   },
   "file_extension": ".py",
   "mimetype": "text/x-python",
   "name": "python",
   "nbconvert_exporter": "python",
   "pygments_lexer": "ipython3",
   "version": "3.9.7"
  },
  "toc": {
   "base_numbering": 1,
   "nav_menu": {},
   "number_sections": true,
   "sideBar": true,
   "skip_h1_title": true,
   "title_cell": "Table of Contents",
   "title_sidebar": "Contents",
   "toc_cell": false,
   "toc_position": {},
   "toc_section_display": true,
   "toc_window_display": false
  }
 },
 "nbformat": 4,
 "nbformat_minor": 2
}
