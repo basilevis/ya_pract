{
 "cells": [
  {
   "cell_type": "markdown",
   "metadata": {},
   "source": [
    "**Описание проекта**\n",
    "\n",
    "Вы аналитик компании «Мегалайн» — федерального оператора сотовой связи. Клиентам предлагают два тарифных плана: «Смарт» и «Ультра». Чтобы скорректировать рекламный бюджет, коммерческий департамент хочет понять, какой тариф приносит больше денег.\n",
    "\n",
    "В процессе исследования предстоит сделать предварительный анализ тарифов на небольшой выборке клиентов с целью установить наиболее прибыльный. В процессе работы предстоит подтвердить или опровергнуть следующие гепотезы: \n",
    "- средняя выручка пользователей тарифов «Ультра» и «Смарт» различаются;\n",
    "- средняя выручка пользователей из Москвы отличается от выручки пользователей из других регионов."
   ]
  },
  {
   "cell_type": "markdown",
   "metadata": {},
   "source": [
    "Чтобы в дальнейшем не перегружать объяснения, привожу здесь информацию о тарифах.\n",
    "\n",
    "**Тариф «Смарт»**\n",
    "- Ежемесячная плата: 550 рублей\n",
    "- Включено 500 минут разговора, 50 сообщений и 15 Гб интернет-трафика\n",
    "- Стоимость услуг сверх тарифного пакета:минута разговора: 3 рубля   сообщение: 3 рубля  1 Гб интернет-трафика: 200 рублей\n",
    "\n",
    "**Тариф «Ультра»**\n",
    "- Ежемесячная плата: 1950 рублей\n",
    "- Включено 3000 минут разговора, 1000 сообщений и 30 Гб интернет-трафика\n",
    "- Стоимость услуг сверх тарифного пакета:  минута разговора: 1 рубль  сообщение: 1 рубль  1 Гб интернет-трафика: 150 рублей\n",
    "**Примечание:**\n",
    "\n",
    "«Мегалайн» всегда округляет секунды до минут, а мегабайты — до гигабайт. Каждый звонок округляется отдельно: даже если он длился всего 1 секунду, будет засчитан как 1 минута.\n",
    "\n",
    "Для веб-трафика отдельные сессии не считаются. Вместо этого общая сумма за месяц округляется в бо́льшую сторону. Если абонент использует 1025 мегабайт в этом месяце, с него возьмут плату за 2 гигабайта."
   ]
  },
  {
   "cell_type": "markdown",
   "metadata": {},
   "source": [
    "**1. Взглянем на файлы:**"
   ]
  },
  {
   "cell_type": "code",
   "execution_count": 1,
   "metadata": {},
   "outputs": [
    {
     "name": "stdout",
     "output_type": "stream",
     "text": [
      "Выводим информацию о файлах:\n",
      "\n",
      "<class 'pandas.core.frame.DataFrame'>\n",
      "Index: 202607 entries, 1000_0 to 1499_219\n",
      "Data columns (total 3 columns):\n",
      " #   Column     Non-Null Count   Dtype  \n",
      "---  ------     --------------   -----  \n",
      " 0   call_date  202607 non-null  object \n",
      " 1   duration   202607 non-null  float64\n",
      " 2   user_id    202607 non-null  int64  \n",
      "dtypes: float64(1), int64(1), object(1)\n",
      "memory usage: 6.2+ MB\n",
      "None\n",
      "\n",
      "<class 'pandas.core.frame.DataFrame'>\n",
      "Int64Index: 149396 entries, 0 to 149395\n",
      "Data columns (total 4 columns):\n",
      " #   Column        Non-Null Count   Dtype  \n",
      "---  ------        --------------   -----  \n",
      " 0   id            149396 non-null  object \n",
      " 1   mb_used       149396 non-null  float64\n",
      " 2   session_date  149396 non-null  object \n",
      " 3   user_id       149396 non-null  int64  \n",
      "dtypes: float64(1), int64(1), object(2)\n",
      "memory usage: 5.7+ MB\n",
      "None\n",
      "\n",
      "<class 'pandas.core.frame.DataFrame'>\n",
      "Index: 123036 entries, 1000_0 to 1499_183\n",
      "Data columns (total 2 columns):\n",
      " #   Column        Non-Null Count   Dtype \n",
      "---  ------        --------------   ----- \n",
      " 0   message_date  123036 non-null  object\n",
      " 1   user_id       123036 non-null  int64 \n",
      "dtypes: int64(1), object(1)\n",
      "memory usage: 2.8+ MB\n",
      "None\n",
      "\n",
      "<class 'pandas.core.frame.DataFrame'>\n",
      "Int64Index: 500 entries, 1000 to 1499\n",
      "Data columns (total 7 columns):\n",
      " #   Column      Non-Null Count  Dtype \n",
      "---  ------      --------------  ----- \n",
      " 0   age         500 non-null    int64 \n",
      " 1   churn_date  38 non-null     object\n",
      " 2   city        500 non-null    object\n",
      " 3   first_name  500 non-null    object\n",
      " 4   last_name   500 non-null    object\n",
      " 5   reg_date    500 non-null    object\n",
      " 6   tariff      500 non-null    object\n",
      "dtypes: int64(1), object(6)\n",
      "memory usage: 31.2+ KB\n",
      "None\n",
      "\n",
      "<class 'pandas.core.frame.DataFrame'>\n",
      "Int64Index: 2 entries, 50 to 1000\n",
      "Data columns (total 7 columns):\n",
      " #   Column                 Non-Null Count  Dtype \n",
      "---  ------                 --------------  ----- \n",
      " 0   mb_per_month_included  2 non-null      int64 \n",
      " 1   minutes_included       2 non-null      int64 \n",
      " 2   rub_monthly_fee        2 non-null      int64 \n",
      " 3   rub_per_gb             2 non-null      int64 \n",
      " 4   rub_per_message        2 non-null      int64 \n",
      " 5   rub_per_minute         2 non-null      int64 \n",
      " 6   tariff_name            2 non-null      object\n",
      "dtypes: int64(6), object(1)\n",
      "memory usage: 128.0+ bytes\n",
      "None\n",
      "\n",
      "\n"
     ]
    }
   ],
   "source": [
    "import pandas as pd\n",
    "import seaborn as sns\n",
    "sns.set(palette='tab20b',  color_codes=False)\n",
    "\n",
    "import matplotlib.pyplot as plt\n",
    "import numpy as np\n",
    "import scipy.stats as st\n",
    "from pandas.core import apply\n",
    "from functools import reduce\n",
    "idx = pd.IndexSlice\n",
    "from scipy import stats as st\n",
    "import math\n",
    "\n",
    "calls = pd.read_csv(r'/datasets/calls.csv', index_col=0)\n",
    "internet = pd.read_csv(r'/datasets/internet.csv', index_col=0)\n",
    "messages = pd.read_csv(r'/datasets/messages.csv', index_col=0)\n",
    "tariffs = pd.read_csv(r'/datasets/tariffs.csv', index_col=0)\n",
    "users = pd.read_csv(r'/datasets/users.csv', index_col=0)\n",
    "\n",
    "print('Выводим информацию о файлах:')\n",
    "print()\n",
    "for data in [calls, internet, messages, users, tariffs]: print(data.info(), end='\\n\\n')\n",
    "print()\n"
   ]
  },
  {
   "cell_type": "code",
   "execution_count": 2,
   "metadata": {},
   "outputs": [
    {
     "name": "stdout",
     "output_type": "stream",
     "text": [
      "Выведем первые строки таблиц:\n",
      "\n",
      "         call_date  duration  user_id\n",
      "id                                   \n",
      "1000_0  2018-07-25      0.00     1000\n",
      "1000_1  2018-08-17      0.00     1000\n",
      "1000_2  2018-06-11      2.85     1000\n",
      "1000_3  2018-09-21     13.80     1000\n",
      "1000_4  2018-12-15      5.18     1000\n",
      "\n",
      "       id  mb_used session_date  user_id\n",
      "0  1000_0   112.95   2018-11-25     1000\n",
      "1  1000_1  1052.81   2018-09-07     1000\n",
      "2  1000_2  1197.26   2018-06-25     1000\n",
      "3  1000_3   550.27   2018-08-22     1000\n",
      "4  1000_4   302.56   2018-09-24     1000\n",
      "\n",
      "       message_date  user_id\n",
      "id                          \n",
      "1000_0   2018-06-27     1000\n",
      "1000_1   2018-10-08     1000\n",
      "1000_2   2018-08-04     1000\n",
      "1000_3   2018-06-16     1000\n",
      "1000_4   2018-12-05     1000\n",
      "\n",
      "         age churn_date         city first_name  last_name    reg_date tariff\n",
      "user_id                                                                      \n",
      "1000      52        NaN    Краснодар     Рафаил  Верещагин  2018-05-25  ultra\n",
      "1001      41        NaN       Москва       Иван       Ежов  2018-11-01  smart\n",
      "1002      59        NaN  Стерлитамак    Евгений  Абрамович  2018-06-17  smart\n",
      "1003      23        NaN       Москва      Белла   Белякова  2018-08-17  ultra\n",
      "1004      68        NaN  Новокузнецк    Татьяна   Авдеенко  2018-05-14  ultra\n",
      "\n",
      "                   mb_per_month_included  minutes_included  rub_monthly_fee  \\\n",
      "messages_included                                                             \n",
      "50                                 15360               500              550   \n",
      "1000                               30720              3000             1950   \n",
      "\n",
      "                   rub_per_gb  rub_per_message  rub_per_minute tariff_name  \n",
      "messages_included                                                           \n",
      "50                        200                3               3       smart  \n",
      "1000                      150                1               1       ultra  \n",
      "\n",
      "В некоторых датафреймах необходимо ввести индексы\n"
     ]
    }
   ],
   "source": [
    "print('Выведем первые строки таблиц:')\n",
    "print()\n",
    "for data in [calls, internet, messages, users, tariffs]: print(data.head(), end='\\n\\n')\n",
    "print('В некоторых датафреймах необходимо ввести индексы')"
   ]
  },
  {
   "cell_type": "code",
   "execution_count": 3,
   "metadata": {},
   "outputs": [
    {
     "name": "stdout",
     "output_type": "stream",
     "text": [
      "В некоторых датафреймах необходимо ввести индексы строк и перевести столбцы, которые сейчас недоступны для из-за \"индексации\", в общий ранг.\n",
      "Используем .reset_index\n"
     ]
    }
   ],
   "source": [
    "print('В некоторых датафреймах необходимо ввести индексы строк и перевести столбцы, которые сейчас недоступны для из-за \"индексации\", в общий ранг.')\n",
    "print('Используем .reset_index')\n",
    "tariffs = tariffs.reset_index(level=0)\n",
    "calls = calls.reset_index(level=0)\n",
    "messages = messages.reset_index(level=0)\n",
    "users = users.reset_index(level=0)"
   ]
  },
  {
   "cell_type": "markdown",
   "metadata": {},
   "source": [
    "**Вывод:** \n",
    "В предоставленных файлах содержится информация о 500 клиентах. Личные данные, данные о тарифах, количестве звонков, сообщений, трафика разбиты на несколько таблиц, объединенных id клиентов. Я добавила недостающие столбцы с индексами. Далее необходимо привести информацию в таблицах в пригодный для исследования вид. "
   ]
  },
  {
   "cell_type": "markdown",
   "metadata": {},
   "source": [
    "**2. Подготовим данные для дальнейшей работы.**"
   ]
  },
  {
   "cell_type": "code",
   "execution_count": 4,
   "metadata": {},
   "outputs": [
    {
     "name": "stdout",
     "output_type": "stream",
     "text": [
      "Скорректируем типы данных в столбцах \"session_date\", \"message_date\" , \"churn_day\", \"reg_date\" предоставленных таблиц.\n",
      "Переведем столбцы с датами со строчного типа в временной и выведем для проверки:\n",
      "\"call_date\" - datetime64[ns]\n",
      "\"session_date\" -  datetime64[ns]\n",
      "\"message_date\" -  datetime64[ns]\n",
      "\"churn_day\" -  datetime64[ns]\n",
      "\"reg_date\" -  datetime64[ns]\n"
     ]
    }
   ],
   "source": [
    "print('Скорректируем типы данных в столбцах \"session_date\", \"message_date\" , \"churn_day\", \"reg_date\" предоставленных таблиц.')\n",
    "print('Переведем столбцы с датами со строчного типа в временной и выведем для проверки:')\n",
    "calls['call_date'] = pd.to_datetime(calls['call_date'], format='%Y-%m-%d')\n",
    "internet['session_date'] = pd.to_datetime(internet['session_date'], format='%Y-%m-%d')\n",
    "messages['message_date'] = pd.to_datetime(messages['message_date'], format='%Y-%m-%d')\n",
    "users['churn_date'] = pd.to_datetime(users['churn_date'], format='%Y-%m-%d')\n",
    "users['reg_date'] = pd.to_datetime(users['reg_date'], format='%Y-%m-%d')\n",
    "\n",
    "\n",
    "print('\"call_date\" -', calls['call_date'].dtypes)\n",
    "print('\"session_date\" - '  , internet['session_date'].dtypes)\n",
    "print('\"message_date\" - ',  messages['message_date'].dtypes)\n",
    "print('\"churn_day\" - ' , users['churn_date'].dtypes)\n",
    "print('\"reg_date\" - ', users['reg_date'].dtypes)"
   ]
  },
  {
   "cell_type": "code",
   "execution_count": 5,
   "metadata": {},
   "outputs": [
    {
     "name": "stdout",
     "output_type": "stream",
     "text": [
      "Округляем данные в столбцах с длительностью звонков и мегабайтов траффика до целых чисел в большую сторону, т к тариф предусматривает оплату по целым минутам и гигабайтам. \n",
      "В дальнейшем нам понадобятся данные и о мегабайтах, и о гигабайтах. Но в гигабайты логичней перевести в процессе.\n"
     ]
    }
   ],
   "source": [
    "print('Округляем данные в столбцах с длительностью звонков и мегабайтов траффика до целых чисел в большую сторону, т к тариф предусматривает оплату по целым минутам и гигабайтам. ')\n",
    "print('В дальнейшем нам понадобятся данные и о мегабайтах, и о гигабайтах. Но в гигабайты логичней перевести в процессе.')\n",
    "calls['duration']=calls['duration'].apply(np.ceil)\n",
    "\n"
   ]
  },
  {
   "cell_type": "code",
   "execution_count": 6,
   "metadata": {},
   "outputs": [
    {
     "name": "stdout",
     "output_type": "stream",
     "text": [
      "Проверяем, есть ли пропуски:\n",
      "\n",
      "id           0\n",
      "call_date    0\n",
      "duration     0\n",
      "user_id      0\n",
      "dtype: int64\n",
      "\n",
      "id              0\n",
      "mb_used         0\n",
      "session_date    0\n",
      "user_id         0\n",
      "dtype: int64\n",
      "\n",
      "id              0\n",
      "message_date    0\n",
      "user_id         0\n",
      "dtype: int64\n",
      "\n",
      "messages_included        0\n",
      "mb_per_month_included    0\n",
      "minutes_included         0\n",
      "rub_monthly_fee          0\n",
      "rub_per_gb               0\n",
      "rub_per_message          0\n",
      "rub_per_minute           0\n",
      "tariff_name              0\n",
      "dtype: int64\n",
      "\n",
      "user_id         0\n",
      "age             0\n",
      "churn_date    462\n",
      "city            0\n",
      "first_name      0\n",
      "last_name       0\n",
      "reg_date        0\n",
      "tariff          0\n",
      "dtype: int64\n",
      "\n",
      "Проверяем, есть ли полные дубликаты:\n",
      "\n",
      "calls - 0\n",
      "internet -  0\n",
      "messages -  0\n",
      "tariffs - 0\n",
      "users - 0\n"
     ]
    }
   ],
   "source": [
    "print('Проверяем, есть ли пропуски:')\n",
    "print()\n",
    "print(calls.isna().sum())\n",
    "print()\n",
    "print(internet.isna().sum()) \n",
    "print()\n",
    "print(messages.isna().sum())\n",
    "print()\n",
    "print(tariffs.isna().sum())\n",
    "print()\n",
    "print(users.isna().sum()) \n",
    "print()\n",
    "print('Проверяем, есть ли полные дубликаты:')\n",
    "print()\n",
    "print('calls -', calls.duplicated().sum())\n",
    "print('internet - ', internet.duplicated().sum()) \n",
    "print('messages - ', messages.duplicated().sum()) \n",
    "print('tariffs -', tariffs.duplicated().sum())\n",
    "print('users -', users.duplicated().sum()) "
   ]
  },
  {
   "cell_type": "markdown",
   "metadata": {},
   "source": [
    "**Вывод:**\n",
    "Дубликаты отсутствуют.\n",
    "Видим, что пропуски присутствуют в таблице с личными данными пользователей в столбце с датой прекращения пользования тарифом. Исходя из имеющейся информации, пропуск свидетельствует, что пользователь не менял тариф с момента регистрации. \n",
    "Решено пока не трогать эти пропуски. "
   ]
  },
  {
   "cell_type": "markdown",
   "metadata": {},
   "source": [
    "**3. Проанализируем данные по необходимым в дальнейшем столбца по отдельности.**\n",
    "\n",
    "В частности, по звонкам и интернет-траффику. С прочими столбцами сложно применить подобный метод, да и нет смысла."
   ]
  },
  {
   "cell_type": "markdown",
   "metadata": {},
   "source": [
    "**Звонки.**"
   ]
  },
  {
   "cell_type": "code",
   "execution_count": 7,
   "metadata": {},
   "outputs": [
    {
     "name": "stdout",
     "output_type": "stream",
     "text": [
      "Методом describe получаем статистическую информацию о значениях  в столбце:\n",
      "count    202607.000000\n",
      "mean          7.158198\n",
      "std           5.959173\n",
      "min           0.000000\n",
      "25%           2.000000\n",
      "50%           6.000000\n",
      "75%          11.000000\n",
      "max          38.000000\n",
      "Name: duration, dtype: float64\n",
      "Видно, что имеются нулевые значения, что, вероятно, связано с  крайне низкой длительностью звонка, однако в системе он зарегистрирован и логично предположить, что согласно условию тарифа списание за него произошло.\n",
      "Аномальных значений не выявлено, всё в пределах разумного.  \n",
      "Считаем количество \"нулевых\" звонков:   39613\n"
     ]
    }
   ],
   "source": [
    "\n",
    "print('Методом describe получаем статистическую информацию о значениях  в столбце:')\n",
    "print(calls['duration'].describe())\n",
    "print('Видно, что имеются нулевые значения, что, вероятно, связано с  крайне низкой длительностью звонка, однако в системе он зарегистрирован и логично предположить, что согласно условию тарифа списание за него произошло.')\n",
    "print('Аномальных значений не выявлено, всё в пределах разумного.  ')\n",
    "print('Считаем количество \"нулевых\" звонков:  ',\n",
    "(\n",
    "calls.loc[calls['duration'] == 0, 'duration'].value_counts()[0]))\n"
   ]
  },
  {
   "cell_type": "markdown",
   "metadata": {},
   "source": [
    "**Интернет-сессии**"
   ]
  },
  {
   "cell_type": "code",
   "execution_count": 8,
   "metadata": {},
   "outputs": [
    {
     "name": "stdout",
     "output_type": "stream",
     "text": [
      "Методом describe получаем статистическую информацию о значениях  в столбце:\n",
      "count    149396.000000\n",
      "mean        370.192426\n",
      "std         278.300951\n",
      "min           0.000000\n",
      "25%         138.187500\n",
      "50%         348.015000\n",
      "75%         559.552500\n",
      "max        1724.830000\n",
      "Name: mb_used, dtype: float64\n",
      "Как мы видим, здесь так же присутствуют зарегистрированные нулевые значения.\n",
      "По аналогии с предыдущим пунктом, добавим столбец со значением месяца и построим график зависимости.\n",
      "  \n"
     ]
    },
    {
     "data": {
      "image/png": "[encoded data removed]",
      "text/plain": [
       "<Figure size 360x360 with 1 Axes>"
      ]
     },
     "metadata": {},
     "output_type": "display_data"
    }
   ],
   "source": [
    "print('Методом describe получаем статистическую информацию о значениях  в столбце:')\n",
    "print(internet['mb_used'].describe())\n",
    "print('Как мы видим, здесь так же присутствуют зарегистрированные нулевые значения.')\n",
    "print('По аналогии с предыдущим пунктом, добавим столбец со значением месяца и построим график зависимости.')\n",
    "print('  ')\n",
    "internet['month'] = internet['session_date'].dt.month\n",
    "\n",
    "internet.loc[internet['mb_used'] == 0, 'nulls_count'] = 1\n",
    "null_mb = internet.pivot_table(index='month', values=['id', 'nulls_count'], aggfunc='count')\n",
    "null_mb['null_ratio'] = round(null_mb['nulls_count'] / null_mb['id'], 3)\n",
    "\n",
    "sns.relplot(x='id', y='nulls_count', data=null_mb)\n",
    "plt.xlabel('Общее число интернет-сессий по месяцам')\n",
    "plt.ylabel('Число интернет-сессий с нулевым трафиком')\n",
    "_ = plt.title('Зависимость количества нулевых значений от общего числа интернет-сессий за каждый месяц')\n",
    "\n"
   ]
  },
  {
   "cell_type": "code",
   "execution_count": 9,
   "metadata": {},
   "outputs": [
    {
     "name": "stdout",
     "output_type": "stream",
     "text": [
      "Вывод по нулевым значениям интернет-сесссий аналогичен. Т к тариф считается по мегабайтам, так же заменяем нулевые значения на единицу.\n"
     ]
    }
   ],
   "source": [
    "print('Вывод по нулевым значениям интернет-сесссий аналогичен. Т к тариф считается по мегабайтам, так же заменяем нулевые значения на единицу.')\n"
   ]
  },
  {
   "cell_type": "markdown",
   "metadata": {},
   "source": [
    "**4. Формируем сводную таблицу.**"
   ]
  },
  {
   "cell_type": "markdown",
   "metadata": {},
   "source": [
    "Найдем для каждого пользователя:\n",
    "- количество сделанных звонков и израсходованных минут разговора по месяцам;\n",
    "- количество отправленных сообщений по месяцам;\n",
    "- объем израсходованного интернет-трафика по месяцам."
   ]
  },
  {
   "cell_type": "code",
   "execution_count": 10,
   "metadata": {},
   "outputs": [
    {
     "name": "stdout",
     "output_type": "stream",
     "text": [
      "  \n",
      "Формируем сводную таблицу по звонкам.\n",
      "Проверяем:\n",
      "               duration  calls\n",
      "user_id month                 \n",
      "1000    5         159.0     22\n",
      "        6         172.0     43\n",
      "        7         340.0     47\n",
      "        8         408.0     52\n",
      "        9         466.0     58\n",
      "  \n",
      "По тому же принципу формируем таблицы по сообщениям и интернет-трафику.\n",
      "  \n",
      "Далее объединяем полученые таблицы в одну:\n"
     ]
    },
    {
     "data": {
      "text/html": [
       "<div>\n",
       "<style scoped>\n",
       "    .dataframe tbody tr th:only-of-type {\n",
       "        vertical-align: middle;\n",
       "    }\n",
       "\n",
       "    .dataframe tbody tr th {\n",
       "        vertical-align: top;\n",
       "    }\n",
       "\n",
       "    .dataframe thead th {\n",
       "        text-align: right;\n",
       "    }\n",
       "</style>\n",
       "<table border=\"1\" class=\"dataframe\">\n",
       "  <thead>\n",
       "    <tr style=\"text-align: right;\">\n",
       "      <th></th>\n",
       "      <th></th>\n",
       "      <th>duration</th>\n",
       "      <th>calls</th>\n",
       "      <th>messages</th>\n",
       "      <th>mb_used</th>\n",
       "    </tr>\n",
       "    <tr>\n",
       "      <th>user_id</th>\n",
       "      <th>month</th>\n",
       "      <th></th>\n",
       "      <th></th>\n",
       "      <th></th>\n",
       "      <th></th>\n",
       "    </tr>\n",
       "  </thead>\n",
       "  <tbody>\n",
       "    <tr>\n",
       "      <th rowspan=\"8\" valign=\"top\">1000</th>\n",
       "      <th>5</th>\n",
       "      <td>159.0</td>\n",
       "      <td>22.0</td>\n",
       "      <td>22.0</td>\n",
       "      <td>2253.49</td>\n",
       "    </tr>\n",
       "    <tr>\n",
       "      <th>6</th>\n",
       "      <td>172.0</td>\n",
       "      <td>43.0</td>\n",
       "      <td>60.0</td>\n",
       "      <td>23233.77</td>\n",
       "    </tr>\n",
       "    <tr>\n",
       "      <th>7</th>\n",
       "      <td>340.0</td>\n",
       "      <td>47.0</td>\n",
       "      <td>75.0</td>\n",
       "      <td>14003.64</td>\n",
       "    </tr>\n",
       "    <tr>\n",
       "      <th>8</th>\n",
       "      <td>408.0</td>\n",
       "      <td>52.0</td>\n",
       "      <td>81.0</td>\n",
       "      <td>14055.93</td>\n",
       "    </tr>\n",
       "    <tr>\n",
       "      <th>9</th>\n",
       "      <td>466.0</td>\n",
       "      <td>58.0</td>\n",
       "      <td>57.0</td>\n",
       "      <td>14568.91</td>\n",
       "    </tr>\n",
       "    <tr>\n",
       "      <th>10</th>\n",
       "      <td>350.0</td>\n",
       "      <td>57.0</td>\n",
       "      <td>73.0</td>\n",
       "      <td>14702.49</td>\n",
       "    </tr>\n",
       "    <tr>\n",
       "      <th>11</th>\n",
       "      <td>338.0</td>\n",
       "      <td>43.0</td>\n",
       "      <td>58.0</td>\n",
       "      <td>14756.47</td>\n",
       "    </tr>\n",
       "    <tr>\n",
       "      <th>12</th>\n",
       "      <td>333.0</td>\n",
       "      <td>46.0</td>\n",
       "      <td>70.0</td>\n",
       "      <td>9817.61</td>\n",
       "    </tr>\n",
       "    <tr>\n",
       "      <th rowspan=\"2\" valign=\"top\">1001</th>\n",
       "      <th>11</th>\n",
       "      <td>430.0</td>\n",
       "      <td>59.0</td>\n",
       "      <td>NaN</td>\n",
       "      <td>18429.34</td>\n",
       "    </tr>\n",
       "    <tr>\n",
       "      <th>12</th>\n",
       "      <td>414.0</td>\n",
       "      <td>63.0</td>\n",
       "      <td>NaN</td>\n",
       "      <td>14036.66</td>\n",
       "    </tr>\n",
       "  </tbody>\n",
       "</table>\n",
       "</div>"
      ],
      "text/plain": [
       "               duration  calls  messages   mb_used\n",
       "user_id month                                     \n",
       "1000    5         159.0   22.0      22.0   2253.49\n",
       "        6         172.0   43.0      60.0  23233.77\n",
       "        7         340.0   47.0      75.0  14003.64\n",
       "        8         408.0   52.0      81.0  14055.93\n",
       "        9         466.0   58.0      57.0  14568.91\n",
       "        10        350.0   57.0      73.0  14702.49\n",
       "        11        338.0   43.0      58.0  14756.47\n",
       "        12        333.0   46.0      70.0   9817.61\n",
       "1001    11        430.0   59.0       NaN  18429.34\n",
       "        12        414.0   63.0       NaN  14036.66"
      ]
     },
     "execution_count": 10,
     "metadata": {},
     "output_type": "execute_result"
    }
   ],
   "source": [
    "calls['month'] = calls['call_date'].dt.month\n",
    "users['unique_name'] = users['city'] + users['first_name'] + users['last_name']\n",
    "\n",
    "\n",
    "print('  ')\n",
    "print('Формируем сводную таблицу по звонкам.')\n",
    "\n",
    "\n",
    "calls_temp = calls.merge(users, on='user_id', how='inner')\n",
    "calls_grouped = calls_temp.pivot_table(values=['unique_name', 'duration'], \n",
    "                       index=['user_id', 'month'], \n",
    "                       aggfunc={'unique_name': 'count', 'duration': 'sum'})\n",
    "calls_grouped.columns = ['duration', 'calls']\n",
    "\n",
    "print('Проверяем:')\n",
    "print(calls_grouped.head())\n",
    "\n",
    "print('  ')\n",
    "print('По тому же принципу формируем таблицы по сообщениям и интернет-трафику.')\n",
    "\n",
    "messages['month'] = messages['message_date'].dt.month\n",
    "messages_temp = messages.merge(users, on='user_id', how='inner')\n",
    "messages_grouped = messages_temp.pivot_table(values='unique_name', \n",
    "                       index=['user_id', 'month'], \n",
    "                       aggfunc={'unique_name': 'count'})\n",
    "messages_grouped.columns = ['messages']\n",
    "\n",
    "\n",
    "internet['month'] = internet['session_date'].dt.month\n",
    "internet_temp = internet.merge(users, on='user_id', how='inner')\n",
    "internet_grouped = internet_temp.pivot_table(values='mb_used', \n",
    "                       index=['user_id', 'month'], \n",
    "                       aggfunc={'mb_used': 'sum'})\n",
    "internet_grouped.columns = ['mb_used']\n",
    "\n",
    "\n",
    "\n",
    "\n",
    "\n",
    "print('  ')\n",
    "print('Далее объединяем полученые таблицы в одну:')\n",
    "dfs = [calls_grouped, messages_grouped, internet_grouped]\n",
    "grouped_data = reduce(lambda left,right: pd.merge(left,right,on=['user_id', 'month'], how='outer'), dfs)\n",
    "\n",
    "\n",
    "grouped_data.head(10)"
   ]
  },
  {
   "cell_type": "code",
   "execution_count": 11,
   "metadata": {},
   "outputs": [
    {
     "data": {
      "text/html": [
       "<div>\n",
       "<style scoped>\n",
       "    .dataframe tbody tr th:only-of-type {\n",
       "        vertical-align: middle;\n",
       "    }\n",
       "\n",
       "    .dataframe tbody tr th {\n",
       "        vertical-align: top;\n",
       "    }\n",
       "\n",
       "    .dataframe thead th {\n",
       "        text-align: right;\n",
       "    }\n",
       "</style>\n",
       "<table border=\"1\" class=\"dataframe\">\n",
       "  <thead>\n",
       "    <tr style=\"text-align: right;\">\n",
       "      <th></th>\n",
       "      <th>month</th>\n",
       "      <th>user_id</th>\n",
       "      <th>duration</th>\n",
       "      <th>calls</th>\n",
       "      <th>messages</th>\n",
       "      <th>mb_used</th>\n",
       "    </tr>\n",
       "  </thead>\n",
       "  <tbody>\n",
       "    <tr>\n",
       "      <th>0</th>\n",
       "      <td>5</td>\n",
       "      <td>1000</td>\n",
       "      <td>159.0</td>\n",
       "      <td>22.0</td>\n",
       "      <td>22.0</td>\n",
       "      <td>2253.49</td>\n",
       "    </tr>\n",
       "    <tr>\n",
       "      <th>1</th>\n",
       "      <td>6</td>\n",
       "      <td>1000</td>\n",
       "      <td>172.0</td>\n",
       "      <td>43.0</td>\n",
       "      <td>60.0</td>\n",
       "      <td>23233.77</td>\n",
       "    </tr>\n",
       "    <tr>\n",
       "      <th>2</th>\n",
       "      <td>7</td>\n",
       "      <td>1000</td>\n",
       "      <td>340.0</td>\n",
       "      <td>47.0</td>\n",
       "      <td>75.0</td>\n",
       "      <td>14003.64</td>\n",
       "    </tr>\n",
       "    <tr>\n",
       "      <th>3</th>\n",
       "      <td>8</td>\n",
       "      <td>1000</td>\n",
       "      <td>408.0</td>\n",
       "      <td>52.0</td>\n",
       "      <td>81.0</td>\n",
       "      <td>14055.93</td>\n",
       "    </tr>\n",
       "    <tr>\n",
       "      <th>4</th>\n",
       "      <td>9</td>\n",
       "      <td>1000</td>\n",
       "      <td>466.0</td>\n",
       "      <td>58.0</td>\n",
       "      <td>57.0</td>\n",
       "      <td>14568.91</td>\n",
       "    </tr>\n",
       "  </tbody>\n",
       "</table>\n",
       "</div>"
      ],
      "text/plain": [
       "   month  user_id  duration  calls  messages   mb_used\n",
       "0      5     1000     159.0   22.0      22.0   2253.49\n",
       "1      6     1000     172.0   43.0      60.0  23233.77\n",
       "2      7     1000     340.0   47.0      75.0  14003.64\n",
       "3      8     1000     408.0   52.0      81.0  14055.93\n",
       "4      9     1000     466.0   58.0      57.0  14568.91"
      ]
     },
     "execution_count": 11,
     "metadata": {},
     "output_type": "execute_result"
    }
   ],
   "source": [
    "#При формировании таблицы два первых столбца оказались переведены в индекс-столбцы, исправляю:\n",
    "grouped_data=grouped_data.reset_index(level=0)\n",
    "grouped_data=grouped_data.reset_index(level=0)\n",
    "grouped_data.head()"
   ]
  },
  {
   "cell_type": "markdown",
   "metadata": {},
   "source": [
    "**Сводная таблица с данными по пользователям.**"
   ]
  },
  {
   "cell_type": "markdown",
   "metadata": {},
   "source": [
    "Сформируем сводные таблицы, состоящие из индивидуального идентификатора пользователя(город+имя+фамилия), количества его звонков и израсходованных минут по месяцам, количества отправленных им сообщений и количества затраченных мегабайт интернет-трафика."
   ]
  },
  {
   "cell_type": "code",
   "execution_count": 12,
   "metadata": {},
   "outputs": [
    {
     "name": "stdout",
     "output_type": "stream",
     "text": [
      "Выводим статистическую информацию о получившейся таблице describe\n",
      "             month      user_id     duration        calls     messages  \\\n",
      "count  3214.000000  3214.000000  3174.000000  3174.000000  2717.000000   \n",
      "mean      8.317362  1251.590230   456.931632    63.833333    45.283769   \n",
      "std       2.905413   144.659172   238.031270    32.678036    35.051363   \n",
      "min       1.000000  1000.000000     0.000000     1.000000     1.000000   \n",
      "25%       6.000000  1125.000000   290.000000    41.000000    19.000000   \n",
      "50%       9.000000  1253.000000   447.000000    63.000000    38.000000   \n",
      "75%      11.000000  1378.750000   592.000000    83.000000    63.000000   \n",
      "max      12.000000  1499.000000  1673.000000   244.000000   224.000000   \n",
      "\n",
      "            mb_used  \n",
      "count   3203.000000  \n",
      "mean   17266.708626  \n",
      "std     7516.356902  \n",
      "min        0.000000  \n",
      "25%    12526.905000  \n",
      "50%    16963.110000  \n",
      "75%    21432.175000  \n",
      "max    49745.690000  \n",
      "  \n",
      "Выводим информацию о пропусках:\n",
      "month         0\n",
      "user_id       0\n",
      "duration     40\n",
      "calls        40\n",
      "messages    497\n",
      "mb_used      11\n",
      "dtype: int64\n",
      "  \n",
      "Можно предположить, что пропуски - результат того, что в определенном месяце пользователь функцией не пользовался\n",
      "Заполняем пропущенные графы 0.\n",
      "Проверяем:\n",
      "month       0\n",
      "user_id     0\n",
      "duration    0\n",
      "calls       0\n",
      "messages    0\n",
      "mb_used     0\n",
      "dtype: int64\n"
     ]
    },
    {
     "data": {
      "text/html": [
       "<div>\n",
       "<style scoped>\n",
       "    .dataframe tbody tr th:only-of-type {\n",
       "        vertical-align: middle;\n",
       "    }\n",
       "\n",
       "    .dataframe tbody tr th {\n",
       "        vertical-align: top;\n",
       "    }\n",
       "\n",
       "    .dataframe thead th {\n",
       "        text-align: right;\n",
       "    }\n",
       "</style>\n",
       "<table border=\"1\" class=\"dataframe\">\n",
       "  <thead>\n",
       "    <tr style=\"text-align: right;\">\n",
       "      <th></th>\n",
       "      <th>month</th>\n",
       "      <th>user_id</th>\n",
       "      <th>duration</th>\n",
       "      <th>calls</th>\n",
       "      <th>messages</th>\n",
       "      <th>mb_used</th>\n",
       "    </tr>\n",
       "  </thead>\n",
       "  <tbody>\n",
       "    <tr>\n",
       "      <th>0</th>\n",
       "      <td>5</td>\n",
       "      <td>1000</td>\n",
       "      <td>159.0</td>\n",
       "      <td>22.0</td>\n",
       "      <td>22.0</td>\n",
       "      <td>2253.49</td>\n",
       "    </tr>\n",
       "    <tr>\n",
       "      <th>1</th>\n",
       "      <td>6</td>\n",
       "      <td>1000</td>\n",
       "      <td>172.0</td>\n",
       "      <td>43.0</td>\n",
       "      <td>60.0</td>\n",
       "      <td>23233.77</td>\n",
       "    </tr>\n",
       "    <tr>\n",
       "      <th>2</th>\n",
       "      <td>7</td>\n",
       "      <td>1000</td>\n",
       "      <td>340.0</td>\n",
       "      <td>47.0</td>\n",
       "      <td>75.0</td>\n",
       "      <td>14003.64</td>\n",
       "    </tr>\n",
       "    <tr>\n",
       "      <th>3</th>\n",
       "      <td>8</td>\n",
       "      <td>1000</td>\n",
       "      <td>408.0</td>\n",
       "      <td>52.0</td>\n",
       "      <td>81.0</td>\n",
       "      <td>14055.93</td>\n",
       "    </tr>\n",
       "    <tr>\n",
       "      <th>4</th>\n",
       "      <td>9</td>\n",
       "      <td>1000</td>\n",
       "      <td>466.0</td>\n",
       "      <td>58.0</td>\n",
       "      <td>57.0</td>\n",
       "      <td>14568.91</td>\n",
       "    </tr>\n",
       "  </tbody>\n",
       "</table>\n",
       "</div>"
      ],
      "text/plain": [
       "   month  user_id  duration  calls  messages   mb_used\n",
       "0      5     1000     159.0   22.0      22.0   2253.49\n",
       "1      6     1000     172.0   43.0      60.0  23233.77\n",
       "2      7     1000     340.0   47.0      75.0  14003.64\n",
       "3      8     1000     408.0   52.0      81.0  14055.93\n",
       "4      9     1000     466.0   58.0      57.0  14568.91"
      ]
     },
     "execution_count": 12,
     "metadata": {},
     "output_type": "execute_result"
    }
   ],
   "source": [
    "print('Выводим статистическую информацию о получившейся таблице describe')\n",
    "print(grouped_data.describe()) \n",
    "print('  ')\n",
    "print('Выводим информацию о пропусках:')\n",
    "print(grouped_data.isna().sum())\n",
    "print('  ')\n",
    "print('Можно предположить, что пропуски - результат того, что в определенном месяце пользователь функцией не пользовался')\n",
    "print('Заполняем пропущенные графы 0.')\n",
    "\n",
    "grouped_data.loc[grouped_data['duration'].isna(), 'duration'] = 0\n",
    "grouped_data.loc[grouped_data['messages'].isna(), 'messages'] = 0\n",
    "grouped_data.loc[grouped_data['mb_used'].isna(), 'mb_used'] = 0\n",
    "grouped_data.loc[grouped_data['calls'].isna(), 'calls'] = 0\n",
    "\n",
    "print('Проверяем:')\n",
    "print(grouped_data.isna().sum())\n",
    "\n",
    "grouped_data.head()"
   ]
  },
  {
   "cell_type": "markdown",
   "metadata": {},
   "source": [
    "**Определяем выручку от каждого пользователя**\n",
    "\n",
    "Для этого сначала отнимаем бесплатный пакет из суммарного количества звонков, сообщений и трафика. Затем остаток умножаем на значение тарифоного плана и прибавим абонентскую плату соответственно тарифу.\n"
   ]
  },
  {
   "cell_type": "code",
   "execution_count": 13,
   "metadata": {},
   "outputs": [
    {
     "name": "stdout",
     "output_type": "stream",
     "text": [
      "Сначала добавим в сводную таблицу наименование тарифного плана каждого пользователя методом merge.\n",
      "Для проверки присоединения буду сверять количество строк: 3214\n",
      "Количество строк по итогу совпадает: 3214\n"
     ]
    },
    {
     "data": {
      "text/html": [
       "<div>\n",
       "<style scoped>\n",
       "    .dataframe tbody tr th:only-of-type {\n",
       "        vertical-align: middle;\n",
       "    }\n",
       "\n",
       "    .dataframe tbody tr th {\n",
       "        vertical-align: top;\n",
       "    }\n",
       "\n",
       "    .dataframe thead th {\n",
       "        text-align: right;\n",
       "    }\n",
       "</style>\n",
       "<table border=\"1\" class=\"dataframe\">\n",
       "  <thead>\n",
       "    <tr style=\"text-align: right;\">\n",
       "      <th></th>\n",
       "      <th>month</th>\n",
       "      <th>user_id</th>\n",
       "      <th>duration</th>\n",
       "      <th>calls</th>\n",
       "      <th>messages</th>\n",
       "      <th>mb_used</th>\n",
       "      <th>tariff</th>\n",
       "      <th>city</th>\n",
       "    </tr>\n",
       "  </thead>\n",
       "  <tbody>\n",
       "    <tr>\n",
       "      <th>0</th>\n",
       "      <td>5</td>\n",
       "      <td>1000</td>\n",
       "      <td>159.0</td>\n",
       "      <td>22.0</td>\n",
       "      <td>22.0</td>\n",
       "      <td>2253.49</td>\n",
       "      <td>ultra</td>\n",
       "      <td>Краснодар</td>\n",
       "    </tr>\n",
       "    <tr>\n",
       "      <th>1</th>\n",
       "      <td>6</td>\n",
       "      <td>1000</td>\n",
       "      <td>172.0</td>\n",
       "      <td>43.0</td>\n",
       "      <td>60.0</td>\n",
       "      <td>23233.77</td>\n",
       "      <td>ultra</td>\n",
       "      <td>Краснодар</td>\n",
       "    </tr>\n",
       "    <tr>\n",
       "      <th>2</th>\n",
       "      <td>7</td>\n",
       "      <td>1000</td>\n",
       "      <td>340.0</td>\n",
       "      <td>47.0</td>\n",
       "      <td>75.0</td>\n",
       "      <td>14003.64</td>\n",
       "      <td>ultra</td>\n",
       "      <td>Краснодар</td>\n",
       "    </tr>\n",
       "    <tr>\n",
       "      <th>3</th>\n",
       "      <td>8</td>\n",
       "      <td>1000</td>\n",
       "      <td>408.0</td>\n",
       "      <td>52.0</td>\n",
       "      <td>81.0</td>\n",
       "      <td>14055.93</td>\n",
       "      <td>ultra</td>\n",
       "      <td>Краснодар</td>\n",
       "    </tr>\n",
       "    <tr>\n",
       "      <th>4</th>\n",
       "      <td>9</td>\n",
       "      <td>1000</td>\n",
       "      <td>466.0</td>\n",
       "      <td>58.0</td>\n",
       "      <td>57.0</td>\n",
       "      <td>14568.91</td>\n",
       "      <td>ultra</td>\n",
       "      <td>Краснодар</td>\n",
       "    </tr>\n",
       "  </tbody>\n",
       "</table>\n",
       "</div>"
      ],
      "text/plain": [
       "   month  user_id  duration  calls  messages   mb_used tariff       city\n",
       "0      5     1000     159.0   22.0      22.0   2253.49  ultra  Краснодар\n",
       "1      6     1000     172.0   43.0      60.0  23233.77  ultra  Краснодар\n",
       "2      7     1000     340.0   47.0      75.0  14003.64  ultra  Краснодар\n",
       "3      8     1000     408.0   52.0      81.0  14055.93  ultra  Краснодар\n",
       "4      9     1000     466.0   58.0      57.0  14568.91  ultra  Краснодар"
      ]
     },
     "execution_count": 13,
     "metadata": {},
     "output_type": "execute_result"
    }
   ],
   "source": [
    "print('Сначала добавим в сводную таблицу наименование тарифного плана каждого пользователя методом merge.')\n",
    "print('Для проверки присоединения буду сверять количество строк:', len(grouped_data))\n",
    "\n",
    "\n",
    "tariffs = tariffs.reset_index(level=0)\n",
    "users = users.reset_index(level=0)\n",
    "\n",
    "users.set_index('user_id', inplace=True)\n",
    "\n",
    "grouped_data = grouped_data.merge(users['tariff'], on='user_id')\n",
    "\n",
    "grouped_data = grouped_data.merge(users['city'], on='user_id')\n",
    "\n",
    "\n",
    "\n",
    "print('Количество строк по итогу совпадает:', len(grouped_data))\n",
    "grouped_data.head()"
   ]
  },
  {
   "cell_type": "code",
   "execution_count": 14,
   "metadata": {},
   "outputs": [],
   "source": [
    "tariffs['gb_per_month_included']= (tariffs['mb_per_month_included'] / 1024)\n",
    "grouped_data['gb_used'] = np.ceil(grouped_data['mb_used'] / 1024)\n"
   ]
  },
  {
   "cell_type": "code",
   "execution_count": 15,
   "metadata": {},
   "outputs": [
    {
     "name": "stdout",
     "output_type": "stream",
     "text": [
      "Далее формируем функцию для подсчета выручки от каждого пользователя в месяц. Сохраняем в столбец revenue\n"
     ]
    },
    {
     "data": {
      "text/html": [
       "<div>\n",
       "<style scoped>\n",
       "    .dataframe tbody tr th:only-of-type {\n",
       "        vertical-align: middle;\n",
       "    }\n",
       "\n",
       "    .dataframe tbody tr th {\n",
       "        vertical-align: top;\n",
       "    }\n",
       "\n",
       "    .dataframe thead th {\n",
       "        text-align: right;\n",
       "    }\n",
       "</style>\n",
       "<table border=\"1\" class=\"dataframe\">\n",
       "  <thead>\n",
       "    <tr style=\"text-align: right;\">\n",
       "      <th></th>\n",
       "      <th>month</th>\n",
       "      <th>user_id</th>\n",
       "      <th>duration</th>\n",
       "      <th>calls</th>\n",
       "      <th>messages</th>\n",
       "      <th>mb_used</th>\n",
       "      <th>tariff</th>\n",
       "      <th>city</th>\n",
       "      <th>gb_used</th>\n",
       "      <th>revenue</th>\n",
       "    </tr>\n",
       "  </thead>\n",
       "  <tbody>\n",
       "    <tr>\n",
       "      <th>0</th>\n",
       "      <td>5</td>\n",
       "      <td>1000</td>\n",
       "      <td>159.0</td>\n",
       "      <td>22.0</td>\n",
       "      <td>22.0</td>\n",
       "      <td>2253.49</td>\n",
       "      <td>ultra</td>\n",
       "      <td>Краснодар</td>\n",
       "      <td>3.0</td>\n",
       "      <td>1950.0</td>\n",
       "    </tr>\n",
       "    <tr>\n",
       "      <th>1</th>\n",
       "      <td>6</td>\n",
       "      <td>1000</td>\n",
       "      <td>172.0</td>\n",
       "      <td>43.0</td>\n",
       "      <td>60.0</td>\n",
       "      <td>23233.77</td>\n",
       "      <td>ultra</td>\n",
       "      <td>Краснодар</td>\n",
       "      <td>23.0</td>\n",
       "      <td>1950.0</td>\n",
       "    </tr>\n",
       "    <tr>\n",
       "      <th>2</th>\n",
       "      <td>7</td>\n",
       "      <td>1000</td>\n",
       "      <td>340.0</td>\n",
       "      <td>47.0</td>\n",
       "      <td>75.0</td>\n",
       "      <td>14003.64</td>\n",
       "      <td>ultra</td>\n",
       "      <td>Краснодар</td>\n",
       "      <td>14.0</td>\n",
       "      <td>1950.0</td>\n",
       "    </tr>\n",
       "    <tr>\n",
       "      <th>3</th>\n",
       "      <td>8</td>\n",
       "      <td>1000</td>\n",
       "      <td>408.0</td>\n",
       "      <td>52.0</td>\n",
       "      <td>81.0</td>\n",
       "      <td>14055.93</td>\n",
       "      <td>ultra</td>\n",
       "      <td>Краснодар</td>\n",
       "      <td>14.0</td>\n",
       "      <td>1950.0</td>\n",
       "    </tr>\n",
       "    <tr>\n",
       "      <th>4</th>\n",
       "      <td>9</td>\n",
       "      <td>1000</td>\n",
       "      <td>466.0</td>\n",
       "      <td>58.0</td>\n",
       "      <td>57.0</td>\n",
       "      <td>14568.91</td>\n",
       "      <td>ultra</td>\n",
       "      <td>Краснодар</td>\n",
       "      <td>15.0</td>\n",
       "      <td>1950.0</td>\n",
       "    </tr>\n",
       "    <tr>\n",
       "      <th>5</th>\n",
       "      <td>10</td>\n",
       "      <td>1000</td>\n",
       "      <td>350.0</td>\n",
       "      <td>57.0</td>\n",
       "      <td>73.0</td>\n",
       "      <td>14702.49</td>\n",
       "      <td>ultra</td>\n",
       "      <td>Краснодар</td>\n",
       "      <td>15.0</td>\n",
       "      <td>1950.0</td>\n",
       "    </tr>\n",
       "    <tr>\n",
       "      <th>6</th>\n",
       "      <td>11</td>\n",
       "      <td>1000</td>\n",
       "      <td>338.0</td>\n",
       "      <td>43.0</td>\n",
       "      <td>58.0</td>\n",
       "      <td>14756.47</td>\n",
       "      <td>ultra</td>\n",
       "      <td>Краснодар</td>\n",
       "      <td>15.0</td>\n",
       "      <td>1950.0</td>\n",
       "    </tr>\n",
       "    <tr>\n",
       "      <th>7</th>\n",
       "      <td>12</td>\n",
       "      <td>1000</td>\n",
       "      <td>333.0</td>\n",
       "      <td>46.0</td>\n",
       "      <td>70.0</td>\n",
       "      <td>9817.61</td>\n",
       "      <td>ultra</td>\n",
       "      <td>Краснодар</td>\n",
       "      <td>10.0</td>\n",
       "      <td>1950.0</td>\n",
       "    </tr>\n",
       "    <tr>\n",
       "      <th>8</th>\n",
       "      <td>11</td>\n",
       "      <td>1001</td>\n",
       "      <td>430.0</td>\n",
       "      <td>59.0</td>\n",
       "      <td>0.0</td>\n",
       "      <td>18429.34</td>\n",
       "      <td>smart</td>\n",
       "      <td>Москва</td>\n",
       "      <td>18.0</td>\n",
       "      <td>1150.0</td>\n",
       "    </tr>\n",
       "    <tr>\n",
       "      <th>9</th>\n",
       "      <td>12</td>\n",
       "      <td>1001</td>\n",
       "      <td>414.0</td>\n",
       "      <td>63.0</td>\n",
       "      <td>0.0</td>\n",
       "      <td>14036.66</td>\n",
       "      <td>smart</td>\n",
       "      <td>Москва</td>\n",
       "      <td>14.0</td>\n",
       "      <td>550.0</td>\n",
       "    </tr>\n",
       "    <tr>\n",
       "      <th>10</th>\n",
       "      <td>6</td>\n",
       "      <td>1002</td>\n",
       "      <td>117.0</td>\n",
       "      <td>15.0</td>\n",
       "      <td>4.0</td>\n",
       "      <td>10856.82</td>\n",
       "      <td>smart</td>\n",
       "      <td>Стерлитамак</td>\n",
       "      <td>11.0</td>\n",
       "      <td>550.0</td>\n",
       "    </tr>\n",
       "    <tr>\n",
       "      <th>11</th>\n",
       "      <td>7</td>\n",
       "      <td>1002</td>\n",
       "      <td>214.0</td>\n",
       "      <td>26.0</td>\n",
       "      <td>11.0</td>\n",
       "      <td>17580.10</td>\n",
       "      <td>smart</td>\n",
       "      <td>Стерлитамак</td>\n",
       "      <td>18.0</td>\n",
       "      <td>1150.0</td>\n",
       "    </tr>\n",
       "    <tr>\n",
       "      <th>12</th>\n",
       "      <td>8</td>\n",
       "      <td>1002</td>\n",
       "      <td>289.0</td>\n",
       "      <td>42.0</td>\n",
       "      <td>13.0</td>\n",
       "      <td>20319.26</td>\n",
       "      <td>smart</td>\n",
       "      <td>Стерлитамак</td>\n",
       "      <td>20.0</td>\n",
       "      <td>1550.0</td>\n",
       "    </tr>\n",
       "    <tr>\n",
       "      <th>13</th>\n",
       "      <td>9</td>\n",
       "      <td>1002</td>\n",
       "      <td>206.0</td>\n",
       "      <td>36.0</td>\n",
       "      <td>4.0</td>\n",
       "      <td>16691.08</td>\n",
       "      <td>smart</td>\n",
       "      <td>Стерлитамак</td>\n",
       "      <td>17.0</td>\n",
       "      <td>950.0</td>\n",
       "    </tr>\n",
       "    <tr>\n",
       "      <th>14</th>\n",
       "      <td>10</td>\n",
       "      <td>1002</td>\n",
       "      <td>212.0</td>\n",
       "      <td>33.0</td>\n",
       "      <td>10.0</td>\n",
       "      <td>13888.25</td>\n",
       "      <td>smart</td>\n",
       "      <td>Стерлитамак</td>\n",
       "      <td>14.0</td>\n",
       "      <td>550.0</td>\n",
       "    </tr>\n",
       "    <tr>\n",
       "      <th>15</th>\n",
       "      <td>11</td>\n",
       "      <td>1002</td>\n",
       "      <td>243.0</td>\n",
       "      <td>32.0</td>\n",
       "      <td>16.0</td>\n",
       "      <td>18587.28</td>\n",
       "      <td>smart</td>\n",
       "      <td>Стерлитамак</td>\n",
       "      <td>19.0</td>\n",
       "      <td>1350.0</td>\n",
       "    </tr>\n",
       "    <tr>\n",
       "      <th>16</th>\n",
       "      <td>12</td>\n",
       "      <td>1002</td>\n",
       "      <td>236.0</td>\n",
       "      <td>33.0</td>\n",
       "      <td>12.0</td>\n",
       "      <td>18113.73</td>\n",
       "      <td>smart</td>\n",
       "      <td>Стерлитамак</td>\n",
       "      <td>18.0</td>\n",
       "      <td>1150.0</td>\n",
       "    </tr>\n",
       "    <tr>\n",
       "      <th>17</th>\n",
       "      <td>8</td>\n",
       "      <td>1003</td>\n",
       "      <td>380.0</td>\n",
       "      <td>55.0</td>\n",
       "      <td>37.0</td>\n",
       "      <td>8565.21</td>\n",
       "      <td>ultra</td>\n",
       "      <td>Москва</td>\n",
       "      <td>9.0</td>\n",
       "      <td>1950.0</td>\n",
       "    </tr>\n",
       "    <tr>\n",
       "      <th>18</th>\n",
       "      <td>9</td>\n",
       "      <td>1003</td>\n",
       "      <td>961.0</td>\n",
       "      <td>134.0</td>\n",
       "      <td>91.0</td>\n",
       "      <td>12468.87</td>\n",
       "      <td>ultra</td>\n",
       "      <td>Москва</td>\n",
       "      <td>13.0</td>\n",
       "      <td>1950.0</td>\n",
       "    </tr>\n",
       "    <tr>\n",
       "      <th>19</th>\n",
       "      <td>10</td>\n",
       "      <td>1003</td>\n",
       "      <td>855.0</td>\n",
       "      <td>108.0</td>\n",
       "      <td>83.0</td>\n",
       "      <td>14768.14</td>\n",
       "      <td>ultra</td>\n",
       "      <td>Москва</td>\n",
       "      <td>15.0</td>\n",
       "      <td>1950.0</td>\n",
       "    </tr>\n",
       "  </tbody>\n",
       "</table>\n",
       "</div>"
      ],
      "text/plain": [
       "    month  user_id  duration  calls  messages   mb_used tariff         city  \\\n",
       "0       5     1000     159.0   22.0      22.0   2253.49  ultra    Краснодар   \n",
       "1       6     1000     172.0   43.0      60.0  23233.77  ultra    Краснодар   \n",
       "2       7     1000     340.0   47.0      75.0  14003.64  ultra    Краснодар   \n",
       "3       8     1000     408.0   52.0      81.0  14055.93  ultra    Краснодар   \n",
       "4       9     1000     466.0   58.0      57.0  14568.91  ultra    Краснодар   \n",
       "5      10     1000     350.0   57.0      73.0  14702.49  ultra    Краснодар   \n",
       "6      11     1000     338.0   43.0      58.0  14756.47  ultra    Краснодар   \n",
       "7      12     1000     333.0   46.0      70.0   9817.61  ultra    Краснодар   \n",
       "8      11     1001     430.0   59.0       0.0  18429.34  smart       Москва   \n",
       "9      12     1001     414.0   63.0       0.0  14036.66  smart       Москва   \n",
       "10      6     1002     117.0   15.0       4.0  10856.82  smart  Стерлитамак   \n",
       "11      7     1002     214.0   26.0      11.0  17580.10  smart  Стерлитамак   \n",
       "12      8     1002     289.0   42.0      13.0  20319.26  smart  Стерлитамак   \n",
       "13      9     1002     206.0   36.0       4.0  16691.08  smart  Стерлитамак   \n",
       "14     10     1002     212.0   33.0      10.0  13888.25  smart  Стерлитамак   \n",
       "15     11     1002     243.0   32.0      16.0  18587.28  smart  Стерлитамак   \n",
       "16     12     1002     236.0   33.0      12.0  18113.73  smart  Стерлитамак   \n",
       "17      8     1003     380.0   55.0      37.0   8565.21  ultra       Москва   \n",
       "18      9     1003     961.0  134.0      91.0  12468.87  ultra       Москва   \n",
       "19     10     1003     855.0  108.0      83.0  14768.14  ultra       Москва   \n",
       "\n",
       "    gb_used  revenue  \n",
       "0       3.0   1950.0  \n",
       "1      23.0   1950.0  \n",
       "2      14.0   1950.0  \n",
       "3      14.0   1950.0  \n",
       "4      15.0   1950.0  \n",
       "5      15.0   1950.0  \n",
       "6      15.0   1950.0  \n",
       "7      10.0   1950.0  \n",
       "8      18.0   1150.0  \n",
       "9      14.0    550.0  \n",
       "10     11.0    550.0  \n",
       "11     18.0   1150.0  \n",
       "12     20.0   1550.0  \n",
       "13     17.0    950.0  \n",
       "14     14.0    550.0  \n",
       "15     19.0   1350.0  \n",
       "16     18.0   1150.0  \n",
       "17      9.0   1950.0  \n",
       "18     13.0   1950.0  \n",
       "19     15.0   1950.0  "
      ]
     },
     "execution_count": 15,
     "metadata": {},
     "output_type": "execute_result"
    }
   ],
   "source": [
    "\n",
    "print('Далее формируем функцию для подсчета выручки от каждого пользователя в месяц. Сохраняем в столбец revenue')\n",
    "\n",
    "minutes_included_smart=tariffs.iloc[0]['minutes_included']\n",
    "gb_per_month_included_smart=tariffs.iloc[0]['gb_per_month_included']\n",
    "messages_included_smart=tariffs.iloc[0]['messages_included']    \n",
    "    \n",
    "rub_per_message_smart = tariffs.iloc[0]['rub_per_message']\n",
    "rub_per_gb_smart=tariffs.iloc[0]['rub_per_gb']\n",
    "rub_per_minute_smart = tariffs.iloc[0]['rub_per_minute']\n",
    "rub_monthly_fee_smart= tariffs.iloc[0]['rub_monthly_fee']\n",
    "\n",
    "minutes_included_ultra=tariffs.iloc[1]['minutes_included']\n",
    "gb_per_month_included_ultra=tariffs.iloc[1]['gb_per_month_included']\n",
    "messages_included_ultra=tariffs.iloc[1]['messages_included']    \n",
    "    \n",
    "rub_per_message_ultra= tariffs.iloc[1]['rub_per_message']\n",
    "rub_per_gb_ultra =tariffs.iloc[1]['rub_per_gb']\n",
    "rub_per_minute_ultra  = tariffs.iloc[1]['rub_per_minute']\n",
    "rub_monthly_fee_ultra = tariffs.iloc[1]['rub_monthly_fee']\n",
    "\n",
    "\n",
    "\n",
    "\n",
    "def det_revenue(row):\n",
    "    messages = row['messages']\n",
    "    gb_used = row['gb_used']\n",
    "    duration = row['duration']\n",
    "    calls = row['calls']\n",
    "    tariff = row['tariff']\n",
    "    \n",
    "    if tariff == 'smart':\n",
    "        extra_duration = duration - minutes_included_smart\n",
    "        extra_gb = gb_used - gb_per_month_included_smart\n",
    "        extra_messages = messages - messages_included_smart\n",
    "        \n",
    "        if extra_duration < 0: extra_duration = 0\n",
    "        if extra_gb < 0: extra_gb = 0\n",
    "        if extra_messages < 0: extra_messages = 0\n",
    "        \n",
    "        return (rub_per_message_smart * extra_messages + \n",
    "                rub_per_gb_smart * extra_gb + \n",
    "                rub_per_minute_smart * extra_duration + \n",
    "                rub_monthly_fee_smart) \n",
    "    else:\n",
    "        extra_duration = duration -  minutes_included_ultra\n",
    "        extra_gb = gb_used - gb_per_month_included_ultra\n",
    "        extra_messages = messages - messages_included_ultra\n",
    "        \n",
    "        if extra_duration < 0: extra_duration = 0\n",
    "        if extra_gb < 0: extra_gb = 0\n",
    "        if extra_messages < 0: extra_messages = 0\n",
    "        \n",
    "        return (rub_per_message_ultra * extra_messages + \n",
    "                rub_per_gb_ultra * extra_gb + \n",
    "                rub_per_minute_ultra * extra_duration + \n",
    "                rub_monthly_fee_ultra  )\n",
    "\n",
    "grouped_data['revenue'] = grouped_data.apply( det_revenue, axis=1)\n",
    "\n",
    "\n",
    "grouped_data.head(20) #вывела больше строк, чтобы была видна правильность добавления тарифов и городов относительно пользователя и айди"
   ]
  },
  {
   "cell_type": "markdown",
   "metadata": {},
   "source": [
    "**5. Проверяем гипотизы**\n",
    "\n",
    "\n",
    "Изучим с помощью методов описательной статистики, как клиенты используют возможности тарифов."
   ]
  },
  {
   "cell_type": "code",
   "execution_count": 16,
   "metadata": {},
   "outputs": [],
   "source": [
    "users=users.reset_index(level=0)"
   ]
  },
  {
   "cell_type": "code",
   "execution_count": 17,
   "metadata": {},
   "outputs": [
    {
     "name": "stdout",
     "output_type": "stream",
     "text": [
      "Посчитаем, сколько в среднем каждому пользователю требуется минут, сообщений и мегабайт в месяц и сохраняем в переменную medians. \n"
     ]
    },
    {
     "data": {
      "text/html": [
       "<div>\n",
       "<style scoped>\n",
       "    .dataframe tbody tr th:only-of-type {\n",
       "        vertical-align: middle;\n",
       "    }\n",
       "\n",
       "    .dataframe tbody tr th {\n",
       "        vertical-align: top;\n",
       "    }\n",
       "\n",
       "    .dataframe thead th {\n",
       "        text-align: right;\n",
       "    }\n",
       "</style>\n",
       "<table border=\"1\" class=\"dataframe\">\n",
       "  <thead>\n",
       "    <tr style=\"text-align: right;\">\n",
       "      <th></th>\n",
       "      <th>duration</th>\n",
       "      <th>mb_used</th>\n",
       "      <th>messages</th>\n",
       "      <th>revenue</th>\n",
       "      <th>tariff</th>\n",
       "    </tr>\n",
       "    <tr>\n",
       "      <th>user_id</th>\n",
       "      <th></th>\n",
       "      <th></th>\n",
       "      <th></th>\n",
       "      <th></th>\n",
       "      <th></th>\n",
       "    </tr>\n",
       "  </thead>\n",
       "  <tbody>\n",
       "    <tr>\n",
       "      <th>1000</th>\n",
       "      <td>339.0</td>\n",
       "      <td>14312.42</td>\n",
       "      <td>65.0</td>\n",
       "      <td>1950.0</td>\n",
       "      <td>ultra</td>\n",
       "    </tr>\n",
       "    <tr>\n",
       "      <th>1001</th>\n",
       "      <td>422.0</td>\n",
       "      <td>16233.00</td>\n",
       "      <td>0.0</td>\n",
       "      <td>850.0</td>\n",
       "      <td>smart</td>\n",
       "    </tr>\n",
       "    <tr>\n",
       "      <th>1002</th>\n",
       "      <td>214.0</td>\n",
       "      <td>17580.10</td>\n",
       "      <td>11.0</td>\n",
       "      <td>1150.0</td>\n",
       "      <td>smart</td>\n",
       "    </tr>\n",
       "    <tr>\n",
       "      <th>1003</th>\n",
       "      <td>824.0</td>\n",
       "      <td>11356.89</td>\n",
       "      <td>83.0</td>\n",
       "      <td>1950.0</td>\n",
       "      <td>ultra</td>\n",
       "    </tr>\n",
       "    <tr>\n",
       "      <th>1004</th>\n",
       "      <td>132.5</td>\n",
       "      <td>17810.53</td>\n",
       "      <td>154.5</td>\n",
       "      <td>1950.0</td>\n",
       "      <td>ultra</td>\n",
       "    </tr>\n",
       "  </tbody>\n",
       "</table>\n",
       "</div>"
      ],
      "text/plain": [
       "         duration   mb_used  messages  revenue tariff\n",
       "user_id                                              \n",
       "1000        339.0  14312.42      65.0   1950.0  ultra\n",
       "1001        422.0  16233.00       0.0    850.0  smart\n",
       "1002        214.0  17580.10      11.0   1150.0  smart\n",
       "1003        824.0  11356.89      83.0   1950.0  ultra\n",
       "1004        132.5  17810.53     154.5   1950.0  ultra"
      ]
     },
     "execution_count": 17,
     "metadata": {},
     "output_type": "execute_result"
    }
   ],
   "source": [
    "print('Посчитаем, сколько в среднем каждому пользователю требуется минут, сообщений и мегабайт в месяц и сохраняем в переменную medians. ')\n",
    "\n",
    "medians = grouped_data.pivot_table(index='user_id', values=['duration', 'messages', 'mb_used', 'revenue'], aggfunc='median')\n",
    "for index in users['user_id']:\n",
    "    medians.loc[index, 'tariff'] = users.loc[index-1000, 'tariff']\n",
    "    \n",
    "medians.head()"
   ]
  },
  {
   "cell_type": "code",
   "execution_count": 18,
   "metadata": {},
   "outputs": [
    {
     "name": "stdout",
     "output_type": "stream",
     "text": [
      "Методом describe получаем статистическую информацию о значениях  в столбце:\n",
      "count    149396.000000\n",
      "mean        370.192426\n",
      "std         278.300951\n",
      "min           0.000000\n",
      "25%         138.187500\n",
      "50%         348.015000\n",
      "75%         559.552500\n",
      "max        1724.830000\n",
      "Name: mb_used, dtype: float64\n",
      "Как мы видим, здесь так же присутствуют зарегистрированные нулевые значения.\n",
      "По аналогии с предыдущим пунктом, добавим столбец со значением месяца и построим график зависимости.\n",
      "  \n"
     ]
    },
    {
     "data": {
      "image/png": "[encoded data removed]",
      "text/plain": [
       "<Figure size 360x360 with 1 Axes>"
      ]
     },
     "metadata": {},
     "output_type": "display_data"
    }
   ],
   "source": [
    "print('Методом describe получаем статистическую информацию о значениях  в столбце:')\n",
    "print(internet['mb_used'].describe())\n",
    "print('Как мы видим, здесь так же присутствуют зарегистрированные нулевые значения.')\n",
    "print('По аналогии с предыдущим пунктом, добавим столбец со значением месяца и построим график зависимости.')\n",
    "print('  ')\n",
    "internet['month'] = internet['session_date'].dt.month\n",
    "\n",
    "internet.loc[internet['mb_used'] == 0, 'nulls_count'] = 1\n",
    "null_mb = internet.pivot_table(index='month', values=['id', 'nulls_count'], aggfunc='count')\n",
    "null_mb['null_ratio'] = round(null_mb['nulls_count'] / null_mb['id'], 3)\n",
    "\n",
    "sns.relplot(x='id', y='nulls_count', data=null_mb)\n",
    "plt.xlabel('Общее число интернет-сессий по месяцам')\n",
    "plt.ylabel('Число интернет-сессий с нулевым трафиком')\n",
    "_ = plt.title('Зависимость количества нулевых значений от общего числа интернет-сессий за каждый месяц')\n",
    "\n"
   ]
  },
  {
   "cell_type": "code",
   "execution_count": 19,
   "metadata": {},
   "outputs": [
    {
     "name": "stdout",
     "output_type": "stream",
     "text": [
      "Найдем медиану, дисперсию и стандартное отклонение:\n"
     ]
    },
    {
     "data": {
      "text/html": [
       "<div>\n",
       "<style scoped>\n",
       "    .dataframe tbody tr th:only-of-type {\n",
       "        vertical-align: middle;\n",
       "    }\n",
       "\n",
       "    .dataframe tbody tr th {\n",
       "        vertical-align: top;\n",
       "    }\n",
       "\n",
       "    .dataframe thead tr th {\n",
       "        text-align: left;\n",
       "    }\n",
       "\n",
       "    .dataframe thead tr:last-of-type th {\n",
       "        text-align: right;\n",
       "    }\n",
       "</style>\n",
       "<table border=\"1\" class=\"dataframe\">\n",
       "  <thead>\n",
       "    <tr>\n",
       "      <th></th>\n",
       "      <th colspan=\"3\" halign=\"left\">duration</th>\n",
       "      <th colspan=\"3\" halign=\"left\">mb_used</th>\n",
       "      <th colspan=\"3\" halign=\"left\">messages</th>\n",
       "    </tr>\n",
       "    <tr>\n",
       "      <th></th>\n",
       "      <th>median</th>\n",
       "      <th>std</th>\n",
       "      <th>var</th>\n",
       "      <th>median</th>\n",
       "      <th>std</th>\n",
       "      <th>var</th>\n",
       "      <th>median</th>\n",
       "      <th>std</th>\n",
       "      <th>var</th>\n",
       "    </tr>\n",
       "    <tr>\n",
       "      <th>tariff</th>\n",
       "      <th></th>\n",
       "      <th></th>\n",
       "      <th></th>\n",
       "      <th></th>\n",
       "      <th></th>\n",
       "      <th></th>\n",
       "      <th></th>\n",
       "      <th></th>\n",
       "      <th></th>\n",
       "    </tr>\n",
       "  </thead>\n",
       "  <tbody>\n",
       "    <tr>\n",
       "      <th>smart</th>\n",
       "      <td>439.75</td>\n",
       "      <td>160.266622</td>\n",
       "      <td>25685.390127</td>\n",
       "      <td>16925.2900</td>\n",
       "      <td>4174.203404</td>\n",
       "      <td>1.742397e+07</td>\n",
       "      <td>28.5</td>\n",
       "      <td>28.010653</td>\n",
       "      <td>784.596662</td>\n",
       "    </tr>\n",
       "    <tr>\n",
       "      <th>ultra</th>\n",
       "      <td>535.25</td>\n",
       "      <td>303.793641</td>\n",
       "      <td>92290.576519</td>\n",
       "      <td>19733.1475</td>\n",
       "      <td>8893.002882</td>\n",
       "      <td>7.908550e+07</td>\n",
       "      <td>47.5</td>\n",
       "      <td>49.236809</td>\n",
       "      <td>2424.263318</td>\n",
       "    </tr>\n",
       "  </tbody>\n",
       "</table>\n",
       "</div>"
      ],
      "text/plain": [
       "       duration                               mb_used               \\\n",
       "         median         std           var      median          std   \n",
       "tariff                                                               \n",
       "smart    439.75  160.266622  25685.390127  16925.2900  4174.203404   \n",
       "ultra    535.25  303.793641  92290.576519  19733.1475  8893.002882   \n",
       "\n",
       "                     messages                          \n",
       "                 var   median        std          var  \n",
       "tariff                                                 \n",
       "smart   1.742397e+07     28.5  28.010653   784.596662  \n",
       "ultra   7.908550e+07     47.5  49.236809  2424.263318  "
      ]
     },
     "execution_count": 19,
     "metadata": {},
     "output_type": "execute_result"
    }
   ],
   "source": [
    "print('Найдем медиану, дисперсию и стандартное отклонение:')\n",
    "\n",
    "medians.dropna(subset=['duration'], inplace=True)\n",
    "desc_stat = medians.pivot_table(index=['tariff'], values=['duration', 'mb_used', 'messages'], \n",
    "                    aggfunc={'duration': [np.median, np.var, np.std], \n",
    "                             'mb_used': [np.median, np.var, np.std], \n",
    "                             'messages': [np.median, np.var, np.std]})\n",
    "desc_stat.reset_index(level=0)\n",
    "desc_stat"
   ]
  },
  {
   "cell_type": "markdown",
   "metadata": {},
   "source": [
    "Визуализируем для оценки разброса значений и распределение полученных данных: "
   ]
  },
  {
   "cell_type": "code",
   "execution_count": 20,
   "metadata": {},
   "outputs": [
    {
     "data": {
      "image/png": "[encoded data removed]",
      "text/plain": [
       "<Figure size 360x360 with 1 Axes>"
      ]
     },
     "metadata": {},
     "output_type": "display_data"
    },
    {
     "data": {
      "image/png": "[encoded data removed]",
      "text/plain": [
       "<Figure size 360x360 with 1 Axes>"
      ]
     },
     "metadata": {},
     "output_type": "display_data"
    },
    {
     "data": {
      "image/png": "[encoded data removed]",
      "text/plain": [
       "<Figure size 360x360 with 1 Axes>"
      ]
     },
     "metadata": {},
     "output_type": "display_data"
    }
   ],
   "source": [
    "for column in ['duration', 'mb_used', 'messages']:    \n",
    "    sns.catplot(x=\"tariff\", y=column, kind=\"box\", data=medians, orient='v', palette=\"Set3\")"
   ]
  },
  {
   "cell_type": "markdown",
   "metadata": {},
   "source": [
    "Минуты разговора, число сообщений и объем потраченного интернет-трафика по тарифу «Ультра» имеет большую дисперсию по сравнению с тарифом «Смарт», и медианы по вышеперечисленным признакам также смещены в большую сторону. Кроме того, выбросов в рамках более дешевого тарифа существенно больше.\n"
   ]
  },
  {
   "cell_type": "code",
   "execution_count": 21,
   "metadata": {},
   "outputs": [
    {
     "data": {
      "image/png": "[encoded data removed]",
      "text/plain": [
       "<Figure size 432x288 with 1 Axes>"
      ]
     },
     "metadata": {},
     "output_type": "display_data"
    }
   ],
   "source": [
    "# Код ревь.ера\n",
    "\n",
    "for tariff,color in zip(['ultra', 'smart'],['c','orange']):  #как бы при таком выборе гаммы яндекс.фсб проектом не заинтересовалось\n",
    "    sns.histplot(medians.query('tariff == @tariff')['duration'], kde=False, label=tariff, bins=30, color=color)\n",
    "_ = plt.legend(['ultra', 'smart'])"
   ]
  },
  {
   "cell_type": "code",
   "execution_count": 23,
   "metadata": {},
   "outputs": [
    {
     "data": {
      "image/png": "[encoded data removed]",
      "text/plain": [
       "<Figure size 432x288 with 1 Axes>"
      ]
     },
     "metadata": {},
     "output_type": "display_data"
    }
   ],
   "source": [
    "for tariff, color in zip(['ultra', 'smart'],['c','orange']):\n",
    "    sns.histplot(medians.query('tariff == @tariff')['mb_used'], kde=False,  bins=30, color=color)\n",
    "_ = plt.legend(['ultra', 'smart'])"
   ]
  },
  {
   "cell_type": "code",
   "execution_count": 24,
   "metadata": {},
   "outputs": [
    {
     "data": {
      "image/png": "[encoded data removed]",
      "text/plain": [
       "<Figure size 432x288 with 1 Axes>"
      ]
     },
     "metadata": {},
     "output_type": "display_data"
    }
   ],
   "source": [
    "for tariff, color in zip(['ultra', 'smart'], ['c','orange']):\n",
    "    sns.histplot(medians.query('tariff == @tariff')['messages'], kde=False, label=tariff, bins=30, color=color)\n",
    "_ = plt.legend(['ultra', 'smart'])"
   ]
  },
  {
   "cell_type": "markdown",
   "metadata": {},
   "source": [
    "По полученным гистограммам  можно сделать вывод, что дисперсия по тарифу \"Смарт\" меньше, чем у пользователей с тарифом \"Ультра\" по всем показателям: по длительности разговора, числу сообщений и использованному интернет-трафику. Также, видно, что мода у \"Смарта\" явно выражена.\n",
    "\n",
    "Можно сделать вывод, что пользователи более дорогого тарифа используют его разнообразней, чем пользователи более дешевого. Вероятно, это связано с тем, что объем тарифа \"Ультра\" позволяет пользователям полностью удовлетворять свои потребности и не беспокоиться о выходе за пределы тарифа. \n"
   ]
  },
  {
   "cell_type": "markdown",
   "metadata": {},
   "source": [
    "**6. Проверка гипотез**"
   ]
  },
  {
   "cell_type": "markdown",
   "metadata": {},
   "source": [
    "*Первая гипотеза:*\n",
    "\n",
    "Примем за нулевую гипотезу то, что средняя выручка пользователей тарифа «Ультра» равна средней выручке пользователей тарифа «Смарт».\n",
    "\n",
    "А в качестве альтернативной гипотезы то, что средняя выручка пользователей тарифов «Ультра» и «Смарт» различаются.\n",
    "\n",
    "Уровень статистической значимости примем за α=1%. Если p-значение меньше порогового значения alpha, то гипотезу отвергаем. Иначе - не отвергаем."
   ]
  },
  {
   "cell_type": "code",
   "execution_count": 25,
   "metadata": {},
   "outputs": [
    {
     "name": "stdout",
     "output_type": "stream",
     "text": [
      "Получаем:\n",
      "p-значение: 4.2606313931076085e-250\n",
      "Формируем функцию, сравнивающую статитстическую значимость и полученное р-значение. Выводим результат на экран: \n",
      "Отвергаем нулевую гипотезу\n"
     ]
    }
   ],
   "source": [
    "ultra = grouped_data.query('tariff == \"ultra\"')['revenue']\n",
    "smart = grouped_data.query('tariff == \"smart\"')['revenue']\n",
    "\n",
    "alpha = 0.01\n",
    "\n",
    "results = st.ttest_ind(\n",
    "    ultra, \n",
    "    smart, \n",
    "    equal_var=False)\n",
    "\n",
    "print('Получаем:')\n",
    "print('p-значение:', results.pvalue)\n",
    "\n",
    "print('Формируем функцию, сравнивающую статитстическую значимость и полученное р-значение. Выводим результат на экран: ')\n",
    "if (results.pvalue < alpha):\n",
    "    print(\"Отвергаем нулевую гипотезу\")\n",
    "else:\n",
    "    print(\"Не получилось отвергнуть нулевую гипотезу\")"
   ]
  },
  {
   "cell_type": "code",
   "execution_count": 26,
   "metadata": {},
   "outputs": [
    {
     "name": "stdout",
     "output_type": "stream",
     "text": [
      "Выводим медианные значения выручки по тарифам: \n"
     ]
    },
    {
     "data": {
      "text/html": [
       "<div>\n",
       "<style scoped>\n",
       "    .dataframe tbody tr th:only-of-type {\n",
       "        vertical-align: middle;\n",
       "    }\n",
       "\n",
       "    .dataframe tbody tr th {\n",
       "        vertical-align: top;\n",
       "    }\n",
       "\n",
       "    .dataframe thead th {\n",
       "        text-align: right;\n",
       "    }\n",
       "</style>\n",
       "<table border=\"1\" class=\"dataframe\">\n",
       "  <thead>\n",
       "    <tr style=\"text-align: right;\">\n",
       "      <th></th>\n",
       "      <th>tariff</th>\n",
       "      <th>revenue</th>\n",
       "    </tr>\n",
       "  </thead>\n",
       "  <tbody>\n",
       "    <tr>\n",
       "      <th>0</th>\n",
       "      <td>smart</td>\n",
       "      <td>1023.0</td>\n",
       "    </tr>\n",
       "    <tr>\n",
       "      <th>1</th>\n",
       "      <td>ultra</td>\n",
       "      <td>1950.0</td>\n",
       "    </tr>\n",
       "  </tbody>\n",
       "</table>\n",
       "</div>"
      ],
      "text/plain": [
       "  tariff  revenue\n",
       "0  smart   1023.0\n",
       "1  ultra   1950.0"
      ]
     },
     "execution_count": 26,
     "metadata": {},
     "output_type": "execute_result"
    }
   ],
   "source": [
    "print('Выводим медианные значения выручки по тарифам: ')\n",
    "median_reven=grouped_data.pivot_table(index='tariff', values='revenue', aggfunc='median')\n",
    "median_reven=median_reven.reset_index(level=0) #опять индексы\n",
    "median_reven\n",
    "#print(grouped_data.pivot_table(index='tariff', values='revenue', aggfunc='median'))\n"
   ]
  },
  {
   "cell_type": "code",
   "execution_count": 27,
   "metadata": {},
   "outputs": [
    {
     "data": {
      "image/png": "[encoded data removed]",
      "text/plain": [
       "<Figure size 360x360 with 1 Axes>"
      ]
     },
     "metadata": {},
     "output_type": "display_data"
    }
   ],
   "source": [
    "median_reven= sns.catplot(x='tariff', y='revenue', kind='box', data=grouped_data, orient='v', palette=\"Set3\")"
   ]
  },
  {
   "cell_type": "markdown",
   "metadata": {},
   "source": [
    "Медианные значения выручки по тарифам различаются почти в 2 раза. Мы видим, что у \"медианного\" пользователя тарифа \"Смарт\" с абонентской платой в 550 рублей, расход средств за месяц превышает плату по тарифу на 987-550= 437р(79,6%), значит, он вышел за рамки заложенных в тариф возможностей.   \n",
    "\n",
    "По итогу вычислений можно сделать вывод, что наша альтернативная гипотеза подтвердилась:  доходы \"Мегалайна\", полученные от пользователя тарифа \"Ультра\" действительно отличаются в сравнении с доходом от пользователя с тарифом  \"Смарт\"."
   ]
  },
  {
   "cell_type": "markdown",
   "metadata": {},
   "source": [
    "*Работаем со второй гипотезой:*\n",
    "\n",
    "В качестве нулевой примем утверждение, что средняя выручка пользователей из Москвы равна средней выручке пользователей из других регионов.\n",
    "\n",
    "В качестве альтернативной — средняя выручка пользователей из Москвы отличается от средней выручке пользователей из других регионов.\n",
    "\n",
    "Статистическую значимость оставляем с тем же значением: α=1%"
   ]
  },
  {
   "cell_type": "code",
   "execution_count": 28,
   "metadata": {},
   "outputs": [
    {
     "name": "stdout",
     "output_type": "stream",
     "text": [
      "Формируем две переменные: с доходами, которые приносят жителями Москвы,  и с доходами от жителей регионов.\n",
      "Получаем:\n",
      "p-значение: 0.5257376663729298\n",
      "\n",
      "Формируем функцию, сравнивающую статитстическую значимость и полученное р-значение. Выводим результат на экран: \n",
      "Не получилось отвергнуть нулевую гипотезу\n",
      "\n",
      "Формируем таблицу с медианными значениями выручки:\n",
      "               revenue\n",
      "region                \n",
      "Другой регион   1583.0\n",
      "Москва          1750.0\n"
     ]
    }
   ],
   "source": [
    "print('Формируем две переменные: с доходами, которые приносят жителями Москвы,  и с доходами от жителей регионов.')\n",
    "\n",
    "\n",
    "moscow = grouped_data.query('city == \"Москва\"')['revenue']\n",
    "regions = grouped_data.query('city != \"Москва\"')['revenue']\n",
    "\n",
    "alpha = .01\n",
    "\n",
    "results = st.ttest_ind(\n",
    "    moscow, \n",
    "    regions, \n",
    "    equal_var=False)\n",
    "\n",
    "\n",
    "print('Получаем:')\n",
    "print('p-значение:', results.pvalue)\n",
    "print('')\n",
    "print('Формируем функцию, сравнивающую статитстическую значимость и полученное р-значение. Выводим результат на экран: ')\n",
    "if (results.pvalue < alpha):\n",
    "    print(\"Отвергаем нулевую гипотезу\")\n",
    "else:\n",
    "    print(\"Не получилось отвергнуть нулевую гипотезу\")\n",
    "\n",
    "def det_region(city):\n",
    "    if city == 'Москва': return 'Москва'\n",
    "    else: return 'Другой регион'\n",
    "    \n",
    "grouped_data['region'] = grouped_data['city'].apply(det_region)\n",
    "print('')\n",
    "print('Формируем таблицу с медианными значениями выручки:')\n",
    "print(grouped_data.pivot_table(index='region', values='revenue', aggfunc='median'))"
   ]
  },
  {
   "cell_type": "code",
   "execution_count": 29,
   "metadata": {},
   "outputs": [
    {
     "data": {
      "image/png": "[encoded data removed]",
      "text/plain": [
       "<Figure size 360x360 with 1 Axes>"
      ]
     },
     "metadata": {},
     "output_type": "display_data"
    }
   ],
   "source": [
    "_ = sns.catplot(x=\"region\", y='revenue', kind=\"box\", data=grouped_data, orient='v', palette=\"Set3\")"
   ]
  },
  {
   "cell_type": "markdown",
   "metadata": {},
   "source": [
    "По гистограмме видно, что доходы от жителей Москвы практически не отличаются от дохода, полученного от жителей регионов. По статистическому исследованию нулевую гипотезу тоже нельзя опровергнуть. С учетом р-значения, вероятность ошибки при утверждении, что доходы москвичей и жителей регионов отличаются, равна 52.3% .\n"
   ]
  },
  {
   "cell_type": "markdown",
   "metadata": {},
   "source": [
    "**Вывод:**\n",
    "\n",
    "По результатам статистического анализа доходы от тарифа «Ультра» больше, чем от тарифа «Смарт»: в среднем «Мегалайн» от одного пользователя в месяц получает 1950 рублей и 988 рублей соответственно  (p−значение=o(1) ,  α=1%) .\n",
    "\n",
    "*Особенности использования тарифов заключаются в следующем:*\n",
    "\n",
    "Пользователям тарифа «Смарт» не хватает услуг в рамках тарифного пакета: кроме абонентской платы пользователи в среднем доплачивают еще 438 рублей ежемесячно (+79,6%).\n",
    "Пользователи тарифа «Ультра», напротив, не используют тарифный пакет в полном объеме.\n",
    "Средние доходы от пользователей в Москве не отличаются от доходов в других населенных пунктах: разница статистически незначима (p-значение: 0,523) и составляет 188 руб.: 1734 руб. в Москве против 1546 руб в других населенных пунктах."
   ]
  },
  {
   "cell_type": "markdown",
   "metadata": {},
   "source": [
    "**7. Общий вывод.**"
   ]
  },
  {
   "cell_type": "markdown",
   "metadata": {},
   "source": [
    "В процессе исследования я сделала предварительный анализ тарифов на небольшой выборке клиентов в 500 человек с целью установить наиболее прибыльный для компании. Изначально были видвинуты для работы следующие гипотезы:\n",
    "- средняя выручка пользователей тарифов «Ультра» и «Смарт» различаются;\n",
    "- средняя выручка пользователей из Москвы отличается от выручки пользователей из других регионов.\n",
    "\n",
    "\n",
    "В начале была произведена подготовка предоставленных таблиц к дальнейшей работе. Были заполнены пропуски логически обоснованными значениями, подтверждено отсутствие дубликатов, были изменены типы данных в столбцах с датами, а так же числовые значения были переведены в целочисленные на основании условий тарифов. Дана предварительная оценка использованию пользователями звонков и интернет-трафика. Далее были проведены необходимые для статистического анализа расчеты, результаты которых были добавлены в таблицу. Были оценены выбросы - по итогу они незначительны и являются частью характиристики \"поведения\" пользователей.  В процессе были использованы возможности визуализации.  Был проведен статистический анализ полученных данных с вычислением р-значения и определением величины статистической значимости, а так же с формулированием нулевой и альтернативной гипотез.  Были сформированы иллюстрирующие полученные зависимости диаграммы и графики. Поэтапно были сделаны выводы. \n",
    "\n",
    "\n",
    "\n",
    "На основании проделанных вычислений можно сформулировать следующие выводы в отношении первоначальных гепотез:\n",
    "-  доходы от тарифа «Ультра» больше, чем от тарифа «Смарт»: медиванное значение дохода, получаемого «Мегалайном» от одного пользователя в месяц выходит 1950 рублей и 988 рублей соответственно.  \n",
    "\n",
    "- доходы от жителей Москвы статистически незначительно  отличаются от дохода, полученного от жителей регионов. С учетом р-значения, вероятность ошибки при утверждении, что доходы москвичей и жителей регионов отличаются, составляет 50.3% . Следовательно, о значимом различии выручки с уверенностью сказать нельзя, необходимо расширение задач исследования и выборки в обеих группах.\n",
    "\n",
    "Так же, можно отметить следующие особенности использования тарифов пользователями:\n",
    "\n",
    "- пользователям тарифа «Смарт» не хватает объема услуг в рамках тарифного пакета: кроме абонентской платы пользователи в среднем доплачивают еще 438 рублей ежемесячно (+79,6%).\n",
    "- пользователи тарифа «Ультра», напротив, не используют тарифный пакет в полном объеме, либо используют в большей степени одну из функций.\n",
    "\n",
    "Исходя из полученных данных, можно дать следующие рекомендации компании:\n",
    "- возможно, следует разработать более гибкий тариф для пользователей, которые готовы платить больше \"смарта\" ради большего объема определенных функций, но не готовы оплачивать \"ультра\" из-за ненужного объема побочных возможностей. \n",
    "- т к доходы, получаемые от жителей Москвы и жителей регионов статистически значимо не отличаются, есть резон уделить больше внимания развитию \"рынка\" вне мегаполиса и вместе с тем лучше изучить потребности жителей Москвы(и других городов-миллионников, тк они включены в \"периферию\", но дохода, больше, чем в Москве, мы не наблюдаем)\n",
    "\n",
    "\n",
    "\n",
    "\n"
   ]
  }
 ],
 "metadata": {
  "ExecuteTimeLog": [
   {
    "duration": 134,
    "start_time": "2022-04-27T15:53:14.358Z"
   },
   {
    "duration": 1629,
    "start_time": "2022-04-27T15:55:41.816Z"
   },
   {
    "duration": 551,
    "start_time": "2022-04-27T15:56:46.095Z"
   },
   {
    "duration": 560,
    "start_time": "2022-04-27T15:58:31.341Z"
   },
   {
    "duration": 20,
    "start_time": "2022-04-27T15:58:36.577Z"
   },
   {
    "duration": 40,
    "start_time": "2022-04-27T15:58:53.196Z"
   },
   {
    "duration": 17,
    "start_time": "2022-04-27T16:01:27.031Z"
   },
   {
    "duration": 24,
    "start_time": "2022-04-27T16:02:17.942Z"
   },
   {
    "duration": 83,
    "start_time": "2022-04-27T16:04:39.330Z"
   },
   {
    "duration": 7,
    "start_time": "2022-04-27T16:04:56.648Z"
   },
   {
    "duration": 7,
    "start_time": "2022-04-27T16:05:32.415Z"
   },
   {
    "duration": 382,
    "start_time": "2022-04-27T16:05:49.450Z"
   },
   {
    "duration": 288,
    "start_time": "2022-04-27T16:06:01.497Z"
   },
   {
    "duration": 360,
    "start_time": "2022-04-27T16:06:11.545Z"
   },
   {
    "duration": 371,
    "start_time": "2022-04-27T16:06:41.289Z"
   },
   {
    "duration": 21,
    "start_time": "2022-04-27T16:09:36.041Z"
   },
   {
    "duration": 562,
    "start_time": "2022-04-27T16:10:05.510Z"
   },
   {
    "duration": 22,
    "start_time": "2022-04-27T16:10:22.623Z"
   },
   {
    "duration": 596,
    "start_time": "2022-04-27T16:11:39.173Z"
   },
   {
    "duration": 7,
    "start_time": "2022-04-27T16:12:00.989Z"
   },
   {
    "duration": 124,
    "start_time": "2022-04-27T16:12:18.856Z"
   },
   {
    "duration": 34,
    "start_time": "2022-04-27T16:14:11.438Z"
   },
   {
    "duration": 380,
    "start_time": "2022-04-27T16:17:11.868Z"
   },
   {
    "duration": 317,
    "start_time": "2022-04-27T16:19:21.423Z"
   },
   {
    "duration": 303,
    "start_time": "2022-04-27T16:19:44.246Z"
   },
   {
    "duration": 10,
    "start_time": "2022-04-27T16:20:14.700Z"
   },
   {
    "duration": 14,
    "start_time": "2022-04-27T16:20:26.614Z"
   },
   {
    "duration": 73,
    "start_time": "2022-04-27T16:22:24.464Z"
   },
   {
    "duration": 58,
    "start_time": "2022-04-27T16:23:28.829Z"
   },
   {
    "duration": 22,
    "start_time": "2022-04-27T16:24:03.617Z"
   },
   {
    "duration": 19,
    "start_time": "2022-04-27T16:24:24.208Z"
   },
   {
    "duration": 12,
    "start_time": "2022-04-27T16:24:30.044Z"
   },
   {
    "duration": 12,
    "start_time": "2022-04-27T16:24:55.468Z"
   },
   {
    "duration": 13,
    "start_time": "2022-04-27T16:25:04.067Z"
   },
   {
    "duration": 25,
    "start_time": "2022-04-27T16:25:08.741Z"
   },
   {
    "duration": 1899,
    "start_time": "2022-04-27T16:25:38.588Z"
   },
   {
    "duration": 24,
    "start_time": "2022-04-27T16:25:40.489Z"
   },
   {
    "duration": 18,
    "start_time": "2022-04-27T16:25:40.515Z"
   },
   {
    "duration": 112,
    "start_time": "2022-04-27T16:25:40.535Z"
   },
   {
    "duration": 7,
    "start_time": "2022-04-27T16:25:40.649Z"
   },
   {
    "duration": 267,
    "start_time": "2022-04-27T16:25:40.657Z"
   },
   {
    "duration": 28,
    "start_time": "2022-04-27T16:25:40.926Z"
   },
   {
    "duration": 519,
    "start_time": "2022-04-27T16:25:40.956Z"
   },
   {
    "duration": 38,
    "start_time": "2022-04-27T16:25:41.478Z"
   },
   {
    "duration": 631,
    "start_time": "2022-04-27T16:25:41.520Z"
   },
   {
    "duration": 6,
    "start_time": "2022-04-27T16:25:42.153Z"
   },
   {
    "duration": 394,
    "start_time": "2022-04-27T16:25:42.161Z"
   },
   {
    "duration": 15,
    "start_time": "2022-04-27T16:25:42.557Z"
   },
   {
    "duration": 76,
    "start_time": "2022-04-27T16:25:42.574Z"
   },
   {
    "duration": 50,
    "start_time": "2022-04-27T16:25:42.652Z"
   },
   {
    "duration": 39,
    "start_time": "2022-04-27T16:26:32.491Z"
   },
   {
    "duration": 3059,
    "start_time": "2022-04-27T16:26:50.924Z"
   },
   {
    "duration": 32,
    "start_time": "2022-04-27T16:27:09.787Z"
   },
   {
    "duration": 121,
    "start_time": "2022-04-27T16:27:12.073Z"
   },
   {
    "duration": 133,
    "start_time": "2022-04-27T16:27:27.093Z"
   },
   {
    "duration": 159,
    "start_time": "2022-04-27T16:28:19.801Z"
   },
   {
    "duration": 46,
    "start_time": "2022-04-27T16:29:32.223Z"
   },
   {
    "duration": 4,
    "start_time": "2022-04-27T16:30:28.989Z"
   },
   {
    "duration": 149,
    "start_time": "2022-04-27T16:30:39.279Z"
   },
   {
    "duration": 4,
    "start_time": "2022-04-27T16:30:44.350Z"
   },
   {
    "duration": 135,
    "start_time": "2022-04-27T16:30:45.039Z"
   },
   {
    "duration": 39,
    "start_time": "2022-04-27T16:31:09.764Z"
   },
   {
    "duration": 40,
    "start_time": "2022-04-27T16:31:20.491Z"
   },
   {
    "duration": 131,
    "start_time": "2022-04-27T16:31:42.535Z"
   },
   {
    "duration": 1054,
    "start_time": "2022-04-27T16:32:11.128Z"
   },
   {
    "duration": 236,
    "start_time": "2022-04-27T16:32:48.959Z"
   },
   {
    "duration": 269,
    "start_time": "2022-04-27T16:33:06.362Z"
   },
   {
    "duration": 249,
    "start_time": "2022-04-27T16:33:18.581Z"
   },
   {
    "duration": 37,
    "start_time": "2022-04-27T16:36:38.384Z"
   },
   {
    "duration": 1837,
    "start_time": "2022-04-27T16:36:54.943Z"
   },
   {
    "duration": 18,
    "start_time": "2022-04-27T16:36:56.782Z"
   },
   {
    "duration": 21,
    "start_time": "2022-04-27T16:36:56.802Z"
   },
   {
    "duration": 97,
    "start_time": "2022-04-27T16:36:56.824Z"
   },
   {
    "duration": 6,
    "start_time": "2022-04-27T16:36:56.923Z"
   },
   {
    "duration": 236,
    "start_time": "2022-04-27T16:36:56.931Z"
   },
   {
    "duration": 39,
    "start_time": "2022-04-27T16:36:57.169Z"
   },
   {
    "duration": 554,
    "start_time": "2022-04-27T16:36:57.210Z"
   },
   {
    "duration": 28,
    "start_time": "2022-04-27T16:36:57.766Z"
   },
   {
    "duration": 541,
    "start_time": "2022-04-27T16:36:57.797Z"
   },
   {
    "duration": 6,
    "start_time": "2022-04-27T16:36:58.340Z"
   },
   {
    "duration": 372,
    "start_time": "2022-04-27T16:36:58.347Z"
   },
   {
    "duration": 12,
    "start_time": "2022-04-27T16:36:58.721Z"
   },
   {
    "duration": 63,
    "start_time": "2022-04-27T16:36:58.736Z"
   },
   {
    "duration": 23,
    "start_time": "2022-04-27T16:36:58.803Z"
   },
   {
    "duration": 134,
    "start_time": "2022-04-27T16:36:58.828Z"
   },
   {
    "duration": 3,
    "start_time": "2022-04-27T16:36:58.964Z"
   },
   {
    "duration": 187,
    "start_time": "2022-04-27T16:36:58.969Z"
   },
   {
    "duration": 56,
    "start_time": "2022-04-27T16:36:59.158Z"
   },
   {
    "duration": 891,
    "start_time": "2022-04-27T16:36:59.216Z"
   },
   {
    "duration": 232,
    "start_time": "2022-04-27T16:37:00.109Z"
   },
   {
    "duration": 271,
    "start_time": "2022-04-27T16:37:00.343Z"
   },
   {
    "duration": 241,
    "start_time": "2022-04-27T16:37:00.616Z"
   },
   {
    "duration": 11,
    "start_time": "2022-04-27T16:37:00.860Z"
   },
   {
    "duration": 12,
    "start_time": "2022-04-27T16:37:54.355Z"
   },
   {
    "duration": 22,
    "start_time": "2022-04-27T16:38:01.902Z"
   },
   {
    "duration": 296,
    "start_time": "2022-04-27T16:38:36.387Z"
   },
   {
    "duration": 116,
    "start_time": "2022-04-27T16:40:31.790Z"
   },
   {
    "duration": 313,
    "start_time": "2022-04-27T16:40:55.632Z"
   },
   {
    "duration": 1846,
    "start_time": "2022-04-27T18:58:30.278Z"
   },
   {
    "duration": 17,
    "start_time": "2022-04-27T18:58:32.127Z"
   },
   {
    "duration": 16,
    "start_time": "2022-04-27T18:58:32.146Z"
   },
   {
    "duration": 99,
    "start_time": "2022-04-27T18:58:32.165Z"
   },
   {
    "duration": 7,
    "start_time": "2022-04-27T18:58:32.266Z"
   },
   {
    "duration": 222,
    "start_time": "2022-04-27T18:58:32.293Z"
   },
   {
    "duration": 22,
    "start_time": "2022-04-27T18:58:32.517Z"
   },
   {
    "duration": 426,
    "start_time": "2022-04-27T18:58:32.541Z"
   },
   {
    "duration": 31,
    "start_time": "2022-04-27T18:58:32.969Z"
   },
   {
    "duration": 441,
    "start_time": "2022-04-27T18:58:33.003Z"
   },
   {
    "duration": 6,
    "start_time": "2022-04-27T18:58:33.446Z"
   },
   {
    "duration": 355,
    "start_time": "2022-04-27T18:58:33.454Z"
   },
   {
    "duration": 12,
    "start_time": "2022-04-27T18:58:33.811Z"
   },
   {
    "duration": 48,
    "start_time": "2022-04-27T18:58:33.825Z"
   },
   {
    "duration": 38,
    "start_time": "2022-04-27T18:58:33.874Z"
   },
   {
    "duration": 134,
    "start_time": "2022-04-27T18:58:33.914Z"
   },
   {
    "duration": 4,
    "start_time": "2022-04-27T18:58:34.050Z"
   },
   {
    "duration": 166,
    "start_time": "2022-04-27T18:58:34.056Z"
   },
   {
    "duration": 32,
    "start_time": "2022-04-27T18:58:34.224Z"
   },
   {
    "duration": 887,
    "start_time": "2022-04-27T18:58:34.258Z"
   },
   {
    "duration": 227,
    "start_time": "2022-04-27T18:58:35.147Z"
   },
   {
    "duration": 249,
    "start_time": "2022-04-27T18:58:35.376Z"
   },
   {
    "duration": 235,
    "start_time": "2022-04-27T18:58:35.627Z"
   },
   {
    "duration": 12,
    "start_time": "2022-04-27T18:58:35.864Z"
   },
   {
    "duration": 17,
    "start_time": "2022-04-27T18:58:35.892Z"
   },
   {
    "duration": 301,
    "start_time": "2022-04-27T18:58:35.911Z"
   },
   {
    "duration": 111,
    "start_time": "2022-04-27T18:58:36.214Z"
   },
   {
    "duration": 322,
    "start_time": "2022-04-27T18:58:36.329Z"
   },
   {
    "duration": 115,
    "start_time": "2022-05-02T18:18:25.049Z"
   },
   {
    "duration": 2756,
    "start_time": "2022-05-02T18:18:27.532Z"
   },
   {
    "duration": 46,
    "start_time": "2022-05-02T18:18:30.292Z"
   },
   {
    "duration": 30,
    "start_time": "2022-05-02T18:18:30.340Z"
   },
   {
    "duration": 163,
    "start_time": "2022-05-02T18:18:30.374Z"
   },
   {
    "duration": 11,
    "start_time": "2022-05-02T18:18:30.543Z"
   },
   {
    "duration": 352,
    "start_time": "2022-05-02T18:18:30.557Z"
   },
   {
    "duration": 46,
    "start_time": "2022-05-02T18:18:30.911Z"
   },
   {
    "duration": 732,
    "start_time": "2022-05-02T18:18:30.960Z"
   },
   {
    "duration": 38,
    "start_time": "2022-05-02T18:18:31.694Z"
   },
   {
    "duration": 643,
    "start_time": "2022-05-02T18:18:31.737Z"
   },
   {
    "duration": 8,
    "start_time": "2022-05-02T18:18:32.382Z"
   },
   {
    "duration": 543,
    "start_time": "2022-05-02T18:18:32.392Z"
   },
   {
    "duration": 20,
    "start_time": "2022-05-02T18:18:32.938Z"
   },
   {
    "duration": 24,
    "start_time": "2022-05-02T18:18:32.961Z"
   },
   {
    "duration": 96,
    "start_time": "2022-05-02T18:18:32.988Z"
   },
   {
    "duration": 63,
    "start_time": "2022-05-02T18:18:33.087Z"
   },
   {
    "duration": 229,
    "start_time": "2022-05-02T18:18:33.154Z"
   },
   {
    "duration": 5,
    "start_time": "2022-05-02T18:18:33.386Z"
   },
   {
    "duration": 239,
    "start_time": "2022-05-02T18:18:33.394Z"
   },
   {
    "duration": 53,
    "start_time": "2022-05-02T18:18:33.635Z"
   },
   {
    "duration": 1303,
    "start_time": "2022-05-02T18:18:33.690Z"
   },
   {
    "duration": 380,
    "start_time": "2022-05-02T18:18:34.996Z"
   },
   {
    "duration": 426,
    "start_time": "2022-05-02T18:18:35.378Z"
   },
   {
    "duration": 389,
    "start_time": "2022-05-02T18:18:35.806Z"
   },
   {
    "duration": 35,
    "start_time": "2022-05-02T18:18:36.198Z"
   },
   {
    "duration": 44,
    "start_time": "2022-05-02T18:18:36.237Z"
   },
   {
    "duration": 427,
    "start_time": "2022-05-02T18:18:36.283Z"
   },
   {
    "duration": 142,
    "start_time": "2022-05-02T18:18:36.715Z"
   },
   {
    "duration": 450,
    "start_time": "2022-05-02T18:18:36.860Z"
   },
   {
    "duration": 123,
    "start_time": "2022-05-02T18:30:04.254Z"
   },
   {
    "duration": 466,
    "start_time": "2022-05-02T18:33:50.388Z"
   },
   {
    "duration": 75,
    "start_time": "2022-05-02T21:17:30.003Z"
   },
   {
    "duration": 2491,
    "start_time": "2022-05-02T21:19:09.738Z"
   },
   {
    "duration": 33,
    "start_time": "2022-05-02T21:19:12.233Z"
   },
   {
    "duration": 19,
    "start_time": "2022-05-02T21:19:12.268Z"
   },
   {
    "duration": 137,
    "start_time": "2022-05-02T21:19:12.290Z"
   },
   {
    "duration": 10,
    "start_time": "2022-05-02T21:19:12.430Z"
   },
   {
    "duration": 319,
    "start_time": "2022-05-02T21:19:12.453Z"
   },
   {
    "duration": 27,
    "start_time": "2022-05-02T21:19:12.774Z"
   },
   {
    "duration": 688,
    "start_time": "2022-05-02T21:19:12.803Z"
   },
   {
    "duration": 21,
    "start_time": "2022-05-02T21:19:13.493Z"
   },
   {
    "duration": 610,
    "start_time": "2022-05-02T21:19:13.518Z"
   },
   {
    "duration": 8,
    "start_time": "2022-05-02T21:19:14.130Z"
   },
   {
    "duration": 495,
    "start_time": "2022-05-02T21:19:14.140Z"
   },
   {
    "duration": 31,
    "start_time": "2022-05-02T21:19:14.637Z"
   },
   {
    "duration": 53,
    "start_time": "2022-05-02T21:19:14.671Z"
   },
   {
    "duration": 35,
    "start_time": "2022-05-02T21:19:14.752Z"
   },
   {
    "duration": 226,
    "start_time": "2022-05-02T21:19:14.790Z"
   },
   {
    "duration": 5,
    "start_time": "2022-05-02T21:19:15.020Z"
   },
   {
    "duration": 236,
    "start_time": "2022-05-02T21:19:15.027Z"
   },
   {
    "duration": 48,
    "start_time": "2022-05-02T21:19:15.265Z"
   },
   {
    "duration": 1262,
    "start_time": "2022-05-02T21:19:15.315Z"
   },
   {
    "duration": 448,
    "start_time": "2022-05-02T21:19:16.580Z"
   },
   {
    "duration": 357,
    "start_time": "2022-05-02T21:19:17.031Z"
   },
   {
    "duration": 390,
    "start_time": "2022-05-02T21:19:17.391Z"
   },
   {
    "duration": 437,
    "start_time": "2022-05-02T21:19:17.784Z"
   },
   {
    "duration": 28,
    "start_time": "2022-05-02T21:19:18.224Z"
   },
   {
    "duration": 33,
    "start_time": "2022-05-02T21:19:18.255Z"
   },
   {
    "duration": 416,
    "start_time": "2022-05-02T21:19:18.291Z"
   },
   {
    "duration": 42,
    "start_time": "2022-05-02T21:19:18.713Z"
   },
   {
    "duration": 444,
    "start_time": "2022-05-02T21:19:18.758Z"
   },
   {
    "duration": 2233,
    "start_time": "2022-05-02T21:33:59.051Z"
   },
   {
    "duration": 23,
    "start_time": "2022-05-02T21:34:01.287Z"
   },
   {
    "duration": 45,
    "start_time": "2022-05-02T21:34:01.312Z"
   },
   {
    "duration": 123,
    "start_time": "2022-05-02T21:34:01.359Z"
   },
   {
    "duration": 6,
    "start_time": "2022-05-02T21:34:01.486Z"
   },
   {
    "duration": 315,
    "start_time": "2022-05-02T21:34:01.494Z"
   },
   {
    "duration": 41,
    "start_time": "2022-05-02T21:34:01.811Z"
   },
   {
    "duration": 9,
    "start_time": "2022-05-02T21:34:01.854Z"
   },
   {
    "duration": 438,
    "start_time": "2022-05-02T21:34:01.866Z"
   },
   {
    "duration": 0,
    "start_time": "2022-05-02T21:34:02.307Z"
   },
   {
    "duration": 0,
    "start_time": "2022-05-02T21:34:02.309Z"
   },
   {
    "duration": 0,
    "start_time": "2022-05-02T21:34:02.311Z"
   },
   {
    "duration": 0,
    "start_time": "2022-05-02T21:34:02.313Z"
   },
   {
    "duration": 0,
    "start_time": "2022-05-02T21:34:02.315Z"
   },
   {
    "duration": 0,
    "start_time": "2022-05-02T21:34:02.316Z"
   },
   {
    "duration": 0,
    "start_time": "2022-05-02T21:34:02.318Z"
   },
   {
    "duration": 0,
    "start_time": "2022-05-02T21:34:02.320Z"
   },
   {
    "duration": 0,
    "start_time": "2022-05-02T21:34:02.322Z"
   },
   {
    "duration": 0,
    "start_time": "2022-05-02T21:34:02.323Z"
   },
   {
    "duration": 0,
    "start_time": "2022-05-02T21:34:02.325Z"
   },
   {
    "duration": 0,
    "start_time": "2022-05-02T21:34:02.351Z"
   },
   {
    "duration": 0,
    "start_time": "2022-05-02T21:34:02.353Z"
   },
   {
    "duration": 0,
    "start_time": "2022-05-02T21:34:02.355Z"
   },
   {
    "duration": 0,
    "start_time": "2022-05-02T21:34:02.357Z"
   },
   {
    "duration": 0,
    "start_time": "2022-05-02T21:34:02.358Z"
   },
   {
    "duration": 0,
    "start_time": "2022-05-02T21:34:02.360Z"
   },
   {
    "duration": 473,
    "start_time": "2022-05-02T21:58:15.467Z"
   },
   {
    "duration": 19,
    "start_time": "2022-05-02T22:11:01.775Z"
   },
   {
    "duration": 53,
    "start_time": "2022-05-02T22:12:34.203Z"
   },
   {
    "duration": 34,
    "start_time": "2022-05-02T22:12:41.061Z"
   },
   {
    "duration": 2154,
    "start_time": "2022-05-02T22:13:12.836Z"
   },
   {
    "duration": 19,
    "start_time": "2022-05-02T22:16:33.830Z"
   },
   {
    "duration": 2164,
    "start_time": "2022-05-02T22:16:40.208Z"
   },
   {
    "duration": 23,
    "start_time": "2022-05-02T22:16:42.375Z"
   },
   {
    "duration": 26,
    "start_time": "2022-05-02T22:16:42.400Z"
   },
   {
    "duration": 131,
    "start_time": "2022-05-02T22:16:42.429Z"
   },
   {
    "duration": 6,
    "start_time": "2022-05-02T22:16:42.562Z"
   },
   {
    "duration": 302,
    "start_time": "2022-05-02T22:16:42.570Z"
   },
   {
    "duration": 27,
    "start_time": "2022-05-02T22:16:42.874Z"
   },
   {
    "duration": 624,
    "start_time": "2022-05-02T22:16:42.903Z"
   },
   {
    "duration": 7,
    "start_time": "2022-05-02T22:16:43.529Z"
   },
   {
    "duration": 267,
    "start_time": "2022-05-02T22:16:43.540Z"
   },
   {
    "duration": 0,
    "start_time": "2022-05-02T22:16:43.809Z"
   },
   {
    "duration": 1,
    "start_time": "2022-05-02T22:16:43.811Z"
   },
   {
    "duration": 0,
    "start_time": "2022-05-02T22:16:43.813Z"
   },
   {
    "duration": 0,
    "start_time": "2022-05-02T22:16:43.814Z"
   },
   {
    "duration": 0,
    "start_time": "2022-05-02T22:16:43.816Z"
   },
   {
    "duration": 0,
    "start_time": "2022-05-02T22:16:43.817Z"
   },
   {
    "duration": 0,
    "start_time": "2022-05-02T22:16:43.819Z"
   },
   {
    "duration": 0,
    "start_time": "2022-05-02T22:16:43.820Z"
   },
   {
    "duration": 0,
    "start_time": "2022-05-02T22:16:43.821Z"
   },
   {
    "duration": 0,
    "start_time": "2022-05-02T22:16:43.823Z"
   },
   {
    "duration": 0,
    "start_time": "2022-05-02T22:16:43.824Z"
   },
   {
    "duration": 0,
    "start_time": "2022-05-02T22:16:43.826Z"
   },
   {
    "duration": 0,
    "start_time": "2022-05-02T22:16:43.851Z"
   },
   {
    "duration": 0,
    "start_time": "2022-05-02T22:16:43.852Z"
   },
   {
    "duration": 0,
    "start_time": "2022-05-02T22:16:43.854Z"
   },
   {
    "duration": 0,
    "start_time": "2022-05-02T22:16:43.855Z"
   },
   {
    "duration": 0,
    "start_time": "2022-05-02T22:16:43.857Z"
   },
   {
    "duration": 1829,
    "start_time": "2022-05-02T22:17:42.025Z"
   },
   {
    "duration": 459,
    "start_time": "2022-05-02T22:18:09.781Z"
   },
   {
    "duration": 1865,
    "start_time": "2022-05-02T22:29:24.750Z"
   },
   {
    "duration": 19,
    "start_time": "2022-05-02T22:29:44.115Z"
   },
   {
    "duration": 53,
    "start_time": "2022-05-02T22:29:45.741Z"
   },
   {
    "duration": 30,
    "start_time": "2022-05-02T22:29:47.466Z"
   },
   {
    "duration": 35,
    "start_time": "2022-05-02T22:29:48.843Z"
   },
   {
    "duration": 2208,
    "start_time": "2022-05-02T22:36:01.503Z"
   },
   {
    "duration": 23,
    "start_time": "2022-05-02T22:36:03.714Z"
   },
   {
    "duration": 21,
    "start_time": "2022-05-02T22:36:03.752Z"
   },
   {
    "duration": 124,
    "start_time": "2022-05-02T22:36:03.776Z"
   },
   {
    "duration": 7,
    "start_time": "2022-05-02T22:36:03.902Z"
   },
   {
    "duration": 307,
    "start_time": "2022-05-02T22:36:03.911Z"
   },
   {
    "duration": 45,
    "start_time": "2022-05-02T22:36:04.220Z"
   },
   {
    "duration": 612,
    "start_time": "2022-05-02T22:36:04.268Z"
   },
   {
    "duration": 8,
    "start_time": "2022-05-02T22:36:04.882Z"
   },
   {
    "duration": 527,
    "start_time": "2022-05-02T22:36:04.895Z"
   },
   {
    "duration": 30,
    "start_time": "2022-05-02T22:36:05.424Z"
   },
   {
    "duration": 52,
    "start_time": "2022-05-02T22:36:05.456Z"
   },
   {
    "duration": 62,
    "start_time": "2022-05-02T22:36:05.510Z"
   },
   {
    "duration": 209,
    "start_time": "2022-05-02T22:36:05.574Z"
   },
   {
    "duration": 6,
    "start_time": "2022-05-02T22:36:05.785Z"
   },
   {
    "duration": 227,
    "start_time": "2022-05-02T22:36:05.793Z"
   },
   {
    "duration": 61,
    "start_time": "2022-05-02T22:36:06.023Z"
   },
   {
    "duration": 1269,
    "start_time": "2022-05-02T22:36:06.086Z"
   },
   {
    "duration": 449,
    "start_time": "2022-05-02T22:36:07.358Z"
   },
   {
    "duration": 354,
    "start_time": "2022-05-02T22:36:07.809Z"
   },
   {
    "duration": 386,
    "start_time": "2022-05-02T22:36:08.166Z"
   },
   {
    "duration": 347,
    "start_time": "2022-05-02T22:36:08.554Z"
   },
   {
    "duration": 15,
    "start_time": "2022-05-02T22:36:08.904Z"
   },
   {
    "duration": 37,
    "start_time": "2022-05-02T22:36:08.921Z"
   },
   {
    "duration": 493,
    "start_time": "2022-05-02T22:36:08.961Z"
   },
   {
    "duration": 29,
    "start_time": "2022-05-02T22:36:09.456Z"
   },
   {
    "duration": 445,
    "start_time": "2022-05-02T22:36:09.487Z"
   },
   {
    "duration": 23,
    "start_time": "2022-05-02T23:07:26.269Z"
   },
   {
    "duration": 145,
    "start_time": "2022-05-02T23:07:50.200Z"
   },
   {
    "duration": 22,
    "start_time": "2022-05-02T23:13:12.373Z"
   },
   {
    "duration": 11,
    "start_time": "2022-05-02T23:15:53.060Z"
   },
   {
    "duration": 12,
    "start_time": "2022-05-02T23:16:19.521Z"
   },
   {
    "duration": 15,
    "start_time": "2022-05-02T23:16:26.688Z"
   },
   {
    "duration": 16,
    "start_time": "2022-05-02T23:17:00.647Z"
   },
   {
    "duration": 22,
    "start_time": "2022-05-02T23:17:55.415Z"
   },
   {
    "duration": 23,
    "start_time": "2022-05-02T23:20:53.363Z"
   },
   {
    "duration": 17,
    "start_time": "2022-05-02T23:21:01.924Z"
   },
   {
    "duration": 179,
    "start_time": "2022-05-02T23:24:04.309Z"
   },
   {
    "duration": 123,
    "start_time": "2022-05-03T00:08:47.269Z"
   },
   {
    "duration": 44,
    "start_time": "2022-05-03T00:08:55.383Z"
   },
   {
    "duration": 330,
    "start_time": "2022-05-03T00:20:26.266Z"
   },
   {
    "duration": 422,
    "start_time": "2022-05-03T00:20:48.038Z"
   },
   {
    "duration": 150,
    "start_time": "2022-05-03T00:21:43.452Z"
   },
   {
    "duration": 147,
    "start_time": "2022-05-03T00:21:47.501Z"
   },
   {
    "duration": 458,
    "start_time": "2022-05-03T00:22:13.984Z"
   },
   {
    "duration": 442,
    "start_time": "2022-05-03T00:22:52.245Z"
   },
   {
    "duration": 4,
    "start_time": "2022-05-03T00:23:18.819Z"
   },
   {
    "duration": 2127,
    "start_time": "2022-05-03T00:29:40.227Z"
   },
   {
    "duration": 23,
    "start_time": "2022-05-03T00:29:42.357Z"
   },
   {
    "duration": 30,
    "start_time": "2022-05-03T00:29:42.382Z"
   },
   {
    "duration": 125,
    "start_time": "2022-05-03T00:29:42.415Z"
   },
   {
    "duration": 12,
    "start_time": "2022-05-03T00:29:42.543Z"
   },
   {
    "duration": 307,
    "start_time": "2022-05-03T00:29:42.557Z"
   },
   {
    "duration": 27,
    "start_time": "2022-05-03T00:29:42.866Z"
   },
   {
    "duration": 628,
    "start_time": "2022-05-03T00:29:42.895Z"
   },
   {
    "duration": 7,
    "start_time": "2022-05-03T00:29:43.525Z"
   },
   {
    "duration": 490,
    "start_time": "2022-05-03T00:29:43.551Z"
   },
   {
    "duration": 22,
    "start_time": "2022-05-03T00:29:44.043Z"
   },
   {
    "duration": 50,
    "start_time": "2022-05-03T00:29:44.067Z"
   },
   {
    "duration": 58,
    "start_time": "2022-05-03T00:29:44.119Z"
   },
   {
    "duration": 7,
    "start_time": "2022-05-03T00:29:44.179Z"
   },
   {
    "duration": 206,
    "start_time": "2022-05-03T00:29:44.189Z"
   },
   {
    "duration": 5,
    "start_time": "2022-05-03T00:29:44.397Z"
   },
   {
    "duration": 218,
    "start_time": "2022-05-03T00:29:44.404Z"
   },
   {
    "duration": 602,
    "start_time": "2022-05-03T00:29:44.624Z"
   },
   {
    "duration": 59,
    "start_time": "2022-05-03T00:29:45.229Z"
   },
   {
    "duration": 1270,
    "start_time": "2022-05-03T00:29:45.291Z"
   },
   {
    "duration": 444,
    "start_time": "2022-05-03T00:29:46.563Z"
   },
   {
    "duration": 4,
    "start_time": "2022-05-03T00:29:47.010Z"
   },
   {
    "duration": 471,
    "start_time": "2022-05-03T00:29:47.017Z"
   },
   {
    "duration": 534,
    "start_time": "2022-05-03T00:29:47.490Z"
   },
   {
    "duration": 30,
    "start_time": "2022-05-03T00:29:48.026Z"
   },
   {
    "duration": 21,
    "start_time": "2022-05-03T00:29:48.059Z"
   },
   {
    "duration": 436,
    "start_time": "2022-05-03T00:29:48.082Z"
   },
   {
    "duration": 42,
    "start_time": "2022-05-03T00:29:48.523Z"
   },
   {
    "duration": 441,
    "start_time": "2022-05-03T00:29:48.567Z"
   },
   {
    "duration": 2187,
    "start_time": "2022-05-03T00:36:57.018Z"
   },
   {
    "duration": 22,
    "start_time": "2022-05-03T00:36:59.209Z"
   },
   {
    "duration": 39,
    "start_time": "2022-05-03T00:36:59.233Z"
   },
   {
    "duration": 125,
    "start_time": "2022-05-03T00:36:59.274Z"
   },
   {
    "duration": 6,
    "start_time": "2022-05-03T00:36:59.402Z"
   },
   {
    "duration": 292,
    "start_time": "2022-05-03T00:36:59.410Z"
   },
   {
    "duration": 26,
    "start_time": "2022-05-03T00:36:59.705Z"
   },
   {
    "duration": 645,
    "start_time": "2022-05-03T00:36:59.734Z"
   },
   {
    "duration": 7,
    "start_time": "2022-05-03T00:37:00.381Z"
   },
   {
    "duration": 519,
    "start_time": "2022-05-03T00:37:00.390Z"
   },
   {
    "duration": 17,
    "start_time": "2022-05-03T00:37:00.911Z"
   },
   {
    "duration": 69,
    "start_time": "2022-05-03T00:37:00.931Z"
   },
   {
    "duration": 53,
    "start_time": "2022-05-03T00:37:01.002Z"
   },
   {
    "duration": 8,
    "start_time": "2022-05-03T00:37:01.059Z"
   },
   {
    "duration": 220,
    "start_time": "2022-05-03T00:37:01.069Z"
   },
   {
    "duration": 5,
    "start_time": "2022-05-03T00:37:01.291Z"
   },
   {
    "duration": 283,
    "start_time": "2022-05-03T00:37:01.298Z"
   },
   {
    "duration": 640,
    "start_time": "2022-05-03T00:37:01.583Z"
   },
   {
    "duration": 55,
    "start_time": "2022-05-03T00:37:02.225Z"
   },
   {
    "duration": 1313,
    "start_time": "2022-05-03T00:37:02.283Z"
   },
   {
    "duration": 454,
    "start_time": "2022-05-03T00:37:03.598Z"
   },
   {
    "duration": 3,
    "start_time": "2022-05-03T00:37:04.054Z"
   },
   {
    "duration": 478,
    "start_time": "2022-05-03T00:37:04.060Z"
   },
   {
    "duration": 552,
    "start_time": "2022-05-03T00:37:04.541Z"
   },
   {
    "duration": 16,
    "start_time": "2022-05-03T00:37:05.095Z"
   },
   {
    "duration": 54,
    "start_time": "2022-05-03T00:37:05.114Z"
   },
   {
    "duration": 457,
    "start_time": "2022-05-03T00:37:05.171Z"
   },
   {
    "duration": 40,
    "start_time": "2022-05-03T00:37:05.631Z"
   },
   {
    "duration": 458,
    "start_time": "2022-05-03T00:37:05.674Z"
   },
   {
    "duration": 2235,
    "start_time": "2022-05-03T01:01:20.591Z"
   },
   {
    "duration": 35,
    "start_time": "2022-05-03T01:01:22.829Z"
   },
   {
    "duration": 55,
    "start_time": "2022-05-03T01:01:22.867Z"
   },
   {
    "duration": 135,
    "start_time": "2022-05-03T01:01:22.926Z"
   },
   {
    "duration": 8,
    "start_time": "2022-05-03T01:01:23.064Z"
   },
   {
    "duration": 321,
    "start_time": "2022-05-03T01:01:23.075Z"
   },
   {
    "duration": 30,
    "start_time": "2022-05-03T01:01:23.399Z"
   },
   {
    "duration": 610,
    "start_time": "2022-05-03T01:01:23.431Z"
   },
   {
    "duration": 7,
    "start_time": "2022-05-03T01:01:24.051Z"
   },
   {
    "duration": 514,
    "start_time": "2022-05-03T01:01:24.064Z"
   },
   {
    "duration": 18,
    "start_time": "2022-05-03T01:01:24.581Z"
   },
   {
    "duration": 81,
    "start_time": "2022-05-03T01:01:24.602Z"
   },
   {
    "duration": 33,
    "start_time": "2022-05-03T01:01:24.686Z"
   },
   {
    "duration": 7,
    "start_time": "2022-05-03T01:01:24.751Z"
   },
   {
    "duration": 213,
    "start_time": "2022-05-03T01:01:24.761Z"
   },
   {
    "duration": 6,
    "start_time": "2022-05-03T01:01:24.977Z"
   },
   {
    "duration": 223,
    "start_time": "2022-05-03T01:01:24.985Z"
   },
   {
    "duration": 611,
    "start_time": "2022-05-03T01:01:25.210Z"
   },
   {
    "duration": 56,
    "start_time": "2022-05-03T01:01:25.823Z"
   },
   {
    "duration": 1248,
    "start_time": "2022-05-03T01:01:25.881Z"
   },
   {
    "duration": 443,
    "start_time": "2022-05-03T01:01:27.131Z"
   },
   {
    "duration": 3,
    "start_time": "2022-05-03T01:01:27.576Z"
   },
   {
    "duration": 481,
    "start_time": "2022-05-03T01:01:27.581Z"
   },
   {
    "duration": 531,
    "start_time": "2022-05-03T01:01:28.064Z"
   },
   {
    "duration": 15,
    "start_time": "2022-05-03T01:01:28.597Z"
   },
   {
    "duration": 38,
    "start_time": "2022-05-03T01:01:28.614Z"
   },
   {
    "duration": 434,
    "start_time": "2022-05-03T01:01:28.655Z"
   },
   {
    "duration": 29,
    "start_time": "2022-05-03T01:01:29.093Z"
   },
   {
    "duration": 428,
    "start_time": "2022-05-03T01:01:29.124Z"
   },
   {
    "duration": 2140,
    "start_time": "2022-05-03T01:07:54.874Z"
   },
   {
    "duration": 22,
    "start_time": "2022-05-03T01:07:57.017Z"
   },
   {
    "duration": 21,
    "start_time": "2022-05-03T01:07:57.052Z"
   },
   {
    "duration": 126,
    "start_time": "2022-05-03T01:07:57.077Z"
   },
   {
    "duration": 6,
    "start_time": "2022-05-03T01:07:57.205Z"
   },
   {
    "duration": 294,
    "start_time": "2022-05-03T01:07:57.213Z"
   },
   {
    "duration": 42,
    "start_time": "2022-05-03T01:07:57.510Z"
   },
   {
    "duration": 580,
    "start_time": "2022-05-03T01:07:57.554Z"
   },
   {
    "duration": 16,
    "start_time": "2022-05-03T01:07:58.136Z"
   },
   {
    "duration": 498,
    "start_time": "2022-05-03T01:07:58.155Z"
   },
   {
    "duration": 17,
    "start_time": "2022-05-03T01:07:58.655Z"
   },
   {
    "duration": 52,
    "start_time": "2022-05-03T01:07:58.674Z"
   },
   {
    "duration": 33,
    "start_time": "2022-05-03T01:07:58.752Z"
   },
   {
    "duration": 7,
    "start_time": "2022-05-03T01:07:58.788Z"
   },
   {
    "duration": 223,
    "start_time": "2022-05-03T01:07:58.798Z"
   },
   {
    "duration": 7,
    "start_time": "2022-05-03T01:07:59.023Z"
   },
   {
    "duration": 220,
    "start_time": "2022-05-03T01:07:59.033Z"
   },
   {
    "duration": 575,
    "start_time": "2022-05-03T01:07:59.256Z"
   },
   {
    "duration": 60,
    "start_time": "2022-05-03T01:07:59.834Z"
   },
   {
    "duration": 1288,
    "start_time": "2022-05-03T01:07:59.896Z"
   },
   {
    "duration": 456,
    "start_time": "2022-05-03T01:08:01.186Z"
   },
   {
    "duration": 8,
    "start_time": "2022-05-03T01:08:01.644Z"
   },
   {
    "duration": 483,
    "start_time": "2022-05-03T01:08:01.654Z"
   },
   {
    "duration": 541,
    "start_time": "2022-05-03T01:08:02.141Z"
   },
   {
    "duration": 15,
    "start_time": "2022-05-03T01:08:02.684Z"
   },
   {
    "duration": 21,
    "start_time": "2022-05-03T01:08:02.701Z"
   },
   {
    "duration": 395,
    "start_time": "2022-05-03T01:08:02.752Z"
   },
   {
    "duration": 31,
    "start_time": "2022-05-03T01:08:03.153Z"
   },
   {
    "duration": 433,
    "start_time": "2022-05-03T01:08:03.186Z"
   },
   {
    "duration": 334,
    "start_time": "2022-05-03T01:08:52.296Z"
   },
   {
    "duration": 424,
    "start_time": "2022-05-03T01:09:17.184Z"
   },
   {
    "duration": 3,
    "start_time": "2022-05-03T01:09:29.905Z"
   },
   {
    "duration": 141,
    "start_time": "2022-05-03T01:11:24.273Z"
   },
   {
    "duration": 1247,
    "start_time": "2022-05-03T01:12:12.889Z"
   },
   {
    "duration": 213,
    "start_time": "2022-05-03T01:15:29.581Z"
   },
   {
    "duration": 1222,
    "start_time": "2022-05-03T01:15:40.788Z"
   },
   {
    "duration": 1329,
    "start_time": "2022-05-03T01:15:49.261Z"
   },
   {
    "duration": 425,
    "start_time": "2022-05-03T01:16:07.676Z"
   },
   {
    "duration": 413,
    "start_time": "2022-05-03T01:16:15.564Z"
   },
   {
    "duration": 2077,
    "start_time": "2022-05-03T01:16:42.692Z"
   },
   {
    "duration": 23,
    "start_time": "2022-05-03T01:16:44.772Z"
   },
   {
    "duration": 21,
    "start_time": "2022-05-03T01:16:44.797Z"
   },
   {
    "duration": 138,
    "start_time": "2022-05-03T01:16:44.821Z"
   },
   {
    "duration": 7,
    "start_time": "2022-05-03T01:16:44.961Z"
   },
   {
    "duration": 340,
    "start_time": "2022-05-03T01:16:44.970Z"
   },
   {
    "duration": 26,
    "start_time": "2022-05-03T01:16:45.312Z"
   },
   {
    "duration": 603,
    "start_time": "2022-05-03T01:16:45.351Z"
   },
   {
    "duration": 7,
    "start_time": "2022-05-03T01:16:45.956Z"
   },
   {
    "duration": 513,
    "start_time": "2022-05-03T01:16:45.966Z"
   },
   {
    "duration": 17,
    "start_time": "2022-05-03T01:16:46.481Z"
   },
   {
    "duration": 72,
    "start_time": "2022-05-03T01:16:46.500Z"
   },
   {
    "duration": 31,
    "start_time": "2022-05-03T01:16:46.574Z"
   },
   {
    "duration": 6,
    "start_time": "2022-05-03T01:16:46.608Z"
   },
   {
    "duration": 215,
    "start_time": "2022-05-03T01:16:46.616Z"
   },
   {
    "duration": 19,
    "start_time": "2022-05-03T01:16:46.833Z"
   },
   {
    "duration": 216,
    "start_time": "2022-05-03T01:16:46.854Z"
   },
   {
    "duration": 607,
    "start_time": "2022-05-03T01:16:47.072Z"
   },
   {
    "duration": 72,
    "start_time": "2022-05-03T01:16:47.682Z"
   },
   {
    "duration": 1340,
    "start_time": "2022-05-03T01:16:47.757Z"
   },
   {
    "duration": 434,
    "start_time": "2022-05-03T01:16:49.100Z"
   },
   {
    "duration": 3,
    "start_time": "2022-05-03T01:16:49.536Z"
   },
   {
    "duration": 458,
    "start_time": "2022-05-03T01:16:49.541Z"
   },
   {
    "duration": 533,
    "start_time": "2022-05-03T01:16:50.002Z"
   },
   {
    "duration": 23,
    "start_time": "2022-05-03T01:16:50.537Z"
   },
   {
    "duration": 21,
    "start_time": "2022-05-03T01:16:50.562Z"
   },
   {
    "duration": 433,
    "start_time": "2022-05-03T01:16:50.585Z"
   },
   {
    "duration": 38,
    "start_time": "2022-05-03T01:16:51.022Z"
   },
   {
    "duration": 444,
    "start_time": "2022-05-03T01:16:51.062Z"
   },
   {
    "duration": 159,
    "start_time": "2022-05-03T11:56:36.503Z"
   },
   {
    "duration": 2011,
    "start_time": "2022-05-03T12:01:05.925Z"
   },
   {
    "duration": 16,
    "start_time": "2022-05-03T12:01:07.940Z"
   },
   {
    "duration": 16,
    "start_time": "2022-05-03T12:01:07.958Z"
   },
   {
    "duration": 131,
    "start_time": "2022-05-03T12:01:07.977Z"
   },
   {
    "duration": 6,
    "start_time": "2022-05-03T12:01:08.110Z"
   },
   {
    "duration": 314,
    "start_time": "2022-05-03T12:01:08.117Z"
   },
   {
    "duration": 27,
    "start_time": "2022-05-03T12:01:08.433Z"
   },
   {
    "duration": 528,
    "start_time": "2022-05-03T12:01:08.462Z"
   },
   {
    "duration": 4,
    "start_time": "2022-05-03T12:01:08.992Z"
   },
   {
    "duration": 348,
    "start_time": "2022-05-03T12:01:08.998Z"
   },
   {
    "duration": 11,
    "start_time": "2022-05-03T12:01:09.347Z"
   },
   {
    "duration": 35,
    "start_time": "2022-05-03T12:01:09.360Z"
   },
   {
    "duration": 53,
    "start_time": "2022-05-03T12:01:09.397Z"
   },
   {
    "duration": 5,
    "start_time": "2022-05-03T12:01:09.452Z"
   },
   {
    "duration": 130,
    "start_time": "2022-05-03T12:01:09.459Z"
   },
   {
    "duration": 4,
    "start_time": "2022-05-03T12:01:09.591Z"
   },
   {
    "duration": 171,
    "start_time": "2022-05-03T12:01:09.597Z"
   },
   {
    "duration": 419,
    "start_time": "2022-05-03T12:01:09.770Z"
   },
   {
    "duration": 45,
    "start_time": "2022-05-03T12:01:10.190Z"
   },
   {
    "duration": 868,
    "start_time": "2022-05-03T12:01:10.237Z"
   },
   {
    "duration": 337,
    "start_time": "2022-05-03T12:01:11.107Z"
   },
   {
    "duration": 2,
    "start_time": "2022-05-03T12:01:11.448Z"
   },
   {
    "duration": 342,
    "start_time": "2022-05-03T12:01:11.452Z"
   },
   {
    "duration": 388,
    "start_time": "2022-05-03T12:01:11.796Z"
   },
   {
    "duration": 16,
    "start_time": "2022-05-03T12:01:12.186Z"
   },
   {
    "duration": 31,
    "start_time": "2022-05-03T12:01:12.204Z"
   },
   {
    "duration": 445,
    "start_time": "2022-05-03T12:01:12.243Z"
   },
   {
    "duration": 32,
    "start_time": "2022-05-03T12:01:12.692Z"
   },
   {
    "duration": 299,
    "start_time": "2022-05-03T12:01:12.732Z"
   },
   {
    "duration": 657,
    "start_time": "2022-05-03T12:09:08.195Z"
   },
   {
    "duration": 21,
    "start_time": "2022-05-03T12:09:08.854Z"
   },
   {
    "duration": 21,
    "start_time": "2022-05-03T12:09:08.877Z"
   },
   {
    "duration": 151,
    "start_time": "2022-05-03T12:09:08.901Z"
   },
   {
    "duration": 5,
    "start_time": "2022-05-03T12:09:09.055Z"
   },
   {
    "duration": 215,
    "start_time": "2022-05-03T12:09:09.062Z"
   },
   {
    "duration": 17,
    "start_time": "2022-05-03T12:09:09.279Z"
   },
   {
    "duration": 466,
    "start_time": "2022-05-03T12:09:09.298Z"
   },
   {
    "duration": 2,
    "start_time": "2022-05-03T12:09:09.766Z"
   },
   {
    "duration": 313,
    "start_time": "2022-05-03T12:09:09.771Z"
   },
   {
    "duration": 12,
    "start_time": "2022-05-03T12:09:10.085Z"
   },
   {
    "duration": 69,
    "start_time": "2022-05-03T12:09:10.098Z"
   },
   {
    "duration": 29,
    "start_time": "2022-05-03T12:09:10.169Z"
   },
   {
    "duration": 5,
    "start_time": "2022-05-03T12:09:10.200Z"
   },
   {
    "duration": 221,
    "start_time": "2022-05-03T12:09:10.206Z"
   },
   {
    "duration": 6,
    "start_time": "2022-05-03T12:09:10.428Z"
   },
   {
    "duration": 144,
    "start_time": "2022-05-03T12:09:10.439Z"
   },
   {
    "duration": 410,
    "start_time": "2022-05-03T12:09:10.585Z"
   },
   {
    "duration": 45,
    "start_time": "2022-05-03T12:09:10.997Z"
   },
   {
    "duration": 839,
    "start_time": "2022-05-03T12:09:11.044Z"
   },
   {
    "duration": 276,
    "start_time": "2022-05-03T12:09:11.885Z"
   },
   {
    "duration": 2,
    "start_time": "2022-05-03T12:09:12.163Z"
   },
   {
    "duration": 306,
    "start_time": "2022-05-03T12:09:12.167Z"
   },
   {
    "duration": 366,
    "start_time": "2022-05-03T12:09:12.474Z"
   },
   {
    "duration": 13,
    "start_time": "2022-05-03T12:09:12.842Z"
   },
   {
    "duration": 15,
    "start_time": "2022-05-03T12:09:12.857Z"
   },
   {
    "duration": 343,
    "start_time": "2022-05-03T12:09:12.874Z"
   },
   {
    "duration": 29,
    "start_time": "2022-05-03T12:09:13.226Z"
   },
   {
    "duration": 317,
    "start_time": "2022-05-03T12:09:13.256Z"
   },
   {
    "duration": 144,
    "start_time": "2022-05-03T12:10:31.097Z"
   },
   {
    "duration": 70,
    "start_time": "2022-05-03T12:37:04.843Z"
   },
   {
    "duration": 2025,
    "start_time": "2022-05-03T12:37:09.260Z"
   },
   {
    "duration": 15,
    "start_time": "2022-05-03T12:37:11.287Z"
   },
   {
    "duration": 15,
    "start_time": "2022-05-03T12:37:11.304Z"
   },
   {
    "duration": 148,
    "start_time": "2022-05-03T12:37:11.321Z"
   },
   {
    "duration": 5,
    "start_time": "2022-05-03T12:37:11.471Z"
   },
   {
    "duration": 257,
    "start_time": "2022-05-03T12:37:11.478Z"
   },
   {
    "duration": 36,
    "start_time": "2022-05-03T12:37:11.738Z"
   },
   {
    "duration": 632,
    "start_time": "2022-05-03T12:37:11.775Z"
   },
   {
    "duration": 4,
    "start_time": "2022-05-03T12:37:12.409Z"
   },
   {
    "duration": 410,
    "start_time": "2022-05-03T12:37:12.417Z"
   },
   {
    "duration": 25,
    "start_time": "2022-05-03T12:37:12.829Z"
   },
   {
    "duration": 42,
    "start_time": "2022-05-03T12:37:12.856Z"
   },
   {
    "duration": 29,
    "start_time": "2022-05-03T12:37:12.900Z"
   },
   {
    "duration": 10,
    "start_time": "2022-05-03T12:37:12.951Z"
   },
   {
    "duration": 170,
    "start_time": "2022-05-03T12:37:12.964Z"
   },
   {
    "duration": 15,
    "start_time": "2022-05-03T12:37:13.136Z"
   },
   {
    "duration": 146,
    "start_time": "2022-05-03T12:37:13.152Z"
   },
   {
    "duration": 468,
    "start_time": "2022-05-03T12:37:13.300Z"
   },
   {
    "duration": 30,
    "start_time": "2022-05-03T12:37:13.770Z"
   },
   {
    "duration": 1011,
    "start_time": "2022-05-03T12:37:13.802Z"
   },
   {
    "duration": 385,
    "start_time": "2022-05-03T12:37:14.815Z"
   },
   {
    "duration": 3,
    "start_time": "2022-05-03T12:37:15.202Z"
   },
   {
    "duration": 291,
    "start_time": "2022-05-03T12:37:15.206Z"
   },
   {
    "duration": 510,
    "start_time": "2022-05-03T12:37:15.499Z"
   },
   {
    "duration": 14,
    "start_time": "2022-05-03T12:37:16.011Z"
   },
   {
    "duration": 37,
    "start_time": "2022-05-03T12:37:16.027Z"
   },
   {
    "duration": 364,
    "start_time": "2022-05-03T12:37:16.066Z"
   },
   {
    "duration": 38,
    "start_time": "2022-05-03T12:37:16.433Z"
   },
   {
    "duration": 276,
    "start_time": "2022-05-03T12:37:16.472Z"
   },
   {
    "duration": 2070,
    "start_time": "2022-05-03T13:28:58.767Z"
   },
   {
    "duration": 28,
    "start_time": "2022-05-03T13:29:00.840Z"
   },
   {
    "duration": 26,
    "start_time": "2022-05-03T13:29:00.870Z"
   },
   {
    "duration": 98,
    "start_time": "2022-05-03T13:29:00.898Z"
   },
   {
    "duration": 5,
    "start_time": "2022-05-03T13:29:00.998Z"
   },
   {
    "duration": 231,
    "start_time": "2022-05-03T13:29:01.005Z"
   },
   {
    "duration": 26,
    "start_time": "2022-05-03T13:29:01.247Z"
   },
   {
    "duration": 429,
    "start_time": "2022-05-03T13:29:01.277Z"
   },
   {
    "duration": 4,
    "start_time": "2022-05-03T13:29:01.707Z"
   },
   {
    "duration": 453,
    "start_time": "2022-05-03T13:29:01.714Z"
   },
   {
    "duration": 13,
    "start_time": "2022-05-03T13:29:02.168Z"
   },
   {
    "duration": 36,
    "start_time": "2022-05-03T13:29:02.183Z"
   },
   {
    "duration": 26,
    "start_time": "2022-05-03T13:29:02.249Z"
   },
   {
    "duration": 5,
    "start_time": "2022-05-03T13:29:02.276Z"
   },
   {
    "duration": 119,
    "start_time": "2022-05-03T13:29:02.283Z"
   },
   {
    "duration": 4,
    "start_time": "2022-05-03T13:29:02.404Z"
   },
   {
    "duration": 198,
    "start_time": "2022-05-03T13:29:02.409Z"
   },
   {
    "duration": 575,
    "start_time": "2022-05-03T13:29:02.610Z"
   },
   {
    "duration": 44,
    "start_time": "2022-05-03T13:29:03.187Z"
   },
   {
    "duration": 932,
    "start_time": "2022-05-03T13:29:03.233Z"
   },
   {
    "duration": 282,
    "start_time": "2022-05-03T13:29:04.167Z"
   },
   {
    "duration": 3,
    "start_time": "2022-05-03T13:29:04.451Z"
   },
   {
    "duration": 296,
    "start_time": "2022-05-03T13:29:04.456Z"
   },
   {
    "duration": 363,
    "start_time": "2022-05-03T13:29:04.753Z"
   },
   {
    "duration": 10,
    "start_time": "2022-05-03T13:29:05.118Z"
   },
   {
    "duration": 36,
    "start_time": "2022-05-03T13:29:05.130Z"
   },
   {
    "duration": 269,
    "start_time": "2022-05-03T13:29:05.167Z"
   },
   {
    "duration": 23,
    "start_time": "2022-05-03T13:29:05.448Z"
   },
   {
    "duration": 357,
    "start_time": "2022-05-03T13:29:05.473Z"
   }
  ],
  "kernelspec": {
   "display_name": "Python 3 (ipykernel)",
   "language": "python",
   "name": "python3"
  },
  "language_info": {
   "codemirror_mode": {
    "name": "ipython",
    "version": 3
   },
   "file_extension": ".py",
   "mimetype": "text/x-python",
   "name": "python",
   "nbconvert_exporter": "python",
   "pygments_lexer": "ipython3",
   "version": "3.9.7"
  },
  "toc": {
   "base_numbering": 1,
   "nav_menu": {},
   "number_sections": true,
   "sideBar": true,
   "skip_h1_title": true,
   "title_cell": "Table of Contents",
   "title_sidebar": "Contents",
   "toc_cell": false,
   "toc_position": {},
   "toc_section_display": true,
   "toc_window_display": false
  }
 },
 "nbformat": 4,
 "nbformat_minor": 2
}
