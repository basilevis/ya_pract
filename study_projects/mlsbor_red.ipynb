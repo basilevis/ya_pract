{
 "cells": [
  {
   "cell_type": "markdown",
   "metadata": {},
   "source": [
    "Подготовьте прототип модели машинного обучения для «Цифры». Компания разрабатывает решения для эффективной работы промышленных предприятий.\n",
    "\n",
    "Модель должна предсказать коэффициент восстановления золота из золотосодержащей руды. Используйте данные с параметрами добычи и очистки. \n",
    "\n",
    "Модель поможет оптимизировать производство, чтобы не запускать предприятие с убыточными характеристиками.\n",
    "\n",
    "Вам нужно:\n",
    "\n",
    "1. Подготовить данные;\n",
    "2. Провести исследовательский анализ данных;\n",
    "3. Построить и обучить модель.\n",
    "\n",
    "Чтобы выполнить проект, обращайтесь к библиотекам *pandas*, *matplotlib* и *sklearn.* Вам поможет их документация.\n",
    "<br>\n",
    "\n",
    "#### Описание проекта\n",
    "Данные находятся в трёх файлах:\n",
    "- gold_recovery_train_new.csv — обучающая выборка;\n",
    "- gold_recovery_test_new.csv — тестовая выборка;\n",
    "- gold_recovery_full_new.csv — исходные данные.\n",
    "\n",
    "<br>Данные индексируются датой и временем получения информации (признак date). Соседние по времени параметры часто похожи.\n",
    "<br>Некоторые параметры недоступны, потому что замеряются и/или рассчитываются значительно позже. Из-за этого в тестовой выборке отсутствуют некоторые признаки, которые могут быть в обучающей. Также в тестовом наборе нет целевых признаков.\n",
    "Исходный датасет содержит обучающую и тестовую выборки со всеми признаками.\n",
    "<br>В вашем распоряжении сырые данные: их просто выгрузили из хранилища. Прежде чем приступить к построению модели, проверьте по нашей инструкции их на корректность.\n",
    "Инструкция по выполнению проекта\n",
    "\n",
    "\n",
    "\n"
   ]
  },
  {
   "cell_type": "markdown",
   "metadata": {},
   "source": [
    "***Описание данных***\n",
    "\n",
    "*Технологический процесс:*\n",
    "*\tRougher feed — исходное сырье\n",
    "*\tRougher additions (или reagent additions) — флотационные реагенты: Xanthate, Sulphate, Depressant\n",
    "*\tXanthate — ксантогенат (промотер, или активатор флотации);\n",
    "*\tSulphate — сульфат (на данном производстве сульфид натрия);\n",
    "*\tDepressant — депрессант (силикат натрия).\n",
    "*\tRougher process (англ. «грубый процесс») — флотация\n",
    "*\tRougher tails — отвальные хвосты\n",
    "*\tFloat banks — флотационная установка\n",
    "*\tCleaner process — очистка\n",
    "*\tRougher Au — черновой концентрат золота\n",
    "*\tFinal Au — финальный концентрат золота\n",
    "\n",
    "*Параметры этапов:*\n",
    "*\tair amount — объём воздуха\n",
    "*\tfluid levels — уровень жидкости\n",
    "*\tfeed size — размер гранул сырья\n",
    "*\tfeed rate — скорость подачи\n",
    "\n",
    "**Наименование признаков**\n",
    "\n",
    "*Наименование признаков должно быть такое:*\n",
    "[этап].[тип_параметра].[название_параметра]\n",
    "Пример: *rougher.input.feed_ag*\n",
    "*Возможные значения для блока [этап]:*\n",
    "*\trougher — флотация\n",
    "*\tprimary_cleaner — первичная очистка\n",
    "*\tsecondary_cleaner — вторичная очистка\n",
    "*\tfinal — финальные характеристики\n",
    "*Возможные значения для блока [тип_параметра]:*\n",
    "*\tinput — параметры сырья\n",
    "*\toutput — параметры продукта\n",
    "*\tstate — параметры, характеризующие текущее состояние этапа\n",
    "*\tcalculation — расчётные характеристики\n"
   ]
  },
  {
   "cell_type": "markdown",
   "metadata": {},
   "source": [
    "# Восстановление золота из руды"
   ]
  },
  {
   "cell_type": "markdown",
   "metadata": {},
   "source": [
    "## Подготовка данных"
   ]
  },
  {
   "cell_type": "code",
   "execution_count": 1,
   "metadata": {},
   "outputs": [],
   "source": [
    "import pandas as pd\n",
    "import numpy as np\n",
    "import seaborn as sns\n",
    "from sklearn.metrics import auc\n",
    "import matplotlib.pyplot as plt\n",
    "from scipy import stats\n",
    "from sklearn.linear_model import LinearRegression\n",
    "from sklearn.linear_model import LogisticRegression\n",
    "from sklearn.ensemble import RandomForestClassifier\n",
    "from sklearn.ensemble import RandomForestRegressor\n",
    "from sklearn.tree import DecisionTreeClassifier\n",
    "from sklearn.tree import DecisionTreeRegressor\n",
    "from sklearn.model_selection import train_test_split\n",
    "from tqdm import tqdm\n",
    "from sklearn.utils import shuffle\n",
    "from sklearn.preprocessing import StandardScaler\n",
    "from sklearn.model_selection import GridSearchCV\n",
    "from sklearn.naive_bayes import GaussianNB\n",
    "from sklearn.metrics import f1_score, precision_score, recall_score, accuracy_score, roc_auc_score, roc_curve\n",
    "from sklearn.metrics import mean_absolute_error\n",
    "from sklearn.metrics import mean_squared_error\n",
    "from sklearn.model_selection import cross_val_score\n",
    "from IPython.display import display\n",
    "from sklearn.model_selection import train_test_split\n",
    "from sklearn.linear_model import SGDRegressor\n",
    "from sklearn.svm import LinearSVR\n",
    "from sklearn.dummy import DummyRegressor\n",
    "from sklearn.metrics import  r2_score, median_absolute_error\n",
    "from sklearn.model_selection import RandomizedSearchCV\n",
    "from sklearn.metrics import make_scorer\n",
    "\n",
    "from warnings import simplefilter\n",
    "simplefilter(action='ignore', category=FutureWarning)\n",
    "\n",
    "\n",
    "from sklearn.svm import SVR\n",
    "\n"
   ]
  },
  {
   "cell_type": "markdown",
   "metadata": {},
   "source": [
    "### Откроем и изучим файлы.\n",
    "\n",
    "- gold_recovery_train_new.csv — обучающая выборка;\n",
    "- gold_recovery_test_new.csv — тестовая выборка;\n",
    "- gold_recovery_full_new.csv — исходные данные."
   ]
  },
  {
   "cell_type": "code",
   "execution_count": 2,
   "metadata": {},
   "outputs": [],
   "source": [
    "data_train = pd.read_csv('/datasets/gold_recovery_train_new.csv') \n",
    "data_test = pd.read_csv('/datasets/gold_recovery_test_new.csv')\n",
    "data_full = pd.read_csv('/datasets/gold_recovery_full_new.csv')\n"
   ]
  },
  {
   "cell_type": "code",
   "execution_count": 3,
   "metadata": {},
   "outputs": [],
   "source": [
    "def all_info(data):\n",
    "    print('-------------------------------------------------------------------------------------------------------------')\n",
    "    print('Общая информация:')\n",
    "    print(data.info())\n",
    "    print('-----------------------------------------')\n",
    "    print('-----------------------------------------')\n",
    "    #print('Cтатистические данные по файлу:')\n",
    "    #print(data.describe())\n",
    "    #print('-----------------------------------------')\n",
    "    #print('Вывод первых пяти строк:')\n",
    "    #print(data.head())\n",
    "    #print('-----------------------------------------')\n",
    "    print('Проверяем наличие дубликатов:')\n",
    "    print(data.duplicated().sum())\n",
    "    print('-----------------------------------------')\n",
    "    print('------------------------------------------')\n",
    "    #print('Проверяем количество пропущенных значений:')\n",
    "    #print(data.isnull().sum().sort_values(ascending=False))\n",
    "    print('-------------------------------------------------------------------------------------------------------------')"
   ]
  },
  {
   "cell_type": "markdown",
   "metadata": {},
   "source": [
    "#### data_train"
   ]
  },
  {
   "cell_type": "code",
   "execution_count": 4,
   "metadata": {},
   "outputs": [
    {
     "data": {
      "text/html": [
       "<div>\n",
       "<style scoped>\n",
       "    .dataframe tbody tr th:only-of-type {\n",
       "        vertical-align: middle;\n",
       "    }\n",
       "\n",
       "    .dataframe tbody tr th {\n",
       "        vertical-align: top;\n",
       "    }\n",
       "\n",
       "    .dataframe thead th {\n",
       "        text-align: right;\n",
       "    }\n",
       "</style>\n",
       "<table border=\"1\" class=\"dataframe\">\n",
       "  <thead>\n",
       "    <tr style=\"text-align: right;\">\n",
       "      <th></th>\n",
       "      <th>date</th>\n",
       "      <th>final.output.concentrate_ag</th>\n",
       "      <th>final.output.concentrate_pb</th>\n",
       "      <th>final.output.concentrate_sol</th>\n",
       "      <th>final.output.concentrate_au</th>\n",
       "      <th>final.output.recovery</th>\n",
       "      <th>final.output.tail_ag</th>\n",
       "      <th>final.output.tail_pb</th>\n",
       "      <th>final.output.tail_sol</th>\n",
       "      <th>final.output.tail_au</th>\n",
       "      <th>...</th>\n",
       "      <th>secondary_cleaner.state.floatbank4_a_air</th>\n",
       "      <th>secondary_cleaner.state.floatbank4_a_level</th>\n",
       "      <th>secondary_cleaner.state.floatbank4_b_air</th>\n",
       "      <th>secondary_cleaner.state.floatbank4_b_level</th>\n",
       "      <th>secondary_cleaner.state.floatbank5_a_air</th>\n",
       "      <th>secondary_cleaner.state.floatbank5_a_level</th>\n",
       "      <th>secondary_cleaner.state.floatbank5_b_air</th>\n",
       "      <th>secondary_cleaner.state.floatbank5_b_level</th>\n",
       "      <th>secondary_cleaner.state.floatbank6_a_air</th>\n",
       "      <th>secondary_cleaner.state.floatbank6_a_level</th>\n",
       "    </tr>\n",
       "  </thead>\n",
       "  <tbody>\n",
       "    <tr>\n",
       "      <th>0</th>\n",
       "      <td>2016-01-15 00:00:00</td>\n",
       "      <td>6.055403</td>\n",
       "      <td>9.889648</td>\n",
       "      <td>5.507324</td>\n",
       "      <td>42.192020</td>\n",
       "      <td>70.541216</td>\n",
       "      <td>10.411962</td>\n",
       "      <td>0.895447</td>\n",
       "      <td>16.904297</td>\n",
       "      <td>2.143149</td>\n",
       "      <td>...</td>\n",
       "      <td>14.016835</td>\n",
       "      <td>-502.488007</td>\n",
       "      <td>12.099931</td>\n",
       "      <td>-504.715942</td>\n",
       "      <td>9.925633</td>\n",
       "      <td>-498.310211</td>\n",
       "      <td>8.079666</td>\n",
       "      <td>-500.470978</td>\n",
       "      <td>14.151341</td>\n",
       "      <td>-605.841980</td>\n",
       "    </tr>\n",
       "    <tr>\n",
       "      <th>1</th>\n",
       "      <td>2016-01-15 01:00:00</td>\n",
       "      <td>6.029369</td>\n",
       "      <td>9.968944</td>\n",
       "      <td>5.257781</td>\n",
       "      <td>42.701629</td>\n",
       "      <td>69.266198</td>\n",
       "      <td>10.462676</td>\n",
       "      <td>0.927452</td>\n",
       "      <td>16.634514</td>\n",
       "      <td>2.224930</td>\n",
       "      <td>...</td>\n",
       "      <td>13.992281</td>\n",
       "      <td>-505.503262</td>\n",
       "      <td>11.950531</td>\n",
       "      <td>-501.331529</td>\n",
       "      <td>10.039245</td>\n",
       "      <td>-500.169983</td>\n",
       "      <td>7.984757</td>\n",
       "      <td>-500.582168</td>\n",
       "      <td>13.998353</td>\n",
       "      <td>-599.787184</td>\n",
       "    </tr>\n",
       "    <tr>\n",
       "      <th>2</th>\n",
       "      <td>2016-01-15 02:00:00</td>\n",
       "      <td>6.055926</td>\n",
       "      <td>10.213995</td>\n",
       "      <td>5.383759</td>\n",
       "      <td>42.657501</td>\n",
       "      <td>68.116445</td>\n",
       "      <td>10.507046</td>\n",
       "      <td>0.953716</td>\n",
       "      <td>16.208849</td>\n",
       "      <td>2.257889</td>\n",
       "      <td>...</td>\n",
       "      <td>14.015015</td>\n",
       "      <td>-502.520901</td>\n",
       "      <td>11.912783</td>\n",
       "      <td>-501.133383</td>\n",
       "      <td>10.070913</td>\n",
       "      <td>-500.129135</td>\n",
       "      <td>8.013877</td>\n",
       "      <td>-500.517572</td>\n",
       "      <td>14.028663</td>\n",
       "      <td>-601.427363</td>\n",
       "    </tr>\n",
       "    <tr>\n",
       "      <th>3</th>\n",
       "      <td>2016-01-15 03:00:00</td>\n",
       "      <td>6.047977</td>\n",
       "      <td>9.977019</td>\n",
       "      <td>4.858634</td>\n",
       "      <td>42.689819</td>\n",
       "      <td>68.347543</td>\n",
       "      <td>10.422762</td>\n",
       "      <td>0.883763</td>\n",
       "      <td>16.532835</td>\n",
       "      <td>2.146849</td>\n",
       "      <td>...</td>\n",
       "      <td>14.036510</td>\n",
       "      <td>-500.857308</td>\n",
       "      <td>11.999550</td>\n",
       "      <td>-501.193686</td>\n",
       "      <td>9.970366</td>\n",
       "      <td>-499.201640</td>\n",
       "      <td>7.977324</td>\n",
       "      <td>-500.255908</td>\n",
       "      <td>14.005551</td>\n",
       "      <td>-599.996129</td>\n",
       "    </tr>\n",
       "    <tr>\n",
       "      <th>4</th>\n",
       "      <td>2016-01-15 04:00:00</td>\n",
       "      <td>6.148599</td>\n",
       "      <td>10.142511</td>\n",
       "      <td>4.939416</td>\n",
       "      <td>42.774141</td>\n",
       "      <td>66.927016</td>\n",
       "      <td>10.360302</td>\n",
       "      <td>0.792826</td>\n",
       "      <td>16.525686</td>\n",
       "      <td>2.055292</td>\n",
       "      <td>...</td>\n",
       "      <td>14.027298</td>\n",
       "      <td>-499.838632</td>\n",
       "      <td>11.953070</td>\n",
       "      <td>-501.053894</td>\n",
       "      <td>9.925709</td>\n",
       "      <td>-501.686727</td>\n",
       "      <td>7.894242</td>\n",
       "      <td>-500.356035</td>\n",
       "      <td>13.996647</td>\n",
       "      <td>-601.496691</td>\n",
       "    </tr>\n",
       "  </tbody>\n",
       "</table>\n",
       "<p>5 rows × 87 columns</p>\n",
       "</div>"
      ],
      "text/plain": [
       "                  date  final.output.concentrate_ag  \\\n",
       "0  2016-01-15 00:00:00                     6.055403   \n",
       "1  2016-01-15 01:00:00                     6.029369   \n",
       "2  2016-01-15 02:00:00                     6.055926   \n",
       "3  2016-01-15 03:00:00                     6.047977   \n",
       "4  2016-01-15 04:00:00                     6.148599   \n",
       "\n",
       "   final.output.concentrate_pb  final.output.concentrate_sol  \\\n",
       "0                     9.889648                      5.507324   \n",
       "1                     9.968944                      5.257781   \n",
       "2                    10.213995                      5.383759   \n",
       "3                     9.977019                      4.858634   \n",
       "4                    10.142511                      4.939416   \n",
       "\n",
       "   final.output.concentrate_au  final.output.recovery  final.output.tail_ag  \\\n",
       "0                    42.192020              70.541216             10.411962   \n",
       "1                    42.701629              69.266198             10.462676   \n",
       "2                    42.657501              68.116445             10.507046   \n",
       "3                    42.689819              68.347543             10.422762   \n",
       "4                    42.774141              66.927016             10.360302   \n",
       "\n",
       "   final.output.tail_pb  final.output.tail_sol  final.output.tail_au  ...  \\\n",
       "0              0.895447              16.904297              2.143149  ...   \n",
       "1              0.927452              16.634514              2.224930  ...   \n",
       "2              0.953716              16.208849              2.257889  ...   \n",
       "3              0.883763              16.532835              2.146849  ...   \n",
       "4              0.792826              16.525686              2.055292  ...   \n",
       "\n",
       "   secondary_cleaner.state.floatbank4_a_air  \\\n",
       "0                                 14.016835   \n",
       "1                                 13.992281   \n",
       "2                                 14.015015   \n",
       "3                                 14.036510   \n",
       "4                                 14.027298   \n",
       "\n",
       "   secondary_cleaner.state.floatbank4_a_level  \\\n",
       "0                                 -502.488007   \n",
       "1                                 -505.503262   \n",
       "2                                 -502.520901   \n",
       "3                                 -500.857308   \n",
       "4                                 -499.838632   \n",
       "\n",
       "   secondary_cleaner.state.floatbank4_b_air  \\\n",
       "0                                 12.099931   \n",
       "1                                 11.950531   \n",
       "2                                 11.912783   \n",
       "3                                 11.999550   \n",
       "4                                 11.953070   \n",
       "\n",
       "   secondary_cleaner.state.floatbank4_b_level  \\\n",
       "0                                 -504.715942   \n",
       "1                                 -501.331529   \n",
       "2                                 -501.133383   \n",
       "3                                 -501.193686   \n",
       "4                                 -501.053894   \n",
       "\n",
       "   secondary_cleaner.state.floatbank5_a_air  \\\n",
       "0                                  9.925633   \n",
       "1                                 10.039245   \n",
       "2                                 10.070913   \n",
       "3                                  9.970366   \n",
       "4                                  9.925709   \n",
       "\n",
       "   secondary_cleaner.state.floatbank5_a_level  \\\n",
       "0                                 -498.310211   \n",
       "1                                 -500.169983   \n",
       "2                                 -500.129135   \n",
       "3                                 -499.201640   \n",
       "4                                 -501.686727   \n",
       "\n",
       "   secondary_cleaner.state.floatbank5_b_air  \\\n",
       "0                                  8.079666   \n",
       "1                                  7.984757   \n",
       "2                                  8.013877   \n",
       "3                                  7.977324   \n",
       "4                                  7.894242   \n",
       "\n",
       "   secondary_cleaner.state.floatbank5_b_level  \\\n",
       "0                                 -500.470978   \n",
       "1                                 -500.582168   \n",
       "2                                 -500.517572   \n",
       "3                                 -500.255908   \n",
       "4                                 -500.356035   \n",
       "\n",
       "   secondary_cleaner.state.floatbank6_a_air  \\\n",
       "0                                 14.151341   \n",
       "1                                 13.998353   \n",
       "2                                 14.028663   \n",
       "3                                 14.005551   \n",
       "4                                 13.996647   \n",
       "\n",
       "   secondary_cleaner.state.floatbank6_a_level  \n",
       "0                                 -605.841980  \n",
       "1                                 -599.787184  \n",
       "2                                 -601.427363  \n",
       "3                                 -599.996129  \n",
       "4                                 -601.496691  \n",
       "\n",
       "[5 rows x 87 columns]"
      ]
     },
     "execution_count": 4,
     "metadata": {},
     "output_type": "execute_result"
    }
   ],
   "source": [
    "data_train.head()"
   ]
  },
  {
   "cell_type": "code",
   "execution_count": 5,
   "metadata": {
    "scrolled": false
   },
   "outputs": [
    {
     "name": "stdout",
     "output_type": "stream",
     "text": [
      "-------------------------------------------------------------------------------------------------------------\n",
      "Общая информация:\n",
      "<class 'pandas.core.frame.DataFrame'>\n",
      "RangeIndex: 14149 entries, 0 to 14148\n",
      "Data columns (total 87 columns):\n",
      " #   Column                                              Non-Null Count  Dtype  \n",
      "---  ------                                              --------------  -----  \n",
      " 0   date                                                14149 non-null  object \n",
      " 1   final.output.concentrate_ag                         14148 non-null  float64\n",
      " 2   final.output.concentrate_pb                         14148 non-null  float64\n",
      " 3   final.output.concentrate_sol                        13938 non-null  float64\n",
      " 4   final.output.concentrate_au                         14149 non-null  float64\n",
      " 5   final.output.recovery                               14149 non-null  float64\n",
      " 6   final.output.tail_ag                                14149 non-null  float64\n",
      " 7   final.output.tail_pb                                14049 non-null  float64\n",
      " 8   final.output.tail_sol                               14144 non-null  float64\n",
      " 9   final.output.tail_au                                14149 non-null  float64\n",
      " 10  primary_cleaner.input.sulfate                       14129 non-null  float64\n",
      " 11  primary_cleaner.input.depressant                    14117 non-null  float64\n",
      " 12  primary_cleaner.input.feed_size                     14149 non-null  float64\n",
      " 13  primary_cleaner.input.xanthate                      14049 non-null  float64\n",
      " 14  primary_cleaner.output.concentrate_ag               14149 non-null  float64\n",
      " 15  primary_cleaner.output.concentrate_pb               14063 non-null  float64\n",
      " 16  primary_cleaner.output.concentrate_sol              13863 non-null  float64\n",
      " 17  primary_cleaner.output.concentrate_au               14149 non-null  float64\n",
      " 18  primary_cleaner.output.tail_ag                      14148 non-null  float64\n",
      " 19  primary_cleaner.output.tail_pb                      14134 non-null  float64\n",
      " 20  primary_cleaner.output.tail_sol                     14103 non-null  float64\n",
      " 21  primary_cleaner.output.tail_au                      14149 non-null  float64\n",
      " 22  primary_cleaner.state.floatbank8_a_air              14145 non-null  float64\n",
      " 23  primary_cleaner.state.floatbank8_a_level            14148 non-null  float64\n",
      " 24  primary_cleaner.state.floatbank8_b_air              14145 non-null  float64\n",
      " 25  primary_cleaner.state.floatbank8_b_level            14148 non-null  float64\n",
      " 26  primary_cleaner.state.floatbank8_c_air              14147 non-null  float64\n",
      " 27  primary_cleaner.state.floatbank8_c_level            14148 non-null  float64\n",
      " 28  primary_cleaner.state.floatbank8_d_air              14146 non-null  float64\n",
      " 29  primary_cleaner.state.floatbank8_d_level            14148 non-null  float64\n",
      " 30  rougher.calculation.sulfate_to_au_concentrate       14148 non-null  float64\n",
      " 31  rougher.calculation.floatbank10_sulfate_to_au_feed  14148 non-null  float64\n",
      " 32  rougher.calculation.floatbank11_sulfate_to_au_feed  14148 non-null  float64\n",
      " 33  rougher.calculation.au_pb_ratio                     14149 non-null  float64\n",
      " 34  rougher.input.feed_ag                               14149 non-null  float64\n",
      " 35  rougher.input.feed_pb                               14049 non-null  float64\n",
      " 36  rougher.input.feed_rate                             14141 non-null  float64\n",
      " 37  rougher.input.feed_size                             14005 non-null  float64\n",
      " 38  rougher.input.feed_sol                              14071 non-null  float64\n",
      " 39  rougher.input.feed_au                               14149 non-null  float64\n",
      " 40  rougher.input.floatbank10_sulfate                   14120 non-null  float64\n",
      " 41  rougher.input.floatbank10_xanthate                  14141 non-null  float64\n",
      " 42  rougher.input.floatbank11_sulfate                   14113 non-null  float64\n",
      " 43  rougher.input.floatbank11_xanthate                  13721 non-null  float64\n",
      " 44  rougher.output.concentrate_ag                       14149 non-null  float64\n",
      " 45  rougher.output.concentrate_pb                       14149 non-null  float64\n",
      " 46  rougher.output.concentrate_sol                      14127 non-null  float64\n",
      " 47  rougher.output.concentrate_au                       14149 non-null  float64\n",
      " 48  rougher.output.recovery                             14149 non-null  float64\n",
      " 49  rougher.output.tail_ag                              14148 non-null  float64\n",
      " 50  rougher.output.tail_pb                              14149 non-null  float64\n",
      " 51  rougher.output.tail_sol                             14149 non-null  float64\n",
      " 52  rougher.output.tail_au                              14149 non-null  float64\n",
      " 53  rougher.state.floatbank10_a_air                     14148 non-null  float64\n",
      " 54  rougher.state.floatbank10_a_level                   14148 non-null  float64\n",
      " 55  rougher.state.floatbank10_b_air                     14148 non-null  float64\n",
      " 56  rougher.state.floatbank10_b_level                   14148 non-null  float64\n",
      " 57  rougher.state.floatbank10_c_air                     14148 non-null  float64\n",
      " 58  rougher.state.floatbank10_c_level                   14148 non-null  float64\n",
      " 59  rougher.state.floatbank10_d_air                     14149 non-null  float64\n",
      " 60  rougher.state.floatbank10_d_level                   14149 non-null  float64\n",
      " 61  rougher.state.floatbank10_e_air                     13713 non-null  float64\n",
      " 62  rougher.state.floatbank10_e_level                   14149 non-null  float64\n",
      " 63  rougher.state.floatbank10_f_air                     14149 non-null  float64\n",
      " 64  rougher.state.floatbank10_f_level                   14149 non-null  float64\n",
      " 65  secondary_cleaner.output.tail_ag                    14147 non-null  float64\n",
      " 66  secondary_cleaner.output.tail_pb                    14139 non-null  float64\n",
      " 67  secondary_cleaner.output.tail_sol                   12544 non-null  float64\n",
      " 68  secondary_cleaner.output.tail_au                    14149 non-null  float64\n",
      " 69  secondary_cleaner.state.floatbank2_a_air            13932 non-null  float64\n",
      " 70  secondary_cleaner.state.floatbank2_a_level          14148 non-null  float64\n",
      " 71  secondary_cleaner.state.floatbank2_b_air            14128 non-null  float64\n",
      " 72  secondary_cleaner.state.floatbank2_b_level          14148 non-null  float64\n",
      " 73  secondary_cleaner.state.floatbank3_a_air            14145 non-null  float64\n",
      " 74  secondary_cleaner.state.floatbank3_a_level          14148 non-null  float64\n",
      " 75  secondary_cleaner.state.floatbank3_b_air            14148 non-null  float64\n",
      " 76  secondary_cleaner.state.floatbank3_b_level          14148 non-null  float64\n",
      " 77  secondary_cleaner.state.floatbank4_a_air            14143 non-null  float64\n",
      " 78  secondary_cleaner.state.floatbank4_a_level          14148 non-null  float64\n",
      " 79  secondary_cleaner.state.floatbank4_b_air            14148 non-null  float64\n",
      " 80  secondary_cleaner.state.floatbank4_b_level          14148 non-null  float64\n",
      " 81  secondary_cleaner.state.floatbank5_a_air            14148 non-null  float64\n",
      " 82  secondary_cleaner.state.floatbank5_a_level          14148 non-null  float64\n",
      " 83  secondary_cleaner.state.floatbank5_b_air            14148 non-null  float64\n",
      " 84  secondary_cleaner.state.floatbank5_b_level          14148 non-null  float64\n",
      " 85  secondary_cleaner.state.floatbank6_a_air            14147 non-null  float64\n",
      " 86  secondary_cleaner.state.floatbank6_a_level          14148 non-null  float64\n",
      "dtypes: float64(86), object(1)\n",
      "memory usage: 9.4+ MB\n",
      "None\n",
      "-----------------------------------------\n",
      "-----------------------------------------\n",
      "Проверяем наличие дубликатов:\n",
      "0\n",
      "-----------------------------------------\n",
      "------------------------------------------\n",
      "-------------------------------------------------------------------------------------------------------------\n",
      "None\n"
     ]
    }
   ],
   "source": [
    "print(all_info(data_train))"
   ]
  },
  {
   "cell_type": "code",
   "execution_count": 6,
   "metadata": {},
   "outputs": [
    {
     "data": {
      "text/html": [
       "<div>\n",
       "<style scoped>\n",
       "    .dataframe tbody tr th:only-of-type {\n",
       "        vertical-align: middle;\n",
       "    }\n",
       "\n",
       "    .dataframe tbody tr th {\n",
       "        vertical-align: top;\n",
       "    }\n",
       "\n",
       "    .dataframe thead th {\n",
       "        text-align: right;\n",
       "    }\n",
       "</style>\n",
       "<table border=\"1\" class=\"dataframe\">\n",
       "  <thead>\n",
       "    <tr style=\"text-align: right;\">\n",
       "      <th></th>\n",
       "      <th>0</th>\n",
       "    </tr>\n",
       "  </thead>\n",
       "  <tbody>\n",
       "    <tr>\n",
       "      <th>secondary_cleaner.output.tail_sol</th>\n",
       "      <td>1605</td>\n",
       "    </tr>\n",
       "    <tr>\n",
       "      <th>rougher.state.floatbank10_e_air</th>\n",
       "      <td>436</td>\n",
       "    </tr>\n",
       "    <tr>\n",
       "      <th>rougher.input.floatbank11_xanthate</th>\n",
       "      <td>428</td>\n",
       "    </tr>\n",
       "    <tr>\n",
       "      <th>primary_cleaner.output.concentrate_sol</th>\n",
       "      <td>286</td>\n",
       "    </tr>\n",
       "    <tr>\n",
       "      <th>secondary_cleaner.state.floatbank2_a_air</th>\n",
       "      <td>217</td>\n",
       "    </tr>\n",
       "    <tr>\n",
       "      <th>...</th>\n",
       "      <td>...</td>\n",
       "    </tr>\n",
       "    <tr>\n",
       "      <th>primary_cleaner.output.tail_ag</th>\n",
       "      <td>1</td>\n",
       "    </tr>\n",
       "    <tr>\n",
       "      <th>final.output.concentrate_ag</th>\n",
       "      <td>1</td>\n",
       "    </tr>\n",
       "    <tr>\n",
       "      <th>rougher.calculation.sulfate_to_au_concentrate</th>\n",
       "      <td>1</td>\n",
       "    </tr>\n",
       "    <tr>\n",
       "      <th>rougher.output.tail_ag</th>\n",
       "      <td>1</td>\n",
       "    </tr>\n",
       "    <tr>\n",
       "      <th>final.output.concentrate_pb</th>\n",
       "      <td>1</td>\n",
       "    </tr>\n",
       "  </tbody>\n",
       "</table>\n",
       "<p>62 rows × 1 columns</p>\n",
       "</div>"
      ],
      "text/plain": [
       "                                                  0\n",
       "secondary_cleaner.output.tail_sol              1605\n",
       "rougher.state.floatbank10_e_air                 436\n",
       "rougher.input.floatbank11_xanthate              428\n",
       "primary_cleaner.output.concentrate_sol          286\n",
       "secondary_cleaner.state.floatbank2_a_air        217\n",
       "...                                             ...\n",
       "primary_cleaner.output.tail_ag                    1\n",
       "final.output.concentrate_ag                       1\n",
       "rougher.calculation.sulfate_to_au_concentrate     1\n",
       "rougher.output.tail_ag                            1\n",
       "final.output.concentrate_pb                       1\n",
       "\n",
       "[62 rows x 1 columns]"
      ]
     },
     "execution_count": 6,
     "metadata": {},
     "output_type": "execute_result"
    }
   ],
   "source": [
    "train_isnulls = pd.DataFrame(data_train.isnull().sum().sort_values(ascending=False))\n",
    "train_isnulls[train_isnulls[0] > 0]"
   ]
  },
  {
   "cell_type": "code",
   "execution_count": 7,
   "metadata": {},
   "outputs": [
    {
     "data": {
      "text/html": [
       "<div>\n",
       "<style scoped>\n",
       "    .dataframe tbody tr th:only-of-type {\n",
       "        vertical-align: middle;\n",
       "    }\n",
       "\n",
       "    .dataframe tbody tr th {\n",
       "        vertical-align: top;\n",
       "    }\n",
       "\n",
       "    .dataframe thead th {\n",
       "        text-align: right;\n",
       "    }\n",
       "</style>\n",
       "<table border=\"1\" class=\"dataframe\">\n",
       "  <thead>\n",
       "    <tr style=\"text-align: right;\">\n",
       "      <th></th>\n",
       "      <th>final.output.concentrate_ag</th>\n",
       "      <th>final.output.concentrate_pb</th>\n",
       "      <th>final.output.concentrate_sol</th>\n",
       "      <th>final.output.concentrate_au</th>\n",
       "      <th>final.output.recovery</th>\n",
       "      <th>final.output.tail_ag</th>\n",
       "      <th>final.output.tail_pb</th>\n",
       "      <th>final.output.tail_sol</th>\n",
       "      <th>final.output.tail_au</th>\n",
       "      <th>primary_cleaner.input.sulfate</th>\n",
       "      <th>...</th>\n",
       "      <th>secondary_cleaner.state.floatbank4_a_air</th>\n",
       "      <th>secondary_cleaner.state.floatbank4_a_level</th>\n",
       "      <th>secondary_cleaner.state.floatbank4_b_air</th>\n",
       "      <th>secondary_cleaner.state.floatbank4_b_level</th>\n",
       "      <th>secondary_cleaner.state.floatbank5_a_air</th>\n",
       "      <th>secondary_cleaner.state.floatbank5_a_level</th>\n",
       "      <th>secondary_cleaner.state.floatbank5_b_air</th>\n",
       "      <th>secondary_cleaner.state.floatbank5_b_level</th>\n",
       "      <th>secondary_cleaner.state.floatbank6_a_air</th>\n",
       "      <th>secondary_cleaner.state.floatbank6_a_level</th>\n",
       "    </tr>\n",
       "  </thead>\n",
       "  <tbody>\n",
       "    <tr>\n",
       "      <th>count</th>\n",
       "      <td>14148.000000</td>\n",
       "      <td>14148.000000</td>\n",
       "      <td>13938.000000</td>\n",
       "      <td>14149.000000</td>\n",
       "      <td>14149.000000</td>\n",
       "      <td>14149.000000</td>\n",
       "      <td>14049.000000</td>\n",
       "      <td>14144.000000</td>\n",
       "      <td>14149.000000</td>\n",
       "      <td>14129.000000</td>\n",
       "      <td>...</td>\n",
       "      <td>14143.000000</td>\n",
       "      <td>14148.000000</td>\n",
       "      <td>14148.000000</td>\n",
       "      <td>14148.000000</td>\n",
       "      <td>14148.000000</td>\n",
       "      <td>14148.000000</td>\n",
       "      <td>14148.000000</td>\n",
       "      <td>14148.000000</td>\n",
       "      <td>14147.000000</td>\n",
       "      <td>14148.000000</td>\n",
       "    </tr>\n",
       "    <tr>\n",
       "      <th>mean</th>\n",
       "      <td>5.142034</td>\n",
       "      <td>10.132960</td>\n",
       "      <td>9.202849</td>\n",
       "      <td>44.003792</td>\n",
       "      <td>66.518832</td>\n",
       "      <td>9.607035</td>\n",
       "      <td>2.597298</td>\n",
       "      <td>10.512122</td>\n",
       "      <td>2.918421</td>\n",
       "      <td>133.320659</td>\n",
       "      <td>...</td>\n",
       "      <td>19.985454</td>\n",
       "      <td>-478.696836</td>\n",
       "      <td>15.487065</td>\n",
       "      <td>-460.229416</td>\n",
       "      <td>16.775136</td>\n",
       "      <td>-483.956022</td>\n",
       "      <td>13.064590</td>\n",
       "      <td>-483.966564</td>\n",
       "      <td>19.577539</td>\n",
       "      <td>-506.798480</td>\n",
       "    </tr>\n",
       "    <tr>\n",
       "      <th>std</th>\n",
       "      <td>1.369586</td>\n",
       "      <td>1.654930</td>\n",
       "      <td>2.790516</td>\n",
       "      <td>4.905261</td>\n",
       "      <td>10.295402</td>\n",
       "      <td>2.319069</td>\n",
       "      <td>0.971843</td>\n",
       "      <td>3.003617</td>\n",
       "      <td>0.903712</td>\n",
       "      <td>39.431659</td>\n",
       "      <td>...</td>\n",
       "      <td>5.657723</td>\n",
       "      <td>50.736021</td>\n",
       "      <td>5.255655</td>\n",
       "      <td>58.843586</td>\n",
       "      <td>5.831906</td>\n",
       "      <td>37.892788</td>\n",
       "      <td>5.765617</td>\n",
       "      <td>39.207913</td>\n",
       "      <td>5.764417</td>\n",
       "      <td>37.079249</td>\n",
       "    </tr>\n",
       "    <tr>\n",
       "      <th>min</th>\n",
       "      <td>0.000000</td>\n",
       "      <td>0.000000</td>\n",
       "      <td>0.000000</td>\n",
       "      <td>0.000000</td>\n",
       "      <td>0.000000</td>\n",
       "      <td>0.000000</td>\n",
       "      <td>0.000000</td>\n",
       "      <td>0.000000</td>\n",
       "      <td>0.000000</td>\n",
       "      <td>0.003112</td>\n",
       "      <td>...</td>\n",
       "      <td>0.000000</td>\n",
       "      <td>-799.709069</td>\n",
       "      <td>0.000000</td>\n",
       "      <td>-799.889113</td>\n",
       "      <td>-0.372054</td>\n",
       "      <td>-797.142475</td>\n",
       "      <td>0.646208</td>\n",
       "      <td>-800.006180</td>\n",
       "      <td>0.195324</td>\n",
       "      <td>-809.398668</td>\n",
       "    </tr>\n",
       "    <tr>\n",
       "      <th>25%</th>\n",
       "      <td>4.211620</td>\n",
       "      <td>9.297355</td>\n",
       "      <td>7.484645</td>\n",
       "      <td>43.276111</td>\n",
       "      <td>62.545817</td>\n",
       "      <td>7.997429</td>\n",
       "      <td>1.905973</td>\n",
       "      <td>8.811324</td>\n",
       "      <td>2.368607</td>\n",
       "      <td>107.006651</td>\n",
       "      <td>...</td>\n",
       "      <td>14.990775</td>\n",
       "      <td>-500.628656</td>\n",
       "      <td>11.894558</td>\n",
       "      <td>-500.149000</td>\n",
       "      <td>11.083980</td>\n",
       "      <td>-500.363177</td>\n",
       "      <td>8.994405</td>\n",
       "      <td>-500.105994</td>\n",
       "      <td>14.989304</td>\n",
       "      <td>-500.745104</td>\n",
       "    </tr>\n",
       "    <tr>\n",
       "      <th>50%</th>\n",
       "      <td>4.994652</td>\n",
       "      <td>10.297144</td>\n",
       "      <td>8.845462</td>\n",
       "      <td>44.872436</td>\n",
       "      <td>67.432775</td>\n",
       "      <td>9.480270</td>\n",
       "      <td>2.592022</td>\n",
       "      <td>10.514621</td>\n",
       "      <td>2.851025</td>\n",
       "      <td>133.018328</td>\n",
       "      <td>...</td>\n",
       "      <td>20.001789</td>\n",
       "      <td>-499.681450</td>\n",
       "      <td>14.975536</td>\n",
       "      <td>-499.388738</td>\n",
       "      <td>17.932223</td>\n",
       "      <td>-499.702452</td>\n",
       "      <td>11.997547</td>\n",
       "      <td>-499.914556</td>\n",
       "      <td>19.984175</td>\n",
       "      <td>-500.061431</td>\n",
       "    </tr>\n",
       "    <tr>\n",
       "      <th>75%</th>\n",
       "      <td>5.859540</td>\n",
       "      <td>11.170603</td>\n",
       "      <td>10.487508</td>\n",
       "      <td>46.166425</td>\n",
       "      <td>72.346428</td>\n",
       "      <td>11.003707</td>\n",
       "      <td>3.241723</td>\n",
       "      <td>11.933009</td>\n",
       "      <td>3.434764</td>\n",
       "      <td>159.825396</td>\n",
       "      <td>...</td>\n",
       "      <td>24.990826</td>\n",
       "      <td>-477.472413</td>\n",
       "      <td>20.059375</td>\n",
       "      <td>-400.039008</td>\n",
       "      <td>21.346550</td>\n",
       "      <td>-487.712108</td>\n",
       "      <td>17.982903</td>\n",
       "      <td>-453.186936</td>\n",
       "      <td>24.991623</td>\n",
       "      <td>-499.536466</td>\n",
       "    </tr>\n",
       "    <tr>\n",
       "      <th>max</th>\n",
       "      <td>16.001945</td>\n",
       "      <td>17.031899</td>\n",
       "      <td>18.124851</td>\n",
       "      <td>52.756638</td>\n",
       "      <td>100.000000</td>\n",
       "      <td>19.552149</td>\n",
       "      <td>5.639565</td>\n",
       "      <td>22.317730</td>\n",
       "      <td>8.197408</td>\n",
       "      <td>250.127834</td>\n",
       "      <td>...</td>\n",
       "      <td>30.115735</td>\n",
       "      <td>-245.239184</td>\n",
       "      <td>24.007913</td>\n",
       "      <td>-145.071088</td>\n",
       "      <td>43.709931</td>\n",
       "      <td>-275.073125</td>\n",
       "      <td>27.926001</td>\n",
       "      <td>-157.396071</td>\n",
       "      <td>32.188906</td>\n",
       "      <td>-104.427459</td>\n",
       "    </tr>\n",
       "  </tbody>\n",
       "</table>\n",
       "<p>8 rows × 86 columns</p>\n",
       "</div>"
      ],
      "text/plain": [
       "       final.output.concentrate_ag  final.output.concentrate_pb  \\\n",
       "count                 14148.000000                 14148.000000   \n",
       "mean                      5.142034                    10.132960   \n",
       "std                       1.369586                     1.654930   \n",
       "min                       0.000000                     0.000000   \n",
       "25%                       4.211620                     9.297355   \n",
       "50%                       4.994652                    10.297144   \n",
       "75%                       5.859540                    11.170603   \n",
       "max                      16.001945                    17.031899   \n",
       "\n",
       "       final.output.concentrate_sol  final.output.concentrate_au  \\\n",
       "count                  13938.000000                 14149.000000   \n",
       "mean                       9.202849                    44.003792   \n",
       "std                        2.790516                     4.905261   \n",
       "min                        0.000000                     0.000000   \n",
       "25%                        7.484645                    43.276111   \n",
       "50%                        8.845462                    44.872436   \n",
       "75%                       10.487508                    46.166425   \n",
       "max                       18.124851                    52.756638   \n",
       "\n",
       "       final.output.recovery  final.output.tail_ag  final.output.tail_pb  \\\n",
       "count           14149.000000          14149.000000          14049.000000   \n",
       "mean               66.518832              9.607035              2.597298   \n",
       "std                10.295402              2.319069              0.971843   \n",
       "min                 0.000000              0.000000              0.000000   \n",
       "25%                62.545817              7.997429              1.905973   \n",
       "50%                67.432775              9.480270              2.592022   \n",
       "75%                72.346428             11.003707              3.241723   \n",
       "max               100.000000             19.552149              5.639565   \n",
       "\n",
       "       final.output.tail_sol  final.output.tail_au  \\\n",
       "count           14144.000000          14149.000000   \n",
       "mean               10.512122              2.918421   \n",
       "std                 3.003617              0.903712   \n",
       "min                 0.000000              0.000000   \n",
       "25%                 8.811324              2.368607   \n",
       "50%                10.514621              2.851025   \n",
       "75%                11.933009              3.434764   \n",
       "max                22.317730              8.197408   \n",
       "\n",
       "       primary_cleaner.input.sulfate  ...  \\\n",
       "count                   14129.000000  ...   \n",
       "mean                      133.320659  ...   \n",
       "std                        39.431659  ...   \n",
       "min                         0.003112  ...   \n",
       "25%                       107.006651  ...   \n",
       "50%                       133.018328  ...   \n",
       "75%                       159.825396  ...   \n",
       "max                       250.127834  ...   \n",
       "\n",
       "       secondary_cleaner.state.floatbank4_a_air  \\\n",
       "count                              14143.000000   \n",
       "mean                                  19.985454   \n",
       "std                                    5.657723   \n",
       "min                                    0.000000   \n",
       "25%                                   14.990775   \n",
       "50%                                   20.001789   \n",
       "75%                                   24.990826   \n",
       "max                                   30.115735   \n",
       "\n",
       "       secondary_cleaner.state.floatbank4_a_level  \\\n",
       "count                                14148.000000   \n",
       "mean                                  -478.696836   \n",
       "std                                     50.736021   \n",
       "min                                   -799.709069   \n",
       "25%                                   -500.628656   \n",
       "50%                                   -499.681450   \n",
       "75%                                   -477.472413   \n",
       "max                                   -245.239184   \n",
       "\n",
       "       secondary_cleaner.state.floatbank4_b_air  \\\n",
       "count                              14148.000000   \n",
       "mean                                  15.487065   \n",
       "std                                    5.255655   \n",
       "min                                    0.000000   \n",
       "25%                                   11.894558   \n",
       "50%                                   14.975536   \n",
       "75%                                   20.059375   \n",
       "max                                   24.007913   \n",
       "\n",
       "       secondary_cleaner.state.floatbank4_b_level  \\\n",
       "count                                14148.000000   \n",
       "mean                                  -460.229416   \n",
       "std                                     58.843586   \n",
       "min                                   -799.889113   \n",
       "25%                                   -500.149000   \n",
       "50%                                   -499.388738   \n",
       "75%                                   -400.039008   \n",
       "max                                   -145.071088   \n",
       "\n",
       "       secondary_cleaner.state.floatbank5_a_air  \\\n",
       "count                              14148.000000   \n",
       "mean                                  16.775136   \n",
       "std                                    5.831906   \n",
       "min                                   -0.372054   \n",
       "25%                                   11.083980   \n",
       "50%                                   17.932223   \n",
       "75%                                   21.346550   \n",
       "max                                   43.709931   \n",
       "\n",
       "       secondary_cleaner.state.floatbank5_a_level  \\\n",
       "count                                14148.000000   \n",
       "mean                                  -483.956022   \n",
       "std                                     37.892788   \n",
       "min                                   -797.142475   \n",
       "25%                                   -500.363177   \n",
       "50%                                   -499.702452   \n",
       "75%                                   -487.712108   \n",
       "max                                   -275.073125   \n",
       "\n",
       "       secondary_cleaner.state.floatbank5_b_air  \\\n",
       "count                              14148.000000   \n",
       "mean                                  13.064590   \n",
       "std                                    5.765617   \n",
       "min                                    0.646208   \n",
       "25%                                    8.994405   \n",
       "50%                                   11.997547   \n",
       "75%                                   17.982903   \n",
       "max                                   27.926001   \n",
       "\n",
       "       secondary_cleaner.state.floatbank5_b_level  \\\n",
       "count                                14148.000000   \n",
       "mean                                  -483.966564   \n",
       "std                                     39.207913   \n",
       "min                                   -800.006180   \n",
       "25%                                   -500.105994   \n",
       "50%                                   -499.914556   \n",
       "75%                                   -453.186936   \n",
       "max                                   -157.396071   \n",
       "\n",
       "       secondary_cleaner.state.floatbank6_a_air  \\\n",
       "count                              14147.000000   \n",
       "mean                                  19.577539   \n",
       "std                                    5.764417   \n",
       "min                                    0.195324   \n",
       "25%                                   14.989304   \n",
       "50%                                   19.984175   \n",
       "75%                                   24.991623   \n",
       "max                                   32.188906   \n",
       "\n",
       "       secondary_cleaner.state.floatbank6_a_level  \n",
       "count                                14148.000000  \n",
       "mean                                  -506.798480  \n",
       "std                                     37.079249  \n",
       "min                                   -809.398668  \n",
       "25%                                   -500.745104  \n",
       "50%                                   -500.061431  \n",
       "75%                                   -499.536466  \n",
       "max                                   -104.427459  \n",
       "\n",
       "[8 rows x 86 columns]"
      ]
     },
     "execution_count": 7,
     "metadata": {},
     "output_type": "execute_result"
    }
   ],
   "source": [
    "data_train.describe()"
   ]
  },
  {
   "cell_type": "markdown",
   "metadata": {},
   "source": [
    "####  data_test"
   ]
  },
  {
   "cell_type": "code",
   "execution_count": 8,
   "metadata": {},
   "outputs": [
    {
     "data": {
      "text/html": [
       "<div>\n",
       "<style scoped>\n",
       "    .dataframe tbody tr th:only-of-type {\n",
       "        vertical-align: middle;\n",
       "    }\n",
       "\n",
       "    .dataframe tbody tr th {\n",
       "        vertical-align: top;\n",
       "    }\n",
       "\n",
       "    .dataframe thead th {\n",
       "        text-align: right;\n",
       "    }\n",
       "</style>\n",
       "<table border=\"1\" class=\"dataframe\">\n",
       "  <thead>\n",
       "    <tr style=\"text-align: right;\">\n",
       "      <th></th>\n",
       "      <th>date</th>\n",
       "      <th>primary_cleaner.input.sulfate</th>\n",
       "      <th>primary_cleaner.input.depressant</th>\n",
       "      <th>primary_cleaner.input.feed_size</th>\n",
       "      <th>primary_cleaner.input.xanthate</th>\n",
       "      <th>primary_cleaner.state.floatbank8_a_air</th>\n",
       "      <th>primary_cleaner.state.floatbank8_a_level</th>\n",
       "      <th>primary_cleaner.state.floatbank8_b_air</th>\n",
       "      <th>primary_cleaner.state.floatbank8_b_level</th>\n",
       "      <th>primary_cleaner.state.floatbank8_c_air</th>\n",
       "      <th>...</th>\n",
       "      <th>secondary_cleaner.state.floatbank4_a_air</th>\n",
       "      <th>secondary_cleaner.state.floatbank4_a_level</th>\n",
       "      <th>secondary_cleaner.state.floatbank4_b_air</th>\n",
       "      <th>secondary_cleaner.state.floatbank4_b_level</th>\n",
       "      <th>secondary_cleaner.state.floatbank5_a_air</th>\n",
       "      <th>secondary_cleaner.state.floatbank5_a_level</th>\n",
       "      <th>secondary_cleaner.state.floatbank5_b_air</th>\n",
       "      <th>secondary_cleaner.state.floatbank5_b_level</th>\n",
       "      <th>secondary_cleaner.state.floatbank6_a_air</th>\n",
       "      <th>secondary_cleaner.state.floatbank6_a_level</th>\n",
       "    </tr>\n",
       "  </thead>\n",
       "  <tbody>\n",
       "    <tr>\n",
       "      <th>0</th>\n",
       "      <td>2016-09-01 00:59:59</td>\n",
       "      <td>210.800909</td>\n",
       "      <td>14.993118</td>\n",
       "      <td>8.080000</td>\n",
       "      <td>1.005021</td>\n",
       "      <td>1398.981301</td>\n",
       "      <td>-500.225577</td>\n",
       "      <td>1399.144926</td>\n",
       "      <td>-499.919735</td>\n",
       "      <td>1400.102998</td>\n",
       "      <td>...</td>\n",
       "      <td>12.023554</td>\n",
       "      <td>-497.795834</td>\n",
       "      <td>8.016656</td>\n",
       "      <td>-501.289139</td>\n",
       "      <td>7.946562</td>\n",
       "      <td>-432.317850</td>\n",
       "      <td>4.872511</td>\n",
       "      <td>-500.037437</td>\n",
       "      <td>26.705889</td>\n",
       "      <td>-499.709414</td>\n",
       "    </tr>\n",
       "    <tr>\n",
       "      <th>1</th>\n",
       "      <td>2016-09-01 01:59:59</td>\n",
       "      <td>215.392455</td>\n",
       "      <td>14.987471</td>\n",
       "      <td>8.080000</td>\n",
       "      <td>0.990469</td>\n",
       "      <td>1398.777912</td>\n",
       "      <td>-500.057435</td>\n",
       "      <td>1398.055362</td>\n",
       "      <td>-499.778182</td>\n",
       "      <td>1396.151033</td>\n",
       "      <td>...</td>\n",
       "      <td>12.058140</td>\n",
       "      <td>-498.695773</td>\n",
       "      <td>8.130979</td>\n",
       "      <td>-499.634209</td>\n",
       "      <td>7.958270</td>\n",
       "      <td>-525.839648</td>\n",
       "      <td>4.878850</td>\n",
       "      <td>-500.162375</td>\n",
       "      <td>25.019940</td>\n",
       "      <td>-499.819438</td>\n",
       "    </tr>\n",
       "    <tr>\n",
       "      <th>2</th>\n",
       "      <td>2016-09-01 02:59:59</td>\n",
       "      <td>215.259946</td>\n",
       "      <td>12.884934</td>\n",
       "      <td>7.786667</td>\n",
       "      <td>0.996043</td>\n",
       "      <td>1398.493666</td>\n",
       "      <td>-500.868360</td>\n",
       "      <td>1398.860436</td>\n",
       "      <td>-499.764529</td>\n",
       "      <td>1398.075709</td>\n",
       "      <td>...</td>\n",
       "      <td>11.962366</td>\n",
       "      <td>-498.767484</td>\n",
       "      <td>8.096893</td>\n",
       "      <td>-500.827423</td>\n",
       "      <td>8.071056</td>\n",
       "      <td>-500.801673</td>\n",
       "      <td>4.905125</td>\n",
       "      <td>-499.828510</td>\n",
       "      <td>24.994862</td>\n",
       "      <td>-500.622559</td>\n",
       "    </tr>\n",
       "    <tr>\n",
       "      <th>3</th>\n",
       "      <td>2016-09-01 03:59:59</td>\n",
       "      <td>215.336236</td>\n",
       "      <td>12.006805</td>\n",
       "      <td>7.640000</td>\n",
       "      <td>0.863514</td>\n",
       "      <td>1399.618111</td>\n",
       "      <td>-498.863574</td>\n",
       "      <td>1397.440120</td>\n",
       "      <td>-499.211024</td>\n",
       "      <td>1400.129303</td>\n",
       "      <td>...</td>\n",
       "      <td>12.033091</td>\n",
       "      <td>-498.350935</td>\n",
       "      <td>8.074946</td>\n",
       "      <td>-499.474407</td>\n",
       "      <td>7.897085</td>\n",
       "      <td>-500.868509</td>\n",
       "      <td>4.931400</td>\n",
       "      <td>-499.963623</td>\n",
       "      <td>24.948919</td>\n",
       "      <td>-498.709987</td>\n",
       "    </tr>\n",
       "    <tr>\n",
       "      <th>4</th>\n",
       "      <td>2016-09-01 04:59:59</td>\n",
       "      <td>199.099327</td>\n",
       "      <td>10.682530</td>\n",
       "      <td>7.530000</td>\n",
       "      <td>0.805575</td>\n",
       "      <td>1401.268123</td>\n",
       "      <td>-500.808305</td>\n",
       "      <td>1398.128818</td>\n",
       "      <td>-499.504543</td>\n",
       "      <td>1402.172226</td>\n",
       "      <td>...</td>\n",
       "      <td>12.025367</td>\n",
       "      <td>-500.786497</td>\n",
       "      <td>8.054678</td>\n",
       "      <td>-500.397500</td>\n",
       "      <td>8.107890</td>\n",
       "      <td>-509.526725</td>\n",
       "      <td>4.957674</td>\n",
       "      <td>-500.360026</td>\n",
       "      <td>25.003331</td>\n",
       "      <td>-500.856333</td>\n",
       "    </tr>\n",
       "  </tbody>\n",
       "</table>\n",
       "<p>5 rows × 53 columns</p>\n",
       "</div>"
      ],
      "text/plain": [
       "                  date  primary_cleaner.input.sulfate  \\\n",
       "0  2016-09-01 00:59:59                     210.800909   \n",
       "1  2016-09-01 01:59:59                     215.392455   \n",
       "2  2016-09-01 02:59:59                     215.259946   \n",
       "3  2016-09-01 03:59:59                     215.336236   \n",
       "4  2016-09-01 04:59:59                     199.099327   \n",
       "\n",
       "   primary_cleaner.input.depressant  primary_cleaner.input.feed_size  \\\n",
       "0                         14.993118                         8.080000   \n",
       "1                         14.987471                         8.080000   \n",
       "2                         12.884934                         7.786667   \n",
       "3                         12.006805                         7.640000   \n",
       "4                         10.682530                         7.530000   \n",
       "\n",
       "   primary_cleaner.input.xanthate  primary_cleaner.state.floatbank8_a_air  \\\n",
       "0                        1.005021                             1398.981301   \n",
       "1                        0.990469                             1398.777912   \n",
       "2                        0.996043                             1398.493666   \n",
       "3                        0.863514                             1399.618111   \n",
       "4                        0.805575                             1401.268123   \n",
       "\n",
       "   primary_cleaner.state.floatbank8_a_level  \\\n",
       "0                               -500.225577   \n",
       "1                               -500.057435   \n",
       "2                               -500.868360   \n",
       "3                               -498.863574   \n",
       "4                               -500.808305   \n",
       "\n",
       "   primary_cleaner.state.floatbank8_b_air  \\\n",
       "0                             1399.144926   \n",
       "1                             1398.055362   \n",
       "2                             1398.860436   \n",
       "3                             1397.440120   \n",
       "4                             1398.128818   \n",
       "\n",
       "   primary_cleaner.state.floatbank8_b_level  \\\n",
       "0                               -499.919735   \n",
       "1                               -499.778182   \n",
       "2                               -499.764529   \n",
       "3                               -499.211024   \n",
       "4                               -499.504543   \n",
       "\n",
       "   primary_cleaner.state.floatbank8_c_air  ...  \\\n",
       "0                             1400.102998  ...   \n",
       "1                             1396.151033  ...   \n",
       "2                             1398.075709  ...   \n",
       "3                             1400.129303  ...   \n",
       "4                             1402.172226  ...   \n",
       "\n",
       "   secondary_cleaner.state.floatbank4_a_air  \\\n",
       "0                                 12.023554   \n",
       "1                                 12.058140   \n",
       "2                                 11.962366   \n",
       "3                                 12.033091   \n",
       "4                                 12.025367   \n",
       "\n",
       "   secondary_cleaner.state.floatbank4_a_level  \\\n",
       "0                                 -497.795834   \n",
       "1                                 -498.695773   \n",
       "2                                 -498.767484   \n",
       "3                                 -498.350935   \n",
       "4                                 -500.786497   \n",
       "\n",
       "   secondary_cleaner.state.floatbank4_b_air  \\\n",
       "0                                  8.016656   \n",
       "1                                  8.130979   \n",
       "2                                  8.096893   \n",
       "3                                  8.074946   \n",
       "4                                  8.054678   \n",
       "\n",
       "   secondary_cleaner.state.floatbank4_b_level  \\\n",
       "0                                 -501.289139   \n",
       "1                                 -499.634209   \n",
       "2                                 -500.827423   \n",
       "3                                 -499.474407   \n",
       "4                                 -500.397500   \n",
       "\n",
       "   secondary_cleaner.state.floatbank5_a_air  \\\n",
       "0                                  7.946562   \n",
       "1                                  7.958270   \n",
       "2                                  8.071056   \n",
       "3                                  7.897085   \n",
       "4                                  8.107890   \n",
       "\n",
       "   secondary_cleaner.state.floatbank5_a_level  \\\n",
       "0                                 -432.317850   \n",
       "1                                 -525.839648   \n",
       "2                                 -500.801673   \n",
       "3                                 -500.868509   \n",
       "4                                 -509.526725   \n",
       "\n",
       "   secondary_cleaner.state.floatbank5_b_air  \\\n",
       "0                                  4.872511   \n",
       "1                                  4.878850   \n",
       "2                                  4.905125   \n",
       "3                                  4.931400   \n",
       "4                                  4.957674   \n",
       "\n",
       "   secondary_cleaner.state.floatbank5_b_level  \\\n",
       "0                                 -500.037437   \n",
       "1                                 -500.162375   \n",
       "2                                 -499.828510   \n",
       "3                                 -499.963623   \n",
       "4                                 -500.360026   \n",
       "\n",
       "   secondary_cleaner.state.floatbank6_a_air  \\\n",
       "0                                 26.705889   \n",
       "1                                 25.019940   \n",
       "2                                 24.994862   \n",
       "3                                 24.948919   \n",
       "4                                 25.003331   \n",
       "\n",
       "   secondary_cleaner.state.floatbank6_a_level  \n",
       "0                                 -499.709414  \n",
       "1                                 -499.819438  \n",
       "2                                 -500.622559  \n",
       "3                                 -498.709987  \n",
       "4                                 -500.856333  \n",
       "\n",
       "[5 rows x 53 columns]"
      ]
     },
     "execution_count": 8,
     "metadata": {},
     "output_type": "execute_result"
    }
   ],
   "source": [
    "data_test.head()"
   ]
  },
  {
   "cell_type": "code",
   "execution_count": 9,
   "metadata": {
    "scrolled": false
   },
   "outputs": [
    {
     "name": "stdout",
     "output_type": "stream",
     "text": [
      "-------------------------------------------------------------------------------------------------------------\n",
      "Общая информация:\n",
      "<class 'pandas.core.frame.DataFrame'>\n",
      "RangeIndex: 5290 entries, 0 to 5289\n",
      "Data columns (total 53 columns):\n",
      " #   Column                                      Non-Null Count  Dtype  \n",
      "---  ------                                      --------------  -----  \n",
      " 0   date                                        5290 non-null   object \n",
      " 1   primary_cleaner.input.sulfate               5286 non-null   float64\n",
      " 2   primary_cleaner.input.depressant            5285 non-null   float64\n",
      " 3   primary_cleaner.input.feed_size             5290 non-null   float64\n",
      " 4   primary_cleaner.input.xanthate              5286 non-null   float64\n",
      " 5   primary_cleaner.state.floatbank8_a_air      5290 non-null   float64\n",
      " 6   primary_cleaner.state.floatbank8_a_level    5290 non-null   float64\n",
      " 7   primary_cleaner.state.floatbank8_b_air      5290 non-null   float64\n",
      " 8   primary_cleaner.state.floatbank8_b_level    5290 non-null   float64\n",
      " 9   primary_cleaner.state.floatbank8_c_air      5290 non-null   float64\n",
      " 10  primary_cleaner.state.floatbank8_c_level    5290 non-null   float64\n",
      " 11  primary_cleaner.state.floatbank8_d_air      5290 non-null   float64\n",
      " 12  primary_cleaner.state.floatbank8_d_level    5290 non-null   float64\n",
      " 13  rougher.input.feed_ag                       5290 non-null   float64\n",
      " 14  rougher.input.feed_pb                       5290 non-null   float64\n",
      " 15  rougher.input.feed_rate                     5287 non-null   float64\n",
      " 16  rougher.input.feed_size                     5289 non-null   float64\n",
      " 17  rougher.input.feed_sol                      5269 non-null   float64\n",
      " 18  rougher.input.feed_au                       5290 non-null   float64\n",
      " 19  rougher.input.floatbank10_sulfate           5285 non-null   float64\n",
      " 20  rougher.input.floatbank10_xanthate          5290 non-null   float64\n",
      " 21  rougher.input.floatbank11_sulfate           5282 non-null   float64\n",
      " 22  rougher.input.floatbank11_xanthate          5265 non-null   float64\n",
      " 23  rougher.state.floatbank10_a_air             5290 non-null   float64\n",
      " 24  rougher.state.floatbank10_a_level           5290 non-null   float64\n",
      " 25  rougher.state.floatbank10_b_air             5290 non-null   float64\n",
      " 26  rougher.state.floatbank10_b_level           5290 non-null   float64\n",
      " 27  rougher.state.floatbank10_c_air             5290 non-null   float64\n",
      " 28  rougher.state.floatbank10_c_level           5290 non-null   float64\n",
      " 29  rougher.state.floatbank10_d_air             5290 non-null   float64\n",
      " 30  rougher.state.floatbank10_d_level           5290 non-null   float64\n",
      " 31  rougher.state.floatbank10_e_air             5290 non-null   float64\n",
      " 32  rougher.state.floatbank10_e_level           5290 non-null   float64\n",
      " 33  rougher.state.floatbank10_f_air             5290 non-null   float64\n",
      " 34  rougher.state.floatbank10_f_level           5290 non-null   float64\n",
      " 35  secondary_cleaner.state.floatbank2_a_air    5287 non-null   float64\n",
      " 36  secondary_cleaner.state.floatbank2_a_level  5290 non-null   float64\n",
      " 37  secondary_cleaner.state.floatbank2_b_air    5288 non-null   float64\n",
      " 38  secondary_cleaner.state.floatbank2_b_level  5290 non-null   float64\n",
      " 39  secondary_cleaner.state.floatbank3_a_air    5281 non-null   float64\n",
      " 40  secondary_cleaner.state.floatbank3_a_level  5290 non-null   float64\n",
      " 41  secondary_cleaner.state.floatbank3_b_air    5290 non-null   float64\n",
      " 42  secondary_cleaner.state.floatbank3_b_level  5290 non-null   float64\n",
      " 43  secondary_cleaner.state.floatbank4_a_air    5290 non-null   float64\n",
      " 44  secondary_cleaner.state.floatbank4_a_level  5290 non-null   float64\n",
      " 45  secondary_cleaner.state.floatbank4_b_air    5290 non-null   float64\n",
      " 46  secondary_cleaner.state.floatbank4_b_level  5290 non-null   float64\n",
      " 47  secondary_cleaner.state.floatbank5_a_air    5290 non-null   float64\n",
      " 48  secondary_cleaner.state.floatbank5_a_level  5290 non-null   float64\n",
      " 49  secondary_cleaner.state.floatbank5_b_air    5290 non-null   float64\n",
      " 50  secondary_cleaner.state.floatbank5_b_level  5290 non-null   float64\n",
      " 51  secondary_cleaner.state.floatbank6_a_air    5290 non-null   float64\n",
      " 52  secondary_cleaner.state.floatbank6_a_level  5290 non-null   float64\n",
      "dtypes: float64(52), object(1)\n",
      "memory usage: 2.1+ MB\n",
      "None\n",
      "-----------------------------------------\n",
      "-----------------------------------------\n",
      "Проверяем наличие дубликатов:\n",
      "0\n",
      "-----------------------------------------\n",
      "------------------------------------------\n",
      "-------------------------------------------------------------------------------------------------------------\n",
      "None\n"
     ]
    }
   ],
   "source": [
    "print(all_info(data_test))"
   ]
  },
  {
   "cell_type": "code",
   "execution_count": 10,
   "metadata": {},
   "outputs": [
    {
     "data": {
      "text/html": [
       "<div>\n",
       "<style scoped>\n",
       "    .dataframe tbody tr th:only-of-type {\n",
       "        vertical-align: middle;\n",
       "    }\n",
       "\n",
       "    .dataframe tbody tr th {\n",
       "        vertical-align: top;\n",
       "    }\n",
       "\n",
       "    .dataframe thead th {\n",
       "        text-align: right;\n",
       "    }\n",
       "</style>\n",
       "<table border=\"1\" class=\"dataframe\">\n",
       "  <thead>\n",
       "    <tr style=\"text-align: right;\">\n",
       "      <th></th>\n",
       "      <th>0</th>\n",
       "    </tr>\n",
       "  </thead>\n",
       "  <tbody>\n",
       "    <tr>\n",
       "      <th>rougher.input.floatbank11_xanthate</th>\n",
       "      <td>25</td>\n",
       "    </tr>\n",
       "    <tr>\n",
       "      <th>rougher.input.feed_sol</th>\n",
       "      <td>21</td>\n",
       "    </tr>\n",
       "    <tr>\n",
       "      <th>secondary_cleaner.state.floatbank3_a_air</th>\n",
       "      <td>9</td>\n",
       "    </tr>\n",
       "    <tr>\n",
       "      <th>rougher.input.floatbank11_sulfate</th>\n",
       "      <td>8</td>\n",
       "    </tr>\n",
       "    <tr>\n",
       "      <th>primary_cleaner.input.depressant</th>\n",
       "      <td>5</td>\n",
       "    </tr>\n",
       "    <tr>\n",
       "      <th>rougher.input.floatbank10_sulfate</th>\n",
       "      <td>5</td>\n",
       "    </tr>\n",
       "    <tr>\n",
       "      <th>primary_cleaner.input.xanthate</th>\n",
       "      <td>4</td>\n",
       "    </tr>\n",
       "    <tr>\n",
       "      <th>primary_cleaner.input.sulfate</th>\n",
       "      <td>4</td>\n",
       "    </tr>\n",
       "    <tr>\n",
       "      <th>rougher.input.feed_rate</th>\n",
       "      <td>3</td>\n",
       "    </tr>\n",
       "    <tr>\n",
       "      <th>secondary_cleaner.state.floatbank2_a_air</th>\n",
       "      <td>3</td>\n",
       "    </tr>\n",
       "    <tr>\n",
       "      <th>secondary_cleaner.state.floatbank2_b_air</th>\n",
       "      <td>2</td>\n",
       "    </tr>\n",
       "    <tr>\n",
       "      <th>rougher.input.feed_size</th>\n",
       "      <td>1</td>\n",
       "    </tr>\n",
       "  </tbody>\n",
       "</table>\n",
       "</div>"
      ],
      "text/plain": [
       "                                           0\n",
       "rougher.input.floatbank11_xanthate        25\n",
       "rougher.input.feed_sol                    21\n",
       "secondary_cleaner.state.floatbank3_a_air   9\n",
       "rougher.input.floatbank11_sulfate          8\n",
       "primary_cleaner.input.depressant           5\n",
       "rougher.input.floatbank10_sulfate          5\n",
       "primary_cleaner.input.xanthate             4\n",
       "primary_cleaner.input.sulfate              4\n",
       "rougher.input.feed_rate                    3\n",
       "secondary_cleaner.state.floatbank2_a_air   3\n",
       "secondary_cleaner.state.floatbank2_b_air   2\n",
       "rougher.input.feed_size                    1"
      ]
     },
     "execution_count": 10,
     "metadata": {},
     "output_type": "execute_result"
    }
   ],
   "source": [
    "test_isnulls = pd.DataFrame(data_test.isnull().sum().sort_values(ascending=False))\n",
    "test_isnulls[test_isnulls[0] > 0]"
   ]
  },
  {
   "cell_type": "code",
   "execution_count": 11,
   "metadata": {},
   "outputs": [
    {
     "data": {
      "text/html": [
       "<div>\n",
       "<style scoped>\n",
       "    .dataframe tbody tr th:only-of-type {\n",
       "        vertical-align: middle;\n",
       "    }\n",
       "\n",
       "    .dataframe tbody tr th {\n",
       "        vertical-align: top;\n",
       "    }\n",
       "\n",
       "    .dataframe thead th {\n",
       "        text-align: right;\n",
       "    }\n",
       "</style>\n",
       "<table border=\"1\" class=\"dataframe\">\n",
       "  <thead>\n",
       "    <tr style=\"text-align: right;\">\n",
       "      <th></th>\n",
       "      <th>primary_cleaner.input.sulfate</th>\n",
       "      <th>primary_cleaner.input.depressant</th>\n",
       "      <th>primary_cleaner.input.feed_size</th>\n",
       "      <th>primary_cleaner.input.xanthate</th>\n",
       "      <th>primary_cleaner.state.floatbank8_a_air</th>\n",
       "      <th>primary_cleaner.state.floatbank8_a_level</th>\n",
       "      <th>primary_cleaner.state.floatbank8_b_air</th>\n",
       "      <th>primary_cleaner.state.floatbank8_b_level</th>\n",
       "      <th>primary_cleaner.state.floatbank8_c_air</th>\n",
       "      <th>primary_cleaner.state.floatbank8_c_level</th>\n",
       "      <th>...</th>\n",
       "      <th>secondary_cleaner.state.floatbank4_a_air</th>\n",
       "      <th>secondary_cleaner.state.floatbank4_a_level</th>\n",
       "      <th>secondary_cleaner.state.floatbank4_b_air</th>\n",
       "      <th>secondary_cleaner.state.floatbank4_b_level</th>\n",
       "      <th>secondary_cleaner.state.floatbank5_a_air</th>\n",
       "      <th>secondary_cleaner.state.floatbank5_a_level</th>\n",
       "      <th>secondary_cleaner.state.floatbank5_b_air</th>\n",
       "      <th>secondary_cleaner.state.floatbank5_b_level</th>\n",
       "      <th>secondary_cleaner.state.floatbank6_a_air</th>\n",
       "      <th>secondary_cleaner.state.floatbank6_a_level</th>\n",
       "    </tr>\n",
       "  </thead>\n",
       "  <tbody>\n",
       "    <tr>\n",
       "      <th>count</th>\n",
       "      <td>5286.000000</td>\n",
       "      <td>5285.000000</td>\n",
       "      <td>5290.000000</td>\n",
       "      <td>5286.000000</td>\n",
       "      <td>5.290000e+03</td>\n",
       "      <td>5290.000000</td>\n",
       "      <td>5.290000e+03</td>\n",
       "      <td>5290.000000</td>\n",
       "      <td>5.290000e+03</td>\n",
       "      <td>5290.000000</td>\n",
       "      <td>...</td>\n",
       "      <td>5.290000e+03</td>\n",
       "      <td>5290.000000</td>\n",
       "      <td>5.290000e+03</td>\n",
       "      <td>5290.000000</td>\n",
       "      <td>5290.000000</td>\n",
       "      <td>5290.000000</td>\n",
       "      <td>5290.000000</td>\n",
       "      <td>5290.000000</td>\n",
       "      <td>5290.000000</td>\n",
       "      <td>5290.000000</td>\n",
       "    </tr>\n",
       "    <tr>\n",
       "      <th>mean</th>\n",
       "      <td>174.839652</td>\n",
       "      <td>8.683596</td>\n",
       "      <td>7.266339</td>\n",
       "      <td>1.383803</td>\n",
       "      <td>1.539494e+03</td>\n",
       "      <td>-497.665883</td>\n",
       "      <td>1.545174e+03</td>\n",
       "      <td>-500.273098</td>\n",
       "      <td>1.527272e+03</td>\n",
       "      <td>-498.330680</td>\n",
       "      <td>...</td>\n",
       "      <td>1.632007e+01</td>\n",
       "      <td>-505.144570</td>\n",
       "      <td>1.373544e+01</td>\n",
       "      <td>-463.349858</td>\n",
       "      <td>12.804186</td>\n",
       "      <td>-501.329122</td>\n",
       "      <td>9.881145</td>\n",
       "      <td>-495.663398</td>\n",
       "      <td>17.304935</td>\n",
       "      <td>-501.793193</td>\n",
       "    </tr>\n",
       "    <tr>\n",
       "      <th>std</th>\n",
       "      <td>43.027080</td>\n",
       "      <td>3.072050</td>\n",
       "      <td>0.610219</td>\n",
       "      <td>0.643474</td>\n",
       "      <td>1.167979e+02</td>\n",
       "      <td>19.952431</td>\n",
       "      <td>1.222246e+02</td>\n",
       "      <td>32.968307</td>\n",
       "      <td>1.225380e+02</td>\n",
       "      <td>21.964876</td>\n",
       "      <td>...</td>\n",
       "      <td>3.493583e+00</td>\n",
       "      <td>31.427337</td>\n",
       "      <td>3.430484e+00</td>\n",
       "      <td>86.189107</td>\n",
       "      <td>3.026591</td>\n",
       "      <td>17.951495</td>\n",
       "      <td>2.868205</td>\n",
       "      <td>34.535007</td>\n",
       "      <td>4.536544</td>\n",
       "      <td>39.044215</td>\n",
       "    </tr>\n",
       "    <tr>\n",
       "      <th>min</th>\n",
       "      <td>2.566156</td>\n",
       "      <td>0.003839</td>\n",
       "      <td>5.650000</td>\n",
       "      <td>0.004984</td>\n",
       "      <td>5.445860e-32</td>\n",
       "      <td>-795.316337</td>\n",
       "      <td>6.647490e-32</td>\n",
       "      <td>-799.997015</td>\n",
       "      <td>4.033736e-32</td>\n",
       "      <td>-799.960571</td>\n",
       "      <td>...</td>\n",
       "      <td>1.079872e-16</td>\n",
       "      <td>-799.798523</td>\n",
       "      <td>2.489718e-17</td>\n",
       "      <td>-800.836914</td>\n",
       "      <td>0.069227</td>\n",
       "      <td>-797.323986</td>\n",
       "      <td>0.528083</td>\n",
       "      <td>-800.220337</td>\n",
       "      <td>-0.079426</td>\n",
       "      <td>-809.741464</td>\n",
       "    </tr>\n",
       "    <tr>\n",
       "      <th>25%</th>\n",
       "      <td>147.121401</td>\n",
       "      <td>6.489555</td>\n",
       "      <td>6.890000</td>\n",
       "      <td>0.907623</td>\n",
       "      <td>1.498936e+03</td>\n",
       "      <td>-500.357298</td>\n",
       "      <td>1.498971e+03</td>\n",
       "      <td>-500.703002</td>\n",
       "      <td>1.473230e+03</td>\n",
       "      <td>-501.018117</td>\n",
       "      <td>...</td>\n",
       "      <td>1.403618e+01</td>\n",
       "      <td>-500.868258</td>\n",
       "      <td>1.202862e+01</td>\n",
       "      <td>-500.323028</td>\n",
       "      <td>10.914838</td>\n",
       "      <td>-500.726841</td>\n",
       "      <td>8.036719</td>\n",
       "      <td>-500.194668</td>\n",
       "      <td>13.997317</td>\n",
       "      <td>-500.690984</td>\n",
       "    </tr>\n",
       "    <tr>\n",
       "      <th>50%</th>\n",
       "      <td>177.828489</td>\n",
       "      <td>8.052207</td>\n",
       "      <td>7.250000</td>\n",
       "      <td>1.197610</td>\n",
       "      <td>1.585129e+03</td>\n",
       "      <td>-499.969164</td>\n",
       "      <td>1.595622e+03</td>\n",
       "      <td>-500.028514</td>\n",
       "      <td>1.549595e+03</td>\n",
       "      <td>-500.017711</td>\n",
       "      <td>...</td>\n",
       "      <td>1.700847e+01</td>\n",
       "      <td>-500.115727</td>\n",
       "      <td>1.496486e+01</td>\n",
       "      <td>-499.576513</td>\n",
       "      <td>12.954182</td>\n",
       "      <td>-499.990332</td>\n",
       "      <td>10.004301</td>\n",
       "      <td>-499.990535</td>\n",
       "      <td>16.014935</td>\n",
       "      <td>-500.007126</td>\n",
       "    </tr>\n",
       "    <tr>\n",
       "      <th>75%</th>\n",
       "      <td>208.125438</td>\n",
       "      <td>10.027764</td>\n",
       "      <td>7.600000</td>\n",
       "      <td>1.797819</td>\n",
       "      <td>1.602077e+03</td>\n",
       "      <td>-499.568951</td>\n",
       "      <td>1.602324e+03</td>\n",
       "      <td>-499.293257</td>\n",
       "      <td>1.601144e+03</td>\n",
       "      <td>-498.994130</td>\n",
       "      <td>...</td>\n",
       "      <td>1.803862e+01</td>\n",
       "      <td>-499.404224</td>\n",
       "      <td>1.596213e+01</td>\n",
       "      <td>-400.933805</td>\n",
       "      <td>15.097528</td>\n",
       "      <td>-499.283191</td>\n",
       "      <td>11.997467</td>\n",
       "      <td>-499.719913</td>\n",
       "      <td>21.020013</td>\n",
       "      <td>-499.373018</td>\n",
       "    </tr>\n",
       "    <tr>\n",
       "      <th>max</th>\n",
       "      <td>265.983123</td>\n",
       "      <td>40.000000</td>\n",
       "      <td>15.500000</td>\n",
       "      <td>4.102454</td>\n",
       "      <td>2.103104e+03</td>\n",
       "      <td>-57.195404</td>\n",
       "      <td>1.813084e+03</td>\n",
       "      <td>-142.527229</td>\n",
       "      <td>1.715054e+03</td>\n",
       "      <td>-150.937035</td>\n",
       "      <td>...</td>\n",
       "      <td>3.005180e+01</td>\n",
       "      <td>-401.565212</td>\n",
       "      <td>3.126971e+01</td>\n",
       "      <td>-6.506986</td>\n",
       "      <td>25.258848</td>\n",
       "      <td>-244.483566</td>\n",
       "      <td>14.086866</td>\n",
       "      <td>-137.740004</td>\n",
       "      <td>26.705889</td>\n",
       "      <td>-123.307487</td>\n",
       "    </tr>\n",
       "  </tbody>\n",
       "</table>\n",
       "<p>8 rows × 52 columns</p>\n",
       "</div>"
      ],
      "text/plain": [
       "       primary_cleaner.input.sulfate  primary_cleaner.input.depressant  \\\n",
       "count                    5286.000000                       5285.000000   \n",
       "mean                      174.839652                          8.683596   \n",
       "std                        43.027080                          3.072050   \n",
       "min                         2.566156                          0.003839   \n",
       "25%                       147.121401                          6.489555   \n",
       "50%                       177.828489                          8.052207   \n",
       "75%                       208.125438                         10.027764   \n",
       "max                       265.983123                         40.000000   \n",
       "\n",
       "       primary_cleaner.input.feed_size  primary_cleaner.input.xanthate  \\\n",
       "count                      5290.000000                     5286.000000   \n",
       "mean                          7.266339                        1.383803   \n",
       "std                           0.610219                        0.643474   \n",
       "min                           5.650000                        0.004984   \n",
       "25%                           6.890000                        0.907623   \n",
       "50%                           7.250000                        1.197610   \n",
       "75%                           7.600000                        1.797819   \n",
       "max                          15.500000                        4.102454   \n",
       "\n",
       "       primary_cleaner.state.floatbank8_a_air  \\\n",
       "count                            5.290000e+03   \n",
       "mean                             1.539494e+03   \n",
       "std                              1.167979e+02   \n",
       "min                              5.445860e-32   \n",
       "25%                              1.498936e+03   \n",
       "50%                              1.585129e+03   \n",
       "75%                              1.602077e+03   \n",
       "max                              2.103104e+03   \n",
       "\n",
       "       primary_cleaner.state.floatbank8_a_level  \\\n",
       "count                               5290.000000   \n",
       "mean                                -497.665883   \n",
       "std                                   19.952431   \n",
       "min                                 -795.316337   \n",
       "25%                                 -500.357298   \n",
       "50%                                 -499.969164   \n",
       "75%                                 -499.568951   \n",
       "max                                  -57.195404   \n",
       "\n",
       "       primary_cleaner.state.floatbank8_b_air  \\\n",
       "count                            5.290000e+03   \n",
       "mean                             1.545174e+03   \n",
       "std                              1.222246e+02   \n",
       "min                              6.647490e-32   \n",
       "25%                              1.498971e+03   \n",
       "50%                              1.595622e+03   \n",
       "75%                              1.602324e+03   \n",
       "max                              1.813084e+03   \n",
       "\n",
       "       primary_cleaner.state.floatbank8_b_level  \\\n",
       "count                               5290.000000   \n",
       "mean                                -500.273098   \n",
       "std                                   32.968307   \n",
       "min                                 -799.997015   \n",
       "25%                                 -500.703002   \n",
       "50%                                 -500.028514   \n",
       "75%                                 -499.293257   \n",
       "max                                 -142.527229   \n",
       "\n",
       "       primary_cleaner.state.floatbank8_c_air  \\\n",
       "count                            5.290000e+03   \n",
       "mean                             1.527272e+03   \n",
       "std                              1.225380e+02   \n",
       "min                              4.033736e-32   \n",
       "25%                              1.473230e+03   \n",
       "50%                              1.549595e+03   \n",
       "75%                              1.601144e+03   \n",
       "max                              1.715054e+03   \n",
       "\n",
       "       primary_cleaner.state.floatbank8_c_level  ...  \\\n",
       "count                               5290.000000  ...   \n",
       "mean                                -498.330680  ...   \n",
       "std                                   21.964876  ...   \n",
       "min                                 -799.960571  ...   \n",
       "25%                                 -501.018117  ...   \n",
       "50%                                 -500.017711  ...   \n",
       "75%                                 -498.994130  ...   \n",
       "max                                 -150.937035  ...   \n",
       "\n",
       "       secondary_cleaner.state.floatbank4_a_air  \\\n",
       "count                              5.290000e+03   \n",
       "mean                               1.632007e+01   \n",
       "std                                3.493583e+00   \n",
       "min                                1.079872e-16   \n",
       "25%                                1.403618e+01   \n",
       "50%                                1.700847e+01   \n",
       "75%                                1.803862e+01   \n",
       "max                                3.005180e+01   \n",
       "\n",
       "       secondary_cleaner.state.floatbank4_a_level  \\\n",
       "count                                 5290.000000   \n",
       "mean                                  -505.144570   \n",
       "std                                     31.427337   \n",
       "min                                   -799.798523   \n",
       "25%                                   -500.868258   \n",
       "50%                                   -500.115727   \n",
       "75%                                   -499.404224   \n",
       "max                                   -401.565212   \n",
       "\n",
       "       secondary_cleaner.state.floatbank4_b_air  \\\n",
       "count                              5.290000e+03   \n",
       "mean                               1.373544e+01   \n",
       "std                                3.430484e+00   \n",
       "min                                2.489718e-17   \n",
       "25%                                1.202862e+01   \n",
       "50%                                1.496486e+01   \n",
       "75%                                1.596213e+01   \n",
       "max                                3.126971e+01   \n",
       "\n",
       "       secondary_cleaner.state.floatbank4_b_level  \\\n",
       "count                                 5290.000000   \n",
       "mean                                  -463.349858   \n",
       "std                                     86.189107   \n",
       "min                                   -800.836914   \n",
       "25%                                   -500.323028   \n",
       "50%                                   -499.576513   \n",
       "75%                                   -400.933805   \n",
       "max                                     -6.506986   \n",
       "\n",
       "       secondary_cleaner.state.floatbank5_a_air  \\\n",
       "count                               5290.000000   \n",
       "mean                                  12.804186   \n",
       "std                                    3.026591   \n",
       "min                                    0.069227   \n",
       "25%                                   10.914838   \n",
       "50%                                   12.954182   \n",
       "75%                                   15.097528   \n",
       "max                                   25.258848   \n",
       "\n",
       "       secondary_cleaner.state.floatbank5_a_level  \\\n",
       "count                                 5290.000000   \n",
       "mean                                  -501.329122   \n",
       "std                                     17.951495   \n",
       "min                                   -797.323986   \n",
       "25%                                   -500.726841   \n",
       "50%                                   -499.990332   \n",
       "75%                                   -499.283191   \n",
       "max                                   -244.483566   \n",
       "\n",
       "       secondary_cleaner.state.floatbank5_b_air  \\\n",
       "count                               5290.000000   \n",
       "mean                                   9.881145   \n",
       "std                                    2.868205   \n",
       "min                                    0.528083   \n",
       "25%                                    8.036719   \n",
       "50%                                   10.004301   \n",
       "75%                                   11.997467   \n",
       "max                                   14.086866   \n",
       "\n",
       "       secondary_cleaner.state.floatbank5_b_level  \\\n",
       "count                                 5290.000000   \n",
       "mean                                  -495.663398   \n",
       "std                                     34.535007   \n",
       "min                                   -800.220337   \n",
       "25%                                   -500.194668   \n",
       "50%                                   -499.990535   \n",
       "75%                                   -499.719913   \n",
       "max                                   -137.740004   \n",
       "\n",
       "       secondary_cleaner.state.floatbank6_a_air  \\\n",
       "count                               5290.000000   \n",
       "mean                                  17.304935   \n",
       "std                                    4.536544   \n",
       "min                                   -0.079426   \n",
       "25%                                   13.997317   \n",
       "50%                                   16.014935   \n",
       "75%                                   21.020013   \n",
       "max                                   26.705889   \n",
       "\n",
       "       secondary_cleaner.state.floatbank6_a_level  \n",
       "count                                 5290.000000  \n",
       "mean                                  -501.793193  \n",
       "std                                     39.044215  \n",
       "min                                   -809.741464  \n",
       "25%                                   -500.690984  \n",
       "50%                                   -500.007126  \n",
       "75%                                   -499.373018  \n",
       "max                                   -123.307487  \n",
       "\n",
       "[8 rows x 52 columns]"
      ]
     },
     "execution_count": 11,
     "metadata": {},
     "output_type": "execute_result"
    }
   ],
   "source": [
    "data_test.describe()"
   ]
  },
  {
   "cell_type": "markdown",
   "metadata": {},
   "source": [
    "#### data_full_new"
   ]
  },
  {
   "cell_type": "code",
   "execution_count": 12,
   "metadata": {},
   "outputs": [
    {
     "data": {
      "text/html": [
       "<div>\n",
       "<style scoped>\n",
       "    .dataframe tbody tr th:only-of-type {\n",
       "        vertical-align: middle;\n",
       "    }\n",
       "\n",
       "    .dataframe tbody tr th {\n",
       "        vertical-align: top;\n",
       "    }\n",
       "\n",
       "    .dataframe thead th {\n",
       "        text-align: right;\n",
       "    }\n",
       "</style>\n",
       "<table border=\"1\" class=\"dataframe\">\n",
       "  <thead>\n",
       "    <tr style=\"text-align: right;\">\n",
       "      <th></th>\n",
       "      <th>date</th>\n",
       "      <th>final.output.concentrate_ag</th>\n",
       "      <th>final.output.concentrate_pb</th>\n",
       "      <th>final.output.concentrate_sol</th>\n",
       "      <th>final.output.concentrate_au</th>\n",
       "      <th>final.output.recovery</th>\n",
       "      <th>final.output.tail_ag</th>\n",
       "      <th>final.output.tail_pb</th>\n",
       "      <th>final.output.tail_sol</th>\n",
       "      <th>final.output.tail_au</th>\n",
       "      <th>...</th>\n",
       "      <th>secondary_cleaner.state.floatbank4_a_air</th>\n",
       "      <th>secondary_cleaner.state.floatbank4_a_level</th>\n",
       "      <th>secondary_cleaner.state.floatbank4_b_air</th>\n",
       "      <th>secondary_cleaner.state.floatbank4_b_level</th>\n",
       "      <th>secondary_cleaner.state.floatbank5_a_air</th>\n",
       "      <th>secondary_cleaner.state.floatbank5_a_level</th>\n",
       "      <th>secondary_cleaner.state.floatbank5_b_air</th>\n",
       "      <th>secondary_cleaner.state.floatbank5_b_level</th>\n",
       "      <th>secondary_cleaner.state.floatbank6_a_air</th>\n",
       "      <th>secondary_cleaner.state.floatbank6_a_level</th>\n",
       "    </tr>\n",
       "  </thead>\n",
       "  <tbody>\n",
       "    <tr>\n",
       "      <th>0</th>\n",
       "      <td>2016-01-15 00:00:00</td>\n",
       "      <td>6.055403</td>\n",
       "      <td>9.889648</td>\n",
       "      <td>5.507324</td>\n",
       "      <td>42.192020</td>\n",
       "      <td>70.541216</td>\n",
       "      <td>10.411962</td>\n",
       "      <td>0.895447</td>\n",
       "      <td>16.904297</td>\n",
       "      <td>2.143149</td>\n",
       "      <td>...</td>\n",
       "      <td>14.016835</td>\n",
       "      <td>-502.488007</td>\n",
       "      <td>12.099931</td>\n",
       "      <td>-504.715942</td>\n",
       "      <td>9.925633</td>\n",
       "      <td>-498.310211</td>\n",
       "      <td>8.079666</td>\n",
       "      <td>-500.470978</td>\n",
       "      <td>14.151341</td>\n",
       "      <td>-605.841980</td>\n",
       "    </tr>\n",
       "    <tr>\n",
       "      <th>1</th>\n",
       "      <td>2016-01-15 01:00:00</td>\n",
       "      <td>6.029369</td>\n",
       "      <td>9.968944</td>\n",
       "      <td>5.257781</td>\n",
       "      <td>42.701629</td>\n",
       "      <td>69.266198</td>\n",
       "      <td>10.462676</td>\n",
       "      <td>0.927452</td>\n",
       "      <td>16.634514</td>\n",
       "      <td>2.224930</td>\n",
       "      <td>...</td>\n",
       "      <td>13.992281</td>\n",
       "      <td>-505.503262</td>\n",
       "      <td>11.950531</td>\n",
       "      <td>-501.331529</td>\n",
       "      <td>10.039245</td>\n",
       "      <td>-500.169983</td>\n",
       "      <td>7.984757</td>\n",
       "      <td>-500.582168</td>\n",
       "      <td>13.998353</td>\n",
       "      <td>-599.787184</td>\n",
       "    </tr>\n",
       "    <tr>\n",
       "      <th>2</th>\n",
       "      <td>2016-01-15 02:00:00</td>\n",
       "      <td>6.055926</td>\n",
       "      <td>10.213995</td>\n",
       "      <td>5.383759</td>\n",
       "      <td>42.657501</td>\n",
       "      <td>68.116445</td>\n",
       "      <td>10.507046</td>\n",
       "      <td>0.953716</td>\n",
       "      <td>16.208849</td>\n",
       "      <td>2.257889</td>\n",
       "      <td>...</td>\n",
       "      <td>14.015015</td>\n",
       "      <td>-502.520901</td>\n",
       "      <td>11.912783</td>\n",
       "      <td>-501.133383</td>\n",
       "      <td>10.070913</td>\n",
       "      <td>-500.129135</td>\n",
       "      <td>8.013877</td>\n",
       "      <td>-500.517572</td>\n",
       "      <td>14.028663</td>\n",
       "      <td>-601.427363</td>\n",
       "    </tr>\n",
       "    <tr>\n",
       "      <th>3</th>\n",
       "      <td>2016-01-15 03:00:00</td>\n",
       "      <td>6.047977</td>\n",
       "      <td>9.977019</td>\n",
       "      <td>4.858634</td>\n",
       "      <td>42.689819</td>\n",
       "      <td>68.347543</td>\n",
       "      <td>10.422762</td>\n",
       "      <td>0.883763</td>\n",
       "      <td>16.532835</td>\n",
       "      <td>2.146849</td>\n",
       "      <td>...</td>\n",
       "      <td>14.036510</td>\n",
       "      <td>-500.857308</td>\n",
       "      <td>11.999550</td>\n",
       "      <td>-501.193686</td>\n",
       "      <td>9.970366</td>\n",
       "      <td>-499.201640</td>\n",
       "      <td>7.977324</td>\n",
       "      <td>-500.255908</td>\n",
       "      <td>14.005551</td>\n",
       "      <td>-599.996129</td>\n",
       "    </tr>\n",
       "    <tr>\n",
       "      <th>4</th>\n",
       "      <td>2016-01-15 04:00:00</td>\n",
       "      <td>6.148599</td>\n",
       "      <td>10.142511</td>\n",
       "      <td>4.939416</td>\n",
       "      <td>42.774141</td>\n",
       "      <td>66.927016</td>\n",
       "      <td>10.360302</td>\n",
       "      <td>0.792826</td>\n",
       "      <td>16.525686</td>\n",
       "      <td>2.055292</td>\n",
       "      <td>...</td>\n",
       "      <td>14.027298</td>\n",
       "      <td>-499.838632</td>\n",
       "      <td>11.953070</td>\n",
       "      <td>-501.053894</td>\n",
       "      <td>9.925709</td>\n",
       "      <td>-501.686727</td>\n",
       "      <td>7.894242</td>\n",
       "      <td>-500.356035</td>\n",
       "      <td>13.996647</td>\n",
       "      <td>-601.496691</td>\n",
       "    </tr>\n",
       "  </tbody>\n",
       "</table>\n",
       "<p>5 rows × 87 columns</p>\n",
       "</div>"
      ],
      "text/plain": [
       "                  date  final.output.concentrate_ag  \\\n",
       "0  2016-01-15 00:00:00                     6.055403   \n",
       "1  2016-01-15 01:00:00                     6.029369   \n",
       "2  2016-01-15 02:00:00                     6.055926   \n",
       "3  2016-01-15 03:00:00                     6.047977   \n",
       "4  2016-01-15 04:00:00                     6.148599   \n",
       "\n",
       "   final.output.concentrate_pb  final.output.concentrate_sol  \\\n",
       "0                     9.889648                      5.507324   \n",
       "1                     9.968944                      5.257781   \n",
       "2                    10.213995                      5.383759   \n",
       "3                     9.977019                      4.858634   \n",
       "4                    10.142511                      4.939416   \n",
       "\n",
       "   final.output.concentrate_au  final.output.recovery  final.output.tail_ag  \\\n",
       "0                    42.192020              70.541216             10.411962   \n",
       "1                    42.701629              69.266198             10.462676   \n",
       "2                    42.657501              68.116445             10.507046   \n",
       "3                    42.689819              68.347543             10.422762   \n",
       "4                    42.774141              66.927016             10.360302   \n",
       "\n",
       "   final.output.tail_pb  final.output.tail_sol  final.output.tail_au  ...  \\\n",
       "0              0.895447              16.904297              2.143149  ...   \n",
       "1              0.927452              16.634514              2.224930  ...   \n",
       "2              0.953716              16.208849              2.257889  ...   \n",
       "3              0.883763              16.532835              2.146849  ...   \n",
       "4              0.792826              16.525686              2.055292  ...   \n",
       "\n",
       "   secondary_cleaner.state.floatbank4_a_air  \\\n",
       "0                                 14.016835   \n",
       "1                                 13.992281   \n",
       "2                                 14.015015   \n",
       "3                                 14.036510   \n",
       "4                                 14.027298   \n",
       "\n",
       "   secondary_cleaner.state.floatbank4_a_level  \\\n",
       "0                                 -502.488007   \n",
       "1                                 -505.503262   \n",
       "2                                 -502.520901   \n",
       "3                                 -500.857308   \n",
       "4                                 -499.838632   \n",
       "\n",
       "   secondary_cleaner.state.floatbank4_b_air  \\\n",
       "0                                 12.099931   \n",
       "1                                 11.950531   \n",
       "2                                 11.912783   \n",
       "3                                 11.999550   \n",
       "4                                 11.953070   \n",
       "\n",
       "   secondary_cleaner.state.floatbank4_b_level  \\\n",
       "0                                 -504.715942   \n",
       "1                                 -501.331529   \n",
       "2                                 -501.133383   \n",
       "3                                 -501.193686   \n",
       "4                                 -501.053894   \n",
       "\n",
       "   secondary_cleaner.state.floatbank5_a_air  \\\n",
       "0                                  9.925633   \n",
       "1                                 10.039245   \n",
       "2                                 10.070913   \n",
       "3                                  9.970366   \n",
       "4                                  9.925709   \n",
       "\n",
       "   secondary_cleaner.state.floatbank5_a_level  \\\n",
       "0                                 -498.310211   \n",
       "1                                 -500.169983   \n",
       "2                                 -500.129135   \n",
       "3                                 -499.201640   \n",
       "4                                 -501.686727   \n",
       "\n",
       "   secondary_cleaner.state.floatbank5_b_air  \\\n",
       "0                                  8.079666   \n",
       "1                                  7.984757   \n",
       "2                                  8.013877   \n",
       "3                                  7.977324   \n",
       "4                                  7.894242   \n",
       "\n",
       "   secondary_cleaner.state.floatbank5_b_level  \\\n",
       "0                                 -500.470978   \n",
       "1                                 -500.582168   \n",
       "2                                 -500.517572   \n",
       "3                                 -500.255908   \n",
       "4                                 -500.356035   \n",
       "\n",
       "   secondary_cleaner.state.floatbank6_a_air  \\\n",
       "0                                 14.151341   \n",
       "1                                 13.998353   \n",
       "2                                 14.028663   \n",
       "3                                 14.005551   \n",
       "4                                 13.996647   \n",
       "\n",
       "   secondary_cleaner.state.floatbank6_a_level  \n",
       "0                                 -605.841980  \n",
       "1                                 -599.787184  \n",
       "2                                 -601.427363  \n",
       "3                                 -599.996129  \n",
       "4                                 -601.496691  \n",
       "\n",
       "[5 rows x 87 columns]"
      ]
     },
     "execution_count": 12,
     "metadata": {},
     "output_type": "execute_result"
    }
   ],
   "source": [
    "data_full.head()"
   ]
  },
  {
   "cell_type": "code",
   "execution_count": 13,
   "metadata": {},
   "outputs": [
    {
     "name": "stdout",
     "output_type": "stream",
     "text": [
      "-------------------------------------------------------------------------------------------------------------\n",
      "Общая информация:\n",
      "<class 'pandas.core.frame.DataFrame'>\n",
      "RangeIndex: 19439 entries, 0 to 19438\n",
      "Data columns (total 87 columns):\n",
      " #   Column                                              Non-Null Count  Dtype  \n",
      "---  ------                                              --------------  -----  \n",
      " 0   date                                                19439 non-null  object \n",
      " 1   final.output.concentrate_ag                         19438 non-null  float64\n",
      " 2   final.output.concentrate_pb                         19438 non-null  float64\n",
      " 3   final.output.concentrate_sol                        19228 non-null  float64\n",
      " 4   final.output.concentrate_au                         19439 non-null  float64\n",
      " 5   final.output.recovery                               19439 non-null  float64\n",
      " 6   final.output.tail_ag                                19438 non-null  float64\n",
      " 7   final.output.tail_pb                                19338 non-null  float64\n",
      " 8   final.output.tail_sol                               19433 non-null  float64\n",
      " 9   final.output.tail_au                                19439 non-null  float64\n",
      " 10  primary_cleaner.input.sulfate                       19415 non-null  float64\n",
      " 11  primary_cleaner.input.depressant                    19402 non-null  float64\n",
      " 12  primary_cleaner.input.feed_size                     19439 non-null  float64\n",
      " 13  primary_cleaner.input.xanthate                      19335 non-null  float64\n",
      " 14  primary_cleaner.output.concentrate_ag               19439 non-null  float64\n",
      " 15  primary_cleaner.output.concentrate_pb               19323 non-null  float64\n",
      " 16  primary_cleaner.output.concentrate_sol              19069 non-null  float64\n",
      " 17  primary_cleaner.output.concentrate_au               19439 non-null  float64\n",
      " 18  primary_cleaner.output.tail_ag                      19435 non-null  float64\n",
      " 19  primary_cleaner.output.tail_pb                      19418 non-null  float64\n",
      " 20  primary_cleaner.output.tail_sol                     19377 non-null  float64\n",
      " 21  primary_cleaner.output.tail_au                      19439 non-null  float64\n",
      " 22  primary_cleaner.state.floatbank8_a_air              19435 non-null  float64\n",
      " 23  primary_cleaner.state.floatbank8_a_level            19438 non-null  float64\n",
      " 24  primary_cleaner.state.floatbank8_b_air              19435 non-null  float64\n",
      " 25  primary_cleaner.state.floatbank8_b_level            19438 non-null  float64\n",
      " 26  primary_cleaner.state.floatbank8_c_air              19437 non-null  float64\n",
      " 27  primary_cleaner.state.floatbank8_c_level            19438 non-null  float64\n",
      " 28  primary_cleaner.state.floatbank8_d_air              19436 non-null  float64\n",
      " 29  primary_cleaner.state.floatbank8_d_level            19438 non-null  float64\n",
      " 30  rougher.calculation.sulfate_to_au_concentrate       19437 non-null  float64\n",
      " 31  rougher.calculation.floatbank10_sulfate_to_au_feed  19437 non-null  float64\n",
      " 32  rougher.calculation.floatbank11_sulfate_to_au_feed  19437 non-null  float64\n",
      " 33  rougher.calculation.au_pb_ratio                     19439 non-null  float64\n",
      " 34  rougher.input.feed_ag                               19439 non-null  float64\n",
      " 35  rougher.input.feed_pb                               19339 non-null  float64\n",
      " 36  rougher.input.feed_rate                             19428 non-null  float64\n",
      " 37  rougher.input.feed_size                             19294 non-null  float64\n",
      " 38  rougher.input.feed_sol                              19340 non-null  float64\n",
      " 39  rougher.input.feed_au                               19439 non-null  float64\n",
      " 40  rougher.input.floatbank10_sulfate                   19405 non-null  float64\n",
      " 41  rougher.input.floatbank10_xanthate                  19431 non-null  float64\n",
      " 42  rougher.input.floatbank11_sulfate                   19395 non-null  float64\n",
      " 43  rougher.input.floatbank11_xanthate                  18986 non-null  float64\n",
      " 44  rougher.output.concentrate_ag                       19439 non-null  float64\n",
      " 45  rougher.output.concentrate_pb                       19439 non-null  float64\n",
      " 46  rougher.output.concentrate_sol                      19416 non-null  float64\n",
      " 47  rougher.output.concentrate_au                       19439 non-null  float64\n",
      " 48  rougher.output.recovery                             19439 non-null  float64\n",
      " 49  rougher.output.tail_ag                              19438 non-null  float64\n",
      " 50  rougher.output.tail_pb                              19439 non-null  float64\n",
      " 51  rougher.output.tail_sol                             19439 non-null  float64\n",
      " 52  rougher.output.tail_au                              19439 non-null  float64\n",
      " 53  rougher.state.floatbank10_a_air                     19438 non-null  float64\n",
      " 54  rougher.state.floatbank10_a_level                   19438 non-null  float64\n",
      " 55  rougher.state.floatbank10_b_air                     19438 non-null  float64\n",
      " 56  rougher.state.floatbank10_b_level                   19438 non-null  float64\n",
      " 57  rougher.state.floatbank10_c_air                     19438 non-null  float64\n",
      " 58  rougher.state.floatbank10_c_level                   19438 non-null  float64\n",
      " 59  rougher.state.floatbank10_d_air                     19439 non-null  float64\n",
      " 60  rougher.state.floatbank10_d_level                   19439 non-null  float64\n",
      " 61  rougher.state.floatbank10_e_air                     19003 non-null  float64\n",
      " 62  rougher.state.floatbank10_e_level                   19439 non-null  float64\n",
      " 63  rougher.state.floatbank10_f_air                     19439 non-null  float64\n",
      " 64  rougher.state.floatbank10_f_level                   19439 non-null  float64\n",
      " 65  secondary_cleaner.output.tail_ag                    19437 non-null  float64\n",
      " 66  secondary_cleaner.output.tail_pb                    19427 non-null  float64\n",
      " 67  secondary_cleaner.output.tail_sol                   17691 non-null  float64\n",
      " 68  secondary_cleaner.output.tail_au                    19439 non-null  float64\n",
      " 69  secondary_cleaner.state.floatbank2_a_air            19219 non-null  float64\n",
      " 70  secondary_cleaner.state.floatbank2_a_level          19438 non-null  float64\n",
      " 71  secondary_cleaner.state.floatbank2_b_air            19416 non-null  float64\n",
      " 72  secondary_cleaner.state.floatbank2_b_level          19438 non-null  float64\n",
      " 73  secondary_cleaner.state.floatbank3_a_air            19426 non-null  float64\n",
      " 74  secondary_cleaner.state.floatbank3_a_level          19438 non-null  float64\n",
      " 75  secondary_cleaner.state.floatbank3_b_air            19438 non-null  float64\n",
      " 76  secondary_cleaner.state.floatbank3_b_level          19438 non-null  float64\n",
      " 77  secondary_cleaner.state.floatbank4_a_air            19433 non-null  float64\n",
      " 78  secondary_cleaner.state.floatbank4_a_level          19438 non-null  float64\n",
      " 79  secondary_cleaner.state.floatbank4_b_air            19438 non-null  float64\n",
      " 80  secondary_cleaner.state.floatbank4_b_level          19438 non-null  float64\n",
      " 81  secondary_cleaner.state.floatbank5_a_air            19438 non-null  float64\n",
      " 82  secondary_cleaner.state.floatbank5_a_level          19438 non-null  float64\n",
      " 83  secondary_cleaner.state.floatbank5_b_air            19438 non-null  float64\n",
      " 84  secondary_cleaner.state.floatbank5_b_level          19438 non-null  float64\n",
      " 85  secondary_cleaner.state.floatbank6_a_air            19437 non-null  float64\n",
      " 86  secondary_cleaner.state.floatbank6_a_level          19438 non-null  float64\n",
      "dtypes: float64(86), object(1)\n",
      "memory usage: 12.9+ MB\n",
      "None\n",
      "-----------------------------------------\n",
      "-----------------------------------------\n",
      "Проверяем наличие дубликатов:\n",
      "0\n",
      "-----------------------------------------\n",
      "------------------------------------------\n",
      "-------------------------------------------------------------------------------------------------------------\n",
      "None\n"
     ]
    }
   ],
   "source": [
    "print(all_info(data_full))"
   ]
  },
  {
   "cell_type": "code",
   "execution_count": 14,
   "metadata": {
    "scrolled": false
   },
   "outputs": [
    {
     "data": {
      "text/html": [
       "<div>\n",
       "<style scoped>\n",
       "    .dataframe tbody tr th:only-of-type {\n",
       "        vertical-align: middle;\n",
       "    }\n",
       "\n",
       "    .dataframe tbody tr th {\n",
       "        vertical-align: top;\n",
       "    }\n",
       "\n",
       "    .dataframe thead th {\n",
       "        text-align: right;\n",
       "    }\n",
       "</style>\n",
       "<table border=\"1\" class=\"dataframe\">\n",
       "  <thead>\n",
       "    <tr style=\"text-align: right;\">\n",
       "      <th></th>\n",
       "      <th>0</th>\n",
       "    </tr>\n",
       "  </thead>\n",
       "  <tbody>\n",
       "    <tr>\n",
       "      <th>secondary_cleaner.output.tail_sol</th>\n",
       "      <td>1748</td>\n",
       "    </tr>\n",
       "    <tr>\n",
       "      <th>rougher.input.floatbank11_xanthate</th>\n",
       "      <td>453</td>\n",
       "    </tr>\n",
       "    <tr>\n",
       "      <th>rougher.state.floatbank10_e_air</th>\n",
       "      <td>436</td>\n",
       "    </tr>\n",
       "    <tr>\n",
       "      <th>primary_cleaner.output.concentrate_sol</th>\n",
       "      <td>370</td>\n",
       "    </tr>\n",
       "    <tr>\n",
       "      <th>secondary_cleaner.state.floatbank2_a_air</th>\n",
       "      <td>220</td>\n",
       "    </tr>\n",
       "    <tr>\n",
       "      <th>...</th>\n",
       "      <td>...</td>\n",
       "    </tr>\n",
       "    <tr>\n",
       "      <th>primary_cleaner.state.floatbank8_b_level</th>\n",
       "      <td>1</td>\n",
       "    </tr>\n",
       "    <tr>\n",
       "      <th>primary_cleaner.state.floatbank8_a_level</th>\n",
       "      <td>1</td>\n",
       "    </tr>\n",
       "    <tr>\n",
       "      <th>primary_cleaner.state.floatbank8_d_level</th>\n",
       "      <td>1</td>\n",
       "    </tr>\n",
       "    <tr>\n",
       "      <th>rougher.output.tail_ag</th>\n",
       "      <td>1</td>\n",
       "    </tr>\n",
       "    <tr>\n",
       "      <th>final.output.concentrate_pb</th>\n",
       "      <td>1</td>\n",
       "    </tr>\n",
       "  </tbody>\n",
       "</table>\n",
       "<p>63 rows × 1 columns</p>\n",
       "</div>"
      ],
      "text/plain": [
       "                                             0\n",
       "secondary_cleaner.output.tail_sol         1748\n",
       "rougher.input.floatbank11_xanthate         453\n",
       "rougher.state.floatbank10_e_air            436\n",
       "primary_cleaner.output.concentrate_sol     370\n",
       "secondary_cleaner.state.floatbank2_a_air   220\n",
       "...                                        ...\n",
       "primary_cleaner.state.floatbank8_b_level     1\n",
       "primary_cleaner.state.floatbank8_a_level     1\n",
       "primary_cleaner.state.floatbank8_d_level     1\n",
       "rougher.output.tail_ag                       1\n",
       "final.output.concentrate_pb                  1\n",
       "\n",
       "[63 rows x 1 columns]"
      ]
     },
     "execution_count": 14,
     "metadata": {},
     "output_type": "execute_result"
    }
   ],
   "source": [
    "full_isnulls = pd.DataFrame(data_full.isnull().sum().sort_values(ascending=False))\n",
    "full_isnulls[full_isnulls[0] > 0]"
   ]
  },
  {
   "cell_type": "code",
   "execution_count": 15,
   "metadata": {},
   "outputs": [
    {
     "data": {
      "text/html": [
       "<div>\n",
       "<style scoped>\n",
       "    .dataframe tbody tr th:only-of-type {\n",
       "        vertical-align: middle;\n",
       "    }\n",
       "\n",
       "    .dataframe tbody tr th {\n",
       "        vertical-align: top;\n",
       "    }\n",
       "\n",
       "    .dataframe thead th {\n",
       "        text-align: right;\n",
       "    }\n",
       "</style>\n",
       "<table border=\"1\" class=\"dataframe\">\n",
       "  <thead>\n",
       "    <tr style=\"text-align: right;\">\n",
       "      <th></th>\n",
       "      <th>final.output.concentrate_ag</th>\n",
       "      <th>final.output.concentrate_pb</th>\n",
       "      <th>final.output.concentrate_sol</th>\n",
       "      <th>final.output.concentrate_au</th>\n",
       "      <th>final.output.recovery</th>\n",
       "      <th>final.output.tail_ag</th>\n",
       "      <th>final.output.tail_pb</th>\n",
       "      <th>final.output.tail_sol</th>\n",
       "      <th>final.output.tail_au</th>\n",
       "      <th>primary_cleaner.input.sulfate</th>\n",
       "      <th>...</th>\n",
       "      <th>secondary_cleaner.state.floatbank4_a_air</th>\n",
       "      <th>secondary_cleaner.state.floatbank4_a_level</th>\n",
       "      <th>secondary_cleaner.state.floatbank4_b_air</th>\n",
       "      <th>secondary_cleaner.state.floatbank4_b_level</th>\n",
       "      <th>secondary_cleaner.state.floatbank5_a_air</th>\n",
       "      <th>secondary_cleaner.state.floatbank5_a_level</th>\n",
       "      <th>secondary_cleaner.state.floatbank5_b_air</th>\n",
       "      <th>secondary_cleaner.state.floatbank5_b_level</th>\n",
       "      <th>secondary_cleaner.state.floatbank6_a_air</th>\n",
       "      <th>secondary_cleaner.state.floatbank6_a_level</th>\n",
       "    </tr>\n",
       "  </thead>\n",
       "  <tbody>\n",
       "    <tr>\n",
       "      <th>count</th>\n",
       "      <td>19438.000000</td>\n",
       "      <td>19438.000000</td>\n",
       "      <td>19228.000000</td>\n",
       "      <td>19439.000000</td>\n",
       "      <td>19439.000000</td>\n",
       "      <td>19438.000000</td>\n",
       "      <td>19338.000000</td>\n",
       "      <td>19433.000000</td>\n",
       "      <td>19439.000000</td>\n",
       "      <td>19415.000000</td>\n",
       "      <td>...</td>\n",
       "      <td>19433.000000</td>\n",
       "      <td>19438.000000</td>\n",
       "      <td>19438.000000</td>\n",
       "      <td>19438.000000</td>\n",
       "      <td>19438.000000</td>\n",
       "      <td>19438.000000</td>\n",
       "      <td>19438.000000</td>\n",
       "      <td>19438.000000</td>\n",
       "      <td>19437.000000</td>\n",
       "      <td>19438.000000</td>\n",
       "    </tr>\n",
       "    <tr>\n",
       "      <th>mean</th>\n",
       "      <td>5.168470</td>\n",
       "      <td>9.978895</td>\n",
       "      <td>9.501224</td>\n",
       "      <td>44.076513</td>\n",
       "      <td>67.050208</td>\n",
       "      <td>9.688589</td>\n",
       "      <td>2.705795</td>\n",
       "      <td>10.583728</td>\n",
       "      <td>3.042467</td>\n",
       "      <td>144.624774</td>\n",
       "      <td>...</td>\n",
       "      <td>18.987674</td>\n",
       "      <td>-485.894516</td>\n",
       "      <td>15.010366</td>\n",
       "      <td>-461.078636</td>\n",
       "      <td>15.694452</td>\n",
       "      <td>-488.684065</td>\n",
       "      <td>12.198224</td>\n",
       "      <td>-487.149827</td>\n",
       "      <td>18.959024</td>\n",
       "      <td>-505.436305</td>\n",
       "    </tr>\n",
       "    <tr>\n",
       "      <th>std</th>\n",
       "      <td>1.372348</td>\n",
       "      <td>1.669240</td>\n",
       "      <td>2.787537</td>\n",
       "      <td>5.129784</td>\n",
       "      <td>10.125840</td>\n",
       "      <td>2.328642</td>\n",
       "      <td>0.949077</td>\n",
       "      <td>2.868782</td>\n",
       "      <td>0.922808</td>\n",
       "      <td>44.464071</td>\n",
       "      <td>...</td>\n",
       "      <td>5.411058</td>\n",
       "      <td>47.758570</td>\n",
       "      <td>4.890228</td>\n",
       "      <td>67.405524</td>\n",
       "      <td>5.510974</td>\n",
       "      <td>34.533396</td>\n",
       "      <td>5.333024</td>\n",
       "      <td>38.347312</td>\n",
       "      <td>5.550498</td>\n",
       "      <td>37.689057</td>\n",
       "    </tr>\n",
       "    <tr>\n",
       "      <th>min</th>\n",
       "      <td>0.000000</td>\n",
       "      <td>0.000000</td>\n",
       "      <td>0.000000</td>\n",
       "      <td>0.000000</td>\n",
       "      <td>0.000000</td>\n",
       "      <td>0.000000</td>\n",
       "      <td>0.000000</td>\n",
       "      <td>0.000000</td>\n",
       "      <td>0.000000</td>\n",
       "      <td>0.003112</td>\n",
       "      <td>...</td>\n",
       "      <td>0.000000</td>\n",
       "      <td>-799.798523</td>\n",
       "      <td>0.000000</td>\n",
       "      <td>-800.836914</td>\n",
       "      <td>-0.372054</td>\n",
       "      <td>-797.323986</td>\n",
       "      <td>0.528083</td>\n",
       "      <td>-800.220337</td>\n",
       "      <td>-0.079426</td>\n",
       "      <td>-809.741464</td>\n",
       "    </tr>\n",
       "    <tr>\n",
       "      <th>25%</th>\n",
       "      <td>4.251240</td>\n",
       "      <td>9.137262</td>\n",
       "      <td>7.722820</td>\n",
       "      <td>43.402215</td>\n",
       "      <td>63.299712</td>\n",
       "      <td>8.062878</td>\n",
       "      <td>2.040119</td>\n",
       "      <td>8.938947</td>\n",
       "      <td>2.461138</td>\n",
       "      <td>114.107029</td>\n",
       "      <td>...</td>\n",
       "      <td>14.975734</td>\n",
       "      <td>-500.704892</td>\n",
       "      <td>11.940294</td>\n",
       "      <td>-500.187742</td>\n",
       "      <td>10.988606</td>\n",
       "      <td>-500.458467</td>\n",
       "      <td>8.971105</td>\n",
       "      <td>-500.129462</td>\n",
       "      <td>14.983037</td>\n",
       "      <td>-500.728067</td>\n",
       "    </tr>\n",
       "    <tr>\n",
       "      <th>50%</th>\n",
       "      <td>5.066094</td>\n",
       "      <td>10.102433</td>\n",
       "      <td>9.218961</td>\n",
       "      <td>45.011244</td>\n",
       "      <td>68.172738</td>\n",
       "      <td>9.743623</td>\n",
       "      <td>2.748730</td>\n",
       "      <td>10.622456</td>\n",
       "      <td>2.984909</td>\n",
       "      <td>143.232103</td>\n",
       "      <td>...</td>\n",
       "      <td>18.017481</td>\n",
       "      <td>-499.837793</td>\n",
       "      <td>14.971014</td>\n",
       "      <td>-499.459786</td>\n",
       "      <td>15.000036</td>\n",
       "      <td>-499.802605</td>\n",
       "      <td>11.019433</td>\n",
       "      <td>-499.935317</td>\n",
       "      <td>19.960541</td>\n",
       "      <td>-500.048400</td>\n",
       "    </tr>\n",
       "    <tr>\n",
       "      <th>75%</th>\n",
       "      <td>5.895527</td>\n",
       "      <td>11.035769</td>\n",
       "      <td>10.947813</td>\n",
       "      <td>46.275313</td>\n",
       "      <td>72.686642</td>\n",
       "      <td>11.134294</td>\n",
       "      <td>3.333216</td>\n",
       "      <td>12.104271</td>\n",
       "      <td>3.571351</td>\n",
       "      <td>175.075656</td>\n",
       "      <td>...</td>\n",
       "      <td>23.012470</td>\n",
       "      <td>-498.249730</td>\n",
       "      <td>19.034162</td>\n",
       "      <td>-400.118106</td>\n",
       "      <td>18.026190</td>\n",
       "      <td>-498.384187</td>\n",
       "      <td>14.019088</td>\n",
       "      <td>-499.436708</td>\n",
       "      <td>24.003170</td>\n",
       "      <td>-499.495378</td>\n",
       "    </tr>\n",
       "    <tr>\n",
       "      <th>max</th>\n",
       "      <td>16.001945</td>\n",
       "      <td>17.031899</td>\n",
       "      <td>19.615720</td>\n",
       "      <td>52.756638</td>\n",
       "      <td>100.000000</td>\n",
       "      <td>19.552149</td>\n",
       "      <td>5.804178</td>\n",
       "      <td>22.317730</td>\n",
       "      <td>8.245022</td>\n",
       "      <td>265.983123</td>\n",
       "      <td>...</td>\n",
       "      <td>30.115735</td>\n",
       "      <td>-245.239184</td>\n",
       "      <td>31.269706</td>\n",
       "      <td>-6.506986</td>\n",
       "      <td>43.709931</td>\n",
       "      <td>-244.483566</td>\n",
       "      <td>27.926001</td>\n",
       "      <td>-137.740004</td>\n",
       "      <td>32.188906</td>\n",
       "      <td>-104.427459</td>\n",
       "    </tr>\n",
       "  </tbody>\n",
       "</table>\n",
       "<p>8 rows × 86 columns</p>\n",
       "</div>"
      ],
      "text/plain": [
       "       final.output.concentrate_ag  final.output.concentrate_pb  \\\n",
       "count                 19438.000000                 19438.000000   \n",
       "mean                      5.168470                     9.978895   \n",
       "std                       1.372348                     1.669240   \n",
       "min                       0.000000                     0.000000   \n",
       "25%                       4.251240                     9.137262   \n",
       "50%                       5.066094                    10.102433   \n",
       "75%                       5.895527                    11.035769   \n",
       "max                      16.001945                    17.031899   \n",
       "\n",
       "       final.output.concentrate_sol  final.output.concentrate_au  \\\n",
       "count                  19228.000000                 19439.000000   \n",
       "mean                       9.501224                    44.076513   \n",
       "std                        2.787537                     5.129784   \n",
       "min                        0.000000                     0.000000   \n",
       "25%                        7.722820                    43.402215   \n",
       "50%                        9.218961                    45.011244   \n",
       "75%                       10.947813                    46.275313   \n",
       "max                       19.615720                    52.756638   \n",
       "\n",
       "       final.output.recovery  final.output.tail_ag  final.output.tail_pb  \\\n",
       "count           19439.000000          19438.000000          19338.000000   \n",
       "mean               67.050208              9.688589              2.705795   \n",
       "std                10.125840              2.328642              0.949077   \n",
       "min                 0.000000              0.000000              0.000000   \n",
       "25%                63.299712              8.062878              2.040119   \n",
       "50%                68.172738              9.743623              2.748730   \n",
       "75%                72.686642             11.134294              3.333216   \n",
       "max               100.000000             19.552149              5.804178   \n",
       "\n",
       "       final.output.tail_sol  final.output.tail_au  \\\n",
       "count           19433.000000          19439.000000   \n",
       "mean               10.583728              3.042467   \n",
       "std                 2.868782              0.922808   \n",
       "min                 0.000000              0.000000   \n",
       "25%                 8.938947              2.461138   \n",
       "50%                10.622456              2.984909   \n",
       "75%                12.104271              3.571351   \n",
       "max                22.317730              8.245022   \n",
       "\n",
       "       primary_cleaner.input.sulfate  ...  \\\n",
       "count                   19415.000000  ...   \n",
       "mean                      144.624774  ...   \n",
       "std                        44.464071  ...   \n",
       "min                         0.003112  ...   \n",
       "25%                       114.107029  ...   \n",
       "50%                       143.232103  ...   \n",
       "75%                       175.075656  ...   \n",
       "max                       265.983123  ...   \n",
       "\n",
       "       secondary_cleaner.state.floatbank4_a_air  \\\n",
       "count                              19433.000000   \n",
       "mean                                  18.987674   \n",
       "std                                    5.411058   \n",
       "min                                    0.000000   \n",
       "25%                                   14.975734   \n",
       "50%                                   18.017481   \n",
       "75%                                   23.012470   \n",
       "max                                   30.115735   \n",
       "\n",
       "       secondary_cleaner.state.floatbank4_a_level  \\\n",
       "count                                19438.000000   \n",
       "mean                                  -485.894516   \n",
       "std                                     47.758570   \n",
       "min                                   -799.798523   \n",
       "25%                                   -500.704892   \n",
       "50%                                   -499.837793   \n",
       "75%                                   -498.249730   \n",
       "max                                   -245.239184   \n",
       "\n",
       "       secondary_cleaner.state.floatbank4_b_air  \\\n",
       "count                              19438.000000   \n",
       "mean                                  15.010366   \n",
       "std                                    4.890228   \n",
       "min                                    0.000000   \n",
       "25%                                   11.940294   \n",
       "50%                                   14.971014   \n",
       "75%                                   19.034162   \n",
       "max                                   31.269706   \n",
       "\n",
       "       secondary_cleaner.state.floatbank4_b_level  \\\n",
       "count                                19438.000000   \n",
       "mean                                  -461.078636   \n",
       "std                                     67.405524   \n",
       "min                                   -800.836914   \n",
       "25%                                   -500.187742   \n",
       "50%                                   -499.459786   \n",
       "75%                                   -400.118106   \n",
       "max                                     -6.506986   \n",
       "\n",
       "       secondary_cleaner.state.floatbank5_a_air  \\\n",
       "count                              19438.000000   \n",
       "mean                                  15.694452   \n",
       "std                                    5.510974   \n",
       "min                                   -0.372054   \n",
       "25%                                   10.988606   \n",
       "50%                                   15.000036   \n",
       "75%                                   18.026190   \n",
       "max                                   43.709931   \n",
       "\n",
       "       secondary_cleaner.state.floatbank5_a_level  \\\n",
       "count                                19438.000000   \n",
       "mean                                  -488.684065   \n",
       "std                                     34.533396   \n",
       "min                                   -797.323986   \n",
       "25%                                   -500.458467   \n",
       "50%                                   -499.802605   \n",
       "75%                                   -498.384187   \n",
       "max                                   -244.483566   \n",
       "\n",
       "       secondary_cleaner.state.floatbank5_b_air  \\\n",
       "count                              19438.000000   \n",
       "mean                                  12.198224   \n",
       "std                                    5.333024   \n",
       "min                                    0.528083   \n",
       "25%                                    8.971105   \n",
       "50%                                   11.019433   \n",
       "75%                                   14.019088   \n",
       "max                                   27.926001   \n",
       "\n",
       "       secondary_cleaner.state.floatbank5_b_level  \\\n",
       "count                                19438.000000   \n",
       "mean                                  -487.149827   \n",
       "std                                     38.347312   \n",
       "min                                   -800.220337   \n",
       "25%                                   -500.129462   \n",
       "50%                                   -499.935317   \n",
       "75%                                   -499.436708   \n",
       "max                                   -137.740004   \n",
       "\n",
       "       secondary_cleaner.state.floatbank6_a_air  \\\n",
       "count                              19437.000000   \n",
       "mean                                  18.959024   \n",
       "std                                    5.550498   \n",
       "min                                   -0.079426   \n",
       "25%                                   14.983037   \n",
       "50%                                   19.960541   \n",
       "75%                                   24.003170   \n",
       "max                                   32.188906   \n",
       "\n",
       "       secondary_cleaner.state.floatbank6_a_level  \n",
       "count                                19438.000000  \n",
       "mean                                  -505.436305  \n",
       "std                                     37.689057  \n",
       "min                                   -809.741464  \n",
       "25%                                   -500.728067  \n",
       "50%                                   -500.048400  \n",
       "75%                                   -499.495378  \n",
       "max                                   -104.427459  \n",
       "\n",
       "[8 rows x 86 columns]"
      ]
     },
     "execution_count": 15,
     "metadata": {},
     "output_type": "execute_result"
    }
   ],
   "source": [
    "data_full.describe()"
   ]
  },
  {
   "cell_type": "markdown",
   "metadata": {},
   "source": [
    "***Вывод:*** \n",
    "- предоставленные данные довольно объемны как по числу строк, так и по количеству столбцов.\n",
    "- в каждом датафрейме есть столбец содержащий дату\n",
    "- в столбцах во всех трех таблицах имеются пропуски, нулевые и отрицательные значения\n",
    "- практически все данные, кроме дат, имеют численный тип"
   ]
  },
  {
   "cell_type": "markdown",
   "metadata": {},
   "source": [
    "### Предобработка данных."
   ]
  },
  {
   "cell_type": "markdown",
   "metadata": {},
   "source": [
    "**Переводим столбец с датой в нужный верменной формат.**"
   ]
  },
  {
   "cell_type": "code",
   "execution_count": 16,
   "metadata": {},
   "outputs": [],
   "source": [
    "data_train['date'] = pd.to_datetime(data_train['date'], format='%Y-%m-%dT%H:%M:%S')\n",
    "data_test['date'] = pd.to_datetime(data_test['date'], format='%Y-%m-%dT%H:%M:%S')\n",
    "data_full['date'] = pd.to_datetime(data_full['date'], format='%Y-%m-%dT%H:%M:%S')"
   ]
  },
  {
   "cell_type": "markdown",
   "metadata": {},
   "source": [
    "**Выведем количесво занимаемой памяти для каждого файла.**"
   ]
  },
  {
   "cell_type": "code",
   "execution_count": 17,
   "metadata": {},
   "outputs": [
    {
     "name": "stdout",
     "output_type": "stream",
     "text": [
      "Average memory usage for float columns: 0.11 MB\n",
      "Average memory usage for int columns: 0.00 MB\n",
      "Average memory usage for object columns: 0.00 MB\n",
      "None\n",
      "\n",
      "Average memory usage for float columns: 0.04 MB\n",
      "Average memory usage for int columns: 0.00 MB\n",
      "Average memory usage for object columns: 0.00 MB\n",
      "None\n",
      "\n",
      "Average memory usage for float columns: 0.15 MB\n",
      "Average memory usage for int columns: 0.00 MB\n",
      "Average memory usage for object columns: 0.00 MB\n",
      "None\n"
     ]
    }
   ],
   "source": [
    "def memory(data):\n",
    "    for dtype in ['float','int','object']:\n",
    "        selected_dtype = data.select_dtypes(include=[dtype])\n",
    "        mean_usage_b = selected_dtype.memory_usage(deep=True).mean()\n",
    "        mean_usage_mb = mean_usage_b / 1024 ** 2\n",
    "        print(\"Average memory usage for {} columns: {:03.2f} MB\".format(dtype,mean_usage_mb))\n",
    "print(memory(data_train))\n",
    "print()\n",
    "print(memory(data_test))\n",
    "print()\n",
    "print(memory(data_full))"
   ]
  },
  {
   "cell_type": "markdown",
   "metadata": {},
   "source": [
    "*Датафреймы, содержащие обучающую выборку и исходные данные, занимают много памяти, что может сказаться на скорости их обработки. Стоит их сократить без ущерба для данных путем перевода float64 в float32.*"
   ]
  },
  {
   "cell_type": "code",
   "execution_count": 18,
   "metadata": {
    "scrolled": true
   },
   "outputs": [
    {
     "name": "stdout",
     "output_type": "stream",
     "text": [
      "9.28 MB\n",
      "4.64 MB\n",
      "\n",
      "12.75 MB\n",
      "6.38 MB\n"
     ]
    },
    {
     "data": {
      "text/html": [
       "<div>\n",
       "<style scoped>\n",
       "    .dataframe tbody tr th:only-of-type {\n",
       "        vertical-align: middle;\n",
       "    }\n",
       "\n",
       "    .dataframe tbody tr th {\n",
       "        vertical-align: top;\n",
       "    }\n",
       "\n",
       "    .dataframe thead th {\n",
       "        text-align: right;\n",
       "    }\n",
       "</style>\n",
       "<table border=\"1\" class=\"dataframe\">\n",
       "  <thead>\n",
       "    <tr style=\"text-align: right;\">\n",
       "      <th></th>\n",
       "      <th>before</th>\n",
       "      <th>after</th>\n",
       "    </tr>\n",
       "  </thead>\n",
       "  <tbody>\n",
       "    <tr>\n",
       "      <th>float32</th>\n",
       "      <td>NaN</td>\n",
       "      <td>86.0</td>\n",
       "    </tr>\n",
       "    <tr>\n",
       "      <th>float64</th>\n",
       "      <td>86.0</td>\n",
       "      <td>NaN</td>\n",
       "    </tr>\n",
       "  </tbody>\n",
       "</table>\n",
       "</div>"
      ],
      "text/plain": [
       "         before  after\n",
       "float32     NaN   86.0\n",
       "float64    86.0    NaN"
      ]
     },
     "execution_count": 18,
     "metadata": {},
     "output_type": "execute_result"
    }
   ],
   "source": [
    "def mem_usage(pandas_obj):\n",
    "    if isinstance(pandas_obj,pd.DataFrame):\n",
    "        usage_b = pandas_obj.memory_usage(deep=True).sum()\n",
    "    else: \n",
    "        usage_b = pandas_obj.memory_usage(deep=True)\n",
    "    usage_mb = usage_b / 1024 ** 2 \n",
    "    return \"{:03.2f} MB\".format(usage_mb)\n",
    "\n",
    "data_float = data_train.select_dtypes(include=['float'])\n",
    "converted_float = data_float.apply(pd.to_numeric,downcast='float')\n",
    "\n",
    "print(mem_usage(data_float))\n",
    "print(mem_usage(converted_float))\n",
    "print()\n",
    "\n",
    "compare_floats = pd.concat([data_float.dtypes,converted_float.dtypes],axis=1)\n",
    "compare_floats.columns = ['before','after']\n",
    "compare_floats.apply(pd.Series.value_counts)\n",
    "\n",
    "def mem_usage(pandas_obj):\n",
    "    if isinstance(pandas_obj,pd.DataFrame):\n",
    "        usage_b = pandas_obj.memory_usage(deep=True).sum()\n",
    "    else: # исходим из предположения о том, что если это не DataFrame, то это Series\n",
    "        usage_b = pandas_obj.memory_usage(deep=True)\n",
    "    usage_mb = usage_b / 1024 ** 2 # преобразуем байты в мегабайты\n",
    "    return \"{:03.2f} MB\".format(usage_mb)\n",
    "\n",
    "data_float = data_full.select_dtypes(include=['float'])\n",
    "converted_float = data_float.apply(pd.to_numeric,downcast='float')\n",
    "\n",
    "print(mem_usage(data_float))\n",
    "print(mem_usage(converted_float))\n",
    "\n",
    "compare_floats = pd.concat([data_float.dtypes,converted_float.dtypes],axis=1)\n",
    "compare_floats.columns = ['before','after']\n",
    "compare_floats.apply(pd.Series.value_counts)"
   ]
  },
  {
   "cell_type": "code",
   "execution_count": 19,
   "metadata": {
    "scrolled": true
   },
   "outputs": [
    {
     "name": "stdout",
     "output_type": "stream",
     "text": [
      "4.75 MB\n",
      "\n",
      "6.53 MB\n",
      "\n"
     ]
    }
   ],
   "source": [
    "data_train = data_train.copy()\n",
    "data_train[converted_float.columns] = converted_float\n",
    "print(mem_usage(data_train))\n",
    "print()\n",
    "data_full = data_full.copy()\n",
    "data_full[converted_float.columns] = converted_float\n",
    "print(mem_usage(data_full))\n",
    "print()"
   ]
  },
  {
   "cell_type": "markdown",
   "metadata": {},
   "source": [
    "***Заполняем пропуски.***\n",
    "\n",
    "Так как по условию задания известно, что близкие по времени(т е идущие друг за другом в данных датафреймах) данные в экспериментах похожи, логично заполнить пропуски соседним значением в столбце. Для этого применяем метод  \"ffill\""
   ]
  },
  {
   "cell_type": "code",
   "execution_count": 20,
   "metadata": {},
   "outputs": [],
   "source": [
    "data_train=data_train.fillna(value=None, method=\"ffill\") \n",
    "data_test=data_test.fillna(value=None, method=\"ffill\") \n",
    "data_full=data_full.fillna(value=None, method=\"ffill\") "
   ]
  },
  {
   "cell_type": "code",
   "execution_count": 21,
   "metadata": {},
   "outputs": [
    {
     "name": "stdout",
     "output_type": "stream",
     "text": [
      "date                                          0\n",
      "rougher.state.floatbank10_b_air               0\n",
      "rougher.state.floatbank10_f_air               0\n",
      "rougher.state.floatbank10_e_level             0\n",
      "rougher.state.floatbank10_e_air               0\n",
      "                                             ..\n",
      "primary_cleaner.state.floatbank8_c_level      0\n",
      "primary_cleaner.state.floatbank8_c_air        0\n",
      "primary_cleaner.state.floatbank8_b_level      0\n",
      "primary_cleaner.state.floatbank8_b_air        0\n",
      "secondary_cleaner.state.floatbank6_a_level    0\n",
      "Length: 87, dtype: int64\n",
      "date                                          0\n",
      "rougher.state.floatbank10_c_air               0\n",
      "rougher.state.floatbank10_d_air               0\n",
      "rougher.state.floatbank10_d_level             0\n",
      "rougher.state.floatbank10_e_air               0\n",
      "rougher.state.floatbank10_e_level             0\n",
      "rougher.state.floatbank10_f_air               0\n",
      "rougher.state.floatbank10_f_level             0\n",
      "secondary_cleaner.state.floatbank2_a_air      0\n",
      "secondary_cleaner.state.floatbank2_a_level    0\n",
      "secondary_cleaner.state.floatbank2_b_air      0\n",
      "secondary_cleaner.state.floatbank2_b_level    0\n",
      "secondary_cleaner.state.floatbank3_a_air      0\n",
      "secondary_cleaner.state.floatbank3_a_level    0\n",
      "secondary_cleaner.state.floatbank3_b_air      0\n",
      "secondary_cleaner.state.floatbank3_b_level    0\n",
      "secondary_cleaner.state.floatbank4_a_air      0\n",
      "secondary_cleaner.state.floatbank4_a_level    0\n",
      "secondary_cleaner.state.floatbank4_b_air      0\n",
      "secondary_cleaner.state.floatbank4_b_level    0\n",
      "secondary_cleaner.state.floatbank5_a_air      0\n",
      "secondary_cleaner.state.floatbank5_a_level    0\n",
      "secondary_cleaner.state.floatbank5_b_air      0\n",
      "secondary_cleaner.state.floatbank5_b_level    0\n",
      "secondary_cleaner.state.floatbank6_a_air      0\n",
      "rougher.state.floatbank10_c_level             0\n",
      "rougher.state.floatbank10_b_level             0\n",
      "primary_cleaner.input.sulfate                 0\n",
      "rougher.state.floatbank10_b_air               0\n",
      "primary_cleaner.input.depressant              0\n",
      "primary_cleaner.input.feed_size               0\n",
      "primary_cleaner.input.xanthate                0\n",
      "primary_cleaner.state.floatbank8_a_air        0\n",
      "primary_cleaner.state.floatbank8_a_level      0\n",
      "primary_cleaner.state.floatbank8_b_air        0\n",
      "primary_cleaner.state.floatbank8_b_level      0\n",
      "primary_cleaner.state.floatbank8_c_air        0\n",
      "primary_cleaner.state.floatbank8_c_level      0\n",
      "primary_cleaner.state.floatbank8_d_air        0\n",
      "primary_cleaner.state.floatbank8_d_level      0\n",
      "rougher.input.feed_ag                         0\n",
      "rougher.input.feed_pb                         0\n",
      "rougher.input.feed_rate                       0\n",
      "rougher.input.feed_size                       0\n",
      "rougher.input.feed_sol                        0\n",
      "rougher.input.feed_au                         0\n",
      "rougher.input.floatbank10_sulfate             0\n",
      "rougher.input.floatbank10_xanthate            0\n",
      "rougher.input.floatbank11_sulfate             0\n",
      "rougher.input.floatbank11_xanthate            0\n",
      "rougher.state.floatbank10_a_air               0\n",
      "rougher.state.floatbank10_a_level             0\n",
      "secondary_cleaner.state.floatbank6_a_level    0\n",
      "dtype: int64\n",
      "date                                          0\n",
      "rougher.state.floatbank10_b_air               0\n",
      "rougher.state.floatbank10_f_air               0\n",
      "rougher.state.floatbank10_e_level             0\n",
      "rougher.state.floatbank10_e_air               0\n",
      "                                             ..\n",
      "primary_cleaner.state.floatbank8_c_level      0\n",
      "primary_cleaner.state.floatbank8_c_air        0\n",
      "primary_cleaner.state.floatbank8_b_level      0\n",
      "primary_cleaner.state.floatbank8_b_air        0\n",
      "secondary_cleaner.state.floatbank6_a_level    0\n",
      "Length: 87, dtype: int64\n"
     ]
    }
   ],
   "source": [
    "print(data_train.isnull().sum().sort_values(ascending=False))\n",
    "print(data_test.isnull().sum().sort_values(ascending=False))\n",
    "print(data_full.isnull().sum().sort_values(ascending=False))"
   ]
  },
  {
   "cell_type": "markdown",
   "metadata": {},
   "source": [
    "***Вывод:*** \n",
    "- перевели столбцы с датами в нужный формат: при работе в дальнейшем эти столбцы можно использовать как дополнительные индексы;\n",
    "- уменьшили объем даннных;\n",
    "- заполнили пропуски в датафреймах соседним значением в столбце, т к это обосновано заданием, а так же тем, что удаление или заполнение пропусков нулевыми или средними/медианными значениями может повлиять на конечные результаты."
   ]
  },
  {
   "cell_type": "markdown",
   "metadata": {},
   "source": [
    "### Проверим, что эффективность обогащения рассчитана правильно. \n",
    "\n",
    "***Вычислим её на обучающей выборке для признака rougher.output.recovery. Найдем MAE между нашими расчётами и значением признака. Опишите выводы.***"
   ]
  },
  {
   "cell_type": "markdown",
   "metadata": {},
   "source": [
    "**Расчёт эффективности**\n",
    "<br>Нам нужно смоделировать процесс восстановления золота из золотосодержащей руды по обучающей выборке.\n",
    "<br>Эффективность обогащения рассчитывается по формуле:\n",
    "<br> ***R(ecovery) = (C*(F-T)/F*(C-T))*100%***\n",
    "\n",
    "* где:\n",
    "* * C — доля золота в концентрате после флотации/очистки;\n",
    "* * F — доля золота в сырье/концентрате до флотации/очистки;\n",
    "* * T — доля золота в отвальных хвостах после флотации/очистки.\n",
    "<br>Для прогноза коэффициента нужно найти долю золота в концентратах и хвостах. Причём важен не только финальный продукт, но и черновой концентрат."
   ]
  },
  {
   "cell_type": "code",
   "execution_count": 22,
   "metadata": {},
   "outputs": [],
   "source": [
    "# функция расчитывает Эффективность обогащения\n",
    "# если в знаменателе 0, меняем на значение из исходной таблицы\n",
    "def recovery_rougher(row):\n",
    "    C = row['rougher.output.concentrate_au']\n",
    "    F = row['rougher.input.feed_au']\n",
    "    T = row['rougher.output.tail_au']\n",
    "    Calc = row['rougher.output.recovery']\n",
    "    if (F * (C-T)) == 0: R = Calc\n",
    "    \n",
    "    else: R = 100* ((C * (F-T)) / (F * (C-T)))   \n",
    "    return R"
   ]
  },
  {
   "cell_type": "markdown",
   "metadata": {},
   "source": [
    "Рассчитаем Recovery для этапа \"Флотация\":"
   ]
  },
  {
   "cell_type": "code",
   "execution_count": 23,
   "metadata": {},
   "outputs": [],
   "source": [
    "recovery= data_train\n",
    "recovery['rougher.calculation.recovery'] = recovery.apply(recovery_rougher,axis=1)"
   ]
  },
  {
   "cell_type": "markdown",
   "metadata": {},
   "source": [
    "Прежде чем посчитать MAE нужно проверить наличие отсутствующих значений и пропусков:"
   ]
  },
  {
   "cell_type": "code",
   "execution_count": 24,
   "metadata": {},
   "outputs": [
    {
     "name": "stdout",
     "output_type": "stream",
     "text": [
      "0\n",
      "0\n"
     ]
    }
   ],
   "source": [
    "mae_index = recovery['rougher.output.recovery'].notna()\n",
    "# проверим количество пропусков:\n",
    "print(recovery.loc[mae_index]['rougher.calculation.recovery'].isna().sum())\n",
    "print(recovery.loc[mae_index]['rougher.output.recovery'].isna().sum())"
   ]
  },
  {
   "cell_type": "markdown",
   "metadata": {},
   "source": [
    "Пропусков нет, запускаем функцию:"
   ]
  },
  {
   "cell_type": "code",
   "execution_count": 25,
   "metadata": {},
   "outputs": [
    {
     "data": {
      "text/plain": [
       "1.9727487074604263e-06"
      ]
     },
     "execution_count": 25,
     "metadata": {},
     "output_type": "execute_result"
    }
   ],
   "source": [
    "mean_absolute_error(recovery.loc[mae_index]['rougher.output.recovery'], recovery.loc[mae_index]['rougher.calculation.recovery'])"
   ]
  },
  {
   "cell_type": "markdown",
   "metadata": {},
   "source": [
    "***Вывод:***\n",
    "Значение MAE достаточно низкое, можно сказать, что наши расчеты совпадают с признаком rougher.output.recovery. Данную формулу можно использовать в дальнейшем при расчетах. "
   ]
  },
  {
   "cell_type": "markdown",
   "metadata": {},
   "source": [
    "***Проанализируйте признаки, недоступные в тестовой выборке. Что это за параметры? К какому типу относятся?***"
   ]
  },
  {
   "cell_type": "code",
   "execution_count": 26,
   "metadata": {},
   "outputs": [
    {
     "data": {
      "text/plain": [
       "23                          final.output.concentrate_ag\n",
       "30                          final.output.concentrate_au\n",
       "24                          final.output.concentrate_pb\n",
       "0                          final.output.concentrate_sol\n",
       "31                                final.output.recovery\n",
       "12                                 final.output.tail_ag\n",
       "2                                  final.output.tail_au\n",
       "18                                 final.output.tail_pb\n",
       "20                                final.output.tail_sol\n",
       "5                 primary_cleaner.output.concentrate_ag\n",
       "22                primary_cleaner.output.concentrate_au\n",
       "4                 primary_cleaner.output.concentrate_pb\n",
       "1                primary_cleaner.output.concentrate_sol\n",
       "28                       primary_cleaner.output.tail_ag\n",
       "10                       primary_cleaner.output.tail_au\n",
       "3                        primary_cleaner.output.tail_pb\n",
       "8                       primary_cleaner.output.tail_sol\n",
       "17                      rougher.calculation.au_pb_ratio\n",
       "29    rougher.calculation.floatbank10_sulfate_to_au_...\n",
       "27    rougher.calculation.floatbank11_sulfate_to_au_...\n",
       "26        rougher.calculation.sulfate_to_au_concentrate\n",
       "25                        rougher.output.concentrate_ag\n",
       "7                         rougher.output.concentrate_au\n",
       "6                         rougher.output.concentrate_pb\n",
       "13                       rougher.output.concentrate_sol\n",
       "14                              rougher.output.recovery\n",
       "33                               rougher.output.tail_ag\n",
       "16                               rougher.output.tail_au\n",
       "21                               rougher.output.tail_pb\n",
       "19                              rougher.output.tail_sol\n",
       "9                      secondary_cleaner.output.tail_ag\n",
       "11                     secondary_cleaner.output.tail_au\n",
       "15                     secondary_cleaner.output.tail_pb\n",
       "32                    secondary_cleaner.output.tail_sol\n",
       "dtype: object"
      ]
     },
     "execution_count": 26,
     "metadata": {},
     "output_type": "execute_result"
    }
   ],
   "source": [
    "#Признаки в тестовой выборке\n",
    "test_col=data_test.columns\n",
    "#Признаки в полной выборке\n",
    "full_col=data_full.columns\n",
    "#Разница признаков. \n",
    "main_list=list(set(full_col)-set(test_col))\n",
    "# Этих признаков нет в тестовой выборке\n",
    "main_list=pd.Series(main_list)\n",
    "main_list.sort_values()"
   ]
  },
  {
   "cell_type": "markdown",
   "metadata": {},
   "source": [
    "***Вывод:*** Можно считать выведенные данные выходными признаками(выходные концентрации веществ на разных этапах, выходные концентрации отвальных хвостов, расчетны характеристики на этапе флотации  после каждого технологического этапа и др.). Каждый из этих признаков можно сделать целевым и предсказывать. Тут присутствуют и наши целевые признаки final.output.recovery и rougher.output.recovery. В дальнейшем они понадобятся на этапе подсчета метрики sMAPE."
   ]
  },
  {
   "cell_type": "markdown",
   "metadata": {},
   "source": [
    "## Анализ данных"
   ]
  },
  {
   "cell_type": "markdown",
   "metadata": {},
   "source": [
    "### Изменение концентрации металлов (Au, Ag, Pb) на различных этапах очистки.\n"
   ]
  },
  {
   "cell_type": "markdown",
   "metadata": {},
   "source": [
    "Разделим данные по концентрациям металлов на разных этапах очистки:\n"
   ]
  },
  {
   "cell_type": "code",
   "execution_count": 27,
   "metadata": {},
   "outputs": [
    {
     "name": "stdout",
     "output_type": "stream",
     "text": [
      "Флострация концетрации au: 19.772001\n",
      "Первичная очистка концетрации au: 32.1194\n",
      "Финальная концетрация au: 44.07651\n",
      "\n",
      "Флострация концетрации ag: 11.9947605\n",
      "Первичная очистка концетрации ag: 8.442408\n",
      "Финальная концетрация ag: 5.1683865\n",
      "\n",
      "Флострация концетрации pb: 7.606272\n",
      "Первичная очистка концетрации pb: 9.810317\n",
      "Финальная концетрация pb: 9.978822\n"
     ]
    }
   ],
   "source": [
    "print('Флострация концетрации au:', data_full['rougher.output.concentrate_au'].mean())\n",
    "print('Первичная очистка концетрации au:', data_full['primary_cleaner.output.concentrate_au'].mean())\n",
    "print('Финальная концетрация au:', data_full['final.output.concentrate_au'].mean())\n",
    "print()\n",
    "print('Флострация концетрации ag:', data_full['rougher.output.concentrate_ag'].mean())\n",
    "print('Первичная очистка концетрации ag:', data_full['primary_cleaner.output.concentrate_ag'].mean())\n",
    "print('Финальная концетрация ag:', data_full['final.output.concentrate_ag'].mean())\n",
    "print()\n",
    "print('Флострация концетрации pb:', data_full['rougher.output.concentrate_pb'].mean())\n",
    "print('Первичная очистка концетрации pb:', data_full['primary_cleaner.output.concentrate_pb'].mean())\n",
    "print('Финальная концетрация pb:', data_full['final.output.concentrate_pb'].mean())"
   ]
  },
  {
   "cell_type": "markdown",
   "metadata": {},
   "source": [
    "**Визуализируем:**"
   ]
  },
  {
   "cell_type": "code",
   "execution_count": 28,
   "metadata": {},
   "outputs": [
    {
     "data": {
      "image/png": "[encoded data removed]",
      "text/plain": [
       "<Figure size 432x288 with 1 Axes>"
      ]
     },
     "metadata": {},
     "output_type": "display_data"
    },
    {
     "data": {
      "image/png": "[encoded data removed]",
      "text/plain": [
       "<Figure size 432x288 with 1 Axes>"
      ]
     },
     "metadata": {},
     "output_type": "display_data"
    },
    {
     "data": {
      "image/png": "[encoded data removed]",
      "text/plain": [
       "<Figure size 432x288 with 1 Axes>"
      ]
     },
     "metadata": {},
     "output_type": "display_data"
    }
   ],
   "source": [
    "# set seaborn darkgrid theme \n",
    "sns.set(style=\"whitegrid\")\n",
    "\n",
    "# density plot\n",
    "plt.title('Среднее распределение концетрации Au', fontweight='bold')\n",
    "fig = sns.kdeplot(data_full['rougher.input.feed_au'],color='y', legend=True,shade=True)\n",
    "\n",
    "fig = sns.kdeplot(data_full['rougher.output.concentrate_au'],color='r', legend=True,shade=True)\n",
    "fig = sns.kdeplot(data_full['primary_cleaner.output.concentrate_au'],color='g', legend=True,shade=True)\n",
    "fig = sns.kdeplot(data_full['final.output.concentrate_au'],color='b', legend=True,shade=True)\n",
    "plt.legend(['Начальные концентрации', 'Флотация', 'Первичная очистка', \"На выходе\" ], loc=1, bbox_to_anchor=(1.5, 1))     \n",
    "plt.show()\n",
    "plt.title('Среднее распределение концетрации Ag', fontweight='bold')\n",
    "fig = sns.kdeplot(data_full['rougher.input.feed_ag'],color='y', legend=True,shade=True)\n",
    "fig = sns.kdeplot(data_full['rougher.output.concentrate_ag'],color='r', legend=True,shade=True)\n",
    "fig = sns.kdeplot(data_full['primary_cleaner.output.concentrate_ag'],color='g', legend=True,shade=True)\n",
    "fig = sns.kdeplot(data_full['final.output.concentrate_ag'],color='b', legend=True,shade=True)\n",
    "plt.legend(['Начальные концентрации','Флотация', 'Первичная очистка', \"На выходе\" ], loc=1, bbox_to_anchor=(1.5, 1))     \n",
    "plt.show()\n",
    "\n",
    "plt.title('Среднее распределение концетрации Pb', fontweight='bold')\n",
    "fig = sns.kdeplot(data_full['rougher.input.feed_pb'],color='y', legend=True,shade=True)\n",
    "fig = sns.kdeplot(data_full['rougher.output.concentrate_pb'],color='r', legend=True,shade=True)\n",
    "fig = sns.kdeplot(data_full['primary_cleaner.output.concentrate_pb'],color='g', legend=True,shade=True)\n",
    "fig = sns.kdeplot(data_full['final.output.concentrate_pb'],color='b', legend=True,shade=True)\n",
    "plt.legend(['Начальные концентрации','Флотация', 'Первичная очистка', \"На выходе\" ], loc=1, bbox_to_anchor=(1.5, 1))     \n",
    "plt.show()"
   ]
  },
  {
   "cell_type": "markdown",
   "metadata": {},
   "source": [
    "**Вывод:** Стабильно высокие показатели концентрации на выходе на разных этапах работы у свинца - вероятно, это говорит о том, что его легче отделить в большем объеме от руды или же его количество в руде больше количества серебра. \n",
    "На каждом из графиков видны аномальные значения в нуле. Вероятно это отвальные хвосты каждого элемента или же дефект данных. Также на графике концетрации Au можно заметить нормальное распределение велечин, а на графиках Ag и Pb бимодальное распределение. Значение у Au много больше, чем у остальных, что логично.</font>"
   ]
  },
  {
   "cell_type": "markdown",
   "metadata": {},
   "source": [
    "### Сравним распределения размеров гранул сырья на обучающей и тестовой выборках. \n",
    "\n",
    "Если распределения сильно отличаются друг от друга, оценка модели будет неправильной."
   ]
  },
  {
   "cell_type": "code",
   "execution_count": 29,
   "metadata": {},
   "outputs": [
    {
     "data": {
      "image/png": "[encoded data removed]",
      "text/plain": [
       "<Figure size 432x288 with 1 Axes>"
      ]
     },
     "metadata": {},
     "output_type": "display_data"
    }
   ],
   "source": [
    "plt.title('Распределение гранул сырья на обучающей выборке', fontweight='bold')\n",
    "fig = sns.kdeplot(data_train['rougher.input.feed_size'],color='r', legend=True,shade=True)\n",
    "fig = sns.kdeplot(data_test['rougher.input.feed_size'],color='g', legend=True,shade=True)\n",
    "plt.legend(['Флотация', 'Первичная очистка'], loc=1)     \n",
    "plt.xlim(0, 300)\n",
    "plt.show()"
   ]
  },
  {
   "cell_type": "code",
   "execution_count": 30,
   "metadata": {},
   "outputs": [
    {
     "name": "stdout",
     "output_type": "stream",
     "text": [
      "Среднее распределение гранул на обучающей выборке: 55.4825\n",
      "Среднее распределение гранул на тестовой выборке: 55.952754028895136\n"
     ]
    }
   ],
   "source": [
    "feed_size_avg_train = data_train['rougher.input.feed_size'].mean()\n",
    "print('Среднее распределение гранул на обучающей выборке:',feed_size_avg_train)\n",
    "feed_size_avg_test = data_test['rougher.input.feed_size'].mean()\n",
    "print('Среднее распределение гранул на тестовой выборке:',feed_size_avg_test)"
   ]
  },
  {
   "cell_type": "markdown",
   "metadata": {},
   "source": [
    "**Вывод:** Распределения практически не отличаются друг от друга - оценка модели правильная"
   ]
  },
  {
   "cell_type": "markdown",
   "metadata": {},
   "source": [
    "### Исследуем суммарную концентрацию всех веществ на разных стадиях: в сырье, в черновом и финальном концентратах.\n"
   ]
  },
  {
   "cell_type": "code",
   "execution_count": 31,
   "metadata": {},
   "outputs": [],
   "source": [
    "data_train1=data_train\n",
    "data_train1=data_train1.dropna()\n",
    "data_train1['raw']=data_train['rougher.input.feed_au']+data_train['rougher.input.feed_ag']+data_train['rougher.input.feed_pb']#сырье\n",
    "data_train1['rough']=data_train['rougher.output.concentrate_au']+data_train['rougher.output.concentrate_au']+data_train['rougher.output.concentrate_au']#черновой\n",
    "data_train1['primary']=data_train['primary_cleaner.output.concentrate_au']+data_train['primary_cleaner.output.concentrate_ag']+data_train['primary_cleaner.output.concentrate_pb']#первичная\n",
    "data_train1['final']=data_train['final.output.concentrate_au']+data_train['final.output.concentrate_ag']+data_train['final.output.concentrate_pb']#финальная\n",
    "\n",
    "\n",
    "data_train1=data_train1.query('rough > 20 & raw>20 & final>20 & primary >20')\n"
   ]
  },
  {
   "cell_type": "code",
   "execution_count": 32,
   "metadata": {
    "scrolled": true
   },
   "outputs": [
    {
     "data": {
      "image/png": "[encoded data removed]",
      "text/plain": [
       "<Figure size 1440x504 with 1 Axes>"
      ]
     },
     "metadata": {},
     "output_type": "display_data"
    }
   ],
   "source": [
    "fig = plt.subplots(figsize=(20, 7))\n",
    "fig = sns.distplot(a=data_train1['raw'], hist=True, kde=True, rug=False , color=\"r\")\n",
    "fig = sns.distplot(a=data_train1['rough'], hist=True, kde=True, rug=False , color=\"g\")\n",
    "fig = sns.distplot(a=data_train1['primary'], hist=True, kde=True, rug=False , color=\"b\")\n",
    "fig = sns.distplot(a=data_train1['final'], hist=True, kde=True, rug=False , color=\"y\")\n",
    "plt.legend(['raw', 'rough', 'primary', 'final'], loc=1)\n",
    "plt.show()"
   ]
  },
  {
   "cell_type": "markdown",
   "metadata": {},
   "source": [
    "**Вывод:** как и ожидается, на финальном этапе концетрата становится значительно меьше по сравнению со входом. \n",
    "Показатели по этапам суммы концетрата имеют нормальное распределение, кромеу сырьевого концетрата - ему соответствует многомодальное распределение, что свидетельствует о неоднородности данных. Также присутвуют аномальные значения в нуле, но, как было сказано, обработать их не выйдет без существенного влияния на конечный результат. </font>"
   ]
  },
  {
   "cell_type": "markdown",
   "metadata": {},
   "source": [
    "## Модель"
   ]
  },
  {
   "cell_type": "markdown",
   "metadata": {},
   "source": [
    "### Построим модель\n"
   ]
  },
  {
   "cell_type": "markdown",
   "metadata": {},
   "source": [
    "#### Сформируем функцию для вычисления итоговой sMAPE.\n"
   ]
  },
  {
   "cell_type": "code",
   "execution_count": 33,
   "metadata": {},
   "outputs": [],
   "source": [
    "def sMAPE(predict,target):\n",
    "    predict_rougher=predict[:,0]\n",
    "    target__rougher=target[:,0]\n",
    "    predict_final=predict[:,1]\n",
    "    target__final=target[:,1]\n",
    "    \n",
    "    sMAPE_rougher=np.sum(abs(target__rougher-predict_rougher)/((abs(target__rougher)+abs(predict_rougher))/2))\n",
    "    sMAPE_rougher=sMAPE_rougher/len(target__rougher)*100\n",
    "    \n",
    "   \n",
    "    sMAPE_final=np.sum(abs(target__final-predict_final)/((abs(target__final)+abs(predict_final))/2))\n",
    "    sMAPE_final=sMAPE_final/len(target__final)*100\n",
    "    \n",
    "    sMAP=0.25*sMAPE_rougher+0.75*sMAPE_final\n",
    "    return sMAP"
   ]
  },
  {
   "cell_type": "markdown",
   "metadata": {},
   "source": [
    "#### Обучим разные модели и ценим их качество кросс-валидацией."
   ]
  },
  {
   "cell_type": "markdown",
   "metadata": {},
   "source": [
    "*Формируем необходимые выборки:*"
   ]
  },
  {
   "cell_type": "code",
   "execution_count": 34,
   "metadata": {},
   "outputs": [],
   "source": [
    "columns=data_test.columns # Колонки которые в тестовой выборке\n",
    "feature=data_train[columns] # Формируем признаки Выбираем из trian только те колонки, которые есть в test\n",
    "feature=feature.drop(['date'],axis=1)\n",
    "target=data_train[['rougher.output.recovery','final.output.recovery']] # Формируем вектор целевых признаков\n",
    "target_array=np.array(target) # конвертирую в array\n",
    "sample_size=int(len(target)/6)"
   ]
  },
  {
   "cell_type": "markdown",
   "metadata": {},
   "source": [
    "***Линейная регрессия***"
   ]
  },
  {
   "cell_type": "code",
   "execution_count": 35,
   "metadata": {},
   "outputs": [
    {
     "name": "stdout",
     "output_type": "stream",
     "text": [
      "7.003981\n",
      "10.69644158921606\n"
     ]
    }
   ],
   "source": [
    "mae_score=[]\n",
    "smape_score=[]\n",
    "for i in range(0,len(target),sample_size):\n",
    "    valid_index=feature.iloc[i:i+sample_size].index\n",
    "    \n",
    "    train_index=feature.query('index not in @valid_index').index\n",
    "    \n",
    "    target_valid=target.iloc[valid_index]\n",
    "   \n",
    "    feature_valid=feature.iloc[valid_index]\n",
    "    \n",
    "    target_train=target.iloc[train_index]\n",
    "    feature_train=feature.iloc[train_index]\n",
    "    \n",
    "    target_valid_arr=np.array(target_valid)\n",
    "    \n",
    "    model_regression=LinearRegression().fit(feature_train,target_train)\n",
    "    prediction_regress=model_regression.predict(feature_valid)   \n",
    "    \n",
    "    mae=mean_absolute_error(prediction_regress,target_valid)\n",
    "    mae_score.append(mae)\n",
    "    smape=sMAPE(prediction_regress,target_valid_arr)\n",
    "    smape_score.append(smape)\n",
    "    \n",
    "    #print(mae_score)\n",
    "\n",
    "print(np.mean(mae_score))\n",
    "print(np.mean(smape_score))"
   ]
  },
  {
   "cell_type": "markdown",
   "metadata": {},
   "source": [
    "***Модель \"Случайный лес\"***"
   ]
  },
  {
   "cell_type": "code",
   "execution_count": 36,
   "metadata": {},
   "outputs": [
    {
     "name": "stdout",
     "output_type": "stream",
     "text": [
      "         MAE     sMAPE  max_depth\n",
      "11  6.108271  9.451952        4.0\n",
      "12  6.201214  9.537843        1.0\n",
      "10  6.202081  9.582217        3.0\n",
      "13  6.261059  9.587999        2.0\n",
      "14  6.298223  9.621164        3.0\n"
     ]
    }
   ],
   "source": [
    "mae_score=[]\n",
    "smape_score=[]\n",
    "mae_score=[]\n",
    "smape_score=[]\n",
    "par = { 'MAE':[] , 'sMAPE':[], 'max_depth':[]}\n",
    "df_par = pd.DataFrame(par)\n",
    "\n",
    "\n",
    "for i in range(0,len(target),sample_size):\n",
    "    \n",
    "    valid_index=feature.iloc[i:i+sample_size].index\n",
    "    \n",
    "    train_index=feature.query('index not in @valid_index').index\n",
    "    \n",
    "    target_valid=target.iloc[valid_index]\n",
    "    feature_valid=feature.iloc[valid_index]\n",
    "    \n",
    "    target_train=target.iloc[train_index]\n",
    "    feature_train=feature.iloc[train_index]\n",
    "    \n",
    "    target_valid_arr=np.array(target_valid)\n",
    "    for i in range(1, 5 ):\n",
    "        \n",
    "        model_forest=RandomForestRegressor(random_state=1234,max_depth=i, n_estimators=5).fit(feature_train,target_train)\n",
    "        prediction_forest=model_forest.predict(feature_valid)\n",
    "        mae=mean_absolute_error(prediction_forest,target_valid)\n",
    "        mae_score.append(mae)\n",
    "        smape=sMAPE(prediction_forest,target_valid_arr)\n",
    "        smape_score.append(smape)\n",
    "        \n",
    "        #print('max_depth:',i,'MAE:',np.mean(mae_score))\n",
    "        #print('max_depth:',i,'sMAPE:',np.mean(smape_score))\n",
    "        df_par.loc[len(df_par.index)] = [np.mean( mae_score), np.mean(smape_score), i]\n",
    "\n",
    "        \n",
    "print(df_par.sort_values('sMAPE').head()) "
   ]
  },
  {
   "cell_type": "markdown",
   "metadata": {},
   "source": [
    "***Лучшее значение  sMAPE при n_estimators= 5, max_depth= 4***"
   ]
  },
  {
   "cell_type": "markdown",
   "metadata": {},
   "source": [
    " **Берем значение max_depth=3 и n_estimators=4 по результатам предыдущих вычислений**"
   ]
  },
  {
   "cell_type": "code",
   "execution_count": 37,
   "metadata": {},
   "outputs": [
    {
     "name": "stdout",
     "output_type": "stream",
     "text": [
      "MAE: 6.817446254805605\n",
      "sMAPE: 10.467520788668496\n"
     ]
    }
   ],
   "source": [
    "mae_score=[]\n",
    "smape_score=[]\n",
    "for i in range(0,len(target),sample_size):\n",
    "    \n",
    "    valid_index=feature.iloc[i:i+sample_size].index\n",
    "    \n",
    "    train_index=feature.query('index not in @valid_index').index\n",
    "    \n",
    "    target_valid=target.iloc[valid_index]\n",
    "    feature_valid=feature.iloc[valid_index]\n",
    "    \n",
    "    target_train=target.iloc[train_index]\n",
    "    feature_train=feature.iloc[train_index]\n",
    "    \n",
    "    target_valid_arr=np.array(target_valid)\n",
    "    \n",
    "        \n",
    "    model_forest=RandomForestRegressor(random_state=1234,max_depth=4, n_estimators=5).fit(feature_train,target_train)\n",
    "    prediction_forest=model_forest.predict(feature_valid)\n",
    "    mae=mean_absolute_error(prediction_forest,target_valid)\n",
    "    mae_score.append(mae)\n",
    "    smape=sMAPE(prediction_forest,target_valid_arr)\n",
    "    smape_score.append(smape)\n",
    "        \n",
    "print('MAE:',np.mean(mae_score))\n",
    "print('sMAPE:',np.mean(smape_score))"
   ]
  },
  {
   "cell_type": "markdown",
   "metadata": {},
   "source": [
    "**Вывод:** Используем модель \"Случайный лес\" как покозавшую лучший результат по сравнению с линейной регрессией. Примененные гиперпараметры: max_depth=4, n_estimators=5. \n",
    "\n"
   ]
  },
  {
   "cell_type": "markdown",
   "metadata": {},
   "source": [
    "***DummyRegressor***"
   ]
  },
  {
   "cell_type": "code",
   "execution_count": 38,
   "metadata": {},
   "outputs": [
    {
     "name": "stdout",
     "output_type": "stream",
     "text": [
      "7.328752353727839\n",
      "11.287125694737512\n"
     ]
    }
   ],
   "source": [
    "mae_score_dum=[]\n",
    "smape_score_dum=[]\n",
    "for i in range(0,len(target), sample_size):\n",
    "    valid_index=feature.iloc[i:i+sample_size].index\n",
    "    \n",
    "    train_index=feature.query('index not in @valid_index').index\n",
    "    \n",
    "    target_valid=target.iloc[valid_index]\n",
    "   \n",
    "    feature_valid=feature.iloc[valid_index]\n",
    "    \n",
    "    target_train=target.iloc[train_index]\n",
    "    feature_train=feature.iloc[train_index]\n",
    "    \n",
    "    target_valid_arr=np.array(target_valid)\n",
    "    \n",
    "    dummy_regr = DummyRegressor(strategy = 'quantile', quantile = 0.5 ).fit(feature_train,target_train)\n",
    "    prediction_regress=dummy_regr.predict(feature_valid)   \n",
    "    dummy_regr.score(feature_train,target_train)\n",
    "\n",
    "    mae=mean_absolute_error(prediction_regress, target_valid)\n",
    "    mae_score_dum.append(mae)\n",
    "    smape=sMAPE(prediction_regress,target_valid_arr)\n",
    "    smape_score_dum.append(smape)\n",
    "    \n",
    "\n",
    "print(np.mean(mae_score_dum))\n",
    "print(np.mean(smape_score_dum))\n",
    "#strategy=\"mean\" strategy = 'quantile', quantile = 0.5"
   ]
  },
  {
   "cell_type": "markdown",
   "metadata": {},
   "source": [
    "### Выберем лучшую модель и проверим её на тестовой выборке. "
   ]
  },
  {
   "cell_type": "markdown",
   "metadata": {},
   "source": [
    "*Сформируем тестовый набор данных:*"
   ]
  },
  {
   "cell_type": "code",
   "execution_count": 39,
   "metadata": {},
   "outputs": [],
   "source": [
    "target_test=data_full[['date','rougher.output.recovery','final.output.recovery']]\n",
    "test_df=data_test.merge(target_test,on=['date'],how='left')\n",
    "test_df=test_df.dropna()\n",
    "target_test=test_df[['rougher.output.recovery','final.output.recovery']]\n",
    "feature_test=test_df.drop(['date','rougher.output.recovery','final.output.recovery'],axis=1)"
   ]
  },
  {
   "cell_type": "markdown",
   "metadata": {},
   "source": [
    "### Сравним модели."
   ]
  },
  {
   "cell_type": "code",
   "execution_count": 40,
   "metadata": {},
   "outputs": [
    {
     "data": {
      "text/plain": [
       "8.619990720525443"
      ]
     },
     "execution_count": 40,
     "metadata": {},
     "output_type": "execute_result"
    }
   ],
   "source": [
    "#Случайный лес\n",
    "prediction_forest=model_forest.predict(feature_test)\n",
    "smape_forest=sMAPE(prediction_forest,np.array(target_test))\n",
    "smape_forest"
   ]
  },
  {
   "cell_type": "code",
   "execution_count": 41,
   "metadata": {},
   "outputs": [
    {
     "data": {
      "text/plain": [
       "9.287642877418941"
      ]
     },
     "execution_count": 41,
     "metadata": {},
     "output_type": "execute_result"
    }
   ],
   "source": [
    "#Линейная регрессия\n",
    "prediction_reg=model_regression.predict(feature_test)\n",
    "smape_line=sMAPE(prediction_reg,np.array(target_test))\n",
    "smape_line"
   ]
  },
  {
   "cell_type": "code",
   "execution_count": 42,
   "metadata": {},
   "outputs": [
    {
     "data": {
      "text/plain": [
       "9.827701429901701"
      ]
     },
     "execution_count": 42,
     "metadata": {},
     "output_type": "execute_result"
    }
   ],
   "source": [
    "#DummyRegressor\n",
    "dummy_prediction=dummy_regr.predict(feature_test)\n",
    "smape_dummy=sMAPE(dummy_prediction,np.array(target_test))\n",
    "smape_dummy\n"
   ]
  },
  {
   "cell_type": "code",
   "execution_count": 43,
   "metadata": {},
   "outputs": [
    {
     "data": {
      "text/html": [
       "<div>\n",
       "<style scoped>\n",
       "    .dataframe tbody tr th:only-of-type {\n",
       "        vertical-align: middle;\n",
       "    }\n",
       "\n",
       "    .dataframe tbody tr th {\n",
       "        vertical-align: top;\n",
       "    }\n",
       "\n",
       "    .dataframe thead th {\n",
       "        text-align: right;\n",
       "    }\n",
       "</style>\n",
       "<table border=\"1\" class=\"dataframe\">\n",
       "  <thead>\n",
       "    <tr style=\"text-align: right;\">\n",
       "      <th></th>\n",
       "      <th>sMAPE</th>\n",
       "    </tr>\n",
       "  </thead>\n",
       "  <tbody>\n",
       "    <tr>\n",
       "      <th>LinearRegression</th>\n",
       "      <td>9.287643</td>\n",
       "    </tr>\n",
       "    <tr>\n",
       "      <th>RandomForestRegressor</th>\n",
       "      <td>8.619991</td>\n",
       "    </tr>\n",
       "    <tr>\n",
       "      <th>DummyRegressor</th>\n",
       "      <td>9.827701</td>\n",
       "    </tr>\n",
       "  </tbody>\n",
       "</table>\n",
       "</div>"
      ],
      "text/plain": [
       "                          sMAPE\n",
       "LinearRegression       9.287643\n",
       "RandomForestRegressor  8.619991\n",
       "DummyRegressor         9.827701"
      ]
     },
     "execution_count": 43,
     "metadata": {},
     "output_type": "execute_result"
    }
   ],
   "source": [
    "models=['LinearRegression','RandomForestRegressor', 'DummyRegressor']\n",
    "sMAPE_rezult=pd.DataFrame(np.array([smape_line,smape_forest, smape_dummy]),index=models)\n",
    "sMAPE_rezult.set_axis(['sMAPE'],axis='columns',inplace=True)\n",
    "sMAPE_rezult"
   ]
  },
  {
   "cell_type": "markdown",
   "metadata": {},
   "source": [
    "**Вывод:** По сводной таблице видно, что лучше всего себя показала модель \"Случайный лес\", sMAPE которого сотавило 8,3%."
   ]
  },
  {
   "cell_type": "markdown",
   "metadata": {},
   "source": [
    "## Общий вывод.\n",
    "\n",
    "\n",
    "При работе с проектом: были изучены предоставленные данные, выполнена предобработка: был изменен тип столбца с датами, заполнены пропуски и произведена оценка данных и уменьшение объема выборок посредством смены типа данных. Было выяснено, что значение MAE достаточно низкое и можно сказать, что наши расчеты совпадают с признаком rougher.output.recovery. Предоставленную формулу Recovery можно использовать в дальнейшем при расчетах. Так же, после оценки недоступных в тестовой выборке признаков, можно считать их выходными признаками(выходные концентрации веществ на разных этапах, выходные концентрации отвальных хвостов, расчетны характеристики на этапе флотации после каждого технологического этапа и др.). Каждый из этих признаков можно сделать целевым и предсказывать. Тут присутствуют и наши целевые признаки final.output.recovery и rougher.output.recovery. В дальнейшем они понадобятся на этапе подсчета метрики sMAPE. Затем были проанализированы изменения концентраций металлов в руде на разных этапах обработки, данные были визуализированы. Вывод: стабильно высокие показатели у свинца - вероятно, это говорит о том, что его легче отделить в большем объеме от руды или же его количество в руде больше количества серебра. На каждом из графиков видны аномальные значения в нуле. Вероятно это отвальные хвосты каждого элемента или же дефект данных. Также на графике концетрации Au можно заметить нормальное распределение велечин, а на графиках Ag и Pb бимодальное распределение. Значение у Au много больше, чем у остальных, что логично. При сравнении распределения размеров гранул сырья на обучающей и тестовой выборках стало ясно, что распределения практически не отличаются друг от друга - оценка модели правильная. При исследовании суммарной концентрации всех веществ на разных стадиях - в сырье, в черновом и финальном концентратах - выяснили, что на финальном этапе концетрата становится значительно меьше по сравнению со входом. Показатели по этапам суммы концетрата имеют нормальное распределение, кромеу сырьевого концетрата - ему соответствует многомодальное распределение, что свидетельствует о неоднородности данных. Также присутвуют аномальные значения в нуле, но, как было сказано, обработать их не выйдет без существенного влияния на конечный результат. Далее, тестовый датасет был разбит на необходимые  выборки, был выделены целевые признаки(rougher.output.recovery','final.output.recovery). Далее обучаем модели линейоной регрессии и случайного леса. По результатам вычислений MAE и sMAPE, лучше себя показала модель \"Случайный лес\". Примененные гиперпараметры: max_depth=3, n_estimators=4. Далее снова проверили обе модели на тестовой выборке и sMAPE RandomForestRegressor = 8,7%, оказалось наиболее перспективным, чтобы рекомендовать эту можель как конечный результат данной работы."
   ]
  }
 ],
 "metadata": {
  "ExecuteTimeLog": [
   {
    "duration": 3152,
    "start_time": "2022-05-12T22:19:39.995Z"
   },
   {
    "duration": 1332,
    "start_time": "2022-05-12T22:19:43.151Z"
   },
   {
    "duration": 92,
    "start_time": "2022-05-12T22:42:11.302Z"
   },
   {
    "duration": 882,
    "start_time": "2022-05-12T22:43:17.314Z"
   },
   {
    "duration": 167,
    "start_time": "2022-05-12T22:47:42.842Z"
   },
   {
    "duration": 6,
    "start_time": "2022-05-12T22:47:48.077Z"
   },
   {
    "duration": 292,
    "start_time": "2022-05-12T22:47:49.435Z"
   },
   {
    "duration": 8,
    "start_time": "2022-05-12T22:48:48.084Z"
   },
   {
    "duration": 297,
    "start_time": "2022-05-12T22:48:49.493Z"
   },
   {
    "duration": 8,
    "start_time": "2022-05-12T22:49:13.765Z"
   },
   {
    "duration": 266,
    "start_time": "2022-05-12T22:49:14.515Z"
   },
   {
    "duration": 8,
    "start_time": "2022-05-12T22:50:04.980Z"
   },
   {
    "duration": 213,
    "start_time": "2022-05-12T22:50:05.603Z"
   },
   {
    "duration": 6,
    "start_time": "2022-05-12T22:50:23.275Z"
   },
   {
    "duration": 209,
    "start_time": "2022-05-12T22:50:23.996Z"
   },
   {
    "duration": 55,
    "start_time": "2022-05-12T22:53:14.488Z"
   },
   {
    "duration": 64,
    "start_time": "2022-05-12T22:55:17.416Z"
   },
   {
    "duration": 47,
    "start_time": "2022-05-12T22:55:33.422Z"
   },
   {
    "duration": 8,
    "start_time": "2022-05-12T22:56:20.321Z"
   },
   {
    "duration": 32,
    "start_time": "2022-05-12T22:56:21.430Z"
   },
   {
    "duration": 214,
    "start_time": "2022-05-12T22:56:22.086Z"
   },
   {
    "duration": 321,
    "start_time": "2022-05-12T22:56:47.376Z"
   },
   {
    "duration": 13,
    "start_time": "2022-05-12T22:58:37.457Z"
   },
   {
    "duration": 17,
    "start_time": "2022-05-12T23:01:39.226Z"
   },
   {
    "duration": 22,
    "start_time": "2022-05-12T23:02:13.973Z"
   },
   {
    "duration": 29,
    "start_time": "2022-05-12T23:02:31.323Z"
   },
   {
    "duration": 22,
    "start_time": "2022-05-12T23:02:47.972Z"
   },
   {
    "duration": 2174,
    "start_time": "2022-05-12T23:03:39.195Z"
   },
   {
    "duration": 14,
    "start_time": "2022-05-12T23:03:52.003Z"
   },
   {
    "duration": 37,
    "start_time": "2022-05-12T23:04:09.333Z"
   },
   {
    "duration": 2334,
    "start_time": "2022-05-12T23:04:32.347Z"
   },
   {
    "duration": 20,
    "start_time": "2022-05-12T23:04:39.140Z"
   },
   {
    "duration": 31,
    "start_time": "2022-05-12T23:05:46.661Z"
   },
   {
    "duration": 57,
    "start_time": "2022-05-12T23:05:50.778Z"
   },
   {
    "duration": 182,
    "start_time": "2022-05-12T23:06:27.332Z"
   },
   {
    "duration": 14,
    "start_time": "2022-05-12T23:07:18.140Z"
   },
   {
    "duration": 7,
    "start_time": "2022-05-12T23:07:49.192Z"
   },
   {
    "duration": 45,
    "start_time": "2022-05-12T23:07:50.143Z"
   },
   {
    "duration": 263,
    "start_time": "2022-05-12T23:07:50.403Z"
   },
   {
    "duration": 21,
    "start_time": "2022-05-12T23:07:50.724Z"
   },
   {
    "duration": 391,
    "start_time": "2022-05-12T23:07:51.076Z"
   },
   {
    "duration": 35,
    "start_time": "2022-05-12T23:07:55.141Z"
   },
   {
    "duration": 49,
    "start_time": "2022-05-12T23:07:56.006Z"
   },
   {
    "duration": 14,
    "start_time": "2022-05-12T23:07:59.051Z"
   },
   {
    "duration": 182,
    "start_time": "2022-05-12T23:08:01.504Z"
   },
   {
    "duration": 43,
    "start_time": "2022-05-12T23:09:51.565Z"
   },
   {
    "duration": 259,
    "start_time": "2022-05-12T23:09:51.873Z"
   },
   {
    "duration": 24,
    "start_time": "2022-05-12T23:09:52.527Z"
   },
   {
    "duration": 365,
    "start_time": "2022-05-12T23:09:52.944Z"
   },
   {
    "duration": 885,
    "start_time": "2022-05-12T23:20:26.315Z"
   },
   {
    "duration": 6,
    "start_time": "2022-05-12T23:20:27.203Z"
   },
   {
    "duration": 33,
    "start_time": "2022-05-12T23:20:27.211Z"
   },
   {
    "duration": 245,
    "start_time": "2022-05-12T23:20:27.248Z"
   },
   {
    "duration": 17,
    "start_time": "2022-05-12T23:20:27.495Z"
   },
   {
    "duration": 330,
    "start_time": "2022-05-12T23:20:27.515Z"
   },
   {
    "duration": 42,
    "start_time": "2022-05-12T23:20:27.848Z"
   },
   {
    "duration": 49,
    "start_time": "2022-05-12T23:20:27.968Z"
   },
   {
    "duration": 14,
    "start_time": "2022-05-12T23:20:28.154Z"
   },
   {
    "duration": 185,
    "start_time": "2022-05-12T23:20:28.371Z"
   },
   {
    "duration": 32,
    "start_time": "2022-05-12T23:20:28.721Z"
   },
   {
    "duration": 186,
    "start_time": "2022-05-12T23:20:28.899Z"
   },
   {
    "duration": 20,
    "start_time": "2022-05-12T23:20:29.088Z"
   },
   {
    "duration": 408,
    "start_time": "2022-05-12T23:20:29.233Z"
   },
   {
    "duration": 19,
    "start_time": "2022-05-12T23:20:30.522Z"
   },
   {
    "duration": 57,
    "start_time": "2022-05-12T23:21:43.051Z"
   },
   {
    "duration": 183,
    "start_time": "2022-05-12T23:29:10.353Z"
   },
   {
    "duration": 297,
    "start_time": "2022-05-12T23:40:11.075Z"
   },
   {
    "duration": 24,
    "start_time": "2022-05-12T23:48:50.449Z"
   },
   {
    "duration": 31,
    "start_time": "2022-05-12T23:50:50.698Z"
   },
   {
    "duration": 12,
    "start_time": "2022-05-12T23:51:18.843Z"
   },
   {
    "duration": 10,
    "start_time": "2022-05-12T23:52:07.049Z"
   },
   {
    "duration": 19,
    "start_time": "2022-05-12T23:52:32.680Z"
   },
   {
    "duration": 21,
    "start_time": "2022-05-12T23:52:54.092Z"
   },
   {
    "duration": 21,
    "start_time": "2022-05-12T23:54:09.533Z"
   },
   {
    "duration": 24,
    "start_time": "2022-05-13T00:21:22.520Z"
   },
   {
    "duration": 5,
    "start_time": "2022-05-13T00:21:24.138Z"
   },
   {
    "duration": 23,
    "start_time": "2022-05-13T00:21:25.049Z"
   },
   {
    "duration": 16,
    "start_time": "2022-05-13T00:22:59.282Z"
   },
   {
    "duration": 9,
    "start_time": "2022-05-13T00:23:18.449Z"
   },
   {
    "duration": 9,
    "start_time": "2022-05-13T00:26:17.581Z"
   },
   {
    "duration": 9,
    "start_time": "2022-05-13T00:26:25.197Z"
   },
   {
    "duration": 7,
    "start_time": "2022-05-13T00:26:39.375Z"
   },
   {
    "duration": 5,
    "start_time": "2022-05-13T00:29:36.822Z"
   },
   {
    "duration": 2064,
    "start_time": "2022-05-13T00:29:41.942Z"
   },
   {
    "duration": 852,
    "start_time": "2022-05-13T00:29:44.009Z"
   },
   {
    "duration": 5,
    "start_time": "2022-05-13T00:29:44.863Z"
   },
   {
    "duration": 40,
    "start_time": "2022-05-13T00:29:44.882Z"
   },
   {
    "duration": 238,
    "start_time": "2022-05-13T00:29:44.926Z"
   },
   {
    "duration": 31,
    "start_time": "2022-05-13T00:29:45.167Z"
   },
   {
    "duration": 339,
    "start_time": "2022-05-13T00:29:45.200Z"
   },
   {
    "duration": 42,
    "start_time": "2022-05-13T00:29:45.541Z"
   },
   {
    "duration": 53,
    "start_time": "2022-05-13T00:29:45.585Z"
   },
   {
    "duration": 13,
    "start_time": "2022-05-13T00:29:45.640Z"
   },
   {
    "duration": 198,
    "start_time": "2022-05-13T00:29:45.682Z"
   },
   {
    "duration": 34,
    "start_time": "2022-05-13T00:29:45.882Z"
   },
   {
    "duration": 220,
    "start_time": "2022-05-13T00:29:45.918Z"
   },
   {
    "duration": 20,
    "start_time": "2022-05-13T00:29:46.143Z"
   },
   {
    "duration": 349,
    "start_time": "2022-05-13T00:29:46.182Z"
   },
   {
    "duration": 32,
    "start_time": "2022-05-13T00:29:46.534Z"
   },
   {
    "duration": 61,
    "start_time": "2022-05-13T00:29:46.583Z"
   },
   {
    "duration": 217,
    "start_time": "2022-05-13T00:29:46.647Z"
   },
   {
    "duration": 402,
    "start_time": "2022-05-13T00:29:46.866Z"
   },
   {
    "duration": 38,
    "start_time": "2022-05-13T00:29:47.271Z"
   },
   {
    "duration": 30,
    "start_time": "2022-05-13T00:29:47.312Z"
   },
   {
    "duration": 7,
    "start_time": "2022-05-13T00:29:47.344Z"
   },
   {
    "duration": 542,
    "start_time": "2022-05-13T00:29:47.381Z"
   },
   {
    "duration": 19,
    "start_time": "2022-05-13T00:29:47.925Z"
   },
   {
    "duration": 5,
    "start_time": "2022-05-13T00:29:47.948Z"
   },
   {
    "duration": 34,
    "start_time": "2022-05-13T00:29:47.956Z"
   },
   {
    "duration": 10,
    "start_time": "2022-05-13T00:29:47.994Z"
   },
   {
    "duration": 8,
    "start_time": "2022-05-13T00:29:48.007Z"
   },
   {
    "duration": 346,
    "start_time": "2022-05-13T00:29:48.018Z"
   },
   {
    "duration": 1050,
    "start_time": "2022-05-13T00:31:11.180Z"
   },
   {
    "duration": 23,
    "start_time": "2022-05-13T00:34:46.468Z"
   },
   {
    "duration": 18,
    "start_time": "2022-05-13T00:35:16.021Z"
   },
   {
    "duration": 10,
    "start_time": "2022-05-13T00:40:27.629Z"
   },
   {
    "duration": 19,
    "start_time": "2022-05-13T00:56:50.775Z"
   },
   {
    "duration": 15,
    "start_time": "2022-05-13T00:56:57.389Z"
   },
   {
    "duration": 25,
    "start_time": "2022-05-13T00:56:58.416Z"
   },
   {
    "duration": 10,
    "start_time": "2022-05-13T00:57:23.016Z"
   },
   {
    "duration": 16,
    "start_time": "2022-05-13T00:59:01.723Z"
   },
   {
    "duration": 3392,
    "start_time": "2022-05-13T00:59:02.236Z"
   },
   {
    "duration": 3836,
    "start_time": "2022-05-13T00:59:47.700Z"
   },
   {
    "duration": 769,
    "start_time": "2022-05-13T01:03:26.400Z"
   },
   {
    "duration": 660,
    "start_time": "2022-05-13T01:04:11.484Z"
   },
   {
    "duration": 3785,
    "start_time": "2022-05-13T01:04:22.938Z"
   },
   {
    "duration": 561,
    "start_time": "2022-05-13T01:14:12.561Z"
   },
   {
    "duration": 7,
    "start_time": "2022-05-13T01:14:13.125Z"
   },
   {
    "duration": 47,
    "start_time": "2022-05-13T01:14:46.174Z"
   },
   {
    "duration": 960,
    "start_time": "2022-05-13T01:14:46.734Z"
   },
   {
    "duration": 2057,
    "start_time": "2022-05-13T01:25:39.898Z"
   },
   {
    "duration": 855,
    "start_time": "2022-05-13T01:25:41.958Z"
   },
   {
    "duration": 7,
    "start_time": "2022-05-13T01:25:42.816Z"
   },
   {
    "duration": 59,
    "start_time": "2022-05-13T01:25:42.827Z"
   },
   {
    "duration": 303,
    "start_time": "2022-05-13T01:25:42.892Z"
   },
   {
    "duration": 29,
    "start_time": "2022-05-13T01:25:43.198Z"
   },
   {
    "duration": 532,
    "start_time": "2022-05-13T01:25:43.230Z"
   },
   {
    "duration": 43,
    "start_time": "2022-05-13T01:25:43.765Z"
   },
   {
    "duration": 87,
    "start_time": "2022-05-13T01:25:43.811Z"
   },
   {
    "duration": 13,
    "start_time": "2022-05-13T01:25:43.901Z"
   },
   {
    "duration": 214,
    "start_time": "2022-05-13T01:25:43.917Z"
   },
   {
    "duration": 30,
    "start_time": "2022-05-13T01:25:44.133Z"
   },
   {
    "duration": 209,
    "start_time": "2022-05-13T01:25:44.166Z"
   },
   {
    "duration": 19,
    "start_time": "2022-05-13T01:25:44.383Z"
   },
   {
    "duration": 355,
    "start_time": "2022-05-13T01:25:44.404Z"
   },
   {
    "duration": 28,
    "start_time": "2022-05-13T01:25:44.761Z"
   },
   {
    "duration": 59,
    "start_time": "2022-05-13T01:25:44.792Z"
   },
   {
    "duration": 165,
    "start_time": "2022-05-13T01:25:44.853Z"
   },
   {
    "duration": 324,
    "start_time": "2022-05-13T01:25:45.021Z"
   },
   {
    "duration": 23,
    "start_time": "2022-05-13T01:25:45.347Z"
   },
   {
    "duration": 28,
    "start_time": "2022-05-13T01:25:45.372Z"
   },
   {
    "duration": 6,
    "start_time": "2022-05-13T01:25:45.402Z"
   },
   {
    "duration": 728,
    "start_time": "2022-05-13T01:25:45.410Z"
   },
   {
    "duration": 20,
    "start_time": "2022-05-13T01:25:46.140Z"
   },
   {
    "duration": 28,
    "start_time": "2022-05-13T01:25:46.162Z"
   },
   {
    "duration": 9,
    "start_time": "2022-05-13T01:25:46.193Z"
   },
   {
    "duration": 20,
    "start_time": "2022-05-13T01:25:46.204Z"
   },
   {
    "duration": 3591,
    "start_time": "2022-05-13T01:25:46.227Z"
   },
   {
    "duration": 701,
    "start_time": "2022-05-13T01:25:49.821Z"
   },
   {
    "duration": 7,
    "start_time": "2022-05-13T01:25:50.525Z"
   },
   {
    "duration": 73,
    "start_time": "2022-05-13T01:25:50.534Z"
   },
   {
    "duration": 1014,
    "start_time": "2022-05-13T01:25:50.609Z"
   },
   {
    "duration": 5,
    "start_time": "2022-05-13T01:39:32.475Z"
   },
   {
    "duration": 5,
    "start_time": "2022-05-13T01:41:59.516Z"
   },
   {
    "duration": 10,
    "start_time": "2022-05-13T01:42:00.323Z"
   },
   {
    "duration": 24,
    "start_time": "2022-05-13T01:42:41.052Z"
   },
   {
    "duration": 4,
    "start_time": "2022-05-13T01:42:41.685Z"
   },
   {
    "duration": 143,
    "start_time": "2022-05-13T01:45:52.783Z"
   },
   {
    "duration": 8,
    "start_time": "2022-05-13T01:48:43.061Z"
   },
   {
    "duration": 24,
    "start_time": "2022-05-13T01:48:58.411Z"
   },
   {
    "duration": 12,
    "start_time": "2022-05-13T01:49:05.161Z"
   },
   {
    "duration": 32,
    "start_time": "2022-05-13T01:49:05.546Z"
   },
   {
    "duration": 4,
    "start_time": "2022-05-13T01:49:25.375Z"
   },
   {
    "duration": 511,
    "start_time": "2022-05-13T01:50:18.171Z"
   },
   {
    "duration": 338,
    "start_time": "2022-05-13T01:52:37.273Z"
   },
   {
    "duration": 6851,
    "start_time": "2022-05-13T01:52:46.188Z"
   },
   {
    "duration": 2403,
    "start_time": "2022-05-13T01:53:31.809Z"
   },
   {
    "duration": 38972,
    "start_time": "2022-05-13T01:53:48.635Z"
   },
   {
    "duration": 129,
    "start_time": "2022-05-13T01:59:50.878Z"
   },
   {
    "duration": 6,
    "start_time": "2022-05-13T02:00:09.347Z"
   },
   {
    "duration": 19,
    "start_time": "2022-05-13T02:00:18.518Z"
   },
   {
    "duration": 163,
    "start_time": "2022-05-13T02:01:31.737Z"
   },
   {
    "duration": 1959,
    "start_time": "2022-05-13T02:06:42.836Z"
   },
   {
    "duration": 2146,
    "start_time": "2022-05-13T02:07:06.076Z"
   },
   {
    "duration": 903,
    "start_time": "2022-05-13T02:07:08.226Z"
   },
   {
    "duration": 5,
    "start_time": "2022-05-13T02:07:09.131Z"
   },
   {
    "duration": 63,
    "start_time": "2022-05-13T02:07:09.140Z"
   },
   {
    "duration": 233,
    "start_time": "2022-05-13T02:07:09.205Z"
   },
   {
    "duration": 22,
    "start_time": "2022-05-13T02:07:09.440Z"
   },
   {
    "duration": 366,
    "start_time": "2022-05-13T02:07:09.485Z"
   },
   {
    "duration": 44,
    "start_time": "2022-05-13T02:07:09.853Z"
   },
   {
    "duration": 63,
    "start_time": "2022-05-13T02:07:09.899Z"
   },
   {
    "duration": 33,
    "start_time": "2022-05-13T02:07:09.967Z"
   },
   {
    "duration": 213,
    "start_time": "2022-05-13T02:07:10.002Z"
   },
   {
    "duration": 32,
    "start_time": "2022-05-13T02:07:10.217Z"
   },
   {
    "duration": 283,
    "start_time": "2022-05-13T02:07:10.252Z"
   },
   {
    "duration": 26,
    "start_time": "2022-05-13T02:07:10.537Z"
   },
   {
    "duration": 365,
    "start_time": "2022-05-13T02:07:10.582Z"
   },
   {
    "duration": 19,
    "start_time": "2022-05-13T02:07:10.949Z"
   },
   {
    "duration": 64,
    "start_time": "2022-05-13T02:07:10.982Z"
   },
   {
    "duration": 165,
    "start_time": "2022-05-13T02:07:11.050Z"
   },
   {
    "duration": 375,
    "start_time": "2022-05-13T02:07:11.218Z"
   },
   {
    "duration": 24,
    "start_time": "2022-05-13T02:07:11.595Z"
   },
   {
    "duration": 21,
    "start_time": "2022-05-13T02:07:11.621Z"
   },
   {
    "duration": 5,
    "start_time": "2022-05-13T02:07:11.644Z"
   },
   {
    "duration": 567,
    "start_time": "2022-05-13T02:07:11.651Z"
   },
   {
    "duration": 20,
    "start_time": "2022-05-13T02:07:12.221Z"
   },
   {
    "duration": 45,
    "start_time": "2022-05-13T02:07:12.243Z"
   },
   {
    "duration": 11,
    "start_time": "2022-05-13T02:07:12.291Z"
   },
   {
    "duration": 22,
    "start_time": "2022-05-13T02:07:12.305Z"
   },
   {
    "duration": 3582,
    "start_time": "2022-05-13T02:07:12.335Z"
   },
   {
    "duration": 620,
    "start_time": "2022-05-13T02:07:15.920Z"
   },
   {
    "duration": 7,
    "start_time": "2022-05-13T02:07:16.542Z"
   },
   {
    "duration": 74,
    "start_time": "2022-05-13T02:07:16.551Z"
   },
   {
    "duration": 1031,
    "start_time": "2022-05-13T02:07:16.628Z"
   },
   {
    "duration": 5,
    "start_time": "2022-05-13T02:07:17.661Z"
   },
   {
    "duration": 19,
    "start_time": "2022-05-13T02:07:17.669Z"
   },
   {
    "duration": 31,
    "start_time": "2022-05-13T02:07:17.691Z"
   },
   {
    "duration": 4,
    "start_time": "2022-05-13T02:07:17.724Z"
   },
   {
    "duration": 457,
    "start_time": "2022-05-13T02:07:17.731Z"
   },
   {
    "duration": 396,
    "start_time": "2022-05-13T02:07:18.191Z"
   },
   {
    "duration": 2110,
    "start_time": "2022-05-13T02:07:18.590Z"
   },
   {
    "duration": 6676,
    "start_time": "2022-05-13T02:07:20.704Z"
   },
   {
    "duration": 38598,
    "start_time": "2022-05-13T02:07:27.384Z"
   },
   {
    "duration": 16,
    "start_time": "2022-05-13T02:08:05.984Z"
   },
   {
    "duration": 11,
    "start_time": "2022-05-13T02:09:44.897Z"
   },
   {
    "duration": 34479,
    "start_time": "2022-05-13T02:10:13.022Z"
   },
   {
    "duration": 10,
    "start_time": "2022-05-13T02:54:30.595Z"
   },
   {
    "duration": 2827,
    "start_time": "2022-05-13T02:54:41.579Z"
   },
   {
    "duration": 1274,
    "start_time": "2022-05-13T02:54:44.410Z"
   },
   {
    "duration": 8,
    "start_time": "2022-05-13T02:54:45.687Z"
   },
   {
    "duration": 57,
    "start_time": "2022-05-13T02:54:45.699Z"
   },
   {
    "duration": 291,
    "start_time": "2022-05-13T02:54:45.783Z"
   },
   {
    "duration": 29,
    "start_time": "2022-05-13T02:54:46.083Z"
   },
   {
    "duration": 359,
    "start_time": "2022-05-13T02:54:46.115Z"
   },
   {
    "duration": 48,
    "start_time": "2022-05-13T02:54:46.481Z"
   },
   {
    "duration": 101,
    "start_time": "2022-05-13T02:54:46.532Z"
   },
   {
    "duration": 20,
    "start_time": "2022-05-13T02:54:46.639Z"
   },
   {
    "duration": 220,
    "start_time": "2022-05-13T02:54:46.661Z"
   },
   {
    "duration": 34,
    "start_time": "2022-05-13T02:54:46.883Z"
   },
   {
    "duration": 341,
    "start_time": "2022-05-13T02:54:46.920Z"
   },
   {
    "duration": 34,
    "start_time": "2022-05-13T02:54:47.264Z"
   },
   {
    "duration": 539,
    "start_time": "2022-05-13T02:54:47.301Z"
   },
   {
    "duration": 39,
    "start_time": "2022-05-13T02:54:47.843Z"
   },
   {
    "duration": 102,
    "start_time": "2022-05-13T02:54:47.885Z"
   },
   {
    "duration": 224,
    "start_time": "2022-05-13T02:54:47.990Z"
   },
   {
    "duration": 403,
    "start_time": "2022-05-13T02:54:48.217Z"
   },
   {
    "duration": 30,
    "start_time": "2022-05-13T02:54:48.623Z"
   },
   {
    "duration": 46,
    "start_time": "2022-05-13T02:54:48.657Z"
   },
   {
    "duration": 7,
    "start_time": "2022-05-13T02:54:48.706Z"
   },
   {
    "duration": 503,
    "start_time": "2022-05-13T02:54:48.716Z"
   },
   {
    "duration": 20,
    "start_time": "2022-05-13T02:54:49.221Z"
   },
   {
    "duration": 43,
    "start_time": "2022-05-13T02:54:49.243Z"
   },
   {
    "duration": 10,
    "start_time": "2022-05-13T02:54:49.288Z"
   },
   {
    "duration": 18,
    "start_time": "2022-05-13T02:54:49.300Z"
   },
   {
    "duration": 3716,
    "start_time": "2022-05-13T02:54:49.323Z"
   },
   {
    "duration": 703,
    "start_time": "2022-05-13T02:54:53.042Z"
   },
   {
    "duration": 10,
    "start_time": "2022-05-13T02:54:53.748Z"
   },
   {
    "duration": 65,
    "start_time": "2022-05-13T02:54:53.761Z"
   },
   {
    "duration": 1553,
    "start_time": "2022-05-13T02:54:53.828Z"
   },
   {
    "duration": 5,
    "start_time": "2022-05-13T02:54:55.385Z"
   },
   {
    "duration": 16,
    "start_time": "2022-05-13T02:54:55.393Z"
   },
   {
    "duration": 17,
    "start_time": "2022-05-13T02:54:55.411Z"
   },
   {
    "duration": 53,
    "start_time": "2022-05-13T02:54:55.429Z"
   },
   {
    "duration": 4,
    "start_time": "2022-05-13T02:54:55.484Z"
   },
   {
    "duration": 301,
    "start_time": "2022-05-13T02:54:55.490Z"
   },
   {
    "duration": 487,
    "start_time": "2022-05-13T02:54:55.795Z"
   },
   {
    "duration": 2508,
    "start_time": "2022-05-13T02:54:56.284Z"
   },
   {
    "duration": 9217,
    "start_time": "2022-05-13T02:54:58.796Z"
   },
   {
    "duration": 44277,
    "start_time": "2022-05-13T02:55:08.016Z"
   },
   {
    "duration": 14,
    "start_time": "2022-05-13T02:55:52.296Z"
   },
   {
    "duration": 11,
    "start_time": "2022-05-13T02:55:52.313Z"
   },
   {
    "duration": 1995,
    "start_time": "2022-05-13T02:56:23.307Z"
   },
   {
    "duration": 849,
    "start_time": "2022-05-13T02:56:25.305Z"
   },
   {
    "duration": 6,
    "start_time": "2022-05-13T02:56:26.156Z"
   },
   {
    "duration": 71,
    "start_time": "2022-05-13T02:56:26.165Z"
   },
   {
    "duration": 314,
    "start_time": "2022-05-13T02:56:26.241Z"
   },
   {
    "duration": 40,
    "start_time": "2022-05-13T02:56:26.559Z"
   },
   {
    "duration": 507,
    "start_time": "2022-05-13T02:56:26.602Z"
   },
   {
    "duration": 31,
    "start_time": "2022-05-13T02:56:27.113Z"
   },
   {
    "duration": 58,
    "start_time": "2022-05-13T02:56:27.147Z"
   },
   {
    "duration": 13,
    "start_time": "2022-05-13T02:56:27.207Z"
   },
   {
    "duration": 322,
    "start_time": "2022-05-13T02:56:27.223Z"
   },
   {
    "duration": 50,
    "start_time": "2022-05-13T02:56:27.547Z"
   },
   {
    "duration": 359,
    "start_time": "2022-05-13T02:56:27.600Z"
   },
   {
    "duration": 27,
    "start_time": "2022-05-13T02:56:27.967Z"
   },
   {
    "duration": 549,
    "start_time": "2022-05-13T02:56:27.997Z"
   },
   {
    "duration": 40,
    "start_time": "2022-05-13T02:56:28.549Z"
   },
   {
    "duration": 100,
    "start_time": "2022-05-13T02:56:28.592Z"
   },
   {
    "duration": 223,
    "start_time": "2022-05-13T02:56:28.695Z"
   },
   {
    "duration": 404,
    "start_time": "2022-05-13T02:56:28.922Z"
   },
   {
    "duration": 32,
    "start_time": "2022-05-13T02:56:29.329Z"
   },
   {
    "duration": 42,
    "start_time": "2022-05-13T02:56:29.363Z"
   },
   {
    "duration": 7,
    "start_time": "2022-05-13T02:56:29.408Z"
   },
   {
    "duration": 838,
    "start_time": "2022-05-13T02:56:29.417Z"
   },
   {
    "duration": 32,
    "start_time": "2022-05-13T02:56:30.258Z"
   },
   {
    "duration": 22,
    "start_time": "2022-05-13T02:56:30.292Z"
   },
   {
    "duration": 11,
    "start_time": "2022-05-13T02:56:30.317Z"
   },
   {
    "duration": 60,
    "start_time": "2022-05-13T02:56:30.331Z"
   },
   {
    "duration": 3718,
    "start_time": "2022-05-13T02:56:30.393Z"
   },
   {
    "duration": 703,
    "start_time": "2022-05-13T02:56:34.113Z"
   },
   {
    "duration": 7,
    "start_time": "2022-05-13T02:56:34.819Z"
   },
   {
    "duration": 68,
    "start_time": "2022-05-13T02:56:34.828Z"
   },
   {
    "duration": 957,
    "start_time": "2022-05-13T02:56:34.899Z"
   },
   {
    "duration": 5,
    "start_time": "2022-05-13T02:56:35.858Z"
   },
   {
    "duration": 23,
    "start_time": "2022-05-13T02:56:35.865Z"
   },
   {
    "duration": 555,
    "start_time": "2022-05-13T02:56:35.891Z"
   },
   {
    "duration": 0,
    "start_time": "2022-05-13T02:56:36.449Z"
   },
   {
    "duration": 0,
    "start_time": "2022-05-13T02:56:36.451Z"
   },
   {
    "duration": 1,
    "start_time": "2022-05-13T02:56:36.452Z"
   },
   {
    "duration": 0,
    "start_time": "2022-05-13T02:56:36.454Z"
   },
   {
    "duration": 0,
    "start_time": "2022-05-13T02:56:36.455Z"
   },
   {
    "duration": 0,
    "start_time": "2022-05-13T02:56:36.457Z"
   },
   {
    "duration": 0,
    "start_time": "2022-05-13T02:56:36.459Z"
   },
   {
    "duration": 0,
    "start_time": "2022-05-13T02:56:36.460Z"
   },
   {
    "duration": 0,
    "start_time": "2022-05-13T02:56:36.483Z"
   },
   {
    "duration": 0,
    "start_time": "2022-05-13T02:56:36.486Z"
   },
   {
    "duration": 0,
    "start_time": "2022-05-13T02:56:36.489Z"
   },
   {
    "duration": 1,
    "start_time": "2022-05-13T02:56:36.490Z"
   },
   {
    "duration": 0,
    "start_time": "2022-05-13T02:56:36.493Z"
   },
   {
    "duration": 6,
    "start_time": "2022-05-13T02:58:50.126Z"
   },
   {
    "duration": 9,
    "start_time": "2022-05-13T02:58:53.887Z"
   },
   {
    "duration": 2176,
    "start_time": "2022-05-13T02:58:54.911Z"
   },
   {
    "duration": 39750,
    "start_time": "2022-05-13T02:59:26.880Z"
   },
   {
    "duration": 5800,
    "start_time": "2022-05-13T03:00:06.632Z"
   },
   {
    "duration": 51,
    "start_time": "2022-05-13T03:00:20.420Z"
   },
   {
    "duration": 2783,
    "start_time": "2022-05-13T03:01:27.808Z"
   },
   {
    "duration": 852,
    "start_time": "2022-05-13T03:01:30.594Z"
   },
   {
    "duration": 6,
    "start_time": "2022-05-13T03:01:31.448Z"
   },
   {
    "duration": 55,
    "start_time": "2022-05-13T03:01:31.458Z"
   },
   {
    "duration": 235,
    "start_time": "2022-05-13T03:01:31.515Z"
   },
   {
    "duration": 34,
    "start_time": "2022-05-13T03:01:31.752Z"
   },
   {
    "duration": 481,
    "start_time": "2022-05-13T03:01:31.789Z"
   },
   {
    "duration": 37,
    "start_time": "2022-05-13T03:01:32.273Z"
   },
   {
    "duration": 76,
    "start_time": "2022-05-13T03:01:32.313Z"
   },
   {
    "duration": 15,
    "start_time": "2022-05-13T03:01:32.395Z"
   },
   {
    "duration": 311,
    "start_time": "2022-05-13T03:01:32.414Z"
   },
   {
    "duration": 62,
    "start_time": "2022-05-13T03:01:32.728Z"
   },
   {
    "duration": 259,
    "start_time": "2022-05-13T03:01:32.793Z"
   },
   {
    "duration": 41,
    "start_time": "2022-05-13T03:01:33.055Z"
   },
   {
    "duration": 491,
    "start_time": "2022-05-13T03:01:33.099Z"
   },
   {
    "duration": 23,
    "start_time": "2022-05-13T03:01:33.593Z"
   },
   {
    "duration": 80,
    "start_time": "2022-05-13T03:01:33.618Z"
   },
   {
    "duration": 206,
    "start_time": "2022-05-13T03:01:33.701Z"
   },
   {
    "duration": 388,
    "start_time": "2022-05-13T03:01:33.910Z"
   },
   {
    "duration": 31,
    "start_time": "2022-05-13T03:01:34.301Z"
   },
   {
    "duration": 49,
    "start_time": "2022-05-13T03:01:34.335Z"
   },
   {
    "duration": 7,
    "start_time": "2022-05-13T03:01:34.387Z"
   },
   {
    "duration": 615,
    "start_time": "2022-05-13T03:01:34.397Z"
   },
   {
    "duration": 20,
    "start_time": "2022-05-13T03:01:35.015Z"
   },
   {
    "duration": 43,
    "start_time": "2022-05-13T03:01:35.038Z"
   },
   {
    "duration": 10,
    "start_time": "2022-05-13T03:01:35.084Z"
   },
   {
    "duration": 19,
    "start_time": "2022-05-13T03:01:35.096Z"
   },
   {
    "duration": 3670,
    "start_time": "2022-05-13T03:01:35.121Z"
   },
   {
    "duration": 799,
    "start_time": "2022-05-13T03:01:38.793Z"
   },
   {
    "duration": 8,
    "start_time": "2022-05-13T03:01:39.595Z"
   },
   {
    "duration": 55,
    "start_time": "2022-05-13T03:01:39.606Z"
   },
   {
    "duration": 1558,
    "start_time": "2022-05-13T03:01:39.664Z"
   },
   {
    "duration": 3,
    "start_time": "2022-05-13T03:01:41.226Z"
   },
   {
    "duration": 13,
    "start_time": "2022-05-13T03:01:41.232Z"
   },
   {
    "duration": 42,
    "start_time": "2022-05-13T03:01:41.248Z"
   },
   {
    "duration": 2088,
    "start_time": "2022-05-13T03:01:41.293Z"
   },
   {
    "duration": 42783,
    "start_time": "2022-05-13T03:01:43.383Z"
   },
   {
    "duration": 5901,
    "start_time": "2022-05-13T03:02:26.169Z"
   },
   {
    "duration": 81721,
    "start_time": "2022-05-13T03:02:32.072Z"
   },
   {
    "duration": 320,
    "start_time": "2022-05-13T03:03:53.796Z"
   },
   {
    "duration": 0,
    "start_time": "2022-05-13T03:03:54.119Z"
   },
   {
    "duration": 0,
    "start_time": "2022-05-13T03:03:54.121Z"
   },
   {
    "duration": 0,
    "start_time": "2022-05-13T03:03:54.123Z"
   },
   {
    "duration": 0,
    "start_time": "2022-05-13T03:03:54.125Z"
   },
   {
    "duration": 0,
    "start_time": "2022-05-13T03:03:54.127Z"
   },
   {
    "duration": 0,
    "start_time": "2022-05-13T03:03:54.129Z"
   },
   {
    "duration": 0,
    "start_time": "2022-05-13T03:03:54.131Z"
   },
   {
    "duration": 0,
    "start_time": "2022-05-13T03:03:54.133Z"
   },
   {
    "duration": 0,
    "start_time": "2022-05-13T03:03:54.135Z"
   },
   {
    "duration": 0,
    "start_time": "2022-05-13T03:03:54.137Z"
   },
   {
    "duration": 0,
    "start_time": "2022-05-13T03:03:54.139Z"
   },
   {
    "duration": 0,
    "start_time": "2022-05-13T03:03:54.142Z"
   },
   {
    "duration": 0,
    "start_time": "2022-05-13T03:03:54.182Z"
   },
   {
    "duration": 27,
    "start_time": "2022-05-13T03:04:20.074Z"
   },
   {
    "duration": 54,
    "start_time": "2022-05-13T03:04:40.671Z"
   },
   {
    "duration": 2128,
    "start_time": "2022-05-13T03:17:09.766Z"
   },
   {
    "duration": 857,
    "start_time": "2022-05-13T03:17:11.896Z"
   },
   {
    "duration": 5,
    "start_time": "2022-05-13T03:17:12.756Z"
   },
   {
    "duration": 60,
    "start_time": "2022-05-13T03:17:12.764Z"
   },
   {
    "duration": 229,
    "start_time": "2022-05-13T03:17:12.827Z"
   },
   {
    "duration": 33,
    "start_time": "2022-05-13T03:17:13.058Z"
   },
   {
    "duration": 343,
    "start_time": "2022-05-13T03:17:13.093Z"
   },
   {
    "duration": 46,
    "start_time": "2022-05-13T03:17:13.438Z"
   },
   {
    "duration": 56,
    "start_time": "2022-05-13T03:17:13.486Z"
   },
   {
    "duration": 37,
    "start_time": "2022-05-13T03:17:13.546Z"
   },
   {
    "duration": 302,
    "start_time": "2022-05-13T03:17:13.586Z"
   },
   {
    "duration": 39,
    "start_time": "2022-05-13T03:17:13.891Z"
   },
   {
    "duration": 224,
    "start_time": "2022-05-13T03:17:13.932Z"
   },
   {
    "duration": 32,
    "start_time": "2022-05-13T03:17:14.158Z"
   },
   {
    "duration": 346,
    "start_time": "2022-05-13T03:17:14.192Z"
   },
   {
    "duration": 18,
    "start_time": "2022-05-13T03:17:14.541Z"
   },
   {
    "duration": 68,
    "start_time": "2022-05-13T03:17:14.561Z"
   },
   {
    "duration": 153,
    "start_time": "2022-05-13T03:17:14.631Z"
   },
   {
    "duration": 304,
    "start_time": "2022-05-13T03:17:14.786Z"
   },
   {
    "duration": 23,
    "start_time": "2022-05-13T03:17:15.092Z"
   },
   {
    "duration": 21,
    "start_time": "2022-05-13T03:17:15.118Z"
   },
   {
    "duration": 41,
    "start_time": "2022-05-13T03:17:15.141Z"
   },
   {
    "duration": 496,
    "start_time": "2022-05-13T03:17:15.185Z"
   },
   {
    "duration": 18,
    "start_time": "2022-05-13T03:17:15.684Z"
   },
   {
    "duration": 18,
    "start_time": "2022-05-13T03:17:15.705Z"
   },
   {
    "duration": 10,
    "start_time": "2022-05-13T03:17:15.726Z"
   },
   {
    "duration": 57,
    "start_time": "2022-05-13T03:17:15.739Z"
   },
   {
    "duration": 4603,
    "start_time": "2022-05-13T03:17:15.804Z"
   },
   {
    "duration": 889,
    "start_time": "2022-05-13T03:17:20.410Z"
   },
   {
    "duration": 8,
    "start_time": "2022-05-13T03:17:21.301Z"
   },
   {
    "duration": 181,
    "start_time": "2022-05-13T03:17:21.313Z"
   },
   {
    "duration": 1569,
    "start_time": "2022-05-13T03:17:21.498Z"
   },
   {
    "duration": 4,
    "start_time": "2022-05-13T03:17:23.081Z"
   },
   {
    "duration": 9,
    "start_time": "2022-05-13T03:17:23.088Z"
   },
   {
    "duration": 346,
    "start_time": "2022-05-13T03:17:23.100Z"
   },
   {
    "duration": 0,
    "start_time": "2022-05-13T03:17:23.449Z"
   },
   {
    "duration": 0,
    "start_time": "2022-05-13T03:17:23.451Z"
   },
   {
    "duration": 0,
    "start_time": "2022-05-13T03:17:23.453Z"
   },
   {
    "duration": 0,
    "start_time": "2022-05-13T03:17:23.455Z"
   },
   {
    "duration": 1,
    "start_time": "2022-05-13T03:17:23.456Z"
   },
   {
    "duration": 0,
    "start_time": "2022-05-13T03:17:23.458Z"
   },
   {
    "duration": 0,
    "start_time": "2022-05-13T03:17:23.459Z"
   },
   {
    "duration": 0,
    "start_time": "2022-05-13T03:17:23.482Z"
   },
   {
    "duration": 0,
    "start_time": "2022-05-13T03:17:23.484Z"
   },
   {
    "duration": 0,
    "start_time": "2022-05-13T03:17:23.486Z"
   },
   {
    "duration": 0,
    "start_time": "2022-05-13T03:17:23.487Z"
   },
   {
    "duration": 0,
    "start_time": "2022-05-13T03:17:23.489Z"
   },
   {
    "duration": 0,
    "start_time": "2022-05-13T03:17:23.490Z"
   },
   {
    "duration": 0,
    "start_time": "2022-05-13T03:17:23.492Z"
   },
   {
    "duration": 0,
    "start_time": "2022-05-13T03:17:23.494Z"
   },
   {
    "duration": 0,
    "start_time": "2022-05-13T03:17:23.496Z"
   },
   {
    "duration": 0,
    "start_time": "2022-05-13T03:17:23.497Z"
   },
   {
    "duration": 0,
    "start_time": "2022-05-13T03:17:23.499Z"
   },
   {
    "duration": 0,
    "start_time": "2022-05-13T03:17:23.500Z"
   },
   {
    "duration": 0,
    "start_time": "2022-05-13T03:17:23.502Z"
   },
   {
    "duration": 0,
    "start_time": "2022-05-13T03:17:23.504Z"
   },
   {
    "duration": 36,
    "start_time": "2022-05-13T03:19:41.195Z"
   },
   {
    "duration": 63,
    "start_time": "2022-05-13T03:20:27.248Z"
   },
   {
    "duration": 41,
    "start_time": "2022-05-13T03:20:54.384Z"
   },
   {
    "duration": 29,
    "start_time": "2022-05-13T03:21:34.491Z"
   },
   {
    "duration": 35,
    "start_time": "2022-05-13T03:21:56.068Z"
   },
   {
    "duration": 22,
    "start_time": "2022-05-13T03:23:06.468Z"
   },
   {
    "duration": 60,
    "start_time": "2022-05-13T03:23:47.304Z"
   },
   {
    "duration": 28,
    "start_time": "2022-05-13T03:23:57.924Z"
   },
   {
    "duration": 24,
    "start_time": "2022-05-13T03:25:09.894Z"
   },
   {
    "duration": 2282,
    "start_time": "2022-05-13T03:25:32.791Z"
   },
   {
    "duration": 865,
    "start_time": "2022-05-13T03:25:35.076Z"
   },
   {
    "duration": 5,
    "start_time": "2022-05-13T03:25:35.944Z"
   },
   {
    "duration": 73,
    "start_time": "2022-05-13T03:25:35.953Z"
   },
   {
    "duration": 311,
    "start_time": "2022-05-13T03:25:36.029Z"
   },
   {
    "duration": 39,
    "start_time": "2022-05-13T03:25:36.343Z"
   },
   {
    "duration": 486,
    "start_time": "2022-05-13T03:25:36.385Z"
   },
   {
    "duration": 52,
    "start_time": "2022-05-13T03:25:36.873Z"
   },
   {
    "duration": 68,
    "start_time": "2022-05-13T03:25:36.927Z"
   },
   {
    "duration": 14,
    "start_time": "2022-05-13T03:25:36.999Z"
   },
   {
    "duration": 210,
    "start_time": "2022-05-13T03:25:37.015Z"
   },
   {
    "duration": 33,
    "start_time": "2022-05-13T03:25:37.227Z"
   },
   {
    "duration": 207,
    "start_time": "2022-05-13T03:25:37.281Z"
   },
   {
    "duration": 25,
    "start_time": "2022-05-13T03:25:37.491Z"
   },
   {
    "duration": 514,
    "start_time": "2022-05-13T03:25:37.519Z"
   },
   {
    "duration": 30,
    "start_time": "2022-05-13T03:25:38.037Z"
   },
   {
    "duration": 98,
    "start_time": "2022-05-13T03:25:38.083Z"
   },
   {
    "duration": 185,
    "start_time": "2022-05-13T03:25:38.184Z"
   },
   {
    "duration": 323,
    "start_time": "2022-05-13T03:25:38.371Z"
   },
   {
    "duration": 32,
    "start_time": "2022-05-13T03:25:38.697Z"
   },
   {
    "duration": 50,
    "start_time": "2022-05-13T03:25:38.732Z"
   },
   {
    "duration": 7,
    "start_time": "2022-05-13T03:25:38.786Z"
   },
   {
    "duration": 535,
    "start_time": "2022-05-13T03:25:38.795Z"
   },
   {
    "duration": 21,
    "start_time": "2022-05-13T03:25:39.332Z"
   },
   {
    "duration": 42,
    "start_time": "2022-05-13T03:25:39.356Z"
   },
   {
    "duration": 8,
    "start_time": "2022-05-13T03:25:39.400Z"
   },
   {
    "duration": 15,
    "start_time": "2022-05-13T03:25:39.411Z"
   },
   {
    "duration": 3975,
    "start_time": "2022-05-13T03:25:39.435Z"
   },
   {
    "duration": 700,
    "start_time": "2022-05-13T03:25:43.413Z"
   },
   {
    "duration": 6,
    "start_time": "2022-05-13T03:25:44.116Z"
   },
   {
    "duration": 76,
    "start_time": "2022-05-13T03:25:44.125Z"
   },
   {
    "duration": 996,
    "start_time": "2022-05-13T03:25:44.204Z"
   },
   {
    "duration": 3,
    "start_time": "2022-05-13T03:25:45.203Z"
   },
   {
    "duration": 8,
    "start_time": "2022-05-13T03:25:45.208Z"
   },
   {
    "duration": 71,
    "start_time": "2022-05-13T03:25:45.218Z"
   },
   {
    "duration": 11,
    "start_time": "2022-05-13T03:25:45.291Z"
   },
   {
    "duration": 1683,
    "start_time": "2022-05-13T03:25:45.304Z"
   },
   {
    "duration": 41957,
    "start_time": "2022-05-13T03:25:46.990Z"
   },
   {
    "duration": 6622,
    "start_time": "2022-05-13T03:26:28.950Z"
   },
   {
    "duration": 180,
    "start_time": "2022-05-13T03:26:35.583Z"
   },
   {
    "duration": 0,
    "start_time": "2022-05-13T03:26:35.765Z"
   },
   {
    "duration": 0,
    "start_time": "2022-05-13T03:26:35.767Z"
   },
   {
    "duration": 0,
    "start_time": "2022-05-13T03:26:35.769Z"
   },
   {
    "duration": 0,
    "start_time": "2022-05-13T03:26:35.782Z"
   },
   {
    "duration": 0,
    "start_time": "2022-05-13T03:26:35.783Z"
   },
   {
    "duration": 0,
    "start_time": "2022-05-13T03:26:35.785Z"
   },
   {
    "duration": 0,
    "start_time": "2022-05-13T03:26:35.787Z"
   },
   {
    "duration": 0,
    "start_time": "2022-05-13T03:26:35.788Z"
   },
   {
    "duration": 0,
    "start_time": "2022-05-13T03:26:35.790Z"
   },
   {
    "duration": 0,
    "start_time": "2022-05-13T03:26:35.791Z"
   },
   {
    "duration": 0,
    "start_time": "2022-05-13T03:26:35.793Z"
   },
   {
    "duration": 0,
    "start_time": "2022-05-13T03:26:35.794Z"
   },
   {
    "duration": 0,
    "start_time": "2022-05-13T03:26:35.796Z"
   },
   {
    "duration": 0,
    "start_time": "2022-05-13T03:26:35.797Z"
   },
   {
    "duration": 40,
    "start_time": "2022-05-13T03:27:46.366Z"
   },
   {
    "duration": 183,
    "start_time": "2022-05-13T03:29:43.511Z"
   },
   {
    "duration": 15,
    "start_time": "2022-05-13T03:30:12.827Z"
   },
   {
    "duration": 13,
    "start_time": "2022-05-13T03:31:36.342Z"
   },
   {
    "duration": 14,
    "start_time": "2022-05-13T03:31:44.121Z"
   },
   {
    "duration": 15,
    "start_time": "2022-05-13T03:31:44.845Z"
   },
   {
    "duration": 12,
    "start_time": "2022-05-13T03:32:03.798Z"
   },
   {
    "duration": 25,
    "start_time": "2022-05-13T03:32:04.057Z"
   },
   {
    "duration": 4,
    "start_time": "2022-05-13T03:32:04.292Z"
   },
   {
    "duration": 366,
    "start_time": "2022-05-13T03:32:04.724Z"
   },
   {
    "duration": 0,
    "start_time": "2022-05-13T03:32:05.095Z"
   },
   {
    "duration": 402,
    "start_time": "2022-05-13T03:32:05.184Z"
   },
   {
    "duration": 0,
    "start_time": "2022-05-13T03:32:05.590Z"
   },
   {
    "duration": 17279,
    "start_time": "2022-05-13T03:32:05.697Z"
   },
   {
    "duration": 0,
    "start_time": "2022-05-13T03:32:22.982Z"
   },
   {
    "duration": 0,
    "start_time": "2022-05-13T03:32:22.983Z"
   },
   {
    "duration": 0,
    "start_time": "2022-05-13T03:32:22.985Z"
   },
   {
    "duration": 32,
    "start_time": "2022-05-13T03:39:50.763Z"
   },
   {
    "duration": 11,
    "start_time": "2022-05-13T03:39:58.159Z"
   },
   {
    "duration": 12,
    "start_time": "2022-05-13T03:39:59.951Z"
   },
   {
    "duration": 31,
    "start_time": "2022-05-13T03:40:08.128Z"
   },
   {
    "duration": 11,
    "start_time": "2022-05-13T03:40:08.431Z"
   },
   {
    "duration": 11,
    "start_time": "2022-05-13T03:40:08.703Z"
   },
   {
    "duration": 2179,
    "start_time": "2022-05-13T04:01:12.832Z"
   },
   {
    "duration": 878,
    "start_time": "2022-05-13T04:01:15.014Z"
   },
   {
    "duration": 6,
    "start_time": "2022-05-13T04:01:15.894Z"
   },
   {
    "duration": 44,
    "start_time": "2022-05-13T04:01:15.903Z"
   },
   {
    "duration": 255,
    "start_time": "2022-05-13T04:01:15.951Z"
   },
   {
    "duration": 24,
    "start_time": "2022-05-13T04:01:16.209Z"
   },
   {
    "duration": 353,
    "start_time": "2022-05-13T04:01:16.236Z"
   },
   {
    "duration": 33,
    "start_time": "2022-05-13T04:01:16.592Z"
   },
   {
    "duration": 83,
    "start_time": "2022-05-13T04:01:16.627Z"
   },
   {
    "duration": 15,
    "start_time": "2022-05-13T04:01:16.713Z"
   },
   {
    "duration": 220,
    "start_time": "2022-05-13T04:01:16.730Z"
   },
   {
    "duration": 44,
    "start_time": "2022-05-13T04:01:16.952Z"
   },
   {
    "duration": 228,
    "start_time": "2022-05-13T04:01:17.000Z"
   },
   {
    "duration": 19,
    "start_time": "2022-05-13T04:01:17.233Z"
   },
   {
    "duration": 370,
    "start_time": "2022-05-13T04:01:17.254Z"
   },
   {
    "duration": 21,
    "start_time": "2022-05-13T04:01:17.627Z"
   },
   {
    "duration": 79,
    "start_time": "2022-05-13T04:01:17.650Z"
   },
   {
    "duration": 158,
    "start_time": "2022-05-13T04:01:17.732Z"
   },
   {
    "duration": 338,
    "start_time": "2022-05-13T04:01:17.893Z"
   },
   {
    "duration": 25,
    "start_time": "2022-05-13T04:01:18.233Z"
   },
   {
    "duration": 38,
    "start_time": "2022-05-13T04:01:18.260Z"
   },
   {
    "duration": 5,
    "start_time": "2022-05-13T04:01:18.300Z"
   },
   {
    "duration": 521,
    "start_time": "2022-05-13T04:01:18.307Z"
   },
   {
    "duration": 20,
    "start_time": "2022-05-13T04:01:18.830Z"
   },
   {
    "duration": 39,
    "start_time": "2022-05-13T04:01:18.852Z"
   },
   {
    "duration": 10,
    "start_time": "2022-05-13T04:01:18.894Z"
   },
   {
    "duration": 17,
    "start_time": "2022-05-13T04:01:18.906Z"
   },
   {
    "duration": 3594,
    "start_time": "2022-05-13T04:01:18.925Z"
   },
   {
    "duration": 596,
    "start_time": "2022-05-13T04:01:22.522Z"
   },
   {
    "duration": 7,
    "start_time": "2022-05-13T04:01:23.121Z"
   },
   {
    "duration": 88,
    "start_time": "2022-05-13T04:01:23.131Z"
   },
   {
    "duration": 1499,
    "start_time": "2022-05-13T04:01:23.221Z"
   },
   {
    "duration": 4,
    "start_time": "2022-05-13T04:01:24.723Z"
   },
   {
    "duration": 9,
    "start_time": "2022-05-13T04:01:24.730Z"
   },
   {
    "duration": 93,
    "start_time": "2022-05-13T04:01:24.742Z"
   },
   {
    "duration": 14,
    "start_time": "2022-05-13T04:01:24.838Z"
   },
   {
    "duration": 2127,
    "start_time": "2022-05-13T04:01:24.855Z"
   },
   {
    "duration": 42621,
    "start_time": "2022-05-13T04:01:26.984Z"
   },
   {
    "duration": 5876,
    "start_time": "2022-05-13T04:02:09.607Z"
   },
   {
    "duration": 197,
    "start_time": "2022-05-13T04:02:15.485Z"
   },
   {
    "duration": 11,
    "start_time": "2022-05-13T04:02:15.688Z"
   },
   {
    "duration": 11,
    "start_time": "2022-05-13T04:02:15.702Z"
   },
   {
    "duration": 1924,
    "start_time": "2022-05-13T05:59:48.055Z"
   },
   {
    "duration": 713,
    "start_time": "2022-05-13T05:59:49.981Z"
   },
   {
    "duration": 4,
    "start_time": "2022-05-13T05:59:50.695Z"
   },
   {
    "duration": 27,
    "start_time": "2022-05-13T05:59:50.700Z"
   },
   {
    "duration": 152,
    "start_time": "2022-05-13T05:59:50.729Z"
   },
   {
    "duration": 13,
    "start_time": "2022-05-13T05:59:50.882Z"
   },
   {
    "duration": 216,
    "start_time": "2022-05-13T05:59:50.896Z"
   },
   {
    "duration": 18,
    "start_time": "2022-05-13T05:59:51.113Z"
   },
   {
    "duration": 54,
    "start_time": "2022-05-13T05:59:51.133Z"
   },
   {
    "duration": 9,
    "start_time": "2022-05-13T05:59:51.188Z"
   },
   {
    "duration": 118,
    "start_time": "2022-05-13T05:59:51.198Z"
   },
   {
    "duration": 17,
    "start_time": "2022-05-13T05:59:51.317Z"
   },
   {
    "duration": 132,
    "start_time": "2022-05-13T05:59:51.336Z"
   },
   {
    "duration": 16,
    "start_time": "2022-05-13T05:59:51.472Z"
   },
   {
    "duration": 224,
    "start_time": "2022-05-13T05:59:51.490Z"
   },
   {
    "duration": 11,
    "start_time": "2022-05-13T05:59:51.716Z"
   },
   {
    "duration": 48,
    "start_time": "2022-05-13T05:59:51.729Z"
   },
   {
    "duration": 72,
    "start_time": "2022-05-13T05:59:51.779Z"
   },
   {
    "duration": 228,
    "start_time": "2022-05-13T05:59:51.864Z"
   },
   {
    "duration": 19,
    "start_time": "2022-05-13T05:59:52.094Z"
   },
   {
    "duration": 15,
    "start_time": "2022-05-13T05:59:52.114Z"
   },
   {
    "duration": 5,
    "start_time": "2022-05-13T05:59:52.130Z"
   },
   {
    "duration": 332,
    "start_time": "2022-05-13T05:59:52.137Z"
   },
   {
    "duration": 12,
    "start_time": "2022-05-13T05:59:52.471Z"
   },
   {
    "duration": 10,
    "start_time": "2022-05-13T05:59:52.485Z"
   },
   {
    "duration": 10,
    "start_time": "2022-05-13T05:59:52.497Z"
   },
   {
    "duration": 12,
    "start_time": "2022-05-13T05:59:52.508Z"
   },
   {
    "duration": 3130,
    "start_time": "2022-05-13T05:59:52.522Z"
   },
   {
    "duration": 409,
    "start_time": "2022-05-13T05:59:55.661Z"
   },
   {
    "duration": 7,
    "start_time": "2022-05-13T05:59:56.072Z"
   },
   {
    "duration": 46,
    "start_time": "2022-05-13T05:59:56.081Z"
   },
   {
    "duration": 584,
    "start_time": "2022-05-13T05:59:56.129Z"
   },
   {
    "duration": 3,
    "start_time": "2022-05-13T05:59:56.714Z"
   },
   {
    "duration": 13,
    "start_time": "2022-05-13T05:59:56.718Z"
   },
   {
    "duration": 37,
    "start_time": "2022-05-13T05:59:56.733Z"
   },
   {
    "duration": 8,
    "start_time": "2022-05-13T05:59:56.772Z"
   },
   {
    "duration": 5,
    "start_time": "2022-05-13T05:59:56.781Z"
   },
   {
    "duration": 20,
    "start_time": "2022-05-13T06:00:54.375Z"
   },
   {
    "duration": 1792,
    "start_time": "2022-05-13T13:28:18.477Z"
   },
   {
    "duration": 673,
    "start_time": "2022-05-13T13:28:20.271Z"
   },
   {
    "duration": 4,
    "start_time": "2022-05-13T13:28:20.945Z"
   },
   {
    "duration": 31,
    "start_time": "2022-05-13T13:28:20.952Z"
   },
   {
    "duration": 143,
    "start_time": "2022-05-13T13:28:20.985Z"
   },
   {
    "duration": 13,
    "start_time": "2022-05-13T13:28:21.130Z"
   },
   {
    "duration": 256,
    "start_time": "2022-05-13T13:28:21.145Z"
   },
   {
    "duration": 23,
    "start_time": "2022-05-13T13:28:21.402Z"
   },
   {
    "duration": 31,
    "start_time": "2022-05-13T13:28:21.427Z"
   },
   {
    "duration": 10,
    "start_time": "2022-05-13T13:28:21.461Z"
   },
   {
    "duration": 164,
    "start_time": "2022-05-13T13:28:21.472Z"
   },
   {
    "duration": 23,
    "start_time": "2022-05-13T13:28:21.638Z"
   },
   {
    "duration": 131,
    "start_time": "2022-05-13T13:28:21.663Z"
   },
   {
    "duration": 18,
    "start_time": "2022-05-13T13:28:21.796Z"
   },
   {
    "duration": 272,
    "start_time": "2022-05-13T13:28:21.816Z"
   },
   {
    "duration": 17,
    "start_time": "2022-05-13T13:28:22.090Z"
   },
   {
    "duration": 37,
    "start_time": "2022-05-13T13:28:22.109Z"
   },
   {
    "duration": 97,
    "start_time": "2022-05-13T13:28:22.148Z"
   },
   {
    "duration": 235,
    "start_time": "2022-05-13T13:28:22.247Z"
   },
   {
    "duration": 30,
    "start_time": "2022-05-13T13:28:22.484Z"
   },
   {
    "duration": 14,
    "start_time": "2022-05-13T13:28:22.516Z"
   },
   {
    "duration": 3,
    "start_time": "2022-05-13T13:28:22.532Z"
   },
   {
    "duration": 332,
    "start_time": "2022-05-13T13:28:22.537Z"
   },
   {
    "duration": 10,
    "start_time": "2022-05-13T13:28:22.871Z"
   },
   {
    "duration": 24,
    "start_time": "2022-05-13T13:28:22.883Z"
   },
   {
    "duration": 7,
    "start_time": "2022-05-13T13:28:22.909Z"
   },
   {
    "duration": 11,
    "start_time": "2022-05-13T13:28:22.918Z"
   },
   {
    "duration": 3908,
    "start_time": "2022-05-13T13:28:22.932Z"
   },
   {
    "duration": 492,
    "start_time": "2022-05-13T13:28:26.841Z"
   },
   {
    "duration": 4,
    "start_time": "2022-05-13T13:28:27.335Z"
   },
   {
    "duration": 29,
    "start_time": "2022-05-13T13:28:27.341Z"
   },
   {
    "duration": 626,
    "start_time": "2022-05-13T13:28:27.371Z"
   },
   {
    "duration": 8,
    "start_time": "2022-05-13T13:28:27.999Z"
   },
   {
    "duration": 5,
    "start_time": "2022-05-13T13:28:28.009Z"
   },
   {
    "duration": 31,
    "start_time": "2022-05-13T13:28:28.015Z"
   },
   {
    "duration": 8,
    "start_time": "2022-05-13T13:28:28.047Z"
   },
   {
    "duration": 1352,
    "start_time": "2022-05-13T13:28:28.056Z"
   },
   {
    "duration": 30438,
    "start_time": "2022-05-13T13:28:29.412Z"
   },
   {
    "duration": 4703,
    "start_time": "2022-05-13T13:28:59.852Z"
   },
   {
    "duration": 53,
    "start_time": "2022-05-13T13:29:04.556Z"
   },
   {
    "duration": 97,
    "start_time": "2022-05-13T13:29:04.612Z"
   },
   {
    "duration": 8,
    "start_time": "2022-05-13T13:29:04.711Z"
   },
   {
    "duration": 3574,
    "start_time": "2022-05-13T13:29:10.181Z"
   },
   {
    "duration": 3509,
    "start_time": "2022-05-13T13:30:21.345Z"
   },
   {
    "duration": 3508,
    "start_time": "2022-05-13T13:32:08.754Z"
   },
   {
    "duration": 3608,
    "start_time": "2022-05-13T13:32:19.453Z"
   },
   {
    "duration": 3658,
    "start_time": "2022-05-13T13:32:52.083Z"
   },
   {
    "duration": 3547,
    "start_time": "2022-05-13T13:33:01.114Z"
   },
   {
    "duration": 3516,
    "start_time": "2022-05-13T13:33:23.539Z"
   },
   {
    "duration": 203,
    "start_time": "2022-05-13T13:38:41.507Z"
   },
   {
    "duration": 96,
    "start_time": "2022-05-13T13:39:01.622Z"
   },
   {
    "duration": 33,
    "start_time": "2022-05-13T13:40:17.663Z"
   },
   {
    "duration": 215,
    "start_time": "2022-05-13T13:50:34.127Z"
   },
   {
    "duration": 3815,
    "start_time": "2022-05-13T13:54:10.429Z"
   },
   {
    "duration": 124,
    "start_time": "2022-05-13T14:01:50.709Z"
   },
   {
    "duration": 26,
    "start_time": "2022-05-13T14:02:32.348Z"
   },
   {
    "duration": 19,
    "start_time": "2022-05-13T14:07:45.568Z"
   },
   {
    "duration": 18,
    "start_time": "2022-05-13T14:08:35.389Z"
   },
   {
    "duration": 18,
    "start_time": "2022-05-13T14:15:32.746Z"
   },
   {
    "duration": 13,
    "start_time": "2022-05-13T14:18:10.665Z"
   },
   {
    "duration": 1570,
    "start_time": "2022-05-13T14:18:43.890Z"
   },
   {
    "duration": 0,
    "start_time": "2022-05-13T14:18:45.463Z"
   },
   {
    "duration": 0,
    "start_time": "2022-05-13T14:18:45.464Z"
   },
   {
    "duration": 0,
    "start_time": "2022-05-13T14:18:45.466Z"
   },
   {
    "duration": 0,
    "start_time": "2022-05-13T14:18:45.467Z"
   },
   {
    "duration": 0,
    "start_time": "2022-05-13T14:18:45.469Z"
   },
   {
    "duration": 0,
    "start_time": "2022-05-13T14:18:45.470Z"
   },
   {
    "duration": 0,
    "start_time": "2022-05-13T14:18:45.471Z"
   },
   {
    "duration": 0,
    "start_time": "2022-05-13T14:18:45.473Z"
   },
   {
    "duration": 0,
    "start_time": "2022-05-13T14:18:45.475Z"
   },
   {
    "duration": 0,
    "start_time": "2022-05-13T14:18:45.476Z"
   },
   {
    "duration": 0,
    "start_time": "2022-05-13T14:18:45.478Z"
   },
   {
    "duration": 0,
    "start_time": "2022-05-13T14:18:45.479Z"
   },
   {
    "duration": 0,
    "start_time": "2022-05-13T14:18:45.480Z"
   },
   {
    "duration": 0,
    "start_time": "2022-05-13T14:18:45.482Z"
   },
   {
    "duration": 0,
    "start_time": "2022-05-13T14:18:45.508Z"
   },
   {
    "duration": 0,
    "start_time": "2022-05-13T14:18:45.509Z"
   },
   {
    "duration": 0,
    "start_time": "2022-05-13T14:18:45.511Z"
   },
   {
    "duration": 0,
    "start_time": "2022-05-13T14:18:45.512Z"
   },
   {
    "duration": 0,
    "start_time": "2022-05-13T14:18:45.516Z"
   },
   {
    "duration": 0,
    "start_time": "2022-05-13T14:18:45.517Z"
   },
   {
    "duration": 0,
    "start_time": "2022-05-13T14:18:45.519Z"
   },
   {
    "duration": 0,
    "start_time": "2022-05-13T14:18:45.520Z"
   },
   {
    "duration": 0,
    "start_time": "2022-05-13T14:18:45.522Z"
   },
   {
    "duration": 0,
    "start_time": "2022-05-13T14:18:45.523Z"
   },
   {
    "duration": 0,
    "start_time": "2022-05-13T14:18:45.524Z"
   },
   {
    "duration": 0,
    "start_time": "2022-05-13T14:18:45.526Z"
   },
   {
    "duration": 0,
    "start_time": "2022-05-13T14:18:45.528Z"
   },
   {
    "duration": 0,
    "start_time": "2022-05-13T14:18:45.529Z"
   },
   {
    "duration": 0,
    "start_time": "2022-05-13T14:18:45.530Z"
   },
   {
    "duration": 0,
    "start_time": "2022-05-13T14:18:45.532Z"
   },
   {
    "duration": 0,
    "start_time": "2022-05-13T14:18:45.533Z"
   },
   {
    "duration": 0,
    "start_time": "2022-05-13T14:18:45.534Z"
   },
   {
    "duration": 0,
    "start_time": "2022-05-13T14:18:45.536Z"
   },
   {
    "duration": 0,
    "start_time": "2022-05-13T14:18:45.537Z"
   },
   {
    "duration": 0,
    "start_time": "2022-05-13T14:18:45.537Z"
   },
   {
    "duration": 0,
    "start_time": "2022-05-13T14:18:45.539Z"
   },
   {
    "duration": 0,
    "start_time": "2022-05-13T14:18:45.540Z"
   },
   {
    "duration": 0,
    "start_time": "2022-05-13T14:18:45.540Z"
   },
   {
    "duration": 0,
    "start_time": "2022-05-13T14:18:45.542Z"
   },
   {
    "duration": 0,
    "start_time": "2022-05-13T14:18:45.543Z"
   },
   {
    "duration": 0,
    "start_time": "2022-05-13T14:18:45.544Z"
   },
   {
    "duration": 0,
    "start_time": "2022-05-13T14:18:45.607Z"
   },
   {
    "duration": 5,
    "start_time": "2022-05-13T14:19:30.532Z"
   },
   {
    "duration": 701,
    "start_time": "2022-05-13T14:19:35.263Z"
   },
   {
    "duration": 4,
    "start_time": "2022-05-13T14:19:35.966Z"
   },
   {
    "duration": 37,
    "start_time": "2022-05-13T14:19:35.972Z"
   },
   {
    "duration": 139,
    "start_time": "2022-05-13T14:19:36.026Z"
   },
   {
    "duration": 14,
    "start_time": "2022-05-13T14:19:36.167Z"
   },
   {
    "duration": 227,
    "start_time": "2022-05-13T14:19:36.319Z"
   },
   {
    "duration": 21,
    "start_time": "2022-05-13T14:19:36.647Z"
   },
   {
    "duration": 32,
    "start_time": "2022-05-13T14:19:36.811Z"
   },
   {
    "duration": 10,
    "start_time": "2022-05-13T14:19:36.977Z"
   },
   {
    "duration": 124,
    "start_time": "2022-05-13T14:19:37.152Z"
   },
   {
    "duration": 22,
    "start_time": "2022-05-13T14:19:37.491Z"
   },
   {
    "duration": 116,
    "start_time": "2022-05-13T14:19:37.662Z"
   },
   {
    "duration": 14,
    "start_time": "2022-05-13T14:19:37.863Z"
   },
   {
    "duration": 250,
    "start_time": "2022-05-13T14:19:38.015Z"
   },
   {
    "duration": 13,
    "start_time": "2022-05-13T14:19:38.864Z"
   },
   {
    "duration": 34,
    "start_time": "2022-05-13T14:19:39.378Z"
   },
   {
    "duration": 77,
    "start_time": "2022-05-13T14:19:39.747Z"
   },
   {
    "duration": 256,
    "start_time": "2022-05-13T14:19:39.917Z"
   },
   {
    "duration": 19,
    "start_time": "2022-05-13T14:19:40.455Z"
   },
   {
    "duration": 15,
    "start_time": "2022-05-13T14:19:40.834Z"
   },
   {
    "duration": 4,
    "start_time": "2022-05-13T14:19:41.739Z"
   },
   {
    "duration": 299,
    "start_time": "2022-05-13T14:19:42.298Z"
   },
   {
    "duration": 11,
    "start_time": "2022-05-13T14:19:42.699Z"
   },
   {
    "duration": 12,
    "start_time": "2022-05-13T14:19:43.072Z"
   },
   {
    "duration": 7,
    "start_time": "2022-05-13T14:19:43.802Z"
   },
   {
    "duration": 12,
    "start_time": "2022-05-13T14:19:44.934Z"
   },
   {
    "duration": 3638,
    "start_time": "2022-05-13T14:19:45.323Z"
   },
   {
    "duration": 472,
    "start_time": "2022-05-13T14:19:48.964Z"
   },
   {
    "duration": 6,
    "start_time": "2022-05-13T14:19:49.438Z"
   },
   {
    "duration": 34,
    "start_time": "2022-05-13T14:19:49.446Z"
   },
   {
    "duration": 641,
    "start_time": "2022-05-13T14:19:49.482Z"
   },
   {
    "duration": 2,
    "start_time": "2022-05-13T14:19:50.944Z"
   },
   {
    "duration": 6,
    "start_time": "2022-05-13T14:19:51.313Z"
   },
   {
    "duration": 28,
    "start_time": "2022-05-13T14:19:51.889Z"
   },
   {
    "duration": 7,
    "start_time": "2022-05-13T14:19:52.500Z"
   },
   {
    "duration": 1520,
    "start_time": "2022-05-13T14:19:52.888Z"
   },
   {
    "duration": 116,
    "start_time": "2022-05-13T14:19:54.411Z"
   },
   {
    "duration": 0,
    "start_time": "2022-05-13T14:19:54.529Z"
   },
   {
    "duration": 4753,
    "start_time": "2022-05-13T14:19:54.537Z"
   },
   {
    "duration": 105,
    "start_time": "2022-05-13T14:21:23.824Z"
   },
   {
    "duration": 0,
    "start_time": "2022-05-13T14:22:04.677Z"
   },
   {
    "duration": 1262,
    "start_time": "2022-05-13T14:22:15.447Z"
   },
   {
    "duration": 13867,
    "start_time": "2022-05-13T14:22:17.539Z"
   },
   {
    "duration": 3542,
    "start_time": "2022-05-13T14:22:38.520Z"
   },
   {
    "duration": 119,
    "start_time": "2022-05-13T14:23:49.622Z"
   },
   {
    "duration": 3602,
    "start_time": "2022-05-13T14:24:00.395Z"
   },
   {
    "duration": 3705,
    "start_time": "2022-05-13T14:24:14.932Z"
   },
   {
    "duration": 4,
    "start_time": "2022-05-13T14:26:45.908Z"
   },
   {
    "duration": 5,
    "start_time": "2022-05-13T14:26:55.430Z"
   },
   {
    "duration": 26,
    "start_time": "2022-05-13T14:27:26.595Z"
   },
   {
    "duration": 7403,
    "start_time": "2022-05-13T14:27:34.924Z"
   },
   {
    "duration": 8840,
    "start_time": "2022-05-13T14:27:52.580Z"
   },
   {
    "duration": 26,
    "start_time": "2022-05-13T14:28:37.378Z"
   },
   {
    "duration": 0,
    "start_time": "2022-05-13T14:42:06.115Z"
   },
   {
    "duration": 0,
    "start_time": "2022-05-13T14:42:06.117Z"
   },
   {
    "duration": 22222,
    "start_time": "2022-05-13T14:42:22.476Z"
   },
   {
    "duration": 22512,
    "start_time": "2022-05-13T15:05:30.741Z"
   },
   {
    "duration": 1536,
    "start_time": "2022-05-13T15:07:28.692Z"
   },
   {
    "duration": 783,
    "start_time": "2022-05-13T15:07:30.230Z"
   },
   {
    "duration": 5,
    "start_time": "2022-05-13T15:07:31.015Z"
   },
   {
    "duration": 46,
    "start_time": "2022-05-13T15:07:31.022Z"
   },
   {
    "duration": 145,
    "start_time": "2022-05-13T15:07:31.070Z"
   },
   {
    "duration": 19,
    "start_time": "2022-05-13T15:07:31.217Z"
   },
   {
    "duration": 284,
    "start_time": "2022-05-13T15:07:31.238Z"
   },
   {
    "duration": 30,
    "start_time": "2022-05-13T15:07:31.524Z"
   },
   {
    "duration": 56,
    "start_time": "2022-05-13T15:07:31.556Z"
   },
   {
    "duration": 11,
    "start_time": "2022-05-13T15:07:31.617Z"
   },
   {
    "duration": 178,
    "start_time": "2022-05-13T15:07:31.631Z"
   },
   {
    "duration": 26,
    "start_time": "2022-05-13T15:07:31.811Z"
   },
   {
    "duration": 153,
    "start_time": "2022-05-13T15:07:31.840Z"
   },
   {
    "duration": 23,
    "start_time": "2022-05-13T15:07:31.995Z"
   },
   {
    "duration": 286,
    "start_time": "2022-05-13T15:07:32.019Z"
   },
   {
    "duration": 15,
    "start_time": "2022-05-13T15:07:32.307Z"
   },
   {
    "duration": 47,
    "start_time": "2022-05-13T15:07:32.325Z"
   },
   {
    "duration": 125,
    "start_time": "2022-05-13T15:07:32.374Z"
   },
   {
    "duration": 252,
    "start_time": "2022-05-13T15:07:32.501Z"
   },
   {
    "duration": 20,
    "start_time": "2022-05-13T15:07:32.755Z"
   },
   {
    "duration": 34,
    "start_time": "2022-05-13T15:07:32.776Z"
   },
   {
    "duration": 4,
    "start_time": "2022-05-13T15:07:32.812Z"
   },
   {
    "duration": 361,
    "start_time": "2022-05-13T15:07:32.819Z"
   },
   {
    "duration": 10,
    "start_time": "2022-05-13T15:07:33.182Z"
   },
   {
    "duration": 25,
    "start_time": "2022-05-13T15:07:33.193Z"
   },
   {
    "duration": 11,
    "start_time": "2022-05-13T15:07:33.220Z"
   },
   {
    "duration": 14,
    "start_time": "2022-05-13T15:07:33.233Z"
   },
   {
    "duration": 4464,
    "start_time": "2022-05-13T15:07:33.252Z"
   },
   {
    "duration": 804,
    "start_time": "2022-05-13T15:07:37.717Z"
   },
   {
    "duration": 5,
    "start_time": "2022-05-13T15:07:38.523Z"
   },
   {
    "duration": 32,
    "start_time": "2022-05-13T15:07:38.530Z"
   },
   {
    "duration": 632,
    "start_time": "2022-05-13T15:07:38.564Z"
   },
   {
    "duration": 9,
    "start_time": "2022-05-13T15:07:39.198Z"
   },
   {
    "duration": 6,
    "start_time": "2022-05-13T15:07:39.209Z"
   },
   {
    "duration": 37,
    "start_time": "2022-05-13T15:07:39.216Z"
   },
   {
    "duration": 8,
    "start_time": "2022-05-13T15:07:39.254Z"
   },
   {
    "duration": 1446,
    "start_time": "2022-05-13T15:07:39.264Z"
   },
   {
    "duration": 973,
    "start_time": "2022-05-13T15:07:40.714Z"
   },
   {
    "duration": 0,
    "start_time": "2022-05-13T15:07:41.688Z"
   },
   {
    "duration": 0,
    "start_time": "2022-05-13T15:07:41.690Z"
   },
   {
    "duration": 0,
    "start_time": "2022-05-13T15:07:41.691Z"
   },
   {
    "duration": 0,
    "start_time": "2022-05-13T15:07:41.691Z"
   },
   {
    "duration": 0,
    "start_time": "2022-05-13T15:07:41.693Z"
   },
   {
    "duration": 0,
    "start_time": "2022-05-13T15:07:41.694Z"
   },
   {
    "duration": 100,
    "start_time": "2022-05-13T15:11:10.492Z"
   },
   {
    "duration": 103,
    "start_time": "2022-05-13T15:11:21.629Z"
   },
   {
    "duration": 106,
    "start_time": "2022-05-13T15:11:59.716Z"
   },
   {
    "duration": 1486,
    "start_time": "2022-05-13T15:15:35.348Z"
   },
   {
    "duration": 692,
    "start_time": "2022-05-13T15:15:36.836Z"
   },
   {
    "duration": 4,
    "start_time": "2022-05-13T15:15:37.530Z"
   },
   {
    "duration": 30,
    "start_time": "2022-05-13T15:15:37.536Z"
   },
   {
    "duration": 150,
    "start_time": "2022-05-13T15:15:37.568Z"
   },
   {
    "duration": 13,
    "start_time": "2022-05-13T15:15:37.720Z"
   },
   {
    "duration": 247,
    "start_time": "2022-05-13T15:15:37.735Z"
   },
   {
    "duration": 26,
    "start_time": "2022-05-13T15:15:37.983Z"
   },
   {
    "duration": 32,
    "start_time": "2022-05-13T15:15:38.011Z"
   },
   {
    "duration": 10,
    "start_time": "2022-05-13T15:15:38.047Z"
   },
   {
    "duration": 156,
    "start_time": "2022-05-13T15:15:38.059Z"
   },
   {
    "duration": 22,
    "start_time": "2022-05-13T15:15:38.217Z"
   },
   {
    "duration": 128,
    "start_time": "2022-05-13T15:15:38.240Z"
   },
   {
    "duration": 14,
    "start_time": "2022-05-13T15:15:38.370Z"
   },
   {
    "duration": 262,
    "start_time": "2022-05-13T15:15:38.386Z"
   },
   {
    "duration": 13,
    "start_time": "2022-05-13T15:15:38.649Z"
   },
   {
    "duration": 50,
    "start_time": "2022-05-13T15:15:38.663Z"
   },
   {
    "duration": 76,
    "start_time": "2022-05-13T15:15:38.715Z"
   },
   {
    "duration": 272,
    "start_time": "2022-05-13T15:15:38.793Z"
   },
   {
    "duration": 18,
    "start_time": "2022-05-13T15:15:39.067Z"
   },
   {
    "duration": 28,
    "start_time": "2022-05-13T15:15:39.087Z"
   },
   {
    "duration": 3,
    "start_time": "2022-05-13T15:15:39.117Z"
   },
   {
    "duration": 325,
    "start_time": "2022-05-13T15:15:39.122Z"
   },
   {
    "duration": 12,
    "start_time": "2022-05-13T15:15:39.448Z"
   },
   {
    "duration": 10,
    "start_time": "2022-05-13T15:15:39.463Z"
   },
   {
    "duration": 7,
    "start_time": "2022-05-13T15:15:39.475Z"
   },
   {
    "duration": 32,
    "start_time": "2022-05-13T15:15:39.483Z"
   },
   {
    "duration": 3540,
    "start_time": "2022-05-13T15:15:39.519Z"
   },
   {
    "duration": 477,
    "start_time": "2022-05-13T15:15:43.060Z"
   },
   {
    "duration": 5,
    "start_time": "2022-05-13T15:15:43.539Z"
   },
   {
    "duration": 33,
    "start_time": "2022-05-13T15:15:43.546Z"
   },
   {
    "duration": 646,
    "start_time": "2022-05-13T15:15:43.581Z"
   },
   {
    "duration": 5,
    "start_time": "2022-05-13T15:15:44.229Z"
   },
   {
    "duration": 33,
    "start_time": "2022-05-13T15:15:44.236Z"
   },
   {
    "duration": 8,
    "start_time": "2022-05-13T15:15:44.271Z"
   },
   {
    "duration": 1334,
    "start_time": "2022-05-13T15:15:44.280Z"
   },
   {
    "duration": 92,
    "start_time": "2022-05-13T15:15:45.617Z"
   },
   {
    "duration": 16241,
    "start_time": "2022-05-13T15:15:45.712Z"
   },
   {
    "duration": 4700,
    "start_time": "2022-05-13T15:16:01.955Z"
   },
   {
    "duration": 218,
    "start_time": "2022-05-13T15:16:06.656Z"
   },
   {
    "duration": 1,
    "start_time": "2022-05-13T15:16:06.875Z"
   },
   {
    "duration": 0,
    "start_time": "2022-05-13T15:16:06.877Z"
   },
   {
    "duration": 0,
    "start_time": "2022-05-13T15:16:06.878Z"
   },
   {
    "duration": 4320,
    "start_time": "2022-05-13T15:28:04.727Z"
   },
   {
    "duration": 16216,
    "start_time": "2022-05-13T15:28:55.992Z"
   },
   {
    "duration": 4441,
    "start_time": "2022-05-13T15:32:43.115Z"
   },
   {
    "duration": 1420,
    "start_time": "2022-05-13T15:36:49.851Z"
   },
   {
    "duration": 713,
    "start_time": "2022-05-13T15:36:51.272Z"
   },
   {
    "duration": 4,
    "start_time": "2022-05-13T15:36:51.986Z"
   },
   {
    "duration": 34,
    "start_time": "2022-05-13T15:36:51.992Z"
   },
   {
    "duration": 144,
    "start_time": "2022-05-13T15:36:52.028Z"
   },
   {
    "duration": 12,
    "start_time": "2022-05-13T15:36:52.174Z"
   },
   {
    "duration": 250,
    "start_time": "2022-05-13T15:36:52.188Z"
   },
   {
    "duration": 19,
    "start_time": "2022-05-13T15:36:52.440Z"
   },
   {
    "duration": 31,
    "start_time": "2022-05-13T15:36:52.461Z"
   },
   {
    "duration": 9,
    "start_time": "2022-05-13T15:36:52.509Z"
   },
   {
    "duration": 134,
    "start_time": "2022-05-13T15:36:52.519Z"
   },
   {
    "duration": 19,
    "start_time": "2022-05-13T15:36:52.655Z"
   },
   {
    "duration": 126,
    "start_time": "2022-05-13T15:36:52.676Z"
   },
   {
    "duration": 13,
    "start_time": "2022-05-13T15:36:52.807Z"
   },
   {
    "duration": 260,
    "start_time": "2022-05-13T15:36:52.822Z"
   },
   {
    "duration": 13,
    "start_time": "2022-05-13T15:36:53.083Z"
   },
   {
    "duration": 43,
    "start_time": "2022-05-13T15:36:53.098Z"
   },
   {
    "duration": 91,
    "start_time": "2022-05-13T15:36:53.143Z"
   },
   {
    "duration": 251,
    "start_time": "2022-05-13T15:36:53.236Z"
   },
   {
    "duration": 25,
    "start_time": "2022-05-13T15:36:53.488Z"
   },
   {
    "duration": 17,
    "start_time": "2022-05-13T15:36:53.515Z"
   },
   {
    "duration": 5,
    "start_time": "2022-05-13T15:36:53.534Z"
   },
   {
    "duration": 334,
    "start_time": "2022-05-13T15:36:53.541Z"
   },
   {
    "duration": 13,
    "start_time": "2022-05-13T15:36:53.876Z"
   },
   {
    "duration": 21,
    "start_time": "2022-05-13T15:36:53.891Z"
   },
   {
    "duration": 7,
    "start_time": "2022-05-13T15:36:53.914Z"
   },
   {
    "duration": 11,
    "start_time": "2022-05-13T15:36:53.923Z"
   },
   {
    "duration": 3717,
    "start_time": "2022-05-13T15:36:53.938Z"
   },
   {
    "duration": 480,
    "start_time": "2022-05-13T15:36:57.656Z"
   },
   {
    "duration": 5,
    "start_time": "2022-05-13T15:36:58.138Z"
   },
   {
    "duration": 56,
    "start_time": "2022-05-13T15:36:58.145Z"
   },
   {
    "duration": 615,
    "start_time": "2022-05-13T15:36:58.203Z"
   },
   {
    "duration": 5,
    "start_time": "2022-05-13T15:36:58.820Z"
   },
   {
    "duration": 44,
    "start_time": "2022-05-13T15:36:58.826Z"
   },
   {
    "duration": 7,
    "start_time": "2022-05-13T15:36:58.872Z"
   },
   {
    "duration": 1327,
    "start_time": "2022-05-13T15:36:58.881Z"
   },
   {
    "duration": 4431,
    "start_time": "2022-05-13T15:37:00.213Z"
   },
   {
    "duration": 4,
    "start_time": "2022-05-13T15:37:04.646Z"
   },
   {
    "duration": 16000,
    "start_time": "2022-05-13T15:37:04.651Z"
   },
   {
    "duration": 251,
    "start_time": "2022-05-13T15:37:20.653Z"
   },
   {
    "duration": 0,
    "start_time": "2022-05-13T15:37:20.906Z"
   },
   {
    "duration": 0,
    "start_time": "2022-05-13T15:37:20.907Z"
   },
   {
    "duration": 0,
    "start_time": "2022-05-13T15:37:20.909Z"
   },
   {
    "duration": 0,
    "start_time": "2022-05-13T15:37:20.911Z"
   },
   {
    "duration": 18086,
    "start_time": "2022-05-13T15:39:18.672Z"
   },
   {
    "duration": 90,
    "start_time": "2022-05-13T15:39:43.747Z"
   },
   {
    "duration": 10476,
    "start_time": "2022-05-13T15:39:53.378Z"
   },
   {
    "duration": 4584,
    "start_time": "2022-05-13T15:40:09.035Z"
   },
   {
    "duration": 18363,
    "start_time": "2022-05-13T16:27:33.678Z"
   },
   {
    "duration": 4559,
    "start_time": "2022-05-13T16:28:09.860Z"
   },
   {
    "duration": 4569,
    "start_time": "2022-05-13T16:29:03.356Z"
   },
   {
    "duration": 4423,
    "start_time": "2022-05-13T16:31:31.792Z"
   },
   {
    "duration": 3685,
    "start_time": "2022-05-13T16:38:56.094Z"
   },
   {
    "duration": 5576,
    "start_time": "2022-05-13T16:39:38.170Z"
   },
   {
    "duration": 1665,
    "start_time": "2022-05-13T17:10:08.996Z"
   },
   {
    "duration": 779,
    "start_time": "2022-05-13T17:10:10.664Z"
   },
   {
    "duration": 4,
    "start_time": "2022-05-13T17:10:11.445Z"
   },
   {
    "duration": 35,
    "start_time": "2022-05-13T17:10:11.451Z"
   },
   {
    "duration": 162,
    "start_time": "2022-05-13T17:10:11.488Z"
   },
   {
    "duration": 15,
    "start_time": "2022-05-13T17:10:11.652Z"
   },
   {
    "duration": 269,
    "start_time": "2022-05-13T17:10:11.669Z"
   },
   {
    "duration": 23,
    "start_time": "2022-05-13T17:10:11.940Z"
   },
   {
    "duration": 52,
    "start_time": "2022-05-13T17:10:11.965Z"
   },
   {
    "duration": 12,
    "start_time": "2022-05-13T17:10:12.020Z"
   },
   {
    "duration": 153,
    "start_time": "2022-05-13T17:10:12.035Z"
   },
   {
    "duration": 30,
    "start_time": "2022-05-13T17:10:12.190Z"
   },
   {
    "duration": 139,
    "start_time": "2022-05-13T17:10:12.222Z"
   },
   {
    "duration": 14,
    "start_time": "2022-05-13T17:10:12.363Z"
   },
   {
    "duration": 292,
    "start_time": "2022-05-13T17:10:12.379Z"
   },
   {
    "duration": 14,
    "start_time": "2022-05-13T17:10:12.672Z"
   },
   {
    "duration": 62,
    "start_time": "2022-05-13T17:10:12.688Z"
   },
   {
    "duration": 101,
    "start_time": "2022-05-13T17:10:12.751Z"
   },
   {
    "duration": 303,
    "start_time": "2022-05-13T17:10:12.853Z"
   },
   {
    "duration": 22,
    "start_time": "2022-05-13T17:10:13.157Z"
   },
   {
    "duration": 28,
    "start_time": "2022-05-13T17:10:13.180Z"
   },
   {
    "duration": 7,
    "start_time": "2022-05-13T17:10:13.211Z"
   },
   {
    "duration": 359,
    "start_time": "2022-05-13T17:10:13.222Z"
   },
   {
    "duration": 12,
    "start_time": "2022-05-13T17:10:13.583Z"
   },
   {
    "duration": 18,
    "start_time": "2022-05-13T17:10:13.608Z"
   },
   {
    "duration": 8,
    "start_time": "2022-05-13T17:10:13.628Z"
   },
   {
    "duration": 14,
    "start_time": "2022-05-13T17:10:13.638Z"
   },
   {
    "duration": 3825,
    "start_time": "2022-05-13T17:10:13.655Z"
   },
   {
    "duration": 462,
    "start_time": "2022-05-13T17:10:17.482Z"
   },
   {
    "duration": 6,
    "start_time": "2022-05-13T17:10:17.946Z"
   },
   {
    "duration": 36,
    "start_time": "2022-05-13T17:10:17.954Z"
   },
   {
    "duration": 658,
    "start_time": "2022-05-13T17:10:17.992Z"
   },
   {
    "duration": 5,
    "start_time": "2022-05-13T17:10:18.652Z"
   },
   {
    "duration": 36,
    "start_time": "2022-05-13T17:10:18.658Z"
   },
   {
    "duration": 9,
    "start_time": "2022-05-13T17:10:18.707Z"
   },
   {
    "duration": 1293,
    "start_time": "2022-05-13T17:10:18.718Z"
   },
   {
    "duration": 16215,
    "start_time": "2022-05-13T17:10:20.018Z"
   },
   {
    "duration": 4869,
    "start_time": "2022-05-13T17:10:36.235Z"
   },
   {
    "duration": 104,
    "start_time": "2022-05-13T17:10:41.105Z"
   },
   {
    "duration": 99,
    "start_time": "2022-05-13T17:10:41.212Z"
   },
   {
    "duration": 8,
    "start_time": "2022-05-13T17:10:41.313Z"
   },
   {
    "duration": 2,
    "start_time": "2022-05-13T17:13:17.879Z"
   },
   {
    "duration": 7,
    "start_time": "2022-05-13T17:13:22.158Z"
   },
   {
    "duration": 1338,
    "start_time": "2022-05-13T17:13:23.471Z"
   },
   {
    "duration": 15467,
    "start_time": "2022-05-13T17:13:54.390Z"
   },
   {
    "duration": 6235,
    "start_time": "2022-05-13T17:15:17.760Z"
   },
   {
    "duration": 4,
    "start_time": "2022-05-13T18:39:18.543Z"
   },
   {
    "duration": 4,
    "start_time": "2022-05-13T18:40:36.077Z"
   },
   {
    "duration": 99,
    "start_time": "2022-05-13T18:42:06.466Z"
   },
   {
    "duration": 15870,
    "start_time": "2022-05-13T18:42:33.208Z"
   },
   {
    "duration": 15642,
    "start_time": "2022-05-13T18:43:43.477Z"
   },
   {
    "duration": 15897,
    "start_time": "2022-05-13T18:44:54.175Z"
   },
   {
    "duration": 16207,
    "start_time": "2022-05-13T18:46:16.757Z"
   },
   {
    "duration": 23523,
    "start_time": "2022-05-13T18:46:45.943Z"
   },
   {
    "duration": 66886,
    "start_time": "2022-05-13T18:47:34.237Z"
   },
   {
    "duration": 16309,
    "start_time": "2022-05-13T18:49:02.786Z"
   },
   {
    "duration": 12970,
    "start_time": "2022-05-13T18:50:09.881Z"
   },
   {
    "duration": 12682,
    "start_time": "2022-05-13T18:51:22.521Z"
   },
   {
    "duration": 6747,
    "start_time": "2022-05-13T18:52:03.967Z"
   },
   {
    "duration": 9569,
    "start_time": "2022-05-13T18:55:44.764Z"
   },
   {
    "duration": 84418,
    "start_time": "2022-05-13T18:57:55.042Z"
   },
   {
    "duration": 9661,
    "start_time": "2022-05-13T18:59:34.745Z"
   },
   {
    "duration": 32125,
    "start_time": "2022-05-13T19:04:45.768Z"
   },
   {
    "duration": 32832,
    "start_time": "2022-05-13T19:05:40.800Z"
   },
   {
    "duration": 10644,
    "start_time": "2022-05-13T19:07:06.042Z"
   },
   {
    "duration": 31913,
    "start_time": "2022-05-13T19:07:36.865Z"
   },
   {
    "duration": 5159,
    "start_time": "2022-05-13T19:10:34.420Z"
   },
   {
    "duration": 32619,
    "start_time": "2022-05-13T19:10:59.314Z"
   },
   {
    "duration": 32423,
    "start_time": "2022-05-13T19:12:01.849Z"
   },
   {
    "duration": 5248,
    "start_time": "2022-05-13T19:14:08.939Z"
   },
   {
    "duration": 4925,
    "start_time": "2022-05-13T19:14:33.399Z"
   },
   {
    "duration": 13327,
    "start_time": "2022-05-13T19:21:01.676Z"
   },
   {
    "duration": 1631,
    "start_time": "2022-05-13T19:24:17.904Z"
   },
   {
    "duration": 781,
    "start_time": "2022-05-13T19:24:19.537Z"
   },
   {
    "duration": 6,
    "start_time": "2022-05-13T19:24:20.320Z"
   },
   {
    "duration": 33,
    "start_time": "2022-05-13T19:24:20.328Z"
   },
   {
    "duration": 166,
    "start_time": "2022-05-13T19:24:20.363Z"
   },
   {
    "duration": 14,
    "start_time": "2022-05-13T19:24:20.531Z"
   },
   {
    "duration": 260,
    "start_time": "2022-05-13T19:24:20.546Z"
   },
   {
    "duration": 25,
    "start_time": "2022-05-13T19:24:20.812Z"
   },
   {
    "duration": 33,
    "start_time": "2022-05-13T19:24:20.839Z"
   },
   {
    "duration": 46,
    "start_time": "2022-05-13T19:24:20.875Z"
   },
   {
    "duration": 143,
    "start_time": "2022-05-13T19:24:20.923Z"
   },
   {
    "duration": 21,
    "start_time": "2022-05-13T19:24:21.068Z"
   },
   {
    "duration": 150,
    "start_time": "2022-05-13T19:24:21.091Z"
   },
   {
    "duration": 13,
    "start_time": "2022-05-13T19:24:21.243Z"
   },
   {
    "duration": 306,
    "start_time": "2022-05-13T19:24:21.258Z"
   },
   {
    "duration": 13,
    "start_time": "2022-05-13T19:24:21.566Z"
   },
   {
    "duration": 54,
    "start_time": "2022-05-13T19:24:21.581Z"
   },
   {
    "duration": 93,
    "start_time": "2022-05-13T19:24:21.638Z"
   },
   {
    "duration": 263,
    "start_time": "2022-05-13T19:24:21.733Z"
   },
   {
    "duration": 29,
    "start_time": "2022-05-13T19:24:21.998Z"
   },
   {
    "duration": 14,
    "start_time": "2022-05-13T19:24:22.029Z"
   },
   {
    "duration": 3,
    "start_time": "2022-05-13T19:24:22.045Z"
   },
   {
    "duration": 350,
    "start_time": "2022-05-13T19:24:22.050Z"
   },
   {
    "duration": 21,
    "start_time": "2022-05-13T19:24:22.401Z"
   },
   {
    "duration": 11,
    "start_time": "2022-05-13T19:24:22.424Z"
   },
   {
    "duration": 9,
    "start_time": "2022-05-13T19:24:22.437Z"
   },
   {
    "duration": 13,
    "start_time": "2022-05-13T19:24:22.447Z"
   },
   {
    "duration": 3821,
    "start_time": "2022-05-13T19:24:22.464Z"
   },
   {
    "duration": 470,
    "start_time": "2022-05-13T19:24:26.287Z"
   },
   {
    "duration": 6,
    "start_time": "2022-05-13T19:24:26.759Z"
   },
   {
    "duration": 63,
    "start_time": "2022-05-13T19:24:26.767Z"
   },
   {
    "duration": 717,
    "start_time": "2022-05-13T19:24:26.833Z"
   },
   {
    "duration": 5,
    "start_time": "2022-05-13T19:24:27.552Z"
   },
   {
    "duration": 11,
    "start_time": "2022-05-13T19:24:27.558Z"
   },
   {
    "duration": 10,
    "start_time": "2022-05-13T19:24:27.571Z"
   },
   {
    "duration": 1427,
    "start_time": "2022-05-13T19:24:27.583Z"
   },
   {
    "duration": 31739,
    "start_time": "2022-05-13T19:24:29.012Z"
   },
   {
    "duration": 4987,
    "start_time": "2022-05-13T19:25:00.753Z"
   },
   {
    "duration": 68,
    "start_time": "2022-05-13T19:25:05.742Z"
   },
   {
    "duration": 13,
    "start_time": "2022-05-13T19:25:05.815Z"
   },
   {
    "duration": 91,
    "start_time": "2022-05-13T19:25:05.830Z"
   },
   {
    "duration": 26,
    "start_time": "2022-05-13T19:35:52.390Z"
   },
   {
    "duration": 130,
    "start_time": "2022-05-13T19:38:32.572Z"
   },
   {
    "duration": 95,
    "start_time": "2022-05-13T19:38:47.318Z"
   },
   {
    "duration": 8,
    "start_time": "2022-05-13T19:39:20.140Z"
   },
   {
    "duration": 8,
    "start_time": "2022-05-13T19:39:20.443Z"
   },
   {
    "duration": 10,
    "start_time": "2022-05-13T19:41:53.206Z"
   },
   {
    "duration": 1469,
    "start_time": "2022-05-13T19:41:58.746Z"
   },
   {
    "duration": 738,
    "start_time": "2022-05-13T19:42:00.217Z"
   },
   {
    "duration": 4,
    "start_time": "2022-05-13T19:42:00.957Z"
   },
   {
    "duration": 50,
    "start_time": "2022-05-13T19:42:00.963Z"
   },
   {
    "duration": 146,
    "start_time": "2022-05-13T19:42:01.015Z"
   },
   {
    "duration": 15,
    "start_time": "2022-05-13T19:42:01.163Z"
   },
   {
    "duration": 265,
    "start_time": "2022-05-13T19:42:01.179Z"
   },
   {
    "duration": 19,
    "start_time": "2022-05-13T19:42:01.445Z"
   },
   {
    "duration": 31,
    "start_time": "2022-05-13T19:42:01.465Z"
   },
   {
    "duration": 16,
    "start_time": "2022-05-13T19:42:01.507Z"
   },
   {
    "duration": 132,
    "start_time": "2022-05-13T19:42:01.525Z"
   },
   {
    "duration": 21,
    "start_time": "2022-05-13T19:42:01.659Z"
   },
   {
    "duration": 131,
    "start_time": "2022-05-13T19:42:01.681Z"
   },
   {
    "duration": 13,
    "start_time": "2022-05-13T19:42:01.820Z"
   },
   {
    "duration": 268,
    "start_time": "2022-05-13T19:42:01.835Z"
   },
   {
    "duration": 18,
    "start_time": "2022-05-13T19:42:02.105Z"
   },
   {
    "duration": 39,
    "start_time": "2022-05-13T19:42:02.125Z"
   },
   {
    "duration": 104,
    "start_time": "2022-05-13T19:42:02.165Z"
   },
   {
    "duration": 247,
    "start_time": "2022-05-13T19:42:02.271Z"
   },
   {
    "duration": 18,
    "start_time": "2022-05-13T19:42:02.521Z"
   },
   {
    "duration": 16,
    "start_time": "2022-05-13T19:42:02.541Z"
   },
   {
    "duration": 4,
    "start_time": "2022-05-13T19:42:02.558Z"
   },
   {
    "duration": 355,
    "start_time": "2022-05-13T19:42:02.563Z"
   },
   {
    "duration": 13,
    "start_time": "2022-05-13T19:42:02.921Z"
   },
   {
    "duration": 11,
    "start_time": "2022-05-13T19:42:02.936Z"
   },
   {
    "duration": 8,
    "start_time": "2022-05-13T19:42:02.949Z"
   },
   {
    "duration": 12,
    "start_time": "2022-05-13T19:42:02.959Z"
   },
   {
    "duration": 3696,
    "start_time": "2022-05-13T19:42:02.975Z"
   },
   {
    "duration": 465,
    "start_time": "2022-05-13T19:42:06.673Z"
   },
   {
    "duration": 4,
    "start_time": "2022-05-13T19:42:07.140Z"
   },
   {
    "duration": 35,
    "start_time": "2022-05-13T19:42:07.146Z"
   },
   {
    "duration": 645,
    "start_time": "2022-05-13T19:42:07.182Z"
   },
   {
    "duration": 5,
    "start_time": "2022-05-13T19:42:07.828Z"
   },
   {
    "duration": 8,
    "start_time": "2022-05-13T19:42:07.834Z"
   },
   {
    "duration": 9,
    "start_time": "2022-05-13T19:42:07.844Z"
   },
   {
    "duration": 1960,
    "start_time": "2022-05-13T19:42:07.854Z"
   },
   {
    "duration": 32265,
    "start_time": "2022-05-13T19:42:09.818Z"
   },
   {
    "duration": 4863,
    "start_time": "2022-05-13T19:42:42.085Z"
   },
   {
    "duration": 57,
    "start_time": "2022-05-13T19:42:46.950Z"
   },
   {
    "duration": 16,
    "start_time": "2022-05-13T19:42:47.009Z"
   },
   {
    "duration": 11,
    "start_time": "2022-05-13T19:42:47.112Z"
   },
   {
    "duration": 73,
    "start_time": "2022-05-13T23:31:37.323Z"
   },
   {
    "duration": 82,
    "start_time": "2022-05-13T23:32:38.425Z"
   },
   {
    "duration": 22,
    "start_time": "2022-05-13T23:38:08.603Z"
   },
   {
    "duration": 9,
    "start_time": "2022-05-13T23:38:10.085Z"
   },
   {
    "duration": 8,
    "start_time": "2022-05-13T23:38:10.851Z"
   },
   {
    "duration": 89,
    "start_time": "2022-05-13T23:38:15.312Z"
   },
   {
    "duration": 5,
    "start_time": "2022-05-13T23:38:21.359Z"
   },
   {
    "duration": 8,
    "start_time": "2022-05-13T23:39:21.325Z"
   },
   {
    "duration": 8,
    "start_time": "2022-05-13T23:39:22.390Z"
   },
   {
    "duration": 9,
    "start_time": "2022-05-13T23:44:24.824Z"
   },
   {
    "duration": 8,
    "start_time": "2022-05-13T23:47:35.674Z"
   },
   {
    "duration": 91,
    "start_time": "2022-05-14T00:00:25.459Z"
   },
   {
    "duration": 79,
    "start_time": "2022-05-14T00:02:26.481Z"
   },
   {
    "duration": 1468,
    "start_time": "2022-05-14T00:22:33.202Z"
   },
   {
    "duration": 703,
    "start_time": "2022-05-14T00:22:34.672Z"
   },
   {
    "duration": 4,
    "start_time": "2022-05-14T00:22:35.376Z"
   },
   {
    "duration": 37,
    "start_time": "2022-05-14T00:22:35.382Z"
   },
   {
    "duration": 141,
    "start_time": "2022-05-14T00:22:35.420Z"
   },
   {
    "duration": 14,
    "start_time": "2022-05-14T00:22:35.563Z"
   },
   {
    "duration": 251,
    "start_time": "2022-05-14T00:22:35.578Z"
   },
   {
    "duration": 22,
    "start_time": "2022-05-14T00:22:35.831Z"
   },
   {
    "duration": 29,
    "start_time": "2022-05-14T00:22:35.855Z"
   },
   {
    "duration": 9,
    "start_time": "2022-05-14T00:22:35.908Z"
   },
   {
    "duration": 131,
    "start_time": "2022-05-14T00:22:35.919Z"
   },
   {
    "duration": 21,
    "start_time": "2022-05-14T00:22:36.052Z"
   },
   {
    "duration": 125,
    "start_time": "2022-05-14T00:22:36.075Z"
   },
   {
    "duration": 14,
    "start_time": "2022-05-14T00:22:36.202Z"
   },
   {
    "duration": 258,
    "start_time": "2022-05-14T00:22:36.217Z"
   },
   {
    "duration": 12,
    "start_time": "2022-05-14T00:22:36.476Z"
   },
   {
    "duration": 45,
    "start_time": "2022-05-14T00:22:36.490Z"
   },
   {
    "duration": 91,
    "start_time": "2022-05-14T00:22:36.537Z"
   },
   {
    "duration": 245,
    "start_time": "2022-05-14T00:22:36.630Z"
   },
   {
    "duration": 20,
    "start_time": "2022-05-14T00:22:36.877Z"
   },
   {
    "duration": 20,
    "start_time": "2022-05-14T00:22:36.898Z"
   },
   {
    "duration": 4,
    "start_time": "2022-05-14T00:22:36.920Z"
   },
   {
    "duration": 320,
    "start_time": "2022-05-14T00:22:36.925Z"
   },
   {
    "duration": 10,
    "start_time": "2022-05-14T00:22:37.247Z"
   },
   {
    "duration": 10,
    "start_time": "2022-05-14T00:22:37.259Z"
   },
   {
    "duration": 6,
    "start_time": "2022-05-14T00:22:37.271Z"
   },
   {
    "duration": 31,
    "start_time": "2022-05-14T00:22:37.278Z"
   },
   {
    "duration": 3637,
    "start_time": "2022-05-14T00:22:37.313Z"
   },
   {
    "duration": 469,
    "start_time": "2022-05-14T00:22:40.952Z"
   },
   {
    "duration": 5,
    "start_time": "2022-05-14T00:22:41.423Z"
   },
   {
    "duration": 31,
    "start_time": "2022-05-14T00:22:41.430Z"
   },
   {
    "duration": 605,
    "start_time": "2022-05-14T00:22:41.462Z"
   },
   {
    "duration": 5,
    "start_time": "2022-05-14T00:22:42.068Z"
   },
   {
    "duration": 7,
    "start_time": "2022-05-14T00:22:42.075Z"
   },
   {
    "duration": 8,
    "start_time": "2022-05-14T00:22:42.084Z"
   },
   {
    "duration": 1315,
    "start_time": "2022-05-14T00:22:42.094Z"
   },
   {
    "duration": 31842,
    "start_time": "2022-05-14T00:22:43.412Z"
   },
   {
    "duration": 4921,
    "start_time": "2022-05-14T00:23:15.256Z"
   },
   {
    "duration": 99,
    "start_time": "2022-05-14T00:23:20.179Z"
   },
   {
    "duration": 40,
    "start_time": "2022-05-14T00:23:20.279Z"
   },
   {
    "duration": 101,
    "start_time": "2022-05-14T00:23:20.409Z"
   },
   {
    "duration": 5,
    "start_time": "2022-05-14T00:23:20.511Z"
   },
   {
    "duration": 10,
    "start_time": "2022-05-14T00:23:20.518Z"
   },
   {
    "duration": 78,
    "start_time": "2022-05-14T00:25:51.500Z"
   },
   {
    "duration": 86,
    "start_time": "2022-05-14T00:26:31.054Z"
   },
   {
    "duration": 91,
    "start_time": "2022-05-14T00:27:23.114Z"
   },
   {
    "duration": 84,
    "start_time": "2022-05-14T00:27:55.257Z"
   },
   {
    "duration": 28,
    "start_time": "2022-05-14T00:28:08.655Z"
   },
   {
    "duration": 8,
    "start_time": "2022-05-14T00:28:11.106Z"
   },
   {
    "duration": 6,
    "start_time": "2022-05-14T00:28:11.637Z"
   },
   {
    "duration": 9,
    "start_time": "2022-05-14T00:28:11.965Z"
   },
   {
    "duration": 17,
    "start_time": "2022-05-14T00:32:35.573Z"
   },
   {
    "duration": 8,
    "start_time": "2022-05-14T00:32:37.140Z"
   },
   {
    "duration": 9,
    "start_time": "2022-05-14T00:32:37.292Z"
   },
   {
    "duration": 4,
    "start_time": "2022-05-14T00:32:37.508Z"
   },
   {
    "duration": 8,
    "start_time": "2022-05-14T00:32:37.634Z"
   },
   {
    "duration": 1429,
    "start_time": "2022-05-14T00:33:31.481Z"
   },
   {
    "duration": 678,
    "start_time": "2022-05-14T00:33:32.912Z"
   },
   {
    "duration": 4,
    "start_time": "2022-05-14T00:33:33.591Z"
   },
   {
    "duration": 33,
    "start_time": "2022-05-14T00:33:33.597Z"
   },
   {
    "duration": 144,
    "start_time": "2022-05-14T00:33:33.633Z"
   },
   {
    "duration": 13,
    "start_time": "2022-05-14T00:33:33.779Z"
   },
   {
    "duration": 229,
    "start_time": "2022-05-14T00:33:33.807Z"
   },
   {
    "duration": 19,
    "start_time": "2022-05-14T00:33:34.037Z"
   },
   {
    "duration": 31,
    "start_time": "2022-05-14T00:33:34.058Z"
   },
   {
    "duration": 24,
    "start_time": "2022-05-14T00:33:34.090Z"
   },
   {
    "duration": 133,
    "start_time": "2022-05-14T00:33:34.116Z"
   },
   {
    "duration": 18,
    "start_time": "2022-05-14T00:33:34.251Z"
   },
   {
    "duration": 127,
    "start_time": "2022-05-14T00:33:34.271Z"
   },
   {
    "duration": 14,
    "start_time": "2022-05-14T00:33:34.401Z"
   },
   {
    "duration": 255,
    "start_time": "2022-05-14T00:33:34.417Z"
   },
   {
    "duration": 13,
    "start_time": "2022-05-14T00:33:34.674Z"
   },
   {
    "duration": 47,
    "start_time": "2022-05-14T00:33:34.688Z"
   },
   {
    "duration": 84,
    "start_time": "2022-05-14T00:33:34.737Z"
   },
   {
    "duration": 247,
    "start_time": "2022-05-14T00:33:34.822Z"
   },
   {
    "duration": 19,
    "start_time": "2022-05-14T00:33:35.071Z"
   },
   {
    "duration": 27,
    "start_time": "2022-05-14T00:33:35.092Z"
   },
   {
    "duration": 3,
    "start_time": "2022-05-14T00:33:35.121Z"
   },
   {
    "duration": 313,
    "start_time": "2022-05-14T00:33:35.126Z"
   },
   {
    "duration": 12,
    "start_time": "2022-05-14T00:33:35.441Z"
   },
   {
    "duration": 10,
    "start_time": "2022-05-14T00:33:35.454Z"
   },
   {
    "duration": 7,
    "start_time": "2022-05-14T00:33:35.465Z"
   },
   {
    "duration": 35,
    "start_time": "2022-05-14T00:33:35.473Z"
   },
   {
    "duration": 3651,
    "start_time": "2022-05-14T00:33:35.510Z"
   },
   {
    "duration": 465,
    "start_time": "2022-05-14T00:33:39.163Z"
   },
   {
    "duration": 5,
    "start_time": "2022-05-14T00:33:39.630Z"
   },
   {
    "duration": 35,
    "start_time": "2022-05-14T00:33:39.636Z"
   },
   {
    "duration": 594,
    "start_time": "2022-05-14T00:33:39.672Z"
   },
   {
    "duration": 4,
    "start_time": "2022-05-14T00:33:40.268Z"
   },
   {
    "duration": 6,
    "start_time": "2022-05-14T00:33:40.274Z"
   },
   {
    "duration": 8,
    "start_time": "2022-05-14T00:33:40.281Z"
   },
   {
    "duration": 1318,
    "start_time": "2022-05-14T00:33:40.291Z"
   },
   {
    "duration": 30833,
    "start_time": "2022-05-14T00:33:41.612Z"
   },
   {
    "duration": 4994,
    "start_time": "2022-05-14T00:34:12.447Z"
   },
   {
    "duration": 98,
    "start_time": "2022-05-14T00:34:17.444Z"
   },
   {
    "duration": 14,
    "start_time": "2022-05-14T00:34:17.544Z"
   },
   {
    "duration": 8,
    "start_time": "2022-05-14T00:34:17.562Z"
   },
   {
    "duration": 42,
    "start_time": "2022-05-14T00:34:17.571Z"
   },
   {
    "duration": 96,
    "start_time": "2022-05-14T00:34:17.616Z"
   },
   {
    "duration": 8,
    "start_time": "2022-05-14T00:34:17.715Z"
   },
   {
    "duration": 2453,
    "start_time": "2022-05-14T11:55:32.155Z"
   },
   {
    "duration": 803,
    "start_time": "2022-05-14T11:55:34.611Z"
   },
   {
    "duration": 5,
    "start_time": "2022-05-14T11:55:35.420Z"
   },
   {
    "duration": 55,
    "start_time": "2022-05-14T11:55:35.428Z"
   },
   {
    "duration": 231,
    "start_time": "2022-05-14T11:55:35.485Z"
   },
   {
    "duration": 23,
    "start_time": "2022-05-14T11:55:35.718Z"
   },
   {
    "duration": 343,
    "start_time": "2022-05-14T11:55:35.743Z"
   },
   {
    "duration": 32,
    "start_time": "2022-05-14T11:55:36.088Z"
   },
   {
    "duration": 80,
    "start_time": "2022-05-14T11:55:36.124Z"
   },
   {
    "duration": 14,
    "start_time": "2022-05-14T11:55:36.207Z"
   },
   {
    "duration": 214,
    "start_time": "2022-05-14T11:55:36.224Z"
   },
   {
    "duration": 39,
    "start_time": "2022-05-14T11:55:36.441Z"
   },
   {
    "duration": 198,
    "start_time": "2022-05-14T11:55:36.483Z"
   },
   {
    "duration": 18,
    "start_time": "2022-05-14T11:55:36.684Z"
   },
   {
    "duration": 352,
    "start_time": "2022-05-14T11:55:36.704Z"
   },
   {
    "duration": 25,
    "start_time": "2022-05-14T11:55:37.058Z"
   },
   {
    "duration": 57,
    "start_time": "2022-05-14T11:55:37.085Z"
   },
   {
    "duration": 148,
    "start_time": "2022-05-14T11:55:37.144Z"
   },
   {
    "duration": 279,
    "start_time": "2022-05-14T11:55:37.294Z"
   },
   {
    "duration": 27,
    "start_time": "2022-05-14T11:55:37.575Z"
   },
   {
    "duration": 20,
    "start_time": "2022-05-14T11:55:37.604Z"
   },
   {
    "duration": 5,
    "start_time": "2022-05-14T11:55:37.626Z"
   },
   {
    "duration": 525,
    "start_time": "2022-05-14T11:55:37.633Z"
   },
   {
    "duration": 27,
    "start_time": "2022-05-14T11:55:38.160Z"
   },
   {
    "duration": 19,
    "start_time": "2022-05-14T11:55:38.189Z"
   },
   {
    "duration": 9,
    "start_time": "2022-05-14T11:55:38.210Z"
   },
   {
    "duration": 16,
    "start_time": "2022-05-14T11:55:38.225Z"
   },
   {
    "duration": 4715,
    "start_time": "2022-05-14T11:55:38.243Z"
   },
   {
    "duration": 570,
    "start_time": "2022-05-14T11:55:42.961Z"
   },
   {
    "duration": 7,
    "start_time": "2022-05-14T11:55:43.533Z"
   },
   {
    "duration": 75,
    "start_time": "2022-05-14T11:55:43.542Z"
   },
   {
    "duration": 1004,
    "start_time": "2022-05-14T11:55:43.619Z"
   },
   {
    "duration": 7,
    "start_time": "2022-05-14T11:55:44.626Z"
   },
   {
    "duration": 17,
    "start_time": "2022-05-14T11:55:44.636Z"
   },
   {
    "duration": 1430,
    "start_time": "2022-05-14T11:55:44.656Z"
   },
   {
    "duration": 94,
    "start_time": "2022-05-14T11:55:46.090Z"
   },
   {
    "duration": 0,
    "start_time": "2022-05-14T11:55:46.187Z"
   },
   {
    "duration": 0,
    "start_time": "2022-05-14T11:55:46.189Z"
   },
   {
    "duration": 0,
    "start_time": "2022-05-14T11:55:46.191Z"
   },
   {
    "duration": 0,
    "start_time": "2022-05-14T11:55:46.193Z"
   },
   {
    "duration": 0,
    "start_time": "2022-05-14T11:55:46.194Z"
   },
   {
    "duration": 0,
    "start_time": "2022-05-14T11:55:46.196Z"
   },
   {
    "duration": 0,
    "start_time": "2022-05-14T11:55:46.198Z"
   },
   {
    "duration": 301,
    "start_time": "2022-05-14T11:55:59.508Z"
   },
   {
    "duration": 45,
    "start_time": "2022-05-14T11:59:49.722Z"
   },
   {
    "duration": 2165,
    "start_time": "2022-05-14T12:00:52.011Z"
   },
   {
    "duration": 0,
    "start_time": "2022-05-14T12:00:54.181Z"
   },
   {
    "duration": 0,
    "start_time": "2022-05-14T12:00:54.182Z"
   },
   {
    "duration": 0,
    "start_time": "2022-05-14T12:00:54.185Z"
   },
   {
    "duration": 0,
    "start_time": "2022-05-14T12:00:54.186Z"
   },
   {
    "duration": 0,
    "start_time": "2022-05-14T12:00:54.188Z"
   },
   {
    "duration": 0,
    "start_time": "2022-05-14T12:00:54.189Z"
   },
   {
    "duration": 0,
    "start_time": "2022-05-14T12:00:54.191Z"
   },
   {
    "duration": 0,
    "start_time": "2022-05-14T12:00:54.192Z"
   },
   {
    "duration": 0,
    "start_time": "2022-05-14T12:00:54.194Z"
   },
   {
    "duration": 0,
    "start_time": "2022-05-14T12:00:54.195Z"
   },
   {
    "duration": 1,
    "start_time": "2022-05-14T12:00:54.196Z"
   },
   {
    "duration": 0,
    "start_time": "2022-05-14T12:00:54.198Z"
   },
   {
    "duration": 0,
    "start_time": "2022-05-14T12:00:54.199Z"
   },
   {
    "duration": 0,
    "start_time": "2022-05-14T12:00:54.201Z"
   },
   {
    "duration": 0,
    "start_time": "2022-05-14T12:00:54.203Z"
   },
   {
    "duration": 0,
    "start_time": "2022-05-14T12:00:54.204Z"
   },
   {
    "duration": 0,
    "start_time": "2022-05-14T12:00:54.205Z"
   },
   {
    "duration": 0,
    "start_time": "2022-05-14T12:00:54.206Z"
   },
   {
    "duration": 0,
    "start_time": "2022-05-14T12:00:54.208Z"
   },
   {
    "duration": 0,
    "start_time": "2022-05-14T12:00:54.210Z"
   },
   {
    "duration": 0,
    "start_time": "2022-05-14T12:00:54.212Z"
   },
   {
    "duration": 0,
    "start_time": "2022-05-14T12:00:54.214Z"
   },
   {
    "duration": 0,
    "start_time": "2022-05-14T12:00:54.216Z"
   },
   {
    "duration": 0,
    "start_time": "2022-05-14T12:00:54.218Z"
   },
   {
    "duration": 0,
    "start_time": "2022-05-14T12:00:54.219Z"
   },
   {
    "duration": 0,
    "start_time": "2022-05-14T12:00:54.221Z"
   },
   {
    "duration": 0,
    "start_time": "2022-05-14T12:00:54.282Z"
   },
   {
    "duration": 0,
    "start_time": "2022-05-14T12:00:54.284Z"
   },
   {
    "duration": 0,
    "start_time": "2022-05-14T12:00:54.286Z"
   },
   {
    "duration": 0,
    "start_time": "2022-05-14T12:00:54.288Z"
   },
   {
    "duration": 0,
    "start_time": "2022-05-14T12:00:54.289Z"
   },
   {
    "duration": 0,
    "start_time": "2022-05-14T12:00:54.291Z"
   },
   {
    "duration": 0,
    "start_time": "2022-05-14T12:00:54.293Z"
   },
   {
    "duration": 0,
    "start_time": "2022-05-14T12:00:54.295Z"
   },
   {
    "duration": 0,
    "start_time": "2022-05-14T12:00:54.296Z"
   },
   {
    "duration": 0,
    "start_time": "2022-05-14T12:00:54.297Z"
   },
   {
    "duration": 0,
    "start_time": "2022-05-14T12:00:54.300Z"
   },
   {
    "duration": 0,
    "start_time": "2022-05-14T12:00:54.301Z"
   },
   {
    "duration": 0,
    "start_time": "2022-05-14T12:00:54.303Z"
   },
   {
    "duration": 0,
    "start_time": "2022-05-14T12:00:54.304Z"
   },
   {
    "duration": 0,
    "start_time": "2022-05-14T12:00:54.305Z"
   },
   {
    "duration": 0,
    "start_time": "2022-05-14T12:00:54.307Z"
   },
   {
    "duration": 0,
    "start_time": "2022-05-14T12:00:54.309Z"
   },
   {
    "duration": 19,
    "start_time": "2022-05-14T12:02:21.807Z"
   },
   {
    "duration": 2029,
    "start_time": "2022-05-14T12:02:32.766Z"
   },
   {
    "duration": 789,
    "start_time": "2022-05-14T12:02:34.798Z"
   },
   {
    "duration": 5,
    "start_time": "2022-05-14T12:02:35.589Z"
   },
   {
    "duration": 44,
    "start_time": "2022-05-14T12:02:35.597Z"
   },
   {
    "duration": 226,
    "start_time": "2022-05-14T12:02:35.643Z"
   },
   {
    "duration": 31,
    "start_time": "2022-05-14T12:02:35.872Z"
   },
   {
    "duration": 333,
    "start_time": "2022-05-14T12:02:35.905Z"
   },
   {
    "duration": 45,
    "start_time": "2022-05-14T12:02:36.241Z"
   },
   {
    "duration": 53,
    "start_time": "2022-05-14T12:02:36.288Z"
   },
   {
    "duration": 38,
    "start_time": "2022-05-14T12:02:36.347Z"
   },
   {
    "duration": 195,
    "start_time": "2022-05-14T12:02:36.387Z"
   },
   {
    "duration": 31,
    "start_time": "2022-05-14T12:02:36.584Z"
   },
   {
    "duration": 207,
    "start_time": "2022-05-14T12:02:36.616Z"
   },
   {
    "duration": 17,
    "start_time": "2022-05-14T12:02:36.825Z"
   },
   {
    "duration": 354,
    "start_time": "2022-05-14T12:02:36.844Z"
   },
   {
    "duration": 18,
    "start_time": "2022-05-14T12:02:37.200Z"
   },
   {
    "duration": 76,
    "start_time": "2022-05-14T12:02:37.220Z"
   },
   {
    "duration": 132,
    "start_time": "2022-05-14T12:02:37.299Z"
   },
   {
    "duration": 265,
    "start_time": "2022-05-14T12:02:37.433Z"
   },
   {
    "duration": 21,
    "start_time": "2022-05-14T12:02:37.701Z"
   },
   {
    "duration": 20,
    "start_time": "2022-05-14T12:02:37.724Z"
   },
   {
    "duration": 6,
    "start_time": "2022-05-14T12:02:37.746Z"
   },
   {
    "duration": 475,
    "start_time": "2022-05-14T12:02:37.781Z"
   },
   {
    "duration": 27,
    "start_time": "2022-05-14T12:02:38.258Z"
   },
   {
    "duration": 18,
    "start_time": "2022-05-14T12:02:38.287Z"
   },
   {
    "duration": 8,
    "start_time": "2022-05-14T12:02:38.307Z"
   },
   {
    "duration": 15,
    "start_time": "2022-05-14T12:02:38.317Z"
   },
   {
    "duration": 4619,
    "start_time": "2022-05-14T12:02:38.337Z"
   },
   {
    "duration": 562,
    "start_time": "2022-05-14T12:02:42.958Z"
   },
   {
    "duration": 7,
    "start_time": "2022-05-14T12:02:43.523Z"
   },
   {
    "duration": 65,
    "start_time": "2022-05-14T12:02:43.532Z"
   },
   {
    "duration": 1437,
    "start_time": "2022-05-14T12:02:43.599Z"
   },
   {
    "duration": 8,
    "start_time": "2022-05-14T12:02:45.039Z"
   },
   {
    "duration": 32,
    "start_time": "2022-05-14T12:02:45.050Z"
   },
   {
    "duration": 2398,
    "start_time": "2022-05-14T12:02:45.085Z"
   },
   {
    "duration": 181,
    "start_time": "2022-05-14T12:02:47.486Z"
   },
   {
    "duration": 0,
    "start_time": "2022-05-14T12:02:47.669Z"
   },
   {
    "duration": 0,
    "start_time": "2022-05-14T12:02:47.682Z"
   },
   {
    "duration": 0,
    "start_time": "2022-05-14T12:02:47.683Z"
   },
   {
    "duration": 0,
    "start_time": "2022-05-14T12:02:47.685Z"
   },
   {
    "duration": 0,
    "start_time": "2022-05-14T12:02:47.686Z"
   },
   {
    "duration": 0,
    "start_time": "2022-05-14T12:02:47.687Z"
   },
   {
    "duration": 0,
    "start_time": "2022-05-14T12:02:47.689Z"
   },
   {
    "duration": 0,
    "start_time": "2022-05-14T12:02:47.691Z"
   },
   {
    "duration": 2328,
    "start_time": "2022-05-14T12:04:36.875Z"
   },
   {
    "duration": 1222,
    "start_time": "2022-05-14T12:04:39.205Z"
   },
   {
    "duration": 7,
    "start_time": "2022-05-14T12:04:40.430Z"
   },
   {
    "duration": 70,
    "start_time": "2022-05-14T12:04:40.439Z"
   },
   {
    "duration": 290,
    "start_time": "2022-05-14T12:04:40.514Z"
   },
   {
    "duration": 27,
    "start_time": "2022-05-14T12:04:40.807Z"
   },
   {
    "duration": 463,
    "start_time": "2022-05-14T12:04:40.837Z"
   },
   {
    "duration": 43,
    "start_time": "2022-05-14T12:04:41.302Z"
   },
   {
    "duration": 92,
    "start_time": "2022-05-14T12:04:41.348Z"
   },
   {
    "duration": 18,
    "start_time": "2022-05-14T12:04:41.442Z"
   },
   {
    "duration": 261,
    "start_time": "2022-05-14T12:04:41.481Z"
   },
   {
    "duration": 49,
    "start_time": "2022-05-14T12:04:41.745Z"
   },
   {
    "duration": 257,
    "start_time": "2022-05-14T12:04:41.797Z"
   },
   {
    "duration": 37,
    "start_time": "2022-05-14T12:04:42.061Z"
   },
   {
    "duration": 483,
    "start_time": "2022-05-14T12:04:42.100Z"
   },
   {
    "duration": 31,
    "start_time": "2022-05-14T12:04:42.586Z"
   },
   {
    "duration": 98,
    "start_time": "2022-05-14T12:04:42.619Z"
   },
   {
    "duration": 144,
    "start_time": "2022-05-14T12:04:42.720Z"
   },
   {
    "duration": 284,
    "start_time": "2022-05-14T12:04:42.866Z"
   },
   {
    "duration": 40,
    "start_time": "2022-05-14T12:04:43.152Z"
   },
   {
    "duration": 22,
    "start_time": "2022-05-14T12:04:43.194Z"
   },
   {
    "duration": 6,
    "start_time": "2022-05-14T12:04:43.219Z"
   },
   {
    "duration": 524,
    "start_time": "2022-05-14T12:04:43.227Z"
   },
   {
    "duration": 29,
    "start_time": "2022-05-14T12:04:43.753Z"
   },
   {
    "duration": 18,
    "start_time": "2022-05-14T12:04:43.784Z"
   },
   {
    "duration": 9,
    "start_time": "2022-05-14T12:04:43.804Z"
   },
   {
    "duration": 15,
    "start_time": "2022-05-14T12:04:43.816Z"
   },
   {
    "duration": 4818,
    "start_time": "2022-05-14T12:04:43.833Z"
   },
   {
    "duration": 567,
    "start_time": "2022-05-14T12:04:48.653Z"
   },
   {
    "duration": 7,
    "start_time": "2022-05-14T12:04:49.222Z"
   },
   {
    "duration": 63,
    "start_time": "2022-05-14T12:04:49.232Z"
   },
   {
    "duration": 1054,
    "start_time": "2022-05-14T12:04:49.297Z"
   },
   {
    "duration": 7,
    "start_time": "2022-05-14T12:04:50.353Z"
   },
   {
    "duration": 23,
    "start_time": "2022-05-14T12:04:50.362Z"
   },
   {
    "duration": 1495,
    "start_time": "2022-05-14T12:04:50.387Z"
   },
   {
    "duration": 268,
    "start_time": "2022-05-14T12:04:51.885Z"
   },
   {
    "duration": 0,
    "start_time": "2022-05-14T12:04:52.155Z"
   },
   {
    "duration": 0,
    "start_time": "2022-05-14T12:04:52.157Z"
   },
   {
    "duration": 0,
    "start_time": "2022-05-14T12:04:52.159Z"
   },
   {
    "duration": 0,
    "start_time": "2022-05-14T12:04:52.161Z"
   },
   {
    "duration": 0,
    "start_time": "2022-05-14T12:04:52.162Z"
   },
   {
    "duration": 0,
    "start_time": "2022-05-14T12:04:52.182Z"
   },
   {
    "duration": 0,
    "start_time": "2022-05-14T12:04:52.184Z"
   },
   {
    "duration": 0,
    "start_time": "2022-05-14T12:04:52.186Z"
   },
   {
    "duration": 3896,
    "start_time": "2022-05-14T12:16:09.601Z"
   },
   {
    "duration": 4704,
    "start_time": "2022-05-14T12:17:26.221Z"
   },
   {
    "duration": 4400,
    "start_time": "2022-05-14T12:18:10.162Z"
   },
   {
    "duration": 108236,
    "start_time": "2022-05-14T12:20:29.238Z"
   },
   {
    "duration": 4530,
    "start_time": "2022-05-14T12:23:16.438Z"
   },
   {
    "duration": 33,
    "start_time": "2022-05-14T12:23:41.240Z"
   },
   {
    "duration": 13,
    "start_time": "2022-05-14T13:47:55.946Z"
   },
   {
    "duration": 15,
    "start_time": "2022-05-14T13:48:19.223Z"
   },
   {
    "duration": 14,
    "start_time": "2022-05-14T13:49:29.762Z"
   },
   {
    "duration": 14,
    "start_time": "2022-05-14T13:50:04.832Z"
   },
   {
    "duration": 16,
    "start_time": "2022-05-14T13:50:56.739Z"
   },
   {
    "duration": 15,
    "start_time": "2022-05-14T13:51:06.087Z"
   },
   {
    "duration": 15,
    "start_time": "2022-05-14T13:52:00.745Z"
   },
   {
    "duration": 16,
    "start_time": "2022-05-14T13:53:22.485Z"
   },
   {
    "duration": 28,
    "start_time": "2022-05-14T13:53:42.290Z"
   },
   {
    "duration": 15,
    "start_time": "2022-05-14T13:54:03.226Z"
   },
   {
    "duration": 26,
    "start_time": "2022-05-14T13:54:27.916Z"
   },
   {
    "duration": 40,
    "start_time": "2022-05-14T13:56:26.555Z"
   },
   {
    "duration": 57,
    "start_time": "2022-05-14T13:58:18.498Z"
   },
   {
    "duration": 38,
    "start_time": "2022-05-14T14:00:29.724Z"
   },
   {
    "duration": 37,
    "start_time": "2022-05-14T14:04:34.973Z"
   },
   {
    "duration": 2061,
    "start_time": "2022-05-14T14:04:55.431Z"
   },
   {
    "duration": 823,
    "start_time": "2022-05-14T14:04:57.495Z"
   },
   {
    "duration": 6,
    "start_time": "2022-05-14T14:04:58.320Z"
   },
   {
    "duration": 42,
    "start_time": "2022-05-14T14:04:58.329Z"
   },
   {
    "duration": 222,
    "start_time": "2022-05-14T14:04:58.382Z"
   },
   {
    "duration": 20,
    "start_time": "2022-05-14T14:04:58.606Z"
   },
   {
    "duration": 338,
    "start_time": "2022-05-14T14:04:58.628Z"
   },
   {
    "duration": 35,
    "start_time": "2022-05-14T14:04:58.968Z"
   },
   {
    "duration": 59,
    "start_time": "2022-05-14T14:04:59.005Z"
   },
   {
    "duration": 13,
    "start_time": "2022-05-14T14:04:59.081Z"
   },
   {
    "duration": 202,
    "start_time": "2022-05-14T14:04:59.096Z"
   },
   {
    "duration": 31,
    "start_time": "2022-05-14T14:04:59.300Z"
   },
   {
    "duration": 211,
    "start_time": "2022-05-14T14:04:59.333Z"
   },
   {
    "duration": 18,
    "start_time": "2022-05-14T14:04:59.546Z"
   },
   {
    "duration": 341,
    "start_time": "2022-05-14T14:04:59.581Z"
   },
   {
    "duration": 18,
    "start_time": "2022-05-14T14:04:59.924Z"
   },
   {
    "duration": 72,
    "start_time": "2022-05-14T14:04:59.944Z"
   },
   {
    "duration": 140,
    "start_time": "2022-05-14T14:05:00.018Z"
   },
   {
    "duration": 293,
    "start_time": "2022-05-14T14:05:00.160Z"
   },
   {
    "duration": 34,
    "start_time": "2022-05-14T14:05:00.455Z"
   },
   {
    "duration": 21,
    "start_time": "2022-05-14T14:05:00.492Z"
   },
   {
    "duration": 25,
    "start_time": "2022-05-14T14:05:00.515Z"
   },
   {
    "duration": 518,
    "start_time": "2022-05-14T14:05:00.542Z"
   },
   {
    "duration": 28,
    "start_time": "2022-05-14T14:05:01.063Z"
   },
   {
    "duration": 20,
    "start_time": "2022-05-14T14:05:01.093Z"
   },
   {
    "duration": 27,
    "start_time": "2022-05-14T14:05:01.116Z"
   },
   {
    "duration": 40,
    "start_time": "2022-05-14T14:05:01.146Z"
   },
   {
    "duration": 4646,
    "start_time": "2022-05-14T14:05:01.194Z"
   },
   {
    "duration": 563,
    "start_time": "2022-05-14T14:05:05.842Z"
   },
   {
    "duration": 6,
    "start_time": "2022-05-14T14:05:06.408Z"
   },
   {
    "duration": 66,
    "start_time": "2022-05-14T14:05:06.416Z"
   },
   {
    "duration": 1175,
    "start_time": "2022-05-14T14:05:06.484Z"
   },
   {
    "duration": 6,
    "start_time": "2022-05-14T14:05:07.662Z"
   },
   {
    "duration": 10,
    "start_time": "2022-05-14T14:05:07.682Z"
   },
   {
    "duration": 1400,
    "start_time": "2022-05-14T14:05:07.694Z"
   },
   {
    "duration": 248,
    "start_time": "2022-05-14T14:05:09.183Z"
   },
   {
    "duration": 0,
    "start_time": "2022-05-14T14:05:09.433Z"
   },
   {
    "duration": 0,
    "start_time": "2022-05-14T14:05:09.435Z"
   },
   {
    "duration": 0,
    "start_time": "2022-05-14T14:05:09.436Z"
   },
   {
    "duration": 0,
    "start_time": "2022-05-14T14:05:09.438Z"
   },
   {
    "duration": 0,
    "start_time": "2022-05-14T14:05:09.439Z"
   },
   {
    "duration": 0,
    "start_time": "2022-05-14T14:05:09.440Z"
   },
   {
    "duration": 0,
    "start_time": "2022-05-14T14:05:09.442Z"
   },
   {
    "duration": 0,
    "start_time": "2022-05-14T14:05:09.443Z"
   },
   {
    "duration": 0,
    "start_time": "2022-05-14T14:05:09.445Z"
   },
   {
    "duration": 0,
    "start_time": "2022-05-14T14:05:09.446Z"
   },
   {
    "duration": 42,
    "start_time": "2022-05-14T14:06:40.770Z"
   },
   {
    "duration": 38,
    "start_time": "2022-05-14T14:08:57.260Z"
   },
   {
    "duration": 37,
    "start_time": "2022-05-14T14:09:10.565Z"
   },
   {
    "duration": 40,
    "start_time": "2022-05-14T14:09:16.194Z"
   },
   {
    "duration": 41,
    "start_time": "2022-05-14T14:10:43.117Z"
   },
   {
    "duration": 39,
    "start_time": "2022-05-14T14:11:05.728Z"
   },
   {
    "duration": 29,
    "start_time": "2022-05-14T14:13:51.637Z"
   },
   {
    "duration": 40,
    "start_time": "2022-05-14T14:14:37.755Z"
   },
   {
    "duration": 38,
    "start_time": "2022-05-14T14:15:57.308Z"
   },
   {
    "duration": 44,
    "start_time": "2022-05-14T14:16:12.702Z"
   },
   {
    "duration": 39,
    "start_time": "2022-05-14T14:39:14.768Z"
   },
   {
    "duration": 54,
    "start_time": "2022-05-14T14:39:35.942Z"
   },
   {
    "duration": 2386,
    "start_time": "2022-05-14T14:39:45.553Z"
   },
   {
    "duration": 1458,
    "start_time": "2022-05-14T14:39:47.942Z"
   },
   {
    "duration": 6,
    "start_time": "2022-05-14T14:39:49.403Z"
   },
   {
    "duration": 98,
    "start_time": "2022-05-14T14:39:49.412Z"
   },
   {
    "duration": 515,
    "start_time": "2022-05-14T14:39:49.512Z"
   },
   {
    "duration": 22,
    "start_time": "2022-05-14T14:39:50.082Z"
   },
   {
    "duration": 711,
    "start_time": "2022-05-14T14:39:50.107Z"
   },
   {
    "duration": 92,
    "start_time": "2022-05-14T14:39:50.821Z"
   },
   {
    "duration": 180,
    "start_time": "2022-05-14T14:39:50.916Z"
   },
   {
    "duration": 13,
    "start_time": "2022-05-14T14:39:51.100Z"
   },
   {
    "duration": 406,
    "start_time": "2022-05-14T14:39:51.116Z"
   },
   {
    "duration": 84,
    "start_time": "2022-05-14T14:39:51.524Z"
   },
   {
    "duration": 254,
    "start_time": "2022-05-14T14:39:51.610Z"
   },
   {
    "duration": 32,
    "start_time": "2022-05-14T14:39:51.866Z"
   },
   {
    "duration": 355,
    "start_time": "2022-05-14T14:39:51.901Z"
   },
   {
    "duration": 28,
    "start_time": "2022-05-14T14:39:52.258Z"
   },
   {
    "duration": 75,
    "start_time": "2022-05-14T14:39:52.288Z"
   },
   {
    "duration": 136,
    "start_time": "2022-05-14T14:39:52.365Z"
   },
   {
    "duration": 292,
    "start_time": "2022-05-14T14:39:52.504Z"
   },
   {
    "duration": 33,
    "start_time": "2022-05-14T14:39:52.798Z"
   },
   {
    "duration": 50,
    "start_time": "2022-05-14T14:39:52.833Z"
   },
   {
    "duration": 5,
    "start_time": "2022-05-14T14:39:52.886Z"
   },
   {
    "duration": 623,
    "start_time": "2022-05-14T14:39:52.893Z"
   },
   {
    "duration": 19,
    "start_time": "2022-05-14T14:39:53.518Z"
   },
   {
    "duration": 44,
    "start_time": "2022-05-14T14:39:53.539Z"
   },
   {
    "duration": 10,
    "start_time": "2022-05-14T14:39:53.585Z"
   },
   {
    "duration": 17,
    "start_time": "2022-05-14T14:39:53.597Z"
   },
   {
    "duration": 4636,
    "start_time": "2022-05-14T14:39:53.620Z"
   },
   {
    "duration": 664,
    "start_time": "2022-05-14T14:39:58.259Z"
   },
   {
    "duration": 8,
    "start_time": "2022-05-14T14:39:58.925Z"
   },
   {
    "duration": 69,
    "start_time": "2022-05-14T14:39:58.935Z"
   },
   {
    "duration": 980,
    "start_time": "2022-05-14T14:39:59.006Z"
   },
   {
    "duration": 6,
    "start_time": "2022-05-14T14:39:59.989Z"
   },
   {
    "duration": 19,
    "start_time": "2022-05-14T14:39:59.997Z"
   },
   {
    "duration": 1369,
    "start_time": "2022-05-14T14:40:00.019Z"
   },
   {
    "duration": 0,
    "start_time": "2022-05-14T14:47:18.842Z"
   },
   {
    "duration": 1,
    "start_time": "2022-05-14T14:47:18.843Z"
   },
   {
    "duration": 0,
    "start_time": "2022-05-14T14:47:18.845Z"
   },
   {
    "duration": 0,
    "start_time": "2022-05-14T14:47:18.847Z"
   },
   {
    "duration": 0,
    "start_time": "2022-05-14T14:47:18.849Z"
   },
   {
    "duration": 0,
    "start_time": "2022-05-14T14:47:18.850Z"
   },
   {
    "duration": 0,
    "start_time": "2022-05-14T14:47:18.853Z"
   },
   {
    "duration": 0,
    "start_time": "2022-05-14T14:47:18.882Z"
   },
   {
    "duration": 0,
    "start_time": "2022-05-14T14:47:18.883Z"
   },
   {
    "duration": 0,
    "start_time": "2022-05-14T14:47:18.885Z"
   },
   {
    "duration": 0,
    "start_time": "2022-05-14T14:47:18.887Z"
   },
   {
    "duration": 115124,
    "start_time": "2022-05-14T14:48:01.882Z"
   },
   {
    "duration": 0,
    "start_time": "2022-05-14T14:56:49.940Z"
   },
   {
    "duration": 106829,
    "start_time": "2022-05-14T14:57:24.135Z"
   },
   {
    "duration": 111430,
    "start_time": "2022-05-14T14:59:47.928Z"
   },
   {
    "duration": 33,
    "start_time": "2022-05-14T15:02:43.214Z"
   },
   {
    "duration": 33,
    "start_time": "2022-05-14T15:02:58.527Z"
   },
   {
    "duration": 105439,
    "start_time": "2022-05-14T15:03:21.457Z"
   },
   {
    "duration": 34,
    "start_time": "2022-05-14T15:08:53.560Z"
   },
   {
    "duration": 97655,
    "start_time": "2022-05-14T15:09:55.775Z"
   },
   {
    "duration": 96821,
    "start_time": "2022-05-14T15:11:52.165Z"
   },
   {
    "duration": 36,
    "start_time": "2022-05-14T15:14:04.987Z"
   },
   {
    "duration": 36,
    "start_time": "2022-05-14T15:15:00.342Z"
   },
   {
    "duration": 164,
    "start_time": "2022-05-14T15:15:13.302Z"
   },
   {
    "duration": 36,
    "start_time": "2022-05-14T15:15:23.358Z"
   },
   {
    "duration": 34,
    "start_time": "2022-05-14T15:16:11.438Z"
   },
   {
    "duration": 36,
    "start_time": "2022-05-14T15:16:32.525Z"
   },
   {
    "duration": 4519,
    "start_time": "2022-05-14T15:16:47.846Z"
   },
   {
    "duration": 2058,
    "start_time": "2022-05-14T15:24:42.847Z"
   },
   {
    "duration": 856,
    "start_time": "2022-05-14T15:24:44.908Z"
   },
   {
    "duration": 6,
    "start_time": "2022-05-14T15:24:45.766Z"
   },
   {
    "duration": 47,
    "start_time": "2022-05-14T15:24:45.781Z"
   },
   {
    "duration": 223,
    "start_time": "2022-05-14T15:24:45.831Z"
   },
   {
    "duration": 38,
    "start_time": "2022-05-14T15:24:46.057Z"
   },
   {
    "duration": 432,
    "start_time": "2022-05-14T15:24:46.097Z"
   },
   {
    "duration": 30,
    "start_time": "2022-05-14T15:24:46.531Z"
   },
   {
    "duration": 51,
    "start_time": "2022-05-14T15:24:46.581Z"
   },
   {
    "duration": 14,
    "start_time": "2022-05-14T15:24:46.634Z"
   },
   {
    "duration": 215,
    "start_time": "2022-05-14T15:24:46.650Z"
   },
   {
    "duration": 36,
    "start_time": "2022-05-14T15:24:46.867Z"
   },
   {
    "duration": 205,
    "start_time": "2022-05-14T15:24:46.905Z"
   },
   {
    "duration": 19,
    "start_time": "2022-05-14T15:24:47.115Z"
   },
   {
    "duration": 371,
    "start_time": "2022-05-14T15:24:47.137Z"
   },
   {
    "duration": 20,
    "start_time": "2022-05-14T15:24:47.510Z"
   },
   {
    "duration": 78,
    "start_time": "2022-05-14T15:24:47.532Z"
   },
   {
    "duration": 140,
    "start_time": "2022-05-14T15:24:47.612Z"
   },
   {
    "duration": 266,
    "start_time": "2022-05-14T15:24:47.755Z"
   },
   {
    "duration": 22,
    "start_time": "2022-05-14T15:24:48.024Z"
   },
   {
    "duration": 41,
    "start_time": "2022-05-14T15:24:48.048Z"
   },
   {
    "duration": 6,
    "start_time": "2022-05-14T15:24:48.091Z"
   },
   {
    "duration": 505,
    "start_time": "2022-05-14T15:24:48.099Z"
   },
   {
    "duration": 19,
    "start_time": "2022-05-14T15:24:48.606Z"
   },
   {
    "duration": 19,
    "start_time": "2022-05-14T15:24:48.628Z"
   },
   {
    "duration": 34,
    "start_time": "2022-05-14T15:24:48.649Z"
   },
   {
    "duration": 15,
    "start_time": "2022-05-14T15:24:48.686Z"
   },
   {
    "duration": 4651,
    "start_time": "2022-05-14T15:24:48.703Z"
   },
   {
    "duration": 564,
    "start_time": "2022-05-14T15:24:53.357Z"
   },
   {
    "duration": 7,
    "start_time": "2022-05-14T15:24:53.923Z"
   },
   {
    "duration": 71,
    "start_time": "2022-05-14T15:24:53.932Z"
   },
   {
    "duration": 960,
    "start_time": "2022-05-14T15:24:54.006Z"
   },
   {
    "duration": 14,
    "start_time": "2022-05-14T15:24:54.968Z"
   },
   {
    "duration": 15,
    "start_time": "2022-05-14T15:24:54.984Z"
   },
   {
    "duration": 1384,
    "start_time": "2022-05-14T15:24:55.001Z"
   },
   {
    "duration": 59315,
    "start_time": "2022-05-14T15:24:56.388Z"
   },
   {
    "duration": 0,
    "start_time": "2022-05-14T15:25:55.706Z"
   },
   {
    "duration": 0,
    "start_time": "2022-05-14T15:25:55.709Z"
   },
   {
    "duration": 0,
    "start_time": "2022-05-14T15:25:55.711Z"
   },
   {
    "duration": 0,
    "start_time": "2022-05-14T15:25:55.713Z"
   },
   {
    "duration": 0,
    "start_time": "2022-05-14T15:25:55.715Z"
   },
   {
    "duration": 0,
    "start_time": "2022-05-14T15:25:55.717Z"
   },
   {
    "duration": 0,
    "start_time": "2022-05-14T15:25:55.720Z"
   },
   {
    "duration": 0,
    "start_time": "2022-05-14T15:25:55.722Z"
   },
   {
    "duration": 0,
    "start_time": "2022-05-14T15:25:55.724Z"
   },
   {
    "duration": 2031,
    "start_time": "2022-05-14T15:31:32.979Z"
   },
   {
    "duration": 871,
    "start_time": "2022-05-14T15:31:35.013Z"
   },
   {
    "duration": 5,
    "start_time": "2022-05-14T15:31:35.886Z"
   },
   {
    "duration": 46,
    "start_time": "2022-05-14T15:31:35.894Z"
   },
   {
    "duration": 239,
    "start_time": "2022-05-14T15:31:35.942Z"
   },
   {
    "duration": 21,
    "start_time": "2022-05-14T15:31:36.184Z"
   },
   {
    "duration": 346,
    "start_time": "2022-05-14T15:31:36.207Z"
   },
   {
    "duration": 38,
    "start_time": "2022-05-14T15:31:36.555Z"
   },
   {
    "duration": 49,
    "start_time": "2022-05-14T15:31:36.595Z"
   },
   {
    "duration": 38,
    "start_time": "2022-05-14T15:31:36.647Z"
   },
   {
    "duration": 192,
    "start_time": "2022-05-14T15:31:36.687Z"
   },
   {
    "duration": 30,
    "start_time": "2022-05-14T15:31:36.882Z"
   },
   {
    "duration": 212,
    "start_time": "2022-05-14T15:31:36.914Z"
   },
   {
    "duration": 20,
    "start_time": "2022-05-14T15:31:37.128Z"
   },
   {
    "duration": 366,
    "start_time": "2022-05-14T15:31:37.150Z"
   },
   {
    "duration": 19,
    "start_time": "2022-05-14T15:31:37.518Z"
   },
   {
    "duration": 74,
    "start_time": "2022-05-14T15:31:37.539Z"
   },
   {
    "duration": 146,
    "start_time": "2022-05-14T15:31:37.615Z"
   },
   {
    "duration": 282,
    "start_time": "2022-05-14T15:31:37.763Z"
   },
   {
    "duration": 22,
    "start_time": "2022-05-14T15:31:38.047Z"
   },
   {
    "duration": 22,
    "start_time": "2022-05-14T15:31:38.081Z"
   },
   {
    "duration": 6,
    "start_time": "2022-05-14T15:31:38.105Z"
   },
   {
    "duration": 522,
    "start_time": "2022-05-14T15:31:38.113Z"
   },
   {
    "duration": 20,
    "start_time": "2022-05-14T15:31:38.637Z"
   },
   {
    "duration": 35,
    "start_time": "2022-05-14T15:31:38.659Z"
   },
   {
    "duration": 9,
    "start_time": "2022-05-14T15:31:38.696Z"
   },
   {
    "duration": 17,
    "start_time": "2022-05-14T15:31:38.707Z"
   },
   {
    "duration": 5371,
    "start_time": "2022-05-14T15:31:38.729Z"
   },
   {
    "duration": 926,
    "start_time": "2022-05-14T15:31:44.102Z"
   },
   {
    "duration": 6,
    "start_time": "2022-05-14T15:31:45.030Z"
   },
   {
    "duration": 86,
    "start_time": "2022-05-14T15:31:45.038Z"
   },
   {
    "duration": 1001,
    "start_time": "2022-05-14T15:31:45.127Z"
   },
   {
    "duration": 7,
    "start_time": "2022-05-14T15:31:46.130Z"
   },
   {
    "duration": 14,
    "start_time": "2022-05-14T15:31:46.139Z"
   },
   {
    "duration": 1526,
    "start_time": "2022-05-14T15:31:46.156Z"
   },
   {
    "duration": 133,
    "start_time": "2022-05-14T15:31:47.685Z"
   },
   {
    "duration": 0,
    "start_time": "2022-05-14T15:31:47.820Z"
   },
   {
    "duration": 0,
    "start_time": "2022-05-14T15:31:47.822Z"
   },
   {
    "duration": 0,
    "start_time": "2022-05-14T15:31:47.824Z"
   },
   {
    "duration": 0,
    "start_time": "2022-05-14T15:31:47.825Z"
   },
   {
    "duration": 0,
    "start_time": "2022-05-14T15:31:47.827Z"
   },
   {
    "duration": 0,
    "start_time": "2022-05-14T15:31:47.828Z"
   },
   {
    "duration": 0,
    "start_time": "2022-05-14T15:31:47.829Z"
   },
   {
    "duration": 0,
    "start_time": "2022-05-14T15:31:47.831Z"
   },
   {
    "duration": 0,
    "start_time": "2022-05-14T15:31:47.832Z"
   },
   {
    "duration": 97821,
    "start_time": "2022-05-14T15:32:02.407Z"
   },
   {
    "duration": 10223,
    "start_time": "2022-05-14T15:35:31.081Z"
   },
   {
    "duration": 14121,
    "start_time": "2022-05-14T15:37:55.584Z"
   },
   {
    "duration": 13415,
    "start_time": "2022-05-14T15:40:38.833Z"
   },
   {
    "duration": 13445,
    "start_time": "2022-05-14T15:41:15.009Z"
   },
   {
    "duration": 26599,
    "start_time": "2022-05-14T15:41:57.850Z"
   },
   {
    "duration": 26432,
    "start_time": "2022-05-14T15:42:27.328Z"
   },
   {
    "duration": 12948,
    "start_time": "2022-05-14T15:44:45.033Z"
   },
   {
    "duration": 93457,
    "start_time": "2022-05-14T15:47:55.555Z"
   },
   {
    "duration": 2431,
    "start_time": "2022-05-14T15:54:44.673Z"
   },
   {
    "duration": 877,
    "start_time": "2022-05-14T15:54:47.107Z"
   },
   {
    "duration": 5,
    "start_time": "2022-05-14T15:54:47.987Z"
   },
   {
    "duration": 44,
    "start_time": "2022-05-14T15:54:47.994Z"
   },
   {
    "duration": 234,
    "start_time": "2022-05-14T15:54:48.041Z"
   },
   {
    "duration": 21,
    "start_time": "2022-05-14T15:54:48.282Z"
   },
   {
    "duration": 335,
    "start_time": "2022-05-14T15:54:48.305Z"
   },
   {
    "duration": 44,
    "start_time": "2022-05-14T15:54:48.642Z"
   },
   {
    "duration": 53,
    "start_time": "2022-05-14T15:54:48.688Z"
   },
   {
    "duration": 13,
    "start_time": "2022-05-14T15:54:48.743Z"
   },
   {
    "duration": 196,
    "start_time": "2022-05-14T15:54:48.782Z"
   },
   {
    "duration": 32,
    "start_time": "2022-05-14T15:54:48.980Z"
   },
   {
    "duration": 215,
    "start_time": "2022-05-14T15:54:49.014Z"
   },
   {
    "duration": 19,
    "start_time": "2022-05-14T15:54:49.234Z"
   },
   {
    "duration": 369,
    "start_time": "2022-05-14T15:54:49.255Z"
   },
   {
    "duration": 18,
    "start_time": "2022-05-14T15:54:49.627Z"
   },
   {
    "duration": 75,
    "start_time": "2022-05-14T15:54:49.647Z"
   },
   {
    "duration": 145,
    "start_time": "2022-05-14T15:54:49.724Z"
   },
   {
    "duration": 257,
    "start_time": "2022-05-14T15:54:49.881Z"
   },
   {
    "duration": 22,
    "start_time": "2022-05-14T15:54:50.140Z"
   },
   {
    "duration": 33,
    "start_time": "2022-05-14T15:54:50.164Z"
   },
   {
    "duration": 5,
    "start_time": "2022-05-14T15:54:50.200Z"
   },
   {
    "duration": 504,
    "start_time": "2022-05-14T15:54:50.207Z"
   },
   {
    "duration": 19,
    "start_time": "2022-05-14T15:54:50.713Z"
   },
   {
    "duration": 18,
    "start_time": "2022-05-14T15:54:50.735Z"
   },
   {
    "duration": 34,
    "start_time": "2022-05-14T15:54:50.755Z"
   },
   {
    "duration": 16,
    "start_time": "2022-05-14T15:54:50.791Z"
   },
   {
    "duration": 4638,
    "start_time": "2022-05-14T15:54:50.809Z"
   },
   {
    "duration": 565,
    "start_time": "2022-05-14T15:54:55.449Z"
   },
   {
    "duration": 6,
    "start_time": "2022-05-14T15:54:56.017Z"
   },
   {
    "duration": 66,
    "start_time": "2022-05-14T15:54:56.025Z"
   },
   {
    "duration": 1481,
    "start_time": "2022-05-14T15:54:56.094Z"
   },
   {
    "duration": 9,
    "start_time": "2022-05-14T15:54:57.578Z"
   },
   {
    "duration": 17,
    "start_time": "2022-05-14T15:54:57.590Z"
   },
   {
    "duration": 1373,
    "start_time": "2022-05-14T15:54:57.610Z"
   },
   {
    "duration": 132,
    "start_time": "2022-05-14T15:54:58.987Z"
   },
   {
    "duration": 1,
    "start_time": "2022-05-14T15:54:59.121Z"
   },
   {
    "duration": 0,
    "start_time": "2022-05-14T15:54:59.123Z"
   },
   {
    "duration": 0,
    "start_time": "2022-05-14T15:54:59.125Z"
   },
   {
    "duration": 0,
    "start_time": "2022-05-14T15:54:59.126Z"
   },
   {
    "duration": 0,
    "start_time": "2022-05-14T15:54:59.127Z"
   },
   {
    "duration": 0,
    "start_time": "2022-05-14T15:54:59.128Z"
   },
   {
    "duration": 0,
    "start_time": "2022-05-14T15:54:59.130Z"
   },
   {
    "duration": 0,
    "start_time": "2022-05-14T15:54:59.131Z"
   },
   {
    "duration": 0,
    "start_time": "2022-05-14T15:54:59.133Z"
   },
   {
    "duration": 0,
    "start_time": "2022-05-14T15:54:59.135Z"
   },
   {
    "duration": 92688,
    "start_time": "2022-05-14T15:56:37.663Z"
   },
   {
    "duration": 93491,
    "start_time": "2022-05-14T15:59:27.534Z"
   },
   {
    "duration": 13229,
    "start_time": "2022-05-14T16:07:48.172Z"
   },
   {
    "duration": 95013,
    "start_time": "2022-05-14T16:10:12.436Z"
   },
   {
    "duration": 127,
    "start_time": "2022-05-14T16:14:15.217Z"
   },
   {
    "duration": 95440,
    "start_time": "2022-05-14T16:15:33.653Z"
   },
   {
    "duration": 2024,
    "start_time": "2022-05-14T16:22:01.688Z"
   },
   {
    "duration": 846,
    "start_time": "2022-05-14T16:22:03.715Z"
   },
   {
    "duration": 5,
    "start_time": "2022-05-14T16:22:04.563Z"
   },
   {
    "duration": 48,
    "start_time": "2022-05-14T16:22:04.571Z"
   },
   {
    "duration": 228,
    "start_time": "2022-05-14T16:22:04.622Z"
   },
   {
    "duration": 34,
    "start_time": "2022-05-14T16:22:04.852Z"
   },
   {
    "duration": 328,
    "start_time": "2022-05-14T16:22:04.888Z"
   },
   {
    "duration": 31,
    "start_time": "2022-05-14T16:22:05.219Z"
   },
   {
    "duration": 68,
    "start_time": "2022-05-14T16:22:05.252Z"
   },
   {
    "duration": 14,
    "start_time": "2022-05-14T16:22:05.324Z"
   },
   {
    "duration": 208,
    "start_time": "2022-05-14T16:22:05.340Z"
   },
   {
    "duration": 39,
    "start_time": "2022-05-14T16:22:05.550Z"
   },
   {
    "duration": 213,
    "start_time": "2022-05-14T16:22:05.591Z"
   },
   {
    "duration": 20,
    "start_time": "2022-05-14T16:22:05.807Z"
   },
   {
    "duration": 372,
    "start_time": "2022-05-14T16:22:05.830Z"
   },
   {
    "duration": 19,
    "start_time": "2022-05-14T16:22:06.204Z"
   },
   {
    "duration": 81,
    "start_time": "2022-05-14T16:22:06.225Z"
   },
   {
    "duration": 142,
    "start_time": "2022-05-14T16:22:06.309Z"
   },
   {
    "duration": 257,
    "start_time": "2022-05-14T16:22:06.454Z"
   },
   {
    "duration": 21,
    "start_time": "2022-05-14T16:22:06.713Z"
   },
   {
    "duration": 45,
    "start_time": "2022-05-14T16:22:06.737Z"
   },
   {
    "duration": 6,
    "start_time": "2022-05-14T16:22:06.784Z"
   },
   {
    "duration": 490,
    "start_time": "2022-05-14T16:22:06.792Z"
   },
   {
    "duration": 19,
    "start_time": "2022-05-14T16:22:07.284Z"
   },
   {
    "duration": 18,
    "start_time": "2022-05-14T16:22:07.305Z"
   },
   {
    "duration": 8,
    "start_time": "2022-05-14T16:22:07.325Z"
   },
   {
    "duration": 48,
    "start_time": "2022-05-14T16:22:07.335Z"
   },
   {
    "duration": 4564,
    "start_time": "2022-05-14T16:22:07.388Z"
   },
   {
    "duration": 568,
    "start_time": "2022-05-14T16:22:11.954Z"
   },
   {
    "duration": 8,
    "start_time": "2022-05-14T16:22:12.524Z"
   },
   {
    "duration": 71,
    "start_time": "2022-05-14T16:22:12.534Z"
   },
   {
    "duration": 971,
    "start_time": "2022-05-14T16:22:12.607Z"
   },
   {
    "duration": 7,
    "start_time": "2022-05-14T16:22:13.582Z"
   },
   {
    "duration": 26,
    "start_time": "2022-05-14T16:22:13.591Z"
   },
   {
    "duration": 1666,
    "start_time": "2022-05-14T16:22:13.619Z"
   },
   {
    "duration": 94110,
    "start_time": "2022-05-14T16:22:15.289Z"
   },
   {
    "duration": 39783,
    "start_time": "2022-05-14T16:23:49.401Z"
   },
   {
    "duration": 6188,
    "start_time": "2022-05-14T16:24:29.186Z"
   },
   {
    "duration": 166,
    "start_time": "2022-05-14T16:24:35.381Z"
   },
   {
    "duration": 35,
    "start_time": "2022-05-14T16:24:35.549Z"
   },
   {
    "duration": 11,
    "start_time": "2022-05-14T16:24:35.586Z"
   },
   {
    "duration": 12,
    "start_time": "2022-05-14T16:24:35.599Z"
   },
   {
    "duration": 106,
    "start_time": "2022-05-14T16:24:35.685Z"
   },
   {
    "duration": 12,
    "start_time": "2022-05-14T16:24:35.793Z"
   },
   {
    "duration": 4955,
    "start_time": "2022-05-14T16:33:13.501Z"
   },
   {
    "duration": 161,
    "start_time": "2022-05-14T16:33:26.275Z"
   },
   {
    "duration": 22,
    "start_time": "2022-05-14T16:33:28.375Z"
   },
   {
    "duration": 11,
    "start_time": "2022-05-14T16:33:31.582Z"
   },
   {
    "duration": 12,
    "start_time": "2022-05-14T16:33:31.842Z"
   },
   {
    "duration": 7,
    "start_time": "2022-05-14T16:33:32.032Z"
   },
   {
    "duration": 12,
    "start_time": "2022-05-14T16:33:32.206Z"
   },
   {
    "duration": 2467,
    "start_time": "2022-05-14T16:33:44.598Z"
   },
   {
    "duration": 878,
    "start_time": "2022-05-14T16:33:47.068Z"
   },
   {
    "duration": 5,
    "start_time": "2022-05-14T16:33:47.949Z"
   },
   {
    "duration": 53,
    "start_time": "2022-05-14T16:33:47.957Z"
   },
   {
    "duration": 248,
    "start_time": "2022-05-14T16:33:48.013Z"
   },
   {
    "duration": 129,
    "start_time": "2022-05-14T16:33:48.264Z"
   },
   {
    "duration": 339,
    "start_time": "2022-05-14T16:33:48.395Z"
   },
   {
    "duration": 45,
    "start_time": "2022-05-14T16:33:48.736Z"
   },
   {
    "duration": 54,
    "start_time": "2022-05-14T16:33:48.783Z"
   },
   {
    "duration": 13,
    "start_time": "2022-05-14T16:33:48.841Z"
   },
   {
    "duration": 193,
    "start_time": "2022-05-14T16:33:48.881Z"
   },
   {
    "duration": 35,
    "start_time": "2022-05-14T16:33:49.076Z"
   },
   {
    "duration": 215,
    "start_time": "2022-05-14T16:33:49.113Z"
   },
   {
    "duration": 22,
    "start_time": "2022-05-14T16:33:49.330Z"
   },
   {
    "duration": 363,
    "start_time": "2022-05-14T16:33:49.354Z"
   },
   {
    "duration": 20,
    "start_time": "2022-05-14T16:33:49.720Z"
   },
   {
    "duration": 85,
    "start_time": "2022-05-14T16:33:49.743Z"
   },
   {
    "duration": 152,
    "start_time": "2022-05-14T16:33:49.830Z"
   },
   {
    "duration": 281,
    "start_time": "2022-05-14T16:33:49.985Z"
   },
   {
    "duration": 33,
    "start_time": "2022-05-14T16:33:50.269Z"
   },
   {
    "duration": 28,
    "start_time": "2022-05-14T16:33:50.305Z"
   },
   {
    "duration": 5,
    "start_time": "2022-05-14T16:33:50.335Z"
   },
   {
    "duration": 638,
    "start_time": "2022-05-14T16:33:50.343Z"
   },
   {
    "duration": 19,
    "start_time": "2022-05-14T16:33:50.984Z"
   },
   {
    "duration": 22,
    "start_time": "2022-05-14T16:33:51.006Z"
   },
   {
    "duration": 12,
    "start_time": "2022-05-14T16:33:51.032Z"
   },
   {
    "duration": 51,
    "start_time": "2022-05-14T16:33:51.046Z"
   },
   {
    "duration": 5047,
    "start_time": "2022-05-14T16:33:51.103Z"
   },
   {
    "duration": 569,
    "start_time": "2022-05-14T16:33:56.152Z"
   },
   {
    "duration": 7,
    "start_time": "2022-05-14T16:33:56.723Z"
   },
   {
    "duration": 69,
    "start_time": "2022-05-14T16:33:56.732Z"
   },
   {
    "duration": 965,
    "start_time": "2022-05-14T16:33:56.803Z"
   },
   {
    "duration": 15,
    "start_time": "2022-05-14T16:33:57.771Z"
   },
   {
    "duration": 15,
    "start_time": "2022-05-14T16:33:57.789Z"
   },
   {
    "duration": 1378,
    "start_time": "2022-05-14T16:33:57.806Z"
   },
   {
    "duration": 95960,
    "start_time": "2022-05-14T16:33:59.187Z"
   },
   {
    "duration": 4745,
    "start_time": "2022-05-14T16:35:35.149Z"
   },
   {
    "duration": 174,
    "start_time": "2022-05-14T16:35:39.897Z"
   },
   {
    "duration": 27,
    "start_time": "2022-05-14T16:35:40.074Z"
   },
   {
    "duration": 12,
    "start_time": "2022-05-14T16:35:40.104Z"
   },
   {
    "duration": 70,
    "start_time": "2022-05-14T16:35:40.119Z"
   },
   {
    "duration": 97,
    "start_time": "2022-05-14T16:35:40.191Z"
   },
   {
    "duration": 13,
    "start_time": "2022-05-14T16:35:40.291Z"
   },
   {
    "duration": 1665,
    "start_time": "2022-05-14T18:28:15.267Z"
   },
   {
    "duration": 623,
    "start_time": "2022-05-14T18:28:16.934Z"
   },
   {
    "duration": 3,
    "start_time": "2022-05-14T18:28:17.559Z"
   },
   {
    "duration": 56,
    "start_time": "2022-05-14T18:28:17.564Z"
   },
   {
    "duration": 134,
    "start_time": "2022-05-14T18:28:17.622Z"
   },
   {
    "duration": 12,
    "start_time": "2022-05-14T18:28:17.758Z"
   },
   {
    "duration": 210,
    "start_time": "2022-05-14T18:28:17.772Z"
   },
   {
    "duration": 19,
    "start_time": "2022-05-14T18:28:17.983Z"
   },
   {
    "duration": 55,
    "start_time": "2022-05-14T18:28:18.004Z"
   },
   {
    "duration": 8,
    "start_time": "2022-05-14T18:28:18.062Z"
   },
   {
    "duration": 126,
    "start_time": "2022-05-14T18:28:18.072Z"
   },
   {
    "duration": 18,
    "start_time": "2022-05-14T18:28:18.200Z"
   },
   {
    "duration": 116,
    "start_time": "2022-05-14T18:28:18.220Z"
   },
   {
    "duration": 13,
    "start_time": "2022-05-14T18:28:18.342Z"
   },
   {
    "duration": 227,
    "start_time": "2022-05-14T18:28:18.357Z"
   },
   {
    "duration": 12,
    "start_time": "2022-05-14T18:28:18.586Z"
   },
   {
    "duration": 44,
    "start_time": "2022-05-14T18:28:18.600Z"
   },
   {
    "duration": 70,
    "start_time": "2022-05-14T18:28:18.645Z"
   },
   {
    "duration": 214,
    "start_time": "2022-05-14T18:28:18.717Z"
   },
   {
    "duration": 26,
    "start_time": "2022-05-14T18:28:18.933Z"
   },
   {
    "duration": 15,
    "start_time": "2022-05-14T18:28:18.961Z"
   },
   {
    "duration": 5,
    "start_time": "2022-05-14T18:28:18.978Z"
   },
   {
    "duration": 295,
    "start_time": "2022-05-14T18:28:18.984Z"
   },
   {
    "duration": 12,
    "start_time": "2022-05-14T18:28:19.280Z"
   },
   {
    "duration": 9,
    "start_time": "2022-05-14T18:28:19.294Z"
   },
   {
    "duration": 6,
    "start_time": "2022-05-14T18:28:19.305Z"
   },
   {
    "duration": 40,
    "start_time": "2022-05-14T18:28:19.313Z"
   },
   {
    "duration": 3397,
    "start_time": "2022-05-14T18:28:19.357Z"
   },
   {
    "duration": 389,
    "start_time": "2022-05-14T18:28:22.756Z"
   },
   {
    "duration": 4,
    "start_time": "2022-05-14T18:28:23.147Z"
   },
   {
    "duration": 32,
    "start_time": "2022-05-14T18:28:23.153Z"
   },
   {
    "duration": 513,
    "start_time": "2022-05-14T18:28:23.187Z"
   },
   {
    "duration": 5,
    "start_time": "2022-05-14T18:28:23.701Z"
   },
   {
    "duration": 13,
    "start_time": "2022-05-14T18:28:23.707Z"
   },
   {
    "duration": 1522,
    "start_time": "2022-05-14T18:28:23.722Z"
   },
   {
    "duration": 29342,
    "start_time": "2022-05-14T18:28:25.247Z"
   },
   {
    "duration": 0,
    "start_time": "2022-05-14T18:28:54.591Z"
   },
   {
    "duration": 0,
    "start_time": "2022-05-14T18:28:54.592Z"
   },
   {
    "duration": 0,
    "start_time": "2022-05-14T18:28:54.593Z"
   },
   {
    "duration": 0,
    "start_time": "2022-05-14T18:28:54.594Z"
   },
   {
    "duration": 0,
    "start_time": "2022-05-14T18:28:54.595Z"
   },
   {
    "duration": 0,
    "start_time": "2022-05-14T18:28:54.597Z"
   },
   {
    "duration": 0,
    "start_time": "2022-05-14T18:28:54.598Z"
   },
   {
    "duration": 0,
    "start_time": "2022-05-14T18:28:54.599Z"
   },
   {
    "duration": 0,
    "start_time": "2022-05-14T18:28:54.600Z"
   },
   {
    "duration": 29093,
    "start_time": "2022-05-14T18:29:14.744Z"
   },
   {
    "duration": 11,
    "start_time": "2022-05-14T18:51:31.676Z"
   },
   {
    "duration": 235644,
    "start_time": "2022-05-14T18:52:33.492Z"
   },
   {
    "duration": 1514,
    "start_time": "2022-05-14T18:59:13.594Z"
   },
   {
    "duration": 632,
    "start_time": "2022-05-14T18:59:15.110Z"
   },
   {
    "duration": 5,
    "start_time": "2022-05-14T18:59:15.744Z"
   },
   {
    "duration": 30,
    "start_time": "2022-05-14T18:59:15.750Z"
   },
   {
    "duration": 143,
    "start_time": "2022-05-14T18:59:15.782Z"
   },
   {
    "duration": 17,
    "start_time": "2022-05-14T18:59:15.928Z"
   },
   {
    "duration": 201,
    "start_time": "2022-05-14T18:59:15.946Z"
   },
   {
    "duration": 16,
    "start_time": "2022-05-14T18:59:16.149Z"
   },
   {
    "duration": 29,
    "start_time": "2022-05-14T18:59:16.167Z"
   },
   {
    "duration": 9,
    "start_time": "2022-05-14T18:59:16.197Z"
   },
   {
    "duration": 133,
    "start_time": "2022-05-14T18:59:16.207Z"
   },
   {
    "duration": 19,
    "start_time": "2022-05-14T18:59:16.343Z"
   },
   {
    "duration": 118,
    "start_time": "2022-05-14T18:59:16.364Z"
   },
   {
    "duration": 13,
    "start_time": "2022-05-14T18:59:16.485Z"
   },
   {
    "duration": 221,
    "start_time": "2022-05-14T18:59:16.499Z"
   },
   {
    "duration": 11,
    "start_time": "2022-05-14T18:59:16.722Z"
   },
   {
    "duration": 37,
    "start_time": "2022-05-14T18:59:16.735Z"
   },
   {
    "duration": 84,
    "start_time": "2022-05-14T18:59:16.774Z"
   },
   {
    "duration": 223,
    "start_time": "2022-05-14T18:59:16.860Z"
   },
   {
    "duration": 16,
    "start_time": "2022-05-14T18:59:17.084Z"
   },
   {
    "duration": 18,
    "start_time": "2022-05-14T18:59:17.102Z"
   },
   {
    "duration": 8,
    "start_time": "2022-05-14T18:59:17.122Z"
   },
   {
    "duration": 534,
    "start_time": "2022-05-14T18:59:17.131Z"
   },
   {
    "duration": 13,
    "start_time": "2022-05-14T18:59:17.667Z"
   },
   {
    "duration": 63,
    "start_time": "2022-05-14T18:59:17.681Z"
   },
   {
    "duration": 7,
    "start_time": "2022-05-14T18:59:17.745Z"
   },
   {
    "duration": 11,
    "start_time": "2022-05-14T18:59:17.753Z"
   },
   {
    "duration": 3990,
    "start_time": "2022-05-14T18:59:17.766Z"
   },
   {
    "duration": 387,
    "start_time": "2022-05-14T18:59:21.758Z"
   },
   {
    "duration": 5,
    "start_time": "2022-05-14T18:59:22.146Z"
   },
   {
    "duration": 35,
    "start_time": "2022-05-14T18:59:22.152Z"
   },
   {
    "duration": 523,
    "start_time": "2022-05-14T18:59:22.188Z"
   },
   {
    "duration": 4,
    "start_time": "2022-05-14T18:59:22.713Z"
   },
   {
    "duration": 13,
    "start_time": "2022-05-14T18:59:22.719Z"
   },
   {
    "duration": 1311,
    "start_time": "2022-05-14T18:59:22.733Z"
   },
   {
    "duration": 481477,
    "start_time": "2022-05-14T18:59:24.046Z"
   },
   {
    "duration": 1862,
    "start_time": "2022-05-14T19:07:48.086Z"
   },
   {
    "duration": 765,
    "start_time": "2022-05-14T19:07:49.950Z"
   },
   {
    "duration": 4,
    "start_time": "2022-05-14T19:07:50.716Z"
   },
   {
    "duration": 33,
    "start_time": "2022-05-14T19:07:50.722Z"
   },
   {
    "duration": 143,
    "start_time": "2022-05-14T19:07:50.757Z"
   },
   {
    "duration": 14,
    "start_time": "2022-05-14T19:07:50.902Z"
   },
   {
    "duration": 225,
    "start_time": "2022-05-14T19:07:50.918Z"
   },
   {
    "duration": 19,
    "start_time": "2022-05-14T19:07:51.145Z"
   },
   {
    "duration": 48,
    "start_time": "2022-05-14T19:07:51.166Z"
   },
   {
    "duration": 10,
    "start_time": "2022-05-14T19:07:51.218Z"
   },
   {
    "duration": 126,
    "start_time": "2022-05-14T19:07:51.229Z"
   },
   {
    "duration": 18,
    "start_time": "2022-05-14T19:07:51.357Z"
   },
   {
    "duration": 128,
    "start_time": "2022-05-14T19:07:51.377Z"
   },
   {
    "duration": 14,
    "start_time": "2022-05-14T19:07:51.507Z"
   },
   {
    "duration": 223,
    "start_time": "2022-05-14T19:07:51.523Z"
   },
   {
    "duration": 13,
    "start_time": "2022-05-14T19:07:51.748Z"
   },
   {
    "duration": 34,
    "start_time": "2022-05-14T19:07:51.763Z"
   },
   {
    "duration": 96,
    "start_time": "2022-05-14T19:07:51.799Z"
   },
   {
    "duration": 223,
    "start_time": "2022-05-14T19:07:51.896Z"
   },
   {
    "duration": 26,
    "start_time": "2022-05-14T19:07:52.120Z"
   },
   {
    "duration": 19,
    "start_time": "2022-05-14T19:07:52.148Z"
   },
   {
    "duration": 12,
    "start_time": "2022-05-14T19:07:52.169Z"
   },
   {
    "duration": 296,
    "start_time": "2022-05-14T19:07:52.182Z"
   },
   {
    "duration": 12,
    "start_time": "2022-05-14T19:07:52.480Z"
   },
   {
    "duration": 16,
    "start_time": "2022-05-14T19:07:52.493Z"
   },
   {
    "duration": 10,
    "start_time": "2022-05-14T19:07:52.511Z"
   },
   {
    "duration": 24,
    "start_time": "2022-05-14T19:07:52.523Z"
   },
   {
    "duration": 3402,
    "start_time": "2022-05-14T19:07:52.551Z"
   },
   {
    "duration": 391,
    "start_time": "2022-05-14T19:07:55.955Z"
   },
   {
    "duration": 5,
    "start_time": "2022-05-14T19:07:56.347Z"
   },
   {
    "duration": 33,
    "start_time": "2022-05-14T19:07:56.353Z"
   },
   {
    "duration": 589,
    "start_time": "2022-05-14T19:07:56.388Z"
   },
   {
    "duration": 5,
    "start_time": "2022-05-14T19:07:56.980Z"
   },
   {
    "duration": 14,
    "start_time": "2022-05-14T19:07:56.987Z"
   },
   {
    "duration": 1344,
    "start_time": "2022-05-14T19:07:57.003Z"
   },
   {
    "duration": 17416,
    "start_time": "2022-05-14T19:07:58.349Z"
   },
   {
    "duration": 238122,
    "start_time": "2022-05-14T19:08:15.767Z"
   },
   {
    "duration": 0,
    "start_time": "2022-05-14T19:12:13.890Z"
   },
   {
    "duration": 0,
    "start_time": "2022-05-14T19:12:13.892Z"
   },
   {
    "duration": 0,
    "start_time": "2022-05-14T19:12:13.893Z"
   },
   {
    "duration": 0,
    "start_time": "2022-05-14T19:12:13.894Z"
   },
   {
    "duration": 0,
    "start_time": "2022-05-14T19:12:13.895Z"
   },
   {
    "duration": 0,
    "start_time": "2022-05-14T19:12:13.896Z"
   },
   {
    "duration": 0,
    "start_time": "2022-05-14T19:12:13.897Z"
   },
   {
    "duration": 0,
    "start_time": "2022-05-14T19:12:13.899Z"
   },
   {
    "duration": 0,
    "start_time": "2022-05-14T19:12:13.900Z"
   },
   {
    "duration": 9416,
    "start_time": "2022-05-14T19:13:00.100Z"
   },
   {
    "duration": 1437,
    "start_time": "2022-05-14T19:14:32.180Z"
   },
   {
    "duration": 674,
    "start_time": "2022-05-14T19:14:33.619Z"
   },
   {
    "duration": 4,
    "start_time": "2022-05-14T19:14:34.295Z"
   },
   {
    "duration": 67,
    "start_time": "2022-05-14T19:14:34.301Z"
   },
   {
    "duration": 144,
    "start_time": "2022-05-14T19:14:34.369Z"
   },
   {
    "duration": 14,
    "start_time": "2022-05-14T19:14:34.514Z"
   },
   {
    "duration": 215,
    "start_time": "2022-05-14T19:14:34.530Z"
   },
   {
    "duration": 19,
    "start_time": "2022-05-14T19:14:34.747Z"
   },
   {
    "duration": 44,
    "start_time": "2022-05-14T19:14:34.767Z"
   },
   {
    "duration": 9,
    "start_time": "2022-05-14T19:14:34.814Z"
   },
   {
    "duration": 126,
    "start_time": "2022-05-14T19:14:34.824Z"
   },
   {
    "duration": 17,
    "start_time": "2022-05-14T19:14:34.952Z"
   },
   {
    "duration": 125,
    "start_time": "2022-05-14T19:14:34.971Z"
   },
   {
    "duration": 13,
    "start_time": "2022-05-14T19:14:35.098Z"
   },
   {
    "duration": 225,
    "start_time": "2022-05-14T19:14:35.113Z"
   },
   {
    "duration": 12,
    "start_time": "2022-05-14T19:14:35.342Z"
   },
   {
    "duration": 63,
    "start_time": "2022-05-14T19:14:35.355Z"
   },
   {
    "duration": 88,
    "start_time": "2022-05-14T19:14:35.420Z"
   },
   {
    "duration": 238,
    "start_time": "2022-05-14T19:14:35.510Z"
   },
   {
    "duration": 19,
    "start_time": "2022-05-14T19:14:35.749Z"
   },
   {
    "duration": 16,
    "start_time": "2022-05-14T19:14:35.769Z"
   },
   {
    "duration": 16,
    "start_time": "2022-05-14T19:14:35.787Z"
   },
   {
    "duration": 308,
    "start_time": "2022-05-14T19:14:35.805Z"
   },
   {
    "duration": 10,
    "start_time": "2022-05-14T19:14:36.115Z"
   },
   {
    "duration": 29,
    "start_time": "2022-05-14T19:14:36.127Z"
   },
   {
    "duration": 20,
    "start_time": "2022-05-14T19:14:36.158Z"
   },
   {
    "duration": 31,
    "start_time": "2022-05-14T19:14:36.180Z"
   },
   {
    "duration": 3861,
    "start_time": "2022-05-14T19:14:36.214Z"
   },
   {
    "duration": 897,
    "start_time": "2022-05-14T19:14:40.077Z"
   },
   {
    "duration": 5,
    "start_time": "2022-05-14T19:14:40.976Z"
   },
   {
    "duration": 88,
    "start_time": "2022-05-14T19:14:40.982Z"
   },
   {
    "duration": 870,
    "start_time": "2022-05-14T19:14:41.072Z"
   },
   {
    "duration": 4,
    "start_time": "2022-05-14T19:14:41.944Z"
   },
   {
    "duration": 44,
    "start_time": "2022-05-14T19:14:41.949Z"
   },
   {
    "duration": 1348,
    "start_time": "2022-05-14T19:14:41.995Z"
   },
   {
    "duration": 9281,
    "start_time": "2022-05-14T19:14:43.346Z"
   },
   {
    "duration": 16895,
    "start_time": "2022-05-14T19:14:52.629Z"
   },
   {
    "duration": 11356,
    "start_time": "2022-05-14T19:15:09.525Z"
   },
   {
    "duration": 0,
    "start_time": "2022-05-14T19:15:20.883Z"
   },
   {
    "duration": 0,
    "start_time": "2022-05-14T19:15:20.884Z"
   },
   {
    "duration": 0,
    "start_time": "2022-05-14T19:15:20.885Z"
   },
   {
    "duration": 0,
    "start_time": "2022-05-14T19:15:20.886Z"
   },
   {
    "duration": 0,
    "start_time": "2022-05-14T19:15:20.887Z"
   },
   {
    "duration": 0,
    "start_time": "2022-05-14T19:15:20.888Z"
   },
   {
    "duration": 0,
    "start_time": "2022-05-14T19:15:20.889Z"
   },
   {
    "duration": 0,
    "start_time": "2022-05-14T19:15:20.890Z"
   },
   {
    "duration": 16072,
    "start_time": "2022-05-14T19:16:28.300Z"
   },
   {
    "duration": 17243,
    "start_time": "2022-05-14T19:17:46.745Z"
   },
   {
    "duration": 17553,
    "start_time": "2022-05-14T19:18:30.010Z"
   },
   {
    "duration": 113,
    "start_time": "2022-05-14T19:22:23.568Z"
   },
   {
    "duration": 1592,
    "start_time": "2022-05-14T19:22:52.527Z"
   },
   {
    "duration": 686,
    "start_time": "2022-05-14T19:22:54.122Z"
   },
   {
    "duration": 6,
    "start_time": "2022-05-14T19:22:54.809Z"
   },
   {
    "duration": 36,
    "start_time": "2022-05-14T19:22:54.818Z"
   },
   {
    "duration": 149,
    "start_time": "2022-05-14T19:22:54.856Z"
   },
   {
    "duration": 18,
    "start_time": "2022-05-14T19:22:55.007Z"
   },
   {
    "duration": 216,
    "start_time": "2022-05-14T19:22:55.042Z"
   },
   {
    "duration": 20,
    "start_time": "2022-05-14T19:22:55.260Z"
   },
   {
    "duration": 36,
    "start_time": "2022-05-14T19:22:55.281Z"
   },
   {
    "duration": 30,
    "start_time": "2022-05-14T19:22:55.320Z"
   },
   {
    "duration": 191,
    "start_time": "2022-05-14T19:22:55.352Z"
   },
   {
    "duration": 29,
    "start_time": "2022-05-14T19:22:55.545Z"
   },
   {
    "duration": 181,
    "start_time": "2022-05-14T19:22:55.576Z"
   },
   {
    "duration": 19,
    "start_time": "2022-05-14T19:22:55.759Z"
   },
   {
    "duration": 364,
    "start_time": "2022-05-14T19:22:55.780Z"
   },
   {
    "duration": 16,
    "start_time": "2022-05-14T19:22:56.146Z"
   },
   {
    "duration": 40,
    "start_time": "2022-05-14T19:22:56.163Z"
   },
   {
    "duration": 115,
    "start_time": "2022-05-14T19:22:56.205Z"
   },
   {
    "duration": 267,
    "start_time": "2022-05-14T19:22:56.322Z"
   },
   {
    "duration": 21,
    "start_time": "2022-05-14T19:22:56.591Z"
   },
   {
    "duration": 34,
    "start_time": "2022-05-14T19:22:56.614Z"
   },
   {
    "duration": 4,
    "start_time": "2022-05-14T19:22:56.651Z"
   },
   {
    "duration": 313,
    "start_time": "2022-05-14T19:22:56.656Z"
   },
   {
    "duration": 14,
    "start_time": "2022-05-14T19:22:56.971Z"
   },
   {
    "duration": 10,
    "start_time": "2022-05-14T19:22:56.986Z"
   },
   {
    "duration": 8,
    "start_time": "2022-05-14T19:22:56.999Z"
   },
   {
    "duration": 39,
    "start_time": "2022-05-14T19:22:57.009Z"
   },
   {
    "duration": 3218,
    "start_time": "2022-05-14T19:22:57.052Z"
   },
   {
    "duration": 375,
    "start_time": "2022-05-14T19:23:00.271Z"
   },
   {
    "duration": 4,
    "start_time": "2022-05-14T19:23:00.648Z"
   },
   {
    "duration": 47,
    "start_time": "2022-05-14T19:23:00.654Z"
   },
   {
    "duration": 933,
    "start_time": "2022-05-14T19:23:00.702Z"
   },
   {
    "duration": 7,
    "start_time": "2022-05-14T19:23:01.637Z"
   },
   {
    "duration": 62,
    "start_time": "2022-05-14T19:23:01.646Z"
   },
   {
    "duration": 1333,
    "start_time": "2022-05-14T19:23:01.711Z"
   },
   {
    "duration": 269,
    "start_time": "2022-05-14T19:23:03.047Z"
   },
   {
    "duration": 0,
    "start_time": "2022-05-14T19:23:03.318Z"
   },
   {
    "duration": 0,
    "start_time": "2022-05-14T19:23:03.320Z"
   },
   {
    "duration": 0,
    "start_time": "2022-05-14T19:23:03.322Z"
   },
   {
    "duration": 0,
    "start_time": "2022-05-14T19:23:03.323Z"
   },
   {
    "duration": 0,
    "start_time": "2022-05-14T19:23:03.325Z"
   },
   {
    "duration": 0,
    "start_time": "2022-05-14T19:23:03.326Z"
   },
   {
    "duration": 0,
    "start_time": "2022-05-14T19:23:03.327Z"
   },
   {
    "duration": 0,
    "start_time": "2022-05-14T19:23:03.343Z"
   },
   {
    "duration": 0,
    "start_time": "2022-05-14T19:23:03.344Z"
   },
   {
    "duration": 0,
    "start_time": "2022-05-14T19:23:03.346Z"
   },
   {
    "duration": 1810,
    "start_time": "2022-05-14T19:27:00.275Z"
   },
   {
    "duration": 705,
    "start_time": "2022-05-14T19:27:02.088Z"
   },
   {
    "duration": 4,
    "start_time": "2022-05-14T19:27:02.795Z"
   },
   {
    "duration": 33,
    "start_time": "2022-05-14T19:27:02.801Z"
   },
   {
    "duration": 153,
    "start_time": "2022-05-14T19:27:02.842Z"
   },
   {
    "duration": 14,
    "start_time": "2022-05-14T19:27:02.998Z"
   },
   {
    "duration": 242,
    "start_time": "2022-05-14T19:27:03.014Z"
   },
   {
    "duration": 21,
    "start_time": "2022-05-14T19:27:03.259Z"
   },
   {
    "duration": 35,
    "start_time": "2022-05-14T19:27:03.282Z"
   },
   {
    "duration": 27,
    "start_time": "2022-05-14T19:27:03.320Z"
   },
   {
    "duration": 135,
    "start_time": "2022-05-14T19:27:03.349Z"
   },
   {
    "duration": 19,
    "start_time": "2022-05-14T19:27:03.486Z"
   },
   {
    "duration": 131,
    "start_time": "2022-05-14T19:27:03.507Z"
   },
   {
    "duration": 18,
    "start_time": "2022-05-14T19:27:03.639Z"
   },
   {
    "duration": 237,
    "start_time": "2022-05-14T19:27:03.659Z"
   },
   {
    "duration": 12,
    "start_time": "2022-05-14T19:27:03.898Z"
   },
   {
    "duration": 55,
    "start_time": "2022-05-14T19:27:03.911Z"
   },
   {
    "duration": 89,
    "start_time": "2022-05-14T19:27:03.968Z"
   },
   {
    "duration": 253,
    "start_time": "2022-05-14T19:27:04.059Z"
   },
   {
    "duration": 28,
    "start_time": "2022-05-14T19:27:04.315Z"
   },
   {
    "duration": 19,
    "start_time": "2022-05-14T19:27:04.347Z"
   },
   {
    "duration": 15,
    "start_time": "2022-05-14T19:27:04.367Z"
   },
   {
    "duration": 326,
    "start_time": "2022-05-14T19:27:04.383Z"
   },
   {
    "duration": 11,
    "start_time": "2022-05-14T19:27:04.710Z"
   },
   {
    "duration": 17,
    "start_time": "2022-05-14T19:27:04.723Z"
   },
   {
    "duration": 29,
    "start_time": "2022-05-14T19:27:04.743Z"
   },
   {
    "duration": 26,
    "start_time": "2022-05-14T19:27:04.774Z"
   },
   {
    "duration": 3170,
    "start_time": "2022-05-14T19:27:04.803Z"
   },
   {
    "duration": 486,
    "start_time": "2022-05-14T19:27:07.975Z"
   },
   {
    "duration": 7,
    "start_time": "2022-05-14T19:27:08.463Z"
   },
   {
    "duration": 33,
    "start_time": "2022-05-14T19:27:08.471Z"
   },
   {
    "duration": 593,
    "start_time": "2022-05-14T19:27:08.505Z"
   },
   {
    "duration": 5,
    "start_time": "2022-05-14T19:27:09.100Z"
   },
   {
    "duration": 11,
    "start_time": "2022-05-14T19:27:09.106Z"
   },
   {
    "duration": 1628,
    "start_time": "2022-05-14T19:27:09.119Z"
   },
   {
    "duration": 1536,
    "start_time": "2022-05-14T19:32:18.254Z"
   },
   {
    "duration": 1490,
    "start_time": "2022-05-14T19:32:19.791Z"
   },
   {
    "duration": 4,
    "start_time": "2022-05-14T19:32:21.283Z"
   },
   {
    "duration": 86,
    "start_time": "2022-05-14T19:32:21.288Z"
   },
   {
    "duration": 276,
    "start_time": "2022-05-14T19:32:21.375Z"
   },
   {
    "duration": 20,
    "start_time": "2022-05-14T19:32:21.654Z"
   },
   {
    "duration": 223,
    "start_time": "2022-05-14T19:32:21.676Z"
   },
   {
    "duration": 19,
    "start_time": "2022-05-14T19:32:21.901Z"
   },
   {
    "duration": 53,
    "start_time": "2022-05-14T19:32:21.922Z"
   },
   {
    "duration": 8,
    "start_time": "2022-05-14T19:32:21.978Z"
   },
   {
    "duration": 124,
    "start_time": "2022-05-14T19:32:21.988Z"
   },
   {
    "duration": 19,
    "start_time": "2022-05-14T19:32:22.114Z"
   },
   {
    "duration": 126,
    "start_time": "2022-05-14T19:32:22.143Z"
   },
   {
    "duration": 16,
    "start_time": "2022-05-14T19:32:22.271Z"
   },
   {
    "duration": 239,
    "start_time": "2022-05-14T19:32:22.289Z"
   },
   {
    "duration": 23,
    "start_time": "2022-05-14T19:32:22.530Z"
   },
   {
    "duration": 45,
    "start_time": "2022-05-14T19:32:22.555Z"
   },
   {
    "duration": 86,
    "start_time": "2022-05-14T19:32:22.602Z"
   },
   {
    "duration": 234,
    "start_time": "2022-05-14T19:32:22.689Z"
   },
   {
    "duration": 31,
    "start_time": "2022-05-14T19:32:22.924Z"
   },
   {
    "duration": 16,
    "start_time": "2022-05-14T19:32:22.957Z"
   },
   {
    "duration": 4,
    "start_time": "2022-05-14T19:32:22.974Z"
   },
   {
    "duration": 338,
    "start_time": "2022-05-14T19:32:22.979Z"
   },
   {
    "duration": 11,
    "start_time": "2022-05-14T19:32:23.318Z"
   },
   {
    "duration": 23,
    "start_time": "2022-05-14T19:32:23.331Z"
   },
   {
    "duration": 8,
    "start_time": "2022-05-14T19:32:23.356Z"
   },
   {
    "duration": 12,
    "start_time": "2022-05-14T19:32:23.366Z"
   },
   {
    "duration": 3389,
    "start_time": "2022-05-14T19:32:23.381Z"
   },
   {
    "duration": 378,
    "start_time": "2022-05-14T19:32:26.772Z"
   },
   {
    "duration": 5,
    "start_time": "2022-05-14T19:32:27.152Z"
   },
   {
    "duration": 43,
    "start_time": "2022-05-14T19:32:27.159Z"
   },
   {
    "duration": 579,
    "start_time": "2022-05-14T19:32:27.204Z"
   },
   {
    "duration": 4,
    "start_time": "2022-05-14T19:32:27.785Z"
   },
   {
    "duration": 12,
    "start_time": "2022-05-14T19:32:27.790Z"
   },
   {
    "duration": 2460,
    "start_time": "2022-05-14T19:32:27.803Z"
   },
   {
    "duration": 16959,
    "start_time": "2022-05-14T19:32:30.348Z"
   },
   {
    "duration": 153,
    "start_time": "2022-05-14T19:32:47.308Z"
   },
   {
    "duration": 0,
    "start_time": "2022-05-14T19:32:47.463Z"
   },
   {
    "duration": 0,
    "start_time": "2022-05-14T19:32:47.464Z"
   },
   {
    "duration": 0,
    "start_time": "2022-05-14T19:32:47.465Z"
   },
   {
    "duration": 0,
    "start_time": "2022-05-14T19:32:47.466Z"
   },
   {
    "duration": 0,
    "start_time": "2022-05-14T19:32:47.467Z"
   },
   {
    "duration": 0,
    "start_time": "2022-05-14T19:32:47.468Z"
   },
   {
    "duration": 0,
    "start_time": "2022-05-14T19:32:47.469Z"
   },
   {
    "duration": 0,
    "start_time": "2022-05-14T19:32:47.470Z"
   },
   {
    "duration": 0,
    "start_time": "2022-05-14T19:32:47.470Z"
   },
   {
    "duration": 0,
    "start_time": "2022-05-14T19:32:47.471Z"
   },
   {
    "duration": 16506,
    "start_time": "2022-05-14T19:34:07.825Z"
   },
   {
    "duration": 2,
    "start_time": "2022-05-14T19:45:44.094Z"
   },
   {
    "duration": 13,
    "start_time": "2022-05-14T19:45:44.636Z"
   },
   {
    "duration": 2,
    "start_time": "2022-05-14T19:45:53.038Z"
   },
   {
    "duration": 83136,
    "start_time": "2022-05-14T19:45:58.678Z"
   },
   {
    "duration": 82516,
    "start_time": "2022-05-14T19:48:48.628Z"
   },
   {
    "duration": 92381,
    "start_time": "2022-05-14T19:51:02.235Z"
   },
   {
    "duration": 28,
    "start_time": "2022-05-14T19:54:29.839Z"
   },
   {
    "duration": 29,
    "start_time": "2022-05-14T19:55:15.339Z"
   },
   {
    "duration": 1455,
    "start_time": "2022-05-14T19:56:14.389Z"
   },
   {
    "duration": 662,
    "start_time": "2022-05-14T19:56:15.846Z"
   },
   {
    "duration": 3,
    "start_time": "2022-05-14T19:56:16.510Z"
   },
   {
    "duration": 28,
    "start_time": "2022-05-14T19:56:16.515Z"
   },
   {
    "duration": 144,
    "start_time": "2022-05-14T19:56:16.545Z"
   },
   {
    "duration": 13,
    "start_time": "2022-05-14T19:56:16.743Z"
   },
   {
    "duration": 410,
    "start_time": "2022-05-14T19:56:16.758Z"
   },
   {
    "duration": 18,
    "start_time": "2022-05-14T19:56:17.169Z"
   },
   {
    "duration": 30,
    "start_time": "2022-05-14T19:56:17.242Z"
   },
   {
    "duration": 12,
    "start_time": "2022-05-14T19:56:17.274Z"
   },
   {
    "duration": 373,
    "start_time": "2022-05-14T19:56:17.288Z"
   },
   {
    "duration": 27,
    "start_time": "2022-05-14T19:56:17.663Z"
   },
   {
    "duration": 208,
    "start_time": "2022-05-14T19:56:17.743Z"
   },
   {
    "duration": 13,
    "start_time": "2022-05-14T19:56:17.954Z"
   },
   {
    "duration": 420,
    "start_time": "2022-05-14T19:56:17.969Z"
   },
   {
    "duration": 13,
    "start_time": "2022-05-14T19:56:18.443Z"
   },
   {
    "duration": 36,
    "start_time": "2022-05-14T19:56:18.458Z"
   },
   {
    "duration": 72,
    "start_time": "2022-05-14T19:56:18.544Z"
   },
   {
    "duration": 214,
    "start_time": "2022-05-14T19:56:18.618Z"
   },
   {
    "duration": 23,
    "start_time": "2022-05-14T19:56:18.833Z"
   },
   {
    "duration": 14,
    "start_time": "2022-05-14T19:56:18.858Z"
   },
   {
    "duration": 3,
    "start_time": "2022-05-14T19:56:18.874Z"
   },
   {
    "duration": 300,
    "start_time": "2022-05-14T19:56:18.878Z"
   },
   {
    "duration": 13,
    "start_time": "2022-05-14T19:56:19.180Z"
   },
   {
    "duration": 10,
    "start_time": "2022-05-14T19:56:19.195Z"
   },
   {
    "duration": 7,
    "start_time": "2022-05-14T19:56:19.207Z"
   },
   {
    "duration": 34,
    "start_time": "2022-05-14T19:56:19.216Z"
   },
   {
    "duration": 3304,
    "start_time": "2022-05-14T19:56:19.252Z"
   },
   {
    "duration": 381,
    "start_time": "2022-05-14T19:56:22.558Z"
   },
   {
    "duration": 4,
    "start_time": "2022-05-14T19:56:22.943Z"
   },
   {
    "duration": 32,
    "start_time": "2022-05-14T19:56:22.949Z"
   },
   {
    "duration": 526,
    "start_time": "2022-05-14T19:56:22.983Z"
   },
   {
    "duration": 4,
    "start_time": "2022-05-14T19:56:23.511Z"
   },
   {
    "duration": 11,
    "start_time": "2022-05-14T19:56:23.517Z"
   },
   {
    "duration": 1313,
    "start_time": "2022-05-14T19:56:23.530Z"
   },
   {
    "duration": 71403,
    "start_time": "2022-05-14T19:56:24.846Z"
   },
   {
    "duration": 0,
    "start_time": "2022-05-14T19:57:36.251Z"
   },
   {
    "duration": 0,
    "start_time": "2022-05-14T19:57:36.253Z"
   },
   {
    "duration": 0,
    "start_time": "2022-05-14T19:57:36.254Z"
   },
   {
    "duration": 0,
    "start_time": "2022-05-14T19:57:36.255Z"
   },
   {
    "duration": 0,
    "start_time": "2022-05-14T19:57:36.256Z"
   },
   {
    "duration": 0,
    "start_time": "2022-05-14T19:57:36.257Z"
   },
   {
    "duration": 0,
    "start_time": "2022-05-14T19:57:36.258Z"
   },
   {
    "duration": 0,
    "start_time": "2022-05-14T19:57:36.259Z"
   },
   {
    "duration": 0,
    "start_time": "2022-05-14T19:57:36.260Z"
   },
   {
    "duration": 0,
    "start_time": "2022-05-14T19:57:36.261Z"
   },
   {
    "duration": 0,
    "start_time": "2022-05-14T19:57:36.261Z"
   },
   {
    "duration": 70547,
    "start_time": "2022-05-14T19:58:02.069Z"
   },
   {
    "duration": 113,
    "start_time": "2022-05-14T20:00:26.957Z"
   },
   {
    "duration": 126,
    "start_time": "2022-05-14T20:00:48.802Z"
   },
   {
    "duration": 550556,
    "start_time": "2022-05-14T20:01:13.301Z"
   },
   {
    "duration": 1470,
    "start_time": "2022-05-14T20:32:47.785Z"
   },
   {
    "duration": 721,
    "start_time": "2022-05-14T20:32:49.257Z"
   },
   {
    "duration": 4,
    "start_time": "2022-05-14T20:32:49.980Z"
   },
   {
    "duration": 78,
    "start_time": "2022-05-14T20:32:49.986Z"
   },
   {
    "duration": 286,
    "start_time": "2022-05-14T20:32:50.066Z"
   },
   {
    "duration": 15,
    "start_time": "2022-05-14T20:32:50.354Z"
   },
   {
    "duration": 409,
    "start_time": "2022-05-14T20:32:50.371Z"
   },
   {
    "duration": 70,
    "start_time": "2022-05-14T20:32:50.782Z"
   },
   {
    "duration": 29,
    "start_time": "2022-05-14T20:32:50.853Z"
   },
   {
    "duration": 65,
    "start_time": "2022-05-14T20:32:50.885Z"
   },
   {
    "duration": 211,
    "start_time": "2022-05-14T20:32:50.952Z"
   },
   {
    "duration": 19,
    "start_time": "2022-05-14T20:32:51.164Z"
   },
   {
    "duration": 266,
    "start_time": "2022-05-14T20:32:51.185Z"
   },
   {
    "duration": 13,
    "start_time": "2022-05-14T20:32:51.452Z"
   },
   {
    "duration": 285,
    "start_time": "2022-05-14T20:32:51.467Z"
   },
   {
    "duration": 11,
    "start_time": "2022-05-14T20:32:51.754Z"
   },
   {
    "duration": 36,
    "start_time": "2022-05-14T20:32:51.767Z"
   },
   {
    "duration": 94,
    "start_time": "2022-05-14T20:32:51.805Z"
   },
   {
    "duration": 232,
    "start_time": "2022-05-14T20:32:51.900Z"
   },
   {
    "duration": 25,
    "start_time": "2022-05-14T20:32:52.133Z"
   },
   {
    "duration": 13,
    "start_time": "2022-05-14T20:32:52.160Z"
   },
   {
    "duration": 3,
    "start_time": "2022-05-14T20:32:52.175Z"
   },
   {
    "duration": 305,
    "start_time": "2022-05-14T20:32:52.180Z"
   },
   {
    "duration": 11,
    "start_time": "2022-05-14T20:32:52.486Z"
   },
   {
    "duration": 10,
    "start_time": "2022-05-14T20:32:52.499Z"
   },
   {
    "duration": 6,
    "start_time": "2022-05-14T20:32:52.510Z"
   },
   {
    "duration": 31,
    "start_time": "2022-05-14T20:32:52.518Z"
   },
   {
    "duration": 3296,
    "start_time": "2022-05-14T20:32:52.554Z"
   },
   {
    "duration": 387,
    "start_time": "2022-05-14T20:32:55.852Z"
   },
   {
    "duration": 5,
    "start_time": "2022-05-14T20:32:56.243Z"
   },
   {
    "duration": 31,
    "start_time": "2022-05-14T20:32:56.250Z"
   },
   {
    "duration": 527,
    "start_time": "2022-05-14T20:32:56.283Z"
   },
   {
    "duration": 4,
    "start_time": "2022-05-14T20:32:56.812Z"
   },
   {
    "duration": 11,
    "start_time": "2022-05-14T20:32:56.817Z"
   },
   {
    "duration": 1314,
    "start_time": "2022-05-14T20:32:56.829Z"
   },
   {
    "duration": 36295,
    "start_time": "2022-05-14T20:32:58.147Z"
   },
   {
    "duration": 1829,
    "start_time": "2022-05-14T20:40:01.179Z"
   },
   {
    "duration": 697,
    "start_time": "2022-05-14T20:40:03.010Z"
   },
   {
    "duration": 4,
    "start_time": "2022-05-14T20:40:03.709Z"
   },
   {
    "duration": 47,
    "start_time": "2022-05-14T20:40:03.715Z"
   },
   {
    "duration": 151,
    "start_time": "2022-05-14T20:40:03.764Z"
   },
   {
    "duration": 13,
    "start_time": "2022-05-14T20:40:03.916Z"
   },
   {
    "duration": 223,
    "start_time": "2022-05-14T20:40:03.931Z"
   },
   {
    "duration": 18,
    "start_time": "2022-05-14T20:40:04.156Z"
   },
   {
    "duration": 53,
    "start_time": "2022-05-14T20:40:04.176Z"
   },
   {
    "duration": 9,
    "start_time": "2022-05-14T20:40:04.232Z"
   },
   {
    "duration": 128,
    "start_time": "2022-05-14T20:40:04.243Z"
   },
   {
    "duration": 19,
    "start_time": "2022-05-14T20:40:04.373Z"
   },
   {
    "duration": 134,
    "start_time": "2022-05-14T20:40:04.393Z"
   },
   {
    "duration": 18,
    "start_time": "2022-05-14T20:40:04.528Z"
   },
   {
    "duration": 215,
    "start_time": "2022-05-14T20:40:04.547Z"
   },
   {
    "duration": 11,
    "start_time": "2022-05-14T20:40:04.764Z"
   },
   {
    "duration": 52,
    "start_time": "2022-05-14T20:40:04.777Z"
   },
   {
    "duration": 96,
    "start_time": "2022-05-14T20:40:04.830Z"
   },
   {
    "duration": 225,
    "start_time": "2022-05-14T20:40:04.928Z"
   },
   {
    "duration": 18,
    "start_time": "2022-05-14T20:40:05.155Z"
   },
   {
    "duration": 34,
    "start_time": "2022-05-14T20:40:05.175Z"
   },
   {
    "duration": 22,
    "start_time": "2022-05-14T20:40:05.211Z"
   },
   {
    "duration": 310,
    "start_time": "2022-05-14T20:40:05.234Z"
   },
   {
    "duration": 11,
    "start_time": "2022-05-14T20:40:05.546Z"
   },
   {
    "duration": 25,
    "start_time": "2022-05-14T20:40:05.558Z"
   },
   {
    "duration": 24,
    "start_time": "2022-05-14T20:40:05.584Z"
   },
   {
    "duration": 23,
    "start_time": "2022-05-14T20:40:05.609Z"
   },
   {
    "duration": 3706,
    "start_time": "2022-05-14T20:40:05.637Z"
   },
   {
    "duration": 645,
    "start_time": "2022-05-14T20:40:09.345Z"
   },
   {
    "duration": 5,
    "start_time": "2022-05-14T20:40:10.044Z"
   },
   {
    "duration": 35,
    "start_time": "2022-05-14T20:40:10.050Z"
   },
   {
    "duration": 957,
    "start_time": "2022-05-14T20:40:10.087Z"
   },
   {
    "duration": 4,
    "start_time": "2022-05-14T20:40:11.046Z"
   },
   {
    "duration": 12,
    "start_time": "2022-05-14T20:40:11.052Z"
   },
   {
    "duration": 1278,
    "start_time": "2022-05-14T20:40:11.065Z"
   },
   {
    "duration": 109,
    "start_time": "2022-05-14T20:40:12.346Z"
   },
   {
    "duration": 0,
    "start_time": "2022-05-14T20:40:12.457Z"
   },
   {
    "duration": 0,
    "start_time": "2022-05-14T20:40:12.459Z"
   },
   {
    "duration": 0,
    "start_time": "2022-05-14T20:40:12.460Z"
   },
   {
    "duration": 0,
    "start_time": "2022-05-14T20:40:12.461Z"
   },
   {
    "duration": 0,
    "start_time": "2022-05-14T20:40:12.462Z"
   },
   {
    "duration": 0,
    "start_time": "2022-05-14T20:40:12.463Z"
   },
   {
    "duration": 0,
    "start_time": "2022-05-14T20:40:12.464Z"
   },
   {
    "duration": 0,
    "start_time": "2022-05-14T20:40:12.465Z"
   },
   {
    "duration": 0,
    "start_time": "2022-05-14T20:40:12.466Z"
   },
   {
    "duration": 0,
    "start_time": "2022-05-14T20:40:12.467Z"
   },
   {
    "duration": 0,
    "start_time": "2022-05-14T20:40:12.468Z"
   },
   {
    "duration": 0,
    "start_time": "2022-05-14T20:40:12.469Z"
   },
   {
    "duration": 0,
    "start_time": "2022-05-14T20:40:12.471Z"
   },
   {
    "duration": 414,
    "start_time": "2022-05-14T20:40:26.332Z"
   },
   {
    "duration": 328,
    "start_time": "2022-05-14T20:42:04.586Z"
   },
   {
    "duration": 11,
    "start_time": "2022-05-14T20:42:38.632Z"
   },
   {
    "duration": 29,
    "start_time": "2022-05-14T20:44:22.031Z"
   },
   {
    "duration": 24,
    "start_time": "2022-05-14T20:46:57.635Z"
   },
   {
    "duration": 30,
    "start_time": "2022-05-14T20:48:12.792Z"
   },
   {
    "duration": 34,
    "start_time": "2022-05-14T20:48:17.738Z"
   },
   {
    "duration": 1495,
    "start_time": "2022-05-14T20:48:23.015Z"
   },
   {
    "duration": 695,
    "start_time": "2022-05-14T20:48:24.512Z"
   },
   {
    "duration": 3,
    "start_time": "2022-05-14T20:48:25.209Z"
   },
   {
    "duration": 32,
    "start_time": "2022-05-14T20:48:25.214Z"
   },
   {
    "duration": 142,
    "start_time": "2022-05-14T20:48:25.247Z"
   },
   {
    "duration": 12,
    "start_time": "2022-05-14T20:48:25.391Z"
   },
   {
    "duration": 215,
    "start_time": "2022-05-14T20:48:25.405Z"
   },
   {
    "duration": 22,
    "start_time": "2022-05-14T20:48:25.622Z"
   },
   {
    "duration": 29,
    "start_time": "2022-05-14T20:48:25.645Z"
   },
   {
    "duration": 9,
    "start_time": "2022-05-14T20:48:25.677Z"
   },
   {
    "duration": 139,
    "start_time": "2022-05-14T20:48:25.687Z"
   },
   {
    "duration": 24,
    "start_time": "2022-05-14T20:48:25.828Z"
   },
   {
    "duration": 117,
    "start_time": "2022-05-14T20:48:25.853Z"
   },
   {
    "duration": 13,
    "start_time": "2022-05-14T20:48:25.971Z"
   },
   {
    "duration": 232,
    "start_time": "2022-05-14T20:48:25.986Z"
   },
   {
    "duration": 12,
    "start_time": "2022-05-14T20:48:26.220Z"
   },
   {
    "duration": 40,
    "start_time": "2022-05-14T20:48:26.233Z"
   },
   {
    "duration": 93,
    "start_time": "2022-05-14T20:48:26.275Z"
   },
   {
    "duration": 240,
    "start_time": "2022-05-14T20:48:26.369Z"
   },
   {
    "duration": 19,
    "start_time": "2022-05-14T20:48:26.611Z"
   },
   {
    "duration": 23,
    "start_time": "2022-05-14T20:48:26.631Z"
   },
   {
    "duration": 4,
    "start_time": "2022-05-14T20:48:26.655Z"
   },
   {
    "duration": 309,
    "start_time": "2022-05-14T20:48:26.660Z"
   },
   {
    "duration": 12,
    "start_time": "2022-05-14T20:48:26.971Z"
   },
   {
    "duration": 21,
    "start_time": "2022-05-14T20:48:26.985Z"
   },
   {
    "duration": 7,
    "start_time": "2022-05-14T20:48:27.008Z"
   },
   {
    "duration": 11,
    "start_time": "2022-05-14T20:48:27.017Z"
   },
   {
    "duration": 3315,
    "start_time": "2022-05-14T20:48:27.045Z"
   },
   {
    "duration": 381,
    "start_time": "2022-05-14T20:48:30.362Z"
   },
   {
    "duration": 5,
    "start_time": "2022-05-14T20:48:30.745Z"
   },
   {
    "duration": 37,
    "start_time": "2022-05-14T20:48:30.751Z"
   },
   {
    "duration": 533,
    "start_time": "2022-05-14T20:48:30.790Z"
   },
   {
    "duration": 5,
    "start_time": "2022-05-14T20:48:31.324Z"
   },
   {
    "duration": 25,
    "start_time": "2022-05-14T20:48:31.343Z"
   },
   {
    "duration": 1374,
    "start_time": "2022-05-14T20:48:31.370Z"
   },
   {
    "duration": 237,
    "start_time": "2022-05-14T20:48:32.746Z"
   },
   {
    "duration": 0,
    "start_time": "2022-05-14T20:48:32.985Z"
   },
   {
    "duration": 0,
    "start_time": "2022-05-14T20:48:32.986Z"
   },
   {
    "duration": 0,
    "start_time": "2022-05-14T20:48:32.987Z"
   },
   {
    "duration": 0,
    "start_time": "2022-05-14T20:48:32.988Z"
   },
   {
    "duration": 0,
    "start_time": "2022-05-14T20:48:33.044Z"
   },
   {
    "duration": 0,
    "start_time": "2022-05-14T20:48:33.045Z"
   },
   {
    "duration": 0,
    "start_time": "2022-05-14T20:48:33.046Z"
   },
   {
    "duration": 0,
    "start_time": "2022-05-14T20:48:33.047Z"
   },
   {
    "duration": 0,
    "start_time": "2022-05-14T20:48:33.048Z"
   },
   {
    "duration": 0,
    "start_time": "2022-05-14T20:48:33.049Z"
   },
   {
    "duration": 0,
    "start_time": "2022-05-14T20:48:33.050Z"
   },
   {
    "duration": 0,
    "start_time": "2022-05-14T20:48:33.051Z"
   },
   {
    "duration": 0,
    "start_time": "2022-05-14T20:48:33.052Z"
   },
   {
    "duration": 41,
    "start_time": "2022-05-14T20:50:33.909Z"
   },
   {
    "duration": 1488,
    "start_time": "2022-05-14T20:51:17.906Z"
   },
   {
    "duration": 674,
    "start_time": "2022-05-14T20:51:19.397Z"
   },
   {
    "duration": 4,
    "start_time": "2022-05-14T20:51:20.073Z"
   },
   {
    "duration": 30,
    "start_time": "2022-05-14T20:51:20.079Z"
   },
   {
    "duration": 141,
    "start_time": "2022-05-14T20:51:20.110Z"
   },
   {
    "duration": 13,
    "start_time": "2022-05-14T20:51:20.252Z"
   },
   {
    "duration": 213,
    "start_time": "2022-05-14T20:51:20.267Z"
   },
   {
    "duration": 18,
    "start_time": "2022-05-14T20:51:20.482Z"
   },
   {
    "duration": 54,
    "start_time": "2022-05-14T20:51:20.501Z"
   },
   {
    "duration": 9,
    "start_time": "2022-05-14T20:51:20.558Z"
   },
   {
    "duration": 119,
    "start_time": "2022-05-14T20:51:20.568Z"
   },
   {
    "duration": 18,
    "start_time": "2022-05-14T20:51:20.689Z"
   },
   {
    "duration": 117,
    "start_time": "2022-05-14T20:51:20.708Z"
   },
   {
    "duration": 25,
    "start_time": "2022-05-14T20:51:20.827Z"
   },
   {
    "duration": 219,
    "start_time": "2022-05-14T20:51:20.853Z"
   },
   {
    "duration": 11,
    "start_time": "2022-05-14T20:51:21.074Z"
   },
   {
    "duration": 53,
    "start_time": "2022-05-14T20:51:21.087Z"
   },
   {
    "duration": 97,
    "start_time": "2022-05-14T20:51:21.142Z"
   },
   {
    "duration": 234,
    "start_time": "2022-05-14T20:51:21.240Z"
   },
   {
    "duration": 17,
    "start_time": "2022-05-14T20:51:21.475Z"
   },
   {
    "duration": 14,
    "start_time": "2022-05-14T20:51:21.494Z"
   },
   {
    "duration": 4,
    "start_time": "2022-05-14T20:51:21.510Z"
   },
   {
    "duration": 302,
    "start_time": "2022-05-14T20:51:21.515Z"
   },
   {
    "duration": 10,
    "start_time": "2022-05-14T20:51:21.819Z"
   },
   {
    "duration": 20,
    "start_time": "2022-05-14T20:51:21.831Z"
   },
   {
    "duration": 6,
    "start_time": "2022-05-14T20:51:21.852Z"
   },
   {
    "duration": 11,
    "start_time": "2022-05-14T20:51:21.860Z"
   },
   {
    "duration": 3195,
    "start_time": "2022-05-14T20:51:21.874Z"
   },
   {
    "duration": 369,
    "start_time": "2022-05-14T20:51:25.071Z"
   },
   {
    "duration": 5,
    "start_time": "2022-05-14T20:51:25.443Z"
   },
   {
    "duration": 32,
    "start_time": "2022-05-14T20:51:25.449Z"
   },
   {
    "duration": 534,
    "start_time": "2022-05-14T20:51:25.482Z"
   },
   {
    "duration": 5,
    "start_time": "2022-05-14T20:51:26.017Z"
   },
   {
    "duration": 21,
    "start_time": "2022-05-14T20:51:26.024Z"
   },
   {
    "duration": 1297,
    "start_time": "2022-05-14T20:51:26.047Z"
   },
   {
    "duration": 230,
    "start_time": "2022-05-14T20:51:27.347Z"
   },
   {
    "duration": 0,
    "start_time": "2022-05-14T20:51:27.579Z"
   },
   {
    "duration": 0,
    "start_time": "2022-05-14T20:51:27.580Z"
   },
   {
    "duration": 0,
    "start_time": "2022-05-14T20:51:27.581Z"
   },
   {
    "duration": 0,
    "start_time": "2022-05-14T20:51:27.582Z"
   },
   {
    "duration": 0,
    "start_time": "2022-05-14T20:51:27.583Z"
   },
   {
    "duration": 0,
    "start_time": "2022-05-14T20:51:27.584Z"
   },
   {
    "duration": 0,
    "start_time": "2022-05-14T20:51:27.585Z"
   },
   {
    "duration": 0,
    "start_time": "2022-05-14T20:51:27.586Z"
   },
   {
    "duration": 0,
    "start_time": "2022-05-14T20:51:27.586Z"
   },
   {
    "duration": 0,
    "start_time": "2022-05-14T20:51:27.587Z"
   },
   {
    "duration": 0,
    "start_time": "2022-05-14T20:51:27.588Z"
   },
   {
    "duration": 0,
    "start_time": "2022-05-14T20:51:27.589Z"
   },
   {
    "duration": 0,
    "start_time": "2022-05-14T20:51:27.590Z"
   },
   {
    "duration": 33,
    "start_time": "2022-05-14T20:52:19.081Z"
   },
   {
    "duration": 33,
    "start_time": "2022-05-14T20:52:39.230Z"
   },
   {
    "duration": 31,
    "start_time": "2022-05-14T20:53:27.505Z"
   },
   {
    "duration": 116180,
    "start_time": "2022-05-14T20:53:45.304Z"
   },
   {
    "duration": 1511,
    "start_time": "2022-05-14T20:59:45.599Z"
   },
   {
    "duration": 652,
    "start_time": "2022-05-14T20:59:47.112Z"
   },
   {
    "duration": 4,
    "start_time": "2022-05-14T20:59:47.765Z"
   },
   {
    "duration": 28,
    "start_time": "2022-05-14T20:59:47.771Z"
   },
   {
    "duration": 144,
    "start_time": "2022-05-14T20:59:47.801Z"
   },
   {
    "duration": 12,
    "start_time": "2022-05-14T20:59:47.947Z"
   },
   {
    "duration": 210,
    "start_time": "2022-05-14T20:59:47.961Z"
   },
   {
    "duration": 17,
    "start_time": "2022-05-14T20:59:48.173Z"
   },
   {
    "duration": 31,
    "start_time": "2022-05-14T20:59:48.191Z"
   },
   {
    "duration": 26,
    "start_time": "2022-05-14T20:59:48.224Z"
   },
   {
    "duration": 122,
    "start_time": "2022-05-14T20:59:48.251Z"
   },
   {
    "duration": 18,
    "start_time": "2022-05-14T20:59:48.375Z"
   },
   {
    "duration": 124,
    "start_time": "2022-05-14T20:59:48.394Z"
   },
   {
    "duration": 23,
    "start_time": "2022-05-14T20:59:48.521Z"
   },
   {
    "duration": 214,
    "start_time": "2022-05-14T20:59:48.545Z"
   },
   {
    "duration": 12,
    "start_time": "2022-05-14T20:59:48.761Z"
   },
   {
    "duration": 37,
    "start_time": "2022-05-14T20:59:48.774Z"
   },
   {
    "duration": 88,
    "start_time": "2022-05-14T20:59:48.813Z"
   },
   {
    "duration": 227,
    "start_time": "2022-05-14T20:59:48.902Z"
   },
   {
    "duration": 22,
    "start_time": "2022-05-14T20:59:49.131Z"
   },
   {
    "duration": 13,
    "start_time": "2022-05-14T20:59:49.154Z"
   },
   {
    "duration": 3,
    "start_time": "2022-05-14T20:59:49.169Z"
   },
   {
    "duration": 304,
    "start_time": "2022-05-14T20:59:49.174Z"
   },
   {
    "duration": 11,
    "start_time": "2022-05-14T20:59:49.480Z"
   },
   {
    "duration": 9,
    "start_time": "2022-05-14T20:59:49.492Z"
   },
   {
    "duration": 7,
    "start_time": "2022-05-14T20:59:49.502Z"
   },
   {
    "duration": 33,
    "start_time": "2022-05-14T20:59:49.510Z"
   },
   {
    "duration": 3413,
    "start_time": "2022-05-14T20:59:49.544Z"
   },
   {
    "duration": 378,
    "start_time": "2022-05-14T20:59:52.959Z"
   },
   {
    "duration": 6,
    "start_time": "2022-05-14T20:59:53.339Z"
   },
   {
    "duration": 35,
    "start_time": "2022-05-14T20:59:53.347Z"
   },
   {
    "duration": 527,
    "start_time": "2022-05-14T20:59:53.384Z"
   },
   {
    "duration": 4,
    "start_time": "2022-05-14T20:59:53.912Z"
   },
   {
    "duration": 25,
    "start_time": "2022-05-14T20:59:53.918Z"
   },
   {
    "duration": 1299,
    "start_time": "2022-05-14T20:59:53.944Z"
   },
   {
    "duration": 119827,
    "start_time": "2022-05-14T20:59:55.246Z"
   },
   {
    "duration": 1645,
    "start_time": "2022-05-14T21:04:03.103Z"
   },
   {
    "duration": 1004,
    "start_time": "2022-05-14T21:04:04.750Z"
   },
   {
    "duration": 3,
    "start_time": "2022-05-14T21:04:05.756Z"
   },
   {
    "duration": 30,
    "start_time": "2022-05-14T21:04:05.761Z"
   },
   {
    "duration": 301,
    "start_time": "2022-05-14T21:04:05.844Z"
   },
   {
    "duration": 16,
    "start_time": "2022-05-14T21:04:06.147Z"
   },
   {
    "duration": 419,
    "start_time": "2022-05-14T21:04:06.164Z"
   },
   {
    "duration": 72,
    "start_time": "2022-05-14T21:04:06.584Z"
   },
   {
    "duration": 87,
    "start_time": "2022-05-14T21:04:06.658Z"
   },
   {
    "duration": 13,
    "start_time": "2022-05-14T21:04:06.749Z"
   },
   {
    "duration": 307,
    "start_time": "2022-05-14T21:04:06.764Z"
   },
   {
    "duration": 22,
    "start_time": "2022-05-14T21:04:07.073Z"
   },
   {
    "duration": 125,
    "start_time": "2022-05-14T21:04:07.097Z"
   },
   {
    "duration": 23,
    "start_time": "2022-05-14T21:04:07.224Z"
   },
   {
    "duration": 227,
    "start_time": "2022-05-14T21:04:07.250Z"
   },
   {
    "duration": 13,
    "start_time": "2022-05-14T21:04:07.479Z"
   },
   {
    "duration": 49,
    "start_time": "2022-05-14T21:04:07.494Z"
   },
   {
    "duration": 74,
    "start_time": "2022-05-14T21:04:07.545Z"
   },
   {
    "duration": 243,
    "start_time": "2022-05-14T21:04:07.620Z"
   },
   {
    "duration": 17,
    "start_time": "2022-05-14T21:04:07.865Z"
   },
   {
    "duration": 14,
    "start_time": "2022-05-14T21:04:07.884Z"
   },
   {
    "duration": 3,
    "start_time": "2022-05-14T21:04:07.900Z"
   },
   {
    "duration": 311,
    "start_time": "2022-05-14T21:04:07.905Z"
   },
   {
    "duration": 12,
    "start_time": "2022-05-14T21:04:08.217Z"
   },
   {
    "duration": 20,
    "start_time": "2022-05-14T21:04:08.231Z"
   },
   {
    "duration": 6,
    "start_time": "2022-05-14T21:04:08.253Z"
   },
   {
    "duration": 16,
    "start_time": "2022-05-14T21:04:08.261Z"
   },
   {
    "duration": 3480,
    "start_time": "2022-05-14T21:04:08.281Z"
   },
   {
    "duration": 385,
    "start_time": "2022-05-14T21:04:11.763Z"
   },
   {
    "duration": 5,
    "start_time": "2022-05-14T21:04:12.149Z"
   },
   {
    "duration": 37,
    "start_time": "2022-05-14T21:04:12.156Z"
   },
   {
    "duration": 530,
    "start_time": "2022-05-14T21:04:12.195Z"
   },
   {
    "duration": 4,
    "start_time": "2022-05-14T21:04:12.726Z"
   },
   {
    "duration": 16,
    "start_time": "2022-05-14T21:04:12.732Z"
   },
   {
    "duration": 1294,
    "start_time": "2022-05-14T21:04:12.750Z"
   },
   {
    "duration": 16783,
    "start_time": "2022-05-14T21:04:14.047Z"
   },
   {
    "duration": 1663,
    "start_time": "2022-05-14T21:06:02.603Z"
   },
   {
    "duration": 686,
    "start_time": "2022-05-14T21:06:04.269Z"
   },
   {
    "duration": 5,
    "start_time": "2022-05-14T21:06:04.957Z"
   },
   {
    "duration": 45,
    "start_time": "2022-05-14T21:06:04.965Z"
   },
   {
    "duration": 145,
    "start_time": "2022-05-14T21:06:05.013Z"
   },
   {
    "duration": 14,
    "start_time": "2022-05-14T21:06:05.160Z"
   },
   {
    "duration": 226,
    "start_time": "2022-05-14T21:06:05.176Z"
   },
   {
    "duration": 20,
    "start_time": "2022-05-14T21:06:05.404Z"
   },
   {
    "duration": 46,
    "start_time": "2022-05-14T21:06:05.426Z"
   },
   {
    "duration": 9,
    "start_time": "2022-05-14T21:06:05.475Z"
   },
   {
    "duration": 130,
    "start_time": "2022-05-14T21:06:05.486Z"
   },
   {
    "duration": 28,
    "start_time": "2022-05-14T21:06:05.618Z"
   },
   {
    "duration": 117,
    "start_time": "2022-05-14T21:06:05.648Z"
   },
   {
    "duration": 14,
    "start_time": "2022-05-14T21:06:05.767Z"
   },
   {
    "duration": 224,
    "start_time": "2022-05-14T21:06:05.782Z"
   },
   {
    "duration": 13,
    "start_time": "2022-05-14T21:06:06.008Z"
   },
   {
    "duration": 52,
    "start_time": "2022-05-14T21:06:06.023Z"
   },
   {
    "duration": 88,
    "start_time": "2022-05-14T21:06:06.077Z"
   },
   {
    "duration": 236,
    "start_time": "2022-05-14T21:06:06.167Z"
   },
   {
    "duration": 18,
    "start_time": "2022-05-14T21:06:06.405Z"
   },
   {
    "duration": 15,
    "start_time": "2022-05-14T21:06:06.443Z"
   },
   {
    "duration": 15,
    "start_time": "2022-05-14T21:06:06.459Z"
   },
   {
    "duration": 590,
    "start_time": "2022-05-14T21:06:06.475Z"
   },
   {
    "duration": 12,
    "start_time": "2022-05-14T21:06:07.067Z"
   },
   {
    "duration": 67,
    "start_time": "2022-05-14T21:06:07.081Z"
   },
   {
    "duration": 13,
    "start_time": "2022-05-14T21:06:07.149Z"
   },
   {
    "duration": 18,
    "start_time": "2022-05-14T21:06:07.163Z"
   },
   {
    "duration": 3976,
    "start_time": "2022-05-14T21:06:07.185Z"
   },
   {
    "duration": 392,
    "start_time": "2022-05-14T21:06:11.163Z"
   },
   {
    "duration": 5,
    "start_time": "2022-05-14T21:06:11.556Z"
   },
   {
    "duration": 48,
    "start_time": "2022-05-14T21:06:11.563Z"
   },
   {
    "duration": 526,
    "start_time": "2022-05-14T21:06:11.613Z"
   },
   {
    "duration": 5,
    "start_time": "2022-05-14T21:06:12.142Z"
   },
   {
    "duration": 32,
    "start_time": "2022-05-14T21:06:12.149Z"
   },
   {
    "duration": 1361,
    "start_time": "2022-05-14T21:06:12.183Z"
   },
   {
    "duration": 17422,
    "start_time": "2022-05-14T21:06:13.547Z"
   },
   {
    "duration": 122987,
    "start_time": "2022-05-14T21:06:30.971Z"
   },
   {
    "duration": 1514,
    "start_time": "2022-05-14T21:08:45.981Z"
   },
   {
    "duration": 674,
    "start_time": "2022-05-14T21:08:47.497Z"
   },
   {
    "duration": 4,
    "start_time": "2022-05-14T21:08:48.173Z"
   },
   {
    "duration": 53,
    "start_time": "2022-05-14T21:08:48.179Z"
   },
   {
    "duration": 148,
    "start_time": "2022-05-14T21:08:48.234Z"
   },
   {
    "duration": 15,
    "start_time": "2022-05-14T21:08:48.383Z"
   },
   {
    "duration": 225,
    "start_time": "2022-05-14T21:08:48.399Z"
   },
   {
    "duration": 29,
    "start_time": "2022-05-14T21:08:48.626Z"
   },
   {
    "duration": 34,
    "start_time": "2022-05-14T21:08:48.657Z"
   },
   {
    "duration": 9,
    "start_time": "2022-05-14T21:08:48.693Z"
   },
   {
    "duration": 127,
    "start_time": "2022-05-14T21:08:48.704Z"
   },
   {
    "duration": 24,
    "start_time": "2022-05-14T21:08:48.833Z"
   },
   {
    "duration": 117,
    "start_time": "2022-05-14T21:08:48.859Z"
   },
   {
    "duration": 13,
    "start_time": "2022-05-14T21:08:48.978Z"
   },
   {
    "duration": 231,
    "start_time": "2022-05-14T21:08:48.993Z"
   },
   {
    "duration": 12,
    "start_time": "2022-05-14T21:08:49.226Z"
   },
   {
    "duration": 38,
    "start_time": "2022-05-14T21:08:49.243Z"
   },
   {
    "duration": 93,
    "start_time": "2022-05-14T21:08:49.282Z"
   },
   {
    "duration": 224,
    "start_time": "2022-05-14T21:08:49.377Z"
   },
   {
    "duration": 19,
    "start_time": "2022-05-14T21:08:49.603Z"
   },
   {
    "duration": 31,
    "start_time": "2022-05-14T21:08:49.624Z"
   },
   {
    "duration": 4,
    "start_time": "2022-05-14T21:08:49.657Z"
   },
   {
    "duration": 323,
    "start_time": "2022-05-14T21:08:49.663Z"
   },
   {
    "duration": 12,
    "start_time": "2022-05-14T21:08:49.988Z"
   },
   {
    "duration": 11,
    "start_time": "2022-05-14T21:08:50.002Z"
   },
   {
    "duration": 7,
    "start_time": "2022-05-14T21:08:50.015Z"
   },
   {
    "duration": 12,
    "start_time": "2022-05-14T21:08:50.044Z"
   },
   {
    "duration": 4550,
    "start_time": "2022-05-14T21:08:50.060Z"
   },
   {
    "duration": 442,
    "start_time": "2022-05-14T21:08:54.612Z"
   },
   {
    "duration": 6,
    "start_time": "2022-05-14T21:08:55.056Z"
   },
   {
    "duration": 39,
    "start_time": "2022-05-14T21:08:55.063Z"
   },
   {
    "duration": 552,
    "start_time": "2022-05-14T21:08:55.103Z"
   },
   {
    "duration": 5,
    "start_time": "2022-05-14T21:08:55.656Z"
   },
   {
    "duration": 12,
    "start_time": "2022-05-14T21:08:55.663Z"
   },
   {
    "duration": 1367,
    "start_time": "2022-05-14T21:08:55.677Z"
   },
   {
    "duration": 18311,
    "start_time": "2022-05-14T21:08:57.046Z"
   },
   {
    "duration": 1620,
    "start_time": "2022-05-14T21:10:39.121Z"
   },
   {
    "duration": 1343,
    "start_time": "2022-05-14T21:10:40.743Z"
   },
   {
    "duration": 4,
    "start_time": "2022-05-14T21:10:42.142Z"
   },
   {
    "duration": 44,
    "start_time": "2022-05-14T21:10:42.148Z"
   },
   {
    "duration": 286,
    "start_time": "2022-05-14T21:10:42.193Z"
   },
   {
    "duration": 69,
    "start_time": "2022-05-14T21:10:42.481Z"
   },
   {
    "duration": 243,
    "start_time": "2022-05-14T21:10:42.552Z"
   },
   {
    "duration": 19,
    "start_time": "2022-05-14T21:10:42.797Z"
   },
   {
    "duration": 50,
    "start_time": "2022-05-14T21:10:42.818Z"
   },
   {
    "duration": 9,
    "start_time": "2022-05-14T21:10:42.871Z"
   },
   {
    "duration": 132,
    "start_time": "2022-05-14T21:10:42.882Z"
   },
   {
    "duration": 18,
    "start_time": "2022-05-14T21:10:43.016Z"
   },
   {
    "duration": 114,
    "start_time": "2022-05-14T21:10:43.042Z"
   },
   {
    "duration": 15,
    "start_time": "2022-05-14T21:10:43.158Z"
   },
   {
    "duration": 232,
    "start_time": "2022-05-14T21:10:43.175Z"
   },
   {
    "duration": 13,
    "start_time": "2022-05-14T21:10:43.408Z"
   },
   {
    "duration": 47,
    "start_time": "2022-05-14T21:10:43.423Z"
   },
   {
    "duration": 87,
    "start_time": "2022-05-14T21:10:43.472Z"
   },
   {
    "duration": 236,
    "start_time": "2022-05-14T21:10:43.561Z"
   },
   {
    "duration": 19,
    "start_time": "2022-05-14T21:10:43.798Z"
   },
   {
    "duration": 33,
    "start_time": "2022-05-14T21:10:43.819Z"
   },
   {
    "duration": 4,
    "start_time": "2022-05-14T21:10:43.853Z"
   },
   {
    "duration": 296,
    "start_time": "2022-05-14T21:10:43.859Z"
   },
   {
    "duration": 11,
    "start_time": "2022-05-14T21:10:44.156Z"
   },
   {
    "duration": 11,
    "start_time": "2022-05-14T21:10:44.169Z"
   },
   {
    "duration": 13,
    "start_time": "2022-05-14T21:10:44.182Z"
   },
   {
    "duration": 24,
    "start_time": "2022-05-14T21:10:44.196Z"
   },
   {
    "duration": 3543,
    "start_time": "2022-05-14T21:10:44.224Z"
   },
   {
    "duration": 377,
    "start_time": "2022-05-14T21:10:47.768Z"
   },
   {
    "duration": 5,
    "start_time": "2022-05-14T21:10:48.146Z"
   },
   {
    "duration": 47,
    "start_time": "2022-05-14T21:10:48.153Z"
   },
   {
    "duration": 552,
    "start_time": "2022-05-14T21:10:48.202Z"
   },
   {
    "duration": 5,
    "start_time": "2022-05-14T21:10:48.755Z"
   },
   {
    "duration": 27,
    "start_time": "2022-05-14T21:10:48.761Z"
   },
   {
    "duration": 360,
    "start_time": "2022-05-14T21:10:48.790Z"
   },
   {
    "duration": 0,
    "start_time": "2022-05-14T21:10:49.152Z"
   },
   {
    "duration": 0,
    "start_time": "2022-05-14T21:10:49.153Z"
   },
   {
    "duration": 0,
    "start_time": "2022-05-14T21:10:49.155Z"
   },
   {
    "duration": 0,
    "start_time": "2022-05-14T21:10:49.155Z"
   },
   {
    "duration": 0,
    "start_time": "2022-05-14T21:10:49.157Z"
   },
   {
    "duration": 0,
    "start_time": "2022-05-14T21:10:49.158Z"
   },
   {
    "duration": 0,
    "start_time": "2022-05-14T21:10:49.160Z"
   },
   {
    "duration": 0,
    "start_time": "2022-05-14T21:10:49.161Z"
   },
   {
    "duration": 0,
    "start_time": "2022-05-14T21:10:49.162Z"
   },
   {
    "duration": 0,
    "start_time": "2022-05-14T21:10:49.163Z"
   },
   {
    "duration": 0,
    "start_time": "2022-05-14T21:10:49.164Z"
   },
   {
    "duration": 0,
    "start_time": "2022-05-14T21:10:49.165Z"
   },
   {
    "duration": 0,
    "start_time": "2022-05-14T21:10:49.166Z"
   },
   {
    "duration": 0,
    "start_time": "2022-05-14T21:10:49.167Z"
   },
   {
    "duration": 0,
    "start_time": "2022-05-14T21:10:49.168Z"
   },
   {
    "duration": 5,
    "start_time": "2022-05-14T21:13:44.654Z"
   },
   {
    "duration": 8,
    "start_time": "2022-05-14T21:13:48.061Z"
   },
   {
    "duration": 128,
    "start_time": "2022-05-14T21:13:49.724Z"
   },
   {
    "duration": 11433,
    "start_time": "2022-05-14T21:13:54.225Z"
   },
   {
    "duration": 5,
    "start_time": "2022-05-14T21:14:34.167Z"
   },
   {
    "duration": 8,
    "start_time": "2022-05-14T21:14:36.788Z"
   },
   {
    "duration": 201,
    "start_time": "2022-05-14T21:14:38.150Z"
   },
   {
    "duration": 11360,
    "start_time": "2022-05-14T21:14:52.330Z"
   },
   {
    "duration": 4,
    "start_time": "2022-05-14T21:15:11.892Z"
   },
   {
    "duration": 9,
    "start_time": "2022-05-14T21:15:12.770Z"
   },
   {
    "duration": 132,
    "start_time": "2022-05-14T21:15:13.117Z"
   },
   {
    "duration": 472,
    "start_time": "2022-05-14T21:15:39.182Z"
   },
   {
    "duration": 459,
    "start_time": "2022-05-14T21:16:25.526Z"
   },
   {
    "duration": 477,
    "start_time": "2022-05-14T21:16:38.020Z"
   },
   {
    "duration": 513,
    "start_time": "2022-05-14T21:16:53.136Z"
   },
   {
    "duration": 5,
    "start_time": "2022-05-14T21:17:10.272Z"
   },
   {
    "duration": 9,
    "start_time": "2022-05-14T21:17:16.154Z"
   },
   {
    "duration": 200,
    "start_time": "2022-05-14T21:17:17.350Z"
   },
   {
    "duration": 5,
    "start_time": "2022-05-14T21:17:48.423Z"
   },
   {
    "duration": 9,
    "start_time": "2022-05-14T21:17:51.127Z"
   },
   {
    "duration": 1314,
    "start_time": "2022-05-14T21:17:51.830Z"
   },
   {
    "duration": 469,
    "start_time": "2022-05-14T21:17:54.896Z"
   },
   {
    "duration": 1592,
    "start_time": "2022-05-14T21:18:50.230Z"
   },
   {
    "duration": 695,
    "start_time": "2022-05-14T21:18:51.824Z"
   },
   {
    "duration": 3,
    "start_time": "2022-05-14T21:18:52.521Z"
   },
   {
    "duration": 56,
    "start_time": "2022-05-14T21:18:52.526Z"
   },
   {
    "duration": 132,
    "start_time": "2022-05-14T21:18:52.584Z"
   },
   {
    "duration": 25,
    "start_time": "2022-05-14T21:18:52.718Z"
   },
   {
    "duration": 208,
    "start_time": "2022-05-14T21:18:52.745Z"
   },
   {
    "duration": 20,
    "start_time": "2022-05-14T21:18:52.955Z"
   },
   {
    "duration": 34,
    "start_time": "2022-05-14T21:18:52.977Z"
   },
   {
    "duration": 31,
    "start_time": "2022-05-14T21:18:53.013Z"
   },
   {
    "duration": 126,
    "start_time": "2022-05-14T21:18:53.046Z"
   },
   {
    "duration": 19,
    "start_time": "2022-05-14T21:18:53.174Z"
   },
   {
    "duration": 128,
    "start_time": "2022-05-14T21:18:53.195Z"
   },
   {
    "duration": 23,
    "start_time": "2022-05-14T21:18:53.325Z"
   },
   {
    "duration": 223,
    "start_time": "2022-05-14T21:18:53.350Z"
   },
   {
    "duration": 13,
    "start_time": "2022-05-14T21:18:53.575Z"
   },
   {
    "duration": 46,
    "start_time": "2022-05-14T21:18:53.589Z"
   },
   {
    "duration": 83,
    "start_time": "2022-05-14T21:18:53.643Z"
   },
   {
    "duration": 241,
    "start_time": "2022-05-14T21:18:53.727Z"
   },
   {
    "duration": 19,
    "start_time": "2022-05-14T21:18:53.969Z"
   },
   {
    "duration": 30,
    "start_time": "2022-05-14T21:18:53.989Z"
   },
   {
    "duration": 11,
    "start_time": "2022-05-14T21:18:54.020Z"
   },
   {
    "duration": 334,
    "start_time": "2022-05-14T21:18:54.032Z"
   },
   {
    "duration": 11,
    "start_time": "2022-05-14T21:18:54.368Z"
   },
   {
    "duration": 16,
    "start_time": "2022-05-14T21:18:54.381Z"
   },
   {
    "duration": 7,
    "start_time": "2022-05-14T21:18:54.398Z"
   },
   {
    "duration": 19,
    "start_time": "2022-05-14T21:18:54.407Z"
   },
   {
    "duration": 3541,
    "start_time": "2022-05-14T21:18:54.430Z"
   },
   {
    "duration": 369,
    "start_time": "2022-05-14T21:18:57.973Z"
   },
   {
    "duration": 5,
    "start_time": "2022-05-14T21:18:58.345Z"
   },
   {
    "duration": 32,
    "start_time": "2022-05-14T21:18:58.352Z"
   },
   {
    "duration": 601,
    "start_time": "2022-05-14T21:18:58.386Z"
   },
   {
    "duration": 5,
    "start_time": "2022-05-14T21:18:58.990Z"
   },
   {
    "duration": 13,
    "start_time": "2022-05-14T21:18:58.997Z"
   },
   {
    "duration": 1332,
    "start_time": "2022-05-14T21:18:59.012Z"
   },
   {
    "duration": 743,
    "start_time": "2022-05-14T21:19:00.346Z"
   },
   {
    "duration": 0,
    "start_time": "2022-05-14T21:19:01.090Z"
   },
   {
    "duration": 0,
    "start_time": "2022-05-14T21:19:01.092Z"
   },
   {
    "duration": 0,
    "start_time": "2022-05-14T21:19:01.093Z"
   },
   {
    "duration": 0,
    "start_time": "2022-05-14T21:19:01.094Z"
   },
   {
    "duration": 0,
    "start_time": "2022-05-14T21:19:01.095Z"
   },
   {
    "duration": 0,
    "start_time": "2022-05-14T21:19:01.096Z"
   },
   {
    "duration": 0,
    "start_time": "2022-05-14T21:19:01.098Z"
   },
   {
    "duration": 0,
    "start_time": "2022-05-14T21:19:01.099Z"
   },
   {
    "duration": 0,
    "start_time": "2022-05-14T21:19:01.100Z"
   },
   {
    "duration": 0,
    "start_time": "2022-05-14T21:19:01.101Z"
   },
   {
    "duration": 0,
    "start_time": "2022-05-14T21:19:01.102Z"
   },
   {
    "duration": 0,
    "start_time": "2022-05-14T21:19:01.103Z"
   },
   {
    "duration": 0,
    "start_time": "2022-05-14T21:19:01.105Z"
   },
   {
    "duration": 0,
    "start_time": "2022-05-14T21:19:01.106Z"
   },
   {
    "duration": 490,
    "start_time": "2022-05-14T21:19:53.582Z"
   },
   {
    "duration": 17289,
    "start_time": "2022-05-14T21:20:55.154Z"
   },
   {
    "duration": 16250,
    "start_time": "2022-05-14T21:21:50.765Z"
   },
   {
    "duration": 16203,
    "start_time": "2022-05-14T21:22:07.769Z"
   },
   {
    "duration": 15023,
    "start_time": "2022-05-14T21:27:03.069Z"
   },
   {
    "duration": 14527,
    "start_time": "2022-05-14T21:27:22.526Z"
   },
   {
    "duration": 3,
    "start_time": "2022-05-14T21:33:39.565Z"
   },
   {
    "duration": 316,
    "start_time": "2022-05-14T21:33:40.507Z"
   },
   {
    "duration": 278,
    "start_time": "2022-05-14T21:36:17.946Z"
   },
   {
    "duration": 283,
    "start_time": "2022-05-14T21:36:34.204Z"
   },
   {
    "duration": 285,
    "start_time": "2022-05-14T21:36:59.811Z"
   },
   {
    "duration": 1569,
    "start_time": "2022-05-14T21:37:10.417Z"
   },
   {
    "duration": 677,
    "start_time": "2022-05-14T21:37:11.989Z"
   },
   {
    "duration": 4,
    "start_time": "2022-05-14T21:37:12.668Z"
   },
   {
    "duration": 30,
    "start_time": "2022-05-14T21:37:12.674Z"
   },
   {
    "duration": 146,
    "start_time": "2022-05-14T21:37:12.705Z"
   },
   {
    "duration": 13,
    "start_time": "2022-05-14T21:37:12.852Z"
   },
   {
    "duration": 224,
    "start_time": "2022-05-14T21:37:12.866Z"
   },
   {
    "duration": 19,
    "start_time": "2022-05-14T21:37:13.092Z"
   },
   {
    "duration": 52,
    "start_time": "2022-05-14T21:37:13.113Z"
   },
   {
    "duration": 9,
    "start_time": "2022-05-14T21:37:13.168Z"
   },
   {
    "duration": 130,
    "start_time": "2022-05-14T21:37:13.179Z"
   },
   {
    "duration": 20,
    "start_time": "2022-05-14T21:37:13.311Z"
   },
   {
    "duration": 124,
    "start_time": "2022-05-14T21:37:13.343Z"
   },
   {
    "duration": 14,
    "start_time": "2022-05-14T21:37:13.469Z"
   },
   {
    "duration": 240,
    "start_time": "2022-05-14T21:37:13.486Z"
   },
   {
    "duration": 18,
    "start_time": "2022-05-14T21:37:13.728Z"
   },
   {
    "duration": 58,
    "start_time": "2022-05-14T21:37:13.748Z"
   },
   {
    "duration": 80,
    "start_time": "2022-05-14T21:37:13.807Z"
   },
   {
    "duration": 239,
    "start_time": "2022-05-14T21:37:13.889Z"
   },
   {
    "duration": 23,
    "start_time": "2022-05-14T21:37:14.130Z"
   },
   {
    "duration": 14,
    "start_time": "2022-05-14T21:37:14.155Z"
   },
   {
    "duration": 4,
    "start_time": "2022-05-14T21:37:14.171Z"
   },
   {
    "duration": 319,
    "start_time": "2022-05-14T21:37:14.176Z"
   },
   {
    "duration": 12,
    "start_time": "2022-05-14T21:37:14.497Z"
   },
   {
    "duration": 10,
    "start_time": "2022-05-14T21:37:14.511Z"
   },
   {
    "duration": 25,
    "start_time": "2022-05-14T21:37:14.523Z"
   },
   {
    "duration": 12,
    "start_time": "2022-05-14T21:37:14.550Z"
   },
   {
    "duration": 5104,
    "start_time": "2022-05-14T21:37:14.566Z"
   },
   {
    "duration": 383,
    "start_time": "2022-05-14T21:37:19.672Z"
   },
   {
    "duration": 6,
    "start_time": "2022-05-14T21:37:20.056Z"
   },
   {
    "duration": 35,
    "start_time": "2022-05-14T21:37:20.063Z"
   },
   {
    "duration": 565,
    "start_time": "2022-05-14T21:37:20.099Z"
   },
   {
    "duration": 5,
    "start_time": "2022-05-14T21:37:20.665Z"
   },
   {
    "duration": 13,
    "start_time": "2022-05-14T21:37:20.672Z"
   },
   {
    "duration": 1357,
    "start_time": "2022-05-14T21:37:20.687Z"
   },
   {
    "duration": 4,
    "start_time": "2022-05-14T21:37:22.047Z"
   },
   {
    "duration": 470,
    "start_time": "2022-05-14T21:37:22.053Z"
   },
   {
    "duration": 0,
    "start_time": "2022-05-14T21:37:22.525Z"
   },
   {
    "duration": 0,
    "start_time": "2022-05-14T21:37:22.526Z"
   },
   {
    "duration": 0,
    "start_time": "2022-05-14T21:37:22.527Z"
   },
   {
    "duration": 0,
    "start_time": "2022-05-14T21:37:22.527Z"
   },
   {
    "duration": 0,
    "start_time": "2022-05-14T21:37:22.528Z"
   },
   {
    "duration": 0,
    "start_time": "2022-05-14T21:37:22.529Z"
   },
   {
    "duration": 0,
    "start_time": "2022-05-14T21:37:22.529Z"
   },
   {
    "duration": 0,
    "start_time": "2022-05-14T21:37:22.543Z"
   },
   {
    "duration": 0,
    "start_time": "2022-05-14T21:37:22.544Z"
   },
   {
    "duration": 0,
    "start_time": "2022-05-14T21:37:22.545Z"
   },
   {
    "duration": 0,
    "start_time": "2022-05-14T21:37:22.546Z"
   },
   {
    "duration": 105,
    "start_time": "2022-05-14T21:37:41.898Z"
   },
   {
    "duration": 300,
    "start_time": "2022-05-14T21:37:50.986Z"
   },
   {
    "duration": 4,
    "start_time": "2022-05-14T21:38:32.267Z"
   },
   {
    "duration": 278,
    "start_time": "2022-05-14T21:38:33.797Z"
   },
   {
    "duration": 332,
    "start_time": "2022-05-14T21:39:09.286Z"
   },
   {
    "duration": 319,
    "start_time": "2022-05-14T21:39:55.550Z"
   },
   {
    "duration": 327,
    "start_time": "2022-05-14T21:40:23.249Z"
   },
   {
    "duration": 1430,
    "start_time": "2022-05-14T21:59:10.464Z"
   },
   {
    "duration": 662,
    "start_time": "2022-05-14T21:59:11.896Z"
   },
   {
    "duration": 4,
    "start_time": "2022-05-14T21:59:12.559Z"
   },
   {
    "duration": 29,
    "start_time": "2022-05-14T21:59:12.565Z"
   },
   {
    "duration": 137,
    "start_time": "2022-05-14T21:59:12.596Z"
   },
   {
    "duration": 18,
    "start_time": "2022-05-14T21:59:12.734Z"
   },
   {
    "duration": 209,
    "start_time": "2022-05-14T21:59:12.753Z"
   },
   {
    "duration": 17,
    "start_time": "2022-05-14T21:59:12.963Z"
   },
   {
    "duration": 33,
    "start_time": "2022-05-14T21:59:12.982Z"
   },
   {
    "duration": 26,
    "start_time": "2022-05-14T21:59:13.017Z"
   },
   {
    "duration": 112,
    "start_time": "2022-05-14T21:59:13.044Z"
   },
   {
    "duration": 17,
    "start_time": "2022-05-14T21:59:13.158Z"
   },
   {
    "duration": 122,
    "start_time": "2022-05-14T21:59:13.177Z"
   },
   {
    "duration": 13,
    "start_time": "2022-05-14T21:59:13.300Z"
   },
   {
    "duration": 218,
    "start_time": "2022-05-14T21:59:13.315Z"
   },
   {
    "duration": 16,
    "start_time": "2022-05-14T21:59:13.535Z"
   },
   {
    "duration": 64,
    "start_time": "2022-05-14T21:59:13.552Z"
   },
   {
    "duration": 73,
    "start_time": "2022-05-14T21:59:13.618Z"
   },
   {
    "duration": 212,
    "start_time": "2022-05-14T21:59:13.692Z"
   },
   {
    "duration": 17,
    "start_time": "2022-05-14T21:59:13.906Z"
   },
   {
    "duration": 26,
    "start_time": "2022-05-14T21:59:13.924Z"
   },
   {
    "duration": 3,
    "start_time": "2022-05-14T21:59:13.952Z"
   },
   {
    "duration": 296,
    "start_time": "2022-05-14T21:59:13.957Z"
   },
   {
    "duration": 12,
    "start_time": "2022-05-14T21:59:14.255Z"
   },
   {
    "duration": 10,
    "start_time": "2022-05-14T21:59:14.269Z"
   },
   {
    "duration": 7,
    "start_time": "2022-05-14T21:59:14.280Z"
   },
   {
    "duration": 11,
    "start_time": "2022-05-14T21:59:14.288Z"
   },
   {
    "duration": 3250,
    "start_time": "2022-05-14T21:59:14.302Z"
   },
   {
    "duration": 376,
    "start_time": "2022-05-14T21:59:17.554Z"
   },
   {
    "duration": 5,
    "start_time": "2022-05-14T21:59:17.931Z"
   },
   {
    "duration": 28,
    "start_time": "2022-05-14T21:59:17.942Z"
   },
   {
    "duration": 516,
    "start_time": "2022-05-14T21:59:17.971Z"
   },
   {
    "duration": 4,
    "start_time": "2022-05-14T21:59:18.489Z"
   },
   {
    "duration": 12,
    "start_time": "2022-05-14T21:59:18.494Z"
   },
   {
    "duration": 1337,
    "start_time": "2022-05-14T21:59:18.508Z"
   },
   {
    "duration": 217,
    "start_time": "2022-05-14T21:59:19.847Z"
   },
   {
    "duration": 0,
    "start_time": "2022-05-14T21:59:20.066Z"
   },
   {
    "duration": 0,
    "start_time": "2022-05-14T21:59:20.067Z"
   },
   {
    "duration": 0,
    "start_time": "2022-05-14T21:59:20.068Z"
   },
   {
    "duration": 0,
    "start_time": "2022-05-14T21:59:20.069Z"
   },
   {
    "duration": 0,
    "start_time": "2022-05-14T21:59:20.070Z"
   },
   {
    "duration": 0,
    "start_time": "2022-05-14T21:59:20.071Z"
   },
   {
    "duration": 0,
    "start_time": "2022-05-14T21:59:20.072Z"
   },
   {
    "duration": 0,
    "start_time": "2022-05-14T21:59:20.074Z"
   },
   {
    "duration": 0,
    "start_time": "2022-05-14T21:59:20.075Z"
   },
   {
    "duration": 0,
    "start_time": "2022-05-14T21:59:20.076Z"
   },
   {
    "duration": 0,
    "start_time": "2022-05-14T21:59:20.077Z"
   },
   {
    "duration": 0,
    "start_time": "2022-05-14T21:59:20.078Z"
   },
   {
    "duration": 0,
    "start_time": "2022-05-14T21:59:20.079Z"
   },
   {
    "duration": 1551,
    "start_time": "2022-05-14T22:00:51.155Z"
   },
   {
    "duration": 671,
    "start_time": "2022-05-14T22:00:52.708Z"
   },
   {
    "duration": 4,
    "start_time": "2022-05-14T22:00:53.381Z"
   },
   {
    "duration": 27,
    "start_time": "2022-05-14T22:00:53.387Z"
   },
   {
    "duration": 149,
    "start_time": "2022-05-14T22:00:53.416Z"
   },
   {
    "duration": 12,
    "start_time": "2022-05-14T22:00:53.567Z"
   },
   {
    "duration": 216,
    "start_time": "2022-05-14T22:00:53.581Z"
   },
   {
    "duration": 19,
    "start_time": "2022-05-14T22:00:53.799Z"
   },
   {
    "duration": 47,
    "start_time": "2022-05-14T22:00:53.820Z"
   },
   {
    "duration": 9,
    "start_time": "2022-05-14T22:00:53.871Z"
   },
   {
    "duration": 127,
    "start_time": "2022-05-14T22:00:53.882Z"
   },
   {
    "duration": 32,
    "start_time": "2022-05-14T22:00:54.011Z"
   },
   {
    "duration": 118,
    "start_time": "2022-05-14T22:00:54.044Z"
   },
   {
    "duration": 15,
    "start_time": "2022-05-14T22:00:54.164Z"
   },
   {
    "duration": 233,
    "start_time": "2022-05-14T22:00:54.181Z"
   },
   {
    "duration": 13,
    "start_time": "2022-05-14T22:00:54.416Z"
   },
   {
    "duration": 35,
    "start_time": "2022-05-14T22:00:54.443Z"
   },
   {
    "duration": 84,
    "start_time": "2022-05-14T22:00:54.480Z"
   },
   {
    "duration": 236,
    "start_time": "2022-05-14T22:00:54.565Z"
   },
   {
    "duration": 19,
    "start_time": "2022-05-14T22:00:54.802Z"
   },
   {
    "duration": 26,
    "start_time": "2022-05-14T22:00:54.823Z"
   },
   {
    "duration": 4,
    "start_time": "2022-05-14T22:00:54.851Z"
   },
   {
    "duration": 306,
    "start_time": "2022-05-14T22:00:54.856Z"
   },
   {
    "duration": 12,
    "start_time": "2022-05-14T22:00:55.164Z"
   },
   {
    "duration": 11,
    "start_time": "2022-05-14T22:00:55.177Z"
   },
   {
    "duration": 7,
    "start_time": "2022-05-14T22:00:55.189Z"
   },
   {
    "duration": 10,
    "start_time": "2022-05-14T22:00:55.198Z"
   },
   {
    "duration": 3321,
    "start_time": "2022-05-14T22:00:55.242Z"
   },
   {
    "duration": 389,
    "start_time": "2022-05-14T22:00:58.564Z"
   },
   {
    "duration": 6,
    "start_time": "2022-05-14T22:00:58.955Z"
   },
   {
    "duration": 40,
    "start_time": "2022-05-14T22:00:58.962Z"
   },
   {
    "duration": 550,
    "start_time": "2022-05-14T22:00:59.004Z"
   },
   {
    "duration": 4,
    "start_time": "2022-05-14T22:00:59.556Z"
   },
   {
    "duration": 19,
    "start_time": "2022-05-14T22:00:59.562Z"
   },
   {
    "duration": 1361,
    "start_time": "2022-05-14T22:00:59.583Z"
   },
   {
    "duration": 1532,
    "start_time": "2022-05-14T22:06:15.324Z"
   },
   {
    "duration": 683,
    "start_time": "2022-05-14T22:06:16.858Z"
   },
   {
    "duration": 4,
    "start_time": "2022-05-14T22:06:17.542Z"
   },
   {
    "duration": 25,
    "start_time": "2022-05-14T22:06:17.548Z"
   },
   {
    "duration": 145,
    "start_time": "2022-05-14T22:06:17.574Z"
   },
   {
    "duration": 23,
    "start_time": "2022-05-14T22:06:17.720Z"
   },
   {
    "duration": 206,
    "start_time": "2022-05-14T22:06:17.745Z"
   },
   {
    "duration": 18,
    "start_time": "2022-05-14T22:06:17.953Z"
   },
   {
    "duration": 35,
    "start_time": "2022-05-14T22:06:17.972Z"
   },
   {
    "duration": 10,
    "start_time": "2022-05-14T22:06:18.009Z"
   },
   {
    "duration": 139,
    "start_time": "2022-05-14T22:06:18.020Z"
   },
   {
    "duration": 18,
    "start_time": "2022-05-14T22:06:18.160Z"
   },
   {
    "duration": 119,
    "start_time": "2022-05-14T22:06:18.179Z"
   },
   {
    "duration": 13,
    "start_time": "2022-05-14T22:06:18.299Z"
   },
   {
    "duration": 225,
    "start_time": "2022-05-14T22:06:18.314Z"
   },
   {
    "duration": 11,
    "start_time": "2022-05-14T22:06:18.542Z"
   },
   {
    "duration": 51,
    "start_time": "2022-05-14T22:06:18.554Z"
   },
   {
    "duration": 74,
    "start_time": "2022-05-14T22:06:18.606Z"
   },
   {
    "duration": 229,
    "start_time": "2022-05-14T22:06:18.682Z"
   },
   {
    "duration": 30,
    "start_time": "2022-05-14T22:06:18.913Z"
   },
   {
    "duration": 14,
    "start_time": "2022-05-14T22:06:18.944Z"
   },
   {
    "duration": 24,
    "start_time": "2022-05-14T22:06:18.960Z"
   },
   {
    "duration": 315,
    "start_time": "2022-05-14T22:06:18.986Z"
   },
   {
    "duration": 11,
    "start_time": "2022-05-14T22:06:19.303Z"
   },
   {
    "duration": 19,
    "start_time": "2022-05-14T22:06:19.315Z"
   },
   {
    "duration": 22,
    "start_time": "2022-05-14T22:06:19.335Z"
   },
   {
    "duration": 32,
    "start_time": "2022-05-14T22:06:19.359Z"
   },
   {
    "duration": 3267,
    "start_time": "2022-05-14T22:06:19.395Z"
   },
   {
    "duration": 387,
    "start_time": "2022-05-14T22:06:22.663Z"
   },
   {
    "duration": 5,
    "start_time": "2022-05-14T22:06:23.052Z"
   },
   {
    "duration": 35,
    "start_time": "2022-05-14T22:06:23.059Z"
   },
   {
    "duration": 546,
    "start_time": "2022-05-14T22:06:23.096Z"
   },
   {
    "duration": 4,
    "start_time": "2022-05-14T22:06:23.644Z"
   },
   {
    "duration": 13,
    "start_time": "2022-05-14T22:06:23.650Z"
   },
   {
    "duration": 1280,
    "start_time": "2022-05-14T22:06:23.664Z"
   },
   {
    "duration": 69588,
    "start_time": "2022-05-14T22:06:24.946Z"
   },
   {
    "duration": 3566,
    "start_time": "2022-05-14T22:07:34.535Z"
   },
   {
    "duration": 94,
    "start_time": "2022-05-14T22:07:38.103Z"
   },
   {
    "duration": 14,
    "start_time": "2022-05-14T22:07:38.199Z"
   },
   {
    "duration": 25,
    "start_time": "2022-05-14T22:07:38.215Z"
   },
   {
    "duration": 28,
    "start_time": "2022-05-14T22:07:38.241Z"
   },
   {
    "duration": 173,
    "start_time": "2022-05-14T22:07:38.271Z"
   },
   {
    "duration": 8,
    "start_time": "2022-05-14T22:07:38.446Z"
   },
   {
    "duration": 69787,
    "start_time": "2022-05-14T22:07:38.455Z"
   },
   {
    "duration": 1648,
    "start_time": "2022-05-14T22:13:42.237Z"
   },
   {
    "duration": 1283,
    "start_time": "2022-05-14T22:13:43.887Z"
   },
   {
    "duration": 3,
    "start_time": "2022-05-14T22:13:45.172Z"
   },
   {
    "duration": 29,
    "start_time": "2022-05-14T22:13:45.177Z"
   },
   {
    "duration": 145,
    "start_time": "2022-05-14T22:13:45.208Z"
   },
   {
    "duration": 16,
    "start_time": "2022-05-14T22:13:45.355Z"
   },
   {
    "duration": 214,
    "start_time": "2022-05-14T22:13:45.373Z"
   },
   {
    "duration": 18,
    "start_time": "2022-05-14T22:13:45.588Z"
   },
   {
    "duration": 46,
    "start_time": "2022-05-14T22:13:45.607Z"
   },
   {
    "duration": 9,
    "start_time": "2022-05-14T22:13:45.656Z"
   },
   {
    "duration": 119,
    "start_time": "2022-05-14T22:13:45.667Z"
   },
   {
    "duration": 19,
    "start_time": "2022-05-14T22:13:45.788Z"
   },
   {
    "duration": 126,
    "start_time": "2022-05-14T22:13:45.808Z"
   },
   {
    "duration": 16,
    "start_time": "2022-05-14T22:13:45.936Z"
   },
   {
    "duration": 214,
    "start_time": "2022-05-14T22:13:45.953Z"
   },
   {
    "duration": 11,
    "start_time": "2022-05-14T22:13:46.169Z"
   },
   {
    "duration": 37,
    "start_time": "2022-05-14T22:13:46.182Z"
   },
   {
    "duration": 89,
    "start_time": "2022-05-14T22:13:46.220Z"
   },
   {
    "duration": 241,
    "start_time": "2022-05-14T22:13:46.311Z"
   },
   {
    "duration": 19,
    "start_time": "2022-05-14T22:13:46.553Z"
   },
   {
    "duration": 14,
    "start_time": "2022-05-14T22:13:46.574Z"
   },
   {
    "duration": 4,
    "start_time": "2022-05-14T22:13:46.589Z"
   },
   {
    "duration": 317,
    "start_time": "2022-05-14T22:13:46.594Z"
   },
   {
    "duration": 12,
    "start_time": "2022-05-14T22:13:46.913Z"
   },
   {
    "duration": 24,
    "start_time": "2022-05-14T22:13:46.927Z"
   },
   {
    "duration": 7,
    "start_time": "2022-05-14T22:13:46.953Z"
   },
   {
    "duration": 10,
    "start_time": "2022-05-14T22:13:46.961Z"
   },
   {
    "duration": 3379,
    "start_time": "2022-05-14T22:13:46.975Z"
   },
   {
    "duration": 378,
    "start_time": "2022-05-14T22:13:50.355Z"
   },
   {
    "duration": 10,
    "start_time": "2022-05-14T22:13:50.735Z"
   },
   {
    "duration": 31,
    "start_time": "2022-05-14T22:13:50.747Z"
   },
   {
    "duration": 528,
    "start_time": "2022-05-14T22:13:50.780Z"
   },
   {
    "duration": 4,
    "start_time": "2022-05-14T22:13:51.310Z"
   },
   {
    "duration": 18,
    "start_time": "2022-05-14T22:13:51.316Z"
   },
   {
    "duration": 1301,
    "start_time": "2022-05-14T22:13:51.342Z"
   },
   {
    "duration": 212,
    "start_time": "2022-05-14T22:13:52.645Z"
   },
   {
    "duration": 0,
    "start_time": "2022-05-14T22:13:52.859Z"
   },
   {
    "duration": 0,
    "start_time": "2022-05-14T22:13:52.861Z"
   },
   {
    "duration": 0,
    "start_time": "2022-05-14T22:13:52.862Z"
   },
   {
    "duration": 0,
    "start_time": "2022-05-14T22:13:52.863Z"
   },
   {
    "duration": 0,
    "start_time": "2022-05-14T22:13:52.864Z"
   },
   {
    "duration": 0,
    "start_time": "2022-05-14T22:13:52.865Z"
   },
   {
    "duration": 0,
    "start_time": "2022-05-14T22:13:52.865Z"
   },
   {
    "duration": 0,
    "start_time": "2022-05-14T22:13:52.866Z"
   },
   {
    "duration": 0,
    "start_time": "2022-05-14T22:13:52.867Z"
   },
   {
    "duration": 1598,
    "start_time": "2022-05-14T22:15:05.193Z"
   },
   {
    "duration": 1336,
    "start_time": "2022-05-14T22:15:06.843Z"
   },
   {
    "duration": 4,
    "start_time": "2022-05-14T22:15:08.182Z"
   },
   {
    "duration": 30,
    "start_time": "2022-05-14T22:15:08.188Z"
   },
   {
    "duration": 144,
    "start_time": "2022-05-14T22:15:08.219Z"
   },
   {
    "duration": 15,
    "start_time": "2022-05-14T22:15:08.365Z"
   },
   {
    "duration": 218,
    "start_time": "2022-05-14T22:15:08.382Z"
   },
   {
    "duration": 19,
    "start_time": "2022-05-14T22:15:08.602Z"
   },
   {
    "duration": 44,
    "start_time": "2022-05-14T22:15:08.622Z"
   },
   {
    "duration": 9,
    "start_time": "2022-05-14T22:15:08.669Z"
   },
   {
    "duration": 122,
    "start_time": "2022-05-14T22:15:08.679Z"
   },
   {
    "duration": 19,
    "start_time": "2022-05-14T22:15:08.803Z"
   },
   {
    "duration": 126,
    "start_time": "2022-05-14T22:15:08.823Z"
   },
   {
    "duration": 13,
    "start_time": "2022-05-14T22:15:08.951Z"
   },
   {
    "duration": 226,
    "start_time": "2022-05-14T22:15:08.966Z"
   },
   {
    "duration": 12,
    "start_time": "2022-05-14T22:15:09.193Z"
   },
   {
    "duration": 51,
    "start_time": "2022-05-14T22:15:09.207Z"
   },
   {
    "duration": 87,
    "start_time": "2022-05-14T22:15:09.260Z"
   },
   {
    "duration": 226,
    "start_time": "2022-05-14T22:15:09.349Z"
   },
   {
    "duration": 19,
    "start_time": "2022-05-14T22:15:09.577Z"
   },
   {
    "duration": 16,
    "start_time": "2022-05-14T22:15:09.598Z"
   },
   {
    "duration": 29,
    "start_time": "2022-05-14T22:15:09.616Z"
   },
   {
    "duration": 307,
    "start_time": "2022-05-14T22:15:09.646Z"
   },
   {
    "duration": 12,
    "start_time": "2022-05-14T22:15:09.955Z"
   },
   {
    "duration": 10,
    "start_time": "2022-05-14T22:15:09.969Z"
   },
   {
    "duration": 7,
    "start_time": "2022-05-14T22:15:09.981Z"
   },
   {
    "duration": 11,
    "start_time": "2022-05-14T22:15:09.989Z"
   },
   {
    "duration": 3649,
    "start_time": "2022-05-14T22:15:10.004Z"
   },
   {
    "duration": 384,
    "start_time": "2022-05-14T22:15:13.655Z"
   },
   {
    "duration": 5,
    "start_time": "2022-05-14T22:15:14.040Z"
   },
   {
    "duration": 32,
    "start_time": "2022-05-14T22:15:14.047Z"
   },
   {
    "duration": 533,
    "start_time": "2022-05-14T22:15:14.080Z"
   },
   {
    "duration": 4,
    "start_time": "2022-05-14T22:15:14.615Z"
   },
   {
    "duration": 20,
    "start_time": "2022-05-14T22:15:14.621Z"
   },
   {
    "duration": 1302,
    "start_time": "2022-05-14T22:15:14.643Z"
   },
   {
    "duration": 4,
    "start_time": "2022-05-14T22:15:15.947Z"
   },
   {
    "duration": 268,
    "start_time": "2022-05-14T22:15:16.044Z"
   },
   {
    "duration": 0,
    "start_time": "2022-05-14T22:15:16.314Z"
   },
   {
    "duration": 0,
    "start_time": "2022-05-14T22:15:16.315Z"
   },
   {
    "duration": 0,
    "start_time": "2022-05-14T22:15:16.316Z"
   },
   {
    "duration": 0,
    "start_time": "2022-05-14T22:15:16.317Z"
   },
   {
    "duration": 0,
    "start_time": "2022-05-14T22:15:16.318Z"
   },
   {
    "duration": 0,
    "start_time": "2022-05-14T22:15:16.319Z"
   },
   {
    "duration": 0,
    "start_time": "2022-05-14T22:15:16.320Z"
   },
   {
    "duration": 0,
    "start_time": "2022-05-14T22:15:16.321Z"
   },
   {
    "duration": 0,
    "start_time": "2022-05-14T22:15:16.322Z"
   },
   {
    "duration": 68350,
    "start_time": "2022-05-14T22:18:25.070Z"
   },
   {
    "duration": 67863,
    "start_time": "2022-05-14T22:28:37.991Z"
   },
   {
    "duration": 67722,
    "start_time": "2022-05-14T22:30:45.562Z"
   },
   {
    "duration": 1531,
    "start_time": "2022-05-14T22:34:11.337Z"
   },
   {
    "duration": 642,
    "start_time": "2022-05-14T22:34:12.871Z"
   },
   {
    "duration": 3,
    "start_time": "2022-05-14T22:34:13.515Z"
   },
   {
    "duration": 32,
    "start_time": "2022-05-14T22:34:13.520Z"
   },
   {
    "duration": 136,
    "start_time": "2022-05-14T22:34:13.553Z"
   },
   {
    "duration": 12,
    "start_time": "2022-05-14T22:34:13.691Z"
   },
   {
    "duration": 206,
    "start_time": "2022-05-14T22:34:13.705Z"
   },
   {
    "duration": 18,
    "start_time": "2022-05-14T22:34:13.913Z"
   },
   {
    "duration": 29,
    "start_time": "2022-05-14T22:34:13.943Z"
   },
   {
    "duration": 10,
    "start_time": "2022-05-14T22:34:13.976Z"
   },
   {
    "duration": 125,
    "start_time": "2022-05-14T22:34:13.988Z"
   },
   {
    "duration": 28,
    "start_time": "2022-05-14T22:34:14.116Z"
   },
   {
    "duration": 110,
    "start_time": "2022-05-14T22:34:14.146Z"
   },
   {
    "duration": 15,
    "start_time": "2022-05-14T22:34:14.258Z"
   },
   {
    "duration": 227,
    "start_time": "2022-05-14T22:34:14.274Z"
   },
   {
    "duration": 13,
    "start_time": "2022-05-14T22:34:14.503Z"
   },
   {
    "duration": 49,
    "start_time": "2022-05-14T22:34:14.518Z"
   },
   {
    "duration": 96,
    "start_time": "2022-05-14T22:34:14.568Z"
   },
   {
    "duration": 227,
    "start_time": "2022-05-14T22:34:14.666Z"
   },
   {
    "duration": 19,
    "start_time": "2022-05-14T22:34:14.895Z"
   },
   {
    "duration": 32,
    "start_time": "2022-05-14T22:34:14.916Z"
   },
   {
    "duration": 5,
    "start_time": "2022-05-14T22:34:14.950Z"
   },
   {
    "duration": 298,
    "start_time": "2022-05-14T22:34:14.956Z"
   },
   {
    "duration": 12,
    "start_time": "2022-05-14T22:34:15.256Z"
   },
   {
    "duration": 12,
    "start_time": "2022-05-14T22:34:15.270Z"
   },
   {
    "duration": 6,
    "start_time": "2022-05-14T22:34:15.284Z"
   },
   {
    "duration": 19,
    "start_time": "2022-05-14T22:34:15.292Z"
   },
   {
    "duration": 3339,
    "start_time": "2022-05-14T22:34:15.315Z"
   },
   {
    "duration": 381,
    "start_time": "2022-05-14T22:34:18.656Z"
   },
   {
    "duration": 5,
    "start_time": "2022-05-14T22:34:19.043Z"
   },
   {
    "duration": 33,
    "start_time": "2022-05-14T22:34:19.050Z"
   },
   {
    "duration": 519,
    "start_time": "2022-05-14T22:34:19.085Z"
   },
   {
    "duration": 6,
    "start_time": "2022-05-14T22:34:19.606Z"
   },
   {
    "duration": 12,
    "start_time": "2022-05-14T22:34:19.614Z"
   },
   {
    "duration": 1315,
    "start_time": "2022-05-14T22:34:19.628Z"
   },
   {
    "duration": 207,
    "start_time": "2022-05-14T22:34:20.949Z"
   },
   {
    "duration": 0,
    "start_time": "2022-05-14T22:34:21.158Z"
   },
   {
    "duration": 0,
    "start_time": "2022-05-14T22:34:21.159Z"
   },
   {
    "duration": 0,
    "start_time": "2022-05-14T22:34:21.160Z"
   },
   {
    "duration": 0,
    "start_time": "2022-05-14T22:34:21.161Z"
   },
   {
    "duration": 0,
    "start_time": "2022-05-14T22:34:21.162Z"
   },
   {
    "duration": 0,
    "start_time": "2022-05-14T22:34:21.163Z"
   },
   {
    "duration": 0,
    "start_time": "2022-05-14T22:34:21.164Z"
   },
   {
    "duration": 0,
    "start_time": "2022-05-14T22:34:21.166Z"
   },
   {
    "duration": 0,
    "start_time": "2022-05-14T22:34:21.167Z"
   },
   {
    "duration": 0,
    "start_time": "2022-05-14T22:34:21.168Z"
   },
   {
    "duration": 0,
    "start_time": "2022-05-14T22:34:21.169Z"
   },
   {
    "duration": 0,
    "start_time": "2022-05-14T22:34:21.169Z"
   },
   {
    "duration": 11,
    "start_time": "2022-05-14T22:34:47.688Z"
   },
   {
    "duration": 1778,
    "start_time": "2022-05-14T22:35:20.879Z"
   },
   {
    "duration": 11,
    "start_time": "2022-05-14T22:38:07.382Z"
   },
   {
    "duration": 1705,
    "start_time": "2022-05-14T22:38:27.019Z"
   },
   {
    "duration": 160,
    "start_time": "2022-05-14T22:39:08.607Z"
   },
   {
    "duration": 12175,
    "start_time": "2022-05-14T22:39:43.286Z"
   },
   {
    "duration": 11295,
    "start_time": "2022-05-14T22:40:07.893Z"
   },
   {
    "duration": 4,
    "start_time": "2022-05-14T22:43:32.734Z"
   },
   {
    "duration": 12,
    "start_time": "2022-05-14T22:44:14.464Z"
   },
   {
    "duration": 13,
    "start_time": "2022-05-14T22:44:38.719Z"
   },
   {
    "duration": 5,
    "start_time": "2022-05-14T22:56:16.254Z"
   },
   {
    "duration": 12455,
    "start_time": "2022-05-14T22:56:18.447Z"
   },
   {
    "duration": 0,
    "start_time": "2022-05-14T22:57:20.858Z"
   },
   {
    "duration": 0,
    "start_time": "2022-05-14T22:57:20.860Z"
   },
   {
    "duration": 0,
    "start_time": "2022-05-14T22:57:20.862Z"
   },
   {
    "duration": 0,
    "start_time": "2022-05-14T22:57:20.863Z"
   },
   {
    "duration": 0,
    "start_time": "2022-05-14T22:57:20.864Z"
   },
   {
    "duration": 0,
    "start_time": "2022-05-14T22:57:20.865Z"
   },
   {
    "duration": 0,
    "start_time": "2022-05-14T22:57:20.867Z"
   },
   {
    "duration": 0,
    "start_time": "2022-05-14T22:57:20.868Z"
   },
   {
    "duration": 0,
    "start_time": "2022-05-14T22:57:20.869Z"
   },
   {
    "duration": 0,
    "start_time": "2022-05-14T22:57:20.871Z"
   },
   {
    "duration": 0,
    "start_time": "2022-05-14T22:57:20.872Z"
   },
   {
    "duration": 0,
    "start_time": "2022-05-14T22:57:20.873Z"
   },
   {
    "duration": 0,
    "start_time": "2022-05-14T22:57:20.875Z"
   },
   {
    "duration": 0,
    "start_time": "2022-05-14T22:57:20.876Z"
   },
   {
    "duration": 0,
    "start_time": "2022-05-14T22:57:20.877Z"
   },
   {
    "duration": 0,
    "start_time": "2022-05-14T22:57:20.879Z"
   },
   {
    "duration": 0,
    "start_time": "2022-05-14T22:57:20.880Z"
   },
   {
    "duration": 0,
    "start_time": "2022-05-14T22:57:20.882Z"
   },
   {
    "duration": 0,
    "start_time": "2022-05-14T22:57:20.883Z"
   },
   {
    "duration": 0,
    "start_time": "2022-05-14T22:57:20.884Z"
   },
   {
    "duration": 0,
    "start_time": "2022-05-14T22:57:20.885Z"
   },
   {
    "duration": 0,
    "start_time": "2022-05-14T22:57:20.944Z"
   },
   {
    "duration": 0,
    "start_time": "2022-05-14T22:57:20.945Z"
   },
   {
    "duration": 0,
    "start_time": "2022-05-14T22:57:20.946Z"
   },
   {
    "duration": 0,
    "start_time": "2022-05-14T22:57:20.947Z"
   },
   {
    "duration": 0,
    "start_time": "2022-05-14T22:57:20.948Z"
   },
   {
    "duration": 0,
    "start_time": "2022-05-14T22:57:20.949Z"
   },
   {
    "duration": 0,
    "start_time": "2022-05-14T22:57:20.950Z"
   },
   {
    "duration": 0,
    "start_time": "2022-05-14T22:57:20.951Z"
   },
   {
    "duration": 0,
    "start_time": "2022-05-14T22:57:20.952Z"
   },
   {
    "duration": 0,
    "start_time": "2022-05-14T22:57:20.953Z"
   },
   {
    "duration": 0,
    "start_time": "2022-05-14T22:57:20.954Z"
   },
   {
    "duration": 0,
    "start_time": "2022-05-14T22:57:20.954Z"
   },
   {
    "duration": 0,
    "start_time": "2022-05-14T22:57:20.955Z"
   },
   {
    "duration": 0,
    "start_time": "2022-05-14T22:57:20.956Z"
   },
   {
    "duration": 0,
    "start_time": "2022-05-14T22:57:20.957Z"
   },
   {
    "duration": 0,
    "start_time": "2022-05-14T22:57:20.958Z"
   },
   {
    "duration": 0,
    "start_time": "2022-05-14T22:57:20.959Z"
   },
   {
    "duration": 0,
    "start_time": "2022-05-14T22:57:20.960Z"
   },
   {
    "duration": 0,
    "start_time": "2022-05-14T22:57:20.961Z"
   },
   {
    "duration": 0,
    "start_time": "2022-05-14T22:57:20.962Z"
   },
   {
    "duration": 0,
    "start_time": "2022-05-14T22:57:20.963Z"
   },
   {
    "duration": 0,
    "start_time": "2022-05-14T22:57:20.964Z"
   },
   {
    "duration": 0,
    "start_time": "2022-05-14T22:57:20.965Z"
   },
   {
    "duration": 0,
    "start_time": "2022-05-14T22:57:20.965Z"
   },
   {
    "duration": 0,
    "start_time": "2022-05-14T22:57:20.966Z"
   },
   {
    "duration": 0,
    "start_time": "2022-05-14T22:57:20.967Z"
   },
   {
    "duration": 0,
    "start_time": "2022-05-14T22:57:20.968Z"
   },
   {
    "duration": 0,
    "start_time": "2022-05-14T22:57:20.969Z"
   },
   {
    "duration": 1535,
    "start_time": "2022-05-14T22:58:33.597Z"
   },
   {
    "duration": 655,
    "start_time": "2022-05-14T22:58:35.134Z"
   },
   {
    "duration": 4,
    "start_time": "2022-05-14T22:58:35.791Z"
   },
   {
    "duration": 39,
    "start_time": "2022-05-14T22:58:35.797Z"
   },
   {
    "duration": 136,
    "start_time": "2022-05-14T22:58:35.838Z"
   },
   {
    "duration": 13,
    "start_time": "2022-05-14T22:58:35.976Z"
   },
   {
    "duration": 210,
    "start_time": "2022-05-14T22:58:35.991Z"
   },
   {
    "duration": 18,
    "start_time": "2022-05-14T22:58:36.202Z"
   },
   {
    "duration": 45,
    "start_time": "2022-05-14T22:58:36.221Z"
   },
   {
    "duration": 9,
    "start_time": "2022-05-14T22:58:36.269Z"
   },
   {
    "duration": 120,
    "start_time": "2022-05-14T22:58:36.280Z"
   },
   {
    "duration": 18,
    "start_time": "2022-05-14T22:58:36.402Z"
   },
   {
    "duration": 125,
    "start_time": "2022-05-14T22:58:36.421Z"
   },
   {
    "duration": 13,
    "start_time": "2022-05-14T22:58:36.548Z"
   },
   {
    "duration": 217,
    "start_time": "2022-05-14T22:58:36.562Z"
   },
   {
    "duration": 12,
    "start_time": "2022-05-14T22:58:36.781Z"
   },
   {
    "duration": 49,
    "start_time": "2022-05-14T22:58:36.794Z"
   },
   {
    "duration": 74,
    "start_time": "2022-05-14T22:58:36.845Z"
   },
   {
    "duration": 252,
    "start_time": "2022-05-14T22:58:36.921Z"
   },
   {
    "duration": 19,
    "start_time": "2022-05-14T22:58:37.175Z"
   },
   {
    "duration": 15,
    "start_time": "2022-05-14T22:58:37.196Z"
   },
   {
    "duration": 4,
    "start_time": "2022-05-14T22:58:37.212Z"
   },
   {
    "duration": 316,
    "start_time": "2022-05-14T22:58:37.218Z"
   },
   {
    "duration": 18,
    "start_time": "2022-05-14T22:58:37.535Z"
   },
   {
    "duration": 10,
    "start_time": "2022-05-14T22:58:37.554Z"
   },
   {
    "duration": 6,
    "start_time": "2022-05-14T22:58:37.566Z"
   },
   {
    "duration": 12,
    "start_time": "2022-05-14T22:58:37.573Z"
   },
   {
    "duration": 4237,
    "start_time": "2022-05-14T22:58:37.588Z"
   },
   {
    "duration": 425,
    "start_time": "2022-05-14T22:58:41.827Z"
   },
   {
    "duration": 4,
    "start_time": "2022-05-14T22:58:42.254Z"
   },
   {
    "duration": 56,
    "start_time": "2022-05-14T22:58:42.260Z"
   },
   {
    "duration": 525,
    "start_time": "2022-05-14T22:58:42.318Z"
   },
   {
    "duration": 5,
    "start_time": "2022-05-14T22:58:42.844Z"
   },
   {
    "duration": 41,
    "start_time": "2022-05-14T22:58:42.850Z"
   },
   {
    "duration": 1251,
    "start_time": "2022-05-14T22:58:42.893Z"
   },
   {
    "duration": 97,
    "start_time": "2022-05-14T22:58:44.146Z"
   },
   {
    "duration": 12467,
    "start_time": "2022-05-14T22:58:44.245Z"
   },
   {
    "duration": 11460,
    "start_time": "2022-05-14T22:58:56.713Z"
   },
   {
    "duration": 0,
    "start_time": "2022-05-14T22:59:08.175Z"
   },
   {
    "duration": 0,
    "start_time": "2022-05-14T22:59:08.176Z"
   },
   {
    "duration": 0,
    "start_time": "2022-05-14T22:59:08.177Z"
   },
   {
    "duration": 0,
    "start_time": "2022-05-14T22:59:08.178Z"
   },
   {
    "duration": 1,
    "start_time": "2022-05-14T22:59:08.178Z"
   },
   {
    "duration": 0,
    "start_time": "2022-05-14T22:59:08.179Z"
   },
   {
    "duration": 0,
    "start_time": "2022-05-14T22:59:08.180Z"
   },
   {
    "duration": 0,
    "start_time": "2022-05-14T22:59:08.181Z"
   },
   {
    "duration": 0,
    "start_time": "2022-05-14T22:59:08.182Z"
   },
   {
    "duration": 1439,
    "start_time": "2022-05-14T23:05:53.541Z"
   },
   {
    "duration": 664,
    "start_time": "2022-05-14T23:05:54.982Z"
   },
   {
    "duration": 4,
    "start_time": "2022-05-14T23:05:55.647Z"
   },
   {
    "duration": 27,
    "start_time": "2022-05-14T23:05:55.653Z"
   },
   {
    "duration": 139,
    "start_time": "2022-05-14T23:05:55.682Z"
   },
   {
    "duration": 22,
    "start_time": "2022-05-14T23:05:55.823Z"
   },
   {
    "duration": 202,
    "start_time": "2022-05-14T23:05:55.846Z"
   },
   {
    "duration": 18,
    "start_time": "2022-05-14T23:05:56.049Z"
   },
   {
    "duration": 30,
    "start_time": "2022-05-14T23:05:56.069Z"
   },
   {
    "duration": 9,
    "start_time": "2022-05-14T23:05:56.101Z"
   },
   {
    "duration": 134,
    "start_time": "2022-05-14T23:05:56.112Z"
   },
   {
    "duration": 18,
    "start_time": "2022-05-14T23:05:56.248Z"
   },
   {
    "duration": 121,
    "start_time": "2022-05-14T23:05:56.268Z"
   },
   {
    "duration": 12,
    "start_time": "2022-05-14T23:05:56.391Z"
   },
   {
    "duration": 358,
    "start_time": "2022-05-14T23:05:56.405Z"
   },
   {
    "duration": 11,
    "start_time": "2022-05-14T23:05:56.765Z"
   },
   {
    "duration": 90,
    "start_time": "2022-05-14T23:05:56.777Z"
   },
   {
    "duration": 180,
    "start_time": "2022-05-14T23:05:56.869Z"
   },
   {
    "duration": 432,
    "start_time": "2022-05-14T23:05:57.051Z"
   },
   {
    "duration": 68,
    "start_time": "2022-05-14T23:05:57.485Z"
   },
   {
    "duration": 14,
    "start_time": "2022-05-14T23:05:57.555Z"
   },
   {
    "duration": 3,
    "start_time": "2022-05-14T23:05:57.571Z"
   },
   {
    "duration": 591,
    "start_time": "2022-05-14T23:05:57.576Z"
   },
   {
    "duration": 11,
    "start_time": "2022-05-14T23:05:58.169Z"
   },
   {
    "duration": 9,
    "start_time": "2022-05-14T23:05:58.182Z"
   },
   {
    "duration": 6,
    "start_time": "2022-05-14T23:05:58.193Z"
   },
   {
    "duration": 47,
    "start_time": "2022-05-14T23:05:58.200Z"
   },
   {
    "duration": 3315,
    "start_time": "2022-05-14T23:05:58.251Z"
   },
   {
    "duration": 378,
    "start_time": "2022-05-14T23:06:01.567Z"
   },
   {
    "duration": 6,
    "start_time": "2022-05-14T23:06:01.946Z"
   },
   {
    "duration": 36,
    "start_time": "2022-05-14T23:06:01.953Z"
   },
   {
    "duration": 536,
    "start_time": "2022-05-14T23:06:01.991Z"
   },
   {
    "duration": 4,
    "start_time": "2022-05-14T23:06:02.529Z"
   },
   {
    "duration": 16,
    "start_time": "2022-05-14T23:06:02.535Z"
   },
   {
    "duration": 1206,
    "start_time": "2022-05-14T23:06:02.552Z"
   },
   {
    "duration": 5,
    "start_time": "2022-05-14T23:06:03.844Z"
   },
   {
    "duration": 12423,
    "start_time": "2022-05-14T23:06:03.853Z"
   },
   {
    "duration": 11303,
    "start_time": "2022-05-14T23:06:16.278Z"
   },
   {
    "duration": 0,
    "start_time": "2022-05-14T23:06:27.582Z"
   },
   {
    "duration": 0,
    "start_time": "2022-05-14T23:06:27.583Z"
   },
   {
    "duration": 0,
    "start_time": "2022-05-14T23:06:27.584Z"
   },
   {
    "duration": 0,
    "start_time": "2022-05-14T23:06:27.585Z"
   },
   {
    "duration": 0,
    "start_time": "2022-05-14T23:06:27.585Z"
   },
   {
    "duration": 0,
    "start_time": "2022-05-14T23:06:27.586Z"
   },
   {
    "duration": 0,
    "start_time": "2022-05-14T23:06:27.587Z"
   },
   {
    "duration": 0,
    "start_time": "2022-05-14T23:06:27.587Z"
   },
   {
    "duration": 0,
    "start_time": "2022-05-14T23:06:27.588Z"
   },
   {
    "duration": 5,
    "start_time": "2022-05-14T23:15:20.874Z"
   },
   {
    "duration": 5,
    "start_time": "2022-05-14T23:15:23.889Z"
   },
   {
    "duration": 12632,
    "start_time": "2022-05-14T23:15:24.715Z"
   },
   {
    "duration": 184,
    "start_time": "2022-05-14T23:16:38.608Z"
   },
   {
    "duration": 199,
    "start_time": "2022-05-14T23:18:01.873Z"
   },
   {
    "duration": 189,
    "start_time": "2022-05-14T23:18:21.943Z"
   },
   {
    "duration": 5,
    "start_time": "2022-05-14T23:18:28.759Z"
   },
   {
    "duration": 13091,
    "start_time": "2022-05-14T23:18:29.720Z"
   },
   {
    "duration": 184,
    "start_time": "2022-05-14T23:19:23.281Z"
   },
   {
    "duration": 6,
    "start_time": "2022-05-14T23:21:02.888Z"
   },
   {
    "duration": 5,
    "start_time": "2022-05-14T23:21:03.467Z"
   },
   {
    "duration": 102,
    "start_time": "2022-05-14T23:21:04.185Z"
   },
   {
    "duration": 1427,
    "start_time": "2022-05-14T23:21:41.267Z"
   },
   {
    "duration": 663,
    "start_time": "2022-05-14T23:21:42.696Z"
   },
   {
    "duration": 3,
    "start_time": "2022-05-14T23:21:43.361Z"
   },
   {
    "duration": 53,
    "start_time": "2022-05-14T23:21:43.366Z"
   },
   {
    "duration": 142,
    "start_time": "2022-05-14T23:21:43.421Z"
   },
   {
    "duration": 12,
    "start_time": "2022-05-14T23:21:43.565Z"
   },
   {
    "duration": 210,
    "start_time": "2022-05-14T23:21:43.578Z"
   },
   {
    "duration": 19,
    "start_time": "2022-05-14T23:21:43.789Z"
   },
   {
    "duration": 45,
    "start_time": "2022-05-14T23:21:43.810Z"
   },
   {
    "duration": 9,
    "start_time": "2022-05-14T23:21:43.857Z"
   },
   {
    "duration": 120,
    "start_time": "2022-05-14T23:21:43.867Z"
   },
   {
    "duration": 18,
    "start_time": "2022-05-14T23:21:43.988Z"
   },
   {
    "duration": 121,
    "start_time": "2022-05-14T23:21:44.008Z"
   },
   {
    "duration": 21,
    "start_time": "2022-05-14T23:21:44.131Z"
   },
   {
    "duration": 218,
    "start_time": "2022-05-14T23:21:44.153Z"
   },
   {
    "duration": 12,
    "start_time": "2022-05-14T23:21:44.373Z"
   },
   {
    "duration": 60,
    "start_time": "2022-05-14T23:21:44.386Z"
   },
   {
    "duration": 106,
    "start_time": "2022-05-14T23:21:44.447Z"
   },
   {
    "duration": 218,
    "start_time": "2022-05-14T23:21:44.555Z"
   },
   {
    "duration": 17,
    "start_time": "2022-05-14T23:21:44.775Z"
   },
   {
    "duration": 14,
    "start_time": "2022-05-14T23:21:44.793Z"
   },
   {
    "duration": 21,
    "start_time": "2022-05-14T23:21:44.808Z"
   },
   {
    "duration": 302,
    "start_time": "2022-05-14T23:21:44.831Z"
   },
   {
    "duration": 12,
    "start_time": "2022-05-14T23:21:45.134Z"
   },
   {
    "duration": 17,
    "start_time": "2022-05-14T23:21:45.147Z"
   },
   {
    "duration": 13,
    "start_time": "2022-05-14T23:21:45.166Z"
   },
   {
    "duration": 29,
    "start_time": "2022-05-14T23:21:45.181Z"
   },
   {
    "duration": 3350,
    "start_time": "2022-05-14T23:21:45.213Z"
   },
   {
    "duration": 375,
    "start_time": "2022-05-14T23:21:48.564Z"
   },
   {
    "duration": 5,
    "start_time": "2022-05-14T23:21:48.942Z"
   },
   {
    "duration": 32,
    "start_time": "2022-05-14T23:21:48.948Z"
   },
   {
    "duration": 528,
    "start_time": "2022-05-14T23:21:48.982Z"
   },
   {
    "duration": 5,
    "start_time": "2022-05-14T23:21:49.511Z"
   },
   {
    "duration": 13,
    "start_time": "2022-05-14T23:21:49.517Z"
   },
   {
    "duration": 1315,
    "start_time": "2022-05-14T23:21:49.531Z"
   },
   {
    "duration": 6,
    "start_time": "2022-05-14T23:21:50.942Z"
   },
   {
    "duration": 17,
    "start_time": "2022-05-14T23:21:50.949Z"
   },
   {
    "duration": 223,
    "start_time": "2022-05-14T23:21:50.968Z"
   },
   {
    "duration": 0,
    "start_time": "2022-05-14T23:21:51.193Z"
   },
   {
    "duration": 0,
    "start_time": "2022-05-14T23:21:51.195Z"
   },
   {
    "duration": 0,
    "start_time": "2022-05-14T23:21:51.195Z"
   },
   {
    "duration": 0,
    "start_time": "2022-05-14T23:21:51.196Z"
   },
   {
    "duration": 0,
    "start_time": "2022-05-14T23:21:51.197Z"
   },
   {
    "duration": 0,
    "start_time": "2022-05-14T23:21:51.199Z"
   },
   {
    "duration": 0,
    "start_time": "2022-05-14T23:21:51.200Z"
   },
   {
    "duration": 0,
    "start_time": "2022-05-14T23:21:51.201Z"
   },
   {
    "duration": 0,
    "start_time": "2022-05-14T23:21:51.202Z"
   },
   {
    "duration": 8,
    "start_time": "2022-05-14T23:24:09.687Z"
   },
   {
    "duration": 1442,
    "start_time": "2022-05-14T23:24:10.102Z"
   },
   {
    "duration": 97,
    "start_time": "2022-05-14T23:24:11.547Z"
   },
   {
    "duration": 12793,
    "start_time": "2022-05-14T23:24:11.986Z"
   },
   {
    "duration": 20018,
    "start_time": "2022-05-14T23:25:28.981Z"
   },
   {
    "duration": 6,
    "start_time": "2022-05-14T23:26:15.642Z"
   },
   {
    "duration": 14710,
    "start_time": "2022-05-14T23:26:16.298Z"
   },
   {
    "duration": 20,
    "start_time": "2022-05-14T23:32:22.173Z"
   },
   {
    "duration": 126,
    "start_time": "2022-05-14T23:33:02.234Z"
   },
   {
    "duration": 95,
    "start_time": "2022-05-14T23:35:55.423Z"
   },
   {
    "duration": 1445,
    "start_time": "2022-05-14T23:39:38.655Z"
   },
   {
    "duration": 656,
    "start_time": "2022-05-14T23:39:40.102Z"
   },
   {
    "duration": 4,
    "start_time": "2022-05-14T23:39:40.760Z"
   },
   {
    "duration": 28,
    "start_time": "2022-05-14T23:39:40.766Z"
   },
   {
    "duration": 135,
    "start_time": "2022-05-14T23:39:40.796Z"
   },
   {
    "duration": 21,
    "start_time": "2022-05-14T23:39:40.932Z"
   },
   {
    "duration": 203,
    "start_time": "2022-05-14T23:39:40.954Z"
   },
   {
    "duration": 17,
    "start_time": "2022-05-14T23:39:41.158Z"
   },
   {
    "duration": 31,
    "start_time": "2022-05-14T23:39:41.177Z"
   },
   {
    "duration": 7,
    "start_time": "2022-05-14T23:39:41.211Z"
   },
   {
    "duration": 131,
    "start_time": "2022-05-14T23:39:41.220Z"
   },
   {
    "duration": 19,
    "start_time": "2022-05-14T23:39:41.352Z"
   },
   {
    "duration": 120,
    "start_time": "2022-05-14T23:39:41.373Z"
   },
   {
    "duration": 14,
    "start_time": "2022-05-14T23:39:41.495Z"
   },
   {
    "duration": 224,
    "start_time": "2022-05-14T23:39:41.511Z"
   },
   {
    "duration": 16,
    "start_time": "2022-05-14T23:39:41.736Z"
   },
   {
    "duration": 33,
    "start_time": "2022-05-14T23:39:41.754Z"
   },
   {
    "duration": 96,
    "start_time": "2022-05-14T23:39:41.789Z"
   },
   {
    "duration": 224,
    "start_time": "2022-05-14T23:39:41.886Z"
   },
   {
    "duration": 19,
    "start_time": "2022-05-14T23:39:42.111Z"
   },
   {
    "duration": 14,
    "start_time": "2022-05-14T23:39:42.143Z"
   },
   {
    "duration": 4,
    "start_time": "2022-05-14T23:39:42.159Z"
   },
   {
    "duration": 326,
    "start_time": "2022-05-14T23:39:42.164Z"
   },
   {
    "duration": 13,
    "start_time": "2022-05-14T23:39:42.492Z"
   },
   {
    "duration": 38,
    "start_time": "2022-05-14T23:39:42.506Z"
   },
   {
    "duration": 5,
    "start_time": "2022-05-14T23:39:42.546Z"
   },
   {
    "duration": 29,
    "start_time": "2022-05-14T23:39:42.553Z"
   },
   {
    "duration": 4114,
    "start_time": "2022-05-14T23:39:42.585Z"
   },
   {
    "duration": 438,
    "start_time": "2022-05-14T23:39:46.702Z"
   },
   {
    "duration": 5,
    "start_time": "2022-05-14T23:39:47.143Z"
   },
   {
    "duration": 54,
    "start_time": "2022-05-14T23:39:47.149Z"
   },
   {
    "duration": 546,
    "start_time": "2022-05-14T23:39:47.205Z"
   },
   {
    "duration": 4,
    "start_time": "2022-05-14T23:39:47.753Z"
   },
   {
    "duration": 36,
    "start_time": "2022-05-14T23:39:47.759Z"
   },
   {
    "duration": 1347,
    "start_time": "2022-05-14T23:39:47.797Z"
   },
   {
    "duration": 111,
    "start_time": "2022-05-14T23:39:49.146Z"
   },
   {
    "duration": 1510,
    "start_time": "2022-05-14T23:43:30.149Z"
   },
   {
    "duration": 659,
    "start_time": "2022-05-14T23:43:31.661Z"
   },
   {
    "duration": 4,
    "start_time": "2022-05-14T23:43:32.321Z"
   },
   {
    "duration": 55,
    "start_time": "2022-05-14T23:43:32.327Z"
   },
   {
    "duration": 129,
    "start_time": "2022-05-14T23:43:32.383Z"
   },
   {
    "duration": 12,
    "start_time": "2022-05-14T23:43:32.513Z"
   },
   {
    "duration": 198,
    "start_time": "2022-05-14T23:43:32.527Z"
   },
   {
    "duration": 21,
    "start_time": "2022-05-14T23:43:32.727Z"
   },
   {
    "duration": 33,
    "start_time": "2022-05-14T23:43:32.750Z"
   },
   {
    "duration": 9,
    "start_time": "2022-05-14T23:43:32.786Z"
   },
   {
    "duration": 121,
    "start_time": "2022-05-14T23:43:32.797Z"
   },
   {
    "duration": 26,
    "start_time": "2022-05-14T23:43:32.919Z"
   },
   {
    "duration": 110,
    "start_time": "2022-05-14T23:43:32.946Z"
   },
   {
    "duration": 13,
    "start_time": "2022-05-14T23:43:33.058Z"
   },
   {
    "duration": 220,
    "start_time": "2022-05-14T23:43:33.072Z"
   },
   {
    "duration": 11,
    "start_time": "2022-05-14T23:43:33.294Z"
   },
   {
    "duration": 44,
    "start_time": "2022-05-14T23:43:33.306Z"
   },
   {
    "duration": 69,
    "start_time": "2022-05-14T23:43:33.352Z"
   },
   {
    "duration": 215,
    "start_time": "2022-05-14T23:43:33.422Z"
   },
   {
    "duration": 16,
    "start_time": "2022-05-14T23:43:33.643Z"
   },
   {
    "duration": 14,
    "start_time": "2022-05-14T23:43:33.660Z"
   },
   {
    "duration": 3,
    "start_time": "2022-05-14T23:43:33.676Z"
   },
   {
    "duration": 333,
    "start_time": "2022-05-14T23:43:33.680Z"
   },
   {
    "duration": 13,
    "start_time": "2022-05-14T23:43:34.015Z"
   },
   {
    "duration": 16,
    "start_time": "2022-05-14T23:43:34.029Z"
   },
   {
    "duration": 6,
    "start_time": "2022-05-14T23:43:34.046Z"
   },
   {
    "duration": 10,
    "start_time": "2022-05-14T23:43:34.054Z"
   },
   {
    "duration": 4275,
    "start_time": "2022-05-14T23:43:34.067Z"
   },
   {
    "duration": 407,
    "start_time": "2022-05-14T23:43:38.344Z"
   },
   {
    "duration": 5,
    "start_time": "2022-05-14T23:43:38.752Z"
   },
   {
    "duration": 32,
    "start_time": "2022-05-14T23:43:38.758Z"
   },
   {
    "duration": 516,
    "start_time": "2022-05-14T23:43:38.791Z"
   },
   {
    "duration": 5,
    "start_time": "2022-05-14T23:43:39.308Z"
   },
   {
    "duration": 14,
    "start_time": "2022-05-14T23:43:39.314Z"
   },
   {
    "duration": 1314,
    "start_time": "2022-05-14T23:43:39.330Z"
   },
   {
    "duration": 108,
    "start_time": "2022-05-14T23:43:40.647Z"
   },
   {
    "duration": 5,
    "start_time": "2022-05-14T23:43:40.756Z"
   },
   {
    "duration": 121,
    "start_time": "2022-05-14T23:43:40.763Z"
   },
   {
    "duration": 0,
    "start_time": "2022-05-14T23:43:40.885Z"
   },
   {
    "duration": 0,
    "start_time": "2022-05-14T23:43:40.887Z"
   },
   {
    "duration": 0,
    "start_time": "2022-05-14T23:43:40.887Z"
   },
   {
    "duration": 0,
    "start_time": "2022-05-14T23:43:40.888Z"
   },
   {
    "duration": 0,
    "start_time": "2022-05-14T23:43:40.889Z"
   },
   {
    "duration": 0,
    "start_time": "2022-05-14T23:43:40.891Z"
   },
   {
    "duration": 0,
    "start_time": "2022-05-14T23:43:40.892Z"
   },
   {
    "duration": 0,
    "start_time": "2022-05-14T23:43:40.893Z"
   },
   {
    "duration": 0,
    "start_time": "2022-05-14T23:43:40.894Z"
   },
   {
    "duration": 0,
    "start_time": "2022-05-14T23:43:40.895Z"
   },
   {
    "duration": 13548,
    "start_time": "2022-05-14T23:44:01.714Z"
   },
   {
    "duration": 1286,
    "start_time": "2022-05-14T23:45:02.963Z"
   },
   {
    "duration": 81,
    "start_time": "2022-05-14T23:45:06.530Z"
   },
   {
    "duration": 15,
    "start_time": "2022-05-14T23:45:08.112Z"
   },
   {
    "duration": 8,
    "start_time": "2022-05-14T23:45:10.439Z"
   },
   {
    "duration": 11,
    "start_time": "2022-05-14T23:45:10.699Z"
   },
   {
    "duration": 6,
    "start_time": "2022-05-14T23:45:11.007Z"
   },
   {
    "duration": 7,
    "start_time": "2022-05-14T23:45:11.384Z"
   },
   {
    "duration": 9,
    "start_time": "2022-05-14T23:46:53.538Z"
   },
   {
    "duration": 1269,
    "start_time": "2022-05-14T23:46:55.177Z"
   },
   {
    "duration": 19,
    "start_time": "2022-05-14T23:46:59.754Z"
   },
   {
    "duration": 5,
    "start_time": "2022-05-14T23:47:05.317Z"
   },
   {
    "duration": 14529,
    "start_time": "2022-05-14T23:47:09.169Z"
   },
   {
    "duration": 14587,
    "start_time": "2022-05-14T23:47:23.819Z"
   },
   {
    "duration": 13506,
    "start_time": "2022-05-14T23:48:15.274Z"
   },
   {
    "duration": 12,
    "start_time": "2022-05-14T23:49:34.644Z"
   },
   {
    "duration": 7551,
    "start_time": "2022-05-14T23:50:13.494Z"
   },
   {
    "duration": 6,
    "start_time": "2022-05-14T23:51:31.557Z"
   },
   {
    "duration": 13561,
    "start_time": "2022-05-14T23:51:32.291Z"
   },
   {
    "duration": 8690,
    "start_time": "2022-05-14T23:51:45.854Z"
   },
   {
    "duration": 9,
    "start_time": "2022-05-14T23:52:55.853Z"
   },
   {
    "duration": 13753,
    "start_time": "2022-05-14T23:52:56.316Z"
   },
   {
    "duration": 8273,
    "start_time": "2022-05-14T23:53:10.071Z"
   },
   {
    "duration": 13897,
    "start_time": "2022-05-14T23:53:46.132Z"
   },
   {
    "duration": 0,
    "start_time": "2022-05-14T23:54:00.031Z"
   },
   {
    "duration": 9,
    "start_time": "2022-05-14T23:54:24.886Z"
   },
   {
    "duration": 13518,
    "start_time": "2022-05-14T23:54:25.572Z"
   },
   {
    "duration": 0,
    "start_time": "2022-05-14T23:54:39.092Z"
   },
   {
    "duration": 13519,
    "start_time": "2022-05-14T23:55:48.973Z"
   },
   {
    "duration": 13534,
    "start_time": "2022-05-14T23:57:05.935Z"
   },
   {
    "duration": 13891,
    "start_time": "2022-05-14T23:57:29.186Z"
   },
   {
    "duration": 1601,
    "start_time": "2022-05-15T00:03:40.607Z"
   },
   {
    "duration": 676,
    "start_time": "2022-05-15T00:03:42.210Z"
   },
   {
    "duration": 4,
    "start_time": "2022-05-15T00:03:42.888Z"
   },
   {
    "duration": 40,
    "start_time": "2022-05-15T00:03:42.894Z"
   },
   {
    "duration": 133,
    "start_time": "2022-05-15T00:03:42.936Z"
   },
   {
    "duration": 12,
    "start_time": "2022-05-15T00:03:43.071Z"
   },
   {
    "duration": 205,
    "start_time": "2022-05-15T00:03:43.084Z"
   },
   {
    "duration": 19,
    "start_time": "2022-05-15T00:03:43.290Z"
   },
   {
    "duration": 44,
    "start_time": "2022-05-15T00:03:43.310Z"
   },
   {
    "duration": 8,
    "start_time": "2022-05-15T00:03:43.357Z"
   },
   {
    "duration": 120,
    "start_time": "2022-05-15T00:03:43.367Z"
   },
   {
    "duration": 18,
    "start_time": "2022-05-15T00:03:43.489Z"
   },
   {
    "duration": 120,
    "start_time": "2022-05-15T00:03:43.508Z"
   },
   {
    "duration": 18,
    "start_time": "2022-05-15T00:03:43.630Z"
   },
   {
    "duration": 215,
    "start_time": "2022-05-15T00:03:43.650Z"
   },
   {
    "duration": 12,
    "start_time": "2022-05-15T00:03:43.867Z"
   },
   {
    "duration": 58,
    "start_time": "2022-05-15T00:03:43.880Z"
   },
   {
    "duration": 72,
    "start_time": "2022-05-15T00:03:43.939Z"
   },
   {
    "duration": 211,
    "start_time": "2022-05-15T00:03:44.013Z"
   },
   {
    "duration": 29,
    "start_time": "2022-05-15T00:03:44.226Z"
   },
   {
    "duration": 14,
    "start_time": "2022-05-15T00:03:44.256Z"
   },
   {
    "duration": 17,
    "start_time": "2022-05-15T00:03:44.271Z"
   },
   {
    "duration": 298,
    "start_time": "2022-05-15T00:03:44.289Z"
   },
   {
    "duration": 12,
    "start_time": "2022-05-15T00:03:44.588Z"
   },
   {
    "duration": 10,
    "start_time": "2022-05-15T00:03:44.601Z"
   },
   {
    "duration": 6,
    "start_time": "2022-05-15T00:03:44.613Z"
   },
   {
    "duration": 30,
    "start_time": "2022-05-15T00:03:44.620Z"
   },
   {
    "duration": 4196,
    "start_time": "2022-05-15T00:03:44.654Z"
   },
   {
    "duration": 382,
    "start_time": "2022-05-15T00:03:48.851Z"
   },
   {
    "duration": 8,
    "start_time": "2022-05-15T00:03:49.235Z"
   },
   {
    "duration": 28,
    "start_time": "2022-05-15T00:03:49.244Z"
   },
   {
    "duration": 507,
    "start_time": "2022-05-15T00:03:49.274Z"
   },
   {
    "duration": 4,
    "start_time": "2022-05-15T00:03:49.783Z"
   },
   {
    "duration": 14,
    "start_time": "2022-05-15T00:03:49.788Z"
   },
   {
    "duration": 1340,
    "start_time": "2022-05-15T00:03:49.803Z"
   },
   {
    "duration": 67577,
    "start_time": "2022-05-15T00:03:51.146Z"
   },
   {
    "duration": 23,
    "start_time": "2022-05-15T00:04:58.725Z"
   },
   {
    "duration": 10,
    "start_time": "2022-05-15T00:04:58.749Z"
   },
   {
    "duration": 13705,
    "start_time": "2022-05-15T00:04:58.760Z"
   },
   {
    "duration": 0,
    "start_time": "2022-05-15T00:05:12.467Z"
   },
   {
    "duration": 0,
    "start_time": "2022-05-15T00:05:12.468Z"
   },
   {
    "duration": 0,
    "start_time": "2022-05-15T00:05:12.469Z"
   },
   {
    "duration": 0,
    "start_time": "2022-05-15T00:05:12.471Z"
   },
   {
    "duration": 0,
    "start_time": "2022-05-15T00:05:12.471Z"
   },
   {
    "duration": 0,
    "start_time": "2022-05-15T00:05:12.472Z"
   },
   {
    "duration": 1,
    "start_time": "2022-05-15T00:05:12.473Z"
   },
   {
    "duration": 0,
    "start_time": "2022-05-15T00:05:12.475Z"
   },
   {
    "duration": 0,
    "start_time": "2022-05-15T00:05:12.476Z"
   },
   {
    "duration": 5,
    "start_time": "2022-05-15T00:15:31.699Z"
   },
   {
    "duration": 66728,
    "start_time": "2022-05-15T00:15:32.899Z"
   },
   {
    "duration": 103,
    "start_time": "2022-05-15T00:21:53.792Z"
   },
   {
    "duration": 80,
    "start_time": "2022-05-15T00:23:32.814Z"
   },
   {
    "duration": 1589,
    "start_time": "2022-05-15T00:24:08.101Z"
   },
   {
    "duration": 1282,
    "start_time": "2022-05-15T00:24:09.692Z"
   },
   {
    "duration": 4,
    "start_time": "2022-05-15T00:24:10.976Z"
   },
   {
    "duration": 89,
    "start_time": "2022-05-15T00:24:10.983Z"
   },
   {
    "duration": 380,
    "start_time": "2022-05-15T00:24:11.074Z"
   },
   {
    "duration": 19,
    "start_time": "2022-05-15T00:24:11.456Z"
   },
   {
    "duration": 233,
    "start_time": "2022-05-15T00:24:11.477Z"
   },
   {
    "duration": 18,
    "start_time": "2022-05-15T00:24:11.712Z"
   },
   {
    "duration": 38,
    "start_time": "2022-05-15T00:24:11.743Z"
   },
   {
    "duration": 9,
    "start_time": "2022-05-15T00:24:11.784Z"
   },
   {
    "duration": 117,
    "start_time": "2022-05-15T00:24:11.795Z"
   },
   {
    "duration": 18,
    "start_time": "2022-05-15T00:24:11.914Z"
   },
   {
    "duration": 121,
    "start_time": "2022-05-15T00:24:11.934Z"
   },
   {
    "duration": 12,
    "start_time": "2022-05-15T00:24:12.057Z"
   },
   {
    "duration": 212,
    "start_time": "2022-05-15T00:24:12.071Z"
   },
   {
    "duration": 12,
    "start_time": "2022-05-15T00:24:12.284Z"
   },
   {
    "duration": 64,
    "start_time": "2022-05-15T00:24:12.297Z"
   },
   {
    "duration": 80,
    "start_time": "2022-05-15T00:24:12.363Z"
   },
   {
    "duration": 198,
    "start_time": "2022-05-15T00:24:12.444Z"
   },
   {
    "duration": 16,
    "start_time": "2022-05-15T00:24:12.644Z"
   },
   {
    "duration": 13,
    "start_time": "2022-05-15T00:24:12.661Z"
   },
   {
    "duration": 28,
    "start_time": "2022-05-15T00:24:12.675Z"
   },
   {
    "duration": 307,
    "start_time": "2022-05-15T00:24:12.704Z"
   },
   {
    "duration": 11,
    "start_time": "2022-05-15T00:24:13.013Z"
   },
   {
    "duration": 20,
    "start_time": "2022-05-15T00:24:13.026Z"
   },
   {
    "duration": 33,
    "start_time": "2022-05-15T00:24:13.048Z"
   },
   {
    "duration": 27,
    "start_time": "2022-05-15T00:24:13.082Z"
   },
   {
    "duration": 3146,
    "start_time": "2022-05-15T00:24:13.112Z"
   },
   {
    "duration": 377,
    "start_time": "2022-05-15T00:24:16.259Z"
   },
   {
    "duration": 7,
    "start_time": "2022-05-15T00:24:16.638Z"
   },
   {
    "duration": 35,
    "start_time": "2022-05-15T00:24:16.646Z"
   },
   {
    "duration": 516,
    "start_time": "2022-05-15T00:24:16.683Z"
   },
   {
    "duration": 4,
    "start_time": "2022-05-15T00:24:17.201Z"
   },
   {
    "duration": 11,
    "start_time": "2022-05-15T00:24:17.207Z"
   },
   {
    "duration": 1323,
    "start_time": "2022-05-15T00:24:17.220Z"
   },
   {
    "duration": 271,
    "start_time": "2022-05-15T00:24:18.546Z"
   },
   {
    "duration": 0,
    "start_time": "2022-05-15T00:24:18.819Z"
   },
   {
    "duration": 0,
    "start_time": "2022-05-15T00:24:18.820Z"
   },
   {
    "duration": 0,
    "start_time": "2022-05-15T00:24:18.821Z"
   },
   {
    "duration": 0,
    "start_time": "2022-05-15T00:24:18.822Z"
   },
   {
    "duration": 0,
    "start_time": "2022-05-15T00:24:18.823Z"
   },
   {
    "duration": 0,
    "start_time": "2022-05-15T00:24:18.824Z"
   },
   {
    "duration": 0,
    "start_time": "2022-05-15T00:24:18.825Z"
   },
   {
    "duration": 0,
    "start_time": "2022-05-15T00:24:18.842Z"
   },
   {
    "duration": 0,
    "start_time": "2022-05-15T00:24:18.843Z"
   },
   {
    "duration": 0,
    "start_time": "2022-05-15T00:24:18.844Z"
   },
   {
    "duration": 0,
    "start_time": "2022-05-15T00:24:18.845Z"
   },
   {
    "duration": 0,
    "start_time": "2022-05-15T00:24:18.846Z"
   },
   {
    "duration": 0,
    "start_time": "2022-05-15T00:24:18.847Z"
   },
   {
    "duration": 0,
    "start_time": "2022-05-15T00:24:18.848Z"
   },
   {
    "duration": 0,
    "start_time": "2022-05-15T00:24:18.849Z"
   },
   {
    "duration": 2503,
    "start_time": "2022-05-15T00:26:29.160Z"
   },
   {
    "duration": 123,
    "start_time": "2022-05-15T00:26:56.933Z"
   },
   {
    "duration": 75,
    "start_time": "2022-05-15T00:27:29.669Z"
   },
   {
    "duration": 10,
    "start_time": "2022-05-15T00:31:05.315Z"
   },
   {
    "duration": 13,
    "start_time": "2022-05-15T00:31:59.029Z"
   },
   {
    "duration": 15,
    "start_time": "2022-05-15T00:32:30.704Z"
   },
   {
    "duration": 12484,
    "start_time": "2022-05-15T00:32:47.766Z"
   },
   {
    "duration": 4204,
    "start_time": "2022-05-15T00:35:03.042Z"
   },
   {
    "duration": 1454,
    "start_time": "2022-05-15T00:35:26.176Z"
   },
   {
    "duration": 654,
    "start_time": "2022-05-15T00:35:27.633Z"
   },
   {
    "duration": 5,
    "start_time": "2022-05-15T00:35:28.288Z"
   },
   {
    "duration": 31,
    "start_time": "2022-05-15T00:35:28.295Z"
   },
   {
    "duration": 137,
    "start_time": "2022-05-15T00:35:28.327Z"
   },
   {
    "duration": 15,
    "start_time": "2022-05-15T00:35:28.466Z"
   },
   {
    "duration": 210,
    "start_time": "2022-05-15T00:35:28.483Z"
   },
   {
    "duration": 18,
    "start_time": "2022-05-15T00:35:28.696Z"
   },
   {
    "duration": 44,
    "start_time": "2022-05-15T00:35:28.716Z"
   },
   {
    "duration": 9,
    "start_time": "2022-05-15T00:35:28.763Z"
   },
   {
    "duration": 122,
    "start_time": "2022-05-15T00:35:28.774Z"
   },
   {
    "duration": 19,
    "start_time": "2022-05-15T00:35:28.898Z"
   },
   {
    "duration": 124,
    "start_time": "2022-05-15T00:35:28.919Z"
   },
   {
    "duration": 15,
    "start_time": "2022-05-15T00:35:29.044Z"
   },
   {
    "duration": 224,
    "start_time": "2022-05-15T00:35:29.061Z"
   },
   {
    "duration": 12,
    "start_time": "2022-05-15T00:35:29.287Z"
   },
   {
    "duration": 52,
    "start_time": "2022-05-15T00:35:29.301Z"
   },
   {
    "duration": 74,
    "start_time": "2022-05-15T00:35:29.355Z"
   },
   {
    "duration": 235,
    "start_time": "2022-05-15T00:35:29.431Z"
   },
   {
    "duration": 18,
    "start_time": "2022-05-15T00:35:29.668Z"
   },
   {
    "duration": 13,
    "start_time": "2022-05-15T00:35:29.688Z"
   },
   {
    "duration": 3,
    "start_time": "2022-05-15T00:35:29.703Z"
   },
   {
    "duration": 530,
    "start_time": "2022-05-15T00:35:29.742Z"
   },
   {
    "duration": 10,
    "start_time": "2022-05-15T00:35:30.274Z"
   },
   {
    "duration": 68,
    "start_time": "2022-05-15T00:35:30.286Z"
   },
   {
    "duration": 7,
    "start_time": "2022-05-15T00:35:30.356Z"
   },
   {
    "duration": 15,
    "start_time": "2022-05-15T00:35:30.364Z"
   },
   {
    "duration": 3764,
    "start_time": "2022-05-15T00:35:30.383Z"
   },
   {
    "duration": 385,
    "start_time": "2022-05-15T00:35:34.149Z"
   },
   {
    "duration": 8,
    "start_time": "2022-05-15T00:35:34.536Z"
   },
   {
    "duration": 75,
    "start_time": "2022-05-15T00:35:34.546Z"
   },
   {
    "duration": 505,
    "start_time": "2022-05-15T00:35:34.622Z"
   },
   {
    "duration": 4,
    "start_time": "2022-05-15T00:35:35.129Z"
   },
   {
    "duration": 14,
    "start_time": "2022-05-15T00:35:35.142Z"
   },
   {
    "duration": 1287,
    "start_time": "2022-05-15T00:35:35.157Z"
   },
   {
    "duration": 4306,
    "start_time": "2022-05-15T00:35:36.447Z"
   },
   {
    "duration": 1300,
    "start_time": "2022-05-15T00:35:40.755Z"
   },
   {
    "duration": 96,
    "start_time": "2022-05-15T00:35:42.057Z"
   },
   {
    "duration": 14,
    "start_time": "2022-05-15T00:35:42.155Z"
   },
   {
    "duration": 7,
    "start_time": "2022-05-15T00:35:42.170Z"
   },
   {
    "duration": 8,
    "start_time": "2022-05-15T00:35:42.179Z"
   },
   {
    "duration": 154,
    "start_time": "2022-05-15T00:35:42.189Z"
   },
   {
    "duration": 8,
    "start_time": "2022-05-15T00:35:42.345Z"
   },
   {
    "duration": 66971,
    "start_time": "2022-05-15T00:35:42.355Z"
   },
   {
    "duration": 5,
    "start_time": "2022-05-15T00:36:49.328Z"
   },
   {
    "duration": 111,
    "start_time": "2022-05-15T00:36:49.343Z"
   },
   {
    "duration": 0,
    "start_time": "2022-05-15T00:36:49.456Z"
   },
   {
    "duration": 0,
    "start_time": "2022-05-15T00:36:49.457Z"
   },
   {
    "duration": 0,
    "start_time": "2022-05-15T00:36:49.458Z"
   },
   {
    "duration": 0,
    "start_time": "2022-05-15T00:36:49.458Z"
   },
   {
    "duration": 0,
    "start_time": "2022-05-15T00:36:49.459Z"
   },
   {
    "duration": 0,
    "start_time": "2022-05-15T00:36:49.460Z"
   },
   {
    "duration": 22,
    "start_time": "2022-05-15T00:38:30.450Z"
   },
   {
    "duration": 13532,
    "start_time": "2022-05-15T00:40:43.944Z"
   },
   {
    "duration": 13725,
    "start_time": "2022-05-15T00:41:07.471Z"
   },
   {
    "duration": 6,
    "start_time": "2022-05-15T00:42:03.241Z"
   },
   {
    "duration": 159,
    "start_time": "2022-05-15T00:42:09.263Z"
   },
   {
    "duration": 158,
    "start_time": "2022-05-15T00:43:29.008Z"
   },
   {
    "duration": 282,
    "start_time": "2022-05-15T00:44:41.930Z"
   },
   {
    "duration": 264,
    "start_time": "2022-05-15T00:45:00.700Z"
   },
   {
    "duration": 1301,
    "start_time": "2022-05-15T00:45:49.144Z"
   },
   {
    "duration": 1275,
    "start_time": "2022-05-15T00:46:01.569Z"
   },
   {
    "duration": 256,
    "start_time": "2022-05-15T00:46:28.528Z"
   },
   {
    "duration": 286,
    "start_time": "2022-05-15T00:47:05.235Z"
   },
   {
    "duration": 262,
    "start_time": "2022-05-15T00:50:16.229Z"
   },
   {
    "duration": 264,
    "start_time": "2022-05-15T00:51:00.652Z"
   },
   {
    "duration": 276,
    "start_time": "2022-05-15T00:51:31.173Z"
   },
   {
    "duration": 27794,
    "start_time": "2022-05-15T00:53:12.751Z"
   },
   {
    "duration": 28005,
    "start_time": "2022-05-15T00:57:22.079Z"
   },
   {
    "duration": 1441,
    "start_time": "2022-05-15T01:00:28.161Z"
   },
   {
    "duration": 1259,
    "start_time": "2022-05-15T01:00:29.604Z"
   },
   {
    "duration": 3,
    "start_time": "2022-05-15T01:00:30.865Z"
   },
   {
    "duration": 90,
    "start_time": "2022-05-15T01:00:30.870Z"
   },
   {
    "duration": 298,
    "start_time": "2022-05-15T01:00:30.962Z"
   },
   {
    "duration": 16,
    "start_time": "2022-05-15T01:00:31.262Z"
   },
   {
    "duration": 214,
    "start_time": "2022-05-15T01:00:31.279Z"
   },
   {
    "duration": 19,
    "start_time": "2022-05-15T01:00:31.494Z"
   },
   {
    "duration": 45,
    "start_time": "2022-05-15T01:00:31.515Z"
   },
   {
    "duration": 9,
    "start_time": "2022-05-15T01:00:31.562Z"
   },
   {
    "duration": 121,
    "start_time": "2022-05-15T01:00:31.572Z"
   },
   {
    "duration": 18,
    "start_time": "2022-05-15T01:00:31.694Z"
   },
   {
    "duration": 117,
    "start_time": "2022-05-15T01:00:31.714Z"
   },
   {
    "duration": 17,
    "start_time": "2022-05-15T01:00:31.833Z"
   },
   {
    "duration": 222,
    "start_time": "2022-05-15T01:00:31.852Z"
   },
   {
    "duration": 13,
    "start_time": "2022-05-15T01:00:32.075Z"
   },
   {
    "duration": 66,
    "start_time": "2022-05-15T01:00:32.089Z"
   },
   {
    "duration": 75,
    "start_time": "2022-05-15T01:00:32.157Z"
   },
   {
    "duration": 219,
    "start_time": "2022-05-15T01:00:32.243Z"
   },
   {
    "duration": 16,
    "start_time": "2022-05-15T01:00:32.464Z"
   },
   {
    "duration": 12,
    "start_time": "2022-05-15T01:00:32.482Z"
   },
   {
    "duration": 4,
    "start_time": "2022-05-15T01:00:32.496Z"
   },
   {
    "duration": 304,
    "start_time": "2022-05-15T01:00:32.501Z"
   },
   {
    "duration": 10,
    "start_time": "2022-05-15T01:00:32.806Z"
   },
   {
    "duration": 10,
    "start_time": "2022-05-15T01:00:32.818Z"
   },
   {
    "duration": 6,
    "start_time": "2022-05-15T01:00:32.843Z"
   },
   {
    "duration": 10,
    "start_time": "2022-05-15T01:00:32.851Z"
   },
   {
    "duration": 3195,
    "start_time": "2022-05-15T01:00:32.865Z"
   },
   {
    "duration": 375,
    "start_time": "2022-05-15T01:00:36.061Z"
   },
   {
    "duration": 7,
    "start_time": "2022-05-15T01:00:36.437Z"
   },
   {
    "duration": 33,
    "start_time": "2022-05-15T01:00:36.446Z"
   },
   {
    "duration": 509,
    "start_time": "2022-05-15T01:00:36.480Z"
   },
   {
    "duration": 5,
    "start_time": "2022-05-15T01:00:36.991Z"
   },
   {
    "duration": 13,
    "start_time": "2022-05-15T01:00:36.997Z"
   },
   {
    "duration": 1332,
    "start_time": "2022-05-15T01:00:37.012Z"
   },
   {
    "duration": 1285,
    "start_time": "2022-05-15T01:02:37.068Z"
   },
   {
    "duration": 80,
    "start_time": "2022-05-15T01:02:38.355Z"
   },
   {
    "duration": 14,
    "start_time": "2022-05-15T01:02:38.443Z"
   },
   {
    "duration": 7,
    "start_time": "2022-05-15T01:02:38.459Z"
   },
   {
    "duration": 8,
    "start_time": "2022-05-15T01:02:38.467Z"
   },
   {
    "duration": 7,
    "start_time": "2022-05-15T01:02:38.543Z"
   },
   {
    "duration": 103,
    "start_time": "2022-05-15T01:02:38.552Z"
   },
   {
    "duration": 67205,
    "start_time": "2022-05-15T01:02:38.657Z"
   },
   {
    "duration": 4,
    "start_time": "2022-05-15T01:03:45.864Z"
   },
   {
    "duration": 118,
    "start_time": "2022-05-15T01:03:45.869Z"
   },
   {
    "duration": 0,
    "start_time": "2022-05-15T01:03:45.988Z"
   },
   {
    "duration": 0,
    "start_time": "2022-05-15T01:03:45.989Z"
   },
   {
    "duration": 0,
    "start_time": "2022-05-15T01:03:45.990Z"
   },
   {
    "duration": 0,
    "start_time": "2022-05-15T01:03:45.991Z"
   },
   {
    "duration": 0,
    "start_time": "2022-05-15T01:03:45.992Z"
   },
   {
    "duration": 0,
    "start_time": "2022-05-15T01:03:45.993Z"
   },
   {
    "duration": 0,
    "start_time": "2022-05-15T01:03:45.994Z"
   },
   {
    "duration": 0,
    "start_time": "2022-05-15T01:03:45.995Z"
   },
   {
    "duration": 1496,
    "start_time": "2022-05-15T01:04:43.197Z"
   },
   {
    "duration": 672,
    "start_time": "2022-05-15T01:04:44.695Z"
   },
   {
    "duration": 4,
    "start_time": "2022-05-15T01:04:45.369Z"
   },
   {
    "duration": 27,
    "start_time": "2022-05-15T01:04:45.376Z"
   },
   {
    "duration": 150,
    "start_time": "2022-05-15T01:04:45.405Z"
   },
   {
    "duration": 14,
    "start_time": "2022-05-15T01:04:45.557Z"
   },
   {
    "duration": 210,
    "start_time": "2022-05-15T01:04:45.573Z"
   },
   {
    "duration": 20,
    "start_time": "2022-05-15T01:04:45.785Z"
   },
   {
    "duration": 46,
    "start_time": "2022-05-15T01:04:45.807Z"
   },
   {
    "duration": 9,
    "start_time": "2022-05-15T01:04:45.857Z"
   },
   {
    "duration": 123,
    "start_time": "2022-05-15T01:04:45.867Z"
   },
   {
    "duration": 20,
    "start_time": "2022-05-15T01:04:45.991Z"
   },
   {
    "duration": 116,
    "start_time": "2022-05-15T01:04:46.013Z"
   },
   {
    "duration": 21,
    "start_time": "2022-05-15T01:04:46.130Z"
   },
   {
    "duration": 210,
    "start_time": "2022-05-15T01:04:46.153Z"
   },
   {
    "duration": 12,
    "start_time": "2022-05-15T01:04:46.364Z"
   },
   {
    "duration": 34,
    "start_time": "2022-05-15T01:04:46.378Z"
   },
   {
    "duration": 91,
    "start_time": "2022-05-15T01:04:46.413Z"
   },
   {
    "duration": 205,
    "start_time": "2022-05-15T01:04:46.506Z"
   },
   {
    "duration": 16,
    "start_time": "2022-05-15T01:04:46.713Z"
   },
   {
    "duration": 26,
    "start_time": "2022-05-15T01:04:46.730Z"
   },
   {
    "duration": 3,
    "start_time": "2022-05-15T01:04:46.758Z"
   },
   {
    "duration": 301,
    "start_time": "2022-05-15T01:04:46.763Z"
   },
   {
    "duration": 11,
    "start_time": "2022-05-15T01:04:47.065Z"
   },
   {
    "duration": 11,
    "start_time": "2022-05-15T01:04:47.078Z"
   },
   {
    "duration": 6,
    "start_time": "2022-05-15T01:04:47.090Z"
   },
   {
    "duration": 14,
    "start_time": "2022-05-15T01:04:47.097Z"
   },
   {
    "duration": 4046,
    "start_time": "2022-05-15T01:04:47.114Z"
   },
   {
    "duration": 535,
    "start_time": "2022-05-15T01:04:51.161Z"
   },
   {
    "duration": 5,
    "start_time": "2022-05-15T01:04:51.697Z"
   },
   {
    "duration": 33,
    "start_time": "2022-05-15T01:04:51.703Z"
   },
   {
    "duration": 509,
    "start_time": "2022-05-15T01:04:51.737Z"
   },
   {
    "duration": 4,
    "start_time": "2022-05-15T01:04:52.248Z"
   },
   {
    "duration": 16,
    "start_time": "2022-05-15T01:04:52.254Z"
   },
   {
    "duration": 1272,
    "start_time": "2022-05-15T01:04:52.272Z"
   },
   {
    "duration": 117204,
    "start_time": "2022-05-15T01:04:53.547Z"
   },
   {
    "duration": 1270,
    "start_time": "2022-05-15T01:06:50.752Z"
   },
   {
    "duration": 92,
    "start_time": "2022-05-15T01:06:52.024Z"
   },
   {
    "duration": 25,
    "start_time": "2022-05-15T01:06:52.118Z"
   },
   {
    "duration": 9,
    "start_time": "2022-05-15T01:06:52.144Z"
   },
   {
    "duration": 14,
    "start_time": "2022-05-15T01:06:52.154Z"
   },
   {
    "duration": 6,
    "start_time": "2022-05-15T01:06:52.245Z"
   },
   {
    "duration": 101,
    "start_time": "2022-05-15T01:06:52.252Z"
   },
   {
    "duration": 65770,
    "start_time": "2022-05-15T01:06:52.354Z"
   },
   {
    "duration": 4,
    "start_time": "2022-05-15T01:07:58.126Z"
   },
   {
    "duration": 111,
    "start_time": "2022-05-15T01:07:58.143Z"
   },
   {
    "duration": 0,
    "start_time": "2022-05-15T01:07:58.256Z"
   },
   {
    "duration": 0,
    "start_time": "2022-05-15T01:07:58.257Z"
   },
   {
    "duration": 0,
    "start_time": "2022-05-15T01:07:58.258Z"
   },
   {
    "duration": 0,
    "start_time": "2022-05-15T01:07:58.259Z"
   },
   {
    "duration": 0,
    "start_time": "2022-05-15T01:07:58.260Z"
   },
   {
    "duration": 0,
    "start_time": "2022-05-15T01:07:58.260Z"
   },
   {
    "duration": 0,
    "start_time": "2022-05-15T01:07:58.261Z"
   },
   {
    "duration": 0,
    "start_time": "2022-05-15T01:07:58.262Z"
   },
   {
    "duration": 1397,
    "start_time": "2022-05-15T01:09:05.685Z"
   },
   {
    "duration": 644,
    "start_time": "2022-05-15T01:09:07.084Z"
   },
   {
    "duration": 5,
    "start_time": "2022-05-15T01:09:07.729Z"
   },
   {
    "duration": 49,
    "start_time": "2022-05-15T01:09:07.737Z"
   },
   {
    "duration": 138,
    "start_time": "2022-05-15T01:09:07.788Z"
   },
   {
    "duration": 12,
    "start_time": "2022-05-15T01:09:07.928Z"
   },
   {
    "duration": 200,
    "start_time": "2022-05-15T01:09:07.942Z"
   },
   {
    "duration": 18,
    "start_time": "2022-05-15T01:09:08.143Z"
   },
   {
    "duration": 51,
    "start_time": "2022-05-15T01:09:08.162Z"
   },
   {
    "duration": 8,
    "start_time": "2022-05-15T01:09:08.216Z"
   },
   {
    "duration": 115,
    "start_time": "2022-05-15T01:09:08.225Z"
   },
   {
    "duration": 18,
    "start_time": "2022-05-15T01:09:08.341Z"
   },
   {
    "duration": 116,
    "start_time": "2022-05-15T01:09:08.360Z"
   },
   {
    "duration": 12,
    "start_time": "2022-05-15T01:09:08.478Z"
   },
   {
    "duration": 210,
    "start_time": "2022-05-15T01:09:08.492Z"
   },
   {
    "duration": 11,
    "start_time": "2022-05-15T01:09:08.704Z"
   },
   {
    "duration": 57,
    "start_time": "2022-05-15T01:09:08.717Z"
   },
   {
    "duration": 91,
    "start_time": "2022-05-15T01:09:08.775Z"
   },
   {
    "duration": 215,
    "start_time": "2022-05-15T01:09:08.868Z"
   },
   {
    "duration": 17,
    "start_time": "2022-05-15T01:09:09.085Z"
   },
   {
    "duration": 22,
    "start_time": "2022-05-15T01:09:09.104Z"
   },
   {
    "duration": 7,
    "start_time": "2022-05-15T01:09:09.143Z"
   },
   {
    "duration": 303,
    "start_time": "2022-05-15T01:09:09.152Z"
   },
   {
    "duration": 12,
    "start_time": "2022-05-15T01:09:09.456Z"
   },
   {
    "duration": 36,
    "start_time": "2022-05-15T01:09:09.470Z"
   },
   {
    "duration": 16,
    "start_time": "2022-05-15T01:09:09.507Z"
   },
   {
    "duration": 29,
    "start_time": "2022-05-15T01:09:09.524Z"
   },
   {
    "duration": 3296,
    "start_time": "2022-05-15T01:09:09.558Z"
   },
   {
    "duration": 393,
    "start_time": "2022-05-15T01:09:12.856Z"
   },
   {
    "duration": 5,
    "start_time": "2022-05-15T01:09:13.250Z"
   },
   {
    "duration": 106,
    "start_time": "2022-05-15T01:09:13.257Z"
   },
   {
    "duration": 1022,
    "start_time": "2022-05-15T01:09:13.365Z"
   },
   {
    "duration": 54,
    "start_time": "2022-05-15T01:09:14.389Z"
   },
   {
    "duration": 7,
    "start_time": "2022-05-15T01:09:14.445Z"
   },
   {
    "duration": 1392,
    "start_time": "2022-05-15T01:09:14.454Z"
   },
   {
    "duration": 14066,
    "start_time": "2022-05-15T01:09:15.849Z"
   },
   {
    "duration": 1285,
    "start_time": "2022-05-15T01:09:29.916Z"
   },
   {
    "duration": 94,
    "start_time": "2022-05-15T01:09:31.203Z"
   },
   {
    "duration": 14,
    "start_time": "2022-05-15T01:09:31.299Z"
   },
   {
    "duration": 34,
    "start_time": "2022-05-15T01:09:31.314Z"
   },
   {
    "duration": 14,
    "start_time": "2022-05-15T01:09:31.349Z"
   },
   {
    "duration": 103,
    "start_time": "2022-05-15T01:09:31.443Z"
   },
   {
    "duration": 24,
    "start_time": "2022-05-15T01:09:31.548Z"
   },
   {
    "duration": 67114,
    "start_time": "2022-05-15T01:09:31.574Z"
   },
   {
    "duration": 5,
    "start_time": "2022-05-15T01:10:38.690Z"
   },
   {
    "duration": 118,
    "start_time": "2022-05-15T01:10:38.697Z"
   },
   {
    "duration": 0,
    "start_time": "2022-05-15T01:10:38.817Z"
   },
   {
    "duration": 0,
    "start_time": "2022-05-15T01:10:38.818Z"
   },
   {
    "duration": 0,
    "start_time": "2022-05-15T01:10:38.819Z"
   },
   {
    "duration": 0,
    "start_time": "2022-05-15T01:10:38.821Z"
   },
   {
    "duration": 0,
    "start_time": "2022-05-15T01:10:38.822Z"
   },
   {
    "duration": 0,
    "start_time": "2022-05-15T01:10:38.823Z"
   },
   {
    "duration": 0,
    "start_time": "2022-05-15T01:10:38.843Z"
   },
   {
    "duration": 0,
    "start_time": "2022-05-15T01:10:38.844Z"
   },
   {
    "duration": 5610,
    "start_time": "2022-05-15T01:10:54.427Z"
   },
   {
    "duration": 84,
    "start_time": "2022-05-15T01:11:07.467Z"
   },
   {
    "duration": 16,
    "start_time": "2022-05-15T01:11:09.170Z"
   },
   {
    "duration": 9,
    "start_time": "2022-05-15T01:11:12.760Z"
   },
   {
    "duration": 56,
    "start_time": "2022-05-15T01:11:13.186Z"
   },
   {
    "duration": 6,
    "start_time": "2022-05-15T01:11:13.624Z"
   },
   {
    "duration": 8,
    "start_time": "2022-05-15T01:11:14.157Z"
   },
   {
    "duration": 8,
    "start_time": "2022-05-15T01:23:06.946Z"
   },
   {
    "duration": 12594,
    "start_time": "2022-05-15T01:23:13.700Z"
   },
   {
    "duration": 108,
    "start_time": "2022-05-15T01:23:26.296Z"
   },
   {
    "duration": 18,
    "start_time": "2022-05-15T01:23:27.853Z"
   },
   {
    "duration": 22,
    "start_time": "2022-05-15T01:23:38.470Z"
   },
   {
    "duration": 8,
    "start_time": "2022-05-15T01:23:55.755Z"
   },
   {
    "duration": 13537,
    "start_time": "2022-05-15T01:23:57.339Z"
   },
   {
    "duration": 0,
    "start_time": "2022-05-15T01:24:10.877Z"
   },
   {
    "duration": 0,
    "start_time": "2022-05-15T01:24:10.878Z"
   },
   {
    "duration": 305,
    "start_time": "2022-05-15T01:24:36.574Z"
   },
   {
    "duration": 1462,
    "start_time": "2022-05-15T01:25:28.542Z"
   },
   {
    "duration": 668,
    "start_time": "2022-05-15T01:25:30.007Z"
   },
   {
    "duration": 3,
    "start_time": "2022-05-15T01:25:30.677Z"
   },
   {
    "duration": 41,
    "start_time": "2022-05-15T01:25:30.682Z"
   },
   {
    "duration": 127,
    "start_time": "2022-05-15T01:25:30.724Z"
   },
   {
    "duration": 13,
    "start_time": "2022-05-15T01:25:30.852Z"
   },
   {
    "duration": 211,
    "start_time": "2022-05-15T01:25:30.867Z"
   },
   {
    "duration": 17,
    "start_time": "2022-05-15T01:25:31.080Z"
   },
   {
    "duration": 44,
    "start_time": "2022-05-15T01:25:31.099Z"
   },
   {
    "duration": 9,
    "start_time": "2022-05-15T01:25:31.145Z"
   },
   {
    "duration": 120,
    "start_time": "2022-05-15T01:25:31.155Z"
   },
   {
    "duration": 19,
    "start_time": "2022-05-15T01:25:31.276Z"
   },
   {
    "duration": 120,
    "start_time": "2022-05-15T01:25:31.296Z"
   },
   {
    "duration": 12,
    "start_time": "2022-05-15T01:25:31.418Z"
   },
   {
    "duration": 216,
    "start_time": "2022-05-15T01:25:31.432Z"
   },
   {
    "duration": 11,
    "start_time": "2022-05-15T01:25:31.650Z"
   },
   {
    "duration": 51,
    "start_time": "2022-05-15T01:25:31.663Z"
   },
   {
    "duration": 82,
    "start_time": "2022-05-15T01:25:31.716Z"
   },
   {
    "duration": 208,
    "start_time": "2022-05-15T01:25:31.800Z"
   },
   {
    "duration": 16,
    "start_time": "2022-05-15T01:25:32.009Z"
   },
   {
    "duration": 26,
    "start_time": "2022-05-15T01:25:32.027Z"
   },
   {
    "duration": 4,
    "start_time": "2022-05-15T01:25:32.054Z"
   },
   {
    "duration": 293,
    "start_time": "2022-05-15T01:25:32.059Z"
   },
   {
    "duration": 10,
    "start_time": "2022-05-15T01:25:32.354Z"
   },
   {
    "duration": 10,
    "start_time": "2022-05-15T01:25:32.366Z"
   },
   {
    "duration": 9,
    "start_time": "2022-05-15T01:25:32.377Z"
   },
   {
    "duration": 18,
    "start_time": "2022-05-15T01:25:32.387Z"
   },
   {
    "duration": 3244,
    "start_time": "2022-05-15T01:25:32.409Z"
   },
   {
    "duration": 383,
    "start_time": "2022-05-15T01:25:35.655Z"
   },
   {
    "duration": 4,
    "start_time": "2022-05-15T01:25:36.040Z"
   },
   {
    "duration": 30,
    "start_time": "2022-05-15T01:25:36.046Z"
   },
   {
    "duration": 517,
    "start_time": "2022-05-15T01:25:36.078Z"
   },
   {
    "duration": 4,
    "start_time": "2022-05-15T01:25:36.597Z"
   },
   {
    "duration": 12,
    "start_time": "2022-05-15T01:25:36.602Z"
   },
   {
    "duration": 1330,
    "start_time": "2022-05-15T01:25:36.615Z"
   },
   {
    "duration": 14392,
    "start_time": "2022-05-15T01:25:37.948Z"
   },
   {
    "duration": 5427,
    "start_time": "2022-05-15T01:25:52.341Z"
   },
   {
    "duration": 92,
    "start_time": "2022-05-15T01:25:57.770Z"
   },
   {
    "duration": 13,
    "start_time": "2022-05-15T01:25:57.864Z"
   },
   {
    "duration": 8,
    "start_time": "2022-05-15T01:25:57.879Z"
   },
   {
    "duration": 63,
    "start_time": "2022-05-15T01:25:57.888Z"
   },
   {
    "duration": 5,
    "start_time": "2022-05-15T01:25:58.042Z"
   },
   {
    "duration": 7,
    "start_time": "2022-05-15T01:25:58.049Z"
   }
  ],
  "kernelspec": {
   "display_name": "Python 3 (ipykernel)",
   "language": "python",
   "name": "python3"
  },
  "language_info": {
   "codemirror_mode": {
    "name": "ipython",
    "version": 3
   },
   "file_extension": ".py",
   "mimetype": "text/x-python",
   "name": "python",
   "nbconvert_exporter": "python",
   "pygments_lexer": "ipython3",
   "version": "3.9.7"
  },
  "toc": {
   "base_numbering": 1,
   "nav_menu": {},
   "number_sections": true,
   "sideBar": true,
   "skip_h1_title": true,
   "title_cell": "Содержание",
   "title_sidebar": "Contents",
   "toc_cell": true,
   "toc_position": {
    "height": "calc(100% - 180px)",
    "left": "10px",
    "top": "150px",
    "width": "165.375px"
   },
   "toc_section_display": true,
   "toc_window_display": true
  }
 },
 "nbformat": 4,
 "nbformat_minor": 2
}
