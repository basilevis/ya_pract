{
 "cells": [
  {
   "cell_type": "markdown",
   "metadata": {},
   "source": [
    "# Отток клиентов"
   ]
  },
  {
   "cell_type": "markdown",
   "metadata": {},
   "source": [
    "Из «Бета-Банка» стали уходить клиенты. Каждый месяц. Немного, но заметно. Банковские маркетологи посчитали: сохранять текущих клиентов дешевле, чем привлекать новых.\n",
    "\n",
    "Нужно спрогнозировать, уйдёт клиент из банка в ближайшее время или нет. Вам предоставлены исторические данные о поведении клиентов и расторжении договоров с банком. \n",
    "\n",
    "Постройте модель с предельно большим значением *F1*-меры. Чтобы сдать проект успешно, нужно довести метрику до 0.59. Проверьте *F1*-меру на тестовой выборке самостоятельно.\n",
    "\n",
    "Дополнительно измеряйте *AUC-ROC*, сравнивайте её значение с *F1*-мерой.\n",
    "\n",
    "Источник данных: [https://www.kaggle.com/barelydedicated/bank-customer-churn-modeling](https://www.kaggle.com/barelydedicated/bank-customer-churn-modeling)\n",
    "\n",
    "\n",
    "**Описание данных**\n",
    "\n",
    "Признаки:\n",
    "* RowNumber — индекс строки в данных\n",
    "* CustomerId — уникальный идентификатор клиента\n",
    "* Surname — фамилия\n",
    "* CreditScore — кредитный рейтинг\n",
    "* Geography — страна проживания\n",
    "* Gender — пол\n",
    "* Age — возраст\n",
    "* Tenure — сколько лет человек является клиентом банка\n",
    "* Balance — баланс на счёте\n",
    "* NumOfProducts — количество продуктов банка, используемых клиентом\n",
    "* HasCrCard — наличие кредитной карты\n",
    "* IsActiveMember — активность клиента\n",
    "* EstimatedSalary — предполагаемая зарплата\n",
    "\n",
    "*Целевой признак*\n",
    "* Exited — факт ухода клиента"
   ]
  },
  {
   "cell_type": "markdown",
   "metadata": {},
   "source": [
    "## Подготовка данных"
   ]
  },
  {
   "cell_type": "code",
   "execution_count": 1,
   "metadata": {},
   "outputs": [],
   "source": [
    "import pandas as pd\n",
    "import numpy as np\n",
    "\n",
    "from sklearn.metrics import auc\n",
    "import matplotlib.pyplot as plt\n",
    "from sklearn.linear_model import LogisticRegression\n",
    "from sklearn.ensemble import RandomForestClassifier\n",
    "from sklearn.tree import DecisionTreeClassifier\n",
    "from sklearn.model_selection import train_test_split\n",
    "from tqdm import tqdm\n",
    "from sklearn.utils import shuffle\n",
    "from sklearn.preprocessing import StandardScaler\n",
    "from sklearn.model_selection import GridSearchCV\n",
    "from sklearn.naive_bayes import GaussianNB\n",
    "from sklearn.metrics import f1_score, precision_score, recall_score, accuracy_score, roc_auc_score, roc_curve\n",
    "\n",
    "\n",
    "from warnings import simplefilter\n",
    "simplefilter(action='ignore', category=FutureWarning)\n"
   ]
  },
  {
   "cell_type": "markdown",
   "metadata": {},
   "source": [
    "Изучим предоставленные данные: выведем информацию о датасете, первые пять строк и статистические данные."
   ]
  },
  {
   "cell_type": "code",
   "execution_count": 2,
   "metadata": {},
   "outputs": [
    {
     "name": "stdout",
     "output_type": "stream",
     "text": [
      "<class 'pandas.core.frame.DataFrame'>\n",
      "RangeIndex: 10000 entries, 0 to 9999\n",
      "Data columns (total 14 columns):\n",
      " #   Column           Non-Null Count  Dtype  \n",
      "---  ------           --------------  -----  \n",
      " 0   RowNumber        10000 non-null  int64  \n",
      " 1   CustomerId       10000 non-null  int64  \n",
      " 2   Surname          10000 non-null  object \n",
      " 3   CreditScore      10000 non-null  int64  \n",
      " 4   Geography        10000 non-null  object \n",
      " 5   Gender           10000 non-null  object \n",
      " 6   Age              10000 non-null  int64  \n",
      " 7   Tenure           9091 non-null   float64\n",
      " 8   Balance          10000 non-null  float64\n",
      " 9   NumOfProducts    10000 non-null  int64  \n",
      " 10  HasCrCard        10000 non-null  int64  \n",
      " 11  IsActiveMember   10000 non-null  int64  \n",
      " 12  EstimatedSalary  10000 non-null  float64\n",
      " 13  Exited           10000 non-null  int64  \n",
      "dtypes: float64(3), int64(8), object(3)\n",
      "memory usage: 1.1+ MB\n"
     ]
    }
   ],
   "source": [
    "data = pd.read_csv('/datasets/Churn.csv')\n",
    "data.info()"
   ]
  },
  {
   "cell_type": "code",
   "execution_count": 3,
   "metadata": {},
   "outputs": [
    {
     "data": {
      "text/html": [
       "<div>\n",
       "<style scoped>\n",
       "    .dataframe tbody tr th:only-of-type {\n",
       "        vertical-align: middle;\n",
       "    }\n",
       "\n",
       "    .dataframe tbody tr th {\n",
       "        vertical-align: top;\n",
       "    }\n",
       "\n",
       "    .dataframe thead th {\n",
       "        text-align: right;\n",
       "    }\n",
       "</style>\n",
       "<table border=\"1\" class=\"dataframe\">\n",
       "  <thead>\n",
       "    <tr style=\"text-align: right;\">\n",
       "      <th></th>\n",
       "      <th>RowNumber</th>\n",
       "      <th>CustomerId</th>\n",
       "      <th>Surname</th>\n",
       "      <th>CreditScore</th>\n",
       "      <th>Geography</th>\n",
       "      <th>Gender</th>\n",
       "      <th>Age</th>\n",
       "      <th>Tenure</th>\n",
       "      <th>Balance</th>\n",
       "      <th>NumOfProducts</th>\n",
       "      <th>HasCrCard</th>\n",
       "      <th>IsActiveMember</th>\n",
       "      <th>EstimatedSalary</th>\n",
       "      <th>Exited</th>\n",
       "    </tr>\n",
       "  </thead>\n",
       "  <tbody>\n",
       "    <tr>\n",
       "      <th>0</th>\n",
       "      <td>1</td>\n",
       "      <td>15634602</td>\n",
       "      <td>Hargrave</td>\n",
       "      <td>619</td>\n",
       "      <td>France</td>\n",
       "      <td>Female</td>\n",
       "      <td>42</td>\n",
       "      <td>2.0</td>\n",
       "      <td>0.00</td>\n",
       "      <td>1</td>\n",
       "      <td>1</td>\n",
       "      <td>1</td>\n",
       "      <td>101348.88</td>\n",
       "      <td>1</td>\n",
       "    </tr>\n",
       "    <tr>\n",
       "      <th>1</th>\n",
       "      <td>2</td>\n",
       "      <td>15647311</td>\n",
       "      <td>Hill</td>\n",
       "      <td>608</td>\n",
       "      <td>Spain</td>\n",
       "      <td>Female</td>\n",
       "      <td>41</td>\n",
       "      <td>1.0</td>\n",
       "      <td>83807.86</td>\n",
       "      <td>1</td>\n",
       "      <td>0</td>\n",
       "      <td>1</td>\n",
       "      <td>112542.58</td>\n",
       "      <td>0</td>\n",
       "    </tr>\n",
       "    <tr>\n",
       "      <th>2</th>\n",
       "      <td>3</td>\n",
       "      <td>15619304</td>\n",
       "      <td>Onio</td>\n",
       "      <td>502</td>\n",
       "      <td>France</td>\n",
       "      <td>Female</td>\n",
       "      <td>42</td>\n",
       "      <td>8.0</td>\n",
       "      <td>159660.80</td>\n",
       "      <td>3</td>\n",
       "      <td>1</td>\n",
       "      <td>0</td>\n",
       "      <td>113931.57</td>\n",
       "      <td>1</td>\n",
       "    </tr>\n",
       "    <tr>\n",
       "      <th>3</th>\n",
       "      <td>4</td>\n",
       "      <td>15701354</td>\n",
       "      <td>Boni</td>\n",
       "      <td>699</td>\n",
       "      <td>France</td>\n",
       "      <td>Female</td>\n",
       "      <td>39</td>\n",
       "      <td>1.0</td>\n",
       "      <td>0.00</td>\n",
       "      <td>2</td>\n",
       "      <td>0</td>\n",
       "      <td>0</td>\n",
       "      <td>93826.63</td>\n",
       "      <td>0</td>\n",
       "    </tr>\n",
       "    <tr>\n",
       "      <th>4</th>\n",
       "      <td>5</td>\n",
       "      <td>15737888</td>\n",
       "      <td>Mitchell</td>\n",
       "      <td>850</td>\n",
       "      <td>Spain</td>\n",
       "      <td>Female</td>\n",
       "      <td>43</td>\n",
       "      <td>2.0</td>\n",
       "      <td>125510.82</td>\n",
       "      <td>1</td>\n",
       "      <td>1</td>\n",
       "      <td>1</td>\n",
       "      <td>79084.10</td>\n",
       "      <td>0</td>\n",
       "    </tr>\n",
       "  </tbody>\n",
       "</table>\n",
       "</div>"
      ],
      "text/plain": [
       "   RowNumber  CustomerId   Surname  CreditScore Geography  Gender  Age  \\\n",
       "0          1    15634602  Hargrave          619    France  Female   42   \n",
       "1          2    15647311      Hill          608     Spain  Female   41   \n",
       "2          3    15619304      Onio          502    France  Female   42   \n",
       "3          4    15701354      Boni          699    France  Female   39   \n",
       "4          5    15737888  Mitchell          850     Spain  Female   43   \n",
       "\n",
       "   Tenure    Balance  NumOfProducts  HasCrCard  IsActiveMember  \\\n",
       "0     2.0       0.00              1          1               1   \n",
       "1     1.0   83807.86              1          0               1   \n",
       "2     8.0  159660.80              3          1               0   \n",
       "3     1.0       0.00              2          0               0   \n",
       "4     2.0  125510.82              1          1               1   \n",
       "\n",
       "   EstimatedSalary  Exited  \n",
       "0        101348.88       1  \n",
       "1        112542.58       0  \n",
       "2        113931.57       1  \n",
       "3         93826.63       0  \n",
       "4         79084.10       0  "
      ]
     },
     "execution_count": 3,
     "metadata": {},
     "output_type": "execute_result"
    }
   ],
   "source": [
    "data.head()  "
   ]
  },
  {
   "cell_type": "code",
   "execution_count": 4,
   "metadata": {
    "scrolled": false
   },
   "outputs": [
    {
     "data": {
      "text/html": [
       "<div>\n",
       "<style scoped>\n",
       "    .dataframe tbody tr th:only-of-type {\n",
       "        vertical-align: middle;\n",
       "    }\n",
       "\n",
       "    .dataframe tbody tr th {\n",
       "        vertical-align: top;\n",
       "    }\n",
       "\n",
       "    .dataframe thead th {\n",
       "        text-align: right;\n",
       "    }\n",
       "</style>\n",
       "<table border=\"1\" class=\"dataframe\">\n",
       "  <thead>\n",
       "    <tr style=\"text-align: right;\">\n",
       "      <th></th>\n",
       "      <th>RowNumber</th>\n",
       "      <th>CustomerId</th>\n",
       "      <th>CreditScore</th>\n",
       "      <th>Age</th>\n",
       "      <th>Tenure</th>\n",
       "      <th>Balance</th>\n",
       "      <th>NumOfProducts</th>\n",
       "      <th>HasCrCard</th>\n",
       "      <th>IsActiveMember</th>\n",
       "      <th>EstimatedSalary</th>\n",
       "      <th>Exited</th>\n",
       "    </tr>\n",
       "  </thead>\n",
       "  <tbody>\n",
       "    <tr>\n",
       "      <th>count</th>\n",
       "      <td>10000.00000</td>\n",
       "      <td>1.000000e+04</td>\n",
       "      <td>10000.000000</td>\n",
       "      <td>10000.000000</td>\n",
       "      <td>9091.000000</td>\n",
       "      <td>10000.000000</td>\n",
       "      <td>10000.000000</td>\n",
       "      <td>10000.00000</td>\n",
       "      <td>10000.000000</td>\n",
       "      <td>10000.000000</td>\n",
       "      <td>10000.000000</td>\n",
       "    </tr>\n",
       "    <tr>\n",
       "      <th>mean</th>\n",
       "      <td>5000.50000</td>\n",
       "      <td>1.569094e+07</td>\n",
       "      <td>650.528800</td>\n",
       "      <td>38.921800</td>\n",
       "      <td>4.997690</td>\n",
       "      <td>76485.889288</td>\n",
       "      <td>1.530200</td>\n",
       "      <td>0.70550</td>\n",
       "      <td>0.515100</td>\n",
       "      <td>100090.239881</td>\n",
       "      <td>0.203700</td>\n",
       "    </tr>\n",
       "    <tr>\n",
       "      <th>std</th>\n",
       "      <td>2886.89568</td>\n",
       "      <td>7.193619e+04</td>\n",
       "      <td>96.653299</td>\n",
       "      <td>10.487806</td>\n",
       "      <td>2.894723</td>\n",
       "      <td>62397.405202</td>\n",
       "      <td>0.581654</td>\n",
       "      <td>0.45584</td>\n",
       "      <td>0.499797</td>\n",
       "      <td>57510.492818</td>\n",
       "      <td>0.402769</td>\n",
       "    </tr>\n",
       "    <tr>\n",
       "      <th>min</th>\n",
       "      <td>1.00000</td>\n",
       "      <td>1.556570e+07</td>\n",
       "      <td>350.000000</td>\n",
       "      <td>18.000000</td>\n",
       "      <td>0.000000</td>\n",
       "      <td>0.000000</td>\n",
       "      <td>1.000000</td>\n",
       "      <td>0.00000</td>\n",
       "      <td>0.000000</td>\n",
       "      <td>11.580000</td>\n",
       "      <td>0.000000</td>\n",
       "    </tr>\n",
       "    <tr>\n",
       "      <th>25%</th>\n",
       "      <td>2500.75000</td>\n",
       "      <td>1.562853e+07</td>\n",
       "      <td>584.000000</td>\n",
       "      <td>32.000000</td>\n",
       "      <td>2.000000</td>\n",
       "      <td>0.000000</td>\n",
       "      <td>1.000000</td>\n",
       "      <td>0.00000</td>\n",
       "      <td>0.000000</td>\n",
       "      <td>51002.110000</td>\n",
       "      <td>0.000000</td>\n",
       "    </tr>\n",
       "    <tr>\n",
       "      <th>50%</th>\n",
       "      <td>5000.50000</td>\n",
       "      <td>1.569074e+07</td>\n",
       "      <td>652.000000</td>\n",
       "      <td>37.000000</td>\n",
       "      <td>5.000000</td>\n",
       "      <td>97198.540000</td>\n",
       "      <td>1.000000</td>\n",
       "      <td>1.00000</td>\n",
       "      <td>1.000000</td>\n",
       "      <td>100193.915000</td>\n",
       "      <td>0.000000</td>\n",
       "    </tr>\n",
       "    <tr>\n",
       "      <th>75%</th>\n",
       "      <td>7500.25000</td>\n",
       "      <td>1.575323e+07</td>\n",
       "      <td>718.000000</td>\n",
       "      <td>44.000000</td>\n",
       "      <td>7.000000</td>\n",
       "      <td>127644.240000</td>\n",
       "      <td>2.000000</td>\n",
       "      <td>1.00000</td>\n",
       "      <td>1.000000</td>\n",
       "      <td>149388.247500</td>\n",
       "      <td>0.000000</td>\n",
       "    </tr>\n",
       "    <tr>\n",
       "      <th>max</th>\n",
       "      <td>10000.00000</td>\n",
       "      <td>1.581569e+07</td>\n",
       "      <td>850.000000</td>\n",
       "      <td>92.000000</td>\n",
       "      <td>10.000000</td>\n",
       "      <td>250898.090000</td>\n",
       "      <td>4.000000</td>\n",
       "      <td>1.00000</td>\n",
       "      <td>1.000000</td>\n",
       "      <td>199992.480000</td>\n",
       "      <td>1.000000</td>\n",
       "    </tr>\n",
       "  </tbody>\n",
       "</table>\n",
       "</div>"
      ],
      "text/plain": [
       "         RowNumber    CustomerId   CreditScore           Age       Tenure  \\\n",
       "count  10000.00000  1.000000e+04  10000.000000  10000.000000  9091.000000   \n",
       "mean    5000.50000  1.569094e+07    650.528800     38.921800     4.997690   \n",
       "std     2886.89568  7.193619e+04     96.653299     10.487806     2.894723   \n",
       "min        1.00000  1.556570e+07    350.000000     18.000000     0.000000   \n",
       "25%     2500.75000  1.562853e+07    584.000000     32.000000     2.000000   \n",
       "50%     5000.50000  1.569074e+07    652.000000     37.000000     5.000000   \n",
       "75%     7500.25000  1.575323e+07    718.000000     44.000000     7.000000   \n",
       "max    10000.00000  1.581569e+07    850.000000     92.000000    10.000000   \n",
       "\n",
       "             Balance  NumOfProducts    HasCrCard  IsActiveMember  \\\n",
       "count   10000.000000   10000.000000  10000.00000    10000.000000   \n",
       "mean    76485.889288       1.530200      0.70550        0.515100   \n",
       "std     62397.405202       0.581654      0.45584        0.499797   \n",
       "min         0.000000       1.000000      0.00000        0.000000   \n",
       "25%         0.000000       1.000000      0.00000        0.000000   \n",
       "50%     97198.540000       1.000000      1.00000        1.000000   \n",
       "75%    127644.240000       2.000000      1.00000        1.000000   \n",
       "max    250898.090000       4.000000      1.00000        1.000000   \n",
       "\n",
       "       EstimatedSalary        Exited  \n",
       "count     10000.000000  10000.000000  \n",
       "mean     100090.239881      0.203700  \n",
       "std       57510.492818      0.402769  \n",
       "min          11.580000      0.000000  \n",
       "25%       51002.110000      0.000000  \n",
       "50%      100193.915000      0.000000  \n",
       "75%      149388.247500      0.000000  \n",
       "max      199992.480000      1.000000  "
      ]
     },
     "execution_count": 4,
     "metadata": {},
     "output_type": "execute_result"
    }
   ],
   "source": [
    "data.describe()"
   ]
  },
  {
   "cell_type": "markdown",
   "metadata": {},
   "source": [
    "**Итого:**\n",
    "\n",
    "1. В исходном файле данные о 10000 клиентах, информация о которых разбита на 14 столбцов.\n",
    "2. В дальнейшем нам понадобятся не все столбцы. Можно удалить столбцы с индексом строки данных,  фамилией, уникальным идентификатором клиента, т к исследование обезличено.\n",
    "3. Переведем названия столбцов в нижний регистр."
   ]
  },
  {
   "cell_type": "code",
   "execution_count": 5,
   "metadata": {},
   "outputs": [
    {
     "data": {
      "text/plain": [
       "(10000, 11)"
      ]
     },
     "execution_count": 5,
     "metadata": {},
     "output_type": "execute_result"
    }
   ],
   "source": [
    "data = data.drop(['RowNumber','CustomerId','Surname'], axis=1)\n",
    "data.shape"
   ]
  },
  {
   "cell_type": "code",
   "execution_count": 6,
   "metadata": {},
   "outputs": [],
   "source": [
    "data.columns = data.columns.str.lower()"
   ]
  },
  {
   "cell_type": "code",
   "execution_count": 7,
   "metadata": {},
   "outputs": [
    {
     "name": "stdout",
     "output_type": "stream",
     "text": [
      "Количесвто дубликатов: 0\n",
      "Делим столбцы по типу данных на 2 группы:\n"
     ]
    },
    {
     "data": {
      "text/plain": [
       "Index(['creditscore', 'age', 'tenure', 'balance', 'numofproducts', 'hascrcard',\n",
       "       'isactivemember', 'estimatedsalary'],\n",
       "      dtype='object')"
      ]
     },
     "execution_count": 7,
     "metadata": {},
     "output_type": "execute_result"
    }
   ],
   "source": [
    "print(\"Количесвто дубликатов:\", data.duplicated().sum())\n",
    "\n",
    "print('Делим столбцы по типу данных на 2 группы:')\n",
    "numerics = ['int16', 'int32', 'int64', 'float16', 'float32', 'float64']\n",
    "objects = ['object']\n",
    "newdf = data.select_dtypes(include=numerics)\n",
    "newdf_object = data.select_dtypes(include=objects)\n",
    "numeric_columns = newdf.columns[:-1]\n",
    "numeric_columns\n",
    "\n"
   ]
  },
  {
   "cell_type": "markdown",
   "metadata": {},
   "source": [
    "Выводим информацию о пропусках:"
   ]
  },
  {
   "cell_type": "code",
   "execution_count": 8,
   "metadata": {},
   "outputs": [
    {
     "data": {
      "text/plain": [
       "creditscore          0\n",
       "geography            0\n",
       "gender               0\n",
       "age                  0\n",
       "tenure             909\n",
       "balance              0\n",
       "numofproducts        0\n",
       "hascrcard            0\n",
       "isactivemember       0\n",
       "estimatedsalary      0\n",
       "exited               0\n",
       "dtype: int64"
      ]
     },
     "execution_count": 8,
     "metadata": {},
     "output_type": "execute_result"
    }
   ],
   "source": [
    "data.isna().sum()"
   ]
  },
  {
   "cell_type": "code",
   "execution_count": 9,
   "metadata": {},
   "outputs": [
    {
     "name": "stdout",
     "output_type": "stream",
     "text": [
      "Процент пропусков в столбце tenure: 9.09 %\n"
     ]
    }
   ],
   "source": [
    "print('Процент пропусков в столбце tenure:',( data['tenure'].isna().sum()*100)/len(data), '%')\n"
   ]
  },
  {
   "cell_type": "markdown",
   "metadata": {},
   "source": [
    "Выводим уникальные значения по столбцам:"
   ]
  },
  {
   "cell_type": "code",
   "execution_count": 10,
   "metadata": {},
   "outputs": [
    {
     "name": "stdout",
     "output_type": "stream",
     "text": [
      "Уникальные значения столбца creditscore\n",
      "[619 608 502 699 850 645 822 376 501 684 528 497 476 549 635 616 653 587\n",
      " 726 732 636 510 669 846 577 756 571 574 411 591 533 553 520 722 475 490\n",
      " 804 582 472 465 556 834 660 776 829 637 550 698 585 788 655 601 656 725\n",
      " 511 614 742 687 555 603 751 581 735 661 675 738 813 657 604 519 664 678\n",
      " 757 416 665 777 543 506 493 652 750 729 646 647 808 524 769 730 515 773\n",
      " 814 710 413 623 670 622 785 605 479 685 538 562 721 628 668 828 674 625\n",
      " 432 770 758 795 686 789 589 461 584 579 663 682 793 691 485 650 754 535\n",
      " 716 539 706 586 631 717 800 683 704 615 667 484 480 578 512 606 597 778\n",
      " 514 525 715 580 807 521 759 516 711 618 643 671 689 620 676 572 695 592\n",
      " 567 694 547 594 673 610 767 763 712 703 662 659 523 772 545 634 739 771\n",
      " 681 544 696 766 727 693 557 531 498 651 791 733 811 707 714 782 775 799\n",
      " 602 744 588 747 583 627 731 629 438 642 806 474 559 429 680 749 734 644\n",
      " 626 649 805 718 840 630 654 762 568 613 522 737 648 443 640 540 460 593\n",
      " 801 611 802 745 483 690 492 709 705 560 752 701 537 487 596 702 486 724\n",
      " 548 464 790 534 748 494 590 468 509 818 816 536 753 774 621 569 658 798\n",
      " 641 542 692 639 765 570 638 599 632 779 527 564 833 504 842 508 417 598\n",
      " 741 607 761 848 546 439 755 760 526 713 700 666 566 495 688 612 477 427\n",
      " 839 819 720 459 503 624 529 563 482 796 445 746 786 554 672 787 499 844\n",
      " 450 815 838 803 736 633 600 679 517 792 743 488 421 841 708 507 505 456\n",
      " 435 561 518 565 728 784 552 609 764 697 723 551 444 719 496 541 830 812\n",
      " 677 420 595 617 809 500 826 434 513 478 797 363 399 463 780 452 575 837\n",
      " 794 824 428 823 781 849 489 431 457 768 831 359 820 573 576 558 817 449\n",
      " 440 415 821 530 350 446 425 740 481 783 358 845 451 458 469 423 404 836\n",
      " 473 835 466 491 351 827 843 365 532 414 453 471 401 810 832 470 447 422\n",
      " 825 430 436 426 408 847 418 437 410 454 407 455 462 386 405 383 395 467\n",
      " 433 442 424 448 441 367 412 382 373 419]\n",
      "Уникальные значения столбца geography\n",
      "['France' 'Spain' 'Germany']\n",
      "Уникальные значения столбца gender\n",
      "['Female' 'Male']\n",
      "Уникальные значения столбца age\n",
      "[42 41 39 43 44 50 29 27 31 24 34 25 35 45 58 32 38 46 36 33 40 51 61 49\n",
      " 37 19 66 56 26 21 55 75 22 30 28 65 48 52 57 73 47 54 72 20 67 79 62 53\n",
      " 80 59 68 23 60 70 63 64 18 82 69 74 71 76 77 88 85 84 78 81 92 83]\n",
      "Уникальные значения столбца tenure\n",
      "[ 2.  1.  8.  7.  4.  6.  3. 10.  5.  9.  0. nan]\n",
      "Уникальные значения столбца balance\n",
      "[     0.    83807.86 159660.8  ...  57369.61  75075.31 130142.79]\n",
      "Уникальные значения столбца numofproducts\n",
      "[1 3 2 4]\n",
      "Уникальные значения столбца hascrcard\n",
      "[1 0]\n",
      "Уникальные значения столбца isactivemember\n",
      "[1 0]\n",
      "Уникальные значения столбца estimatedsalary\n",
      "[101348.88 112542.58 113931.57 ...  42085.58  92888.52  38190.78]\n",
      "Уникальные значения столбца exited\n",
      "[1 0]\n"
     ]
    }
   ],
   "source": [
    "def check_columns(data_frame):\n",
    "    for column in data_frame.columns:\n",
    "        print('Уникальные значения столбца', column)\n",
    "        print(data_frame[column].unique())\n",
    "        \n",
    "check_columns(data)"
   ]
  },
  {
   "cell_type": "markdown",
   "metadata": {},
   "source": [
    "**Итого:**\n",
    "\n",
    "1. Клиентами банка являются граждане Франции, Испани и Германии. \n",
    "2. Максимальное количество продуктов банка на одного клиента - 4.\n",
    "3. В столбце с информацией о количестве лет, в течение которых человек является клиентом банка, присутствуют 9% пропусков и нулевые значения.\n",
    "3. Среди прочих значений нелогичных нет.\n"
   ]
  },
  {
   "cell_type": "markdown",
   "metadata": {},
   "source": [
    "**Создадим датафрейм по методу прямого кодирования с защитой от дамми-ловушки.**"
   ]
  },
  {
   "cell_type": "code",
   "execution_count": 11,
   "metadata": {},
   "outputs": [
    {
     "name": "stdout",
     "output_type": "stream",
     "text": [
      "<class 'pandas.core.frame.DataFrame'>\n",
      "RangeIndex: 10000 entries, 0 to 9999\n",
      "Data columns (total 12 columns):\n",
      " #   Column             Non-Null Count  Dtype  \n",
      "---  ------             --------------  -----  \n",
      " 0   creditscore        10000 non-null  int64  \n",
      " 1   age                10000 non-null  int64  \n",
      " 2   tenure             9091 non-null   float64\n",
      " 3   balance            10000 non-null  float64\n",
      " 4   numofproducts      10000 non-null  int64  \n",
      " 5   hascrcard          10000 non-null  int64  \n",
      " 6   isactivemember     10000 non-null  int64  \n",
      " 7   estimatedsalary    10000 non-null  float64\n",
      " 8   exited             10000 non-null  int64  \n",
      " 9   geography_Germany  10000 non-null  uint8  \n",
      " 10  geography_Spain    10000 non-null  uint8  \n",
      " 11  gender_Male        10000 non-null  uint8  \n",
      "dtypes: float64(3), int64(6), uint8(3)\n",
      "memory usage: 732.5 KB\n"
     ]
    }
   ],
   "source": [
    "df = pd.get_dummies(data, drop_first=True)\n",
    "df.info()"
   ]
  },
  {
   "cell_type": "markdown",
   "metadata": {},
   "source": [
    "**Обработка пропусков**\n",
    "<br>В столбце с информацией о количестве лет, в течение которых человек является клиентом банка, присутствуют пропуски и нулевые значения в значительном количестве. Можно предположить, что за этим скрываются клиенты, пользующиеся услугами банка меньше года и заменить пропуски в этом столбце на \"0\". Но так же возможно, что это пропуски-недочеты и их можно либо удалить, либо заполнить медианным или случайным значением. А еще можно пойти по сложному пути и сделать все три варианта. Однако в таком случае вырастает риск ошибиться в груде однотипных расчетов, что отнимет время и создаст риск ложного результата при неявной ошибке.\n",
    "\n",
    "Заполним пропуски нулевыми значениями исходя из гепотезы о том, что это новые клиенты банка:"
   ]
  },
  {
   "cell_type": "code",
   "execution_count": 12,
   "metadata": {},
   "outputs": [
    {
     "name": "stdout",
     "output_type": "stream",
     "text": [
      "Количество пропусков в  df: 0\n"
     ]
    }
   ],
   "source": [
    "df['tenure'] = df['tenure'].fillna(0) \n",
    "print(f\"Количество пропусков в  df: {df['tenure'].isna().sum()}\")                                                                                 "
   ]
  },
  {
   "cell_type": "code",
   "execution_count": 13,
   "metadata": {},
   "outputs": [
    {
     "name": "stdout",
     "output_type": "stream",
     "text": [
      "Процент нулевых значений в столбце tenure: 12.91 %\n"
     ]
    }
   ],
   "source": [
    "print('Процент нулевых значений в столбце tenure:', (len(df[df['tenure']== 0])*100)/len(df), '%')"
   ]
  },
  {
   "cell_type": "markdown",
   "metadata": {},
   "source": [
    "На основании чего можно принять такой вариант за действительный, т к процент достаточно низок. "
   ]
  },
  {
   "cell_type": "markdown",
   "metadata": {},
   "source": [
    "## Исследование задачи"
   ]
  },
  {
   "cell_type": "markdown",
   "metadata": {},
   "source": [
    "Используем следующие модели:\n",
    "\n",
    "* логистическая регрессия;\n",
    "* метод случайного леса;\n",
    "* метод дерева решений;\n",
    "* GaussianNB.\n",
    "\n",
    "\n",
    "\n",
    "\n"
   ]
  },
  {
   "cell_type": "markdown",
   "metadata": {},
   "source": [
    "**Формируем выборки.**\n",
    "\n",
    "<br>Разобъем данные по принципу 3:1:1.\n",
    "<br>Разделим выборку на тренировочную и валидационную c учетом целевого признака *exited*. "
   ]
  },
  {
   "cell_type": "code",
   "execution_count": 14,
   "metadata": {},
   "outputs": [],
   "source": [
    "def split_df(features, target):\n",
    "    (features_train, features_valid,\n",
    "     target_train, target_valid) = train_test_split(features, target, test_size = 0.33, random_state = 12345)\n",
    "    (features_test, features_valid, \n",
    "     target_test, target_valid) = train_test_split(features_valid, target_valid, test_size = 0.5, random_state = 12345)\n",
    "    \n",
    "    return (features_train, features_valid, features_test, target_train, target_valid, target_test)"
   ]
  },
  {
   "cell_type": "code",
   "execution_count": 15,
   "metadata": {},
   "outputs": [],
   "source": [
    "target = df['exited']\n",
    "features = df.drop('exited', axis=1)\n"
   ]
  },
  {
   "cell_type": "code",
   "execution_count": 16,
   "metadata": {},
   "outputs": [],
   "source": [
    "(features_train, features_valid, features_test,\n",
    " target_train, target_valid, target_test) = split_df(df.drop([\"exited\"], axis = 1), df[\"exited\"])\n"
   ]
  },
  {
   "cell_type": "markdown",
   "metadata": {},
   "source": [
    "**Выполняем маштабирование**"
   ]
  },
  {
   "cell_type": "code",
   "execution_count": 17,
   "metadata": {},
   "outputs": [],
   "source": [
    "scaler = StandardScaler()\n",
    "scaler.fit(features_train[numeric_columns])\n",
    "features_train[numeric_columns] = scaler.transform(features_train[numeric_columns])\n",
    "features_valid[numeric_columns] = scaler.transform(features_valid[numeric_columns])\n",
    "features_test[numeric_columns] = scaler.transform(features_test[numeric_columns])\n"
   ]
  },
  {
   "cell_type": "markdown",
   "metadata": {},
   "source": [
    "**Баланс классов**"
   ]
  },
  {
   "cell_type": "code",
   "execution_count": 18,
   "metadata": {},
   "outputs": [
    {
     "name": "stdout",
     "output_type": "stream",
     "text": [
      "Баланс классов:  [0.7991044776119403, 0.2008955223880597]\n"
     ]
    }
   ],
   "source": [
    "balance_rate_df = list(target_train.value_counts(normalize=True))\n",
    "print(\"Баланс классов: \", balance_rate_df)"
   ]
  },
  {
   "cell_type": "markdown",
   "metadata": {},
   "source": [
    "Баланс классов: 79% отрицательного класса и 21% положительного, т е  4:1.\n",
    "\n",
    "*Изучим модели без исправление баланса.*"
   ]
  },
  {
   "cell_type": "markdown",
   "metadata": {},
   "source": [
    "**Модель \"Дерево решений\"**\n",
    "\n",
    "\n",
    "Проведем исследование при разном значении max_depth.\n"
   ]
  },
  {
   "cell_type": "code",
   "execution_count": 19,
   "metadata": {},
   "outputs": [
    {
     "name": "stdout",
     "output_type": "stream",
     "text": [
      "Max depth 1 F1-score 0.0\n",
      "Max depth 2 F1-score 0.49498327759197325\n",
      "Max depth 3 F1-score 0.43749999999999994\n",
      "Max depth 4 F1-score 0.4653061224489797\n",
      "Max depth 5 F1-score 0.5493716337522442\n",
      "Max depth 6 F1-score 0.5214007782101168\n",
      "Max depth 7 F1-score 0.520754716981132\n",
      "Max depth 8 F1-score 0.5029239766081871\n",
      "Max depth 9 F1-score 0.5484460694698354\n",
      "Max depth 10 F1-score 0.5680672268907564\n",
      "Max depth 11 F1-score 0.5186440677966102\n",
      "Max depth 12 F1-score 0.49751243781094534\n",
      "Max depth 13 F1-score 0.5194401244167962\n",
      "Max depth 14 F1-score 0.49768160741885625\n",
      "Max depth 15 F1-score 0.47806354009077157\n",
      "Max depth 16 F1-score 0.49016641452344933\n",
      "Max depth 17 F1-score 0.47819548872180445\n",
      "Max depth 18 F1-score 0.4801178203240059\n",
      "Max depth 19 F1-score 0.4738372093023256\n",
      "\n",
      "При max_depth =  10 лучший результат:  0.5680672268907564\n",
      "\n",
      "CPU times: user 724 ms, sys: 8.69 ms, total: 733 ms\n",
      "Wall time: 761 ms\n"
     ]
    }
   ],
   "source": [
    "%%time\n",
    "best_depth = None \n",
    "best_result_three = 0\n",
    "\n",
    "for depth in range(1, 20):\n",
    "    model = DecisionTreeClassifier(random_state=20052020, max_depth=depth)\n",
    "    model.fit(features_train, target_train)\n",
    "    \n",
    "    predicted_valid = model.predict(features_valid)\n",
    "    result = f1_score(target_valid, predicted_valid)\n",
    "    print('Max depth', depth,'F1-score', result)\n",
    "    \n",
    "    if result > best_result_three:\n",
    "        best_depth = depth\n",
    "        best_result_three = result\n",
    " \n",
    "print()\n",
    "print('При max_depth = ', best_depth, 'лучший результат: ', best_result_three, end='\\n\\n')"
   ]
  },
  {
   "cell_type": "markdown",
   "metadata": {},
   "source": [
    "**Модель \"Случайный лес\"**\n",
    "\n",
    "Проведем исследование на разное количество деревьев."
   ]
  },
  {
   "cell_type": "code",
   "execution_count": 20,
   "metadata": {},
   "outputs": [
    {
     "name": "stdout",
     "output_type": "stream",
     "text": [
      "При N estimators =  1 , F1 = 0.46888567293777134\n",
      "При N estimators =  6 , F1 = 0.4915572232645404\n",
      "При N estimators =  11 , F1 = 0.5201465201465202\n",
      "При N estimators =  16 , F1 = 0.5171102661596959\n",
      "При N estimators =  21 , F1 = 0.5563636363636364\n",
      "При N estimators =  26 , F1 = 0.5363128491620112\n",
      "При N estimators =  31 , F1 = 0.5547445255474452\n",
      "При N estimators =  36 , F1 = 0.5434380776340112\n",
      "При N estimators =  41 , F1 = 0.5621621621621621\n",
      "При N estimators =  46 , F1 = 0.5557586837294333\n",
      "При N estimators =  51 , F1 = 0.554954954954955\n",
      "При N estimators =  56 , F1 = 0.5500910746812386\n",
      "При N estimators =  61 , F1 = 0.5615942028985508\n",
      "При N estimators =  66 , F1 = 0.5583941605839416\n",
      "При N estimators =  71 , F1 = 0.5615942028985508\n",
      "При N estimators =  76 , F1 = 0.5547445255474452\n",
      "При N estimators =  81 , F1 = 0.5667870036101083\n",
      "При N estimators =  86 , F1 = 0.56\n",
      "При N estimators =  91 , F1 = 0.5652173913043479\n",
      "При N estimators =  96 , F1 = 0.5610200364298725\n",
      "\n",
      "При N estimators =  96 лучший результат:  0.5667870036101083\n",
      "\n",
      "CPU times: user 11.9 s, sys: 17.7 ms, total: 11.9 s\n",
      "Wall time: 12.2 s\n"
     ]
    }
   ],
   "source": [
    "%%time\n",
    "best_estimator = None \n",
    "best_result_forest = 0\n",
    "\n",
    "for estimator in range(1, 100, 5):\n",
    "    model =  RandomForestClassifier(random_state=20052020, n_estimators=estimator)\n",
    "    model.fit(features_train, target_train)\n",
    "    predicted_valid = model.predict(features_valid)\n",
    "    \n",
    "    predicted_valid = model.predict(features_valid)\n",
    "    result = f1_score(target_valid, predicted_valid)\n",
    "    print('При N estimators = ', estimator,', F1 =', result )\n",
    "    \n",
    "    if result > best_result_forest:\n",
    "        best_estimator = estimator\n",
    "        best_result_forest = result\n",
    " \n",
    "print()\n",
    "print('При N estimators = ', estimator, 'лучший результат: ', best_result_forest, end='\\n\\n')"
   ]
  },
  {
   "cell_type": "markdown",
   "metadata": {},
   "source": [
    "Используем параметры дерева решений:"
   ]
  },
  {
   "cell_type": "code",
   "execution_count": 21,
   "metadata": {},
   "outputs": [
    {
     "name": "stdout",
     "output_type": "stream",
     "text": [
      "При N estimators = 41 F1 =  0.5621621621621621\n",
      "При N estimators = 43 F1 =  0.5641952983725135\n",
      "При N estimators = 45 F1 =  0.5631768953068592\n",
      "При N estimators = 47 F1 =  0.5555555555555555\n",
      "При N estimators = 49 F1 =  0.5585585585585585\n",
      "При N estimators = 51 F1 =  0.554954954954955\n",
      "При N estimators = 53 F1 =  0.5595667870036102\n",
      "При N estimators = 55 F1 =  0.5637342908438061\n",
      "При N estimators = 57 F1 =  0.5637342908438061\n",
      "При N estimators = 59 F1 =  0.5543478260869565\n",
      "При N estimators = 61 F1 =  0.5615942028985508\n",
      "При N estimators = 63 F1 =  0.558983666061706\n",
      "При N estimators = 65 F1 =  0.5626134301270417\n",
      "При N estimators = 67 F1 =  0.5626134301270417\n",
      "При N estimators = 69 F1 =  0.5641952983725135\n",
      "При N estimators = 71 F1 =  0.5615942028985508\n",
      "При N estimators = 73 F1 =  0.5605786618444846\n",
      "При N estimators = 75 F1 =  0.5605786618444846\n",
      "При N estimators = 77 F1 =  0.5605786618444846\n",
      "При N estimators = 79 F1 =  0.5615942028985508\n",
      "При N estimators = 81 F1 =  0.5667870036101083\n",
      "При N estimators = 83 F1 =  0.5641952983725135\n",
      "При N estimators = 85 F1 =  0.5641952983725135\n",
      "При N estimators = 87 F1 =  0.5641952983725135\n",
      "При N estimators = 89 F1 =  0.5631768953068592\n",
      "При N estimators = 91 F1 =  0.5652173913043479\n",
      "При N estimators = 93 F1 =  0.5636363636363636\n",
      "При N estimators = 95 F1 =  0.56\n",
      "При N estimators = 97 F1 =  0.5662431941923775\n",
      "При N estimators = 99 F1 =  0.5636363636363636\n",
      "\n",
      "При max_depth =  99 лучший результат:  0.5667870036101083\n",
      "\n",
      "CPU times: user 24.1 s, sys: 82 ms, total: 24.1 s\n",
      "Wall time: 24.6 s\n"
     ]
    }
   ],
   "source": [
    "%%time\n",
    "best_estimator_2 = None \n",
    "best_result_forest_2 = 0\n",
    "\n",
    "for estimator in range(41, 100, 2):\n",
    "    model =  RandomForestClassifier(random_state=20052020, n_estimators=estimator)\n",
    "    model.fit(features_train, target_train)\n",
    "    predicted_valid = model.predict(features_valid)\n",
    "    result= f1_score(target_valid, predicted_valid)\n",
    "    print('При N estimators =', estimator,'F1 = ', result)\n",
    "    \n",
    "    if result > best_result_forest_2:\n",
    "        best_estimator_2 = estimator\n",
    "        best_result_forest_2 = result\n",
    " \n",
    "print()\n",
    "print('При max_depth = ', estimator, 'лучший результат: ', best_result_forest_2, end='\\n\\n')"
   ]
  },
  {
   "cell_type": "markdown",
   "metadata": {},
   "source": [
    "**Логистическая регрессия**"
   ]
  },
  {
   "cell_type": "code",
   "execution_count": 22,
   "metadata": {},
   "outputs": [
    {
     "name": "stdout",
     "output_type": "stream",
     "text": [
      "F1 0.2901098901098901\n",
      "\n",
      "CPU times: user 339 ms, sys: 267 ms, total: 606 ms\n",
      "Wall time: 560 ms\n"
     ]
    }
   ],
   "source": [
    "%%time\n",
    "\n",
    "model =  LogisticRegression(random_state=20052020)  #, solver='liblinear'\n",
    "model.fit(features_train, target_train)\n",
    "predicted_valid = model.predict(features_valid)\n",
    "print('F1', f1_score(target_valid, predicted_valid), end='\\n\\n')"
   ]
  },
  {
   "cell_type": "markdown",
   "metadata": {},
   "source": [
    "Получаем довольно низкий результат. Возможно precision или recall низкий и близок к 0."
   ]
  },
  {
   "cell_type": "markdown",
   "metadata": {},
   "source": [
    "**GaussianNB.**"
   ]
  },
  {
   "cell_type": "code",
   "execution_count": 23,
   "metadata": {},
   "outputs": [
    {
     "name": "stdout",
     "output_type": "stream",
     "text": [
      "F1 0.40307101727447214\n",
      "\n",
      "CPU times: user 16.7 ms, sys: 13 µs, total: 16.7 ms\n",
      "Wall time: 15.8 ms\n"
     ]
    }
   ],
   "source": [
    "%%time\n",
    "\n",
    "model =  GaussianNB()\n",
    "model.fit(features_train, target_train)\n",
    "predicted_valid = model.predict(features_valid)\n",
    "print('F1', f1_score(target_valid, predicted_valid), end='\\n\\n')\n"
   ]
  },
  {
   "cell_type": "markdown",
   "metadata": {},
   "source": [
    "Так же получаем, низкий результат."
   ]
  },
  {
   "cell_type": "markdown",
   "metadata": {},
   "source": [
    "**Проведем оценку accuracy, precision и recall, выведем F-меру.**"
   ]
  },
  {
   "cell_type": "code",
   "execution_count": 24,
   "metadata": {},
   "outputs": [
    {
     "name": "stdout",
     "output_type": "stream",
     "text": [
      "Дерево решений:\n",
      "Accuracy =  0.8460606060606061\n",
      "Precision =  0.7150259067357513\n",
      "Recall =  0.4094955489614243\n",
      "F1 =  0.520754716981132\n",
      "\n",
      "Случайный лес:\n",
      "Accuracy =  0.8521212121212122\n",
      "Precision =  0.7142857142857143\n",
      "Recall =  0.4599406528189911\n",
      "F1 =  0.5595667870036102\n",
      "\n",
      "Логистическая регрессия:\n",
      "Accuracy =  0.8042424242424242\n",
      "Precision =  0.559322033898305\n",
      "Recall =  0.19584569732937684\n",
      "F1 =  0.2901098901098901\n",
      "\n",
      "GaussianNB:\n",
      "Accuracy =  0.8115151515151515\n",
      "Precision =  0.5706521739130435\n",
      "Recall =  0.3115727002967359\n",
      "F1 =  0.40307101727447214\n",
      "\n"
     ]
    }
   ],
   "source": [
    "model = DecisionTreeClassifier(random_state=20052020, max_depth=7)\n",
    "model.fit(features_train, target_train)\n",
    "predicted_valid = model.predict(features_valid)\n",
    "print('Дерево решений:')\n",
    "print('Accuracy = ', accuracy_score(target_valid, predicted_valid))\n",
    "print('Precision = ', precision_score(target_valid, predicted_valid))\n",
    "print('Recall = ', recall_score(target_valid, predicted_valid))\n",
    "print('F1 = ', f1_score(target_valid, predicted_valid))\n",
    "print()\n",
    "\n",
    "model = RandomForestClassifier(random_state=20052020, n_estimators=53)\n",
    "model.fit(features_train, target_train)\n",
    "predicted_valid = model.predict(features_valid)\n",
    "print('Случайный лес:')\n",
    "print('Accuracy = ', accuracy_score(target_valid, predicted_valid))\n",
    "print('Precision = ', precision_score(target_valid, predicted_valid))\n",
    "print('Recall = ', recall_score(target_valid, predicted_valid))\n",
    "print('F1 = ', f1_score(target_valid, predicted_valid))\n",
    "print()\n",
    "\n",
    "model = LogisticRegression(random_state=20052020)\n",
    "model.fit(features_train, target_train)\n",
    "predicted_valid = model.predict(features_valid)\n",
    "print('Логистическая регрессия:')\n",
    "print('Accuracy = ', accuracy_score(target_valid, predicted_valid))\n",
    "print('Precision = ', precision_score(target_valid, predicted_valid))\n",
    "print('Recall = ', recall_score(target_valid, predicted_valid))\n",
    "print('F1 = ', f1_score(target_valid, predicted_valid))\n",
    "print()\n",
    "\n",
    "model = GaussianNB()\n",
    "model.fit(features_train, target_train)\n",
    "predicted_valid = model.predict(features_valid)\n",
    "print('GaussianNB:')\n",
    "print('Accuracy = ', accuracy_score(target_valid, predicted_valid))\n",
    "print('Precision = ', precision_score(target_valid, predicted_valid))\n",
    "print('Recall = ', recall_score(target_valid, predicted_valid))\n",
    "print('F1 = ', f1_score(target_valid, predicted_valid))\n",
    "print()"
   ]
  },
  {
   "cell_type": "markdown",
   "metadata": {},
   "source": [
    "*Построим ROC-кривую для кажддой модели. Выведем показатель AUC-ROC.*"
   ]
  },
  {
   "cell_type": "code",
   "execution_count": 25,
   "metadata": {},
   "outputs": [
    {
     "name": "stdout",
     "output_type": "stream",
     "text": [
      "AUC-ROC DecisionTreeClassifier 0.8320560656841762\n",
      "AUC-ROC RandomForestClassifier 0.8548875544938653\n",
      "AUC-ROC LogisticRegression 0.7456094159975231\n",
      "AUC-ROC GaussianNB 0.7636960683057576\n"
     ]
    },
    {
     "data": {
      "image/png": "[encoded data removed]",
      "text/plain": [
       "<Figure size 864x648 with 1 Axes>"
      ]
     },
     "metadata": {
      "needs_background": "light"
     },
     "output_type": "display_data"
    }
   ],
   "source": [
    "plt.figure(figsize=[12,9])\n",
    "\n",
    "plt.plot([0, 1], [0, 1], linestyle='--', label='RandomModel')\n",
    "\n",
    "\n",
    "model = DecisionTreeClassifier(random_state=20052020, max_depth=7)\n",
    "model.fit(features_train, target_train)\n",
    "probabilities_valid = model.predict_proba(features_valid)\n",
    "probabilities_one_valid = probabilities_valid[:, 1]\n",
    "fpr, tpr, thresholds = roc_curve(target_valid, probabilities_one_valid)\n",
    "auc_roc = roc_auc_score(target_valid, probabilities_one_valid)\n",
    "print('AUC-ROC DecisionTreeClassifier',auc_roc)\n",
    "plt.plot(fpr, tpr, label='DecisionTreeClassifier')\n",
    "\n",
    "model = RandomForestClassifier(random_state=20052020, n_estimators=53)\n",
    "model.fit(features_train, target_train)\n",
    "probabilities_valid = model.predict_proba(features_valid)\n",
    "probabilities_one_valid = probabilities_valid[:, 1]\n",
    "fpr, tpr, thresholds = roc_curve(target_valid, probabilities_one_valid)\n",
    "auc_roc = roc_auc_score(target_valid, probabilities_one_valid)\n",
    "print('AUC-ROC RandomForestClassifier',auc_roc)\n",
    "plt.plot(fpr, tpr, label='RandomForestClassifier')\n",
    "\n",
    "model = LogisticRegression(random_state=20052020, solver='liblinear')\n",
    "model.fit(features_train, target_train)\n",
    "probabilities_valid = model.predict_proba(features_valid)\n",
    "probabilities_one_valid = probabilities_valid[:, 1]\n",
    "fpr, tpr, thresholds = roc_curve(target_valid, probabilities_one_valid)\n",
    "auc_roc = roc_auc_score(target_valid, probabilities_one_valid)\n",
    "print('AUC-ROC LogisticRegression',auc_roc)\n",
    "plt.plot(fpr, tpr, label='LogisticRegression')\n",
    "\n",
    "model = GaussianNB()\n",
    "model.fit(features_train, target_train)\n",
    "probabilities_valid = model.predict_proba(features_valid)\n",
    "probabilities_one_valid = probabilities_valid[:, 1]\n",
    "fpr, tpr, thresholds = roc_curve(target_valid, probabilities_one_valid)\n",
    "auc_roc = roc_auc_score(target_valid, probabilities_one_valid)\n",
    "print('AUC-ROC GaussianNB',auc_roc)\n",
    "plt.plot(fpr, tpr, label='GaussianNB')\n",
    "\n",
    "plt.xlim([0,1])\n",
    "plt.ylim([0,1])\n",
    "\n",
    "plt.xlabel(\"False Positive Rate\")\n",
    "plt.ylabel(\"True Positive Rate\")\n",
    "\n",
    "plt.legend(loc='lower right', fontsize='x-large')\n",
    "\n",
    "plt.title(\"ROC-кривая\")\n",
    "plt.show()"
   ]
  },
  {
   "cell_type": "markdown",
   "metadata": {},
   "source": [
    "Получаем лучшие показатели  меры f1 и AUC-ROC у модели \"случайного леса\""
   ]
  },
  {
   "cell_type": "markdown",
   "metadata": {},
   "source": [
    "**Вывод по шагу 2**\n",
    "\n",
    "Обнаружен дисбаланс классов: 79% отрицательного класса и 21% положительного, т е 4:1. Есть вероятность, что он влияет на качество моделей. Из-за этого все модели имеют recall ниже, чем percision, что влияет на F-меру.\n",
    "\n",
    "После проведенных расчетов лучший результат у \"случайного леса\""
   ]
  },
  {
   "cell_type": "markdown",
   "metadata": {},
   "source": [
    "## Борьба с дисбалансом"
   ]
  },
  {
   "cell_type": "markdown",
   "metadata": {},
   "source": [
    "Выполним сравнение моделей:\n",
    "\n",
    "* С взвешенными классами\n",
    "* С уменьшенной выборкой\n",
    "* С увеличенной выборкой\n",
    "\n",
    "**Взвешевание классов:**"
   ]
  },
  {
   "cell_type": "code",
   "execution_count": 26,
   "metadata": {},
   "outputs": [
    {
     "name": "stdout",
     "output_type": "stream",
     "text": [
      "Дерево решений\n",
      "Accuracy =  0.7648484848484849\n",
      "Precision =  0.4564102564102564\n",
      "Recall =  0.7922848664688428\n",
      "F1 =  0.579175704989154\n",
      "\n",
      "Случайный лес\n",
      "Accuracy =  0.8484848484848485\n",
      "Precision =  0.7208121827411168\n",
      "Recall =  0.42136498516320475\n",
      "F1 =  0.5318352059925093\n",
      "\n",
      "Логистическая регрессия\n",
      "Accuracy =  0.6993939393939393\n",
      "Precision =  0.3715670436187399\n",
      "Recall =  0.6824925816023739\n",
      "F1 =  0.48117154811715485\n",
      "\n"
     ]
    }
   ],
   "source": [
    "model = DecisionTreeClassifier(random_state=20052020, max_depth=7, class_weight='balanced')\n",
    "model.fit(features_train, target_train)\n",
    "predicted_valid = model.predict(features_valid)\n",
    "print('Дерево решений')\n",
    "print('Accuracy = ', accuracy_score(target_valid, predicted_valid))\n",
    "print('Precision = ', precision_score(target_valid, predicted_valid))\n",
    "print('Recall = ', recall_score(target_valid, predicted_valid))\n",
    "print('F1 = ', f1_score(target_valid, predicted_valid))\n",
    "print()\n",
    "\n",
    "model = RandomForestClassifier(random_state=20052020, n_estimators=53, class_weight='balanced')\n",
    "model.fit(features_train, target_train)\n",
    "predicted_valid = model.predict(features_valid)\n",
    "print('Случайный лес')\n",
    "print('Accuracy = ', accuracy_score(target_valid, predicted_valid))\n",
    "print('Precision = ', precision_score(target_valid, predicted_valid))\n",
    "print('Recall = ', recall_score(target_valid, predicted_valid))\n",
    "print('F1 = ', f1_score(target_valid, predicted_valid))\n",
    "print()\n",
    "\n",
    "model = LogisticRegression(random_state=20052020, solver='liblinear', class_weight='balanced')\n",
    "model.fit(features_train, target_train)\n",
    "predicted_valid = model.predict(features_valid)\n",
    "print('Логистическая регрессия')\n",
    "print('Accuracy = ', accuracy_score(target_valid, predicted_valid))\n",
    "print('Precision = ', precision_score(target_valid, predicted_valid))\n",
    "print('Recall = ', recall_score(target_valid, predicted_valid))\n",
    "print('F1 = ', f1_score(target_valid, predicted_valid))\n",
    "print()\n"
   ]
  },
  {
   "cell_type": "markdown",
   "metadata": {},
   "source": [
    "F-мера стала меньше у дерева решений и случайного леса, но значительно выросла  у логистической регресии.\n",
    "\n",
    "**Уменьшения значений класса 0.**"
   ]
  },
  {
   "cell_type": "code",
   "execution_count": 27,
   "metadata": {},
   "outputs": [
    {
     "name": "stdout",
     "output_type": "stream",
     "text": [
      "1    1346\n",
      "0    1338\n",
      "Name: exited, dtype: int64\n"
     ]
    }
   ],
   "source": [
    "def downsample(features, target, fraction):\n",
    "    features_zeros = features[target == 0]\n",
    "    features_ones = features[target == 1]\n",
    "    target_zeros = target[target == 0]\n",
    "    target_ones = target[target == 1]\n",
    "\n",
    "    features_downsampled = pd.concat(\n",
    "        [features_zeros.sample(frac=fraction, random_state=20052020)] + [features_ones])\n",
    "    target_downsampled = pd.concat(\n",
    "        [target_zeros.sample(frac=fraction, random_state=20052020)] + [target_ones])\n",
    "    \n",
    "    features_downsampled, target_downsampled = shuffle(\n",
    "        features_downsampled, target_downsampled, random_state=20052020)\n",
    "    \n",
    "    return features_downsampled, target_downsampled\n",
    "\n",
    "features_downsampled, target_downsampled = downsample(features_train, target_train, 0.25)\n",
    "\n",
    "print(target_downsampled.value_counts())"
   ]
  },
  {
   "cell_type": "code",
   "execution_count": 28,
   "metadata": {},
   "outputs": [
    {
     "name": "stdout",
     "output_type": "stream",
     "text": [
      "Дерево решений\n",
      "Accuracy =  0.7818181818181819\n",
      "Precision =  0.47704590818363274\n",
      "Recall =  0.7091988130563798\n",
      "F1 =  0.5704057279236276\n",
      "\n",
      "Случайный лес\n",
      "Accuracy =  0.7866666666666666\n",
      "Precision =  0.4857685009487666\n",
      "Recall =  0.7596439169139466\n",
      "F1 =  0.5925925925925926\n",
      "\n",
      "Логистическая регрессия\n",
      "Accuracy =  0.6981818181818182\n",
      "Precision =  0.37282780410742494\n",
      "Recall =  0.7002967359050445\n",
      "F1 =  0.48659793814432994\n",
      "\n",
      "GaussianNB\n",
      "Accuracy =  0.7012121212121212\n",
      "Precision =  0.3704318936877076\n",
      "Recall =  0.6617210682492581\n",
      "F1 =  0.4749733759318423\n",
      "\n"
     ]
    }
   ],
   "source": [
    "model = DecisionTreeClassifier(random_state=20052020, max_depth=7)\n",
    "model.fit(features_downsampled, target_downsampled)\n",
    "predicted_valid = model.predict(features_valid)\n",
    "print('Дерево решений')\n",
    "print('Accuracy = ', accuracy_score(target_valid, predicted_valid))\n",
    "print('Precision = ', precision_score(target_valid, predicted_valid))\n",
    "print('Recall = ', recall_score(target_valid, predicted_valid))\n",
    "print('F1 = ', f1_score(target_valid, predicted_valid))\n",
    "print()\n",
    "\n",
    "model = RandomForestClassifier(random_state=20052020, n_estimators=53)\n",
    "model.fit(features_downsampled, target_downsampled)\n",
    "predicted_valid = model.predict(features_valid)\n",
    "print('Случайный лес')\n",
    "print('Accuracy = ', accuracy_score(target_valid, predicted_valid))\n",
    "print('Precision = ', precision_score(target_valid, predicted_valid))\n",
    "print('Recall = ', recall_score(target_valid, predicted_valid))\n",
    "print('F1 = ', f1_score(target_valid, predicted_valid))\n",
    "print()\n",
    "\n",
    "model = LogisticRegression(random_state=20052020, solver='liblinear')\n",
    "model.fit(features_downsampled, target_downsampled)\n",
    "predicted_valid = model.predict(features_valid)\n",
    "print('Логистическая регрессия')\n",
    "print('Accuracy = ', accuracy_score(target_valid, predicted_valid))\n",
    "print('Precision = ', precision_score(target_valid, predicted_valid))\n",
    "print('Recall = ', recall_score(target_valid, predicted_valid))\n",
    "print('F1 = ', f1_score(target_valid, predicted_valid))\n",
    "print()\n",
    "\n",
    "model = GaussianNB()\n",
    "model.fit(features_downsampled, target_downsampled)\n",
    "predicted_valid = model.predict(features_valid)\n",
    "print('GaussianNB')\n",
    "print('Accuracy = ', accuracy_score(target_valid, predicted_valid))\n",
    "print('Precision = ', precision_score(target_valid, predicted_valid))\n",
    "print('Recall = ', recall_score(target_valid, predicted_valid))\n",
    "print('F1 = ', f1_score(target_valid, predicted_valid))\n",
    "print()"
   ]
  },
  {
   "cell_type": "markdown",
   "metadata": {},
   "source": [
    "Выросли показатели логистической регрессии и гаусовской модели.\n",
    "\n",
    "**Методы увеличения класса 1.**"
   ]
  },
  {
   "cell_type": "code",
   "execution_count": 29,
   "metadata": {},
   "outputs": [
    {
     "name": "stdout",
     "output_type": "stream",
     "text": [
      "1    5384\n",
      "0    5354\n",
      "Name: exited, dtype: int64\n"
     ]
    }
   ],
   "source": [
    "def upsample(features, target, repeat):\n",
    "    features_zeros = features[target == 0]\n",
    "    features_ones = features[target == 1]\n",
    "    target_zeros = target[target == 0]\n",
    "    target_ones = target[target == 1]\n",
    "\n",
    "    features_upsampled = pd.concat([features_zeros] + [features_ones] * repeat)\n",
    "    target_upsampled = pd.concat([target_zeros] + [target_ones] * repeat)\n",
    "    \n",
    "    features_upsampled, target_upsampled = shuffle(\n",
    "        features_upsampled, target_upsampled, random_state=12345)\n",
    "    \n",
    "    return features_upsampled, target_upsampled\n",
    "\n",
    "features_upsampled, target_upsampled = upsample(features_train, target_train, 4)\n",
    "\n",
    "print(target_upsampled.value_counts())"
   ]
  },
  {
   "cell_type": "code",
   "execution_count": 30,
   "metadata": {},
   "outputs": [
    {
     "name": "stdout",
     "output_type": "stream",
     "text": [
      "Дерево решений\n",
      "Accuracy =  0.7660606060606061\n",
      "Precision =  0.45826235093696766\n",
      "Recall =  0.798219584569733\n",
      "F1 =  0.5822510822510824\n",
      "\n",
      "Случайный лес\n",
      "Accuracy =  0.8515151515151516\n",
      "Precision =  0.6608391608391608\n",
      "Recall =  0.5608308605341247\n",
      "F1 =  0.6067415730337079\n",
      "\n",
      "Логистическая регрессия\n",
      "Accuracy =  0.6975757575757576\n",
      "Precision =  0.3701923076923077\n",
      "Recall =  0.685459940652819\n",
      "F1 =  0.4807492195629553\n",
      "\n",
      "GaussianNB\n",
      "Accuracy =  0.7006060606060606\n",
      "Precision =  0.36894824707846413\n",
      "Recall =  0.655786350148368\n",
      "F1 =  0.47222222222222227\n",
      "\n"
     ]
    }
   ],
   "source": [
    "model = DecisionTreeClassifier(random_state=20052020, max_depth=7)\n",
    "model.fit(features_upsampled, target_upsampled)\n",
    "predicted_valid = model.predict(features_valid)\n",
    "print('Дерево решений')\n",
    "print('Accuracy = ', accuracy_score(target_valid, predicted_valid))\n",
    "print('Precision = ', precision_score(target_valid, predicted_valid))\n",
    "print('Recall = ', recall_score(target_valid, predicted_valid))\n",
    "print('F1 = ', f1_score(target_valid, predicted_valid))\n",
    "print()\n",
    "\n",
    "model = RandomForestClassifier(random_state=20052020, n_estimators=53)\n",
    "model.fit(features_upsampled, target_upsampled)\n",
    "predicted_valid = model.predict(features_valid)\n",
    "print('Случайный лес')\n",
    "print('Accuracy = ', accuracy_score(target_valid, predicted_valid))\n",
    "print('Precision = ', precision_score(target_valid, predicted_valid))\n",
    "print('Recall = ', recall_score(target_valid, predicted_valid))\n",
    "print('F1 = ', f1_score(target_valid, predicted_valid))\n",
    "print()\n",
    "\n",
    "model = LogisticRegression(random_state=20052020, solver='liblinear')\n",
    "model.fit(features_upsampled, target_upsampled)\n",
    "predicted_valid = model.predict(features_valid)\n",
    "print('Логистическая регрессия')\n",
    "print('Accuracy = ', accuracy_score(target_valid, predicted_valid))\n",
    "print('Precision = ', precision_score(target_valid, predicted_valid))\n",
    "print('Recall = ', recall_score(target_valid, predicted_valid))\n",
    "print('F1 = ', f1_score(target_valid, predicted_valid))\n",
    "print()\n",
    "\n",
    "model = GaussianNB()\n",
    "model.fit(features_upsampled, target_upsampled)\n",
    "predicted_valid = model.predict(features_valid)\n",
    "print('GaussianNB')\n",
    "print('Accuracy = ', accuracy_score(target_valid, predicted_valid))\n",
    "print('Precision = ', precision_score(target_valid, predicted_valid))\n",
    "print('Recall = ', recall_score(target_valid, predicted_valid))\n",
    "print('F1 = ', f1_score(target_valid, predicted_valid))\n",
    "print()"
   ]
  },
  {
   "cell_type": "markdown",
   "metadata": {},
   "source": [
    "F-мера выросла у случайного леса, логистической регресии и гаусовской модели по сравнению с дисбалансными данными. Лучшей моделью по F-мере стал случайный лес с тренировочными данными с увеличением класса 1.\n",
    "\n",
    "*Выведем ROC-кривую и AUC-ROC для посленнего измененного баланса.*"
   ]
  },
  {
   "cell_type": "code",
   "execution_count": 31,
   "metadata": {},
   "outputs": [
    {
     "name": "stdout",
     "output_type": "stream",
     "text": [
      "AUC-ROC DecisionTreeClassifier 0.840016859480972\n",
      "AUC-ROC RandomForestClassifier 0.8502794470271041\n",
      "AUC-ROC LogisticRegression 0.7495146684264408\n",
      "AUC-ROC GaussianNB 0.7636960683057576\n"
     ]
    },
    {
     "data": {
      "image/png": "[encoded data removed]",
      "text/plain": [
       "<Figure size 864x648 with 1 Axes>"
      ]
     },
     "metadata": {
      "needs_background": "light"
     },
     "output_type": "display_data"
    }
   ],
   "source": [
    "plt.figure(figsize=[12,9])\n",
    "\n",
    "plt.plot([0, 1], [0, 1], linestyle='--', label='RandomModel')\n",
    "\n",
    "\n",
    "model = DecisionTreeClassifier(random_state=20052020, max_depth=7)\n",
    "model.fit(features_upsampled, target_upsampled)\n",
    "probabilities_valid = model.predict_proba(features_valid)\n",
    "probabilities_one_valid = probabilities_valid[:, 1]\n",
    "fpr, tpr, thresholds = roc_curve(target_valid, probabilities_one_valid)\n",
    "auc_roc = roc_auc_score(target_valid, probabilities_one_valid)\n",
    "print('AUC-ROC DecisionTreeClassifier',auc_roc)\n",
    "plt.plot(fpr, tpr, label='DecisionTreeClassifier')\n",
    "\n",
    "model = RandomForestClassifier(random_state=20052020, n_estimators=53)\n",
    "model.fit(features_upsampled, target_upsampled)\n",
    "probabilities_valid = model.predict_proba(features_valid)\n",
    "probabilities_one_valid = probabilities_valid[:, 1]\n",
    "fpr, tpr, thresholds = roc_curve(target_valid, probabilities_one_valid)\n",
    "auc_roc = roc_auc_score(target_valid, probabilities_one_valid)\n",
    "print('AUC-ROC RandomForestClassifier',auc_roc)\n",
    "plt.plot(fpr, tpr, label='RandomForestClassifier')\n",
    "\n",
    "model = LogisticRegression(random_state=20052020, solver='liblinear')\n",
    "model.fit(features_upsampled, target_upsampled)\n",
    "probabilities_valid = model.predict_proba(features_valid)\n",
    "probabilities_one_valid = probabilities_valid[:, 1]\n",
    "fpr, tpr, thresholds = roc_curve(target_valid, probabilities_one_valid)\n",
    "auc_roc = roc_auc_score(target_valid, probabilities_one_valid)\n",
    "print('AUC-ROC LogisticRegression',auc_roc)\n",
    "plt.plot(fpr, tpr, label='LogisticRegression')\n",
    "\n",
    "model = GaussianNB()\n",
    "model.fit(features_upsampled, target_upsampled)\n",
    "probabilities_valid = model.predict_proba(features_valid)\n",
    "probabilities_one_valid = probabilities_valid[:, 1]\n",
    "fpr, tpr, thresholds = roc_curve(target_valid, probabilities_one_valid)\n",
    "auc_roc = roc_auc_score(target_valid, probabilities_one_valid)\n",
    "print('AUC-ROC GaussianNB',auc_roc)\n",
    "plt.plot(fpr, tpr, label='GaussianNB')\n",
    "\n",
    "plt.xlim([0,1])\n",
    "plt.ylim([0,1])\n",
    "\n",
    "plt.xlabel(\"False Positive Rate\")\n",
    "plt.ylabel(\"True Positive Rate\")\n",
    "\n",
    "plt.legend(loc='lower right', fontsize='x-large')\n",
    "\n",
    "plt.title(\"ROC-кривая\")\n",
    "plt.show()"
   ]
  },
  {
   "cell_type": "markdown",
   "metadata": {},
   "source": [
    "**Вывод:**\n",
    "\n",
    "После устранения дисбаланса стало видно, что он исказил результаты моделей.  По результатам вычислений оптимальным решением  является  увеличение классов 1 в тренировочной выборке.\n",
    "\n",
    "Утстранение дисбаланса в выборке привело к заметному росту параметра recall и небольшому снижению percison. Но в целом F-мера выросла.\n"
   ]
  },
  {
   "cell_type": "markdown",
   "metadata": {},
   "source": [
    "## Тестирование модели"
   ]
  },
  {
   "cell_type": "markdown",
   "metadata": {},
   "source": [
    "Лучше всего себя показала модель случайного леса. Исследуем гиперпараметры и улучшим F-меру модели."
   ]
  },
  {
   "cell_type": "code",
   "execution_count": 32,
   "metadata": {},
   "outputs": [
    {
     "name": "stdout",
     "output_type": "stream",
     "text": [
      "При N estimators =  20 , F1 = 0.5318352059925093\n",
      "При N estimators =  45 , F1 = 0.5631768953068592\n",
      "При N estimators =  70 , F1 = 0.558983666061706\n",
      "При N estimators =  95 , F1 = 0.56\n",
      "При N estimators =  120 , F1 = 0.5541284403669725\n",
      "При N estimators =  145 , F1 = 0.5547445255474452\n",
      "При N estimators =  170 , F1 = 0.5444444444444445\n",
      "При N estimators =  195 , F1 = 0.5494505494505495\n",
      "При N estimators =  220 , F1 = 0.5488029465930019\n",
      "При N estimators =  245 , F1 = 0.5504587155963303\n",
      "При N estimators =  270 , F1 = 0.5504587155963303\n",
      "При N estimators =  295 , F1 = 0.5551470588235294\n",
      "\n",
      "При N estimators =  295 лучший результат:  0.5631768953068592\n",
      "\n",
      "CPU times: user 23 s, sys: 111 ms, total: 23.1 s\n",
      "Wall time: 23.7 s\n"
     ]
    }
   ],
   "source": [
    "%%time\n",
    "best_estimator = None \n",
    "best_result_forest = 0\n",
    "\n",
    "for estimator in range(20, 300, 25):\n",
    "    model =  RandomForestClassifier(random_state=20052020, n_estimators=estimator)\n",
    "    model.fit(features_train, target_train)\n",
    "    predicted_valid = model.predict(features_valid)\n",
    "    \n",
    "    predicted_valid = model.predict(features_valid)\n",
    "    result = f1_score(target_valid, predicted_valid)\n",
    "    print('При N estimators = ', estimator,', F1 =', result )\n",
    "    \n",
    "    if result > best_result_forest:\n",
    "        best_estimator = estimator\n",
    "        best_result_forest = result\n",
    " \n",
    "print()\n",
    "print('При N estimators = ', estimator, 'лучший результат: ', best_result_forest, end='\\n\\n')"
   ]
  },
  {
   "cell_type": "code",
   "execution_count": 33,
   "metadata": {},
   "outputs": [
    {
     "name": "stdout",
     "output_type": "stream",
     "text": [
      "При N estimators =  290 , F1 = 0.5471349353049908\n",
      "При N estimators =  292 , F1 = 0.5498154981549814\n",
      "При N estimators =  294 , F1 = 0.5524861878453039\n",
      "При N estimators =  296 , F1 = 0.5524861878453039\n",
      "При N estimators =  298 , F1 = 0.5551470588235294\n",
      "При N estimators =  300 , F1 = 0.5577981651376147\n",
      "При N estimators =  302 , F1 = 0.5535055350553505\n",
      "При N estimators =  304 , F1 = 0.5508317929759704\n",
      "При N estimators =  306 , F1 = 0.5535055350553505\n",
      "При N estimators =  308 , F1 = 0.5535055350553505\n",
      "При N estimators =  310 , F1 = 0.5524861878453039\n",
      "При N estimators =  312 , F1 = 0.5524861878453039\n",
      "При N estimators =  314 , F1 = 0.5514705882352942\n",
      "При N estimators =  316 , F1 = 0.5514705882352942\n",
      "При N estimators =  318 , F1 = 0.5514705882352942\n",
      "\n",
      "При N estimators =  318 лучший результат:  0.5577981651376147\n",
      "\n",
      "CPU times: user 54.8 s, sys: 155 ms, total: 55 s\n",
      "Wall time: 55.4 s\n"
     ]
    }
   ],
   "source": [
    "%%time\n",
    "best_estimator = None \n",
    "best_result_forest = 0\n",
    "\n",
    "for estimator in range(290, 320, 2):\n",
    "    model =  RandomForestClassifier(random_state=20052020, n_estimators=estimator)\n",
    "    model.fit(features_train, target_train)\n",
    "    predicted_valid = model.predict(features_valid)\n",
    "    \n",
    "    predicted_valid = model.predict(features_valid)\n",
    "    result = f1_score(target_valid, predicted_valid)\n",
    "    print('При N estimators = ', estimator,', F1 =', result )\n",
    "    \n",
    "    if result > best_result_forest:\n",
    "        best_estimator = estimator\n",
    "        best_result_forest = result\n",
    " \n",
    "print()\n",
    "print('При N estimators = ', estimator, 'лучший результат: ', best_result_forest, end='\\n\\n')"
   ]
  },
  {
   "cell_type": "code",
   "execution_count": 34,
   "metadata": {},
   "outputs": [
    {
     "name": "stdout",
     "output_type": "stream",
     "text": [
      "Проверяем:\n",
      "F1 0.61198738170347\n"
     ]
    }
   ],
   "source": [
    "print('Проверяем:')\n",
    "model =  RandomForestClassifier(random_state=20052020, n_estimators=387, criterion='entropy')\n",
    "model.fit(features_upsampled, target_upsampled)\n",
    "predicted_valid = model.predict(features_valid)\n",
    "print('F1', f1_score(target_valid, predicted_valid))"
   ]
  },
  {
   "cell_type": "markdown",
   "metadata": {},
   "source": [
    "*Изменим гиперпараметр min_samples_split.*"
   ]
  },
  {
   "cell_type": "code",
   "execution_count": 35,
   "metadata": {},
   "outputs": [
    {
     "name": "stdout",
     "output_type": "stream",
     "text": [
      "Samples_split = 0.1 F1 = 0.5720876585928489\n",
      "Samples_split = 0.2 F1 = 0.549618320610687\n",
      "Samples_split = 0.3 F1 = 0.5236593059936908\n",
      "Samples_split = 0.4 F1 = 0.5200845665961945\n",
      "Samples_split = 0.5 F1 = 0.5350877192982456\n",
      "Samples_split = 0.6 F1 = 0.5197368421052632\n",
      "Samples_split = 0.7 F1 = 0.3392048314041268\n",
      "Samples_split = 0.8 F1 = 0.3392048314041268\n",
      "Samples_split = 0.9 F1 = 0.3392048314041268\n",
      "Samples_split = 1.0 F1 = 0.3392048314041268\n",
      "\n",
      "При sample_split =  1 лучший результат = 0.5720876585928489\n",
      "\n",
      "Samples_split =  2 F1 =  0.6025641025641025\n",
      "Samples_split =  3 F1 =  0.6060606060606061\n",
      "Samples_split =  4 F1 =  0.6006389776357828\n",
      "Samples_split =  5 F1 =  0.6190476190476191\n",
      "Samples_split =  6 F1 =  0.6335403726708075\n",
      "Samples_split =  7 F1 =  0.6099071207430341\n",
      "Samples_split =  8 F1 =  0.6158536585365854\n",
      "Samples_split =  9 F1 =  0.6251896813353566\n",
      "Samples_split =  10 F1 =  0.6144578313253012\n",
      "\n",
      "При samples_split =  6 лучший результат = 0.6335403726708075\n"
     ]
    }
   ],
   "source": [
    "split_result = 0\n",
    "sample_split_best = None\n",
    "\n",
    "for samples_split in range(1, 11):\n",
    "    model =  RandomForestClassifier(random_state=20052020, n_estimators=estimator, min_samples_split=samples_split/10)\n",
    "    model.fit(features_upsampled, target_upsampled)\n",
    "    predicted_valid = model.predict(features_valid)\n",
    "    result = f1_score(target_valid, predicted_valid)\n",
    "    print('Samples_split =', samples_split/10,'F1 =', result )\n",
    "    \n",
    "    if  result >  split_result:\n",
    "        split_result = result\n",
    "        sample_split_best = samples_split\n",
    "print()         \n",
    "print('При sample_split = ', sample_split_best, 'лучший результат =',  split_result)    \n",
    "print()    \n",
    "    \n",
    "splits_result = 0\n",
    "samples_split_best = None\n",
    "\n",
    "for samples_split in range(2, 11):\n",
    "    model =  RandomForestClassifier(random_state=20052020, n_estimators=estimator, min_samples_split=samples_split)\n",
    "    model.fit(features_upsampled, target_upsampled)\n",
    "    predicted_valid = model.predict(features_valid)\n",
    "    result = f1_score(target_valid, predicted_valid)\n",
    "    print('Samples_split = ', samples_split,'F1 = ', f1_score(target_valid, predicted_valid))\n",
    "    \n",
    "    if  result >  splits_result:\n",
    "        splits_result = result\n",
    "        samples_split_best = samples_split\n",
    "print()         \n",
    "print('При samples_split = ', samples_split_best, 'лучший результат =', splits_result)  "
   ]
  },
  {
   "cell_type": "markdown",
   "metadata": {},
   "source": [
    "*Изменим гиперпараметр min_samples_leaf.*"
   ]
  },
  {
   "cell_type": "code",
   "execution_count": 36,
   "metadata": {},
   "outputs": [
    {
     "name": "stdout",
     "output_type": "stream",
     "text": [
      "Samples_leaf 0.1 F1 0.5184404636459431\n",
      "Samples_leaf 0.2 F1 0.509719222462203\n",
      "Samples_leaf 0.3 F1 0.4721951219512195\n",
      "Samples_leaf 0.4 F1 0.3392048314041268\n",
      "\n",
      "При sample_leaf =  1 лучший результат = 0.5184404636459431\n",
      "\n",
      "Samples_leaf =  4 F1 0.6190476190476191\n",
      "Samples_leaf =  4 F1 0.6253776435045317\n",
      "Samples_leaf =  4 F1 0.6202898550724638\n",
      "Samples_leaf =  4 F1 0.6184397163120567\n",
      "Samples_leaf =  4 F1 0.6210670314637483\n",
      "Samples_leaf =  4 F1 0.6174496644295302\n",
      "Samples_leaf =  4 F1 0.6196808510638298\n",
      "Samples_leaf =  4 F1 0.6174142480211082\n",
      "Samples_leaf =  4 F1 0.6240208877284595\n",
      "Samples_leaf =  4 F1 0.6141935483870968\n",
      "\n",
      "При sample_leafs =  10 лучший результат = 0.6141935483870968\n",
      "\n"
     ]
    }
   ],
   "source": [
    "leaf_result = 0\n",
    "samples_leaf_best = None\n",
    "\n",
    "\n",
    "for samples_leaf in range(1, 5):\n",
    "    model =  RandomForestClassifier(random_state=20052020, n_estimators=estimator, min_samples_split=5, \n",
    "                                    min_samples_leaf= samples_leaf/10)\n",
    "    model.fit(features_upsampled, target_upsampled)\n",
    "    predicted_valid = model.predict(features_valid)\n",
    "    result= f1_score(target_valid, predicted_valid)\n",
    "    print('Samples_leaf', samples_leaf/10,'F1', result)\n",
    "    \n",
    "    if  result >  leaf_result:\n",
    "        leaf_result = result\n",
    "        sample_leaf_best = samples_leaf\n",
    "print()         \n",
    "print('При sample_leaf = ', sample_leaf_best, 'лучший результат =',  leaf_result)    \n",
    "print()  \n",
    "    \n",
    "leafs_result = 0\n",
    "samples_leafs_best = None    \n",
    "    \n",
    "for samples_leafs in range(1, 11):\n",
    "    model =  RandomForestClassifier(random_state=20052020, n_estimators=estimator, min_samples_split=5,\n",
    "                                   min_samples_leaf= samples_leafs)\n",
    "    model.fit(features_upsampled, target_upsampled)\n",
    "    predicted_valid = model.predict(features_valid)\n",
    "    result=f1_score(target_valid, predicted_valid)\n",
    "    print('Samples_leaf = ', samples_leaf,'F1', result)\n",
    "    \n",
    "    if  result >  leaf_result:\n",
    "        leafs_result = result\n",
    "        sample_leafs_best = samples_leafs\n",
    "        \n",
    "print()         \n",
    "print('При sample_leafs = ', sample_leafs_best, 'лучший результат =',  leafs_result)    \n",
    "print()"
   ]
  },
  {
   "cell_type": "markdown",
   "metadata": {},
   "source": [
    "**Проверим на тестовой выборке четыре модели: на дисбалансных данных и сбалансированных: со взвешенными классами, усечением 0 класса и расширением класса 1.**"
   ]
  },
  {
   "cell_type": "code",
   "execution_count": 37,
   "metadata": {},
   "outputs": [
    {
     "name": "stdout",
     "output_type": "stream",
     "text": [
      "Случайный лес - дисбаланс классов\n",
      "Accuracy =  0.8587878787878788\n",
      "Precision =  0.8342541436464088\n",
      "Recall =  0.4265536723163842\n",
      "F1 =  0.5644859813084112\n",
      "\n",
      "Случайный лес - взвешенные классы\n",
      "Accuracy =  0.8315151515151515\n",
      "Precision =  0.5931372549019608\n",
      "Recall =  0.6836158192090396\n",
      "F1 =  0.6351706036745408\n",
      "\n",
      "Случайный лес - уменьшенное количество классов 0\n",
      "Accuracy =  0.7903030303030303\n",
      "Precision =  0.5075757575757576\n",
      "Recall =  0.7570621468926554\n",
      "F1 =  0.6077097505668934\n",
      "\n",
      "Случайный лес - увеличенное количество классов 1\n",
      "accuracy 0.8187878787878788\n",
      "Precision 0.5641025641025641\n",
      "Recall 0.6836158192090396\n",
      "F1 0.6181353767560664\n",
      "\n"
     ]
    }
   ],
   "source": [
    "model = RandomForestClassifier(random_state=20052020, n_estimators=estimator, min_samples_split=6,\n",
    "                                   min_samples_leaf=10)\n",
    "model.fit(features_train, target_train)\n",
    "predicted_test = model.predict(features_test)\n",
    "print('Случайный лес - дисбаланс классов')\n",
    "print('Accuracy = ', accuracy_score(target_test, predicted_test))\n",
    "print('Precision = ', precision_score(target_test, predicted_test))\n",
    "print('Recall = ', recall_score(target_test, predicted_test))\n",
    "print('F1 = ', f1_score(target_test, predicted_test))\n",
    "print()\n",
    "\n",
    "model = RandomForestClassifier(random_state=20052020, n_estimators=estimator, min_samples_split=6,\n",
    "                                   min_samples_leaf=10, class_weight='balanced')\n",
    "model.fit(features_train, target_train)\n",
    "predicted_test = model.predict(features_test)\n",
    "print('Случайный лес - взвешенные классы')\n",
    "print('Accuracy = ', accuracy_score(target_test, predicted_test))\n",
    "print('Precision = ', precision_score(target_test, predicted_test))\n",
    "print('Recall = ', recall_score(target_test, predicted_test))\n",
    "print('F1 = ', f1_score(target_test, predicted_test))\n",
    "print()\n",
    "\n",
    "model = RandomForestClassifier(random_state=20052020, n_estimators=estimator, min_samples_split=6,\n",
    "                                   min_samples_leaf=10)\n",
    "model.fit(features_downsampled, target_downsampled)\n",
    "predicted_test = model.predict(features_test)\n",
    "print('Случайный лес - уменьшенное количество классов 0')\n",
    "print('Accuracy = ', accuracy_score(target_test, predicted_test))\n",
    "print('Precision = ', precision_score(target_test, predicted_test))\n",
    "print('Recall = ', recall_score(target_test, predicted_test))\n",
    "print('F1 = ', f1_score(target_test, predicted_test))\n",
    "print()\n",
    "\n",
    "model = RandomForestClassifier(random_state=20052020, n_estimators=estimator, min_samples_split=6,\n",
    "                                   min_samples_leaf=10)\n",
    "model.fit(features_upsampled, target_upsampled)\n",
    "predicted_test = model.predict(features_test)\n",
    "print('Случайный лес - увеличенное количество классов 1')\n",
    "print('accuracy', accuracy_score(target_test, predicted_test))\n",
    "print('Precision', precision_score(target_test, predicted_test))\n",
    "print('Recall', recall_score(target_test, predicted_test))\n",
    "print('F1', f1_score(target_test, predicted_test))\n",
    "print()"
   ]
  },
  {
   "cell_type": "code",
   "execution_count": 38,
   "metadata": {},
   "outputs": [
    {
     "name": "stdout",
     "output_type": "stream",
     "text": [
      "AUC-ROC RandomForestClassifier - disbalanced 0.8569435725744576\n",
      "AUC-ROC RandomForestClassifier - balanced by class weight 0.8548380065564622\n",
      "AUC-ROC RandomForestClassifier - balanced by reduce 0 class 0.8569828067238613\n",
      "AUC-ROC RandomForestClassifier - balanced by grow 1 class 0.8512633396107973\n"
     ]
    },
    {
     "data": {
      "image/png": "[encoded data removed]",
      "text/plain": [
       "<Figure size 864x648 with 1 Axes>"
      ]
     },
     "metadata": {
      "needs_background": "light"
     },
     "output_type": "display_data"
    }
   ],
   "source": [
    "plt.figure(figsize=[12,9])\n",
    "\n",
    "plt.plot([0, 1], [0, 1], linestyle='--', label='RandomModel')\n",
    "\n",
    "\n",
    "model = RandomForestClassifier(random_state=20052020, n_estimators=estimator, min_samples_split=5,\n",
    "                                   min_samples_leaf=7)\n",
    "model.fit(features_train, target_train)\n",
    "predicted_test = model.predict(features_test)\n",
    "probabilities_test = model.predict_proba(features_test)\n",
    "probabilities_one_test = probabilities_test[:, 1]\n",
    "fpr, tpr, thresholds = roc_curve(target_test, probabilities_one_test)\n",
    "auc_roc = roc_auc_score(target_test, probabilities_one_test)\n",
    "print('AUC-ROC RandomForestClassifier - disbalanced',auc_roc)\n",
    "plt.plot(fpr, tpr, label='RandomForestClassifier - disbalanced')\n",
    "\n",
    "model = RandomForestClassifier(random_state=20052020, n_estimators=estimator, min_samples_split=5,\n",
    "                                   min_samples_leaf=7, class_weight='balanced')\n",
    "model.fit(features_train, target_train)\n",
    "predicted_test = model.predict(features_test)\n",
    "probabilities_test = model.predict_proba(features_test)\n",
    "probabilities_one_test = probabilities_test[:, 1]\n",
    "fpr, tpr, thresholds = roc_curve(target_test, probabilities_one_test)\n",
    "auc_roc = roc_auc_score(target_test, probabilities_one_test)\n",
    "print('AUC-ROC RandomForestClassifier - balanced by class weight',auc_roc)\n",
    "plt.plot(fpr, tpr, label='RandomForestClassifier - balanced by class weight')\n",
    "\n",
    "model = RandomForestClassifier(random_state=20052020, n_estimators=estimator, min_samples_split=5,\n",
    "                                   min_samples_leaf=7)\n",
    "model.fit(features_downsampled, target_downsampled)\n",
    "predicted_test = model.predict(features_test)\n",
    "probabilities_test = model.predict_proba(features_test)\n",
    "probabilities_one_test = probabilities_test[:, 1]\n",
    "fpr, tpr, thresholds = roc_curve(target_test, probabilities_one_test)\n",
    "auc_roc = roc_auc_score(target_test, probabilities_one_test)\n",
    "print('AUC-ROC RandomForestClassifier - balanced by reduce 0 class',auc_roc)\n",
    "plt.plot(fpr, tpr, label='RandomForestClassifier - balanced by reduce 0 class')\n",
    "\n",
    "model = RandomForestClassifier(random_state=20052020, n_estimators=estimator, min_samples_split=5,\n",
    "                                   min_samples_leaf=7)\n",
    "model.fit(features_upsampled, target_upsampled)\n",
    "predicted_test = model.predict(features_test)\n",
    "probabilities_test = model.predict_proba(features_test)\n",
    "probabilities_one_test = probabilities_test[:, 1]\n",
    "fpr, tpr, thresholds = roc_curve(target_test, probabilities_one_test)\n",
    "auc_roc = roc_auc_score(target_test, probabilities_one_test)\n",
    "print('AUC-ROC RandomForestClassifier - balanced by grow 1 class',auc_roc)\n",
    "plt.plot(fpr, tpr, label='RandomForestClassifier - balanced')\n",
    "\n",
    "plt.xlim([0,1])\n",
    "plt.ylim([0,1])\n",
    "\n",
    "plt.xlabel(\"False Positive Rate\")\n",
    "plt.ylabel(\"True Positive Rate\")\n",
    "\n",
    "plt.legend(loc='lower right', fontsize='x-large')\n",
    "\n",
    "plt.title(\"ROC-кривая\")\n",
    "plt.show()"
   ]
  },
  {
   "cell_type": "markdown",
   "metadata": {},
   "source": [
    "**Вывод по пункту 4**\n",
    "\n",
    "3 из 4 моделей достигли минимума F-меры на тестовых данных: модель случайного леса со взвешенными весами классов и моделb с увеличенным  количеством класса 1 и уменьшенным количеством класса 0.\n",
    "\n",
    "Лучший результат даёт взвешивание классов. Percision падает, recall растет, и в целом F-мера имеет небольшой прирост. Баланс классов повышает охват необходимых данных. Так же, по кривой AUC-ROC у AUC-ROC дисбалансной модели и модели с весами видно, что они примерно одинаково предсказывают вероятность ухода клиента.\n",
    "\n",
    "В результате исследования была получена модель с лучшими показателями как по F1-мере, так и по AUC-ROC - Случайный лес: взвешенные классы.\n",
    "\n"
   ]
  },
  {
   "cell_type": "markdown",
   "metadata": {},
   "source": [
    "## Итоговый вывод\n",
    "\n",
    "При работе с проектом: были изучены предоставленные данные, выполнена предобработка, заполнены пропуски и произведена оценка данных. Далее, датасет был разбит на  тренировочную, валидационную и тестовую выборки. Выполнено маштабирование, оценен баланс данных. Была выполнена проверка данных без изменений на выбранных моделях. Далее был устранен дисбаланс в данных и сформированы модели(на дисбалансных данных и сбалансированных: со взвешенными классами, усечением 0 класса и расширением класса 1) с целью работы с тествовой выборкой. По результатам работы были выделены наиболее успешные модели, результат работы которых отвечал заданному условию(F1-метрика >  0.59). Наилучший результат показала модель случайного леса со взвешенными весами классов, она имеет достаточную адекватность с результатом AUC-ROC = 0.861 при AUC-ROC = 0.5 в случайной модели. Аccuracy модели 0.8315, precision 0.593, recall 0.683 и f1 0.635. Модель старается собрать больше данных, чем показать верную точность (recall > precision). Процент попадания в классы достаточно высокий.\n"
   ]
  }
 ],
 "metadata": {
  "ExecuteTimeLog": [
   {
    "duration": 1601,
    "start_time": "2022-05-10T21:50:56.881Z"
   },
   {
    "duration": 51,
    "start_time": "2022-05-10T21:50:58.484Z"
   },
   {
    "duration": 147,
    "start_time": "2022-05-10T21:51:17.489Z"
   },
   {
    "duration": 31,
    "start_time": "2022-05-10T21:51:24.430Z"
   },
   {
    "duration": 774,
    "start_time": "2022-05-10T21:53:28.604Z"
   },
   {
    "duration": 62,
    "start_time": "2022-05-10T21:54:11.929Z"
   },
   {
    "duration": 23,
    "start_time": "2022-05-10T22:01:18.512Z"
   },
   {
    "duration": 12,
    "start_time": "2022-05-10T22:03:00.792Z"
   },
   {
    "duration": 31,
    "start_time": "2022-05-10T22:18:04.478Z"
   },
   {
    "duration": 9,
    "start_time": "2022-05-10T22:18:22.084Z"
   },
   {
    "duration": 28,
    "start_time": "2022-05-10T22:24:01.851Z"
   },
   {
    "duration": 12,
    "start_time": "2022-05-10T22:24:45.871Z"
   },
   {
    "duration": 5,
    "start_time": "2022-05-10T22:24:51.584Z"
   },
   {
    "duration": 11,
    "start_time": "2022-05-10T22:24:53.079Z"
   },
   {
    "duration": 6,
    "start_time": "2022-05-10T22:25:37.640Z"
   },
   {
    "duration": 5,
    "start_time": "2022-05-10T22:26:23.908Z"
   },
   {
    "duration": 6,
    "start_time": "2022-05-10T22:26:34.475Z"
   },
   {
    "duration": 19,
    "start_time": "2022-05-10T22:26:53.661Z"
   },
   {
    "duration": 31,
    "start_time": "2022-05-10T22:45:16.988Z"
   },
   {
    "duration": 25,
    "start_time": "2022-05-10T22:46:17.273Z"
   },
   {
    "duration": 23,
    "start_time": "2022-05-10T22:46:47.683Z"
   },
   {
    "duration": 13,
    "start_time": "2022-05-10T22:51:21.499Z"
   },
   {
    "duration": 1947,
    "start_time": "2022-05-10T22:51:26.539Z"
   },
   {
    "duration": 58,
    "start_time": "2022-05-10T22:51:28.489Z"
   },
   {
    "duration": 24,
    "start_time": "2022-05-10T22:51:28.550Z"
   },
   {
    "duration": 85,
    "start_time": "2022-05-10T22:51:28.576Z"
   },
   {
    "duration": 8,
    "start_time": "2022-05-10T22:51:28.664Z"
   },
   {
    "duration": 9,
    "start_time": "2022-05-10T22:51:28.674Z"
   },
   {
    "duration": 11,
    "start_time": "2022-05-10T22:51:28.685Z"
   },
   {
    "duration": 40,
    "start_time": "2022-05-10T22:51:28.698Z"
   },
   {
    "duration": 26,
    "start_time": "2022-05-10T22:51:28.741Z"
   },
   {
    "duration": 27,
    "start_time": "2022-05-10T22:51:28.770Z"
   },
   {
    "duration": 29,
    "start_time": "2022-05-10T22:51:28.824Z"
   },
   {
    "duration": 6,
    "start_time": "2022-05-10T22:59:22.808Z"
   },
   {
    "duration": 5,
    "start_time": "2022-05-10T23:00:36.274Z"
   },
   {
    "duration": 181,
    "start_time": "2022-05-10T23:07:08.667Z"
   },
   {
    "duration": 4,
    "start_time": "2022-05-10T23:07:51.369Z"
   },
   {
    "duration": 28,
    "start_time": "2022-05-10T23:07:52.120Z"
   },
   {
    "duration": 26,
    "start_time": "2022-05-10T23:08:28.187Z"
   },
   {
    "duration": 15,
    "start_time": "2022-05-10T23:11:26.670Z"
   },
   {
    "duration": 15,
    "start_time": "2022-05-10T23:11:33.244Z"
   },
   {
    "duration": 9,
    "start_time": "2022-05-10T23:11:52.495Z"
   },
   {
    "duration": 18,
    "start_time": "2022-05-10T23:25:16.804Z"
   },
   {
    "duration": 2091,
    "start_time": "2022-05-10T23:29:40.012Z"
   },
   {
    "duration": 11,
    "start_time": "2022-05-10T23:29:56.912Z"
   },
   {
    "duration": 31,
    "start_time": "2022-05-10T23:29:58.497Z"
   },
   {
    "duration": 16,
    "start_time": "2022-05-10T23:30:42.199Z"
   },
   {
    "duration": 9,
    "start_time": "2022-05-10T23:30:56.847Z"
   },
   {
    "duration": 16,
    "start_time": "2022-05-10T23:36:35.091Z"
   },
   {
    "duration": 21,
    "start_time": "2022-05-10T23:39:09.452Z"
   },
   {
    "duration": 27,
    "start_time": "2022-05-10T23:40:30.413Z"
   },
   {
    "duration": 21,
    "start_time": "2022-05-10T23:43:07.043Z"
   },
   {
    "duration": 1962,
    "start_time": "2022-05-10T23:43:14.754Z"
   },
   {
    "duration": 52,
    "start_time": "2022-05-10T23:43:16.719Z"
   },
   {
    "duration": 26,
    "start_time": "2022-05-10T23:43:16.773Z"
   },
   {
    "duration": 83,
    "start_time": "2022-05-10T23:43:16.802Z"
   },
   {
    "duration": 9,
    "start_time": "2022-05-10T23:43:16.889Z"
   },
   {
    "duration": 29,
    "start_time": "2022-05-10T23:43:16.900Z"
   },
   {
    "duration": 35,
    "start_time": "2022-05-10T23:43:16.932Z"
   },
   {
    "duration": 11,
    "start_time": "2022-05-10T23:43:16.969Z"
   },
   {
    "duration": 11,
    "start_time": "2022-05-10T23:43:16.982Z"
   },
   {
    "duration": 26,
    "start_time": "2022-05-10T23:43:17.030Z"
   },
   {
    "duration": 29,
    "start_time": "2022-05-10T23:43:17.058Z"
   },
   {
    "duration": 61,
    "start_time": "2022-05-10T23:43:17.089Z"
   },
   {
    "duration": 5,
    "start_time": "2022-05-10T23:43:17.153Z"
   },
   {
    "duration": 28,
    "start_time": "2022-05-10T23:43:17.161Z"
   },
   {
    "duration": 44,
    "start_time": "2022-05-10T23:43:17.191Z"
   },
   {
    "duration": 11,
    "start_time": "2022-05-10T23:43:17.238Z"
   },
   {
    "duration": 139,
    "start_time": "2022-05-10T23:43:17.251Z"
   },
   {
    "duration": 11,
    "start_time": "2022-05-11T00:05:45.664Z"
   },
   {
    "duration": 17,
    "start_time": "2022-05-11T00:09:09.121Z"
   },
   {
    "duration": 10,
    "start_time": "2022-05-11T00:09:53.412Z"
   },
   {
    "duration": 174,
    "start_time": "2022-05-11T00:11:04.588Z"
   },
   {
    "duration": 1149,
    "start_time": "2022-05-11T00:19:44.475Z"
   },
   {
    "duration": 1221,
    "start_time": "2022-05-11T00:21:29.096Z"
   },
   {
    "duration": 153,
    "start_time": "2022-05-11T00:26:00.516Z"
   },
   {
    "duration": 167,
    "start_time": "2022-05-11T00:27:18.045Z"
   },
   {
    "duration": 148,
    "start_time": "2022-05-11T00:27:35.417Z"
   },
   {
    "duration": 142,
    "start_time": "2022-05-11T00:27:48.004Z"
   },
   {
    "duration": 37,
    "start_time": "2022-05-11T00:27:53.821Z"
   },
   {
    "duration": 50,
    "start_time": "2022-05-11T00:28:29.048Z"
   },
   {
    "duration": 173,
    "start_time": "2022-05-11T00:28:56.424Z"
   },
   {
    "duration": 53,
    "start_time": "2022-05-11T00:29:04.951Z"
   },
   {
    "duration": 2046,
    "start_time": "2022-05-11T00:30:59.759Z"
   },
   {
    "duration": 57,
    "start_time": "2022-05-11T00:31:01.807Z"
   },
   {
    "duration": 26,
    "start_time": "2022-05-11T00:31:01.870Z"
   },
   {
    "duration": 92,
    "start_time": "2022-05-11T00:31:01.898Z"
   },
   {
    "duration": 8,
    "start_time": "2022-05-11T00:31:01.992Z"
   },
   {
    "duration": 40,
    "start_time": "2022-05-11T00:31:02.002Z"
   },
   {
    "duration": 37,
    "start_time": "2022-05-11T00:31:02.045Z"
   },
   {
    "duration": 11,
    "start_time": "2022-05-11T00:31:02.084Z"
   },
   {
    "duration": 16,
    "start_time": "2022-05-11T00:31:02.099Z"
   },
   {
    "duration": 33,
    "start_time": "2022-05-11T00:31:02.118Z"
   },
   {
    "duration": 30,
    "start_time": "2022-05-11T00:31:02.153Z"
   },
   {
    "duration": 47,
    "start_time": "2022-05-11T00:31:02.185Z"
   },
   {
    "duration": 10,
    "start_time": "2022-05-11T00:31:02.236Z"
   },
   {
    "duration": 27,
    "start_time": "2022-05-11T00:31:02.248Z"
   },
   {
    "duration": 37,
    "start_time": "2022-05-11T00:31:02.278Z"
   },
   {
    "duration": 138,
    "start_time": "2022-05-11T00:31:02.317Z"
   },
   {
    "duration": 11,
    "start_time": "2022-05-11T00:31:02.458Z"
   },
   {
    "duration": 1238,
    "start_time": "2022-05-11T00:31:02.471Z"
   },
   {
    "duration": 203,
    "start_time": "2022-05-11T00:31:03.711Z"
   },
   {
    "duration": 0,
    "start_time": "2022-05-11T00:31:03.917Z"
   },
   {
    "duration": 0,
    "start_time": "2022-05-11T00:31:03.925Z"
   },
   {
    "duration": 0,
    "start_time": "2022-05-11T00:31:03.927Z"
   },
   {
    "duration": 52,
    "start_time": "2022-05-11T00:33:44.256Z"
   },
   {
    "duration": 8,
    "start_time": "2022-05-11T00:39:11.058Z"
   },
   {
    "duration": 9,
    "start_time": "2022-05-11T00:41:09.138Z"
   },
   {
    "duration": 7,
    "start_time": "2022-05-11T00:41:24.113Z"
   },
   {
    "duration": 9,
    "start_time": "2022-05-11T00:44:00.725Z"
   },
   {
    "duration": 8,
    "start_time": "2022-05-11T00:44:01.682Z"
   },
   {
    "duration": 2038,
    "start_time": "2022-05-11T00:44:11.783Z"
   },
   {
    "duration": 50,
    "start_time": "2022-05-11T00:44:13.825Z"
   },
   {
    "duration": 44,
    "start_time": "2022-05-11T00:44:13.881Z"
   },
   {
    "duration": 61,
    "start_time": "2022-05-11T00:44:13.931Z"
   },
   {
    "duration": 8,
    "start_time": "2022-05-11T00:44:13.995Z"
   },
   {
    "duration": 11,
    "start_time": "2022-05-11T00:44:14.029Z"
   },
   {
    "duration": 27,
    "start_time": "2022-05-11T00:44:14.043Z"
   },
   {
    "duration": 9,
    "start_time": "2022-05-11T00:44:14.073Z"
   },
   {
    "duration": 46,
    "start_time": "2022-05-11T00:44:14.085Z"
   },
   {
    "duration": 27,
    "start_time": "2022-05-11T00:44:14.134Z"
   },
   {
    "duration": 29,
    "start_time": "2022-05-11T00:44:14.163Z"
   },
   {
    "duration": 39,
    "start_time": "2022-05-11T00:44:14.195Z"
   },
   {
    "duration": 9,
    "start_time": "2022-05-11T00:44:14.240Z"
   },
   {
    "duration": 8,
    "start_time": "2022-05-11T00:44:14.251Z"
   },
   {
    "duration": 199,
    "start_time": "2022-05-11T00:44:14.261Z"
   },
   {
    "duration": 0,
    "start_time": "2022-05-11T00:44:14.462Z"
   },
   {
    "duration": 0,
    "start_time": "2022-05-11T00:44:14.464Z"
   },
   {
    "duration": 0,
    "start_time": "2022-05-11T00:44:14.466Z"
   },
   {
    "duration": 0,
    "start_time": "2022-05-11T00:44:14.468Z"
   },
   {
    "duration": 0,
    "start_time": "2022-05-11T00:44:14.469Z"
   },
   {
    "duration": 0,
    "start_time": "2022-05-11T00:44:14.471Z"
   },
   {
    "duration": 0,
    "start_time": "2022-05-11T00:44:14.472Z"
   },
   {
    "duration": 0,
    "start_time": "2022-05-11T00:44:14.474Z"
   },
   {
    "duration": 9,
    "start_time": "2022-05-11T00:45:08.025Z"
   },
   {
    "duration": 7,
    "start_time": "2022-05-11T00:45:08.568Z"
   },
   {
    "duration": 8,
    "start_time": "2022-05-11T00:45:40.825Z"
   },
   {
    "duration": 5,
    "start_time": "2022-05-11T00:45:45.273Z"
   },
   {
    "duration": 19,
    "start_time": "2022-05-11T00:45:46.986Z"
   },
   {
    "duration": 32,
    "start_time": "2022-05-11T00:45:48.809Z"
   },
   {
    "duration": 7,
    "start_time": "2022-05-11T00:45:49.739Z"
   },
   {
    "duration": 7,
    "start_time": "2022-05-11T00:45:51.054Z"
   },
   {
    "duration": 9,
    "start_time": "2022-05-11T00:46:37.295Z"
   },
   {
    "duration": 7,
    "start_time": "2022-05-11T00:46:45.872Z"
   },
   {
    "duration": 7,
    "start_time": "2022-05-11T00:47:17.344Z"
   },
   {
    "duration": 7,
    "start_time": "2022-05-11T00:47:41.394Z"
   },
   {
    "duration": 8,
    "start_time": "2022-05-11T00:48:38.368Z"
   },
   {
    "duration": 8,
    "start_time": "2022-05-11T00:49:55.722Z"
   },
   {
    "duration": 7,
    "start_time": "2022-05-11T00:49:56.539Z"
   },
   {
    "duration": 2007,
    "start_time": "2022-05-11T00:50:31.574Z"
   },
   {
    "duration": 59,
    "start_time": "2022-05-11T00:50:33.584Z"
   },
   {
    "duration": 24,
    "start_time": "2022-05-11T00:50:33.646Z"
   },
   {
    "duration": 86,
    "start_time": "2022-05-11T00:50:33.673Z"
   },
   {
    "duration": 8,
    "start_time": "2022-05-11T00:50:33.762Z"
   },
   {
    "duration": 14,
    "start_time": "2022-05-11T00:50:33.771Z"
   },
   {
    "duration": 48,
    "start_time": "2022-05-11T00:50:33.787Z"
   },
   {
    "duration": 11,
    "start_time": "2022-05-11T00:50:33.837Z"
   },
   {
    "duration": 6,
    "start_time": "2022-05-11T00:50:33.851Z"
   },
   {
    "duration": 23,
    "start_time": "2022-05-11T00:50:33.859Z"
   },
   {
    "duration": 69,
    "start_time": "2022-05-11T00:50:33.884Z"
   },
   {
    "duration": 8,
    "start_time": "2022-05-11T00:50:33.956Z"
   },
   {
    "duration": 10,
    "start_time": "2022-05-11T00:50:33.966Z"
   },
   {
    "duration": 5,
    "start_time": "2022-05-11T00:50:33.980Z"
   },
   {
    "duration": 181,
    "start_time": "2022-05-11T00:50:34.026Z"
   },
   {
    "duration": 0,
    "start_time": "2022-05-11T00:50:34.209Z"
   },
   {
    "duration": 0,
    "start_time": "2022-05-11T00:50:34.211Z"
   },
   {
    "duration": 0,
    "start_time": "2022-05-11T00:50:34.212Z"
   },
   {
    "duration": 0,
    "start_time": "2022-05-11T00:50:34.225Z"
   },
   {
    "duration": 0,
    "start_time": "2022-05-11T00:50:34.232Z"
   },
   {
    "duration": 0,
    "start_time": "2022-05-11T00:50:34.235Z"
   },
   {
    "duration": 0,
    "start_time": "2022-05-11T00:50:34.237Z"
   },
   {
    "duration": 0,
    "start_time": "2022-05-11T00:50:34.239Z"
   },
   {
    "duration": 25,
    "start_time": "2022-05-11T00:51:21.726Z"
   },
   {
    "duration": 16,
    "start_time": "2022-05-11T00:51:59.870Z"
   },
   {
    "duration": 16,
    "start_time": "2022-05-11T00:52:00.318Z"
   },
   {
    "duration": 2034,
    "start_time": "2022-05-11T00:52:18.970Z"
   },
   {
    "duration": 50,
    "start_time": "2022-05-11T00:52:21.007Z"
   },
   {
    "duration": 27,
    "start_time": "2022-05-11T00:52:21.060Z"
   },
   {
    "duration": 92,
    "start_time": "2022-05-11T00:52:21.090Z"
   },
   {
    "duration": 9,
    "start_time": "2022-05-11T00:52:21.187Z"
   },
   {
    "duration": 6,
    "start_time": "2022-05-11T00:52:21.199Z"
   },
   {
    "duration": 25,
    "start_time": "2022-05-11T00:52:21.232Z"
   },
   {
    "duration": 9,
    "start_time": "2022-05-11T00:52:21.259Z"
   },
   {
    "duration": 7,
    "start_time": "2022-05-11T00:52:21.270Z"
   },
   {
    "duration": 63,
    "start_time": "2022-05-11T00:52:21.280Z"
   },
   {
    "duration": 31,
    "start_time": "2022-05-11T00:52:21.345Z"
   },
   {
    "duration": 7,
    "start_time": "2022-05-11T00:52:21.379Z"
   },
   {
    "duration": 51,
    "start_time": "2022-05-11T00:52:21.389Z"
   },
   {
    "duration": 6,
    "start_time": "2022-05-11T00:52:21.444Z"
   },
   {
    "duration": 203,
    "start_time": "2022-05-11T00:52:21.452Z"
   },
   {
    "duration": 0,
    "start_time": "2022-05-11T00:52:21.657Z"
   },
   {
    "duration": 0,
    "start_time": "2022-05-11T00:52:21.659Z"
   },
   {
    "duration": 0,
    "start_time": "2022-05-11T00:52:21.660Z"
   },
   {
    "duration": 0,
    "start_time": "2022-05-11T00:52:21.662Z"
   },
   {
    "duration": 0,
    "start_time": "2022-05-11T00:52:21.663Z"
   },
   {
    "duration": 0,
    "start_time": "2022-05-11T00:52:21.665Z"
   },
   {
    "duration": 0,
    "start_time": "2022-05-11T00:52:21.666Z"
   },
   {
    "duration": 0,
    "start_time": "2022-05-11T00:52:21.667Z"
   },
   {
    "duration": 7,
    "start_time": "2022-05-11T00:53:02.298Z"
   },
   {
    "duration": 6,
    "start_time": "2022-05-11T00:53:44.805Z"
   },
   {
    "duration": 12,
    "start_time": "2022-05-11T00:54:52.453Z"
   },
   {
    "duration": 21,
    "start_time": "2022-05-11T00:56:02.720Z"
   },
   {
    "duration": 12,
    "start_time": "2022-05-11T00:56:18.492Z"
   },
   {
    "duration": 48,
    "start_time": "2022-05-11T00:57:19.928Z"
   },
   {
    "duration": 43,
    "start_time": "2022-05-11T00:57:28.414Z"
   },
   {
    "duration": 7,
    "start_time": "2022-05-11T00:58:33.973Z"
   },
   {
    "duration": 17,
    "start_time": "2022-05-11T01:00:34.063Z"
   },
   {
    "duration": 53,
    "start_time": "2022-05-11T01:00:44.245Z"
   },
   {
    "duration": 1243,
    "start_time": "2022-05-11T01:01:15.323Z"
   },
   {
    "duration": 1231,
    "start_time": "2022-05-11T01:01:29.600Z"
   },
   {
    "duration": 746,
    "start_time": "2022-05-11T01:04:09.521Z"
   },
   {
    "duration": 5629,
    "start_time": "2022-05-11T01:08:26.479Z"
   },
   {
    "duration": 5771,
    "start_time": "2022-05-11T01:08:39.587Z"
   },
   {
    "duration": 6406,
    "start_time": "2022-05-11T01:08:57.290Z"
   },
   {
    "duration": 12041,
    "start_time": "2022-05-11T01:09:14.006Z"
   },
   {
    "duration": 1957,
    "start_time": "2022-05-11T01:11:52.260Z"
   },
   {
    "duration": 52,
    "start_time": "2022-05-11T01:11:54.224Z"
   },
   {
    "duration": 26,
    "start_time": "2022-05-11T01:11:54.278Z"
   },
   {
    "duration": 88,
    "start_time": "2022-05-11T01:11:54.307Z"
   },
   {
    "duration": 34,
    "start_time": "2022-05-11T01:11:54.398Z"
   },
   {
    "duration": 12,
    "start_time": "2022-05-11T01:11:54.436Z"
   },
   {
    "duration": 25,
    "start_time": "2022-05-11T01:11:54.451Z"
   },
   {
    "duration": 10,
    "start_time": "2022-05-11T01:11:54.478Z"
   },
   {
    "duration": 41,
    "start_time": "2022-05-11T01:11:54.490Z"
   },
   {
    "duration": 22,
    "start_time": "2022-05-11T01:11:54.537Z"
   },
   {
    "duration": 28,
    "start_time": "2022-05-11T01:11:54.562Z"
   },
   {
    "duration": 10,
    "start_time": "2022-05-11T01:11:54.633Z"
   },
   {
    "duration": 18,
    "start_time": "2022-05-11T01:11:54.646Z"
   },
   {
    "duration": 6,
    "start_time": "2022-05-11T01:11:54.667Z"
   },
   {
    "duration": 19,
    "start_time": "2022-05-11T01:11:54.676Z"
   },
   {
    "duration": 40,
    "start_time": "2022-05-11T01:11:54.698Z"
   },
   {
    "duration": 45,
    "start_time": "2022-05-11T01:11:54.740Z"
   },
   {
    "duration": 6,
    "start_time": "2022-05-11T01:11:54.788Z"
   },
   {
    "duration": 786,
    "start_time": "2022-05-11T01:11:54.796Z"
   },
   {
    "duration": 12253,
    "start_time": "2022-05-11T01:11:55.585Z"
   },
   {
    "duration": 11,
    "start_time": "2022-05-11T01:12:07.841Z"
   },
   {
    "duration": 12,
    "start_time": "2022-05-11T01:12:07.856Z"
   },
   {
    "duration": 202,
    "start_time": "2022-05-11T01:12:07.870Z"
   },
   {
    "duration": 11932,
    "start_time": "2022-05-11T01:12:32.296Z"
   },
   {
    "duration": 9808,
    "start_time": "2022-05-11T01:14:13.849Z"
   },
   {
    "duration": 12282,
    "start_time": "2022-05-11T01:15:10.364Z"
   },
   {
    "duration": 12224,
    "start_time": "2022-05-11T01:17:10.051Z"
   },
   {
    "duration": 726,
    "start_time": "2022-05-11T01:17:54.752Z"
   },
   {
    "duration": 12192,
    "start_time": "2022-05-11T01:17:55.640Z"
   },
   {
    "duration": 12347,
    "start_time": "2022-05-11T01:18:07.836Z"
   },
   {
    "duration": 12344,
    "start_time": "2022-05-11T01:18:27.757Z"
   },
   {
    "duration": 7600,
    "start_time": "2022-05-11T01:20:42.064Z"
   },
   {
    "duration": 11931,
    "start_time": "2022-05-11T01:21:44.016Z"
   },
   {
    "duration": 49192,
    "start_time": "2022-05-11T01:22:47.872Z"
   },
   {
    "duration": 11354,
    "start_time": "2022-05-11T01:24:10.343Z"
   },
   {
    "duration": 2413,
    "start_time": "2022-05-11T01:24:55.280Z"
   },
   {
    "duration": 22984,
    "start_time": "2022-05-11T01:25:16.626Z"
   },
   {
    "duration": 24445,
    "start_time": "2022-05-11T01:26:15.374Z"
   },
   {
    "duration": 242,
    "start_time": "2022-05-11T01:27:43.097Z"
   },
   {
    "duration": 81,
    "start_time": "2022-05-11T01:27:58.858Z"
   },
   {
    "duration": 157,
    "start_time": "2022-05-11T01:30:11.753Z"
   },
   {
    "duration": 2057,
    "start_time": "2022-05-11T01:31:01.652Z"
   },
   {
    "duration": 51,
    "start_time": "2022-05-11T01:31:03.711Z"
   },
   {
    "duration": 27,
    "start_time": "2022-05-11T01:31:03.764Z"
   },
   {
    "duration": 88,
    "start_time": "2022-05-11T01:31:03.794Z"
   },
   {
    "duration": 8,
    "start_time": "2022-05-11T01:31:03.884Z"
   },
   {
    "duration": 10,
    "start_time": "2022-05-11T01:31:03.895Z"
   },
   {
    "duration": 57,
    "start_time": "2022-05-11T01:31:03.907Z"
   },
   {
    "duration": 26,
    "start_time": "2022-05-11T01:31:03.966Z"
   },
   {
    "duration": 6,
    "start_time": "2022-05-11T01:31:03.995Z"
   },
   {
    "duration": 39,
    "start_time": "2022-05-11T01:31:04.005Z"
   },
   {
    "duration": 28,
    "start_time": "2022-05-11T01:31:04.047Z"
   },
   {
    "duration": 6,
    "start_time": "2022-05-11T01:31:04.078Z"
   },
   {
    "duration": 45,
    "start_time": "2022-05-11T01:31:04.087Z"
   },
   {
    "duration": 6,
    "start_time": "2022-05-11T01:31:04.137Z"
   },
   {
    "duration": 8,
    "start_time": "2022-05-11T01:31:04.145Z"
   },
   {
    "duration": 17,
    "start_time": "2022-05-11T01:31:04.156Z"
   },
   {
    "duration": 64,
    "start_time": "2022-05-11T01:31:04.176Z"
   },
   {
    "duration": 8,
    "start_time": "2022-05-11T01:31:04.243Z"
   },
   {
    "duration": 805,
    "start_time": "2022-05-11T01:31:04.253Z"
   },
   {
    "duration": 12322,
    "start_time": "2022-05-11T01:31:05.060Z"
   },
   {
    "duration": 24684,
    "start_time": "2022-05-11T01:31:17.384Z"
   },
   {
    "duration": 370,
    "start_time": "2022-05-11T01:31:42.070Z"
   },
   {
    "duration": 102,
    "start_time": "2022-05-11T01:31:42.447Z"
   },
   {
    "duration": 244,
    "start_time": "2022-05-11T01:31:42.552Z"
   },
   {
    "duration": 0,
    "start_time": "2022-05-11T01:31:42.799Z"
   },
   {
    "duration": 0,
    "start_time": "2022-05-11T01:31:42.801Z"
   },
   {
    "duration": 0,
    "start_time": "2022-05-11T01:31:42.803Z"
   },
   {
    "duration": 339,
    "start_time": "2022-05-11T01:33:03.879Z"
   },
   {
    "duration": 1995,
    "start_time": "2022-05-11T01:34:57.425Z"
   },
   {
    "duration": 51,
    "start_time": "2022-05-11T01:34:59.423Z"
   },
   {
    "duration": 28,
    "start_time": "2022-05-11T01:34:59.477Z"
   },
   {
    "duration": 80,
    "start_time": "2022-05-11T01:34:59.508Z"
   },
   {
    "duration": 8,
    "start_time": "2022-05-11T01:34:59.592Z"
   },
   {
    "duration": 6,
    "start_time": "2022-05-11T01:34:59.635Z"
   },
   {
    "duration": 27,
    "start_time": "2022-05-11T01:34:59.643Z"
   },
   {
    "duration": 10,
    "start_time": "2022-05-11T01:34:59.672Z"
   },
   {
    "duration": 5,
    "start_time": "2022-05-11T01:34:59.684Z"
   },
   {
    "duration": 59,
    "start_time": "2022-05-11T01:34:59.691Z"
   },
   {
    "duration": 32,
    "start_time": "2022-05-11T01:34:59.752Z"
   },
   {
    "duration": 7,
    "start_time": "2022-05-11T01:34:59.786Z"
   },
   {
    "duration": 45,
    "start_time": "2022-05-11T01:34:59.796Z"
   },
   {
    "duration": 6,
    "start_time": "2022-05-11T01:34:59.845Z"
   },
   {
    "duration": 14,
    "start_time": "2022-05-11T01:34:59.853Z"
   },
   {
    "duration": 14,
    "start_time": "2022-05-11T01:34:59.869Z"
   },
   {
    "duration": 74,
    "start_time": "2022-05-11T01:34:59.886Z"
   },
   {
    "duration": 6,
    "start_time": "2022-05-11T01:34:59.963Z"
   },
   {
    "duration": 795,
    "start_time": "2022-05-11T01:34:59.971Z"
   },
   {
    "duration": 11937,
    "start_time": "2022-05-11T01:35:00.768Z"
   },
   {
    "duration": 25185,
    "start_time": "2022-05-11T01:35:12.707Z"
   },
   {
    "duration": 547,
    "start_time": "2022-05-11T01:35:37.895Z"
   },
   {
    "duration": 105,
    "start_time": "2022-05-11T01:35:38.446Z"
   },
   {
    "duration": 982,
    "start_time": "2022-05-11T01:35:38.555Z"
   },
   {
    "duration": 15,
    "start_time": "2022-05-11T01:35:39.540Z"
   },
   {
    "duration": 13,
    "start_time": "2022-05-11T01:35:39.558Z"
   },
   {
    "duration": 203,
    "start_time": "2022-05-11T01:35:39.573Z"
   },
   {
    "duration": 1017,
    "start_time": "2022-05-11T01:37:26.022Z"
   },
   {
    "duration": 1309,
    "start_time": "2022-05-11T01:37:50.546Z"
   },
   {
    "duration": 1223,
    "start_time": "2022-05-11T01:38:19.708Z"
   },
   {
    "duration": 1263,
    "start_time": "2022-05-11T01:39:55.342Z"
   },
   {
    "duration": 738,
    "start_time": "2022-05-11T01:47:36.003Z"
   },
   {
    "duration": 762,
    "start_time": "2022-05-11T01:48:49.474Z"
   },
   {
    "duration": 19,
    "start_time": "2022-05-11T01:50:38.570Z"
   },
   {
    "duration": 505,
    "start_time": "2022-05-11T01:53:15.638Z"
   },
   {
    "duration": 19,
    "start_time": "2022-05-11T01:55:12.712Z"
   },
   {
    "duration": 620,
    "start_time": "2022-05-11T01:55:50.918Z"
   },
   {
    "duration": 1184,
    "start_time": "2022-05-11T01:56:37.942Z"
   },
   {
    "duration": 1160,
    "start_time": "2022-05-11T01:58:23.890Z"
   },
   {
    "duration": 1563,
    "start_time": "2022-05-11T02:00:13.000Z"
   },
   {
    "duration": 11850,
    "start_time": "2022-05-11T02:07:16.852Z"
   },
   {
    "duration": 12029,
    "start_time": "2022-05-11T02:07:50.387Z"
   },
   {
    "duration": 23184,
    "start_time": "2022-05-11T02:08:22.461Z"
   },
   {
    "duration": 20402,
    "start_time": "2022-05-11T02:09:44.116Z"
   },
   {
    "duration": 147046,
    "start_time": "2022-05-11T02:10:16.948Z"
   },
   {
    "duration": 7693,
    "start_time": "2022-05-11T02:12:43.997Z"
   },
   {
    "duration": 135,
    "start_time": "2022-05-11T02:22:10.780Z"
   },
   {
    "duration": 62728,
    "start_time": "2022-05-11T02:23:32.212Z"
   },
   {
    "duration": 56628,
    "start_time": "2022-05-11T02:36:43.593Z"
   },
   {
    "duration": 12728,
    "start_time": "2022-05-11T02:46:12.685Z"
   },
   {
    "duration": 2039,
    "start_time": "2022-05-11T02:47:24.902Z"
   },
   {
    "duration": 47,
    "start_time": "2022-05-11T02:47:26.944Z"
   },
   {
    "duration": 37,
    "start_time": "2022-05-11T02:47:26.993Z"
   },
   {
    "duration": 59,
    "start_time": "2022-05-11T02:47:27.034Z"
   },
   {
    "duration": 8,
    "start_time": "2022-05-11T02:47:27.095Z"
   },
   {
    "duration": 31,
    "start_time": "2022-05-11T02:47:27.105Z"
   },
   {
    "duration": 24,
    "start_time": "2022-05-11T02:47:27.140Z"
   },
   {
    "duration": 9,
    "start_time": "2022-05-11T02:47:27.166Z"
   },
   {
    "duration": 8,
    "start_time": "2022-05-11T02:47:27.177Z"
   },
   {
    "duration": 26,
    "start_time": "2022-05-11T02:47:27.229Z"
   },
   {
    "duration": 28,
    "start_time": "2022-05-11T02:47:27.257Z"
   },
   {
    "duration": 6,
    "start_time": "2022-05-11T02:47:27.287Z"
   },
   {
    "duration": 14,
    "start_time": "2022-05-11T02:47:27.325Z"
   },
   {
    "duration": 5,
    "start_time": "2022-05-11T02:47:27.345Z"
   },
   {
    "duration": 8,
    "start_time": "2022-05-11T02:47:27.352Z"
   },
   {
    "duration": 13,
    "start_time": "2022-05-11T02:47:27.362Z"
   },
   {
    "duration": 87,
    "start_time": "2022-05-11T02:47:27.378Z"
   },
   {
    "duration": 6,
    "start_time": "2022-05-11T02:47:27.468Z"
   },
   {
    "duration": 775,
    "start_time": "2022-05-11T02:47:27.476Z"
   },
   {
    "duration": 11968,
    "start_time": "2022-05-11T02:47:28.253Z"
   },
   {
    "duration": 24453,
    "start_time": "2022-05-11T02:47:40.230Z"
   },
   {
    "duration": 550,
    "start_time": "2022-05-11T02:48:04.685Z"
   },
   {
    "duration": 97,
    "start_time": "2022-05-11T02:48:05.241Z"
   },
   {
    "duration": 1204,
    "start_time": "2022-05-11T02:48:05.341Z"
   },
   {
    "duration": 1242,
    "start_time": "2022-05-11T02:48:06.547Z"
   },
   {
    "duration": 744,
    "start_time": "2022-05-11T02:48:07.792Z"
   },
   {
    "duration": 104,
    "start_time": "2022-05-11T02:48:08.540Z"
   },
   {
    "duration": 584,
    "start_time": "2022-05-11T02:48:08.649Z"
   },
   {
    "duration": 18,
    "start_time": "2022-05-11T02:48:09.236Z"
   },
   {
    "duration": 1188,
    "start_time": "2022-05-11T02:48:09.256Z"
   },
   {
    "duration": 1567,
    "start_time": "2022-05-11T02:48:10.447Z"
   },
   {
    "duration": 23480,
    "start_time": "2022-05-11T02:48:12.025Z"
   },
   {
    "duration": 55994,
    "start_time": "2022-05-11T02:48:35.507Z"
   },
   {
    "duration": 7558,
    "start_time": "2022-05-11T02:49:31.504Z"
   },
   {
    "duration": 63532,
    "start_time": "2022-05-11T02:49:39.064Z"
   },
   {
    "duration": 7106,
    "start_time": "2022-05-11T02:50:42.599Z"
   },
   {
    "duration": 0,
    "start_time": "2022-05-11T02:50:49.708Z"
   },
   {
    "duration": 7080,
    "start_time": "2022-05-11T02:52:26.666Z"
   },
   {
    "duration": 6890,
    "start_time": "2022-05-11T02:52:58.040Z"
   },
   {
    "duration": 7624,
    "start_time": "2022-05-11T02:55:24.154Z"
   },
   {
    "duration": 55346,
    "start_time": "2022-05-11T02:56:19.299Z"
   },
   {
    "duration": 12202,
    "start_time": "2022-05-11T02:58:35.839Z"
   },
   {
    "duration": 13617,
    "start_time": "2022-05-11T02:58:57.356Z"
   },
   {
    "duration": 2106,
    "start_time": "2022-05-11T03:21:19.746Z"
   },
   {
    "duration": 50,
    "start_time": "2022-05-11T03:21:21.855Z"
   },
   {
    "duration": 35,
    "start_time": "2022-05-11T03:21:21.908Z"
   },
   {
    "duration": 94,
    "start_time": "2022-05-11T03:21:21.948Z"
   },
   {
    "duration": 8,
    "start_time": "2022-05-11T03:21:22.044Z"
   },
   {
    "duration": 13,
    "start_time": "2022-05-11T03:21:22.054Z"
   },
   {
    "duration": 35,
    "start_time": "2022-05-11T03:21:22.069Z"
   },
   {
    "duration": 14,
    "start_time": "2022-05-11T03:21:22.130Z"
   },
   {
    "duration": 10,
    "start_time": "2022-05-11T03:21:22.146Z"
   },
   {
    "duration": 20,
    "start_time": "2022-05-11T03:21:22.160Z"
   },
   {
    "duration": 71,
    "start_time": "2022-05-11T03:21:22.182Z"
   },
   {
    "duration": 6,
    "start_time": "2022-05-11T03:21:22.255Z"
   },
   {
    "duration": 12,
    "start_time": "2022-05-11T03:21:22.264Z"
   },
   {
    "duration": 6,
    "start_time": "2022-05-11T03:21:22.278Z"
   },
   {
    "duration": 40,
    "start_time": "2022-05-11T03:21:22.286Z"
   },
   {
    "duration": 14,
    "start_time": "2022-05-11T03:21:22.334Z"
   },
   {
    "duration": 46,
    "start_time": "2022-05-11T03:21:22.350Z"
   },
   {
    "duration": 29,
    "start_time": "2022-05-11T03:21:22.398Z"
   },
   {
    "duration": 777,
    "start_time": "2022-05-11T03:21:22.430Z"
   },
   {
    "duration": 12171,
    "start_time": "2022-05-11T03:21:23.209Z"
   },
   {
    "duration": 24598,
    "start_time": "2022-05-11T03:21:35.382Z"
   },
   {
    "duration": 649,
    "start_time": "2022-05-11T03:21:59.982Z"
   },
   {
    "duration": 26,
    "start_time": "2022-05-11T03:22:00.724Z"
   },
   {
    "duration": 1395,
    "start_time": "2022-05-11T03:22:00.752Z"
   },
   {
    "duration": 1289,
    "start_time": "2022-05-11T03:22:02.149Z"
   },
   {
    "duration": 707,
    "start_time": "2022-05-11T03:22:03.441Z"
   },
   {
    "duration": 112,
    "start_time": "2022-05-11T03:22:04.230Z"
   },
   {
    "duration": 594,
    "start_time": "2022-05-11T03:22:04.347Z"
   },
   {
    "duration": 16,
    "start_time": "2022-05-11T03:22:04.944Z"
   },
   {
    "duration": 1186,
    "start_time": "2022-05-11T03:22:04.963Z"
   },
   {
    "duration": 1589,
    "start_time": "2022-05-11T03:22:06.152Z"
   },
   {
    "duration": 23710,
    "start_time": "2022-05-11T03:22:07.743Z"
   },
   {
    "duration": 55392,
    "start_time": "2022-05-11T03:22:31.455Z"
   },
   {
    "duration": 7848,
    "start_time": "2022-05-11T03:23:26.850Z"
   },
   {
    "duration": 63272,
    "start_time": "2022-05-11T03:23:34.700Z"
   },
   {
    "duration": 55625,
    "start_time": "2022-05-11T03:24:37.974Z"
   },
   {
    "duration": 12225,
    "start_time": "2022-05-11T03:25:33.602Z"
   },
   {
    "duration": 13682,
    "start_time": "2022-05-11T03:25:45.834Z"
   }
  ],
  "kernelspec": {
   "display_name": "Python 3 (ipykernel)",
   "language": "python",
   "name": "python3"
  },
  "language_info": {
   "codemirror_mode": {
    "name": "ipython",
    "version": 3
   },
   "file_extension": ".py",
   "mimetype": "text/x-python",
   "name": "python",
   "nbconvert_exporter": "python",
   "pygments_lexer": "ipython3",
   "version": "3.9.7"
  },
  "toc": {
   "base_numbering": 1,
   "nav_menu": {},
   "number_sections": true,
   "sideBar": true,
   "skip_h1_title": true,
   "title_cell": "Содержание",
   "title_sidebar": "Contents",
   "toc_cell": true,
   "toc_position": {
    "height": "calc(100% - 180px)",
    "left": "10px",
    "top": "150px",
    "width": "225.391px"
   },
   "toc_section_display": true,
   "toc_window_display": true
  }
 },
 "nbformat": 4,
 "nbformat_minor": 2
}
