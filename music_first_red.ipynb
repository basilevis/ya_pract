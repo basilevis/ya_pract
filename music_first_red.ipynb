{
 "cells": [
  {
   "cell_type": "markdown",
   "metadata": {
    "id": "E0vqbgi9ay0H"
   },
   "source": [
    "# Яндекс.Музыка"
   ]
  },
  {
   "cell_type": "markdown",
   "metadata": {
    "id": "VUC88oWjTJw2"
   },
   "source": [
    "Сравнение Москвы и Петербурга окружено мифами. Например:\n",
    " * Москва — мегаполис, подчинённый жёсткому ритму рабочей недели;\n",
    " * Петербург — культурная столица, со своими вкусами.\n",
    "\n",
    "На данных Яндекс.Музыки вы сравните поведение пользователей двух столиц.\n",
    "\n",
    "**Цель исследования** — проверьте три гипотезы:\n",
    "1. Активность пользователей зависит от дня недели. Причём в Москве и Петербурге это проявляется по-разному.\n",
    "2. В понедельник утром в Москве преобладают одни жанры, а в Петербурге — другие. Так же и вечером пятницы преобладают разные жанры — в зависимости от города. \n",
    "3. Москва и Петербург предпочитают разные жанры музыки. В Москве чаще слушают поп-музыку, в Петербурге — русский рэп.\n",
    "\n",
    "**Ход исследования**\n",
    "\n",
    "Данные о поведении пользователей вы получите из файла `yandex_music_project.csv`. О качестве данных ничего не известно. Поэтому перед проверкой гипотез понадобится обзор данных. \n",
    "\n",
    "Вы проверите данные на ошибки и оцените их влияние на исследование. Затем, на этапе предобработки вы поищете возможность исправить самые критичные ошибки данных.\n",
    " \n",
    "Таким образом, исследование пройдёт в три этапа:\n",
    " 1. Обзор данных.\n",
    " 2. Предобработка данных.\n",
    " 3. Проверка гипотез.\n",
    "\n"
   ]
  },
  {
   "cell_type": "markdown",
   "metadata": {
    "id": "Ml1hmfXC_Zcs"
   },
   "source": [
    "## Обзор данных\n",
    "\n",
    "Составьте первое представление о данных Яндекс.Музыки.\n",
    "\n",
    "\n"
   ]
  },
  {
   "cell_type": "markdown",
   "metadata": {
    "id": "57eAOGIz_Zcs"
   },
   "source": [
    "Основной инструмент аналитика — `pandas`. Импортируйте эту библиотеку."
   ]
  },
  {
   "cell_type": "code",
   "execution_count": 1,
   "metadata": {
    "id": "AXN7PHPN_Zcs"
   },
   "outputs": [],
   "source": [
    "import pandas as pd"
   ]
  },
  {
   "cell_type": "markdown",
   "metadata": {
    "id": "SG23P8tt_Zcs"
   },
   "source": [
    "Прочитайте файл `yandex_music_project.csv` из папки `/datasets` и сохраните его в переменной `df`:"
   ]
  },
  {
   "cell_type": "code",
   "execution_count": 2,
   "metadata": {
    "id": "fFVu7vqh_Zct"
   },
   "outputs": [],
   "source": [
    "df = pd.read_csv('/datasets/music_project.csv')"
   ]
  },
  {
   "cell_type": "markdown",
   "metadata": {
    "id": "rDoOMd3uTqnZ"
   },
   "source": [
    "Выведите на экран первые десять строк таблицы:"
   ]
  },
  {
   "cell_type": "code",
   "execution_count": 3,
   "metadata": {
    "id": "oWTVX3gW_Zct"
   },
   "outputs": [
    {
     "data": {
      "text/html": [
       "<div>\n",
       "<style scoped>\n",
       "    .dataframe tbody tr th:only-of-type {\n",
       "        vertical-align: middle;\n",
       "    }\n",
       "\n",
       "    .dataframe tbody tr th {\n",
       "        vertical-align: top;\n",
       "    }\n",
       "\n",
       "    .dataframe thead th {\n",
       "        text-align: right;\n",
       "    }\n",
       "</style>\n",
       "<table border=\"1\" class=\"dataframe\">\n",
       "  <thead>\n",
       "    <tr style=\"text-align: right;\">\n",
       "      <th></th>\n",
       "      <th>userID</th>\n",
       "      <th>Track</th>\n",
       "      <th>artist</th>\n",
       "      <th>genre</th>\n",
       "      <th>City</th>\n",
       "      <th>time</th>\n",
       "      <th>Day</th>\n",
       "    </tr>\n",
       "  </thead>\n",
       "  <tbody>\n",
       "    <tr>\n",
       "      <td>0</td>\n",
       "      <td>FFB692EC</td>\n",
       "      <td>Kamigata To Boots</td>\n",
       "      <td>The Mass Missile</td>\n",
       "      <td>rock</td>\n",
       "      <td>Saint-Petersburg</td>\n",
       "      <td>20:28:33</td>\n",
       "      <td>Wednesday</td>\n",
       "    </tr>\n",
       "    <tr>\n",
       "      <td>1</td>\n",
       "      <td>55204538</td>\n",
       "      <td>Delayed Because of Accident</td>\n",
       "      <td>Andreas Rönnberg</td>\n",
       "      <td>rock</td>\n",
       "      <td>Moscow</td>\n",
       "      <td>14:07:09</td>\n",
       "      <td>Friday</td>\n",
       "    </tr>\n",
       "    <tr>\n",
       "      <td>2</td>\n",
       "      <td>20EC38</td>\n",
       "      <td>Funiculì funiculà</td>\n",
       "      <td>Mario Lanza</td>\n",
       "      <td>pop</td>\n",
       "      <td>Saint-Petersburg</td>\n",
       "      <td>20:58:07</td>\n",
       "      <td>Wednesday</td>\n",
       "    </tr>\n",
       "    <tr>\n",
       "      <td>3</td>\n",
       "      <td>A3DD03C9</td>\n",
       "      <td>Dragons in the Sunset</td>\n",
       "      <td>Fire + Ice</td>\n",
       "      <td>folk</td>\n",
       "      <td>Saint-Petersburg</td>\n",
       "      <td>08:37:09</td>\n",
       "      <td>Monday</td>\n",
       "    </tr>\n",
       "    <tr>\n",
       "      <td>4</td>\n",
       "      <td>E2DC1FAE</td>\n",
       "      <td>Soul People</td>\n",
       "      <td>Space Echo</td>\n",
       "      <td>dance</td>\n",
       "      <td>Moscow</td>\n",
       "      <td>08:34:34</td>\n",
       "      <td>Monday</td>\n",
       "    </tr>\n",
       "    <tr>\n",
       "      <td>5</td>\n",
       "      <td>842029A1</td>\n",
       "      <td>Преданная</td>\n",
       "      <td>IMPERVTOR</td>\n",
       "      <td>rusrap</td>\n",
       "      <td>Saint-Petersburg</td>\n",
       "      <td>13:09:41</td>\n",
       "      <td>Friday</td>\n",
       "    </tr>\n",
       "    <tr>\n",
       "      <td>6</td>\n",
       "      <td>4CB90AA5</td>\n",
       "      <td>True</td>\n",
       "      <td>Roman Messer</td>\n",
       "      <td>dance</td>\n",
       "      <td>Moscow</td>\n",
       "      <td>13:00:07</td>\n",
       "      <td>Wednesday</td>\n",
       "    </tr>\n",
       "    <tr>\n",
       "      <td>7</td>\n",
       "      <td>F03E1C1F</td>\n",
       "      <td>Feeling This Way</td>\n",
       "      <td>Polina Griffith</td>\n",
       "      <td>dance</td>\n",
       "      <td>Moscow</td>\n",
       "      <td>20:47:49</td>\n",
       "      <td>Wednesday</td>\n",
       "    </tr>\n",
       "    <tr>\n",
       "      <td>8</td>\n",
       "      <td>8FA1D3BE</td>\n",
       "      <td>И вновь продолжается бой</td>\n",
       "      <td>NaN</td>\n",
       "      <td>ruspop</td>\n",
       "      <td>Moscow</td>\n",
       "      <td>09:17:40</td>\n",
       "      <td>Friday</td>\n",
       "    </tr>\n",
       "    <tr>\n",
       "      <td>9</td>\n",
       "      <td>E772D5C0</td>\n",
       "      <td>Pessimist</td>\n",
       "      <td>NaN</td>\n",
       "      <td>dance</td>\n",
       "      <td>Saint-Petersburg</td>\n",
       "      <td>21:20:49</td>\n",
       "      <td>Wednesday</td>\n",
       "    </tr>\n",
       "  </tbody>\n",
       "</table>\n",
       "</div>"
      ],
      "text/plain": [
       "     userID                        Track            artist   genre  \\\n",
       "0  FFB692EC            Kamigata To Boots  The Mass Missile    rock   \n",
       "1  55204538  Delayed Because of Accident  Andreas Rönnberg    rock   \n",
       "2    20EC38            Funiculì funiculà       Mario Lanza     pop   \n",
       "3  A3DD03C9        Dragons in the Sunset        Fire + Ice    folk   \n",
       "4  E2DC1FAE                  Soul People        Space Echo   dance   \n",
       "5  842029A1                    Преданная         IMPERVTOR  rusrap   \n",
       "6  4CB90AA5                         True      Roman Messer   dance   \n",
       "7  F03E1C1F             Feeling This Way   Polina Griffith   dance   \n",
       "8  8FA1D3BE     И вновь продолжается бой               NaN  ruspop   \n",
       "9  E772D5C0                    Pessimist               NaN   dance   \n",
       "\n",
       "             City        time        Day  \n",
       "0  Saint-Petersburg  20:28:33  Wednesday  \n",
       "1            Moscow  14:07:09     Friday  \n",
       "2  Saint-Petersburg  20:58:07  Wednesday  \n",
       "3  Saint-Petersburg  08:37:09     Monday  \n",
       "4            Moscow  08:34:34     Monday  \n",
       "5  Saint-Petersburg  13:09:41     Friday  \n",
       "6            Moscow  13:00:07  Wednesday  \n",
       "7            Moscow  20:47:49  Wednesday  \n",
       "8            Moscow  09:17:40     Friday  \n",
       "9  Saint-Petersburg  21:20:49  Wednesday  "
      ]
     },
     "execution_count": 3,
     "metadata": {},
     "output_type": "execute_result"
    }
   ],
   "source": [
    "df.head(10)"
   ]
  },
  {
   "cell_type": "markdown",
   "metadata": {
    "id": "EO73Kwic_Zct"
   },
   "source": [
    "Одной командой получить общую информацию о таблице:"
   ]
  },
  {
   "cell_type": "code",
   "execution_count": 4,
   "metadata": {
    "id": "DSf2kIb-_Zct"
   },
   "outputs": [
    {
     "name": "stdout",
     "output_type": "stream",
     "text": [
      "<class 'pandas.core.frame.DataFrame'>\n",
      "RangeIndex: 65079 entries, 0 to 65078\n",
      "Data columns (total 7 columns):\n",
      "  userID    65079 non-null object\n",
      "Track       63848 non-null object\n",
      "artist      57876 non-null object\n",
      "genre       63881 non-null object\n",
      "  City      65079 non-null object\n",
      "time        65079 non-null object\n",
      "Day         65079 non-null object\n",
      "dtypes: object(7)\n",
      "memory usage: 3.5+ MB\n"
     ]
    }
   ],
   "source": [
    "df.info()"
   ]
  },
  {
   "cell_type": "markdown",
   "metadata": {
    "id": "TaQ2Iwbr_Zct"
   },
   "source": [
    "Итак, в таблице семь столбцов. Тип данных во всех столбцах — `object`.\n",
    "\n",
    "Согласно документации к данным:\n",
    "* `userID` — идентификатор пользователя;\n",
    "* `Track` — название трека;  \n",
    "* `artist` — имя исполнителя;\n",
    "* `genre` — название жанра;\n",
    "* `City` — город пользователя;\n",
    "* `time` — время начала прослушивания;\n",
    "* `Day` — день недели.\n",
    "\n",
    "В названиях колонок видны три нарушения стиля:\n",
    "1. Строчные буквы сочетаются с прописными.\n",
    "2. Встречаются пробелы.\n",
    "3. Не используеются подчеркивания для разделения слов\n",
    "\n",
    "\n",
    "Количество значений в столбцах различается. Значит, в данных есть пропущенные значения.\n"
   ]
  },
  {
   "cell_type": "markdown",
   "metadata": {
    "id": "MCB6-dXG_Zct"
   },
   "source": [
    "**Выводы**\n",
    "\n",
    "В каждой строке таблицы — данные о прослушанном треке. Часть колонок описывает саму композицию: название, исполнителя и жанр. Остальные данные рассказывают о пользователе: из какого он города, когда он слушал музыку. \n",
    "\n",
    "Предварительно можно утверждать, что, данных достаточно для проверки гипотез. Но встречаются пропуски в данных, а в названиях колонок — расхождения с хорошим стилем.\n",
    "\n",
    "Чтобы двигаться дальше, нужно устранить проблемы в данных."
   ]
  },
  {
   "cell_type": "markdown",
   "metadata": {
    "id": "SjYF6Ub9_Zct"
   },
   "source": [
    "## Предобработка данных\n",
    "Исправьте стиль в заголовках столбцов, исключите пропуски. Затем проверьте данные на дубликаты."
   ]
  },
  {
   "cell_type": "markdown",
   "metadata": {
    "id": "dIaKXr29_Zct"
   },
   "source": [
    "### Стиль заголовков\n",
    "Выведите на экран названия столбцов:"
   ]
  },
  {
   "cell_type": "code",
   "execution_count": 5,
   "metadata": {
    "id": "oKOTdF_Q_Zct"
   },
   "outputs": [
    {
     "data": {
      "text/plain": [
       "Index(['  userID', 'Track', 'artist', 'genre', '  City  ', 'time', 'Day'], dtype='object')"
      ]
     },
     "execution_count": 5,
     "metadata": {},
     "output_type": "execute_result"
    }
   ],
   "source": [
    "df.columns"
   ]
  },
  {
   "cell_type": "markdown",
   "metadata": {
    "id": "zj5534cv_Zct"
   },
   "source": [
    "Приведите названия в соответствие с хорошим стилем:\n",
    "* несколько слов в названии запишите в «змеином_регистре»,\n",
    "* все символы сделайте строчными,\n",
    "* устраните пробелы.\n",
    "\n",
    "Для этого переименуйте колонки так:\n",
    "* `'  userID'` → `'user_id'`;\n",
    "* `'Track'` → `'track'`;\n",
    "* `'  City  '` → `'city'`;\n",
    "* `'Day'` → `'day'`."
   ]
  },
  {
   "cell_type": "code",
   "execution_count": 6,
   "metadata": {
    "id": "ISlFqs5y_Zct"
   },
   "outputs": [],
   "source": [
    "new_columns = ['user_id', 'track_name', 'artist_name', 'genre_name', 'city', 'time', 'weekday']\n",
    "df.set_axis(new_columns, axis='columns', inplace=True)"
   ]
  },
  {
   "cell_type": "markdown",
   "metadata": {
    "id": "1dqbh00J_Zct"
   },
   "source": [
    "Проверьте результат. Для этого ещё раз выведите на экран названия столбцов:"
   ]
  },
  {
   "cell_type": "code",
   "execution_count": 7,
   "metadata": {
    "id": "d4NOAmTW_Zct"
   },
   "outputs": [
    {
     "data": {
      "text/plain": [
       "Index(['user_id', 'track_name', 'artist_name', 'genre_name', 'city', 'time',\n",
       "       'weekday'],\n",
       "      dtype='object')"
      ]
     },
     "execution_count": 7,
     "metadata": {},
     "output_type": "execute_result"
    }
   ],
   "source": [
    "df.columns "
   ]
  },
  {
   "cell_type": "markdown",
   "metadata": {
    "id": "5ISfbcfY_Zct"
   },
   "source": [
    "### Пропуски значений\n",
    "Сначала посчитайте, сколько в таблице пропущенных значений. Для этого достаточно двух методов `pandas`:"
   ]
  },
  {
   "cell_type": "code",
   "execution_count": 8,
   "metadata": {
    "id": "RskX29qr_Zct"
   },
   "outputs": [
    {
     "data": {
      "text/plain": [
       "user_id           0\n",
       "track_name     1231\n",
       "artist_name    7203\n",
       "genre_name     1198\n",
       "city              0\n",
       "time              0\n",
       "weekday           0\n",
       "dtype: int64"
      ]
     },
     "execution_count": 8,
     "metadata": {},
     "output_type": "execute_result"
    }
   ],
   "source": [
    "df.isna().sum()"
   ]
  },
  {
   "cell_type": "markdown",
   "metadata": {
    "id": "qubhgnlO_Zct"
   },
   "source": [
    "Не все пропущенные значения влияют на исследование. Так в `track` и `artist` пропуски не важны для вашей работы. Достаточно заменить их явными обозначениями.\n",
    "\n",
    "Но пропуски в `genre` могут помешать сравнению музыкальных вкусов в Москве и Санкт-Петербурге. На практике было бы правильно установить причину пропусков и восстановить данные. Такой возможности нет в учебном проекте. Придётся:\n",
    "* заполнить и эти пропуски явными обозначениями,\n",
    "* оценить, насколько они повредят расчётам. "
   ]
  },
  {
   "cell_type": "markdown",
   "metadata": {
    "id": "fSv2laPA_Zct"
   },
   "source": [
    "Замените пропущенные значения в столбцах `track`, `artist` и `genre` на строку `'unknown'`. Для этого создайте список `columns_to_replace`, переберите его элементы циклом `for` и для каждого столбца выполните замену пропущенных значений:"
   ]
  },
  {
   "cell_type": "code",
   "execution_count": 9,
   "metadata": {
    "id": "KplB5qWs_Zct"
   },
   "outputs": [],
   "source": [
    "columns_to_replace = ['track_name', 'artist_name', 'genre_name']\n",
    "for column in columns_to_replace:\n",
    "    df[column] = df[column].fillna('unknown')"
   ]
  },
  {
   "cell_type": "markdown",
   "metadata": {
    "id": "Ilsm-MZo_Zct"
   },
   "source": [
    "Убедитесь, что в таблице не осталось пропусков. Для этого ещё раз посчитайте пропущенные значения."
   ]
  },
  {
   "cell_type": "code",
   "execution_count": 10,
   "metadata": {
    "id": "Tq4nYRX4_Zct"
   },
   "outputs": [
    {
     "data": {
      "text/plain": [
       "user_id        0\n",
       "track_name     0\n",
       "artist_name    0\n",
       "genre_name     0\n",
       "city           0\n",
       "time           0\n",
       "weekday        0\n",
       "dtype: int64"
      ]
     },
     "execution_count": 10,
     "metadata": {},
     "output_type": "execute_result"
    }
   ],
   "source": [
    "df.isnull().sum()"
   ]
  },
  {
   "cell_type": "markdown",
   "metadata": {
    "id": "BWKRtBJ3_Zct"
   },
   "source": [
    "### Дубликаты\n",
    "Посчитайте явные дубликаты в таблице одной командой:"
   ]
  },
  {
   "cell_type": "code",
   "execution_count": 11,
   "metadata": {
    "id": "36eES_S0_Zct"
   },
   "outputs": [
    {
     "data": {
      "text/plain": [
       "3826"
      ]
     },
     "execution_count": 11,
     "metadata": {},
     "output_type": "execute_result"
    }
   ],
   "source": [
    "df.duplicated().sum()"
   ]
  },
  {
   "cell_type": "markdown",
   "metadata": {
    "id": "Ot25h6XR_Zct"
   },
   "source": [
    "Вызовите специальный метод `pandas`, чтобы удалить явные дубликаты:"
   ]
  },
  {
   "cell_type": "code",
   "execution_count": 12,
   "metadata": {
    "id": "exFHq6tt_Zct"
   },
   "outputs": [],
   "source": [
    "df.drop_duplicates(inplace=True)"
   ]
  },
  {
   "cell_type": "markdown",
   "metadata": {
    "id": "Im2YwBEG_Zct"
   },
   "source": [
    "Ещё раз посчитайте явные дубликаты в таблице — убедитесь, что полностью от них избавились:"
   ]
  },
  {
   "cell_type": "code",
   "execution_count": 13,
   "metadata": {
    "id": "-8PuNWQ0_Zct"
   },
   "outputs": [
    {
     "data": {
      "text/plain": [
       "0"
      ]
     },
     "execution_count": 13,
     "metadata": {},
     "output_type": "execute_result"
    }
   ],
   "source": [
    "df.duplicated().sum()"
   ]
  },
  {
   "cell_type": "markdown",
   "metadata": {
    "id": "QlFBsxAr_Zct"
   },
   "source": [
    "Теперь избавьтесь от неявных дубликатов в колонке `genre`. Например, название одного и того же жанра может быть записано немного по-разному. Такие ошибки тоже повлияют на результат исследования."
   ]
  },
  {
   "cell_type": "markdown",
   "metadata": {
    "id": "eSjWwsOh_Zct"
   },
   "source": [
    "Выведите на экран список уникальных названий жанров, отсортированный в алфавитном порядке. Для этого:\n",
    "* извлеките нужный столбец датафрейма, \n",
    "* примените к нему метод сортировки,\n",
    "* для отсортированного столбца вызовите метод, который вернёт уникальные значения из столбца."
   ]
  },
  {
   "cell_type": "code",
   "execution_count": 14,
   "metadata": {
    "id": "JIUcqzZN_Zct"
   },
   "outputs": [
    {
     "data": {
      "text/plain": [
       "array(['acid', 'acoustic', 'action', 'adult', 'africa', 'afrikaans',\n",
       "       'alternative', 'alternativepunk', 'ambient', 'americana',\n",
       "       'animated', 'anime', 'arabesk', 'arabic', 'arena',\n",
       "       'argentinetango', 'art', 'audiobook', 'author', 'avantgarde',\n",
       "       'axé', 'baile', 'balkan', 'beats', 'bigroom', 'black', 'bluegrass',\n",
       "       'blues', 'bollywood', 'bossa', 'brazilian', 'breakbeat', 'breaks',\n",
       "       'broadway', 'cantautori', 'cantopop', 'canzone', 'caribbean',\n",
       "       'caucasian', 'celtic', 'chamber', 'chanson', 'children', 'chill',\n",
       "       'chinese', 'choral', 'christian', 'christmas', 'classical',\n",
       "       'classicmetal', 'club', 'colombian', 'comedy', 'conjazz',\n",
       "       'contemporary', 'country', 'cuban', 'dance', 'dancehall',\n",
       "       'dancepop', 'dark', 'death', 'deep', 'deutschrock', 'deutschspr',\n",
       "       'dirty', 'disco', 'dnb', 'documentary', 'downbeat', 'downtempo',\n",
       "       'drum', 'dub', 'dubstep', 'eastern', 'easy', 'electronic',\n",
       "       'electropop', 'emo', 'entehno', 'epicmetal', 'estrada', 'ethnic',\n",
       "       'eurofolk', 'european', 'experimental', 'extrememetal', 'fado',\n",
       "       'fairytail', 'film', 'fitness', 'flamenco', 'folk', 'folklore',\n",
       "       'folkmetal', 'folkrock', 'folktronica', 'forró', 'frankreich',\n",
       "       'französisch', 'french', 'funk', 'future', 'gangsta', 'garage',\n",
       "       'german', 'ghazal', 'gitarre', 'glitch', 'gospel', 'gothic',\n",
       "       'grime', 'grunge', 'gypsy', 'handsup', \"hard'n'heavy\", 'hardcore',\n",
       "       'hardstyle', 'hardtechno', 'hip', 'hiphop', 'historisch',\n",
       "       'holiday', 'horror', 'house', 'hymn', 'idm', 'independent',\n",
       "       'indian', 'indie', 'indipop', 'industrial', 'inspirational',\n",
       "       'instrumental', 'international', 'irish', 'jam', 'japanese',\n",
       "       'jazz', 'jewish', 'jpop', 'jungle', 'k-pop', 'karadeniz',\n",
       "       'karaoke', 'kayokyoku', 'korean', 'laiko', 'latin', 'latino',\n",
       "       'leftfield', 'local', 'lounge', 'loungeelectronic', 'lovers',\n",
       "       'malaysian', 'mandopop', 'marschmusik', 'meditative',\n",
       "       'mediterranean', 'melodic', 'metal', 'metalcore', 'mexican',\n",
       "       'middle', 'minimal', 'miscellaneous', 'modern', 'mood', 'mpb',\n",
       "       'muslim', 'native', 'neoklassik', 'neue', 'new', 'newage',\n",
       "       'newwave', 'nu', 'nujazz', 'numetal', 'oceania', 'old', 'opera',\n",
       "       'orchestral', 'other', 'piano', 'podcasts', 'pop', 'popdance',\n",
       "       'popelectronic', 'popeurodance', 'poprussian', 'post',\n",
       "       'posthardcore', 'postrock', 'power', 'progmetal', 'progressive',\n",
       "       'psychedelic', 'punjabi', 'punk', 'quebecois', 'ragga', 'ram',\n",
       "       'rancheras', 'rap', 'rave', 'reggae', 'reggaeton', 'regional',\n",
       "       'relax', 'religious', 'retro', 'rhythm', 'rnb', 'rnr', 'rock',\n",
       "       'rockabilly', 'rockalternative', 'rockindie', 'rockother',\n",
       "       'romance', 'roots', 'ruspop', 'rusrap', 'rusrock', 'russian',\n",
       "       'salsa', 'samba', 'scenic', 'schlager', 'self', 'sertanejo',\n",
       "       'shanson', 'shoegazing', 'showtunes', 'singer', 'ska', 'skarock',\n",
       "       'slow', 'smooth', 'soft', 'soul', 'soulful', 'sound', 'soundtrack',\n",
       "       'southern', 'specialty', 'speech', 'spiritual', 'sport',\n",
       "       'stonerrock', 'surf', 'swing', 'synthpop', 'synthrock',\n",
       "       'sängerportrait', 'tango', 'tanzorchester', 'taraftar', 'tatar',\n",
       "       'tech', 'techno', 'teen', 'thrash', 'top', 'traditional',\n",
       "       'tradjazz', 'trance', 'tribal', 'trip', 'triphop', 'tropical',\n",
       "       'türk', 'türkçe', 'ukrrock', 'unknown', 'urban', 'uzbek',\n",
       "       'variété', 'vi', 'videogame', 'vocal', 'western', 'world',\n",
       "       'worldbeat', 'ïîï', 'электроника'], dtype=object)"
      ]
     },
     "execution_count": 14,
     "metadata": {},
     "output_type": "execute_result"
    }
   ],
   "source": [
    "df['genre_name'].sort_values().unique()"
   ]
  },
  {
   "cell_type": "markdown",
   "metadata": {
    "id": "qej-Qmuo_Zct"
   },
   "source": [
    "Просмотрите список и найдите неявные дубликаты названия `hiphop`. Это могут быть названия с ошибками или альтернативные названия того же жанра.\n",
    "\n",
    "Вы увидите следующие неявные дубликаты:\n",
    "* *hip*,\n",
    "* *hop*,\n",
    "* *hip-hop*.\n",
    "\n",
    "Чтобы очистить от них таблицу, напишите функцию `replace_wrong_genres()` с двумя параметрами: \n",
    "* `wrong_genres` — список дубликатов,\n",
    "* `correct_genre` — строка с правильным значением.\n",
    "\n",
    "Функция должна исправить колонку `genre` в таблице `df`: заменить каждое значение из списка `wrong_genres` на значение из `correct_genre`."
   ]
  },
  {
   "cell_type": "code",
   "execution_count": 15,
   "metadata": {
    "id": "ErNDkmns_Zct"
   },
   "outputs": [],
   "source": [
    "def replace_wrong_genres(wrong_genres, correct_genre): \n",
    "    for wrong_genre in wrong_genres:\n",
    "        df['genre_name'] = df['genre_name'].replace(wrong_genre, correct_genre)"
   ]
  },
  {
   "cell_type": "markdown",
   "metadata": {
    "id": "aDoBJxbA_Zct"
   },
   "source": [
    "Вызовите `replace_wrong_genres()` и передайте ей такие аргументы, чтобы она устранила неявные дубликаты: вместо `hip`, `hop` и `hip-hop` в таблице должно быть значение `hiphop`:"
   ]
  },
  {
   "cell_type": "code",
   "execution_count": 16,
   "metadata": {
    "id": "YN5i2hpmSo09"
   },
   "outputs": [],
   "source": [
    "first_genre = ['hip', 'hop', 'hip-hop']\n",
    "second_genre = 'hiphop'\n",
    "replace_wrong_genres(first_genre, second_genre) "
   ]
  },
  {
   "cell_type": "markdown",
   "metadata": {
    "id": "zQKF16_RG15m"
   },
   "source": [
    "Проверьте, что заменили неправильные названия:\n",
    "\n",
    "*   hip\n",
    "*   hop\n",
    "*   hip-hop\n",
    "\n",
    "Выведите отсортированный список уникальных значений столбца `genre`:"
   ]
  },
  {
   "cell_type": "code",
   "execution_count": 17,
   "metadata": {
    "id": "wvixALnFG15m"
   },
   "outputs": [
    {
     "data": {
      "text/plain": [
       "array(['acid', 'acoustic', 'action', 'adult', 'africa', 'afrikaans',\n",
       "       'alternative', 'alternativepunk', 'ambient', 'americana',\n",
       "       'animated', 'anime', 'arabesk', 'arabic', 'arena',\n",
       "       'argentinetango', 'art', 'audiobook', 'author', 'avantgarde',\n",
       "       'axé', 'baile', 'balkan', 'beats', 'bigroom', 'black', 'bluegrass',\n",
       "       'blues', 'bollywood', 'bossa', 'brazilian', 'breakbeat', 'breaks',\n",
       "       'broadway', 'cantautori', 'cantopop', 'canzone', 'caribbean',\n",
       "       'caucasian', 'celtic', 'chamber', 'chanson', 'children', 'chill',\n",
       "       'chinese', 'choral', 'christian', 'christmas', 'classical',\n",
       "       'classicmetal', 'club', 'colombian', 'comedy', 'conjazz',\n",
       "       'contemporary', 'country', 'cuban', 'dance', 'dancehall',\n",
       "       'dancepop', 'dark', 'death', 'deep', 'deutschrock', 'deutschspr',\n",
       "       'dirty', 'disco', 'dnb', 'documentary', 'downbeat', 'downtempo',\n",
       "       'drum', 'dub', 'dubstep', 'eastern', 'easy', 'electronic',\n",
       "       'electropop', 'emo', 'entehno', 'epicmetal', 'estrada', 'ethnic',\n",
       "       'eurofolk', 'european', 'experimental', 'extrememetal', 'fado',\n",
       "       'fairytail', 'film', 'fitness', 'flamenco', 'folk', 'folklore',\n",
       "       'folkmetal', 'folkrock', 'folktronica', 'forró', 'frankreich',\n",
       "       'französisch', 'french', 'funk', 'future', 'gangsta', 'garage',\n",
       "       'german', 'ghazal', 'gitarre', 'glitch', 'gospel', 'gothic',\n",
       "       'grime', 'grunge', 'gypsy', 'handsup', \"hard'n'heavy\", 'hardcore',\n",
       "       'hardstyle', 'hardtechno', 'hiphop', 'historisch', 'holiday',\n",
       "       'horror', 'house', 'hymn', 'idm', 'independent', 'indian', 'indie',\n",
       "       'indipop', 'industrial', 'inspirational', 'instrumental',\n",
       "       'international', 'irish', 'jam', 'japanese', 'jazz', 'jewish',\n",
       "       'jpop', 'jungle', 'k-pop', 'karadeniz', 'karaoke', 'kayokyoku',\n",
       "       'korean', 'laiko', 'latin', 'latino', 'leftfield', 'local',\n",
       "       'lounge', 'loungeelectronic', 'lovers', 'malaysian', 'mandopop',\n",
       "       'marschmusik', 'meditative', 'mediterranean', 'melodic', 'metal',\n",
       "       'metalcore', 'mexican', 'middle', 'minimal', 'miscellaneous',\n",
       "       'modern', 'mood', 'mpb', 'muslim', 'native', 'neoklassik', 'neue',\n",
       "       'new', 'newage', 'newwave', 'nu', 'nujazz', 'numetal', 'oceania',\n",
       "       'old', 'opera', 'orchestral', 'other', 'piano', 'podcasts', 'pop',\n",
       "       'popdance', 'popelectronic', 'popeurodance', 'poprussian', 'post',\n",
       "       'posthardcore', 'postrock', 'power', 'progmetal', 'progressive',\n",
       "       'psychedelic', 'punjabi', 'punk', 'quebecois', 'ragga', 'ram',\n",
       "       'rancheras', 'rap', 'rave', 'reggae', 'reggaeton', 'regional',\n",
       "       'relax', 'religious', 'retro', 'rhythm', 'rnb', 'rnr', 'rock',\n",
       "       'rockabilly', 'rockalternative', 'rockindie', 'rockother',\n",
       "       'romance', 'roots', 'ruspop', 'rusrap', 'rusrock', 'russian',\n",
       "       'salsa', 'samba', 'scenic', 'schlager', 'self', 'sertanejo',\n",
       "       'shanson', 'shoegazing', 'showtunes', 'singer', 'ska', 'skarock',\n",
       "       'slow', 'smooth', 'soft', 'soul', 'soulful', 'sound', 'soundtrack',\n",
       "       'southern', 'specialty', 'speech', 'spiritual', 'sport',\n",
       "       'stonerrock', 'surf', 'swing', 'synthpop', 'synthrock',\n",
       "       'sängerportrait', 'tango', 'tanzorchester', 'taraftar', 'tatar',\n",
       "       'tech', 'techno', 'teen', 'thrash', 'top', 'traditional',\n",
       "       'tradjazz', 'trance', 'tribal', 'trip', 'triphop', 'tropical',\n",
       "       'türk', 'türkçe', 'ukrrock', 'unknown', 'urban', 'uzbek',\n",
       "       'variété', 'vi', 'videogame', 'vocal', 'western', 'world',\n",
       "       'worldbeat', 'ïîï', 'электроника'], dtype=object)"
      ]
     },
     "execution_count": 17,
     "metadata": {},
     "output_type": "execute_result"
    }
   ],
   "source": [
    "df['genre_name'].sort_values().unique()"
   ]
  },
  {
   "cell_type": "markdown",
   "metadata": {
    "id": "jz6a9-7HQUDd"
   },
   "source": [
    "**Выводы**\n",
    "\n",
    "Предобработка обнаружила три проблемы в данных:\n",
    "\n",
    "- нарушения в стиле заголовков,\n",
    "- пропущенные значения,\n",
    "- дубликаты — явные и неявные.\n",
    "\n",
    "Вы исправили заголовки, чтобы упростить работу с таблицей. Без дубликатов исследование станет более точным.\n",
    "\n",
    "Пропущенные значения вы заменили на `'unknown'`. Ещё предстоит увидеть, не повредят ли исследованию пропуски в колонке `genre`.\n",
    "\n",
    "Теперь можно перейти к проверке гипотез. "
   ]
  },
  {
   "cell_type": "markdown",
   "metadata": {
    "id": "WttZHXH0SqKk"
   },
   "source": [
    "## Проверка гипотез"
   ]
  },
  {
   "cell_type": "markdown",
   "metadata": {
    "id": "Im936VVi_Zcu"
   },
   "source": [
    "### Сравнение поведения пользователей двух столиц"
   ]
  },
  {
   "cell_type": "markdown",
   "metadata": {
    "id": "nwt_MuaL_Zcu"
   },
   "source": [
    "Первая гипотеза утверждает, что пользователи по-разному слушают музыку в Москве и Санкт-Петербурге. Проверьте это предположение по данным о трёх днях недели — понедельнике, среде и пятнице. Для этого:\n",
    "\n",
    "* Разделите пользователей Москвы и Санкт-Петербурга\n",
    "* Сравните, сколько треков послушала каждая группа пользователей в понедельник, среду и пятницу.\n"
   ]
  },
  {
   "cell_type": "markdown",
   "metadata": {
    "id": "8Dw_YMmT_Zcu"
   },
   "source": [
    "Для тренировки сначала выполните каждый из расчётов по отдельности. \n",
    "\n",
    "Оцените активность пользователей в каждом городе. Сгруппируйте данные по городу и посчитайте прослушивания в каждой группе.\n",
    "\n"
   ]
  },
  {
   "cell_type": "code",
   "execution_count": 18,
   "metadata": {
    "id": "0_Qs96oh_Zcu"
   },
   "outputs": [
    {
     "data": {
      "text/plain": [
       "city\n",
       "Moscow              42741\n",
       "Saint-Petersburg    18512\n",
       "Name: genre_name, dtype: int64"
      ]
     },
     "execution_count": 18,
     "metadata": {},
     "output_type": "execute_result"
    }
   ],
   "source": [
    "df.groupby('city')['genre_name'].count()"
   ]
  },
  {
   "cell_type": "markdown",
   "metadata": {
    "id": "dzli3w8o_Zcu"
   },
   "source": [
    "В Москве прослушиваний больше, чем в Петербурге. Из этого не следует, что московские пользователи чаще слушают музыку. Просто самих пользователей в Москве больше.\n",
    "\n",
    "Теперь сгруппируйте данные по дню недели и подсчитайте прослушивания в понедельник, среду и пятницу. Учтите, что в данных есть информация только о прослушиваниях только за эти дни.\n"
   ]
  },
  {
   "cell_type": "code",
   "execution_count": 19,
   "metadata": {
    "id": "uZMKjiJz_Zcu"
   },
   "outputs": [
    {
     "data": {
      "text/plain": [
       "weekday\n",
       "Friday       21840\n",
       "Monday       21354\n",
       "Wednesday    18059\n",
       "Name: genre_name, dtype: int64"
      ]
     },
     "execution_count": 19,
     "metadata": {},
     "output_type": "execute_result"
    }
   ],
   "source": [
    "df.groupby('weekday')['genre_name'].count()"
   ]
  },
  {
   "cell_type": "markdown",
   "metadata": {
    "id": "cC2tNrlL_Zcu"
   },
   "source": [
    "В среднем пользователи из двух городов менее активны по средам. Но картина может измениться, если рассмотреть каждый город в отдельности."
   ]
  },
  {
   "cell_type": "markdown",
   "metadata": {
    "id": "POzs8bGa_Zcu"
   },
   "source": [
    "Вы видели, как работает группировка по городу и по дням недели. Теперь напишите функцию, которая объединит два эти расчёта.\n",
    "\n",
    "Создайте функцию `number_tracks()`, которая посчитает прослушивания для заданного дня и города. Ей понадобятся два параметра:\n",
    "* день недели,\n",
    "* название города.\n",
    "\n",
    "В функции сохраните в переменную строки исходной таблицы, у которых значение:\n",
    "  * в колонке `day` равно параметру `day`,\n",
    "  * в колонке `city` равно параметру `city`.\n",
    "\n",
    "Для этого примените последовательную фильтрацию с логической индексацией.\n",
    "\n",
    "Затем посчитайте значения в столбце `user_id` получившейся таблицы. Результат сохраните в новую переменную. Верните эту переменную из функции."
   ]
  },
  {
   "cell_type": "code",
   "execution_count": 20,
   "metadata": {
    "id": "Nz3GdQB1_Zcu"
   },
   "outputs": [],
   "source": [
    "\n",
    "def number_tracks(day, city):                      \n",
    "    track_list=df[(df['weekday']==day) & (df['city']==city)]\n",
    "    track_list_count = track_list['user_id'].count()\n",
    "    return track_list_count\n"
   ]
  },
  {
   "cell_type": "markdown",
   "metadata": {
    "id": "ytf7xFrFJQ2r"
   },
   "source": [
    "Вызовите `number_tracks()` шесть раз, меняя значение параметров — так, чтобы получить данные для каждого города в каждый из трёх дней."
   ]
  },
  {
   "cell_type": "code",
   "execution_count": 21,
   "metadata": {
    "id": "rJcRATNQ_Zcu"
   },
   "outputs": [
    {
     "data": {
      "text/plain": [
       "15740"
      ]
     },
     "execution_count": 21,
     "metadata": {},
     "output_type": "execute_result"
    }
   ],
   "source": [
    "number_tracks('Monday', 'Moscow')"
   ]
  },
  {
   "cell_type": "code",
   "execution_count": 22,
   "metadata": {
    "id": "hq_ncZ5T_Zcu"
   },
   "outputs": [
    {
     "data": {
      "text/plain": [
       "5614"
      ]
     },
     "execution_count": 22,
     "metadata": {},
     "output_type": "execute_result"
    }
   ],
   "source": [
    "number_tracks('Monday', 'Saint-Petersburg')"
   ]
  },
  {
   "cell_type": "code",
   "execution_count": 23,
   "metadata": {
    "id": "_NTy2VPU_Zcu"
   },
   "outputs": [
    {
     "data": {
      "text/plain": [
       "11056"
      ]
     },
     "execution_count": 23,
     "metadata": {},
     "output_type": "execute_result"
    }
   ],
   "source": [
    "number_tracks('Wednesday', 'Moscow')\n"
   ]
  },
  {
   "cell_type": "code",
   "execution_count": 24,
   "metadata": {
    "id": "j2y3TAwo_Zcu"
   },
   "outputs": [
    {
     "data": {
      "text/plain": [
       "7003"
      ]
     },
     "execution_count": 24,
     "metadata": {},
     "output_type": "execute_result"
    }
   ],
   "source": [
    "number_tracks('Wednesday', 'Saint-Petersburg')\n"
   ]
  },
  {
   "cell_type": "code",
   "execution_count": 25,
   "metadata": {
    "id": "vYDw5u_K_Zcu"
   },
   "outputs": [
    {
     "data": {
      "text/plain": [
       "15945"
      ]
     },
     "execution_count": 25,
     "metadata": {},
     "output_type": "execute_result"
    }
   ],
   "source": [
    "number_tracks('Friday', 'Moscow')"
   ]
  },
  {
   "cell_type": "code",
   "execution_count": 26,
   "metadata": {
    "id": "8_yzFtW3_Zcu"
   },
   "outputs": [
    {
     "data": {
      "text/plain": [
       "5895"
      ]
     },
     "execution_count": 26,
     "metadata": {},
     "output_type": "execute_result"
    }
   ],
   "source": [
    "number_tracks('Friday', 'Saint-Petersburg')"
   ]
  },
  {
   "cell_type": "markdown",
   "metadata": {
    "id": "7QXffbO-_Zcu"
   },
   "source": [
    "Создайте c помощью конструктора `pd.DataFrame` таблицу, где\n",
    "* названия колонок — `['city', 'monday', 'wednesday', 'friday']`;\n",
    "* данные — результаты, которые вы получили с помощью `number_tracks`."
   ]
  },
  {
   "cell_type": "code",
   "execution_count": 27,
   "metadata": {
    "id": "APAcLpOr_Zcu"
   },
   "outputs": [
    {
     "name": "stdout",
     "output_type": "stream",
     "text": [
      "               city  monday  wednesday  friday\n",
      "0            Moscow   15740      11056   15945\n",
      "1  Saint-Petersburg    5614       7003    5895\n"
     ]
    }
   ],
   "source": [
    "data = [['Moscow', 15740, 11056, 15945],\n",
    "        ['Saint-Petersburg', 5614, 7003, 5895]] \n",
    "columns = ['city', 'monday', 'wednesday', 'friday'] \n",
    "table = pd.DataFrame(data = data, columns = columns) \n",
    "df.head()\n",
    "print(table)"
   ]
  },
  {
   "cell_type": "markdown",
   "metadata": {
    "id": "-EgPIHYu_Zcu"
   },
   "source": [
    "**Выводы**\n",
    "\n",
    "Данные показывают разницу поведения пользователей:\n",
    "\n",
    "- В Москве пик прослушиваний приходится на понедельник и пятницу, а в среду заметен спад.\n",
    "- В Петербурге, наоборот, больше слушают музыку по средам. Активность в понедельник и пятницу здесь почти в равной мере уступает среде.\n",
    "\n",
    "Значит, данные говорят в пользу первой гипотезы."
   ]
  },
  {
   "cell_type": "markdown",
   "metadata": {
    "id": "atZAxtq4_Zcu"
   },
   "source": [
    "### Музыка в начале и в конце недели"
   ]
  },
  {
   "cell_type": "markdown",
   "metadata": {
    "id": "eXrQqXFH_Zcu"
   },
   "source": [
    "Согласно второй гипотезе, утром в понедельник в Москве преобладают одни жанры, а в Петербурге — другие. Так же и вечером пятницы преобладают разные жанры — в зависимости от города."
   ]
  },
  {
   "cell_type": "markdown",
   "metadata": {
    "id": "S8UcW6Hw_Zcu"
   },
   "source": [
    "Сохраните таблицы с данными в две переменные:\n",
    "* по Москве — в `moscow_general`;\n",
    "* по Санкт-Петербургу — в `spb_general`."
   ]
  },
  {
   "cell_type": "code",
   "execution_count": 28,
   "metadata": {
    "id": "qeaFfM_P_Zcu"
   },
   "outputs": [],
   "source": [
    "moscow_general = df[df['city'] == 'Moscow']"
   ]
  },
  {
   "cell_type": "code",
   "execution_count": 29,
   "metadata": {
    "id": "ORaVRKto_Zcu"
   },
   "outputs": [],
   "source": [
    "spb_general = df[df['city'] == 'Saint-Petersburg']"
   ]
  },
  {
   "cell_type": "markdown",
   "metadata": {
    "id": "MEJV-CX2_Zcu"
   },
   "source": [
    "Создайте функцию `genre_weekday()` с четырьмя параметрами:\n",
    "* таблица (датафрейм) с данными,\n",
    "* день недели,\n",
    "* начальная временная метка в формате 'hh:mm', \n",
    "* последняя временная метка в формате 'hh:mm'.\n",
    "\n",
    "Функция должна вернуть информацию о топ-10 жанров тех треков, которые прослушивали в указанный день, в промежутке между двумя отметками времени."
   ]
  },
  {
   "cell_type": "code",
   "execution_count": 30,
   "metadata": {
    "id": "laJT9BYl_Zcu"
   },
   "outputs": [],
   "source": [
    "def genre_weekday(df, day, time1, time2):\n",
    "    genre_list = df[(df['weekday'] == day) & (df['time'] > time1) & (df['time'] < time2)]\n",
    "    genre_list_sorted = genre_list.groupby('genre_name')['genre_name'].count().sort_values(ascending = False).head(10) \n",
    "    return genre_list_sorted"
   ]
  },
  {
   "cell_type": "markdown",
   "metadata": {
    "id": "la2s2_PF_Zcu"
   },
   "source": [
    "Cравните результаты функции `genre_weekday()` для Москвы и Санкт-Петербурга в понедельник утром (с 7:00 до 11:00) и в пятницу вечером (с 17:00 до 23:00):"
   ]
  },
  {
   "cell_type": "code",
   "execution_count": 31,
   "metadata": {
    "id": "yz7itPUQ_Zcu"
   },
   "outputs": [
    {
     "data": {
      "text/plain": [
       "genre_name\n",
       "pop            781\n",
       "dance          549\n",
       "electronic     480\n",
       "rock           474\n",
       "hiphop         286\n",
       "ruspop         186\n",
       "world          181\n",
       "rusrap         175\n",
       "alternative    164\n",
       "unknown        161\n",
       "Name: genre_name, dtype: int64"
      ]
     },
     "execution_count": 31,
     "metadata": {},
     "output_type": "execute_result"
    }
   ],
   "source": [
    "genre_weekday(moscow_general, 'Monday', '07:00', '11:00')"
   ]
  },
  {
   "cell_type": "code",
   "execution_count": 32,
   "metadata": {
    "id": "kwUcHPdy_Zcu"
   },
   "outputs": [
    {
     "data": {
      "text/plain": [
       "genre_name\n",
       "pop            218\n",
       "dance          182\n",
       "rock           162\n",
       "electronic     147\n",
       "hiphop          80\n",
       "ruspop          64\n",
       "alternative     58\n",
       "rusrap          55\n",
       "jazz            44\n",
       "classical       40\n",
       "Name: genre_name, dtype: int64"
      ]
     },
     "execution_count": 32,
     "metadata": {},
     "output_type": "execute_result"
    }
   ],
   "source": [
    "genre_weekday(spb_general, 'Monday', '07:00', '11:00')"
   ]
  },
  {
   "cell_type": "code",
   "execution_count": 33,
   "metadata": {
    "id": "EzXVRE1o_Zcu"
   },
   "outputs": [
    {
     "data": {
      "text/plain": [
       "genre_name\n",
       "pop            713\n",
       "rock           517\n",
       "dance          495\n",
       "electronic     482\n",
       "hiphop         273\n",
       "world          208\n",
       "ruspop         170\n",
       "alternative    163\n",
       "classical      163\n",
       "rusrap         142\n",
       "Name: genre_name, dtype: int64"
      ]
     },
     "execution_count": 33,
     "metadata": {},
     "output_type": "execute_result"
    }
   ],
   "source": [
    "genre_weekday(moscow_general, 'Friday', '17:00', '23:00')"
   ]
  },
  {
   "cell_type": "code",
   "execution_count": 34,
   "metadata": {
    "id": "JZaEKu5v_Zcu"
   },
   "outputs": [
    {
     "data": {
      "text/plain": [
       "genre_name\n",
       "pop            256\n",
       "rock           216\n",
       "electronic     216\n",
       "dance          210\n",
       "hiphop          97\n",
       "alternative     63\n",
       "jazz            61\n",
       "classical       60\n",
       "rusrap          59\n",
       "world           54\n",
       "Name: genre_name, dtype: int64"
      ]
     },
     "execution_count": 34,
     "metadata": {},
     "output_type": "execute_result"
    }
   ],
   "source": [
    "genre_weekday(spb_general, 'Friday', '17:00', '23:00')"
   ]
  },
  {
   "cell_type": "markdown",
   "metadata": {
    "id": "wrCe4MNX_Zcu"
   },
   "source": [
    "**Выводы**\n",
    "\n",
    "Если сравнить топ-10 жанров в понедельник утром, можно сделать такие выводы:\n",
    "\n",
    "1. В Москве и Петербурге слушают похожую музыку. Единственное отличие — в московский рейтинг вошёл жанр “world”, а в петербургский — джаз и классика.\n",
    "\n",
    "2. В Москве пропущенных значений оказалось так много, что значение `'unknown'` заняло десятое место среди самых популярных жанров. Значит, пропущенные значения занимают существенную долю в данных и угрожают достоверности исследования.\n",
    "\n",
    "Вечер пятницы не меняет эту картину. Некоторые жанры поднимаются немного выше, другие спускаются, но в целом топ-10 остаётся тем же самым.\n",
    "\n",
    "Таким образом, вторая гипотеза подтвердилась лишь частично:\n",
    "* Пользователи слушают похожую музыку в начале недели и в конце.\n",
    "* Разница между Москвой и Петербургом не слишком выражена. В Москве чаще слушают русскую популярную музыку, в Петербурге — джаз.\n",
    "\n",
    "Однако пропуски в данных ставят под сомнение этот результат. В Москве их так много, что рейтинг топ-10 мог бы выглядеть иначе, если бы не утерянные  данные о жанрах."
   ]
  },
  {
   "cell_type": "markdown",
   "metadata": {
    "id": "JolODAqr_Zcu"
   },
   "source": [
    "### Жанровые предпочтения в Москве и Петербурге\n",
    "\n",
    "Гипотеза: Петербург — столица рэпа, музыку этого жанра там слушают чаще, чем в Москве.  А Москва — город контрастов, в котором, тем не менее, преобладает поп-музыка."
   ]
  },
  {
   "cell_type": "markdown",
   "metadata": {
    "id": "DlegSvaT_Zcu"
   },
   "source": [
    "Сгруппируйте таблицу `moscow_general` по жанру и посчитайте прослушивания треков каждого жанра методом `count()`. Затем отсортируйте результат в порядке убывания и сохраните его в таблице `moscow_genres`."
   ]
  },
  {
   "cell_type": "code",
   "execution_count": 35,
   "metadata": {
    "id": "r19lIPke_Zcu"
   },
   "outputs": [],
   "source": [
    "moscow_genres = moscow_general.groupby('genre_name')['genre_name'].count().sort_values(ascending=False)"
   ]
  },
  {
   "cell_type": "markdown",
   "metadata": {
    "id": "6kMuomxTiIr8"
   },
   "source": [
    "Выведите на экран первые десять строк `moscow_genres`:"
   ]
  },
  {
   "cell_type": "code",
   "execution_count": 36,
   "metadata": {
    "id": "WhCSooF8_Zcv"
   },
   "outputs": [
    {
     "data": {
      "text/plain": [
       "genre_name\n",
       "pop            5892\n",
       "dance          4435\n",
       "rock           3965\n",
       "electronic     3786\n",
       "hiphop         2096\n",
       "classical      1616\n",
       "world          1432\n",
       "alternative    1379\n",
       "ruspop         1372\n",
       "rusrap         1161\n",
       "Name: genre_name, dtype: int64"
      ]
     },
     "execution_count": 36,
     "metadata": {},
     "output_type": "execute_result"
    }
   ],
   "source": [
    "moscow_genres.head(10) "
   ]
  },
  {
   "cell_type": "markdown",
   "metadata": {
    "id": "cnPG2vnN_Zcv"
   },
   "source": [
    "Теперь повторите то же и для Петербурга.\n",
    "\n",
    "Сгруппируйте таблицу `spb_general` по жанру. Посчитайте прослушивания треков каждого жанра. Результат отсортируйте в порядке убывания и сохраните в таблице `spb_genres`:\n"
   ]
  },
  {
   "cell_type": "code",
   "execution_count": 37,
   "metadata": {
    "id": "gluLIpE7_Zcv"
   },
   "outputs": [],
   "source": [
    "spb_genres = spb_general.groupby('genre_name')['genre_name'].count().sort_values(ascending=False)"
   ]
  },
  {
   "cell_type": "markdown",
   "metadata": {
    "id": "5Doha_ODgyQ8"
   },
   "source": [
    "Выведите на экран первые десять строк `spb_genres`:"
   ]
  },
  {
   "cell_type": "code",
   "execution_count": 38,
   "metadata": {
    "id": "uaGJHjVU_Zcv"
   },
   "outputs": [
    {
     "data": {
      "text/plain": [
       "genre_name\n",
       "pop            2431\n",
       "dance          1932\n",
       "rock           1879\n",
       "electronic     1736\n",
       "hiphop          960\n",
       "alternative     649\n",
       "classical       646\n",
       "rusrap          564\n",
       "ruspop          538\n",
       "world           515\n",
       "Name: genre_name, dtype: int64"
      ]
     },
     "execution_count": 38,
     "metadata": {},
     "output_type": "execute_result"
    }
   ],
   "source": [
    "spb_genres.head(10)"
   ]
  },
  {
   "cell_type": "markdown",
   "metadata": {
    "id": "RY51YJYu_Zcv"
   },
   "source": [
    "**Выводы**"
   ]
  },
  {
   "cell_type": "markdown",
   "metadata": {
    "id": "nVhnJEm__Zcv"
   },
   "source": [
    "Гипотеза частично подтвердилась:\n",
    "* Поп-музыка — самый популярный жанр в Москве, как и предполагала гипотеза. Более того, в топ-10 жанров встречается близкий жанр — русская популярная музыка.\n",
    "* Вопреки ожиданиям, рэп одинаково популярен в Москве и Петербурге. \n"
   ]
  },
  {
   "cell_type": "markdown",
   "metadata": {
    "id": "ykKQ0N65_Zcv"
   },
   "source": [
    "## Итоги исследования"
   ]
  },
  {
   "cell_type": "markdown",
   "metadata": {
    "id": "tjUwbHb3_Zcv"
   },
   "source": [
    "Вы проверили три гипотезы и установили:\n",
    "\n",
    "1. День недели по-разному влияет на активность пользователей в Москве и Петербурге. \n",
    "\n",
    "Первая гипотеза полностью подтвердилась.\n",
    "\n",
    "2. Музыкальные предпочтения не сильно меняются в течение недели — будь то Москва или Петербург. Небольшие различия заметны в начале недели, по понедельникам:\n",
    "* в Москве слушают музыку жанра “world”,\n",
    "* в Петербурге — джаз и классику.\n",
    "\n",
    "Таким образом, вторая гипотеза подтвердилась лишь отчасти. Этот результат мог оказаться иным, если бы не пропуски в данных.\n",
    "\n",
    "3. Во вкусах пользователей Москвы и Петербурга больше общего чем различий. Вопреки ожиданиям, предпочтения жанров в Петербурге напоминают московские.\n",
    "\n",
    "Третья гипотеза не подтвердилась. Если различия в предпочтениях и существуют, на основной массе пользователей они незаметны.\n",
    "\n",
    "**На практике исследования содержат проверки статистических гипотез.**\n",
    "Из данных одного сервиса не всегда можно сделать вывод о всех жителях города.\n",
    "Проверки статистических гипотез покажут, насколько они достоверны, исходя из имеющихся данных. \n",
    "С методами проверок гипотез вы ещё познакомитесь в следующих темах."
   ]
  }
 ],
 "metadata": {
  "ExecuteTimeLog": [
   {
    "duration": 352,
    "start_time": "2021-12-19T15:30:32.093Z"
   },
   {
    "duration": 345,
    "start_time": "2021-12-19T15:31:11.908Z"
   },
   {
    "duration": 382,
    "start_time": "2021-12-19T15:31:41.590Z"
   },
   {
    "duration": 285,
    "start_time": "2021-12-19T15:32:14.039Z"
   },
   {
    "duration": 760,
    "start_time": "2021-12-19T15:34:17.639Z"
   },
   {
    "duration": 177,
    "start_time": "2021-12-19T15:34:27.409Z"
   },
   {
    "duration": 25,
    "start_time": "2021-12-19T15:34:32.166Z"
   },
   {
    "duration": 11,
    "start_time": "2021-12-19T15:35:21.914Z"
   },
   {
    "duration": 5,
    "start_time": "2021-12-19T15:36:05.283Z"
   },
   {
    "duration": 4,
    "start_time": "2021-12-19T15:36:41.951Z"
   },
   {
    "duration": 5,
    "start_time": "2021-12-19T15:36:55.225Z"
   },
   {
    "duration": 32,
    "start_time": "2021-12-19T15:37:13.614Z"
   },
   {
    "duration": 11,
    "start_time": "2021-12-19T15:37:30.477Z"
   },
   {
    "duration": 28,
    "start_time": "2021-12-19T15:37:42.410Z"
   },
   {
    "duration": 24,
    "start_time": "2021-12-19T15:39:52.628Z"
   },
   {
    "duration": 29,
    "start_time": "2021-12-19T15:39:55.934Z"
   },
   {
    "duration": 23,
    "start_time": "2021-12-19T16:01:39.355Z"
   },
   {
    "duration": 30,
    "start_time": "2021-12-19T16:01:43.680Z"
   },
   {
    "duration": 87,
    "start_time": "2021-12-19T16:04:39.075Z"
   },
   {
    "duration": 119,
    "start_time": "2021-12-19T16:05:06.597Z"
   },
   {
    "duration": 117,
    "start_time": "2021-12-19T16:05:10.096Z"
   },
   {
    "duration": 76,
    "start_time": "2021-12-19T16:05:24.824Z"
   },
   {
    "duration": 10,
    "start_time": "2021-12-19T16:07:09.205Z"
   },
   {
    "duration": 4,
    "start_time": "2021-12-19T16:11:37.633Z"
   },
   {
    "duration": 4,
    "start_time": "2021-12-19T16:11:41.521Z"
   },
   {
    "duration": 19,
    "start_time": "2021-12-19T16:12:29.273Z"
   },
   {
    "duration": 8,
    "start_time": "2021-12-19T16:12:57.340Z"
   },
   {
    "duration": 44,
    "start_time": "2021-12-19T16:13:22.922Z"
   },
   {
    "duration": 42,
    "start_time": "2021-12-19T16:14:23.923Z"
   },
   {
    "duration": 5,
    "start_time": "2021-12-19T16:21:16.058Z"
   },
   {
    "duration": 5,
    "start_time": "2021-12-19T16:22:46.595Z"
   },
   {
    "duration": 624,
    "start_time": "2021-12-19T16:23:13.523Z"
   },
   {
    "duration": 4,
    "start_time": "2021-12-19T16:23:28.559Z"
   },
   {
    "duration": 22,
    "start_time": "2021-12-19T16:23:31.423Z"
   },
   {
    "duration": 28,
    "start_time": "2021-12-19T16:23:34.533Z"
   },
   {
    "duration": 23,
    "start_time": "2021-12-19T16:24:05.729Z"
   },
   {
    "duration": 19,
    "start_time": "2021-12-19T16:24:20.332Z"
   },
   {
    "duration": 20,
    "start_time": "2021-12-19T16:24:43.907Z"
   },
   {
    "duration": 19,
    "start_time": "2021-12-19T16:24:51.184Z"
   },
   {
    "duration": 339,
    "start_time": "2021-12-19T16:26:05.533Z"
   },
   {
    "duration": 294,
    "start_time": "2021-12-19T16:26:11.708Z"
   },
   {
    "duration": 287,
    "start_time": "2021-12-19T16:26:43.336Z"
   },
   {
    "duration": 23,
    "start_time": "2021-12-19T16:26:59.805Z"
   },
   {
    "duration": 36,
    "start_time": "2021-12-19T16:27:23.299Z"
   },
   {
    "duration": 34,
    "start_time": "2021-12-19T16:27:39.826Z"
   },
   {
    "duration": 7,
    "start_time": "2021-12-19T16:28:00.917Z"
   },
   {
    "duration": 61,
    "start_time": "2021-12-19T16:43:00.551Z"
   },
   {
    "duration": 7,
    "start_time": "2021-12-19T16:43:04.522Z"
   },
   {
    "duration": 7816,
    "start_time": "2021-12-19T16:43:09.516Z"
   },
   {
    "duration": 134,
    "start_time": "2021-12-19T16:44:54.625Z"
   },
   {
    "duration": 636,
    "start_time": "2021-12-19T16:45:16.507Z"
   },
   {
    "duration": 582,
    "start_time": "2021-12-19T16:47:22.128Z"
   },
   {
    "duration": 9369,
    "start_time": "2021-12-19T16:53:00.496Z"
   },
   {
    "duration": 7484,
    "start_time": "2021-12-19T16:55:14.705Z"
   },
   {
    "duration": 7,
    "start_time": "2021-12-19T16:56:36.979Z"
   },
   {
    "duration": 6,
    "start_time": "2021-12-19T16:56:39.677Z"
   },
   {
    "duration": 7607,
    "start_time": "2021-12-19T16:56:42.517Z"
   },
   {
    "duration": 5,
    "start_time": "2021-12-19T16:58:52.949Z"
   },
   {
    "duration": 38,
    "start_time": "2021-12-19T16:58:55.884Z"
   },
   {
    "duration": 5,
    "start_time": "2021-12-19T17:00:29.808Z"
   },
   {
    "duration": 22,
    "start_time": "2021-12-19T17:00:36.341Z"
   },
   {
    "duration": 20,
    "start_time": "2021-12-19T17:01:16.787Z"
   },
   {
    "duration": 15,
    "start_time": "2021-12-19T17:02:55.302Z"
   },
   {
    "duration": 21,
    "start_time": "2021-12-19T17:02:57.756Z"
   },
   {
    "duration": 14,
    "start_time": "2021-12-19T17:03:02.024Z"
   },
   {
    "duration": 6,
    "start_time": "2021-12-19T17:03:40.632Z"
   },
   {
    "duration": 4,
    "start_time": "2021-12-19T17:03:43.141Z"
   },
   {
    "duration": 5,
    "start_time": "2021-12-19T17:09:27.671Z"
   },
   {
    "duration": 22,
    "start_time": "2021-12-19T17:09:30.698Z"
   },
   {
    "duration": 4,
    "start_time": "2021-12-19T17:10:43.964Z"
   },
   {
    "duration": 610,
    "start_time": "2021-12-19T17:10:51.608Z"
   },
   {
    "duration": 6,
    "start_time": "2021-12-19T17:11:53.309Z"
   },
   {
    "duration": 24,
    "start_time": "2021-12-19T17:11:58.834Z"
   },
   {
    "duration": 6,
    "start_time": "2021-12-19T17:12:38.518Z"
   },
   {
    "duration": 33,
    "start_time": "2021-12-19T17:12:43.401Z"
   },
   {
    "duration": 96,
    "start_time": "2021-12-19T17:12:53.316Z"
   },
   {
    "duration": 92,
    "start_time": "2021-12-19T17:13:32.503Z"
   },
   {
    "duration": 4,
    "start_time": "2021-12-19T17:14:36.545Z"
   },
   {
    "duration": 30,
    "start_time": "2021-12-19T17:14:40.629Z"
   },
   {
    "duration": 6,
    "start_time": "2021-12-19T17:15:19.602Z"
   },
   {
    "duration": 26,
    "start_time": "2021-12-19T17:15:22.432Z"
   },
   {
    "duration": 5,
    "start_time": "2021-12-19T17:31:50.226Z"
   },
   {
    "duration": 25,
    "start_time": "2021-12-19T17:32:15.872Z"
   },
   {
    "duration": 24,
    "start_time": "2021-12-19T17:32:33.779Z"
   },
   {
    "duration": 7,
    "start_time": "2021-12-19T17:32:39.826Z"
   },
   {
    "duration": 34,
    "start_time": "2021-12-19T17:32:43.113Z"
   },
   {
    "duration": 17,
    "start_time": "2021-12-19T17:35:14.408Z"
   },
   {
    "duration": 15,
    "start_time": "2021-12-19T17:35:43.652Z"
   },
   {
    "duration": 5,
    "start_time": "2021-12-19T17:36:26.377Z"
   },
   {
    "duration": 30,
    "start_time": "2021-12-19T17:36:32.670Z"
   },
   {
    "duration": 34,
    "start_time": "2021-12-19T17:37:44.486Z"
   },
   {
    "duration": 5,
    "start_time": "2021-12-19T17:43:10.672Z"
   },
   {
    "duration": 7,
    "start_time": "2021-12-19T17:43:12.784Z"
   },
   {
    "duration": 28,
    "start_time": "2021-12-19T17:43:15.030Z"
   },
   {
    "duration": 34,
    "start_time": "2021-12-19T17:43:27.114Z"
   },
   {
    "duration": 5,
    "start_time": "2021-12-19T17:45:39.872Z"
   },
   {
    "duration": 26,
    "start_time": "2021-12-19T17:45:43.938Z"
   },
   {
    "duration": 5,
    "start_time": "2021-12-19T17:47:48.705Z"
   },
   {
    "duration": 35,
    "start_time": "2021-12-19T17:47:56.222Z"
   },
   {
    "duration": 6,
    "start_time": "2021-12-19T18:20:03.131Z"
   },
   {
    "duration": 23,
    "start_time": "2021-12-19T18:23:05.797Z"
   },
   {
    "duration": 20,
    "start_time": "2021-12-19T18:32:47.203Z"
   },
   {
    "duration": 6,
    "start_time": "2021-12-19T18:34:40.539Z"
   },
   {
    "duration": 37,
    "start_time": "2021-12-19T18:34:52.477Z"
   },
   {
    "duration": 331,
    "start_time": "2021-12-19T18:37:46.008Z"
   },
   {
    "duration": 26,
    "start_time": "2021-12-19T18:37:55.306Z"
   },
   {
    "duration": 5,
    "start_time": "2021-12-19T18:49:21.158Z"
   },
   {
    "duration": 5,
    "start_time": "2021-12-19T18:49:32.262Z"
   },
   {
    "duration": 20,
    "start_time": "2021-12-19T18:49:57.365Z"
   },
   {
    "duration": 7,
    "start_time": "2021-12-19T18:50:00.727Z"
   },
   {
    "duration": 5,
    "start_time": "2021-12-19T18:50:21.235Z"
   },
   {
    "duration": 266,
    "start_time": "2021-12-19T18:50:22.763Z"
   },
   {
    "duration": 37,
    "start_time": "2021-12-19T18:50:24.450Z"
   },
   {
    "duration": 12,
    "start_time": "2021-12-19T18:50:25.011Z"
   },
   {
    "duration": 7,
    "start_time": "2021-12-19T18:50:27.713Z"
   },
   {
    "duration": 5,
    "start_time": "2021-12-19T18:50:29.013Z"
   },
   {
    "duration": 7,
    "start_time": "2021-12-19T18:50:30.121Z"
   },
   {
    "duration": 30,
    "start_time": "2021-12-19T18:50:31.762Z"
   },
   {
    "duration": 23,
    "start_time": "2021-12-19T18:50:33.771Z"
   },
   {
    "duration": 32,
    "start_time": "2021-12-19T18:50:34.867Z"
   },
   {
    "duration": 97,
    "start_time": "2021-12-19T18:50:36.211Z"
   },
   {
    "duration": 99,
    "start_time": "2021-12-19T18:50:37.291Z"
   },
   {
    "duration": 84,
    "start_time": "2021-12-19T18:50:38.429Z"
   },
   {
    "duration": 12,
    "start_time": "2021-12-19T18:50:41.367Z"
   },
   {
    "duration": 4,
    "start_time": "2021-12-19T18:50:43.171Z"
   },
   {
    "duration": 22,
    "start_time": "2021-12-19T18:50:44.405Z"
   },
   {
    "duration": 9,
    "start_time": "2021-12-19T18:50:45.851Z"
   },
   {
    "duration": 49,
    "start_time": "2021-12-19T18:50:50.260Z"
   },
   {
    "duration": 69,
    "start_time": "2021-12-19T18:50:52.428Z"
   },
   {
    "duration": 5,
    "start_time": "2021-12-19T18:50:54.918Z"
   },
   {
    "duration": 35,
    "start_time": "2021-12-19T18:50:56.036Z"
   },
   {
    "duration": 27,
    "start_time": "2021-12-19T18:50:56.714Z"
   },
   {
    "duration": 20,
    "start_time": "2021-12-19T18:50:57.184Z"
   },
   {
    "duration": 30,
    "start_time": "2021-12-19T18:50:57.724Z"
   },
   {
    "duration": 24,
    "start_time": "2021-12-19T18:50:58.386Z"
   },
   {
    "duration": 22,
    "start_time": "2021-12-19T18:50:58.805Z"
   },
   {
    "duration": 18,
    "start_time": "2021-12-19T18:51:00.267Z"
   },
   {
    "duration": 26,
    "start_time": "2021-12-19T18:51:04.517Z"
   },
   {
    "duration": 19,
    "start_time": "2021-12-19T18:51:05.091Z"
   },
   {
    "duration": 5,
    "start_time": "2021-12-19T18:51:06.954Z"
   },
   {
    "duration": 31,
    "start_time": "2021-12-19T18:51:08.507Z"
   },
   {
    "duration": 7,
    "start_time": "2021-12-19T18:51:42.778Z"
   },
   {
    "duration": 24,
    "start_time": "2021-12-19T18:51:44.998Z"
   },
   {
    "duration": 28,
    "start_time": "2021-12-19T18:52:11.867Z"
   },
   {
    "duration": 7,
    "start_time": "2021-12-19T18:54:06.636Z"
   },
   {
    "duration": 8551,
    "start_time": "2021-12-19T18:54:17.636Z"
   },
   {
    "duration": 7983,
    "start_time": "2021-12-19T18:54:44.403Z"
   },
   {
    "duration": 5,
    "start_time": "2021-12-19T18:55:52.410Z"
   },
   {
    "duration": 7542,
    "start_time": "2021-12-19T18:55:56.482Z"
   },
   {
    "duration": 8530,
    "start_time": "2021-12-19T18:56:15.883Z"
   },
   {
    "duration": 8326,
    "start_time": "2021-12-19T18:58:26.376Z"
   },
   {
    "duration": 100,
    "start_time": "2021-12-19T18:58:34.606Z"
   },
   {
    "duration": 5,
    "start_time": "2021-12-19T19:22:44.751Z"
   },
   {
    "duration": 24,
    "start_time": "2021-12-19T19:22:58.181Z"
   },
   {
    "duration": 14,
    "start_time": "2021-12-19T19:23:35.014Z"
   },
   {
    "duration": 7,
    "start_time": "2021-12-19T19:23:48.963Z"
   },
   {
    "duration": 13,
    "start_time": "2021-12-19T19:23:57.658Z"
   },
   {
    "duration": 8,
    "start_time": "2021-12-19T19:24:03.516Z"
   },
   {
    "duration": 7,
    "start_time": "2021-12-19T19:32:03.280Z"
   },
   {
    "duration": 5,
    "start_time": "2021-12-19T19:32:31.025Z"
   },
   {
    "duration": 24,
    "start_time": "2021-12-19T19:32:34.337Z"
   },
   {
    "duration": 5,
    "start_time": "2021-12-19T19:38:05.181Z"
   },
   {
    "duration": 289,
    "start_time": "2021-12-19T19:38:39.677Z"
   },
   {
    "duration": 8,
    "start_time": "2021-12-19T19:39:44.601Z"
   },
   {
    "duration": 9,
    "start_time": "2021-12-19T19:39:49.458Z"
   },
   {
    "duration": 7664,
    "start_time": "2021-12-19T19:40:28.256Z"
   },
   {
    "duration": 7571,
    "start_time": "2021-12-19T19:41:02.786Z"
   },
   {
    "duration": 101,
    "start_time": "2021-12-19T19:41:10.260Z"
   },
   {
    "duration": 11,
    "start_time": "2021-12-19T19:49:50.228Z"
   },
   {
    "duration": 4,
    "start_time": "2021-12-19T19:50:27.461Z"
   },
   {
    "duration": 189,
    "start_time": "2021-12-19T19:50:27.838Z"
   },
   {
    "duration": 16,
    "start_time": "2021-12-19T19:50:28.214Z"
   },
   {
    "duration": 13,
    "start_time": "2021-12-19T19:50:28.615Z"
   },
   {
    "duration": 5,
    "start_time": "2021-12-19T19:50:30.805Z"
   },
   {
    "duration": 4,
    "start_time": "2021-12-19T19:50:31.811Z"
   },
   {
    "duration": 6,
    "start_time": "2021-12-19T19:50:32.846Z"
   },
   {
    "duration": 47,
    "start_time": "2021-12-19T19:50:33.316Z"
   },
   {
    "duration": 34,
    "start_time": "2021-12-19T19:50:34.063Z"
   },
   {
    "duration": 46,
    "start_time": "2021-12-19T19:50:34.573Z"
   },
   {
    "duration": 90,
    "start_time": "2021-12-19T19:50:35.118Z"
   },
   {
    "duration": 101,
    "start_time": "2021-12-19T19:50:35.894Z"
   },
   {
    "duration": 88,
    "start_time": "2021-12-19T19:50:36.780Z"
   },
   {
    "duration": 10,
    "start_time": "2021-12-19T19:50:38.814Z"
   },
   {
    "duration": 4,
    "start_time": "2021-12-19T19:50:40.142Z"
   },
   {
    "duration": 19,
    "start_time": "2021-12-19T19:50:41.173Z"
   },
   {
    "duration": 14,
    "start_time": "2021-12-19T19:50:42.464Z"
   },
   {
    "duration": 45,
    "start_time": "2021-12-19T19:50:46.580Z"
   },
   {
    "duration": 67,
    "start_time": "2021-12-19T19:50:48.069Z"
   },
   {
    "duration": 6,
    "start_time": "2021-12-19T19:50:49.759Z"
   },
   {
    "duration": 21,
    "start_time": "2021-12-19T19:50:50.816Z"
   },
   {
    "duration": 18,
    "start_time": "2021-12-19T19:50:51.463Z"
   },
   {
    "duration": 29,
    "start_time": "2021-12-19T19:50:51.957Z"
   },
   {
    "duration": 20,
    "start_time": "2021-12-19T19:50:52.582Z"
   },
   {
    "duration": 31,
    "start_time": "2021-12-19T19:50:53.469Z"
   },
   {
    "duration": 19,
    "start_time": "2021-12-19T19:50:54.077Z"
   },
   {
    "duration": 23,
    "start_time": "2021-12-19T19:50:55.166Z"
   },
   {
    "duration": 19,
    "start_time": "2021-12-19T19:50:58.253Z"
   },
   {
    "duration": 18,
    "start_time": "2021-12-19T19:50:58.917Z"
   },
   {
    "duration": 6,
    "start_time": "2021-12-19T19:51:00.400Z"
   },
   {
    "duration": 37,
    "start_time": "2021-12-19T19:51:01.591Z"
   },
   {
    "duration": 26,
    "start_time": "2021-12-19T19:51:04.190Z"
   },
   {
    "duration": 29,
    "start_time": "2021-12-19T19:51:04.877Z"
   },
   {
    "duration": 28,
    "start_time": "2021-12-19T19:51:05.568Z"
   },
   {
    "duration": 10,
    "start_time": "2021-12-19T19:51:09.253Z"
   },
   {
    "duration": 6,
    "start_time": "2021-12-19T19:51:09.936Z"
   },
   {
    "duration": 11,
    "start_time": "2021-12-19T19:51:10.362Z"
   },
   {
    "duration": 8,
    "start_time": "2021-12-19T19:51:10.789Z"
   },
   {
    "duration": 6,
    "start_time": "2021-12-19T19:56:20.446Z"
   },
   {
    "duration": 24,
    "start_time": "2021-12-19T19:57:23.403Z"
   },
   {
    "duration": 5,
    "start_time": "2021-12-19T19:59:35.156Z"
   },
   {
    "duration": 24,
    "start_time": "2021-12-19T19:59:39.490Z"
   },
   {
    "duration": 6,
    "start_time": "2021-12-19T20:00:22.517Z"
   },
   {
    "duration": 715,
    "start_time": "2021-12-20T14:06:39.610Z"
   },
   {
    "duration": 612,
    "start_time": "2021-12-20T14:06:40.327Z"
   },
   {
    "duration": 586,
    "start_time": "2021-12-20T14:06:40.942Z"
   },
   {
    "duration": 624,
    "start_time": "2021-12-20T14:06:41.531Z"
   },
   {
    "duration": 246,
    "start_time": "2021-12-20T14:06:42.158Z"
   },
   {
    "duration": 725,
    "start_time": "2021-12-20T14:06:42.407Z"
   },
   {
    "duration": 362,
    "start_time": "2021-12-20T14:06:43.135Z"
   },
   {
    "duration": 494,
    "start_time": "2021-12-20T14:06:43.502Z"
   },
   {
    "duration": 374,
    "start_time": "2021-12-20T14:06:43.999Z"
   },
   {
    "duration": 726,
    "start_time": "2021-12-20T14:06:44.376Z"
   },
   {
    "duration": 2227,
    "start_time": "2021-12-20T14:06:45.104Z"
   },
   {
    "duration": 958,
    "start_time": "2021-12-20T14:06:47.334Z"
   },
   {
    "duration": 339,
    "start_time": "2021-12-20T14:06:48.294Z"
   },
   {
    "duration": 911,
    "start_time": "2021-12-20T14:06:48.636Z"
   },
   {
    "duration": 969,
    "start_time": "2021-12-20T14:06:49.550Z"
   },
   {
    "duration": 1041,
    "start_time": "2021-12-20T14:06:50.522Z"
   },
   {
    "duration": 1061,
    "start_time": "2021-12-20T14:06:51.566Z"
   },
   {
    "duration": 593,
    "start_time": "2021-12-20T14:06:52.631Z"
   },
   {
    "duration": 525,
    "start_time": "2021-12-20T14:06:53.230Z"
   },
   {
    "duration": 662,
    "start_time": "2021-12-20T14:06:53.761Z"
   },
   {
    "duration": 712,
    "start_time": "2021-12-20T14:06:54.426Z"
   },
   {
    "duration": 632,
    "start_time": "2021-12-20T14:06:55.140Z"
   },
   {
    "duration": 313,
    "start_time": "2021-12-20T14:06:55.782Z"
   },
   {
    "duration": 462,
    "start_time": "2021-12-20T14:06:56.098Z"
   },
   {
    "duration": 207,
    "start_time": "2021-12-20T14:06:56.563Z"
   },
   {
    "duration": 429,
    "start_time": "2021-12-20T14:06:56.773Z"
   },
   {
    "duration": 443,
    "start_time": "2021-12-20T14:06:57.205Z"
   },
   {
    "duration": 331,
    "start_time": "2021-12-20T14:06:57.655Z"
   },
   {
    "duration": 340,
    "start_time": "2021-12-20T14:06:57.988Z"
   },
   {
    "duration": 599,
    "start_time": "2021-12-20T14:06:58.330Z"
   },
   {
    "duration": 789,
    "start_time": "2021-12-20T14:06:58.932Z"
   },
   {
    "duration": 199,
    "start_time": "2021-12-20T14:06:59.724Z"
   },
   {
    "duration": 299,
    "start_time": "2021-12-20T14:06:59.927Z"
   },
   {
    "duration": 201,
    "start_time": "2021-12-20T14:07:00.229Z"
   },
   {
    "duration": 116,
    "start_time": "2021-12-20T14:07:00.432Z"
   },
   {
    "duration": 152,
    "start_time": "2021-12-20T14:07:00.550Z"
   },
   {
    "duration": 130,
    "start_time": "2021-12-20T14:07:00.704Z"
   },
   {
    "duration": 171,
    "start_time": "2021-12-20T14:07:00.837Z"
   },
   {
    "duration": 5,
    "start_time": "2021-12-20T14:17:58.518Z"
   },
   {
    "duration": 787,
    "start_time": "2021-12-20T14:17:58.525Z"
   },
   {
    "duration": -22,
    "start_time": "2021-12-20T14:17:59.337Z"
   },
   {
    "duration": -23,
    "start_time": "2021-12-20T14:17:59.339Z"
   },
   {
    "duration": -64,
    "start_time": "2021-12-20T14:17:59.381Z"
   },
   {
    "duration": -68,
    "start_time": "2021-12-20T14:17:59.386Z"
   },
   {
    "duration": -69,
    "start_time": "2021-12-20T14:17:59.388Z"
   },
   {
    "duration": -70,
    "start_time": "2021-12-20T14:17:59.390Z"
   },
   {
    "duration": -72,
    "start_time": "2021-12-20T14:17:59.392Z"
   },
   {
    "duration": -73,
    "start_time": "2021-12-20T14:17:59.394Z"
   },
   {
    "duration": -73,
    "start_time": "2021-12-20T14:17:59.395Z"
   },
   {
    "duration": -75,
    "start_time": "2021-12-20T14:17:59.397Z"
   },
   {
    "duration": -75,
    "start_time": "2021-12-20T14:17:59.398Z"
   },
   {
    "duration": -77,
    "start_time": "2021-12-20T14:17:59.400Z"
   },
   {
    "duration": -77,
    "start_time": "2021-12-20T14:17:59.401Z"
   },
   {
    "duration": -78,
    "start_time": "2021-12-20T14:17:59.403Z"
   },
   {
    "duration": -79,
    "start_time": "2021-12-20T14:17:59.404Z"
   },
   {
    "duration": -79,
    "start_time": "2021-12-20T14:17:59.405Z"
   },
   {
    "duration": -80,
    "start_time": "2021-12-20T14:17:59.407Z"
   },
   {
    "duration": -81,
    "start_time": "2021-12-20T14:17:59.408Z"
   },
   {
    "duration": -81,
    "start_time": "2021-12-20T14:17:59.409Z"
   },
   {
    "duration": -117,
    "start_time": "2021-12-20T14:17:59.447Z"
   },
   {
    "duration": -121,
    "start_time": "2021-12-20T14:17:59.452Z"
   },
   {
    "duration": -122,
    "start_time": "2021-12-20T14:17:59.454Z"
   },
   {
    "duration": 692,
    "start_time": "2021-12-20T14:18:12.302Z"
   },
   {
    "duration": 193,
    "start_time": "2021-12-20T14:18:12.997Z"
   },
   {
    "duration": 20,
    "start_time": "2021-12-20T14:18:13.193Z"
   },
   {
    "duration": 21,
    "start_time": "2021-12-20T14:18:13.215Z"
   },
   {
    "duration": 34,
    "start_time": "2021-12-20T14:18:13.238Z"
   },
   {
    "duration": 22,
    "start_time": "2021-12-20T14:18:13.274Z"
   },
   {
    "duration": 21,
    "start_time": "2021-12-20T14:18:13.298Z"
   },
   {
    "duration": 53,
    "start_time": "2021-12-20T14:18:13.321Z"
   },
   {
    "duration": 28,
    "start_time": "2021-12-20T14:18:13.378Z"
   },
   {
    "duration": 51,
    "start_time": "2021-12-20T14:18:13.408Z"
   },
   {
    "duration": 85,
    "start_time": "2021-12-20T14:18:13.462Z"
   },
   {
    "duration": 79,
    "start_time": "2021-12-20T14:18:13.550Z"
   },
   {
    "duration": 83,
    "start_time": "2021-12-20T14:18:13.631Z"
   },
   {
    "duration": 29,
    "start_time": "2021-12-20T14:18:13.716Z"
   },
   {
    "duration": 4,
    "start_time": "2021-12-20T14:18:13.748Z"
   },
   {
    "duration": 13,
    "start_time": "2021-12-20T14:18:16.543Z"
   },
   {
    "duration": 21,
    "start_time": "2021-12-20T14:18:19.140Z"
   },
   {
    "duration": 666,
    "start_time": "2021-12-20T14:18:36.254Z"
   },
   {
    "duration": 172,
    "start_time": "2021-12-20T14:18:36.922Z"
   },
   {
    "duration": 18,
    "start_time": "2021-12-20T14:18:37.096Z"
   },
   {
    "duration": 32,
    "start_time": "2021-12-20T14:18:37.116Z"
   },
   {
    "duration": 15,
    "start_time": "2021-12-20T14:18:37.150Z"
   },
   {
    "duration": 20,
    "start_time": "2021-12-20T14:18:37.168Z"
   },
   {
    "duration": 18,
    "start_time": "2021-12-20T14:18:37.190Z"
   },
   {
    "duration": 42,
    "start_time": "2021-12-20T14:18:37.210Z"
   },
   {
    "duration": 38,
    "start_time": "2021-12-20T14:18:37.255Z"
   },
   {
    "duration": 30,
    "start_time": "2021-12-20T14:18:37.295Z"
   },
   {
    "duration": 88,
    "start_time": "2021-12-20T14:18:37.326Z"
   },
   {
    "duration": 86,
    "start_time": "2021-12-20T14:18:37.415Z"
   },
   {
    "duration": 73,
    "start_time": "2021-12-20T14:18:37.503Z"
   },
   {
    "duration": 8,
    "start_time": "2021-12-20T14:18:37.577Z"
   },
   {
    "duration": 12,
    "start_time": "2021-12-20T14:18:37.586Z"
   },
   {
    "duration": 22,
    "start_time": "2021-12-20T14:18:37.600Z"
   },
   {
    "duration": 13,
    "start_time": "2021-12-20T14:18:37.623Z"
   },
   {
    "duration": 60,
    "start_time": "2021-12-20T14:18:37.637Z"
   },
   {
    "duration": 35,
    "start_time": "2021-12-20T14:18:37.699Z"
   },
   {
    "duration": 9,
    "start_time": "2021-12-20T14:18:37.736Z"
   },
   {
    "duration": 49,
    "start_time": "2021-12-20T14:18:37.747Z"
   },
   {
    "duration": 19,
    "start_time": "2021-12-20T14:18:37.798Z"
   },
   {
    "duration": 28,
    "start_time": "2021-12-20T14:18:37.820Z"
   },
   {
    "duration": 37,
    "start_time": "2021-12-20T14:18:37.852Z"
   },
   {
    "duration": 45,
    "start_time": "2021-12-20T14:18:37.891Z"
   },
   {
    "duration": 34,
    "start_time": "2021-12-20T14:18:37.941Z"
   },
   {
    "duration": 13,
    "start_time": "2021-12-20T14:18:37.977Z"
   },
   {
    "duration": 16,
    "start_time": "2021-12-20T14:18:37.991Z"
   },
   {
    "duration": 11,
    "start_time": "2021-12-20T14:18:38.009Z"
   },
   {
    "duration": 27,
    "start_time": "2021-12-20T14:18:38.022Z"
   },
   {
    "duration": 27,
    "start_time": "2021-12-20T14:18:38.051Z"
   },
   {
    "duration": 14,
    "start_time": "2021-12-20T14:18:38.080Z"
   },
   {
    "duration": 24,
    "start_time": "2021-12-20T14:18:38.097Z"
   },
   {
    "duration": 40,
    "start_time": "2021-12-20T14:18:38.123Z"
   },
   {
    "duration": 30,
    "start_time": "2021-12-20T14:18:38.165Z"
   },
   {
    "duration": 23,
    "start_time": "2021-12-20T14:18:38.197Z"
   },
   {
    "duration": 40,
    "start_time": "2021-12-20T14:18:38.222Z"
   },
   {
    "duration": 18,
    "start_time": "2021-12-20T14:18:38.265Z"
   },
   {
    "duration": 307,
    "start_time": "2021-12-20T17:50:38.953Z"
   },
   {
    "duration": 587,
    "start_time": "2021-12-20T17:50:47.972Z"
   },
   {
    "duration": 141,
    "start_time": "2021-12-20T17:50:50.609Z"
   },
   {
    "duration": 27,
    "start_time": "2021-12-20T17:51:13.092Z"
   },
   {
    "duration": 28,
    "start_time": "2021-12-20T17:57:56.015Z"
   },
   {
    "duration": 78,
    "start_time": "2021-12-20T17:59:14.707Z"
   },
   {
    "duration": 65,
    "start_time": "2021-12-20T17:59:26.799Z"
   },
   {
    "duration": 61,
    "start_time": "2021-12-20T17:59:42.338Z"
   },
   {
    "duration": 59,
    "start_time": "2021-12-20T18:00:16.243Z"
   },
   {
    "duration": 78,
    "start_time": "2021-12-20T18:00:19.380Z"
   },
   {
    "duration": 59,
    "start_time": "2021-12-20T18:00:24.500Z"
   },
   {
    "duration": 72,
    "start_time": "2021-12-20T18:00:58.358Z"
   },
   {
    "duration": 66,
    "start_time": "2021-12-20T18:01:18.019Z"
   },
   {
    "duration": 57,
    "start_time": "2021-12-20T18:01:20.563Z"
   },
   {
    "duration": 228,
    "start_time": "2021-12-20T18:08:07.674Z"
   },
   {
    "duration": 199,
    "start_time": "2021-12-20T18:08:58.993Z"
   },
   {
    "duration": 6540,
    "start_time": "2021-12-20T18:09:30.722Z"
   },
   {
    "duration": 115,
    "start_time": "2021-12-20T18:09:37.150Z"
   },
   {
    "duration": 222,
    "start_time": "2021-12-20T18:09:41.510Z"
   },
   {
    "duration": 200,
    "start_time": "2021-12-20T18:11:22.524Z"
   },
   {
    "duration": 208,
    "start_time": "2021-12-20T18:11:47.757Z"
   },
   {
    "duration": 227,
    "start_time": "2021-12-20T18:12:02.659Z"
   },
   {
    "duration": 294,
    "start_time": "2021-12-20T18:12:22.860Z"
   },
   {
    "duration": 133,
    "start_time": "2021-12-20T18:13:16.484Z"
   },
   {
    "duration": 7137,
    "start_time": "2021-12-20T18:13:24.116Z"
   },
   {
    "duration": 5786,
    "start_time": "2021-12-20T18:13:49.348Z"
   },
   {
    "duration": 4948,
    "start_time": "2021-12-20T18:14:19.672Z"
   },
   {
    "duration": 4,
    "start_time": "2021-12-20T18:14:39.187Z"
   },
   {
    "duration": 3,
    "start_time": "2021-12-20T18:14:42.836Z"
   },
   {
    "duration": 16,
    "start_time": "2021-12-20T18:23:11.226Z"
   },
   {
    "duration": 257,
    "start_time": "2021-12-20T18:23:50.196Z"
   },
   {
    "duration": 7,
    "start_time": "2021-12-20T18:24:21.559Z"
   },
   {
    "duration": 49,
    "start_time": "2021-12-20T18:25:28.281Z"
   },
   {
    "duration": 50,
    "start_time": "2021-12-20T18:25:57.742Z"
   },
   {
    "duration": 7,
    "start_time": "2021-12-20T18:26:05.392Z"
   },
   {
    "duration": 6,
    "start_time": "2021-12-20T18:26:10.104Z"
   },
   {
    "duration": 48,
    "start_time": "2021-12-20T18:26:14.904Z"
   },
   {
    "duration": 50,
    "start_time": "2021-12-20T18:27:02.296Z"
   },
   {
    "duration": 48,
    "start_time": "2021-12-20T18:27:05.261Z"
   },
   {
    "duration": 248,
    "start_time": "2021-12-20T18:27:59.683Z"
   },
   {
    "duration": 211,
    "start_time": "2021-12-20T18:28:18.488Z"
   },
   {
    "duration": 218,
    "start_time": "2021-12-20T18:28:35.673Z"
   },
   {
    "duration": 496,
    "start_time": "2021-12-20T18:28:43.484Z"
   },
   {
    "duration": 215,
    "start_time": "2021-12-20T18:29:20.208Z"
   },
   {
    "duration": 199,
    "start_time": "2021-12-20T18:29:29.222Z"
   },
   {
    "duration": 56,
    "start_time": "2021-12-20T18:30:01.362Z"
   },
   {
    "duration": 59,
    "start_time": "2021-12-20T18:30:58.352Z"
   },
   {
    "duration": 278,
    "start_time": "2021-12-20T18:32:45.243Z"
   },
   {
    "duration": 49,
    "start_time": "2021-12-20T18:33:20.094Z"
   },
   {
    "duration": 50,
    "start_time": "2021-12-20T18:36:07.263Z"
   },
   {
    "duration": 3,
    "start_time": "2021-12-20T18:38:47.913Z"
   },
   {
    "duration": 5785,
    "start_time": "2021-12-20T18:39:17.937Z"
   },
   {
    "duration": 3,
    "start_time": "2021-12-20T18:40:03.890Z"
   },
   {
    "duration": 4,
    "start_time": "2021-12-20T18:42:30.959Z"
   },
   {
    "duration": 7533,
    "start_time": "2021-12-20T18:42:48.964Z"
   },
   {
    "duration": 5872,
    "start_time": "2021-12-20T18:43:31.308Z"
   },
   {
    "duration": 576,
    "start_time": "2021-12-20T19:19:57.223Z"
   },
   {
    "duration": 181,
    "start_time": "2021-12-20T19:19:57.801Z"
   },
   {
    "duration": 25,
    "start_time": "2021-12-20T19:19:57.985Z"
   },
   {
    "duration": 59,
    "start_time": "2021-12-20T19:19:58.012Z"
   },
   {
    "duration": 16,
    "start_time": "2021-12-20T19:19:58.073Z"
   },
   {
    "duration": 19,
    "start_time": "2021-12-20T19:19:58.091Z"
   },
   {
    "duration": 22,
    "start_time": "2021-12-20T19:19:58.112Z"
   },
   {
    "duration": 31,
    "start_time": "2021-12-20T19:19:58.136Z"
   },
   {
    "duration": 31,
    "start_time": "2021-12-20T19:19:58.169Z"
   },
   {
    "duration": 23,
    "start_time": "2021-12-20T19:19:58.201Z"
   },
   {
    "duration": 66,
    "start_time": "2021-12-20T19:19:58.226Z"
   },
   {
    "duration": 67,
    "start_time": "2021-12-20T19:19:58.293Z"
   },
   {
    "duration": 54,
    "start_time": "2021-12-20T19:19:58.362Z"
   },
   {
    "duration": 67,
    "start_time": "2021-12-20T19:19:58.418Z"
   },
   {
    "duration": 3,
    "start_time": "2021-12-20T19:19:58.486Z"
   },
   {
    "duration": 6482,
    "start_time": "2021-12-20T19:19:58.491Z"
   },
   {
    "duration": 104,
    "start_time": "2021-12-20T19:20:04.873Z"
   },
   {
    "duration": 97,
    "start_time": "2021-12-20T19:20:04.880Z"
   },
   {
    "duration": 88,
    "start_time": "2021-12-20T19:20:04.890Z"
   },
   {
    "duration": 74,
    "start_time": "2021-12-20T19:20:04.905Z"
   },
   {
    "duration": 69,
    "start_time": "2021-12-20T19:20:04.912Z"
   },
   {
    "duration": 66,
    "start_time": "2021-12-20T19:20:04.916Z"
   },
   {
    "duration": 60,
    "start_time": "2021-12-20T19:20:04.923Z"
   },
   {
    "duration": 56,
    "start_time": "2021-12-20T19:20:04.928Z"
   },
   {
    "duration": 51,
    "start_time": "2021-12-20T19:20:04.934Z"
   },
   {
    "duration": 46,
    "start_time": "2021-12-20T19:20:04.940Z"
   },
   {
    "duration": 42,
    "start_time": "2021-12-20T19:20:04.945Z"
   },
   {
    "duration": 37,
    "start_time": "2021-12-20T19:20:04.951Z"
   },
   {
    "duration": 30,
    "start_time": "2021-12-20T19:20:04.958Z"
   },
   {
    "duration": 28,
    "start_time": "2021-12-20T19:20:04.962Z"
   },
   {
    "duration": 23,
    "start_time": "2021-12-20T19:20:04.968Z"
   },
   {
    "duration": 18,
    "start_time": "2021-12-20T19:20:04.973Z"
   },
   {
    "duration": 15,
    "start_time": "2021-12-20T19:20:04.978Z"
   },
   {
    "duration": 10,
    "start_time": "2021-12-20T19:20:04.984Z"
   },
   {
    "duration": 5,
    "start_time": "2021-12-20T19:20:04.990Z"
   },
   {
    "duration": 1,
    "start_time": "2021-12-20T19:20:04.995Z"
   },
   {
    "duration": -3,
    "start_time": "2021-12-20T19:20:05.000Z"
   },
   {
    "duration": -15,
    "start_time": "2021-12-20T19:20:05.013Z"
   },
   {
    "duration": 3,
    "start_time": "2021-12-20T19:20:42.358Z"
   },
   {
    "duration": 5742,
    "start_time": "2021-12-20T19:21:05.168Z"
   },
   {
    "duration": 5920,
    "start_time": "2021-12-20T19:23:34.068Z"
   },
   {
    "duration": 5336,
    "start_time": "2021-12-20T19:23:52.961Z"
   },
   {
    "duration": 5182,
    "start_time": "2021-12-20T19:26:59.877Z"
   },
   {
    "duration": 5525,
    "start_time": "2021-12-20T19:27:38.831Z"
   },
   {
    "duration": 4,
    "start_time": "2021-12-20T19:35:10.262Z"
   },
   {
    "duration": 3,
    "start_time": "2021-12-20T19:40:17.203Z"
   },
   {
    "duration": 5918,
    "start_time": "2021-12-20T19:40:22.528Z"
   },
   {
    "duration": 193,
    "start_time": "2021-12-20T19:41:02.640Z"
   },
   {
    "duration": 5735,
    "start_time": "2021-12-20T19:41:10.634Z"
   },
   {
    "duration": 3,
    "start_time": "2021-12-20T19:44:18.149Z"
   },
   {
    "duration": 10,
    "start_time": "2021-12-20T19:44:21.835Z"
   },
   {
    "duration": 8,
    "start_time": "2021-12-20T19:44:34.661Z"
   },
   {
    "duration": 53,
    "start_time": "2021-12-20T19:45:00.326Z"
   },
   {
    "duration": 11,
    "start_time": "2021-12-20T19:49:49.260Z"
   },
   {
    "duration": 13,
    "start_time": "2021-12-20T19:50:51.809Z"
   },
   {
    "duration": 3,
    "start_time": "2021-12-20T19:54:45.433Z"
   },
   {
    "duration": 19,
    "start_time": "2021-12-20T19:54:50.101Z"
   },
   {
    "duration": 16,
    "start_time": "2021-12-20T19:54:52.722Z"
   },
   {
    "duration": 18,
    "start_time": "2021-12-20T19:54:53.503Z"
   },
   {
    "duration": 18,
    "start_time": "2021-12-20T19:54:53.841Z"
   },
   {
    "duration": 17,
    "start_time": "2021-12-20T19:54:54.515Z"
   },
   {
    "duration": 16,
    "start_time": "2021-12-20T19:54:57.171Z"
   },
   {
    "duration": 209,
    "start_time": "2021-12-20T19:55:02.401Z"
   },
   {
    "duration": 12,
    "start_time": "2021-12-20T19:55:21.163Z"
   },
   {
    "duration": 12,
    "start_time": "2021-12-20T19:55:39.223Z"
   },
   {
    "duration": 11,
    "start_time": "2021-12-20T19:55:40.817Z"
   },
   {
    "duration": 3,
    "start_time": "2021-12-20T19:55:50.171Z"
   },
   {
    "duration": 18,
    "start_time": "2021-12-20T19:55:53.498Z"
   },
   {
    "duration": 18,
    "start_time": "2021-12-20T19:55:56.702Z"
   },
   {
    "duration": 21,
    "start_time": "2021-12-20T19:55:57.126Z"
   },
   {
    "duration": 15,
    "start_time": "2021-12-20T19:55:57.751Z"
   },
   {
    "duration": 10,
    "start_time": "2021-12-20T19:56:15.113Z"
   },
   {
    "duration": 6,
    "start_time": "2021-12-20T19:56:17.329Z"
   },
   {
    "duration": 7,
    "start_time": "2021-12-20T19:56:18.943Z"
   },
   {
    "duration": 7,
    "start_time": "2021-12-20T19:56:20.214Z"
   },
   {
    "duration": 804,
    "start_time": "2021-12-21T04:38:26.884Z"
   },
   {
    "duration": 188,
    "start_time": "2021-12-21T04:38:27.690Z"
   },
   {
    "duration": 25,
    "start_time": "2021-12-21T04:38:27.882Z"
   },
   {
    "duration": 33,
    "start_time": "2021-12-21T04:38:27.909Z"
   },
   {
    "duration": 16,
    "start_time": "2021-12-21T04:38:27.944Z"
   },
   {
    "duration": 4,
    "start_time": "2021-12-21T04:38:27.963Z"
   },
   {
    "duration": 7,
    "start_time": "2021-12-21T04:38:27.969Z"
   },
   {
    "duration": 31,
    "start_time": "2021-12-21T04:38:27.980Z"
   },
   {
    "duration": 24,
    "start_time": "2021-12-21T04:38:28.014Z"
   },
   {
    "duration": 37,
    "start_time": "2021-12-21T04:38:28.040Z"
   },
   {
    "duration": 91,
    "start_time": "2021-12-21T04:38:28.079Z"
   },
   {
    "duration": 97,
    "start_time": "2021-12-21T04:38:28.172Z"
   },
   {
    "duration": 77,
    "start_time": "2021-12-21T04:38:28.272Z"
   },
   {
    "duration": 79,
    "start_time": "2021-12-21T04:38:28.351Z"
   },
   {
    "duration": 3,
    "start_time": "2021-12-21T04:38:28.433Z"
   },
   {
    "duration": 21,
    "start_time": "2021-12-21T04:38:28.438Z"
   },
   {
    "duration": 97,
    "start_time": "2021-12-21T04:38:28.462Z"
   },
   {
    "duration": 14,
    "start_time": "2021-12-21T04:38:28.561Z"
   },
   {
    "duration": 14,
    "start_time": "2021-12-21T04:38:28.577Z"
   },
   {
    "duration": 4,
    "start_time": "2021-12-21T04:38:28.594Z"
   },
   {
    "duration": 22,
    "start_time": "2021-12-21T04:38:28.600Z"
   },
   {
    "duration": 17,
    "start_time": "2021-12-21T04:38:28.625Z"
   },
   {
    "duration": 27,
    "start_time": "2021-12-21T04:38:28.647Z"
   },
   {
    "duration": 17,
    "start_time": "2021-12-21T04:38:28.677Z"
   },
   {
    "duration": 20,
    "start_time": "2021-12-21T04:38:28.696Z"
   },
   {
    "duration": 17,
    "start_time": "2021-12-21T04:38:28.718Z"
   },
   {
    "duration": 30,
    "start_time": "2021-12-21T04:38:28.738Z"
   },
   {
    "duration": 16,
    "start_time": "2021-12-21T04:38:28.770Z"
   },
   {
    "duration": 12,
    "start_time": "2021-12-21T04:38:28.788Z"
   },
   {
    "duration": 6,
    "start_time": "2021-12-21T04:38:28.803Z"
   },
   {
    "duration": 48,
    "start_time": "2021-12-21T04:38:28.812Z"
   },
   {
    "duration": 18,
    "start_time": "2021-12-21T04:38:28.863Z"
   },
   {
    "duration": 22,
    "start_time": "2021-12-21T04:38:28.883Z"
   },
   {
    "duration": 16,
    "start_time": "2021-12-21T04:38:28.907Z"
   },
   {
    "duration": 12,
    "start_time": "2021-12-21T04:38:28.925Z"
   },
   {
    "duration": 20,
    "start_time": "2021-12-21T04:38:28.939Z"
   },
   {
    "duration": 8,
    "start_time": "2021-12-21T04:38:28.962Z"
   },
   {
    "duration": 6,
    "start_time": "2021-12-21T04:38:28.973Z"
   },
   {
    "duration": 242,
    "start_time": "2021-12-21T18:37:54.935Z"
   },
   {
    "duration": 205,
    "start_time": "2021-12-21T18:38:07.581Z"
   },
   {
    "duration": 243,
    "start_time": "2021-12-21T18:42:11.227Z"
   },
   {
    "duration": 200,
    "start_time": "2021-12-21T18:42:35.531Z"
   },
   {
    "duration": 253,
    "start_time": "2021-12-21T18:43:19.945Z"
   },
   {
    "duration": 630,
    "start_time": "2021-12-21T18:44:19.866Z"
   },
   {
    "duration": 147,
    "start_time": "2021-12-21T18:44:21.138Z"
   },
   {
    "duration": 19,
    "start_time": "2021-12-21T18:44:22.816Z"
   },
   {
    "duration": 40,
    "start_time": "2021-12-21T18:44:23.959Z"
   },
   {
    "duration": 4,
    "start_time": "2021-12-21T18:44:27.778Z"
   },
   {
    "duration": 3,
    "start_time": "2021-12-21T18:44:29.517Z"
   },
   {
    "duration": 4,
    "start_time": "2021-12-21T18:44:30.884Z"
   },
   {
    "duration": 24,
    "start_time": "2021-12-21T18:44:32.226Z"
   },
   {
    "duration": 27,
    "start_time": "2021-12-21T18:44:35.138Z"
   },
   {
    "duration": 24,
    "start_time": "2021-12-21T18:44:37.091Z"
   },
   {
    "duration": 70,
    "start_time": "2021-12-21T18:44:39.270Z"
   },
   {
    "duration": 78,
    "start_time": "2021-12-21T18:44:40.958Z"
   },
   {
    "duration": 53,
    "start_time": "2021-12-21T18:44:49.153Z"
   },
   {
    "duration": 44,
    "start_time": "2021-12-21T18:44:51.415Z"
   },
   {
    "duration": 3,
    "start_time": "2021-12-21T18:46:02.629Z"
   },
   {
    "duration": 15,
    "start_time": "2021-12-21T18:46:14.283Z"
   },
   {
    "duration": 58,
    "start_time": "2021-12-21T18:46:16.749Z"
   },
   {
    "duration": 41,
    "start_time": "2021-12-21T18:47:14.036Z"
   },
   {
    "duration": 14,
    "start_time": "2021-12-21T18:48:37.381Z"
   },
   {
    "duration": 10,
    "start_time": "2021-12-21T18:49:10.533Z"
   },
   {
    "duration": 699,
    "start_time": "2021-12-21T18:50:12.553Z"
   },
   {
    "duration": 191,
    "start_time": "2021-12-21T18:50:13.254Z"
   },
   {
    "duration": 36,
    "start_time": "2021-12-21T18:50:13.447Z"
   },
   {
    "duration": 41,
    "start_time": "2021-12-21T18:50:13.486Z"
   },
   {
    "duration": 5,
    "start_time": "2021-12-21T18:50:13.530Z"
   },
   {
    "duration": 10,
    "start_time": "2021-12-21T18:50:13.537Z"
   },
   {
    "duration": 13,
    "start_time": "2021-12-21T18:50:13.549Z"
   },
   {
    "duration": 53,
    "start_time": "2021-12-21T18:50:13.564Z"
   },
   {
    "duration": 20,
    "start_time": "2021-12-21T18:50:13.621Z"
   },
   {
    "duration": 48,
    "start_time": "2021-12-21T18:50:13.644Z"
   },
   {
    "duration": 92,
    "start_time": "2021-12-21T18:50:13.694Z"
   },
   {
    "duration": 73,
    "start_time": "2021-12-21T18:50:13.788Z"
   },
   {
    "duration": 64,
    "start_time": "2021-12-21T18:50:13.863Z"
   },
   {
    "duration": 60,
    "start_time": "2021-12-21T18:50:13.930Z"
   },
   {
    "duration": 7,
    "start_time": "2021-12-21T18:50:13.992Z"
   },
   {
    "duration": 47,
    "start_time": "2021-12-21T18:50:14.001Z"
   },
   {
    "duration": 101,
    "start_time": "2021-12-21T18:50:14.050Z"
   },
   {
    "duration": 16,
    "start_time": "2021-12-21T18:50:14.153Z"
   },
   {
    "duration": 38,
    "start_time": "2021-12-21T18:50:14.171Z"
   },
   {
    "duration": 25,
    "start_time": "2021-12-21T18:50:14.212Z"
   },
   {
    "duration": 33,
    "start_time": "2021-12-21T18:50:14.239Z"
   },
   {
    "duration": 19,
    "start_time": "2021-12-21T18:50:14.274Z"
   },
   {
    "duration": 16,
    "start_time": "2021-12-21T18:50:14.295Z"
   },
   {
    "duration": 22,
    "start_time": "2021-12-21T18:50:14.313Z"
   },
   {
    "duration": 46,
    "start_time": "2021-12-21T18:50:14.337Z"
   },
   {
    "duration": 16,
    "start_time": "2021-12-21T18:50:14.386Z"
   },
   {
    "duration": 11,
    "start_time": "2021-12-21T18:50:14.406Z"
   },
   {
    "duration": 16,
    "start_time": "2021-12-21T18:50:14.419Z"
   },
   {
    "duration": 32,
    "start_time": "2021-12-21T18:50:14.437Z"
   },
   {
    "duration": 11,
    "start_time": "2021-12-21T18:50:14.471Z"
   },
   {
    "duration": 49,
    "start_time": "2021-12-21T18:50:14.484Z"
   },
   {
    "duration": 37,
    "start_time": "2021-12-21T18:50:14.536Z"
   },
   {
    "duration": 34,
    "start_time": "2021-12-21T18:50:14.575Z"
   },
   {
    "duration": 32,
    "start_time": "2021-12-21T18:50:14.611Z"
   },
   {
    "duration": 26,
    "start_time": "2021-12-21T18:50:14.645Z"
   },
   {
    "duration": 9,
    "start_time": "2021-12-21T18:50:14.673Z"
   },
   {
    "duration": 19,
    "start_time": "2021-12-21T18:50:14.684Z"
   },
   {
    "duration": 26,
    "start_time": "2021-12-21T18:50:14.705Z"
   }
  ],
  "colab": {
   "collapsed_sections": [
    "E0vqbgi9ay0H",
    "VUC88oWjTJw2"
   ],
   "name": "yandex_music_project_2021.2.ipynb",
   "provenance": []
  },
  "kernelspec": {
   "display_name": "Python 3 (ipykernel)",
   "language": "python",
   "name": "python3"
  },
  "language_info": {
   "codemirror_mode": {
    "name": "ipython",
    "version": 3
   },
   "file_extension": ".py",
   "mimetype": "text/x-python",
   "name": "python",
   "nbconvert_exporter": "python",
   "pygments_lexer": "ipython3",
   "version": "3.9.7"
  },
  "toc": {
   "base_numbering": 1,
   "nav_menu": {},
   "number_sections": true,
   "sideBar": true,
   "skip_h1_title": true,
   "title_cell": "Table of Contents",
   "title_sidebar": "Contents",
   "toc_cell": false,
   "toc_position": {},
   "toc_section_display": true,
   "toc_window_display": false
  }
 },
 "nbformat": 4,
 "nbformat_minor": 1
}
