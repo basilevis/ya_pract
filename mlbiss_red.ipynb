{
 "cells": [
  {
   "cell_type": "markdown",
   "metadata": {},
   "source": [
    "# Выбор локации для скважины"
   ]
  },
  {
   "cell_type": "markdown",
   "metadata": {},
   "source": [
    "Допустим, вы работаете в добывающей компании «ГлавРосГосНефть». Нужно решить, где бурить новую скважину.\n",
    "\n",
    "Вам предоставлены пробы нефти в трёх регионах: в каждом 10 000 месторождений, где измерили качество нефти и объём её запасов. Постройте модель машинного обучения, которая поможет определить регион, где добыча принесёт наибольшую прибыль. Проанализируйте возможную прибыль и риски техникой *Bootstrap.*\n",
    "\n",
    "Шаги для выбора локации:\n",
    "\n",
    "- В избранном регионе ищут месторождения, для каждого определяют значения признаков;\n",
    "- Строят модель и оценивают объём запасов;\n",
    "- Выбирают месторождения с самым высокими оценками значений. Количество месторождений зависит от бюджета компании и стоимости разработки одной скважины;\n",
    "- Прибыль равна суммарной прибыли отобранных месторождений.\n",
    "\n",
    "\n",
    "**Описание данных**\n",
    "* *id* — уникальный идентификатор скважины;\n",
    "* *f0, f1, f2* — три признака точек (неважно, что они означают, но сами признаки значимы);\n",
    "* *product* — объём запасов в скважине (тыс. баррелей).\n",
    "\n",
    "\n",
    "Условия задачи:\n",
    "- Для обучения модели подходит только линейная регрессия (остальные — недостаточно предсказуемые).\n",
    "- При разведке региона исследуют 500 точек, из которых с помощью машинного обучения выбирают 200 лучших для разработки.\n",
    "- Бюджет на разработку скважин в регионе — 10 млрд рублей.\n",
    "- При нынешних ценах один баррель сырья приносит 450 рублей дохода. Доход с каждой единицы продукта составляет 450 тыс. рублей, поскольку объём указан в тысячах баррелей.\n",
    "- После оценки рисков нужно оставить лишь те регионы, в которых вероятность убытков меньше 2.5%. Среди них выбирают регион с наибольшей средней прибылью."
   ]
  },
  {
   "cell_type": "markdown",
   "metadata": {},
   "source": [
    "## Загрузка и подготовка данных."
   ]
  },
  {
   "cell_type": "markdown",
   "metadata": {},
   "source": [
    "### Изучение предоставленных файлов"
   ]
  },
  {
   "cell_type": "code",
   "execution_count": 1,
   "metadata": {},
   "outputs": [],
   "source": [
    "import pandas as pd\n",
    "import numpy as np\n",
    "\n",
    "from sklearn.metrics import auc\n",
    "import matplotlib.pyplot as plt\n",
    "from scipy import stats\n",
    "from sklearn.linear_model import LinearRegression\n",
    "from sklearn.linear_model import LogisticRegression\n",
    "from sklearn.ensemble import RandomForestClassifier\n",
    "from sklearn.tree import DecisionTreeClassifier\n",
    "from sklearn.model_selection import train_test_split\n",
    "from tqdm import tqdm\n",
    "from sklearn.utils import shuffle\n",
    "from sklearn.preprocessing import StandardScaler\n",
    "from sklearn.model_selection import GridSearchCV\n",
    "from sklearn.naive_bayes import GaussianNB\n",
    "from sklearn.metrics import f1_score, precision_score, recall_score, accuracy_score, roc_auc_score, roc_curve\n",
    "from sklearn.metrics import mean_absolute_error\n",
    "from sklearn.metrics import mean_squared_error\n",
    "\n",
    "from warnings import simplefilter\n",
    "simplefilter(action='ignore', category=FutureWarning)\n"
   ]
  },
  {
   "cell_type": "code",
   "execution_count": 2,
   "metadata": {},
   "outputs": [],
   "source": [
    "data1 = pd.read_csv('/datasets/geo_data_0.csv') \n",
    "data2 = pd.read_csv('/datasets/geo_data_1.csv') \n",
    "data3 = pd.read_csv('/datasets/geo_data_2.csv')"
   ]
  },
  {
   "cell_type": "markdown",
   "metadata": {},
   "source": [
    "***Выводим информацию о датафреймах.***\n"
   ]
  },
  {
   "cell_type": "code",
   "execution_count": 3,
   "metadata": {},
   "outputs": [],
   "source": [
    "def all_info(data):\n",
    "    print('-------------------------------------------------------------------------------------------------------------')\n",
    "    print('Общая информация:')\n",
    "    print(data.info())\n",
    "    print('-----------------------------------------')\n",
    "    print('Cтатистические данные по файлу:')\n",
    "    print(data.describe())\n",
    "    print('-----------------------------------------')\n",
    "    print('Вывод первых пяти строк:')\n",
    "    print(data.head())\n",
    "    print('-----------------------------------------')\n",
    "    print('Проверяем наличие дубликатов:')\n",
    "    print(data.duplicated().sum())\n",
    "    print('-----------------------------------------')\n",
    "    print('Проверяем наличие дубликатов в id:')\n",
    "    print(data['id'].duplicated().sum())\n",
    "    print('------------------------------------------')\n",
    "    print('Проверяем количество пропущенных значений:')\n",
    "    print(data.isnull().sum())\n",
    "    print('-------------------------------------------------------------------------------------------------------------')"
   ]
  },
  {
   "cell_type": "markdown",
   "metadata": {},
   "source": [
    "\n",
    "***1. data1***"
   ]
  },
  {
   "cell_type": "code",
   "execution_count": 4,
   "metadata": {},
   "outputs": [
    {
     "name": "stdout",
     "output_type": "stream",
     "text": [
      "-------------------------------------------------------------------------------------------------------------\n",
      "Общая информация:\n",
      "<class 'pandas.core.frame.DataFrame'>\n",
      "RangeIndex: 100000 entries, 0 to 99999\n",
      "Data columns (total 5 columns):\n",
      " #   Column   Non-Null Count   Dtype  \n",
      "---  ------   --------------   -----  \n",
      " 0   id       100000 non-null  object \n",
      " 1   f0       100000 non-null  float64\n",
      " 2   f1       100000 non-null  float64\n",
      " 3   f2       100000 non-null  float64\n",
      " 4   product  100000 non-null  float64\n",
      "dtypes: float64(4), object(1)\n",
      "memory usage: 3.8+ MB\n",
      "None\n",
      "-----------------------------------------\n",
      "Cтатистические данные по файлу:\n",
      "                  f0             f1             f2        product\n",
      "count  100000.000000  100000.000000  100000.000000  100000.000000\n",
      "mean        0.500419       0.250143       2.502647      92.500000\n",
      "std         0.871832       0.504433       3.248248      44.288691\n",
      "min        -1.408605      -0.848218     -12.088328       0.000000\n",
      "25%        -0.072580      -0.200881       0.287748      56.497507\n",
      "50%         0.502360       0.250252       2.515969      91.849972\n",
      "75%         1.073581       0.700646       4.715088     128.564089\n",
      "max         2.362331       1.343769      16.003790     185.364347\n",
      "-----------------------------------------\n",
      "Вывод первых пяти строк:\n",
      "      id        f0        f1        f2     product\n",
      "0  txEyH  0.705745 -0.497823  1.221170  105.280062\n",
      "1  2acmU  1.334711 -0.340164  4.365080   73.037750\n",
      "2  409Wp  1.022732  0.151990  1.419926   85.265647\n",
      "3  iJLyR -0.032172  0.139033  2.978566  168.620776\n",
      "4  Xdl7t  1.988431  0.155413  4.751769  154.036647\n",
      "-----------------------------------------\n",
      "Проверяем наличие дубликатов:\n",
      "0\n",
      "-----------------------------------------\n",
      "Проверяем наличие дубликатов в id:\n",
      "10\n",
      "------------------------------------------\n",
      "Проверяем количество пропущенных значений:\n",
      "id         0\n",
      "f0         0\n",
      "f1         0\n",
      "f2         0\n",
      "product    0\n",
      "dtype: int64\n",
      "-------------------------------------------------------------------------------------------------------------\n",
      "None\n"
     ]
    }
   ],
   "source": [
    "print( all_info(data1))"
   ]
  },
  {
   "cell_type": "markdown",
   "metadata": {},
   "source": [
    "***2. data2***"
   ]
  },
  {
   "cell_type": "code",
   "execution_count": 5,
   "metadata": {},
   "outputs": [
    {
     "name": "stdout",
     "output_type": "stream",
     "text": [
      "-------------------------------------------------------------------------------------------------------------\n",
      "Общая информация:\n",
      "<class 'pandas.core.frame.DataFrame'>\n",
      "RangeIndex: 100000 entries, 0 to 99999\n",
      "Data columns (total 5 columns):\n",
      " #   Column   Non-Null Count   Dtype  \n",
      "---  ------   --------------   -----  \n",
      " 0   id       100000 non-null  object \n",
      " 1   f0       100000 non-null  float64\n",
      " 2   f1       100000 non-null  float64\n",
      " 3   f2       100000 non-null  float64\n",
      " 4   product  100000 non-null  float64\n",
      "dtypes: float64(4), object(1)\n",
      "memory usage: 3.8+ MB\n",
      "None\n",
      "-----------------------------------------\n",
      "Cтатистические данные по файлу:\n",
      "                  f0             f1             f2        product\n",
      "count  100000.000000  100000.000000  100000.000000  100000.000000\n",
      "mean        1.141296      -4.796579       2.494541      68.825000\n",
      "std         8.965932       5.119872       1.703572      45.944423\n",
      "min       -31.609576     -26.358598      -0.018144       0.000000\n",
      "25%        -6.298551      -8.267985       1.000021      26.953261\n",
      "50%         1.153055      -4.813172       2.011479      57.085625\n",
      "75%         8.621015      -1.332816       3.999904     107.813044\n",
      "max        29.421755      18.734063       5.019721     137.945408\n",
      "-----------------------------------------\n",
      "Вывод первых пяти строк:\n",
      "      id         f0         f1        f2     product\n",
      "0  kBEdx -15.001348  -8.276000 -0.005876    3.179103\n",
      "1  62mP7  14.272088  -3.475083  0.999183   26.953261\n",
      "2  vyE1P   6.263187  -5.948386  5.001160  134.766305\n",
      "3  KcrkZ -13.081196 -11.506057  4.999415  137.945408\n",
      "4  AHL4O  12.702195  -8.147433  5.004363  134.766305\n",
      "-----------------------------------------\n",
      "Проверяем наличие дубликатов:\n",
      "0\n",
      "-----------------------------------------\n",
      "Проверяем наличие дубликатов в id:\n",
      "4\n",
      "------------------------------------------\n",
      "Проверяем количество пропущенных значений:\n",
      "id         0\n",
      "f0         0\n",
      "f1         0\n",
      "f2         0\n",
      "product    0\n",
      "dtype: int64\n",
      "-------------------------------------------------------------------------------------------------------------\n",
      "None\n"
     ]
    }
   ],
   "source": [
    "print( all_info(data2))"
   ]
  },
  {
   "cell_type": "markdown",
   "metadata": {},
   "source": [
    "***3. data3***"
   ]
  },
  {
   "cell_type": "code",
   "execution_count": 6,
   "metadata": {},
   "outputs": [
    {
     "name": "stdout",
     "output_type": "stream",
     "text": [
      "-------------------------------------------------------------------------------------------------------------\n",
      "Общая информация:\n",
      "<class 'pandas.core.frame.DataFrame'>\n",
      "RangeIndex: 100000 entries, 0 to 99999\n",
      "Data columns (total 5 columns):\n",
      " #   Column   Non-Null Count   Dtype  \n",
      "---  ------   --------------   -----  \n",
      " 0   id       100000 non-null  object \n",
      " 1   f0       100000 non-null  float64\n",
      " 2   f1       100000 non-null  float64\n",
      " 3   f2       100000 non-null  float64\n",
      " 4   product  100000 non-null  float64\n",
      "dtypes: float64(4), object(1)\n",
      "memory usage: 3.8+ MB\n",
      "None\n",
      "-----------------------------------------\n",
      "Cтатистические данные по файлу:\n",
      "                  f0             f1             f2        product\n",
      "count  100000.000000  100000.000000  100000.000000  100000.000000\n",
      "mean        0.002023      -0.002081       2.495128      95.000000\n",
      "std         1.732045       1.730417       3.473445      44.749921\n",
      "min        -8.760004      -7.084020     -11.970335       0.000000\n",
      "25%        -1.162288      -1.174820       0.130359      59.450441\n",
      "50%         0.009424      -0.009482       2.484236      94.925613\n",
      "75%         1.158535       1.163678       4.858794     130.595027\n",
      "max         7.238262       7.844801      16.739402     190.029838\n",
      "-----------------------------------------\n",
      "Вывод первых пяти строк:\n",
      "      id        f0        f1        f2     product\n",
      "0  fwXo0 -1.146987  0.963328 -0.828965   27.758673\n",
      "1  WJtFt  0.262778  0.269839 -2.530187   56.069697\n",
      "2  ovLUW  0.194587  0.289035 -5.586433   62.871910\n",
      "3  q6cA6  2.236060 -0.553760  0.930038  114.572842\n",
      "4  WPMUX -0.515993  1.716266  5.899011  149.600746\n",
      "-----------------------------------------\n",
      "Проверяем наличие дубликатов:\n",
      "0\n",
      "-----------------------------------------\n",
      "Проверяем наличие дубликатов в id:\n",
      "4\n",
      "------------------------------------------\n",
      "Проверяем количество пропущенных значений:\n",
      "id         0\n",
      "f0         0\n",
      "f1         0\n",
      "f2         0\n",
      "product    0\n",
      "dtype: int64\n",
      "-------------------------------------------------------------------------------------------------------------\n",
      "None\n"
     ]
    }
   ],
   "source": [
    "print(all_info(data3))"
   ]
  },
  {
   "cell_type": "markdown",
   "metadata": {},
   "source": [
    "**Выводы:**\n",
    "Размер выборок во всех датафреймах одинаковый: 100000 позиций, данные о которых распределены в 5 столбцах. О графах с признаками точек нет более полной информации, что-то сказать о данных в этих столбцах нельзя. Однако пропущенных значений в них нет, а нулевые значения сами по себе имеют место быть. В столбцах с уникальным идентификатором скважины встречаются дупликаты, однако в других столбцах под одним id данные разнятся, тк нет полных дубликатов. Будем считать эти строки измерениями одной скважины в разные моменты в времени, сделанные единично по какой-либо причине. В графе с объёмом запасов в скважине минимальное значение равно 0, что, в целом, можно допустить.\n",
    "\n",
    "*Предобработка данных не требуется.*\n"
   ]
  },
  {
   "cell_type": "markdown",
   "metadata": {},
   "source": [
    "## Обучение и проверка модели\n",
    "\n",
    "### ***Разбиваем данные на обучающую и валидационную выборки для каждого региона:***\n",
    "\n",
    "Разбиваем каждый датафрейм на обучающую и валидационную выборки в соотношении 75:25, т е 3:1.\n",
    "\n",
    "В качестве целевого признака выделяем *'product'*\n",
    "\n",
    "Так как данные в столбце с id имеют тип object, сохранение столбца будет приводить в дальнейшем к ошибке. Вместе с целевым признаков удаляем столбец с id, не сбрасывая индекс."
   ]
  },
  {
   "cell_type": "code",
   "execution_count": 7,
   "metadata": {},
   "outputs": [],
   "source": [
    "features_df1 = data1.drop(['id', 'product'], axis = 1) \n",
    "target_df1 = data1['product']\n",
    "\n",
    "features_df2 = data2.drop(['id', 'product'], axis = 1)\n",
    "target_df2 = data2['product']\n",
    "\n",
    "features_df3 = data3.drop(['id', 'product'], axis = 1)\n",
    "target_df3 = data3['product']\n",
    "\n",
    "\n",
    "\n",
    "features_train_df1, features_valid_df1, target_train_df1, target_valid_df1 = train_test_split(\n",
    "    features_df1, target_df1, test_size = 0.25, random_state = 12345)\n",
    "\n",
    "features_train_df2, features_valid_df2, target_train_df2, target_valid_df2 = train_test_split(\n",
    "    features_df2, target_df2, test_size = 0.25, random_state = 12345)\n",
    "\n",
    "features_train_df3, features_valid_df3, target_train_df3, target_valid_df3 = train_test_split(\n",
    "    features_df3, target_df3, test_size = 0.25, random_state = 12345)\n",
    "\n"
   ]
  },
  {
   "cell_type": "markdown",
   "metadata": {},
   "source": [
    "Проверим размерность наборов: тренировочного и тестового:"
   ]
  },
  {
   "cell_type": "code",
   "execution_count": 8,
   "metadata": {},
   "outputs": [
    {
     "name": "stdout",
     "output_type": "stream",
     "text": [
      "(75000,) (25000,)\n",
      "(75000,) (25000,)\n",
      "(75000,) (25000,)\n"
     ]
    }
   ],
   "source": [
    "print(target_train_df1.shape, target_valid_df1.shape)\n",
    "print(target_train_df2.shape, target_valid_df2.shape)\n",
    "print(target_train_df3.shape, target_valid_df3.shape)"
   ]
  },
  {
   "cell_type": "markdown",
   "metadata": {},
   "source": [
    "### Обучение и проверка модели\n",
    "\n",
    "1. Обучите модель и сделайте предсказания на валидационной выборке.\n",
    "2. Сохраните предсказания и правильные ответы на валидационной выборке.\n",
    "3. Напечатайте на экране средний запас предсказанного сырья и RMSE модели.\n",
    "4. Проанализируйте результаты."
   ]
  },
  {
   "cell_type": "markdown",
   "metadata": {},
   "source": [
    "**Месторождение 1**"
   ]
  },
  {
   "cell_type": "code",
   "execution_count": 9,
   "metadata": {},
   "outputs": [
    {
     "name": "stdout",
     "output_type": "stream",
     "text": [
      "Средний предсказанный запас возможного сырья в месторождении валидационной выборки: 92.59256778438035\n",
      "Средний фактический запас сырья в месторождении выборки: 92.07859674082927\n",
      "RMSE модели линейной регрессии на валидационной выборке: 37.5794217150813\n"
     ]
    }
   ],
   "source": [
    "model = LinearRegression()\n",
    "model.fit(features_train_df1, target_train_df1) \n",
    "predictions_valid1 = model.predict(features_valid_df1) \n",
    "data1_pred_mean=predictions_valid1.mean()\n",
    "result_df1 = mean_squared_error(target_valid_df1, predictions_valid1)**0.5\n",
    "data1_predictions_valid = model.predict(features_valid_df1)\n",
    "\n",
    "print(\"Средний предсказанный запас возможного сырья в месторождении валидационной выборки:\", data1_pred_mean)\n",
    "print(\"Средний фактический запас сырья в месторождении выборки:\", target_valid_df1.mean())\n",
    "print(\"RMSE модели линейной регрессии на валидационной выборке:\", result_df1)"
   ]
  },
  {
   "cell_type": "markdown",
   "metadata": {},
   "source": [
    "**Месторождение 2**"
   ]
  },
  {
   "cell_type": "code",
   "execution_count": 10,
   "metadata": {},
   "outputs": [
    {
     "name": "stdout",
     "output_type": "stream",
     "text": [
      "Средний предсказанный запас возможного сырья в месторождении валидационной выборки: 68.728546895446\n",
      "Средний фактический запас сырья в месторождении выборки: 68.72313602435997\n",
      "RMSE модели линейной регрессии на валидационной выборке: 0.893099286775617\n"
     ]
    }
   ],
   "source": [
    "model = LinearRegression()\n",
    "model.fit(features_train_df2, target_train_df2) \n",
    "predictions_valid2 = model.predict(features_valid_df2) \n",
    "data2_pred_mean=predictions_valid2.mean()\n",
    "result_df2 = mean_squared_error(target_valid_df2, predictions_valid2)**0.5\n",
    "data2_predictions_valid = model.predict(features_valid_df2)\n",
    "\n",
    "\n",
    "print(\"Средний предсказанный запас возможного сырья в месторождении валидационной выборки:\", data2_pred_mean)\n",
    "print(\"Средний фактический запас сырья в месторождении выборки:\", target_valid_df2.mean())\n",
    "print(\"RMSE модели линейной регрессии на валидационной выборке:\", result_df2)"
   ]
  },
  {
   "cell_type": "markdown",
   "metadata": {},
   "source": [
    "**Месторождение 3**"
   ]
  },
  {
   "cell_type": "code",
   "execution_count": 11,
   "metadata": {},
   "outputs": [
    {
     "name": "stdout",
     "output_type": "stream",
     "text": [
      "Средний предсказанный запас возможного сырья в месторождении валидационной выборки: 94.96504596800489\n",
      "Средний фактический запас сырья в месторождении выборки: 94.88423280885438\n",
      "RMSE модели линейной регрессии на валидационной выборке: 40.02970873393434\n"
     ]
    }
   ],
   "source": [
    "model = LinearRegression()\n",
    "model.fit(features_train_df3, target_train_df3) \n",
    "predictions_valid3 = model.predict(features_valid_df3) \n",
    "data3_pred_mean=predictions_valid3.mean()\n",
    "result_df3 = mean_squared_error(target_valid_df3, predictions_valid3)**0.5\n",
    "data3_predictions_valid = model.predict(features_valid_df3)\n",
    "\n",
    "\n",
    "print(\"Средний предсказанный запас возможного сырья в месторождении валидационной выборки:\", data3_pred_mean )\n",
    "print(\"Средний фактический запас сырья в месторождении выборки:\", target_valid_df3.mean())\n",
    "print(\"RMSE модели линейной регрессии на валидационной выборке:\", result_df3)"
   ]
  },
  {
   "cell_type": "code",
   "execution_count": 12,
   "metadata": {},
   "outputs": [
    {
     "data": {
      "text/html": [
       "<div>\n",
       "<style scoped>\n",
       "    .dataframe tbody tr th:only-of-type {\n",
       "        vertical-align: middle;\n",
       "    }\n",
       "\n",
       "    .dataframe tbody tr th {\n",
       "        vertical-align: top;\n",
       "    }\n",
       "\n",
       "    .dataframe thead th {\n",
       "        text-align: right;\n",
       "    }\n",
       "</style>\n",
       "<table border=\"1\" class=\"dataframe\">\n",
       "  <thead>\n",
       "    <tr style=\"text-align: right;\">\n",
       "      <th></th>\n",
       "      <th>Средний предсказанный запас</th>\n",
       "      <th>Средний фактический запас сырья</th>\n",
       "      <th>RMSE модели  на валидационной выборке</th>\n",
       "    </tr>\n",
       "    <tr>\n",
       "      <th></th>\n",
       "      <th></th>\n",
       "      <th></th>\n",
       "      <th></th>\n",
       "    </tr>\n",
       "  </thead>\n",
       "  <tbody>\n",
       "    <tr>\n",
       "      <th>Месторождение 1</th>\n",
       "      <td>92.592568</td>\n",
       "      <td>92.078597</td>\n",
       "      <td>37.579422</td>\n",
       "    </tr>\n",
       "    <tr>\n",
       "      <th>Месторождение 2</th>\n",
       "      <td>68.728547</td>\n",
       "      <td>68.723136</td>\n",
       "      <td>0.893099</td>\n",
       "    </tr>\n",
       "    <tr>\n",
       "      <th>Месторождение 3</th>\n",
       "      <td>94.965046</td>\n",
       "      <td>94.884233</td>\n",
       "      <td>40.029709</td>\n",
       "    </tr>\n",
       "  </tbody>\n",
       "</table>\n",
       "</div>"
      ],
      "text/plain": [
       "                 Средний предсказанный запас  Средний фактический запас сырья  \\\n",
       "                                                                                \n",
       "Месторождение 1                    92.592568                        92.078597   \n",
       "Месторождение 2                    68.728547                        68.723136   \n",
       "Месторождение 3                    94.965046                        94.884233   \n",
       "\n",
       "                 RMSE модели  на валидационной выборке  \n",
       "                                                        \n",
       "Месторождение 1                              37.579422  \n",
       "Месторождение 2                               0.893099  \n",
       "Месторождение 3                              40.029709  "
      ]
     },
     "execution_count": 12,
     "metadata": {},
     "output_type": "execute_result"
    }
   ],
   "source": [
    "results = pd.DataFrame(\n",
    "                       { \"  \": ['Месторождение 1', 'Месторождение 2', 'Месторождение 3'],\n",
    "                        \"Средний предсказанный запас\": [data1_pred_mean, data2_pred_mean,  data3_pred_mean],\n",
    "                        \"Средний фактический запас сырья\": [target_valid_df1.mean(), target_valid_df2.mean(), target_valid_df3.mean()],\n",
    "                        \"RMSE модели  на валидационной выборке\": [result_df1, result_df2, result_df3]})\n",
    "\n",
    "results.set_index(\"  \")"
   ]
  },
  {
   "cell_type": "markdown",
   "metadata": {},
   "source": [
    "### **Вывод:**\n",
    "Сравнив полученные данные, можно сделать вывод, что судя по показателю RSME, самым выгодным явлеется второе месторождение, однако и по среднему предсказанному запасу сырья, и по фактическому оно уступает другим. Самый большой запас сырья в 3-м месторождении. \n",
    "\n"
   ]
  },
  {
   "cell_type": "markdown",
   "metadata": {},
   "source": [
    "## Подготовимся к расчёту прибыли.\n",
    "\n",
    "1. Все ключевые значения для расчётов сохраним в отдельных переменных.\n",
    "2. Рассчитаем достаточный объём сырья для безубыточной разработки новой скважины. Сравним полученный объём сырья со средним запасом в каждом регионе.\n",
    "3. Напишем выводы по этапу подготовки расчёта прибыли.\n",
    "4. Напишем функцию для расчёта прибыли по выбранным скважинам и предсказаниям модели:\n",
    "5. Выберем скважины с максимальными значениями предсказаний.\n",
    "6. Просуммируем целевое значение объёма сырья, соответствующее этим предсказаниям.\n",
    "7. Рассчитаем прибыль для полученного объёма сырья."
   ]
  },
  {
   "cell_type": "markdown",
   "metadata": {},
   "source": [
    "По условию, бюджет на разработку заложен в 10^10, доход с каждой единицы продукта составляет 450 тыс. рублей, поскольку объём указан в тысячах баррелей. При разведке в регионе выбирают 200 лучших точек для разработки из выборки, равной 500.\n",
    "\n",
    "Так же нужно оставить лишь те регионы, в которых вероятность убытков меньше 2.5%. Среди них выбирают регион с наибольшей средней прибылью.\n",
    "\n",
    "### ***Сформируем переменные и присвоим им вышеобозначенные значения.***"
   ]
  },
  {
   "cell_type": "code",
   "execution_count": 13,
   "metadata": {
    "scrolled": true
   },
   "outputs": [
    {
     "name": "stdout",
     "output_type": "stream",
     "text": [
      "Для безубыточной разработки необходимо чтобы с одной точки шла добыча не менее: 112 тыс. баррелей \n",
      "\n",
      "В финансовом эквиваленте:  50.0 млн\n"
     ]
    }
   ],
   "source": [
    "budget = 10 ** 10\n",
    "revenue = 450000\n",
    "count_borehole = 200\n",
    "\n",
    "sufficient_volume = budget / revenue / count_borehole\n",
    "\n",
    "print('Для безубыточной разработки необходимо чтобы с одной точки шла добыча не менее:', round(sufficient_volume + 1), 'тыс. баррелей \\n')\n",
    "print('В финансовом эквиваленте: ',   (sufficient_volume*revenue)/10**6     , 'млн')\n"
   ]
  },
  {
   "cell_type": "markdown",
   "metadata": {},
   "source": [
    "### ***Рассчитаем средний запас по каждому региону из изначальных файлов***"
   ]
  },
  {
   "cell_type": "code",
   "execution_count": 14,
   "metadata": {},
   "outputs": [
    {
     "name": "stdout",
     "output_type": "stream",
     "text": [
      "В среднем первый регион добывает: 93 тыс. баррелей\n",
      "В среднем второй регион добывает: 69 тыс. баррелей\n",
      "В среднем третий регион добывает: 95 тыс. баррелей\n",
      "Заложенный бюджет: 10000000000\n"
     ]
    }
   ],
   "source": [
    "print('В среднем первый регион добывает:', round(data1['product'].mean()), 'тыс. баррелей')\n",
    "print('В среднем второй регион добывает:', round(data2['product'].mean()), 'тыс. баррелей')\n",
    "print('В среднем третий регион добывает:', round(data3['product'].mean()), 'тыс. баррелей')\n",
    "print('Заложенный бюджет:', budget)"
   ]
  },
  {
   "cell_type": "markdown",
   "metadata": {},
   "source": [
    "**Вывод:** исходя из средних цифр добычи по каждому месторождению, можено сказать, что большая часть их скважин не подходит под принцип безубыточной разработки. Т е при формировании итоговой выборки отклонение не должно быть большим, так как, в целом, под требования попадает относительно меньшее число скважин и нам нужно выбрать только наиболее прибыльные."
   ]
  },
  {
   "cell_type": "markdown",
   "metadata": {},
   "source": [
    "## Расчёт прибыли и рисков "
   ]
  },
  {
   "cell_type": "markdown",
   "metadata": {},
   "source": [
    "###  Найдем среднюю прибыль, 95%-й доверительный интервал и риск убытков. "
   ]
  },
  {
   "cell_type": "markdown",
   "metadata": {},
   "source": [
    "Подготовим данные и сформируем функцию для расчета средней прибыли, 95% доверительного интервала(2,5% шаг) и риска убытков."
   ]
  },
  {
   "cell_type": "code",
   "execution_count": 15,
   "metadata": {},
   "outputs": [],
   "source": [
    "target_valid_df1 = target_valid_df1.reset_index(drop=True)\n",
    "target_valid_df2 = target_valid_df2.reset_index(drop=True)\n",
    "target_valid_df3 = target_valid_df3.reset_index(drop=True)\n",
    "data1_predictions_valid = pd.Series(data1_predictions_valid)\n",
    "data2_predictions_valid = pd.Series(data2_predictions_valid)\n",
    "data3_predictions_valid = pd.Series(data3_predictions_valid)\n"
   ]
  },
  {
   "cell_type": "code",
   "execution_count": 16,
   "metadata": {},
   "outputs": [],
   "source": [
    "def profit_function(target, predictions):\n",
    "    predictions_sorted = predictions.sort_values(ascending=False)\n",
    "    selected_points = target[predictions_sorted.index][:200]\n",
    "    product = selected_points.sum()\n",
    "    revenue_all = product * revenue\n",
    "    return revenue_all - budget\n",
    "\n",
    "\n",
    "state = np.random.RandomState(1234)\n",
    "\n",
    "def profit_risk(target, predictions):\n",
    "    revenues = []\n",
    "    for i in range(1000):\n",
    "        target_sample = target.sample(n=500, replace = True, random_state = state)\n",
    "        predictions_sample = predictions[target_sample.index]\n",
    "        revenues.append(profit_function(target_sample, predictions_sample))\n",
    "        \n",
    "    revenues = pd.Series(revenues)\n",
    "    \n",
    "    lower = revenues.quantile(0.025)\n",
    "    upper = revenues.quantile(0.975)\n",
    "    profit = revenues.mean()\n",
    "    risk = stats.percentileofscore(revenues, 0)\n",
    "    return (lower, upper, profit, risk)\n",
    "\n",
    "\n"
   ]
  },
  {
   "cell_type": "markdown",
   "metadata": {},
   "source": [
    "***Регион 1***"
   ]
  },
  {
   "cell_type": "code",
   "execution_count": 17,
   "metadata": {},
   "outputs": [
    {
     "name": "stdout",
     "output_type": "stream",
     "text": [
      "Средняя прибыль: 417.82 млн\n",
      "95%-й доверительный интервал(нижняя и верхняя границы соответственно): (-112839919.44204798, 964934886.248598)\n",
      "Риск: 6.0\n"
     ]
    }
   ],
   "source": [
    "lower1, upper1, profit1, risk1 = profit_risk(target_valid_df1, data1_predictions_valid)\n",
    "print(\"Средняя прибыль:\", round(profit1/ (10 ** 6), 2), 'млн')\n",
    "print(\"95%-й доверительный интервал(нижняя и верхняя границы соответственно):\", (lower1, upper1))\n",
    "print(\"Риск:\", risk1)\n"
   ]
  },
  {
   "cell_type": "markdown",
   "metadata": {},
   "source": [
    "***Регион 2***"
   ]
  },
  {
   "cell_type": "code",
   "execution_count": 18,
   "metadata": {},
   "outputs": [
    {
     "name": "stdout",
     "output_type": "stream",
     "text": [
      "Средняя прибыль: 528.87 млн\n",
      "95%-й доверительный интервал(нижняя и верхняя границы соответственно): (118020423.53374214, 920140141.857394)\n",
      "Риск: 0.3\n"
     ]
    }
   ],
   "source": [
    "lower2, upper2, profit2, risk2 = profit_risk(target_valid_df2, data2_predictions_valid)\n",
    "print(\"Средняя прибыль:\", round(profit2/ (10 ** 6), 2), 'млн')\n",
    "print(\"95%-й доверительный интервал(нижняя и верхняя границы соответственно):\", (lower2, upper2))\n",
    "print(\"Риск:\", risk2)"
   ]
  },
  {
   "cell_type": "markdown",
   "metadata": {},
   "source": [
    "***Регион 3***"
   ]
  },
  {
   "cell_type": "code",
   "execution_count": 19,
   "metadata": {},
   "outputs": [
    {
     "name": "stdout",
     "output_type": "stream",
     "text": [
      "Средняя прибыль: 410.03 млн\n",
      "95%-й доверительный интервал(нижняя и верхняя границы соответственно): (-97657713.7079339, 952816919.5140896)\n",
      "Риск: 6.8\n"
     ]
    }
   ],
   "source": [
    "lower3, upper3, profit3, risk3 = profit_risk(target_valid_df3, data3_predictions_valid)\n",
    "print(\"Средняя прибыль:\", round(profit3/ (10 ** 6), 2), 'млн')\n",
    "print(\"95%-й доверительный интервал(нижняя и верхняя границы соответственно):\", (lower3, upper3))\n",
    "print(\"Риск:\", risk3)"
   ]
  },
  {
   "cell_type": "code",
   "execution_count": 20,
   "metadata": {},
   "outputs": [
    {
     "data": {
      "text/html": [
       "<div>\n",
       "<style scoped>\n",
       "    .dataframe tbody tr th:only-of-type {\n",
       "        vertical-align: middle;\n",
       "    }\n",
       "\n",
       "    .dataframe tbody tr th {\n",
       "        vertical-align: top;\n",
       "    }\n",
       "\n",
       "    .dataframe thead th {\n",
       "        text-align: right;\n",
       "    }\n",
       "</style>\n",
       "<table border=\"1\" class=\"dataframe\">\n",
       "  <thead>\n",
       "    <tr style=\"text-align: right;\">\n",
       "      <th></th>\n",
       "      <th>|Средняя прибыль, млн|</th>\n",
       "      <th>|2,5% квантиль|</th>\n",
       "      <th>|97.5 квантиль|</th>\n",
       "      <th>|Риски, %|</th>\n",
       "    </tr>\n",
       "    <tr>\n",
       "      <th></th>\n",
       "      <th></th>\n",
       "      <th></th>\n",
       "      <th></th>\n",
       "      <th></th>\n",
       "    </tr>\n",
       "  </thead>\n",
       "  <tbody>\n",
       "    <tr>\n",
       "      <th>Месторождение 1</th>\n",
       "      <td>417.82</td>\n",
       "      <td>-1.128399e+08</td>\n",
       "      <td>9.649349e+08</td>\n",
       "      <td>6.0</td>\n",
       "    </tr>\n",
       "    <tr>\n",
       "      <th>Месторождение 2</th>\n",
       "      <td>528.87</td>\n",
       "      <td>1.180204e+08</td>\n",
       "      <td>9.201401e+08</td>\n",
       "      <td>0.3</td>\n",
       "    </tr>\n",
       "    <tr>\n",
       "      <th>Месторождение 3</th>\n",
       "      <td>410.03</td>\n",
       "      <td>-9.765771e+07</td>\n",
       "      <td>9.528169e+08</td>\n",
       "      <td>6.8</td>\n",
       "    </tr>\n",
       "  </tbody>\n",
       "</table>\n",
       "</div>"
      ],
      "text/plain": [
       "                 |Средняя прибыль, млн|  |2,5% квантиль|  |97.5 квантиль|  \\\n",
       "                                                                            \n",
       "Месторождение 1                  417.82    -1.128399e+08     9.649349e+08   \n",
       "Месторождение 2                  528.87     1.180204e+08     9.201401e+08   \n",
       "Месторождение 3                  410.03    -9.765771e+07     9.528169e+08   \n",
       "\n",
       "                 |Риски, %|  \n",
       "                             \n",
       "Месторождение 1         6.0  \n",
       "Месторождение 2         0.3  \n",
       "Месторождение 3         6.8  "
      ]
     },
     "execution_count": 20,
     "metadata": {},
     "output_type": "execute_result"
    }
   ],
   "source": [
    "final_results = pd.DataFrame(\n",
    "                       { \"  \": ['Месторождение 1', 'Месторождение 2', 'Месторождение 3'],\n",
    "                        \"|Средняя прибыль, млн|\": [round(profit1/ (10 ** 6), 2), round(profit2/ (10 ** 6), 2),  round(profit3/ (10 ** 6), 2)],\n",
    "                        \"|2,5% квантиль|\": [lower1, lower2, lower3],\n",
    "                        \"|97.5 квантиль|\": [upper1, upper2, upper3],\n",
    "                        \"|Риски, %|\": [risk1, risk2, risk3]})\n",
    "\n",
    "final_results.set_index(\"  \")"
   ]
  },
  {
   "cell_type": "markdown",
   "metadata": {},
   "source": [
    "###  **Вывод:**\n",
    "Основываясь на полученных результатах можно сказать, что  наибольшую прибыль и минимальный риск показал второй регион.Но так же стоит учесть, несмотря на то, что по показателю RSME, самым выгодным явлеется второе месторождение, однако и по среднему предсказанному запасу сырья, и по фактическому оно уступает другим. Возможно, есть смысл расширить исследование. Далее из двух других регионов большую прибыль и наименьший риск имеет первый."
   ]
  },
  {
   "cell_type": "markdown",
   "metadata": {},
   "source": [
    "## ***Общий вывод***"
   ]
  },
  {
   "cell_type": "markdown",
   "metadata": {},
   "source": [
    "В процессе работы были изучены предоставленные файлы: объем информации, статистические данные, информация о пропусках и дубликатах.  Далее были сформированы обучающие и валидационные выборки для каждого региона. В качестве целевого признака выделен 'product'. Была выполнена подготовка датафреймов. Далее методом линейной регрессии были обучены модели, информация была сохранена в соответствующие переменные. Были сревнены средний предсказанный запас возможного сырья и средний фактический запас сырья в месторождениях. Были выведены результаты RMSE модели линейной регрессии на валидационной выборке. По итогу можно сказать, что судя по показателю RSME, самым выгодным явлеется второе месторождение, однако и по среднему предсказанному запасу сырья, и по фактическому оно уступает другим. Самый большой запас сырья в 3-м месторождении. Далее вполнена подготовка к расчету прибыли: ключевые значения для расчётов сохранли в отдельных переменных; рассчитали достаточный объём сырья для безубыточной разработки новой скважины; сравнили полученный объём сырья со средним запасом в каждом регионе. Так же, исходя из средних цифр фактической добычи по каждому месторождению, можено сказать, что большая часть их скважин не подходит под принцип безубыточной разработки. Т е при формировании итоговой выборки отклонение не должно быть большим, так как, в целом, под требования попадает относительно меньшее число скважин и нам нужно выбрать только наиболее прибыльные. Рассчитали прибыль для полученного объёма сырья.\n",
    "\n",
    "*Основываясь на полученных результатах можно сказать, что наибольшую прибыль и минимальный риск показал **второй регион**, принимаем его за рекомендованный к разработке.* Но так же стоит учесть, несмотря на то, что по показателю RSME, самым выгодным явлеется второе месторождение, однако и по среднему предсказанному запасу сырья, и по фактическому оно уступает другим. Возможно, есть смысл расширить исследование. Далее из двух других регионов большую прибыль и наименьший риск имеет первый.\n"
   ]
  }
 ],
 "metadata": {
  "ExecuteTimeLog": [
   {
    "duration": 2197,
    "start_time": "2022-05-12T13:17:16.494Z"
   },
   {
    "duration": 7,
    "start_time": "2022-05-12T13:18:39.557Z"
   },
   {
    "duration": 127,
    "start_time": "2022-05-12T13:20:07.750Z"
   },
   {
    "duration": 5,
    "start_time": "2022-05-12T13:20:16.015Z"
   },
   {
    "duration": 425,
    "start_time": "2022-05-12T13:20:16.311Z"
   },
   {
    "duration": 130,
    "start_time": "2022-05-12T13:20:20.817Z"
   },
   {
    "duration": 107,
    "start_time": "2022-05-12T13:21:03.242Z"
   },
   {
    "duration": 124,
    "start_time": "2022-05-12T13:21:15.534Z"
   },
   {
    "duration": 68,
    "start_time": "2022-05-12T13:33:00.819Z"
   },
   {
    "duration": 5,
    "start_time": "2022-05-12T13:33:34.089Z"
   },
   {
    "duration": 85,
    "start_time": "2022-05-12T13:35:58.963Z"
   },
   {
    "duration": 32,
    "start_time": "2022-05-12T13:36:03.617Z"
   },
   {
    "duration": 69,
    "start_time": "2022-05-12T13:37:06.170Z"
   },
   {
    "duration": 24,
    "start_time": "2022-05-12T13:37:08.965Z"
   },
   {
    "duration": 86,
    "start_time": "2022-05-12T13:37:09.659Z"
   },
   {
    "duration": 17,
    "start_time": "2022-05-12T13:37:23.322Z"
   },
   {
    "duration": 10,
    "start_time": "2022-05-12T13:38:59.910Z"
   },
   {
    "duration": 8,
    "start_time": "2022-05-12T13:39:39.780Z"
   },
   {
    "duration": 5,
    "start_time": "2022-05-12T13:41:39.158Z"
   },
   {
    "duration": 1509,
    "start_time": "2022-05-12T13:41:55.766Z"
   },
   {
    "duration": 1317,
    "start_time": "2022-05-12T13:42:38.236Z"
   },
   {
    "duration": 1746,
    "start_time": "2022-05-12T13:42:39.555Z"
   },
   {
    "duration": 6,
    "start_time": "2022-05-12T15:40:48.527Z"
   },
   {
    "duration": 1649,
    "start_time": "2022-05-12T15:48:12.017Z"
   },
   {
    "duration": 4213,
    "start_time": "2022-05-12T15:48:13.668Z"
   },
   {
    "duration": 131,
    "start_time": "2022-05-12T15:48:17.882Z"
   },
   {
    "duration": 144,
    "start_time": "2022-05-12T15:48:18.016Z"
   },
   {
    "duration": 126,
    "start_time": "2022-05-12T15:48:18.162Z"
   },
   {
    "duration": 63,
    "start_time": "2022-05-12T15:48:18.290Z"
   },
   {
    "duration": 4,
    "start_time": "2022-05-12T15:48:18.355Z"
   },
   {
    "duration": 77,
    "start_time": "2022-05-12T15:48:18.361Z"
   },
   {
    "duration": 183,
    "start_time": "2022-05-12T15:48:18.444Z"
   },
   {
    "duration": 109,
    "start_time": "2022-05-12T15:48:18.636Z"
   },
   {
    "duration": 101,
    "start_time": "2022-05-12T15:48:18.826Z"
   },
   {
    "duration": 6,
    "start_time": "2022-05-12T15:48:18.934Z"
   },
   {
    "duration": 7,
    "start_time": "2022-05-12T15:48:18.942Z"
   },
   {
    "duration": 6,
    "start_time": "2022-05-12T15:48:18.951Z"
   },
   {
    "duration": 1431,
    "start_time": "2022-05-12T15:48:18.959Z"
   },
   {
    "duration": 1331,
    "start_time": "2022-05-12T15:48:20.391Z"
   },
   {
    "duration": 1296,
    "start_time": "2022-05-12T15:48:21.726Z"
   },
   {
    "duration": 5,
    "start_time": "2022-05-12T15:52:00.834Z"
   },
   {
    "duration": 1178,
    "start_time": "2022-05-12T16:40:27.339Z"
   },
   {
    "duration": 1243,
    "start_time": "2022-05-12T16:48:11.631Z"
   },
   {
    "duration": 1271,
    "start_time": "2022-05-12T16:48:15.756Z"
   },
   {
    "duration": 1250,
    "start_time": "2022-05-12T16:48:17.030Z"
   },
   {
    "duration": 14,
    "start_time": "2022-05-12T16:58:06.493Z"
   },
   {
    "duration": 16,
    "start_time": "2022-05-12T16:58:37.403Z"
   },
   {
    "duration": 17,
    "start_time": "2022-05-12T16:59:38.649Z"
   },
   {
    "duration": 1578,
    "start_time": "2022-05-12T17:01:01.313Z"
   },
   {
    "duration": 366,
    "start_time": "2022-05-12T17:01:02.894Z"
   },
   {
    "duration": 135,
    "start_time": "2022-05-12T17:01:03.262Z"
   },
   {
    "duration": 130,
    "start_time": "2022-05-12T17:01:03.399Z"
   },
   {
    "duration": 122,
    "start_time": "2022-05-12T17:01:03.532Z"
   },
   {
    "duration": 40,
    "start_time": "2022-05-12T17:01:03.656Z"
   },
   {
    "duration": 24,
    "start_time": "2022-05-12T17:01:03.698Z"
   },
   {
    "duration": 98,
    "start_time": "2022-05-12T17:01:03.724Z"
   },
   {
    "duration": 110,
    "start_time": "2022-05-12T17:01:03.826Z"
   },
   {
    "duration": 108,
    "start_time": "2022-05-12T17:01:04.023Z"
   },
   {
    "duration": 98,
    "start_time": "2022-05-12T17:01:04.134Z"
   },
   {
    "duration": 6,
    "start_time": "2022-05-12T17:01:04.323Z"
   },
   {
    "duration": 8,
    "start_time": "2022-05-12T17:01:04.330Z"
   },
   {
    "duration": 5,
    "start_time": "2022-05-12T17:01:04.341Z"
   },
   {
    "duration": 14,
    "start_time": "2022-05-12T17:01:04.347Z"
   },
   {
    "duration": 1510,
    "start_time": "2022-05-12T17:01:04.363Z"
   },
   {
    "duration": 1354,
    "start_time": "2022-05-12T17:01:05.875Z"
   },
   {
    "duration": 1218,
    "start_time": "2022-05-12T17:01:07.232Z"
   },
   {
    "duration": 13,
    "start_time": "2022-05-12T17:01:08.452Z"
   },
   {
    "duration": 12,
    "start_time": "2022-05-12T17:03:23.838Z"
   },
   {
    "duration": 13,
    "start_time": "2022-05-12T17:03:44.101Z"
   },
   {
    "duration": 1702,
    "start_time": "2022-05-12T17:15:25.478Z"
   },
   {
    "duration": 416,
    "start_time": "2022-05-12T17:15:27.182Z"
   },
   {
    "duration": 158,
    "start_time": "2022-05-12T17:15:27.600Z"
   },
   {
    "duration": 125,
    "start_time": "2022-05-12T17:15:27.760Z"
   },
   {
    "duration": 148,
    "start_time": "2022-05-12T17:15:27.887Z"
   },
   {
    "duration": 44,
    "start_time": "2022-05-12T17:15:28.038Z"
   },
   {
    "duration": 4,
    "start_time": "2022-05-12T17:15:28.084Z"
   },
   {
    "duration": 140,
    "start_time": "2022-05-12T17:15:28.090Z"
   },
   {
    "duration": 112,
    "start_time": "2022-05-12T17:15:28.234Z"
   },
   {
    "duration": 278,
    "start_time": "2022-05-12T17:15:28.349Z"
   },
   {
    "duration": 102,
    "start_time": "2022-05-12T17:15:28.634Z"
   },
   {
    "duration": 5,
    "start_time": "2022-05-12T17:15:28.739Z"
   },
   {
    "duration": 7,
    "start_time": "2022-05-12T17:15:28.745Z"
   },
   {
    "duration": 9,
    "start_time": "2022-05-12T17:15:28.754Z"
   },
   {
    "duration": 6,
    "start_time": "2022-05-12T17:15:28.765Z"
   },
   {
    "duration": 1495,
    "start_time": "2022-05-12T17:15:28.773Z"
   },
   {
    "duration": 1487,
    "start_time": "2022-05-12T17:15:30.270Z"
   },
   {
    "duration": 1419,
    "start_time": "2022-05-12T17:15:31.760Z"
   },
   {
    "duration": 12,
    "start_time": "2022-05-12T17:15:33.181Z"
   },
   {
    "duration": 2623,
    "start_time": "2022-05-12T17:20:02.816Z"
   },
   {
    "duration": 386,
    "start_time": "2022-05-12T17:20:05.442Z"
   },
   {
    "duration": 5,
    "start_time": "2022-05-12T17:20:05.830Z"
   },
   {
    "duration": 148,
    "start_time": "2022-05-12T17:20:05.838Z"
   },
   {
    "duration": 126,
    "start_time": "2022-05-12T17:20:05.988Z"
   },
   {
    "duration": 167,
    "start_time": "2022-05-12T17:20:06.123Z"
   },
   {
    "duration": 66,
    "start_time": "2022-05-12T17:20:06.292Z"
   },
   {
    "duration": 5,
    "start_time": "2022-05-12T17:20:06.360Z"
   },
   {
    "duration": 161,
    "start_time": "2022-05-12T17:20:06.367Z"
   },
   {
    "duration": 108,
    "start_time": "2022-05-12T17:20:06.533Z"
   },
   {
    "duration": 183,
    "start_time": "2022-05-12T17:20:06.643Z"
   },
   {
    "duration": 99,
    "start_time": "2022-05-12T17:20:06.828Z"
   },
   {
    "duration": 5,
    "start_time": "2022-05-12T17:20:06.929Z"
   },
   {
    "duration": 10,
    "start_time": "2022-05-12T17:20:06.936Z"
   },
   {
    "duration": 6,
    "start_time": "2022-05-12T17:20:06.949Z"
   },
   {
    "duration": 8,
    "start_time": "2022-05-12T17:20:06.957Z"
   },
   {
    "duration": 1342,
    "start_time": "2022-05-12T17:20:06.967Z"
   },
   {
    "duration": 1240,
    "start_time": "2022-05-12T17:20:08.311Z"
   },
   {
    "duration": 1931,
    "start_time": "2022-05-12T17:20:09.554Z"
   },
   {
    "duration": 17,
    "start_time": "2022-05-12T17:20:11.487Z"
   },
   {
    "duration": 1877,
    "start_time": "2022-05-12T17:36:18.377Z"
   },
   {
    "duration": 422,
    "start_time": "2022-05-12T17:36:20.256Z"
   },
   {
    "duration": 5,
    "start_time": "2022-05-12T17:36:20.679Z"
   },
   {
    "duration": 145,
    "start_time": "2022-05-12T17:36:20.686Z"
   },
   {
    "duration": 134,
    "start_time": "2022-05-12T17:36:20.833Z"
   },
   {
    "duration": 154,
    "start_time": "2022-05-12T17:36:20.969Z"
   },
   {
    "duration": 62,
    "start_time": "2022-05-12T17:36:21.126Z"
   },
   {
    "duration": 5,
    "start_time": "2022-05-12T17:36:21.191Z"
   },
   {
    "duration": 227,
    "start_time": "2022-05-12T17:36:21.198Z"
   },
   {
    "duration": 198,
    "start_time": "2022-05-12T17:36:21.438Z"
   },
   {
    "duration": 20,
    "start_time": "2022-05-12T17:36:21.723Z"
   },
   {
    "duration": 179,
    "start_time": "2022-05-12T17:36:21.745Z"
   },
   {
    "duration": 5,
    "start_time": "2022-05-12T17:36:21.926Z"
   },
   {
    "duration": 8,
    "start_time": "2022-05-12T17:36:21.934Z"
   },
   {
    "duration": 5,
    "start_time": "2022-05-12T17:36:21.944Z"
   },
   {
    "duration": 8,
    "start_time": "2022-05-12T17:36:21.950Z"
   },
   {
    "duration": 1544,
    "start_time": "2022-05-12T17:36:21.960Z"
   },
   {
    "duration": 1753,
    "start_time": "2022-05-12T17:36:23.506Z"
   },
   {
    "duration": 1221,
    "start_time": "2022-05-12T17:36:25.261Z"
   },
   {
    "duration": 13,
    "start_time": "2022-05-12T17:36:26.484Z"
   }
  ],
  "kernelspec": {
   "display_name": "Python 3 (ipykernel)",
   "language": "python",
   "name": "python3"
  },
  "language_info": {
   "codemirror_mode": {
    "name": "ipython",
    "version": 3
   },
   "file_extension": ".py",
   "mimetype": "text/x-python",
   "name": "python",
   "nbconvert_exporter": "python",
   "pygments_lexer": "ipython3",
   "version": "3.9.7"
  },
  "toc": {
   "base_numbering": 1,
   "nav_menu": {
    "height": "200px",
    "width": "580px"
   },
   "number_sections": true,
   "sideBar": true,
   "skip_h1_title": true,
   "title_cell": "Table of Contents",
   "title_sidebar": "Contents",
   "toc_cell": false,
   "toc_position": {},
   "toc_section_display": true,
   "toc_window_display": false
  }
 },
 "nbformat": 4,
 "nbformat_minor": 2
}
