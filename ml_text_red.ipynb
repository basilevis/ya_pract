{
 "cells": [
  {
   "cell_type": "markdown",
   "metadata": {
    "toc": true
   },
   "source": [
    "<h1>Содержание<span class=\"tocSkip\"></span></h1>\n",
    "<div class=\"toc\"><ul class=\"toc-item\"><li><span><a href=\"#Подготовка\" data-toc-modified-id=\"Подготовка-1\"><span class=\"toc-item-num\">1&nbsp;&nbsp;</span>Подготовка</a></span><ul class=\"toc-item\"><li><span><a href=\"#Загрузим-и-изучим-файл\" data-toc-modified-id=\"Загрузим-и-изучим-файл-1.1\"><span class=\"toc-item-num\">1.1&nbsp;&nbsp;</span>Загрузим и изучим файл</a></span></li><li><span><a href=\"#Обработка-текста\" data-toc-modified-id=\"Обработка-текста-1.2\"><span class=\"toc-item-num\">1.2&nbsp;&nbsp;</span>Обработка текста</a></span></li><li><span><a href=\"#Word2Vec-model\" data-toc-modified-id=\"Word2Vec-model-1.3\"><span class=\"toc-item-num\">1.3&nbsp;&nbsp;</span>Word2Vec model</a></span></li><li><span><a href=\"#Разобьем-данные-на-выборки\" data-toc-modified-id=\"Разобьем-данные-на-выборки-1.4\"><span class=\"toc-item-num\">1.4&nbsp;&nbsp;</span>Разобьем данные на выборки</a></span></li><li><span><a href=\"#Дисбаланс-классов\" data-toc-modified-id=\"Дисбаланс-классов-1.5\"><span class=\"toc-item-num\">1.5&nbsp;&nbsp;</span>Дисбаланс классов</a></span></li><li><span><a href=\"#Выполняем-векторизацию\" data-toc-modified-id=\"Выполняем-векторизацию-1.6\"><span class=\"toc-item-num\">1.6&nbsp;&nbsp;</span>Выполняем векторизацию</a></span></li><li><span><a href=\"#Вывод\" data-toc-modified-id=\"Вывод-1.7\"><span class=\"toc-item-num\">1.7&nbsp;&nbsp;</span>Вывод</a></span></li></ul></li><li><span><a href=\"#Обучение\" data-toc-modified-id=\"Обучение-2\"><span class=\"toc-item-num\">2&nbsp;&nbsp;</span>Обучение</a></span><ul class=\"toc-item\"><li><span><a href=\"#DummyClassifier\" data-toc-modified-id=\"DummyClassifier-2.1\"><span class=\"toc-item-num\">2.1&nbsp;&nbsp;</span>DummyClassifier</a></span></li><li><span><a href=\"#Logistic-Regression\" data-toc-modified-id=\"Logistic-Regression-2.2\"><span class=\"toc-item-num\">2.2&nbsp;&nbsp;</span>Logistic Regression</a></span></li><li><span><a href=\"#Decision-Tree\" data-toc-modified-id=\"Decision-Tree-2.3\"><span class=\"toc-item-num\">2.3&nbsp;&nbsp;</span>Decision Tree</a></span></li><li><span><a href=\"#Random-Forest\" data-toc-modified-id=\"Random-Forest-2.4\"><span class=\"toc-item-num\">2.4&nbsp;&nbsp;</span>Random Forest</a></span></li><li><span><a href=\"#LightGBM\" data-toc-modified-id=\"LightGBM-2.5\"><span class=\"toc-item-num\">2.5&nbsp;&nbsp;</span>LightGBM</a></span></li><li><span><a href=\"#SGDC\" data-toc-modified-id=\"SGDC-2.6\"><span class=\"toc-item-num\">2.6&nbsp;&nbsp;</span>SGDC</a></span></li></ul></li><li><span><a href=\"#Сравнение-моделей\" data-toc-modified-id=\"Сравнение-моделей-3\"><span class=\"toc-item-num\">3&nbsp;&nbsp;</span>Сравнение моделей</a></span></li><li><span><a href=\"#Общий-вывод\" data-toc-modified-id=\"Общий-вывод-4\"><span class=\"toc-item-num\">4&nbsp;&nbsp;</span>Общий вывод</a></span></li><li><span><a href=\"#Чек-лист-проверки\" data-toc-modified-id=\"Чек-лист-проверки-5\"><span class=\"toc-item-num\">5&nbsp;&nbsp;</span>Чек-лист проверки</a></span></li></ul></div>"
   ]
  },
  {
   "cell_type": "markdown",
   "metadata": {},
   "source": [
    "<div> <font  color=lightgray> <s>Извиняюсь, что отправляю не совсем законченную работу, но сроки горят и никак не выходит справится с ошибкой - F1 метрика выходит ниже требуемой.</s></font>  </div>"
   ]
  },
  {
   "cell_type": "markdown",
   "metadata": {},
   "source": [
    "<font color='blue' size=5><b>Комментарий ревьюера</b></font>\n",
    "\n",
    "<font color='blue'>Привет, Регина! Меня зовут Павел Григорьев, и я буду проверять этот проект. Спасибо за проделанную работу! Предлагаю общаться на «ты».</font>\n",
    "<details>\n",
    "\t<summary><u>Инструкция по организационным мометнам (кликабельно)</u></summary>\n",
    "<font color='blue'>Я буду использовать различные цвета, чтобы было удобнее воспринимать мои комментарии:</font>\n",
    "\n",
    "\n",
    "---\n",
    "\n",
    "\n",
    "<font color='blue'>синий текст - просто текст комментария</font>\n",
    "\n",
    "<font color='green'>✔️ и зеленый текст - все отлично</font>\n",
    "\n",
    "<font color='orange'>⚠️ и оранжевый текст - сделано все правильно, однако есть рекомендации, на что стоит обратить внимание</font>\n",
    "\n",
    "<font color='red'>❌ и красный текст - есть недочеты</font>\n",
    "\n",
    "\n",
    "</details>    \n",
    "    </br>\n",
    "\n",
    "<font color='blue'>Пожалуйста, не удаляй мои комментарии в случае возврата работы, так будет проще разобраться, какие были недочеты, а также сразу увидеть исправленное. </font>\n",
    "\n",
    "Ответы на мои комментарии лучше тоже помечать.\n",
    "Например: <font color='purple'><b>Комментарий студента</b></font>\n",
    "\n",
    "<font color='blue'><b>Давай смотреть, что получилось!</b></font>"
   ]
  },
  {
   "cell_type": "markdown",
   "metadata": {},
   "source": [
    "<font color='blue' size=3><b>Комментарий ревьюера 2</b></font>\n",
    "\n",
    "<font color='blue'>Привет еще раз. Спасибо, за исправления. Оформление комментариев по работе сохраняется. Только обозначим, что это вторая итерация.</font>"
   ]
  },
  {
   "cell_type": "markdown",
   "metadata": {},
   "source": [
    "# Проект для «Викишоп»"
   ]
  },
  {
   "cell_type": "markdown",
   "metadata": {},
   "source": [
    "Интернет-магазин «Викишоп» запускает новый сервис. Теперь пользователи могут редактировать и дополнять описания товаров, как в вики-сообществах. То есть клиенты предлагают свои правки и комментируют изменения других. Магазину нужен инструмент, который будет искать токсичные комментарии и отправлять их на модерацию. \n",
    "\n",
    "Обучите модель классифицировать комментарии на позитивные и негативные. В вашем распоряжении набор данных с разметкой о токсичности правок.\n",
    "\n",
    "Постройте модель со значением метрики качества *F1* не меньше 0.75. \n",
    "\n",
    "**Инструкция по выполнению проекта**\n",
    "\n",
    "1. Загрузите и подготовьте данные.\n",
    "2. Обучите разные модели. \n",
    "3. Сделайте выводы.\n",
    "\n",
    "Для выполнения проекта применять *BERT* необязательно, но вы можете попробовать.\n",
    "\n",
    "**Описание данных**\n",
    "\n",
    "Данные находятся в файле `toxic_comments.csv`. Столбец *text* в нём содержит текст комментария, а *toxic* — целевой признак."
   ]
  },
  {
   "cell_type": "markdown",
   "metadata": {},
   "source": [
    "## Подготовка"
   ]
  },
  {
   "cell_type": "code",
   "execution_count": 1,
   "metadata": {},
   "outputs": [
    {
     "name": "stderr",
     "output_type": "stream",
     "text": [
      "[nltk_data] Downloading package stopwords to /home/jovyan/nltk_data...\n",
      "[nltk_data]   Package stopwords is already up-to-date!\n",
      "[nltk_data] Downloading package averaged_perceptron_tagger to\n",
      "[nltk_data]     /home/jovyan/nltk_data...\n",
      "[nltk_data]   Unzipping taggers/averaged_perceptron_tagger.zip.\n",
      "[nltk_data] Downloading package wordnet to /home/jovyan/nltk_data...\n",
      "[nltk_data]   Package wordnet is already up-to-date!\n",
      "[nltk_data] Downloading package punkt to /home/jovyan/nltk_data...\n",
      "[nltk_data]   Package punkt is already up-to-date!\n"
     ]
    }
   ],
   "source": [
    "import numpy as np\n",
    "import pandas as pd\n",
    "from scipy import stats as st\n",
    "import time\n",
    "import warnings\n",
    "import datetime\n",
    "\n",
    "import os \n",
    "from pathlib import Path\n",
    "import urllib\n",
    "\n",
    "import re, string\n",
    "import nltk\n",
    "from nltk.corpus import wordnet\n",
    "from nltk.stem import WordNetLemmatizer\n",
    "from sklearn.feature_extraction.text import CountVectorizer, TfidfVectorizer\n",
    "nltk.download('stopwords')\n",
    "nltk.download('averaged_perceptron_tagger')\n",
    "nltk.download('wordnet')\n",
    "nltk.download('punkt')\n",
    "from nltk.corpus import stopwords as nltk_stopwords\n",
    "from nltk.stem import SnowballStemmer\n",
    "from nltk.tokenize import word_tokenize\n",
    "from nltk.corpus import stopwords\n",
    "from nltk.tokenize import word_tokenize\n",
    "from nltk.stem import SnowballStemmer\n",
    "from nltk.corpus import wordnet\n",
    "from nltk.stem import WordNetLemmatizer\n",
    "\n",
    "from sklearn.tree import DecisionTreeClassifier\n",
    "from sklearn.ensemble import RandomForestClassifier\n",
    "from sklearn.dummy import DummyClassifier\n",
    "from sklearn.linear_model import LogisticRegression, SGDClassifier\n",
    "from catboost import Pool, CatBoostClassifier\n",
    "import xgboost as xgb\n",
    "import lightgbm as lgb\n",
    "\n",
    "from sklearn.feature_extraction.text import TfidfVectorizer\n",
    "from sklearn.feature_extraction.text import CountVectorizer\n",
    "from gensim.models import Word2Vec\n",
    "\n",
    "from sklearn.model_selection import train_test_split, GridSearchCV, cross_val_score, RandomizedSearchCV\n",
    "\n",
    "from sklearn.metrics import confusion_matrix, recall_score, precision_score, f1_score,  accuracy_score, roc_auc_score, precision_recall_curve, roc_curve\n",
    "\n",
    "from sklearn.utils import shuffle\n",
    "\n",
    "from sklearn.svm import SVC\n",
    "\n",
    "from tqdm import tqdm\n",
    "from pprint import pprint\n",
    "from time import time\n",
    "import logging\n",
    "\n",
    "import matplotlib as mpl\n",
    "import matplotlib.pyplot as plt\n",
    "import matplotlib.ticker as ticker\n",
    "import seaborn as sns\n",
    "\n",
    "import warnings\n",
    "warnings.filterwarnings('ignore')"
   ]
  },
  {
   "cell_type": "markdown",
   "metadata": {},
   "source": [
    "<font color='blue'><b>Комментарий ревьюера: </b></font> ✔️ <br>\n",
    "<font color='green'>Здорово, что все импорты находятся в одной ячейке.<br>\n",
    "Если хочешь сделать ещё лучше, соблюдай стандарт PEP-8, разбей импорты на функциональные группы, раздели группы пустой строкой. Можно в каждой группе отсортировать импорты в алфавитном порядке.<br>\n",
    "Ссылка для ознакомления: https://pythonworld.ru/osnovy/pep-8-rukovodstvo-po-napisaniyu-koda-na-python.html\n",
    "</font>"
   ]
  },
  {
   "cell_type": "markdown",
   "metadata": {},
   "source": [
    "### Загрузим и изучим файл"
   ]
  },
  {
   "cell_type": "code",
   "execution_count": 2,
   "metadata": {
    "scrolled": true
   },
   "outputs": [
    {
     "data": {
      "text/html": [
       "<div>\n",
       "<style scoped>\n",
       "    .dataframe tbody tr th:only-of-type {\n",
       "        vertical-align: middle;\n",
       "    }\n",
       "\n",
       "    .dataframe tbody tr th {\n",
       "        vertical-align: top;\n",
       "    }\n",
       "\n",
       "    .dataframe thead th {\n",
       "        text-align: right;\n",
       "    }\n",
       "</style>\n",
       "<table border=\"1\" class=\"dataframe\">\n",
       "  <thead>\n",
       "    <tr style=\"text-align: right;\">\n",
       "      <th></th>\n",
       "      <th>text</th>\n",
       "      <th>toxic</th>\n",
       "    </tr>\n",
       "  </thead>\n",
       "  <tbody>\n",
       "    <tr>\n",
       "      <th>0</th>\n",
       "      <td>Explanation\\nWhy the edits made under my usern...</td>\n",
       "      <td>0</td>\n",
       "    </tr>\n",
       "    <tr>\n",
       "      <th>1</th>\n",
       "      <td>D'aww! He matches this background colour I'm s...</td>\n",
       "      <td>0</td>\n",
       "    </tr>\n",
       "    <tr>\n",
       "      <th>2</th>\n",
       "      <td>Hey man, I'm really not trying to edit war. It...</td>\n",
       "      <td>0</td>\n",
       "    </tr>\n",
       "    <tr>\n",
       "      <th>3</th>\n",
       "      <td>\"\\nMore\\nI can't make any real suggestions on ...</td>\n",
       "      <td>0</td>\n",
       "    </tr>\n",
       "    <tr>\n",
       "      <th>4</th>\n",
       "      <td>You, sir, are my hero. Any chance you remember...</td>\n",
       "      <td>0</td>\n",
       "    </tr>\n",
       "  </tbody>\n",
       "</table>\n",
       "</div>"
      ],
      "text/plain": [
       "                                                text  toxic\n",
       "0  Explanation\\nWhy the edits made under my usern...      0\n",
       "1  D'aww! He matches this background colour I'm s...      0\n",
       "2  Hey man, I'm really not trying to edit war. It...      0\n",
       "3  \"\\nMore\\nI can't make any real suggestions on ...      0\n",
       "4  You, sir, are my hero. Any chance you remember...      0"
      ]
     },
     "execution_count": 2,
     "metadata": {},
     "output_type": "execute_result"
    }
   ],
   "source": [
    "df = pd.read_csv(\"/datasets/toxic_comments.csv\") \n",
    "df.head()"
   ]
  },
  {
   "cell_type": "markdown",
   "metadata": {},
   "source": [
    "Как либо форматировать текст на данном этапе не будем. Несмотря на то, что использование верхнего регистра может быть важным в обучении, т к может демонстрировать экспрессию, решено в дальнейшем привести текст к нижнему регистру,  т к в длинном предложении, например, может быть много заглавных букв или аббривеатур."
   ]
  },
  {
   "cell_type": "markdown",
   "metadata": {},
   "source": [
    "<font color='blue'><b>Комментарий ревьюера: </b></font> ⚠️\\\n",
    "<font color='darkorange'> Приведение к одномку регистру сокращает словарь, что приводит к ускорению работы и повышению точности )). </font>"
   ]
  },
  {
   "cell_type": "markdown",
   "metadata": {},
   "source": [
    "<div > <font  color='teal'  > С самого начала сомневалась. Исправила. </font>  </div>"
   ]
  },
  {
   "cell_type": "code",
   "execution_count": 3,
   "metadata": {},
   "outputs": [
    {
     "name": "stdout",
     "output_type": "stream",
     "text": [
      "<class 'pandas.core.frame.DataFrame'>\n",
      "RangeIndex: 159571 entries, 0 to 159570\n",
      "Data columns (total 2 columns):\n",
      " #   Column  Non-Null Count   Dtype \n",
      "---  ------  --------------   ----- \n",
      " 0   text    159571 non-null  object\n",
      " 1   toxic   159571 non-null  int64 \n",
      "dtypes: int64(1), object(1)\n",
      "memory usage: 2.4+ MB\n"
     ]
    }
   ],
   "source": [
    "df.info()"
   ]
  },
  {
   "cell_type": "code",
   "execution_count": 4,
   "metadata": {},
   "outputs": [
    {
     "name": "stdout",
     "output_type": "stream",
     "text": [
      "Количество дубликатов:  0\n",
      "\n",
      "Количество пропусков: \n",
      "text     0\n",
      "toxic    0\n",
      "dtype: int64\n"
     ]
    }
   ],
   "source": [
    "print('Количество дубликатов: ', df.duplicated().sum())\n",
    "print()\n",
    "print('Количество пропусков: ', df.isna().sum(), sep='\\n')"
   ]
  },
  {
   "cell_type": "code",
   "execution_count": 5,
   "metadata": {},
   "outputs": [
    {
     "data": {
      "text/plain": [
       "0    143346\n",
       "1     16225\n",
       "Name: toxic, dtype: int64"
      ]
     },
     "execution_count": 5,
     "metadata": {},
     "output_type": "execute_result"
    }
   ],
   "source": [
    "df['toxic'].value_counts()"
   ]
  },
  {
   "cell_type": "markdown",
   "metadata": {},
   "source": [
    "В столбце с идентификатором токсичных комментариев значение может быть либо *1*, либо *0*. Находим количество комментариев, помеченных *1*:"
   ]
  },
  {
   "cell_type": "code",
   "execution_count": 6,
   "metadata": {},
   "outputs": [
    {
     "data": {
      "image/png": "[encoded data removed]",
      "text/plain": [
       "<Figure size 432x288 with 1 Axes>"
      ]
     },
     "metadata": {},
     "output_type": "display_data"
    }
   ],
   "source": [
    "labels = 'Neutral', 'Toxic'\n",
    "sizes = df['toxic'].value_counts() #[15, 30]\n",
    "colours = {'Neutral': 'sandybrown',\n",
    "           'Toxic': 'darkseagreen'}\n",
    "\n",
    "          \n",
    "fig1, ax1 = plt.subplots()\n",
    "explode = (0, 0.3)\n",
    "ax1.pie(sizes, explode=explode, labels=labels, autopct='%1.1f%%',\n",
    "        shadow=True, startangle=90, colors=[colours[key] for key in labels])\n",
    "ax1.axis('equal')  \n",
    "plt.show()"
   ]
  },
  {
   "cell_type": "markdown",
   "metadata": {},
   "source": [
    "*Выходит, процент токсичных комментариев в исходной выборке - 10.2%.*"
   ]
  },
  {
   "cell_type": "markdown",
   "metadata": {},
   "source": [
    "### Обработка текста"
   ]
  },
  {
   "cell_type": "markdown",
   "metadata": {},
   "source": [
    "Предоставленный набор данных имеет достаточно большой объем - 159571 позиция. При дальнейшей работе с таким объемным файлом без  сокращения выборки потребуется значительные технические мощности и очень много времени.\n",
    "\n",
    "Решено сократить выборку. Проанализируем содержание файла, чтобы решить, какой путь сокращения будет оптимальным. \n",
    "Датафрейм содержит комментарии различного объема, посмотрим на их размерность, распределим по количеству слов и визуализируем:"
   ]
  },
  {
   "cell_type": "code",
   "execution_count": 7,
   "metadata": {},
   "outputs": [
    {
     "data": {
      "image/png": "[encoded data removed]",
      "text/plain": [
       "<Figure size 1080x576 with 1 Axes>"
      ]
     },
     "metadata": {
      "needs_background": "light"
     },
     "output_type": "display_data"
    }
   ],
   "source": [
    "sum_words = []\n",
    "for i in range(len(df)):\n",
    "    num_words = len(df.loc[i, 'text'].split())\n",
    "    sum_words.append(num_words)\n",
    "\n",
    "df['number_of_words'] = pd.Series(sum_words)\n",
    "df['number_of_words'].hist(bins=100, figsize = (15, 8), color='powderblue');"
   ]
  },
  {
   "cell_type": "markdown",
   "metadata": {},
   "source": [
    "<font color='blue'><b>Комментарий ревьюера: </b></font> ⚠️\\\n",
    "<font color='darkorange'> Обрати внимание на отступы. По стандарту должно быть 4 пробела. Твой код будет работать не везде. </font>"
   ]
  },
  {
   "cell_type": "markdown",
   "metadata": {},
   "source": [
    "<div> <font color='teal'> Слетело форматирование(  Исправила</font>  </div>"
   ]
  },
  {
   "cell_type": "code",
   "execution_count": 8,
   "metadata": {},
   "outputs": [
    {
     "data": {
      "text/plain": [
       "count    159571.000000\n",
       "mean         67.273527\n",
       "std          99.230702\n",
       "min           1.000000\n",
       "10%           8.000000\n",
       "30%          20.000000\n",
       "50%          36.000000\n",
       "80%          91.000000\n",
       "85%         114.000000\n",
       "90%         152.000000\n",
       "95%         230.000000\n",
       "98%         386.000000\n",
       "max        1411.000000\n",
       "Name: number_of_words, dtype: float64"
      ]
     },
     "execution_count": 8,
     "metadata": {},
     "output_type": "execute_result"
    }
   ],
   "source": [
    "df['number_of_words'].describe(percentiles=[0.1, 0.30, .80, .85, .90, 0.95, .98]) #расширим перцентили"
   ]
  },
  {
   "cell_type": "markdown",
   "metadata": {},
   "source": [
    "ВИдим, что в среднем комментарий содержит 67 слов. Самые короткие комментарии содержит 1 слово, самые длинные до 1411. Т к анализировать предстоит текст, нельзя говорить о выбросах или аномальных значениях или же ранжировать по количеству комментариев с определенным количеством слов(т е выбрать конкретную границу на основании статистики), т к выборка очень большая.\n",
    "\n",
    "Из полученного графика мы видим, что основная масса коментариев содержит до 200-250 слов, это количество ориентировочно соответствует 95%-перцентилю. Количество комментариев с большим количеством слов составляет меньше 5% от всех(т к очень объемные комментарии находятся после 98 перцентиля). \n",
    "Решено убрать слишком объемные комментарии и оставить состоящие из 230 и меньше слов.\n"
   ]
  },
  {
   "cell_type": "code",
   "execution_count": 9,
   "metadata": {},
   "outputs": [
    {
     "data": {
      "text/plain": [
       "(151587, 2)"
      ]
     },
     "execution_count": 9,
     "metadata": {},
     "output_type": "execute_result"
    }
   ],
   "source": [
    "df_light = df[df['number_of_words'] < df['number_of_words'].quantile(.95)]  \n",
    "del df_light['number_of_words']\n",
    "df_light.shape"
   ]
  },
  {
   "cell_type": "code",
   "execution_count": 10,
   "metadata": {},
   "outputs": [
    {
     "data": {
      "text/plain": [
       "0    8943\n",
       "1    1057\n",
       "Name: toxic, dtype: int64"
      ]
     },
     "execution_count": 10,
     "metadata": {},
     "output_type": "execute_result"
    }
   ],
   "source": [
    "df_light = df_light.sample(10000) #если не урезаю выборку, нереальное количество времени уходит даже на линейную регрессию\n",
    "\n",
    "df_light['toxic'].value_counts()"
   ]
  },
  {
   "cell_type": "markdown",
   "metadata": {},
   "source": [
    "Проверяем, какой процент токсичных комментариев перешел в облегченную выборку и нет ли перекоса."
   ]
  },
  {
   "cell_type": "code",
   "execution_count": 11,
   "metadata": {},
   "outputs": [
    {
     "data": {
      "image/png": "[encoded data removed]",
      "text/plain": [
       "<Figure size 432x288 with 1 Axes>"
      ]
     },
     "metadata": {},
     "output_type": "display_data"
    }
   ],
   "source": [
    "labels = 'Neutral', 'Toxic'\n",
    "sizes = df_light['toxic'].value_counts() #[15, 30]\n",
    "colours = {'Neutral': 'gold',\n",
    "           'Toxic': 'yellowgreen'}\n",
    "\n",
    "          \n",
    "fig1, ax1 = plt.subplots()\n",
    "explode = (0, 0.3)\n",
    "ax1.pie(sizes, explode=explode, labels=labels, autopct='%1.1f%%',\n",
    "        shadow=True, startangle=90, colors=[colours[key] for key in labels])\n",
    "ax1.axis('equal')  \n",
    "plt.show()"
   ]
  },
  {
   "cell_type": "markdown",
   "metadata": {},
   "source": [
    "Значительного перекоса не обнаружено.\n",
    "\n"
   ]
  },
  {
   "cell_type": "markdown",
   "metadata": {},
   "source": [
    "Далее приводим комметрарии к нижнему регистру и убираем знаки препинания, а так же не-латиницу."
   ]
  },
  {
   "cell_type": "code",
   "execution_count": 12,
   "metadata": {},
   "outputs": [],
   "source": [
    "#расширила \"чистку\"\n",
    "def preprocess(text):\n",
    "    text = text.lower() \n",
    "    text=text.strip()  \n",
    "    text=re.compile('<.*?>').sub('', text) \n",
    "    text = re.compile('[%s]' % re.escape(string.punctuation)).sub(' ', text)  \n",
    "    text = re.sub('\\s+', ' ', text)  \n",
    "    text = re.sub(r'\\[[0-9]*\\]',' ',text)\n",
    "    text=re.sub(r'[^\\w\\s]', '', str(text).lower().strip())\n",
    "    text = re.sub(r'\\d',' ',text) \n",
    "    text = re.sub(r'\\s+',' ',text)  \n",
    "    \n",
    "    return text\n",
    "\n",
    "\n",
    "def stopword(string):\n",
    "    a= [i for i in string.split() if i not in stopwords.words('english')]\n",
    "    return ' '.join(a)\n",
    "\n",
    "\n",
    "snow = SnowballStemmer('english')\n",
    "\n",
    "def stemming(string):\n",
    "    a=[snow.stem(i) for i in word_tokenize(string) ]\n",
    "    return \" \".join(a)\n",
    "\n",
    "\n",
    "wl = WordNetLemmatizer()\n",
    "def get_wordnet_pos(tag):\n",
    "    if tag.startswith('J'):\n",
    "        return wordnet.ADJ\n",
    "    elif tag.startswith('V'):\n",
    "        return wordnet.VERB\n",
    "    elif tag.startswith('N'):\n",
    "        return wordnet.NOUN\n",
    "    elif tag.startswith('R'):\n",
    "        return wordnet.ADV\n",
    "    else:\n",
    "        return wordnet.NOUN\n",
    "\n",
    "\n",
    "def lemmatizer(string):\n",
    "    word_pos_tags = nltk.pos_tag(word_tokenize(string)) \n",
    "    a=[wl.lemmatize(tag[0], get_wordnet_pos(tag[1])) for idx, tag in enumerate(word_pos_tags)] \n",
    "    return \" \".join(a)\n",
    "\n",
    "\n"
   ]
  },
  {
   "cell_type": "markdown",
   "metadata": {},
   "source": [
    "<font color='blue'><b>Комментарий ревьюера: </b></font> ✔️\\\n",
    "<font color='green'>Оставили только символы Латинского алфавита!</font>"
   ]
  },
  {
   "cell_type": "code",
   "execution_count": 13,
   "metadata": {
    "scrolled": true
   },
   "outputs": [
    {
     "data": {
      "text/html": [
       "<div>\n",
       "<style scoped>\n",
       "    .dataframe tbody tr th:only-of-type {\n",
       "        vertical-align: middle;\n",
       "    }\n",
       "\n",
       "    .dataframe tbody tr th {\n",
       "        vertical-align: top;\n",
       "    }\n",
       "\n",
       "    .dataframe thead th {\n",
       "        text-align: right;\n",
       "    }\n",
       "</style>\n",
       "<table border=\"1\" class=\"dataframe\">\n",
       "  <thead>\n",
       "    <tr style=\"text-align: right;\">\n",
       "      <th></th>\n",
       "      <th>text</th>\n",
       "      <th>toxic</th>\n",
       "      <th>clean_text</th>\n",
       "    </tr>\n",
       "  </thead>\n",
       "  <tbody>\n",
       "    <tr>\n",
       "      <th>114062</th>\n",
       "      <td>Yes, and in my opinion is better an image that...</td>\n",
       "      <td>0</td>\n",
       "      <td>yes opinion well image illustrate aspect medie...</td>\n",
       "    </tr>\n",
       "    <tr>\n",
       "      <th>64517</th>\n",
       "      <td>Everyone needing an attitude adjustment, pleas...</td>\n",
       "      <td>0</td>\n",
       "      <td>everyone need attitude adjustment please line ...</td>\n",
       "    </tr>\n",
       "    <tr>\n",
       "      <th>156500</th>\n",
       "      <td>Dear Lord, take this away from him before he d...</td>\n",
       "      <td>0</td>\n",
       "      <td>dear lord take away damage</td>\n",
       "    </tr>\n",
       "    <tr>\n",
       "      <th>63752</th>\n",
       "      <td>^^^^^^^\\n                stop vandalizing my page</td>\n",
       "      <td>0</td>\n",
       "      <td>stop vandalizing page</td>\n",
       "    </tr>\n",
       "    <tr>\n",
       "      <th>101270</th>\n",
       "      <td>Dude, Chaffehamp, it is obvious you love Mitch...</td>\n",
       "      <td>0</td>\n",
       "      <td>dude chaffehamp obvious love mitch go precious...</td>\n",
       "    </tr>\n",
       "  </tbody>\n",
       "</table>\n",
       "</div>"
      ],
      "text/plain": [
       "                                                     text  toxic  \\\n",
       "114062  Yes, and in my opinion is better an image that...      0   \n",
       "64517   Everyone needing an attitude adjustment, pleas...      0   \n",
       "156500  Dear Lord, take this away from him before he d...      0   \n",
       "63752   ^^^^^^^\\n                stop vandalizing my page      0   \n",
       "101270  Dude, Chaffehamp, it is obvious you love Mitch...      0   \n",
       "\n",
       "                                               clean_text  \n",
       "114062  yes opinion well image illustrate aspect medie...  \n",
       "64517   everyone need attitude adjustment please line ...  \n",
       "156500                         dear lord take away damage  \n",
       "63752                               stop vandalizing page  \n",
       "101270  dude chaffehamp obvious love mitch go precious...  "
      ]
     },
     "execution_count": 13,
     "metadata": {},
     "output_type": "execute_result"
    }
   ],
   "source": [
    "def finalpreprocess(string):\n",
    "    return lemmatizer(stopword(preprocess(string)))\n",
    "\n",
    "df_light['clean_text'] = df_light['text'].apply(lambda x: finalpreprocess(x))\n",
    "\n",
    "df_light.head() "
   ]
  },
  {
   "cell_type": "code",
   "execution_count": 14,
   "metadata": {
    "scrolled": true
   },
   "outputs": [
    {
     "data": {
      "text/html": [
       "<div>\n",
       "<style scoped>\n",
       "    .dataframe tbody tr th:only-of-type {\n",
       "        vertical-align: middle;\n",
       "    }\n",
       "\n",
       "    .dataframe tbody tr th {\n",
       "        vertical-align: top;\n",
       "    }\n",
       "\n",
       "    .dataframe thead th {\n",
       "        text-align: right;\n",
       "    }\n",
       "</style>\n",
       "<table border=\"1\" class=\"dataframe\">\n",
       "  <thead>\n",
       "    <tr style=\"text-align: right;\">\n",
       "      <th></th>\n",
       "      <th>text</th>\n",
       "      <th>toxic</th>\n",
       "      <th>clean_text</th>\n",
       "    </tr>\n",
       "  </thead>\n",
       "  <tbody>\n",
       "    <tr>\n",
       "      <th>114062</th>\n",
       "      <td>Yes, and in my opinion is better an image that...</td>\n",
       "      <td>0</td>\n",
       "      <td>yes opinion well image illustrate aspect medie...</td>\n",
       "    </tr>\n",
       "    <tr>\n",
       "      <th>64517</th>\n",
       "      <td>Everyone needing an attitude adjustment, pleas...</td>\n",
       "      <td>0</td>\n",
       "      <td>everyone need attitude adjustment please line ...</td>\n",
       "    </tr>\n",
       "    <tr>\n",
       "      <th>156500</th>\n",
       "      <td>Dear Lord, take this away from him before he d...</td>\n",
       "      <td>0</td>\n",
       "      <td>dear lord take away damage</td>\n",
       "    </tr>\n",
       "    <tr>\n",
       "      <th>63752</th>\n",
       "      <td>^^^^^^^\\n                stop vandalizing my page</td>\n",
       "      <td>0</td>\n",
       "      <td>stop vandalizing page</td>\n",
       "    </tr>\n",
       "    <tr>\n",
       "      <th>101270</th>\n",
       "      <td>Dude, Chaffehamp, it is obvious you love Mitch...</td>\n",
       "      <td>0</td>\n",
       "      <td>dude chaffehamp obvious love mitch go precious...</td>\n",
       "    </tr>\n",
       "    <tr>\n",
       "      <th>46068</th>\n",
       "      <td>, 8 September 2008 (UTC)\\n I am rara avis, and...</td>\n",
       "      <td>0</td>\n",
       "      <td>september utc rara avis proud must make templa...</td>\n",
       "    </tr>\n",
       "    <tr>\n",
       "      <th>27543</th>\n",
       "      <td>\"If you're going to delete her page, then you ...</td>\n",
       "      <td>0</td>\n",
       "      <td>go delete page may delete page relate matrix c...</td>\n",
       "    </tr>\n",
       "    <tr>\n",
       "      <th>144581</th>\n",
       "      <td>science fiction \\n\\nyour stock you puted on th...</td>\n",
       "      <td>0</td>\n",
       "      <td>science fiction stock put page way political e...</td>\n",
       "    </tr>\n",
       "    <tr>\n",
       "      <th>113483</th>\n",
       "      <td>Thanks for your reply note! More power to you!</td>\n",
       "      <td>0</td>\n",
       "      <td>thanks reply note power</td>\n",
       "    </tr>\n",
       "    <tr>\n",
       "      <th>75132</th>\n",
       "      <td>CUSTOM BIRTHDAY TEMPLATE BY en:</td>\n",
       "      <td>0</td>\n",
       "      <td>custom birthday template en</td>\n",
       "    </tr>\n",
       "    <tr>\n",
       "      <th>115142</th>\n",
       "      <td>Mr Ganesha please do no not simply delete an e...</td>\n",
       "      <td>0</td>\n",
       "      <td>mr ganesha please simply delete edit article w...</td>\n",
       "    </tr>\n",
       "    <tr>\n",
       "      <th>37773</th>\n",
       "      <td>\"==November 2015==\\nHello, and welcome to edit...</td>\n",
       "      <td>0</td>\n",
       "      <td>november hello welcome edit wikipedia unfortun...</td>\n",
       "    </tr>\n",
       "    <tr>\n",
       "      <th>106157</th>\n",
       "      <td>Correction: I have since seen that Stho002 had...</td>\n",
       "      <td>0</td>\n",
       "      <td>correction since see stho recently suggest exa...</td>\n",
       "    </tr>\n",
       "    <tr>\n",
       "      <th>77009</th>\n",
       "      <td>\"\\n\\n Hebrew sources \\n\\nAs some of you (Nishi...</td>\n",
       "      <td>0</td>\n",
       "      <td>hebrew source nishidani saw cite several hebre...</td>\n",
       "    </tr>\n",
       "    <tr>\n",
       "      <th>105641</th>\n",
       "      <td>I'd rather spend $70 a year than have to be fo...</td>\n",
       "      <td>0</td>\n",
       "      <td>rather spend year force line b anyday</td>\n",
       "    </tr>\n",
       "    <tr>\n",
       "      <th>32663</th>\n",
       "      <td>\"Dear friend, \"\"protecting\"\" the article to th...</td>\n",
       "      <td>0</td>\n",
       "      <td>dear friend protect article end date show nazi...</td>\n",
       "    </tr>\n",
       "    <tr>\n",
       "      <th>137612</th>\n",
       "      <td>Thanks JanetteDoe and Sitush, for the clarific...</td>\n",
       "      <td>0</td>\n",
       "      <td>thanks janettedoe sitush clarification book gy...</td>\n",
       "    </tr>\n",
       "    <tr>\n",
       "      <th>89735</th>\n",
       "      <td>Wikipedia does not welcome such POV pushing an...</td>\n",
       "      <td>0</td>\n",
       "      <td>wikipedia welcome pov push attack nation anywh...</td>\n",
       "    </tr>\n",
       "    <tr>\n",
       "      <th>127460</th>\n",
       "      <td>West End Girls\\nThe lyrics are by Bobby Orland...</td>\n",
       "      <td>0</td>\n",
       "      <td>west end girl lyric bobby orlando pet shop boy...</td>\n",
       "    </tr>\n",
       "    <tr>\n",
       "      <th>52722</th>\n",
       "      <td>\"\\n\\n Wrong reference to Hybrid \\n\\nSince the ...</td>\n",
       "      <td>0</td>\n",
       "      <td>wrong reference hybrid since page semi protect...</td>\n",
       "    </tr>\n",
       "  </tbody>\n",
       "</table>\n",
       "</div>"
      ],
      "text/plain": [
       "                                                     text  toxic  \\\n",
       "114062  Yes, and in my opinion is better an image that...      0   \n",
       "64517   Everyone needing an attitude adjustment, pleas...      0   \n",
       "156500  Dear Lord, take this away from him before he d...      0   \n",
       "63752   ^^^^^^^\\n                stop vandalizing my page      0   \n",
       "101270  Dude, Chaffehamp, it is obvious you love Mitch...      0   \n",
       "46068   , 8 September 2008 (UTC)\\n I am rara avis, and...      0   \n",
       "27543   \"If you're going to delete her page, then you ...      0   \n",
       "144581  science fiction \\n\\nyour stock you puted on th...      0   \n",
       "113483     Thanks for your reply note! More power to you!      0   \n",
       "75132                     CUSTOM BIRTHDAY TEMPLATE BY en:      0   \n",
       "115142  Mr Ganesha please do no not simply delete an e...      0   \n",
       "37773   \"==November 2015==\\nHello, and welcome to edit...      0   \n",
       "106157  Correction: I have since seen that Stho002 had...      0   \n",
       "77009   \"\\n\\n Hebrew sources \\n\\nAs some of you (Nishi...      0   \n",
       "105641  I'd rather spend $70 a year than have to be fo...      0   \n",
       "32663   \"Dear friend, \"\"protecting\"\" the article to th...      0   \n",
       "137612  Thanks JanetteDoe and Sitush, for the clarific...      0   \n",
       "89735   Wikipedia does not welcome such POV pushing an...      0   \n",
       "127460  West End Girls\\nThe lyrics are by Bobby Orland...      0   \n",
       "52722   \"\\n\\n Wrong reference to Hybrid \\n\\nSince the ...      0   \n",
       "\n",
       "                                               clean_text  \n",
       "114062  yes opinion well image illustrate aspect medie...  \n",
       "64517   everyone need attitude adjustment please line ...  \n",
       "156500                         dear lord take away damage  \n",
       "63752                               stop vandalizing page  \n",
       "101270  dude chaffehamp obvious love mitch go precious...  \n",
       "46068   september utc rara avis proud must make templa...  \n",
       "27543   go delete page may delete page relate matrix c...  \n",
       "144581  science fiction stock put page way political e...  \n",
       "113483                            thanks reply note power  \n",
       "75132                         custom birthday template en  \n",
       "115142  mr ganesha please simply delete edit article w...  \n",
       "37773   november hello welcome edit wikipedia unfortun...  \n",
       "106157  correction since see stho recently suggest exa...  \n",
       "77009   hebrew source nishidani saw cite several hebre...  \n",
       "105641              rather spend year force line b anyday  \n",
       "32663   dear friend protect article end date show nazi...  \n",
       "137612  thanks janettedoe sitush clarification book gy...  \n",
       "89735   wikipedia welcome pov push attack nation anywh...  \n",
       "127460  west end girl lyric bobby orlando pet shop boy...  \n",
       "52722   wrong reference hybrid since page semi protect...  "
      ]
     },
     "execution_count": 14,
     "metadata": {},
     "output_type": "execute_result"
    }
   ],
   "source": [
    "df_light.head(20) "
   ]
  },
  {
   "cell_type": "markdown",
   "metadata": {},
   "source": [
    "<font color='blue'><b>Комментарий ревьюера 2: </b></font> ✔️\\\n",
    "<font color='green'> Отлично! Теперь видно, что слова в начальных формах.</font>"
   ]
  },
  {
   "cell_type": "code",
   "execution_count": 15,
   "metadata": {},
   "outputs": [],
   "source": [
    "df_light=df_light.drop(columns=['text'])"
   ]
  },
  {
   "cell_type": "markdown",
   "metadata": {},
   "source": [
    "### Word2Vec model"
   ]
  },
  {
   "cell_type": "code",
   "execution_count": 16,
   "metadata": {},
   "outputs": [],
   "source": [
    "df_light['clean_text_tok']=[nltk.word_tokenize(i) for i in df_light['clean_text']]\n",
    "model = Word2Vec(df_light['clean_text_tok'], min_count=1)  \n",
    "\n",
    "w2v = dict(zip(model.wv.index_to_key, model.syn1neg)) \n",
    "class MeanEmbeddingVectorizer(object):\n",
    "    def __init__(self, word2vec):\n",
    "        self.word2vec = word2vec\n",
    "        self.dim = len(next(iter(word2vec.values())))\n",
    "\n",
    "    def fit(self, X, y):\n",
    "        return self\n",
    "\n",
    "    def transform(self, X):\n",
    "        return np.array([\n",
    "            np.mean([self.word2vec[w] for w in words if w in self.word2vec]\n",
    "                    or [np.zeros(self.dim)], axis=0)\n",
    "            for words in X\n",
    "        ])"
   ]
  },
  {
   "cell_type": "markdown",
   "metadata": {},
   "source": [
    "<font color='blue'><b>Комментарий ревьюера: </b></font> ❌\\\n",
    "<font color='red'><s>Обрати внимание, не все слова приведены к начальным формам. Чтобы корректно обработались все части речи, для WordNetLemmatizer() нужно использовать POS-теги (Part of Speech, части речи). Примеры работы с WordNetLemmatizer(), а также с другими инструментами для лемматизации, можно найти в [этой статье](https://webdevblog.ru/podhody-lemmatizacii-s-primerami-v-python/)</s></font>"
   ]
  },
  {
   "cell_type": "markdown",
   "metadata": {},
   "source": [
    "<div> <font color='teal'> Доработала код на базе учебного кода с гидхаба из обсуждения кагорты</font>  </div>"
   ]
  },
  {
   "cell_type": "markdown",
   "metadata": {},
   "source": [
    "### Разобьем данные на выборки"
   ]
  },
  {
   "cell_type": "code",
   "execution_count": 19,
   "metadata": {},
   "outputs": [],
   "source": [
    "random_state_value = 1234"
   ]
  },
  {
   "cell_type": "markdown",
   "metadata": {},
   "source": [
    "Разобьем данные на выборки в соотношении 4:1: обучающую (80%) и тестовую (20%).\n",
    "\n",
    "Как целевой признак определяем графу *toxic*"
   ]
  },
  {
   "cell_type": "code",
   "execution_count": 20,
   "metadata": {},
   "outputs": [],
   "source": [
    "target = df_light['toxic']\n",
    "features = df_light[\"clean_text\"]  \n",
    "\n",
    "features_train, features_test, target_train, target_test = train_test_split(features, target, test_size=0.25,  random_state=11113333)"
   ]
  },
  {
   "cell_type": "markdown",
   "metadata": {},
   "source": [
    "### Дисбаланс классов"
   ]
  },
  {
   "cell_type": "markdown",
   "metadata": {},
   "source": [
    "Проверим выборки на наличие дисбаланса классов."
   ]
  },
  {
   "cell_type": "code",
   "execution_count": 21,
   "metadata": {},
   "outputs": [
    {
     "name": "stdout",
     "output_type": "stream",
     "text": [
      "Размер исходных данных 10000\n",
      "0    8959\n",
      "1    1041\n",
      "Name: toxic, dtype: int64\n",
      "Размер тренировочной выборки 7500\n",
      "0    6719\n",
      "1     781\n",
      "Name: toxic, dtype: int64\n",
      "Размер тестовой выборки 2500\n",
      "0    2240\n",
      "1     260\n",
      "Name: toxic, dtype: int64\n"
     ]
    }
   ],
   "source": [
    "train, test = train_test_split(df_light, random_state=12345, test_size=0.25, stratify=df_light.toxic)\n",
    "print(f'Размер исходных данных {len(df_light)}')\n",
    "print(df_light.toxic.value_counts())\n",
    "print(f'Размер тренировочной выборки {len(train)}')\n",
    "print(train.toxic.value_counts())\n",
    "print(f'Размер тестовой выборки {len(test)}')\n",
    "print(test.toxic.value_counts())\n"
   ]
  },
  {
   "cell_type": "markdown",
   "metadata": {},
   "source": [
    "***Видим дисбаланс классов.***"
   ]
  },
  {
   "cell_type": "markdown",
   "metadata": {},
   "source": [
    "<font color='blue'><b>Комментарий ревьюера: </b></font> ✔️\\\n",
    "<font color='green'>Отлично, что отмечен дисбаланс классов! Как дополнительные материалы, рекомендую статью <a href='https://dyakonov.org/2021/05/27/imbalance/'>Дисбаланс классов</a>, очень классная, как и весь блог Дьяконова. Ещё такой <a href='https://github.com/Dyakonov/ml_hacks/blob/master/book_disbalance_public_v1.ipynb'>ноутбук</a> есть.</font>"
   ]
  },
  {
   "cell_type": "markdown",
   "metadata": {},
   "source": [
    "<div> <font color='teal'> Немного переместила пункт с дисбалансом. Спасибо за материалы)</font>  </div>"
   ]
  },
  {
   "cell_type": "markdown",
   "metadata": {},
   "source": [
    "***Если будет использован метод downsampling, то потеряем часть данных данныx. Следовательно сделаем upsampling:***"
   ]
  },
  {
   "cell_type": "code",
   "execution_count": 22,
   "metadata": {},
   "outputs": [
    {
     "name": "stdout",
     "output_type": "stream",
     "text": [
      "Ration Training sample\n"
     ]
    }
   ],
   "source": [
    "def upsample(features_test, target_test, features_train, target_train, repeat, sample_name):\n",
    "    features_train_zeros = features_train[target==0]\n",
    "    features_test_zeros = features_test[target==0]\n",
    "    features_test_ones = features_test[target==1]\n",
    "    features_train_ones = features_train[target==1]\n",
    "    target_train_zeros = target_train[target==0]\n",
    "    target_test_zeros = target_test[target==0]\n",
    "    target_train_ones = target_train[target==1]\n",
    "    target_test_ones = target_test[target==1]\n",
    "    features_train_upsampled = pd.concat([features_train_zeros] + [features_train_ones] * repeat)\n",
    "    target_train_upsampled = pd.concat([target_train_zeros] + [target_train_ones] * repeat)\n",
    "    features_test_upsampled = pd.concat([features_test_zeros] + [features_test_ones] * repeat)\n",
    "    target_test_upsampled = pd.concat([target_test_zeros] + [target_test_ones] * repeat)\n",
    "    features_test_upsampled, target_test_upsampled = shuffle(features_test_upsampled, target_test_upsampled, random_state=random_state_value)\n",
    "    features_train_upsampled, target_train_upsampled = shuffle(features_train_upsampled, target_train_upsampled, random_state=random_state_value)\n",
    "    print(f'Ration {sample_name}')\n",
    "    return features_test_upsampled, target_test_upsampled, features_train_upsampled, target_train_upsampled\n",
    "\n",
    "\n",
    "features_test, target_test, features_train, target_train = upsample(features_test, target_test, features_train, target_train, 8, \"Training sample\")"
   ]
  },
  {
   "cell_type": "markdown",
   "metadata": {},
   "source": [
    "### Выполняем векторизацию"
   ]
  },
  {
   "cell_type": "code",
   "execution_count": 23,
   "metadata": {},
   "outputs": [],
   "source": [
    "features_train_tok= [nltk.word_tokenize(i) for i in features_train]  #for word2vec\n",
    "features_test_tok= [nltk.word_tokenize(i) for i in features_test]      #for word2vec\n",
    "\n",
    "\n",
    "my_stopword_list=set(nltk_stopwords.words('english'))\n",
    "\n",
    "tfidf_vectorizer = TfidfVectorizer(use_idf=True, stop_words=my_stopword_list)\n",
    "X_train_vectors_tfidf = tfidf_vectorizer.fit_transform(features_train) \n",
    "#X_val_vectors_tfidf = tfidf_vectorizer.transform(features_test) #Don't fit() your TfidfVectorizer to your test data: it will \n",
    "#change the word-indexes & weights to match test data. Rather, fit on the training data, then use the same train-data-\n",
    "#fit model on the test data, to reflect the fact you're analyzing the test data only based on what was learned without \n",
    "#it, and the have compatible\n",
    "\n",
    "\n",
    "#Word2vec\n",
    "modelw = MeanEmbeddingVectorizer(w2v)\n",
    "features_train_vectors_w2v = modelw.transform(features_train_tok)\n",
    "features_test_vectors_w2v = modelw.transform(features_test_tok)\n",
    "\n",
    "features_train = features_train_vectors_w2v\n",
    "features_test  = features_test_vectors_w2v "
   ]
  },
  {
   "cell_type": "markdown",
   "metadata": {},
   "source": [
    "### Вывод\n",
    "Открыли файл и изучили инфомацию о содержащихся в нем данных. Дубликатов и пропусков не обнаружено. Определен целевой признак - столбец с идентификатором токсичных комментариев - их процент в исходной выборке - 10.2%. Выполнена подготовка столбца, содержащего текст - удалены чрезмерно длинные комментарии, текст приведен к нижнему регистру и убираны знаки препинания, элементы разметки, а так же не-латиница. Выполнена лемматизация и стемминг. Так же, были сформированы выборки и выполнена проверка на дисбаланс классов. Выполнен upsampling. Текст векторизирован."
   ]
  },
  {
   "cell_type": "markdown",
   "metadata": {},
   "source": [
    "<font color='blue'><b>Комментарий ревьюера: </b></font> ✔️\\\n",
    "<font color='green'> Здорово , что у нас есть выборка для тестов!</font>"
   ]
  },
  {
   "cell_type": "markdown",
   "metadata": {},
   "source": [
    "<font color='blue'><b>Комментарий ревьюера: </b></font> ⚠️\\\n",
    "<font color='darkorange'> Ниже ты используешь кроссвалидацию, в этом случае лучше соеденить Векторайзер с моделью через Pipeline, что бы не происходило утечек во время кроссвалидации. Сейчас Векторайзер обучен на всех данных участвующих в кроссвалидации.<br> Материалы по Pipeline:<br> [О Пайплайн](https://www.helenkapatsa.ru/paiplain/)<br>\n",
    "        \n",
    "[Примеры работы с текстами](https://scikit-learn.org/stable/auto_examples/model_selection/grid_search_text_feature_extraction.html )</font>"
   ]
  },
  {
   "cell_type": "markdown",
   "metadata": {},
   "source": [
    "<div> <font color='teal'> <b>Не совладала с пайплайнами. f1 выходила меньше, чем без них, потом разберусб.</b> </font>  </div>"
   ]
  },
  {
   "cell_type": "markdown",
   "metadata": {},
   "source": [
    "<font color='blue'><b>Комментарий ревьюера: </b></font> ❌\\\n",
    "<font color='red'><s>Приводить тексты к юникоду не имеет смысла, так как после очистки осталась только латинница. Юникод  сильно увеличивает  количество потребляемой памяти.</s></font>"
   ]
  },
  {
   "cell_type": "markdown",
   "metadata": {},
   "source": [
    "<div> <font color='teal'> <b>Убрала.</b> </font>  </div>"
   ]
  },
  {
   "cell_type": "markdown",
   "metadata": {},
   "source": [
    "## Обучение"
   ]
  },
  {
   "cell_type": "markdown",
   "metadata": {},
   "source": [
    "В нашем распоряжении есть 5 моделей для решения нашей задачи (бинарной классификации):\n",
    "- Dummy\n",
    "- Logistic regression\n",
    "- Random forest\n",
    "- Decision Tree \n",
    "- XGBoost\n",
    "- LightGBM\n",
    "\n",
    "Переберём гиперпараметры, посмотрим значения метрик:\n",
    "- Recall (полнота)\n",
    "- Precision (точность)\n",
    "- ***F1 score***\n",
    "- Accuracy\n",
    "- AUC-ROC\n",
    "\n",
    "Визуализируем баланс классов с помощью матрицы ошибок.\n",
    "\n",
    "***Сформируем необходимые функции:***"
   ]
  },
  {
   "cell_type": "code",
   "execution_count": 25,
   "metadata": {},
   "outputs": [],
   "source": [
    "ml_models_stats = dict()\n",
    "%matplotlib inline\n",
    "small, medium, large = 10, 14, 16\n",
    "params = {'figure.figsize':   (10, 5),\n",
    "          'figure.titlesize': medium,\n",
    "          'legend.fontsize':  small,\n",
    "          'axes.titlesize':   small,\n",
    "          'axes.labelsize':   small,\n",
    "          'xtick.labelsize':  small,\n",
    "          'ytick.labelsize':  small,\n",
    "          'legend.loc':       'best'}\n",
    "plt.rcParams.update(params)"
   ]
  },
  {
   "cell_type": "code",
   "execution_count": 26,
   "metadata": {},
   "outputs": [],
   "source": [
    "#генератор матрицы ошибок \n",
    "def drawErrorMatrix(error_matrix, model_name):\n",
    "    plt.suptitle('Матрица ошибок на несбалансированных данных',va='top')\n",
    "    plt.title(f'Матрица ошибок модели: {model_name}')\n",
    "    sns.heatmap(error_matrix, annot=True,cmap='PRGn',cbar=False,fmt=\"d\")\n",
    "    plt.xlabel('Предсказания')\n",
    "    plt.ylabel('Ответы')\n",
    "    plt.show()\n",
    "    \n",
    "#график кривой Recall-Precision\n",
    "def drawPR_curve(target,features,model):\n",
    "    probabilities = model.predict_proba(features)\n",
    "    precision,recall, thresholds = precision_recall_curve(target, probabilities[:,1])\n",
    "    plt.step(recall, precision, where='post')\n",
    "    plt.xlabel('Recall')\n",
    "    plt.ylabel('Precision')\n",
    "    plt.ylim([0.0, 1.05])\n",
    "    plt.xlim([0.0, 1.0])\n",
    "    plt.title('Кривая Precision-Recall')\n",
    "    plt.show()\n",
    "    \n",
    "    \n",
    "#график ROC-кривой и подсчет площади AUC-ROC\n",
    "def drawROC_curve(target,features,model):\n",
    "    probabilities = model.predict_proba(features)\n",
    "    fpr, tpr, thresholds = roc_curve(target, probabilities[:,1])\n",
    "    auc_roc = roc_auc_score(target, probabilities[:,1])\n",
    "    plt.plot(fpr,tpr)\n",
    "    plt.plot([0, 1], [0, 1], linestyle='--')\n",
    "    plt.xlim([0.0,1.0])\n",
    "    plt.ylim([0.0,1.0])\n",
    "    plt.xlabel('False Positive Rate')\n",
    "    plt.ylabel('True Positive Rate')\n",
    "    plt.title('ROC-кривая')\n",
    "    plt.show()\n",
    "    return auc_roc\n",
    "    \n",
    "#функция для расчета метрик и сведения данных о меделях в датафрейм\n",
    "def model_metric(model_name, model, train_score, features_test, target_test,parameters=None):\n",
    "    print(f'Оценка модели: {model_name}')\n",
    "    if parameters:\n",
    "        print(f'с параметрами: {parameters}')\n",
    "    print(f'Точность модели на обучающей выборке: {train_score}')\n",
    "    test_score = model.score(features_test,target_test)\n",
    "    print(f'Точность модели на тестовой выборке: {test_score}')\n",
    "    predictions_test = model.predict(features_test)\n",
    "    error_matrix = confusion_matrix(target_test,predictions_test)\n",
    "    # метрика Recall\n",
    "    recall = recall_score(target_test, predictions_test)\n",
    "    # метрика Precision\n",
    "    precision = precision_score(target_test, predictions_test)\n",
    "    # F1 - Score\n",
    "    f1_Score = f1_score(target_test, predictions_test, average= 'macro')\n",
    "    print()\n",
    "    # график матрицы ошибок\n",
    "    drawErrorMatrix(error_matrix,model_name)\n",
    "    print()\n",
    "    # Рисуем график кривой Precision-Recall\n",
    "    drawPR_curve(target_test, features_test, model)\n",
    "    print()\n",
    "    # Рисуем график ROC кривой и вычисляем площадь AUC-ROC\n",
    "    auc_roc_score = drawROC_curve(target_test, features_test, model)\n",
    "    print()\n",
    "    print(f'Recall - {recall}')\n",
    "    print(f'Precision - {precision}')\n",
    "    print(f'F1-Score - {f1_Score}')\n",
    "    print(f'AUC-ROC_score - {auc_roc_score}')\n",
    "    \n",
    "    ml_models_stats[model_name] = {\n",
    "        'название': model_name,\n",
    "        'обучающая_точность': train_score,\n",
    "        'тестовая_точность':test_score,\n",
    "        'recall':recall,\n",
    "        'precision':precision,\n",
    "        'f1_score':f1_Score,\n",
    "        'auc_roc_score':auc_roc_score\n",
    "    }\n",
    "    print()\n",
    "    "
   ]
  },
  {
   "cell_type": "markdown",
   "metadata": {},
   "source": [
    "### DummyClassifier"
   ]
  },
  {
   "cell_type": "markdown",
   "metadata": {},
   "source": [
    "Используем базовую модель"
   ]
  },
  {
   "cell_type": "code",
   "execution_count": 27,
   "metadata": {},
   "outputs": [
    {
     "name": "stdout",
     "output_type": "stream",
     "text": [
      "CPU times: user 1.06 ms, sys: 113 µs, total: 1.17 ms\n",
      "Wall time: 877 µs\n"
     ]
    },
    {
     "data": {
      "text/plain": [
       "DummyClassifier(constant=1, random_state=1234, strategy='constant')"
      ]
     },
     "execution_count": 27,
     "metadata": {},
     "output_type": "execute_result"
    }
   ],
   "source": [
    "%%time\n",
    "dummy_model = DummyClassifier(strategy='constant',constant=1, random_state=random_state_value)\n",
    "dummy_model.fit(features_train,target_train)\n"
   ]
  },
  {
   "cell_type": "code",
   "execution_count": 28,
   "metadata": {},
   "outputs": [
    {
     "name": "stdout",
     "output_type": "stream",
     "text": [
      "Оценка модели: Dummy\n",
      "Точность модели на обучающей выборке: 0.48112406392341545\n",
      "Точность модели на тестовой выборке: 0.4836179049377019\n",
      "\n"
     ]
    },
    {
     "data": {
      "image/png": "[encoded data removed]",
      "text/plain": [
       "<Figure size 720x360 with 1 Axes>"
      ]
     },
     "metadata": {
      "needs_background": "light"
     },
     "output_type": "display_data"
    },
    {
     "name": "stdout",
     "output_type": "stream",
     "text": [
      "\n"
     ]
    },
    {
     "data": {
      "image/png": "[encoded data removed]",
      "text/plain": [
       "<Figure size 720x360 with 1 Axes>"
      ]
     },
     "metadata": {
      "needs_background": "light"
     },
     "output_type": "display_data"
    },
    {
     "name": "stdout",
     "output_type": "stream",
     "text": [
      "\n"
     ]
    },
    {
     "data": {
      "image/png": "[encoded data removed]",
      "text/plain": [
       "<Figure size 720x360 with 1 Axes>"
      ]
     },
     "metadata": {
      "needs_background": "light"
     },
     "output_type": "display_data"
    },
    {
     "name": "stdout",
     "output_type": "stream",
     "text": [
      "\n",
      "Recall - 1.0\n",
      "Precision - 0.4836179049377019\n",
      "F1-Score - 0.3259720062208398\n",
      "AUC-ROC_score - 0.5\n",
      "\n"
     ]
    }
   ],
   "source": [
    "model_metric(\"Dummy\", dummy_model, dummy_model.score(features_train,target_train), features_test, target_test)"
   ]
  },
  {
   "cell_type": "markdown",
   "metadata": {},
   "source": [
    "Данные выглядят приемлемо"
   ]
  },
  {
   "cell_type": "markdown",
   "metadata": {},
   "source": [
    "### Logistic Regression"
   ]
  },
  {
   "cell_type": "code",
   "execution_count": 29,
   "metadata": {},
   "outputs": [
    {
     "name": "stdout",
     "output_type": "stream",
     "text": [
      "Оптимальные параметры:\n",
      "{'C': 13, 'max_iter': 150, 'solver': 'lbfgs'}\n",
      "CPU times: user 59.7 s, sys: 1min 15s, total: 2min 15s\n",
      "Wall time: 2min 15s\n"
     ]
    }
   ],
   "source": [
    "%%time\n",
    "LogReg_mdl = LogisticRegression(random_state=27)  #,  class_weight='balanced')\n",
    "hyperparams = [{'solver':['newton-cg', 'lbfgs', 'liblinear'],\n",
    "                'C':[0.1, 1, 13],\n",
    "                'max_iter':[50, 100, 150]}]\n",
    "\n",
    "clf = GridSearchCV(LogReg_mdl, hyperparams, scoring='f1',cv=5)\n",
    "clf.fit(features_train, target_train)\n",
    "print('Оптимальные параметры:')\n",
    "LR_best_params = clf.best_params_\n",
    "print(LR_best_params)\n",
    "\n",
    "\n"
   ]
  },
  {
   "cell_type": "markdown",
   "metadata": {},
   "source": [
    "<font color='blue'><b>Комментарий ревьюера : </b></font> ✔️\\\n",
    "<font color='green'>Подбор гиперпараметров проведён верно.</font>"
   ]
  },
  {
   "cell_type": "code",
   "execution_count": 30,
   "metadata": {
    "scrolled": false
   },
   "outputs": [
    {
     "name": "stdout",
     "output_type": "stream",
     "text": [
      "Оценка модели: Logistic Regression\n",
      "с параметрами: {'C': 13, 'max_iter': 150, 'solver': 'lbfgs'}\n",
      "Точность модели на обучающей выборке: 0.7682740753416801\n",
      "Точность модели на тестовой выборке: 0.7849561605906784\n",
      "\n"
     ]
    },
    {
     "data": {
      "image/png": "[encoded data removed]",
      "text/plain": [
       "<Figure size 720x360 with 1 Axes>"
      ]
     },
     "metadata": {
      "needs_background": "light"
     },
     "output_type": "display_data"
    },
    {
     "name": "stdout",
     "output_type": "stream",
     "text": [
      "\n"
     ]
    },
    {
     "data": {
      "image/png": "[encoded data removed]",
      "text/plain": [
       "<Figure size 720x360 with 1 Axes>"
      ]
     },
     "metadata": {
      "needs_background": "light"
     },
     "output_type": "display_data"
    },
    {
     "name": "stdout",
     "output_type": "stream",
     "text": [
      "\n"
     ]
    },
    {
     "data": {
      "image/png": "[encoded data removed]",
      "text/plain": [
       "<Figure size 720x360 with 1 Axes>"
      ]
     },
     "metadata": {
      "needs_background": "light"
     },
     "output_type": "display_data"
    },
    {
     "name": "stdout",
     "output_type": "stream",
     "text": [
      "\n",
      "Recall - 0.7786259541984732\n",
      "Precision - 0.7771428571428571\n",
      "F1-Score - 0.7847379137810778\n",
      "AUC-ROC_score - 0.8494395896008567\n",
      "\n"
     ]
    }
   ],
   "source": [
    "model_metric(\"Logistic Regression\", clf.best_estimator_, clf.best_score_, features_test, target_test, clf.best_params_)"
   ]
  },
  {
   "cell_type": "markdown",
   "metadata": {},
   "source": [
    "<font color='blue'><b>Комментарий ревьюера: </b></font> ✔️\\\n",
    "<font color='green'>Тестирование проведено верно.</font> "
   ]
  },
  {
   "cell_type": "markdown",
   "metadata": {},
   "source": [
    "### Decision Tree"
   ]
  },
  {
   "cell_type": "code",
   "execution_count": 31,
   "metadata": {},
   "outputs": [
    {
     "name": "stdout",
     "output_type": "stream",
     "text": [
      "CPU times: user 40.4 s, sys: 354 ms, total: 40.7 s\n",
      "Wall time: 40.8 s\n"
     ]
    },
    {
     "data": {
      "text/plain": [
       "RandomizedSearchCV(cv=5, estimator=DecisionTreeClassifier(random_state=1234),\n",
       "                   n_iter=20,\n",
       "                   param_distributions={'max_depth': range(1, 11),\n",
       "                                        'min_samples_leaf': range(1, 11)},\n",
       "                   scoring='f1')"
      ]
     },
     "execution_count": 31,
     "metadata": {},
     "output_type": "execute_result"
    }
   ],
   "source": [
    "%%time\n",
    "gs_params = {\n",
    "    'max_depth': range(1, 11),\n",
    "    'min_samples_leaf':range(1,11)\n",
    "}\n",
    "gs_tree = RandomizedSearchCV(DecisionTreeClassifier(random_state=random_state_value),gs_params,scoring='f1',cv=5, n_iter=20)\n",
    "\n",
    "gs_tree.fit(features_train,target_train)\n",
    "\n",
    "\n",
    "\n"
   ]
  },
  {
   "cell_type": "code",
   "execution_count": 32,
   "metadata": {},
   "outputs": [
    {
     "name": "stdout",
     "output_type": "stream",
     "text": [
      "Оценка модели: Decision Tree\n",
      "с параметрами: {'min_samples_leaf': 5, 'max_depth': 10}\n",
      "Точность модели на обучающей выборке: 0.8867234903459007\n",
      "Точность модели на тестовой выборке: 0.6945085371481311\n",
      "\n"
     ]
    },
    {
     "data": {
      "image/png": "[encoded data removed]",
      "text/plain": [
       "<Figure size 720x360 with 1 Axes>"
      ]
     },
     "metadata": {
      "needs_background": "light"
     },
     "output_type": "display_data"
    },
    {
     "name": "stdout",
     "output_type": "stream",
     "text": [
      "\n"
     ]
    },
    {
     "data": {
      "image/png": "[encoded data removed]",
      "text/plain": [
       "<Figure size 720x360 with 1 Axes>"
      ]
     },
     "metadata": {
      "needs_background": "light"
     },
     "output_type": "display_data"
    },
    {
     "name": "stdout",
     "output_type": "stream",
     "text": [
      "\n"
     ]
    },
    {
     "data": {
      "image/png": "[encoded data removed]",
      "text/plain": [
       "<Figure size 720x360 with 1 Axes>"
      ]
     },
     "metadata": {
      "needs_background": "light"
     },
     "output_type": "display_data"
    },
    {
     "name": "stdout",
     "output_type": "stream",
     "text": [
      "\n",
      "Recall - 0.5687022900763359\n",
      "Precision - 0.739454094292804\n",
      "F1-Score - 0.6879993562306435\n",
      "AUC-ROC_score - 0.6872633690113173\n",
      "\n"
     ]
    }
   ],
   "source": [
    "model_metric(\"Decision Tree\", gs_tree.best_estimator_, gs_tree.best_score_, features_test, target_test,gs_tree.best_params_)"
   ]
  },
  {
   "cell_type": "markdown",
   "metadata": {},
   "source": [
    "### Random Forest"
   ]
  },
  {
   "cell_type": "code",
   "execution_count": 33,
   "metadata": {},
   "outputs": [
    {
     "name": "stdout",
     "output_type": "stream",
     "text": [
      "CPU times: user 6min 33s, sys: 2.49 s, total: 6min 36s\n",
      "Wall time: 6min 36s\n"
     ]
    },
    {
     "data": {
      "text/plain": [
       "RandomizedSearchCV(cv=5, estimator=RandomForestClassifier(random_state=1234),\n",
       "                   n_iter=20,\n",
       "                   param_distributions={'max_depth': range(1, 26),\n",
       "                                        'min_samples_leaf': range(1, 11)},\n",
       "                   scoring='f1')"
      ]
     },
     "execution_count": 33,
     "metadata": {},
     "output_type": "execute_result"
    }
   ],
   "source": [
    "%%time\n",
    "rs_params = {\n",
    "    'max_depth': range(1, 26),\n",
    "    'min_samples_leaf':range(1,11)\n",
    "}\n",
    "tree_balanced_rs = RandomizedSearchCV(RandomForestClassifier(random_state=random_state_value),rs_params,scoring='f1',cv=5, n_iter=20)\n",
    "tree_balanced_rs.fit(features_train, target_train)\n",
    "\n"
   ]
  },
  {
   "cell_type": "code",
   "execution_count": 34,
   "metadata": {
    "scrolled": false
   },
   "outputs": [
    {
     "name": "stdout",
     "output_type": "stream",
     "text": [
      "Оценка модели: Random Forest\n",
      "с параметрами: {'min_samples_leaf': 5, 'max_depth': 10}\n",
      "Точность модели на обучающей выборке: 0.8867234903459007\n",
      "Точность модели на тестовой выборке: 0.6945085371481311\n",
      "\n"
     ]
    },
    {
     "data": {
      "image/png": "[encoded data removed]",
      "text/plain": [
       "<Figure size 720x360 with 1 Axes>"
      ]
     },
     "metadata": {
      "needs_background": "light"
     },
     "output_type": "display_data"
    },
    {
     "name": "stdout",
     "output_type": "stream",
     "text": [
      "\n"
     ]
    },
    {
     "data": {
      "image/png": "[encoded data removed]",
      "text/plain": [
       "<Figure size 720x360 with 1 Axes>"
      ]
     },
     "metadata": {
      "needs_background": "light"
     },
     "output_type": "display_data"
    },
    {
     "name": "stdout",
     "output_type": "stream",
     "text": [
      "\n"
     ]
    },
    {
     "data": {
      "image/png": "[encoded data removed]",
      "text/plain": [
       "<Figure size 720x360 with 1 Axes>"
      ]
     },
     "metadata": {
      "needs_background": "light"
     },
     "output_type": "display_data"
    },
    {
     "name": "stdout",
     "output_type": "stream",
     "text": [
      "\n",
      "Recall - 0.5687022900763359\n",
      "Precision - 0.739454094292804\n",
      "F1-Score - 0.6879993562306435\n",
      "AUC-ROC_score - 0.6872633690113173\n",
      "\n"
     ]
    }
   ],
   "source": [
    "model_metric(\"Random Forest\", gs_tree.best_estimator_, gs_tree.best_score_, features_test, target_test,gs_tree.best_params_)\n"
   ]
  },
  {
   "cell_type": "markdown",
   "metadata": {},
   "source": [
    "### LightGBM"
   ]
  },
  {
   "cell_type": "code",
   "execution_count": 35,
   "metadata": {},
   "outputs": [
    {
     "name": "stdout",
     "output_type": "stream",
     "text": [
      "CPU times: user 44min 12s, sys: 15.5 s, total: 44min 28s\n",
      "Wall time: 44min 46s\n"
     ]
    },
    {
     "data": {
      "text/plain": [
       "RandomizedSearchCV(cv=5, estimator=LGBMClassifier(random_state=12345),\n",
       "                   n_iter=20,\n",
       "                   param_distributions={'boosting_type': ['dart', 'gbdt',\n",
       "                                                          'goss'],\n",
       "                                        'max_depth': [2, 5],\n",
       "                                        'num_leaves': [5, 10],\n",
       "                                        'objective': ['regression', 'binary']},\n",
       "                   scoring='f1')"
      ]
     },
     "execution_count": 35,
     "metadata": {},
     "output_type": "execute_result"
    }
   ],
   "source": [
    "%%time\n",
    "lgb_params = {\n",
    "    'objective': ['regression','binary'],\n",
    "    'boosting_type' : ['dart','gbdt','goss'],\n",
    "    'max_depth': [2, 5],     #15,30],\n",
    "    'num_leaves': [5, 10]      #10,200,250]\n",
    "}\n",
    "lgb_reg = lgb.LGBMClassifier(random_state=12345)\n",
    "lgb_rs = RandomizedSearchCV(lgb_reg, lgb_params, scoring='f1', cv=5, n_iter=20)\n",
    "lgb_rs.fit(features_train,target_train)\n",
    "\n"
   ]
  },
  {
   "cell_type": "code",
   "execution_count": 36,
   "metadata": {},
   "outputs": [
    {
     "name": "stdout",
     "output_type": "stream",
     "text": [
      "Оценка модели: LightGBM\n",
      "с параметрами: {'objective': 'binary', 'num_leaves': 10, 'max_depth': 5, 'boosting_type': 'goss'}\n",
      "Точность модели на обучающей выборке: 0.8758948095086861\n",
      "Точность модели на тестовой выборке: 0.7489616982002769\n",
      "\n"
     ]
    },
    {
     "data": {
      "image/png": "[encoded data removed]",
      "text/plain": [
       "<Figure size 720x360 with 1 Axes>"
      ]
     },
     "metadata": {
      "needs_background": "light"
     },
     "output_type": "display_data"
    },
    {
     "name": "stdout",
     "output_type": "stream",
     "text": [
      "\n"
     ]
    },
    {
     "data": {
      "image/png": "[encoded data removed]",
      "text/plain": [
       "<Figure size 720x360 with 1 Axes>"
      ]
     },
     "metadata": {
      "needs_background": "light"
     },
     "output_type": "display_data"
    },
    {
     "name": "stdout",
     "output_type": "stream",
     "text": [
      "\n"
     ]
    },
    {
     "data": {
      "image/png": "[encoded data removed]",
      "text/plain": [
       "<Figure size 720x360 with 1 Axes>"
      ]
     },
     "metadata": {
      "needs_background": "light"
     },
     "output_type": "display_data"
    },
    {
     "name": "stdout",
     "output_type": "stream",
     "text": [
      "\n",
      "Recall - 0.6412213740458015\n",
      "Precision - 0.8\n",
      "F1-Score - 0.7447302410022589\n",
      "AUC-ROC_score - 0.8315460232350311\n",
      "\n"
     ]
    }
   ],
   "source": [
    "model_metric(\"LightGBM\", lgb_rs.best_estimator_, lgb_rs.best_score_, features_test, target_test,lgb_rs.best_params_)"
   ]
  },
  {
   "cell_type": "markdown",
   "metadata": {},
   "source": [
    "### SGDC"
   ]
  },
  {
   "cell_type": "markdown",
   "metadata": {},
   "source": [
    "Улучшенный алгоритм градиентного спуска- стохастический градиентный спуск (SGD), который итеративно обновляется через каждую выборку. Чаще используется при большом объеме данных, тк быстрее и минимизирует потери."
   ]
  },
  {
   "cell_type": "code",
   "execution_count": 37,
   "metadata": {},
   "outputs": [
    {
     "name": "stdout",
     "output_type": "stream",
     "text": [
      "Оптимальные параметры:\n",
      "\n",
      "{'class_weight': 'balanced', 'eta0': 0.5, 'learning_rate': 'adaptive', 'loss': 'modified_huber', 'random_state': 12345}\n",
      "CPU times: user 31 s, sys: 23.9 s, total: 54.9 s\n",
      "Wall time: 55 s\n"
     ]
    }
   ],
   "source": [
    "%%time\n",
    "\n",
    "SGDC_mdl = SGDClassifier()\n",
    "SGDC_hyperparams = [{'loss':['hinge', 'log', 'modified_huber'],\n",
    "                'learning_rate':['constant', 'optimal', 'invscaling', 'adaptive'],\n",
    "                'eta0':[0.01, 0.05, 0.1, 0.2, 0.3, 0.5],\n",
    "                'random_state':[12345],\n",
    "                'class_weight': ['balanced']}]\n",
    "\n",
    "\n",
    "clf = GridSearchCV(SGDC_mdl, SGDC_hyperparams, scoring='f1', cv=3)\n",
    "clf.fit(features_train, target_train)\n",
    "print(\"Оптимальные параметры:\")\n",
    "print()\n",
    "SGDC_best_params = clf.best_params_\n",
    "print(SGDC_best_params)"
   ]
  },
  {
   "cell_type": "code",
   "execution_count": 38,
   "metadata": {},
   "outputs": [
    {
     "name": "stdout",
     "output_type": "stream",
     "text": [
      "F1 на тестовой выборке 0.7713088029809035\n",
      "CPU times: user 323 ms, sys: 45 µs, total: 323 ms\n",
      "Wall time: 327 ms\n"
     ]
    }
   ],
   "source": [
    "%%time\n",
    "SGDC_mdl = SGDClassifier()\n",
    "SGDC_mdl.set_params(**SGDC_best_params)\n",
    "SGDC_mdl.fit(features_train, target_train)\n",
    "SGDC_predictions = SGDC_mdl.predict(features_test)\n",
    "test_f1_SGDC = f1_score(target_test, SGDC_predictions)\n",
    "\n",
    "print('F1 на тестовой выборке', test_f1_SGDC)"
   ]
  },
  {
   "cell_type": "code",
   "execution_count": 39,
   "metadata": {},
   "outputs": [
    {
     "name": "stdout",
     "output_type": "stream",
     "text": [
      "Оценка модели: SGDC\n",
      "с параметрами: {'class_weight': 'balanced', 'eta0': 0.5, 'learning_rate': 'adaptive', 'loss': 'modified_huber', 'random_state': 12345}\n",
      "Точность модели на обучающей выборке: 0.7707226533771833\n",
      "Точность модели на тестовой выборке: 0.7734194739270881\n",
      "\n"
     ]
    },
    {
     "data": {
      "image/png": "[encoded data removed]",
      "text/plain": [
       "<Figure size 720x360 with 1 Axes>"
      ]
     },
     "metadata": {
      "needs_background": "light"
     },
     "output_type": "display_data"
    },
    {
     "name": "stdout",
     "output_type": "stream",
     "text": [
      "\n"
     ]
    },
    {
     "data": {
      "image/png": "[encoded data removed]",
      "text/plain": [
       "<Figure size 720x360 with 1 Axes>"
      ]
     },
     "metadata": {
      "needs_background": "light"
     },
     "output_type": "display_data"
    },
    {
     "name": "stdout",
     "output_type": "stream",
     "text": [
      "\n"
     ]
    },
    {
     "data": {
      "image/png": "[encoded data removed]",
      "text/plain": [
       "<Figure size 720x360 with 1 Axes>"
      ]
     },
     "metadata": {
      "needs_background": "light"
     },
     "output_type": "display_data"
    },
    {
     "name": "stdout",
     "output_type": "stream",
     "text": [
      "\n",
      "Recall - 0.7900763358778626\n",
      "Precision - 0.7534121929026387\n",
      "F1-Score - 0.7734001719522716\n",
      "AUC-ROC_score - 0.8435941646371827\n",
      "\n"
     ]
    }
   ],
   "source": [
    "model_metric(\"SGDC\", clf.best_estimator_, clf.best_score_, features_test, target_test,SGDC_best_params)"
   ]
  },
  {
   "cell_type": "markdown",
   "metadata": {},
   "source": [
    "***Вывод:***\n",
    "На этом этапе мы исследовали разные ML-модели: Логистическая регрессия, Дерево Решения, Рандомный Лес, LightGBM и SGDC . Написали функцию для оценки моделей. Визуализировали генератор матрицы ошибок, кривую Recall-Precision, ROC-кривую с подсчетом площади AUC-ROC.  Сформировали сводную таблицу с результатами обучения и метриками. По результатам лучшие данные показывают логистическая егрессия и SGDC."
   ]
  },
  {
   "cell_type": "markdown",
   "metadata": {},
   "source": [
    "## Сравнение моделей"
   ]
  },
  {
   "cell_type": "markdown",
   "metadata": {},
   "source": [
    "Проанализируем полученные результаты.\n",
    "По условию задания **необходимо выбрать модели, чья метрика F1 не меньше 75**.\n",
    "\n",
    "Выведем на экран сводную таблицу, отфильтруем по F1-метрике и визуализируем."
   ]
  },
  {
   "cell_type": "code",
   "execution_count": 59,
   "metadata": {},
   "outputs": [
    {
     "data": {
      "text/html": [
       "<div>\n",
       "<style scoped>\n",
       "    .dataframe tbody tr th:only-of-type {\n",
       "        vertical-align: middle;\n",
       "    }\n",
       "\n",
       "    .dataframe tbody tr th {\n",
       "        vertical-align: top;\n",
       "    }\n",
       "\n",
       "    .dataframe thead th {\n",
       "        text-align: right;\n",
       "    }\n",
       "</style>\n",
       "<table border=\"1\" class=\"dataframe\">\n",
       "  <thead>\n",
       "    <tr style=\"text-align: right;\">\n",
       "      <th></th>\n",
       "      <th>название</th>\n",
       "      <th>обучающая_точность</th>\n",
       "      <th>тестовая_точность</th>\n",
       "      <th>recall</th>\n",
       "      <th>precision</th>\n",
       "      <th>f1_score</th>\n",
       "      <th>auc_roc_score</th>\n",
       "    </tr>\n",
       "  </thead>\n",
       "  <tbody>\n",
       "    <tr>\n",
       "      <th>1</th>\n",
       "      <td>Logistic Regression</td>\n",
       "      <td>0.768274</td>\n",
       "      <td>0.784956</td>\n",
       "      <td>0.778626</td>\n",
       "      <td>0.777143</td>\n",
       "      <td>0.784738</td>\n",
       "      <td>0.849440</td>\n",
       "    </tr>\n",
       "    <tr>\n",
       "      <th>5</th>\n",
       "      <td>SGDC</td>\n",
       "      <td>0.770723</td>\n",
       "      <td>0.773419</td>\n",
       "      <td>0.790076</td>\n",
       "      <td>0.753412</td>\n",
       "      <td>0.773400</td>\n",
       "      <td>0.843594</td>\n",
       "    </tr>\n",
       "    <tr>\n",
       "      <th>4</th>\n",
       "      <td>LightGBM</td>\n",
       "      <td>0.875895</td>\n",
       "      <td>0.748962</td>\n",
       "      <td>0.641221</td>\n",
       "      <td>0.800000</td>\n",
       "      <td>0.744730</td>\n",
       "      <td>0.831546</td>\n",
       "    </tr>\n",
       "    <tr>\n",
       "      <th>2</th>\n",
       "      <td>Decision Tree</td>\n",
       "      <td>0.886723</td>\n",
       "      <td>0.694509</td>\n",
       "      <td>0.568702</td>\n",
       "      <td>0.739454</td>\n",
       "      <td>0.687999</td>\n",
       "      <td>0.687263</td>\n",
       "    </tr>\n",
       "    <tr>\n",
       "      <th>3</th>\n",
       "      <td>Random Forest</td>\n",
       "      <td>0.886723</td>\n",
       "      <td>0.694509</td>\n",
       "      <td>0.568702</td>\n",
       "      <td>0.739454</td>\n",
       "      <td>0.687999</td>\n",
       "      <td>0.687263</td>\n",
       "    </tr>\n",
       "    <tr>\n",
       "      <th>0</th>\n",
       "      <td>Dummy</td>\n",
       "      <td>0.481124</td>\n",
       "      <td>0.483618</td>\n",
       "      <td>1.000000</td>\n",
       "      <td>0.483618</td>\n",
       "      <td>0.325972</td>\n",
       "      <td>0.500000</td>\n",
       "    </tr>\n",
       "  </tbody>\n",
       "</table>\n",
       "</div>"
      ],
      "text/plain": [
       "              название  обучающая_точность  тестовая_точность    recall  \\\n",
       "1  Logistic Regression            0.768274           0.784956  0.778626   \n",
       "5                 SGDC            0.770723           0.773419  0.790076   \n",
       "4             LightGBM            0.875895           0.748962  0.641221   \n",
       "2        Decision Tree            0.886723           0.694509  0.568702   \n",
       "3        Random Forest            0.886723           0.694509  0.568702   \n",
       "0                Dummy            0.481124           0.483618  1.000000   \n",
       "\n",
       "   precision  f1_score  auc_roc_score  \n",
       "1   0.777143  0.784738       0.849440  \n",
       "5   0.753412  0.773400       0.843594  \n",
       "4   0.800000  0.744730       0.831546  \n",
       "2   0.739454  0.687999       0.687263  \n",
       "3   0.739454  0.687999       0.687263  \n",
       "0   0.483618  0.325972       0.500000  "
      ]
     },
     "execution_count": 59,
     "metadata": {},
     "output_type": "execute_result"
    }
   ],
   "source": [
    "ml_models = pd.DataFrame.from_dict(data=ml_models_stats, orient='index').reset_index(drop=True)\n",
    "ml_models.sort_values('f1_score', ascending=False)"
   ]
  },
  {
   "cell_type": "code",
   "execution_count": 43,
   "metadata": {},
   "outputs": [
    {
     "data": {
      "image/png": "[encoded data removed]",
      "text/plain": [
       "<Figure size 720x360 with 1 Axes>"
      ]
     },
     "metadata": {
      "needs_background": "light"
     },
     "output_type": "display_data"
    }
   ],
   "source": [
    "def drawPlot(df, x_axis, y_axis, x_label, y_label, plot_title, order_by=None):\n",
    "    plt.title(plot_title)\n",
    "    sns.barplot(x=x_axis,y=y_axis, data=df,order=df[order_by]) \n",
    "    plt.xlabel(x_label)\n",
    "    plt.ylabel(y_label)\n",
    "    plt.show()\n",
    "    \n",
    "    \n",
    "drawPlot(f1_test_sorted, 'название','f1_score','Модели','F1','F1 моделей на тестовой выборке','название' )"
   ]
  },
  {
   "cell_type": "code",
   "execution_count": 44,
   "metadata": {},
   "outputs": [
    {
     "data": {
      "text/html": [
       "<div>\n",
       "<style scoped>\n",
       "    .dataframe tbody tr th:only-of-type {\n",
       "        vertical-align: middle;\n",
       "    }\n",
       "\n",
       "    .dataframe tbody tr th {\n",
       "        vertical-align: top;\n",
       "    }\n",
       "\n",
       "    .dataframe thead th {\n",
       "        text-align: right;\n",
       "    }\n",
       "</style>\n",
       "<table border=\"1\" class=\"dataframe\">\n",
       "  <thead>\n",
       "    <tr style=\"text-align: right;\">\n",
       "      <th></th>\n",
       "      <th>название</th>\n",
       "      <th>обучающая_точность</th>\n",
       "      <th>тестовая_точность</th>\n",
       "      <th>recall</th>\n",
       "      <th>precision</th>\n",
       "      <th>f1_score</th>\n",
       "      <th>auc_roc_score</th>\n",
       "    </tr>\n",
       "  </thead>\n",
       "  <tbody>\n",
       "    <tr>\n",
       "      <th>1</th>\n",
       "      <td>Logistic Regression</td>\n",
       "      <td>0.768274</td>\n",
       "      <td>0.784956</td>\n",
       "      <td>0.778626</td>\n",
       "      <td>0.777143</td>\n",
       "      <td>0.784738</td>\n",
       "      <td>0.849440</td>\n",
       "    </tr>\n",
       "    <tr>\n",
       "      <th>5</th>\n",
       "      <td>SGDC</td>\n",
       "      <td>0.770723</td>\n",
       "      <td>0.773419</td>\n",
       "      <td>0.790076</td>\n",
       "      <td>0.753412</td>\n",
       "      <td>0.773400</td>\n",
       "      <td>0.843594</td>\n",
       "    </tr>\n",
       "  </tbody>\n",
       "</table>\n",
       "</div>"
      ],
      "text/plain": [
       "              название  обучающая_точность  тестовая_точность    recall  \\\n",
       "1  Logistic Regression            0.768274           0.784956  0.778626   \n",
       "5                 SGDC            0.770723           0.773419  0.790076   \n",
       "\n",
       "   precision  f1_score  auc_roc_score  \n",
       "1   0.777143  0.784738       0.849440  \n",
       "5   0.753412  0.773400       0.843594  "
      ]
     },
     "execution_count": 44,
     "metadata": {},
     "output_type": "execute_result"
    }
   ],
   "source": [
    "approved_models = ml_models.query(\"f1_score > 0.75\")\n",
    "approved_models"
   ]
  },
  {
   "cell_type": "code",
   "execution_count": 45,
   "metadata": {},
   "outputs": [
    {
     "data": {
      "text/html": [
       "<div>\n",
       "<style scoped>\n",
       "    .dataframe tbody tr th:only-of-type {\n",
       "        vertical-align: middle;\n",
       "    }\n",
       "\n",
       "    .dataframe tbody tr th {\n",
       "        vertical-align: top;\n",
       "    }\n",
       "\n",
       "    .dataframe thead th {\n",
       "        text-align: right;\n",
       "    }\n",
       "</style>\n",
       "<table border=\"1\" class=\"dataframe\">\n",
       "  <thead>\n",
       "    <tr style=\"text-align: right;\">\n",
       "      <th></th>\n",
       "      <th>название</th>\n",
       "      <th>f1_score</th>\n",
       "    </tr>\n",
       "  </thead>\n",
       "  <tbody>\n",
       "    <tr>\n",
       "      <th>0</th>\n",
       "      <td>Logistic Regression</td>\n",
       "      <td>0.784738</td>\n",
       "    </tr>\n",
       "    <tr>\n",
       "      <th>1</th>\n",
       "      <td>SGDC</td>\n",
       "      <td>0.773400</td>\n",
       "    </tr>\n",
       "  </tbody>\n",
       "</table>\n",
       "</div>"
      ],
      "text/plain": [
       "              название  f1_score\n",
       "0  Logistic Regression  0.784738\n",
       "1                 SGDC  0.773400"
      ]
     },
     "metadata": {},
     "output_type": "display_data"
    }
   ],
   "source": [
    "f1_test_sorted = approved_models.sort_values(by='f1_score',ascending=False).reset_index()\n",
    "display(f1_test_sorted[['название','f1_score']])"
   ]
  },
  {
   "cell_type": "markdown",
   "metadata": {},
   "source": [
    "***Визуализирем ROC-кривую моделей:***"
   ]
  },
  {
   "cell_type": "code",
   "execution_count": 57,
   "metadata": {},
   "outputs": [
    {
     "data": {
      "image/png": "[encoded data removed]",
      "text/plain": [
       "<Figure size 864x648 with 1 Axes>"
      ]
     },
     "metadata": {
      "needs_background": "light"
     },
     "output_type": "display_data"
    }
   ],
   "source": [
    "plt.figure(figsize=[12,9])\n",
    "\n",
    "plt.plot([0, 1], [0, 1], linestyle='--', label='RandomModel')\n",
    "\n",
    "model1= SGDClassifier(**SGDC_best_params)\n",
    "model1.fit(features_train, target_train)\n",
    "probabilities1 = model1.predict_proba(features_test)\n",
    "fpr1, tpr1, thresholds1 = roc_curve(target_test, probabilities1[:,1])\n",
    "auc_roc1 = roc_auc_score(target_test, probabilities1[:,1])\n",
    "\n",
    "model2 = LogisticRegression()\n",
    "model2.set_params(**LR_best_params)\n",
    "model2.fit(features_train, target_train)\n",
    "probabilities2 = model2.predict_proba(features_test)\n",
    "fpr2, tpr2, thresholds2 = roc_curve(target_test, probabilities2[:,1])\n",
    "auc_roc2 = roc_auc_score(target_test, probabilities2[:,1])\n",
    "   \n",
    "plt.plot(fpr1,tpr1, label='SGDClassifier')\n",
    "plt.plot(fpr2,tpr2, label='LogisticRegression')\n",
    "#plt.plot([0, 1], [0, 1], linestyle='--')\n",
    "plt.xlim([0.0,1.0])\n",
    "plt.ylim([0.0,1.0])\n",
    "plt.legend()\n",
    "\n",
    "plt.xlabel('False Positive Rate')\n",
    "plt.ylabel('True Positive Rate')\n",
    "plt.title('ROC-кривая')\n",
    "plt.show()\n"
   ]
  },
  {
   "cell_type": "markdown",
   "metadata": {},
   "source": [
    "***Вывод:*** Результаты f1, удовлетворяющие условию, достигнуты можелями алгоритмов градиентого спуска - ***линейной регрессией*** и  ***SGDClassifier***.\n",
    "\n",
    "На тестовой выбоке по метрике f1 лучше всего себя показала LogisticRegression - ее показатели  Precision и Accuracy выше. Это говорит нам, что токсичные комментарии находятся лучше. Однако, у SGDClassifier выше метрика ROC-AUC и Recall."
   ]
  },
  {
   "cell_type": "markdown",
   "metadata": {},
   "source": [
    "<font color='blue'><b>Комментарий ревьюера 2: </b></font> ✔️\\\n",
    "<font color='green'> Цель достигнута! Поздравляю!</font>"
   ]
  },
  {
   "cell_type": "markdown",
   "metadata": {},
   "source": [
    "## Общий вывод"
   ]
  },
  {
   "cell_type": "markdown",
   "metadata": {},
   "source": [
    "Открыли файл и изучили инфомацию о содержащихся в нем данных. Дубликатов и пропусков не обнаружено. Определен целевой признак - столбец с идентификатором токсичных комментариев - их процент в исходной выборке - 10.2%. Выполнена подготовка столбца, содержащего текст - удалены чрезмерно длинные комментарии, текст приведен к нижнему регистру и убираны знаки препинания, элементы разметки, а так же не-латиница. Выполнена лемматизация и стемминг. Так же, были сформированы выборки и выполнена проверка на дисбаланс классов. Выполнен upsampling. Текст векторизирован.\n",
    "\n",
    "Далее выли сформированы тестовая и тренировочная выборки. Выполнено обучение и вычисление метрик моделей: Логистическая регрессия, Дерево Решения, Рандомный Лес, LightGBM и SGDC . Были визуализированы генератор матрицы ошибок, кривая Recall-Precision, ROC-кривая с подсчетом площади AUC-ROC каждой подели. Результаты добавлены в сводную таблицу. Визуализированы ROC-кривые лучших моделей.\n",
    "\n",
    "Результаты f1, удовлетворяющие условию *\"f1 > 0.75\"*, достигнуты моделями алгоритмов градиентого спуска - **линейной регрессией** и **SGDClassifier**. На тестовой выбоке по метрике f1 лучше всего себя показала LogisticRegression - ее показатели Precision и Accuracy выше. Это говорит нам, что токсичные комментарии находятся лучше. Однако, у SGDClassifier выше метрика ROC-AUC и Recall.\n"
   ]
  },
  {
   "cell_type": "markdown",
   "metadata": {},
   "source": [
    "<font color='blue'><b>Комментарий ревьюера 2: </b></font> ✔️\\\n",
    "<font color='green'> Очень приятно видеть вывод в конце проекта!\\\n",
    "Приведены ответы на главные вопросы проекта.</font>"
   ]
  },
  {
   "cell_type": "markdown",
   "metadata": {},
   "source": [
    "<font color='blue'><b>Комментарий ревьюера 2: </b></font> ⚠️\\\n",
    "<font color='darkorange'> Всётаки Регрессия здесь Логистическая, в простонародии - сигмойда. ))) Линейная регрессия - это прям Регрессия, а эта Классификатор ).</font>"
   ]
  },
  {
   "cell_type": "markdown",
   "metadata": {},
   "source": [
    "<font color='blue'><b>Итоговый комментарий ревьюера</b></font>\n",
    "\n",
    "<font color='blue'>К сожалению, проект не готов. Присылай законченную версию.\\\n",
    "Улучшить метрики можно за счёт разных методов работы с дисбалансом, а также тюнинга Векторайзера. Рекомендую сосредоточится на Логистической Регрессии )).\\\n",
    "\n",
    "<font color='blue'>Что точно нужно исправить:</font>\n",
    "<ul><font color='red'>Не применяй Юникод для текстов на латинице.</font></ul>\n",
    "<ul><font color='red'>Поправь Лемматизацию.</font></ul>\n",
    "\n",
    "<font color='blue'>Что можно сделать лучше:</font>\n",
    "<font color='orange'>В работе я оставил несколько советов. Буду рад, если ты учтешь их.</font></ul>\n",
    "\n",
    "<font color='blue'><b>Жду новую версию проекта :)</b></font>\n",
    "</font>"
   ]
  },
  {
   "cell_type": "markdown",
   "metadata": {},
   "source": [
    "<font color='blue'><b>Итоговый комментарий ревьюера 2</b></font>\\\n",
    "<font color='green'>Регина, проект принят! \\\n",
    "Все этапы пройдены. Все рекомендации учтены.\\\n",
    "Надеюсь, тебе понравился процесс выполнения и результат.</font> \\\n",
    "<font color='blue'><b>Спасибо, удачи в освоении профессии!</b></font>"
   ]
  },
  {
   "cell_type": "markdown",
   "metadata": {},
   "source": [
    "<font color='green'><b>Полезные (и просто интересные) материалы:</b></font> \\\n",
    "Для работы с текстами используют и другие подходы. Например, сейчас активно используются RNN (LSTM) и трансформеры (BERT и другие с улицы Сезам, например, ELMO). НО! Они не являются панацеей, не всегда они нужны, так как и TF-IDF или Word2Vec + модели из классического ML тоже могут справляться. \\\n",
    "BERT тяжелый, существует много его вариаций для разных задач, есть готовые модели, есть надстройки над библиотекой transformers. Если, обучать BERT на GPU (можно в Google Colab или Kaggle), то должно быть побыстрее.\\\n",
    "https://huggingface.co/transformers/model_doc/bert.html \\\n",
    "https://t.me/renat_alimbekov \\\n",
    "https://colah.github.io/posts/2015-08-Understanding-LSTMs/ - Про LSTM \\\n",
    "https://web.stanford.edu/~jurafsky/slp3/10.pdf - про энкодер-декодер модели, этеншены\\\n",
    "https://pytorch.org/tutorials/beginner/transformer_tutorial.html - официальный гайд\n",
    "по трансформеру от создателей pytorch\\\n",
    "https://transformer.huggingface.co/ - поболтать с трансформером \\\n",
    "Библиотеки: allennlp, fairseq, transformers, tensorflow-text — множествореализованных\n",
    "методов для трансформеров методов NLP \\\n",
    "Word2Vec https://radimrehurek.com/gensim/models/word2vec.html \n",
    "\n",
    "<font color='green'>Пример BERT с GPU:\n",
    "```python\n",
    "%%time\n",
    "from tqdm import notebook\n",
    "batch_size = 2 # для примера возьмем такой батч, где будет всего две строки датасета\n",
    "embeddings = [] \n",
    "for i in notebook.tqdm(range(input_ids.shape[0] // batch_size)):\n",
    "        batch = torch.LongTensor(input_ids[batch_size*i:batch_size*(i+1)]).cuda() # закидываем тензор на GPU\n",
    "        attention_mask_batch = torch.LongTensor(attention_mask[batch_size*i:batch_size*(i+1)]).cuda()\n",
    "        \n",
    "        with torch.no_grad():\n",
    "            model.cuda()\n",
    "            batch_embeddings = model(batch, attention_mask=attention_mask_batch)\n",
    "        \n",
    "        embeddings.append(batch_embeddings[0][:,0,:].cpu().numpy()) # перевод обратно на проц, чтобы в нумпай кинуть\n",
    "        del batch\n",
    "        del attention_mask_batch\n",
    "        del batch_embeddings\n",
    "        \n",
    "features = np.concatenate(embeddings) \n",
    "```\n",
    "Можно сделать предварительную проверку на наличие GPU.\\\n",
    "Например, так: ```device = torch.device(\"cuda:0\") if torch.cuda.is_available() else torch.device(\"cpu\")```\\\n",
    "Тогда вместо .cuda() нужно писать .to(device)\n",
    "\n",
    "Если понравилась работа с текстами, то можешь посмотреть очень интересный (но очень-очень сложный) курс лекций: https://github.com/yandexdataschool/nlp_course .\n",
    "</font>"
   ]
  },
  {
   "cell_type": "markdown",
   "metadata": {},
   "source": [
    "## Чек-лист проверки"
   ]
  },
  {
   "cell_type": "markdown",
   "metadata": {},
   "source": [
    "- [x]  Jupyter Notebook открыт\n",
    "- [x]  Весь код выполняется без ошибок\n",
    "- [x]  Ячейки с кодом расположены в порядке исполнения\n",
    "- [x]  Данные загружены и подготовлены\n",
    "- [x]  Модели обучены\n",
    "- [x]  Значение метрики *F1* не меньше 0.75\n",
    "- [x]  Выводы написаны"
   ]
  }
 ],
 "metadata": {
  "ExecuteTimeLog": [
   {
    "duration": 51,
    "start_time": "2022-06-29T08:47:41.208Z"
   },
   {
    "duration": 1711,
    "start_time": "2022-06-29T08:47:44.848Z"
   },
   {
    "duration": 2459,
    "start_time": "2022-06-29T08:47:46.562Z"
   },
   {
    "duration": 39,
    "start_time": "2022-06-29T08:49:42.694Z"
   },
   {
    "duration": 247,
    "start_time": "2022-06-29T08:49:43.191Z"
   },
   {
    "duration": 7,
    "start_time": "2022-06-29T08:50:52.018Z"
   },
   {
    "duration": 129,
    "start_time": "2022-06-29T08:50:52.741Z"
   },
   {
    "duration": 1917,
    "start_time": "2022-06-29T08:53:04.750Z"
   },
   {
    "duration": 14,
    "start_time": "2022-06-29T08:53:28.698Z"
   },
   {
    "duration": 22,
    "start_time": "2022-06-29T08:54:31.836Z"
   },
   {
    "duration": 13,
    "start_time": "2022-06-29T08:55:27.501Z"
   },
   {
    "duration": 100,
    "start_time": "2022-06-29T08:57:09.651Z"
   },
   {
    "duration": 1939,
    "start_time": "2022-06-29T08:58:56.399Z"
   },
   {
    "duration": 13,
    "start_time": "2022-06-29T08:58:58.340Z"
   },
   {
    "duration": 16,
    "start_time": "2022-06-29T08:58:58.354Z"
   },
   {
    "duration": 11,
    "start_time": "2022-06-29T08:58:58.372Z"
   },
   {
    "duration": 120,
    "start_time": "2022-06-29T08:58:58.384Z"
   },
   {
    "duration": 1400,
    "start_time": "2022-06-29T09:08:01.210Z"
   },
   {
    "duration": 9,
    "start_time": "2022-06-29T10:10:15.893Z"
   },
   {
    "duration": 1077,
    "start_time": "2022-06-29T10:10:55.263Z"
   },
   {
    "duration": 1581,
    "start_time": "2022-06-29T10:14:38.784Z"
   },
   {
    "duration": 833,
    "start_time": "2022-06-29T10:14:40.367Z"
   },
   {
    "duration": 35,
    "start_time": "2022-06-29T10:14:41.202Z"
   },
   {
    "duration": 258,
    "start_time": "2022-06-29T10:14:41.239Z"
   },
   {
    "duration": 6,
    "start_time": "2022-06-29T10:14:41.498Z"
   },
   {
    "duration": 109,
    "start_time": "2022-06-29T10:14:41.506Z"
   },
   {
    "duration": 1891,
    "start_time": "2022-06-29T10:14:41.617Z"
   },
   {
    "duration": 22,
    "start_time": "2022-06-29T10:14:43.510Z"
   },
   {
    "duration": 20,
    "start_time": "2022-06-29T10:14:43.533Z"
   },
   {
    "duration": 11,
    "start_time": "2022-06-29T10:14:43.555Z"
   },
   {
    "duration": 107,
    "start_time": "2022-06-29T10:14:43.568Z"
   },
   {
    "duration": 1268,
    "start_time": "2022-06-29T10:14:43.677Z"
   },
   {
    "duration": 7,
    "start_time": "2022-06-29T10:14:44.946Z"
   },
   {
    "duration": 1754,
    "start_time": "2022-06-29T10:32:21.284Z"
   },
   {
    "duration": 960,
    "start_time": "2022-06-29T10:32:23.040Z"
   },
   {
    "duration": 40,
    "start_time": "2022-06-29T10:32:24.001Z"
   },
   {
    "duration": 275,
    "start_time": "2022-06-29T10:32:24.044Z"
   },
   {
    "duration": 7,
    "start_time": "2022-06-29T10:32:24.320Z"
   },
   {
    "duration": 121,
    "start_time": "2022-06-29T10:32:24.329Z"
   },
   {
    "duration": 1876,
    "start_time": "2022-06-29T10:32:24.451Z"
   },
   {
    "duration": 14,
    "start_time": "2022-06-29T10:32:26.329Z"
   },
   {
    "duration": 38,
    "start_time": "2022-06-29T10:32:26.344Z"
   },
   {
    "duration": 22,
    "start_time": "2022-06-29T10:32:26.385Z"
   },
   {
    "duration": 100,
    "start_time": "2022-06-29T10:32:26.409Z"
   },
   {
    "duration": 135,
    "start_time": "2022-06-29T10:32:26.511Z"
   },
   {
    "duration": 0,
    "start_time": "2022-06-29T10:32:26.648Z"
   },
   {
    "duration": 0,
    "start_time": "2022-06-29T10:32:26.649Z"
   },
   {
    "duration": 27,
    "start_time": "2022-06-29T10:32:30.877Z"
   },
   {
    "duration": 10,
    "start_time": "2022-06-29T10:32:32.596Z"
   },
   {
    "duration": 8,
    "start_time": "2022-06-29T10:32:40.988Z"
   },
   {
    "duration": 10,
    "start_time": "2022-06-29T10:46:40.621Z"
   },
   {
    "duration": 7,
    "start_time": "2022-06-29T10:54:06.320Z"
   },
   {
    "duration": 1565,
    "start_time": "2022-06-29T11:19:13.386Z"
   },
   {
    "duration": 881,
    "start_time": "2022-06-29T11:19:14.953Z"
   },
   {
    "duration": 34,
    "start_time": "2022-06-29T11:19:15.836Z"
   },
   {
    "duration": 266,
    "start_time": "2022-06-29T11:19:15.872Z"
   },
   {
    "duration": 7,
    "start_time": "2022-06-29T11:19:16.140Z"
   },
   {
    "duration": 114,
    "start_time": "2022-06-29T11:19:16.149Z"
   },
   {
    "duration": 1919,
    "start_time": "2022-06-29T11:19:16.264Z"
   },
   {
    "duration": 16,
    "start_time": "2022-06-29T11:19:18.185Z"
   },
   {
    "duration": 39,
    "start_time": "2022-06-29T11:19:18.203Z"
   },
   {
    "duration": 21,
    "start_time": "2022-06-29T11:19:18.246Z"
   },
   {
    "duration": 129,
    "start_time": "2022-06-29T11:19:18.269Z"
   },
   {
    "duration": 1401,
    "start_time": "2022-06-29T11:19:18.400Z"
   },
   {
    "duration": 4,
    "start_time": "2022-06-29T11:19:19.803Z"
   },
   {
    "duration": 17,
    "start_time": "2022-06-29T11:19:19.809Z"
   },
   {
    "duration": 10,
    "start_time": "2022-06-29T11:19:19.828Z"
   },
   {
    "duration": 63,
    "start_time": "2022-06-29T11:19:19.840Z"
   },
   {
    "duration": 0,
    "start_time": "2022-06-29T11:19:19.905Z"
   },
   {
    "duration": 1403,
    "start_time": "2022-06-29T11:22:23.343Z"
   },
   {
    "duration": 0,
    "start_time": "2022-06-29T11:22:24.747Z"
   },
   {
    "duration": 338,
    "start_time": "2022-06-29T11:23:15.843Z"
   },
   {
    "duration": 13,
    "start_time": "2022-06-29T11:28:39.089Z"
   },
   {
    "duration": 18,
    "start_time": "2022-06-29T11:29:22.145Z"
   },
   {
    "duration": 236,
    "start_time": "2022-06-29T11:29:50.239Z"
   },
   {
    "duration": 8,
    "start_time": "2022-06-29T11:31:05.934Z"
   },
   {
    "duration": 271,
    "start_time": "2022-06-29T11:34:43.331Z"
   },
   {
    "duration": 10,
    "start_time": "2022-06-29T11:35:07.582Z"
   },
   {
    "duration": 1522,
    "start_time": "2022-06-29T11:35:20.516Z"
   },
   {
    "duration": 854,
    "start_time": "2022-06-29T11:35:22.040Z"
   },
   {
    "duration": 35,
    "start_time": "2022-06-29T11:35:22.895Z"
   },
   {
    "duration": 257,
    "start_time": "2022-06-29T11:35:22.932Z"
   },
   {
    "duration": 5,
    "start_time": "2022-06-29T11:35:23.191Z"
   },
   {
    "duration": 117,
    "start_time": "2022-06-29T11:35:23.198Z"
   },
   {
    "duration": 1775,
    "start_time": "2022-06-29T11:35:23.317Z"
   },
   {
    "duration": 15,
    "start_time": "2022-06-29T11:35:25.093Z"
   },
   {
    "duration": 42,
    "start_time": "2022-06-29T11:35:25.109Z"
   },
   {
    "duration": 12,
    "start_time": "2022-06-29T11:35:25.153Z"
   },
   {
    "duration": 97,
    "start_time": "2022-06-29T11:35:25.166Z"
   },
   {
    "duration": 1265,
    "start_time": "2022-06-29T11:35:25.264Z"
   },
   {
    "duration": 4,
    "start_time": "2022-06-29T11:35:26.530Z"
   },
   {
    "duration": 274,
    "start_time": "2022-06-29T11:35:26.536Z"
   },
   {
    "duration": 125,
    "start_time": "2022-06-29T11:35:26.812Z"
   },
   {
    "duration": 0,
    "start_time": "2022-06-29T11:35:26.938Z"
   },
   {
    "duration": 4,
    "start_time": "2022-06-29T11:38:48.364Z"
   },
   {
    "duration": 4,
    "start_time": "2022-06-29T11:38:57.644Z"
   },
   {
    "duration": 1596,
    "start_time": "2022-06-29T11:39:55.683Z"
   },
   {
    "duration": 912,
    "start_time": "2022-06-29T11:39:57.282Z"
   },
   {
    "duration": 42,
    "start_time": "2022-06-29T11:39:58.196Z"
   },
   {
    "duration": 278,
    "start_time": "2022-06-29T11:39:58.240Z"
   },
   {
    "duration": 12,
    "start_time": "2022-06-29T11:39:58.524Z"
   },
   {
    "duration": 118,
    "start_time": "2022-06-29T11:39:58.538Z"
   },
   {
    "duration": 2051,
    "start_time": "2022-06-29T11:39:58.658Z"
   },
   {
    "duration": 31,
    "start_time": "2022-06-29T11:40:00.711Z"
   },
   {
    "duration": 35,
    "start_time": "2022-06-29T11:40:00.744Z"
   },
   {
    "duration": 14,
    "start_time": "2022-06-29T11:40:00.782Z"
   },
   {
    "duration": 150,
    "start_time": "2022-06-29T11:40:00.798Z"
   },
   {
    "duration": 1458,
    "start_time": "2022-06-29T11:40:00.951Z"
   },
   {
    "duration": 4,
    "start_time": "2022-06-29T11:40:02.411Z"
   },
   {
    "duration": 38,
    "start_time": "2022-06-29T11:40:02.422Z"
   },
   {
    "duration": 297,
    "start_time": "2022-06-29T11:40:02.462Z"
   },
   {
    "duration": 83,
    "start_time": "2022-06-29T11:40:02.762Z"
   },
   {
    "duration": 1573,
    "start_time": "2022-06-29T11:54:02.048Z"
   },
   {
    "duration": 894,
    "start_time": "2022-06-29T11:54:03.623Z"
   },
   {
    "duration": 35,
    "start_time": "2022-06-29T11:54:04.519Z"
   },
   {
    "duration": 256,
    "start_time": "2022-06-29T11:54:04.556Z"
   },
   {
    "duration": 24,
    "start_time": "2022-06-29T11:54:04.814Z"
   },
   {
    "duration": 109,
    "start_time": "2022-06-29T11:54:04.840Z"
   },
   {
    "duration": 1988,
    "start_time": "2022-06-29T11:54:04.951Z"
   },
   {
    "duration": 15,
    "start_time": "2022-06-29T11:54:06.941Z"
   },
   {
    "duration": 34,
    "start_time": "2022-06-29T11:54:06.958Z"
   },
   {
    "duration": 12,
    "start_time": "2022-06-29T11:54:06.994Z"
   },
   {
    "duration": 129,
    "start_time": "2022-06-29T11:54:07.008Z"
   },
   {
    "duration": 1414,
    "start_time": "2022-06-29T11:54:07.139Z"
   },
   {
    "duration": 4,
    "start_time": "2022-06-29T11:54:08.554Z"
   },
   {
    "duration": 33,
    "start_time": "2022-06-29T11:54:08.560Z"
   },
   {
    "duration": 287,
    "start_time": "2022-06-29T11:54:08.595Z"
   },
   {
    "duration": 104,
    "start_time": "2022-06-29T11:54:08.884Z"
   },
   {
    "duration": 154,
    "start_time": "2022-06-29T11:54:08.990Z"
   },
   {
    "duration": 0,
    "start_time": "2022-06-29T11:54:09.148Z"
   },
   {
    "duration": 0,
    "start_time": "2022-06-29T11:54:09.151Z"
   },
   {
    "duration": 25,
    "start_time": "2022-06-29T12:01:16.372Z"
   },
   {
    "duration": 11,
    "start_time": "2022-06-29T12:04:11.201Z"
   },
   {
    "duration": 1648,
    "start_time": "2022-06-29T18:39:04.641Z"
   },
   {
    "duration": 1997,
    "start_time": "2022-06-29T18:39:06.291Z"
   },
   {
    "duration": 24,
    "start_time": "2022-06-29T18:39:08.290Z"
   },
   {
    "duration": 218,
    "start_time": "2022-06-29T18:39:08.316Z"
   },
   {
    "duration": 4,
    "start_time": "2022-06-29T18:39:08.536Z"
   },
   {
    "duration": 88,
    "start_time": "2022-06-29T18:39:08.542Z"
   },
   {
    "duration": 1570,
    "start_time": "2022-06-29T18:39:08.631Z"
   },
   {
    "duration": 13,
    "start_time": "2022-06-29T18:39:10.203Z"
   },
   {
    "duration": 36,
    "start_time": "2022-06-29T18:39:10.218Z"
   },
   {
    "duration": 10,
    "start_time": "2022-06-29T18:39:10.256Z"
   },
   {
    "duration": 90,
    "start_time": "2022-06-29T18:39:10.268Z"
   },
   {
    "duration": 1095,
    "start_time": "2022-06-29T18:39:10.359Z"
   },
   {
    "duration": 3,
    "start_time": "2022-06-29T18:39:11.455Z"
   },
   {
    "duration": 7,
    "start_time": "2022-06-29T18:39:11.460Z"
   },
   {
    "duration": 226,
    "start_time": "2022-06-29T18:39:11.468Z"
   },
   {
    "duration": 62,
    "start_time": "2022-06-29T18:39:11.695Z"
   },
   {
    "duration": 124,
    "start_time": "2022-06-29T18:39:11.759Z"
   },
   {
    "duration": 0,
    "start_time": "2022-06-29T18:39:11.885Z"
   },
   {
    "duration": 0,
    "start_time": "2022-06-29T18:39:11.886Z"
   },
   {
    "duration": 15,
    "start_time": "2022-06-29T18:39:24.812Z"
   },
   {
    "duration": 13,
    "start_time": "2022-06-29T18:39:36.994Z"
   },
   {
    "duration": 1409,
    "start_time": "2022-06-29T18:39:56.828Z"
   },
   {
    "duration": 702,
    "start_time": "2022-06-29T18:39:58.239Z"
   },
   {
    "duration": 28,
    "start_time": "2022-06-29T18:39:58.943Z"
   },
   {
    "duration": 219,
    "start_time": "2022-06-29T18:39:58.973Z"
   },
   {
    "duration": 5,
    "start_time": "2022-06-29T18:39:59.194Z"
   },
   {
    "duration": 89,
    "start_time": "2022-06-29T18:39:59.200Z"
   },
   {
    "duration": 1575,
    "start_time": "2022-06-29T18:39:59.291Z"
   },
   {
    "duration": 13,
    "start_time": "2022-06-29T18:40:00.868Z"
   },
   {
    "duration": 21,
    "start_time": "2022-06-29T18:40:00.882Z"
   },
   {
    "duration": 11,
    "start_time": "2022-06-29T18:40:00.905Z"
   },
   {
    "duration": 98,
    "start_time": "2022-06-29T18:40:00.918Z"
   },
   {
    "duration": 1132,
    "start_time": "2022-06-29T18:40:01.018Z"
   },
   {
    "duration": 3,
    "start_time": "2022-06-29T18:40:02.152Z"
   },
   {
    "duration": 38,
    "start_time": "2022-06-29T18:40:02.157Z"
   },
   {
    "duration": 121,
    "start_time": "2022-06-29T18:40:02.197Z"
   },
   {
    "duration": 0,
    "start_time": "2022-06-29T18:40:02.319Z"
   },
   {
    "duration": 0,
    "start_time": "2022-06-29T18:40:02.320Z"
   },
   {
    "duration": 0,
    "start_time": "2022-06-29T18:40:02.322Z"
   },
   {
    "duration": 0,
    "start_time": "2022-06-29T18:40:02.323Z"
   },
   {
    "duration": 43,
    "start_time": "2022-06-29T18:40:18.044Z"
   },
   {
    "duration": 3,
    "start_time": "2022-06-29T19:07:29.552Z"
   },
   {
    "duration": 13,
    "start_time": "2022-06-29T19:07:30.179Z"
   },
   {
    "duration": 77,
    "start_time": "2022-06-29T19:07:31.551Z"
   },
   {
    "duration": 1375,
    "start_time": "2022-06-29T19:08:37.698Z"
   },
   {
    "duration": 705,
    "start_time": "2022-06-29T19:08:39.075Z"
   },
   {
    "duration": 33,
    "start_time": "2022-06-29T19:08:39.784Z"
   },
   {
    "duration": 241,
    "start_time": "2022-06-29T19:08:39.818Z"
   },
   {
    "duration": 5,
    "start_time": "2022-06-29T19:08:40.060Z"
   },
   {
    "duration": 105,
    "start_time": "2022-06-29T19:08:40.067Z"
   },
   {
    "duration": 1730,
    "start_time": "2022-06-29T19:08:40.174Z"
   },
   {
    "duration": 15,
    "start_time": "2022-06-29T19:08:41.906Z"
   },
   {
    "duration": 39,
    "start_time": "2022-06-29T19:08:41.924Z"
   },
   {
    "duration": 11,
    "start_time": "2022-06-29T19:08:41.964Z"
   },
   {
    "duration": 97,
    "start_time": "2022-06-29T19:08:41.976Z"
   },
   {
    "duration": 1116,
    "start_time": "2022-06-29T19:08:42.075Z"
   },
   {
    "duration": 4,
    "start_time": "2022-06-29T19:08:43.193Z"
   },
   {
    "duration": 4,
    "start_time": "2022-06-29T19:08:43.199Z"
   },
   {
    "duration": 9,
    "start_time": "2022-06-29T19:08:43.204Z"
   },
   {
    "duration": 54,
    "start_time": "2022-06-29T19:08:43.214Z"
   },
   {
    "duration": 2,
    "start_time": "2022-06-29T19:08:43.270Z"
   },
   {
    "duration": 11,
    "start_time": "2022-06-29T19:08:43.274Z"
   },
   {
    "duration": 1349,
    "start_time": "2022-06-29T19:08:43.286Z"
   },
   {
    "duration": 87,
    "start_time": "2022-06-29T19:08:44.636Z"
   },
   {
    "duration": 117,
    "start_time": "2022-06-29T19:08:44.725Z"
   },
   {
    "duration": 0,
    "start_time": "2022-06-29T19:08:44.843Z"
   },
   {
    "duration": 0,
    "start_time": "2022-06-29T19:08:44.844Z"
   },
   {
    "duration": 14,
    "start_time": "2022-06-29T19:11:52.476Z"
   },
   {
    "duration": 1402,
    "start_time": "2022-06-29T19:13:08.239Z"
   },
   {
    "duration": 714,
    "start_time": "2022-06-29T19:13:09.643Z"
   },
   {
    "duration": 30,
    "start_time": "2022-06-29T19:13:10.358Z"
   },
   {
    "duration": 225,
    "start_time": "2022-06-29T19:13:10.389Z"
   },
   {
    "duration": 4,
    "start_time": "2022-06-29T19:13:10.616Z"
   },
   {
    "duration": 92,
    "start_time": "2022-06-29T19:13:10.622Z"
   },
   {
    "duration": 1593,
    "start_time": "2022-06-29T19:13:10.716Z"
   },
   {
    "duration": 12,
    "start_time": "2022-06-29T19:13:12.310Z"
   },
   {
    "duration": 28,
    "start_time": "2022-06-29T19:13:12.323Z"
   },
   {
    "duration": 10,
    "start_time": "2022-06-29T19:13:12.352Z"
   },
   {
    "duration": 89,
    "start_time": "2022-06-29T19:13:12.363Z"
   },
   {
    "duration": 1100,
    "start_time": "2022-06-29T19:13:12.453Z"
   },
   {
    "duration": 3,
    "start_time": "2022-06-29T19:13:13.555Z"
   },
   {
    "duration": 6,
    "start_time": "2022-06-29T19:13:13.561Z"
   },
   {
    "duration": 6,
    "start_time": "2022-06-29T19:13:13.569Z"
   },
   {
    "duration": 42,
    "start_time": "2022-06-29T19:13:13.577Z"
   },
   {
    "duration": 3,
    "start_time": "2022-06-29T19:13:13.620Z"
   },
   {
    "duration": 29,
    "start_time": "2022-06-29T19:13:13.625Z"
   },
   {
    "duration": 1490,
    "start_time": "2022-06-29T19:13:13.655Z"
   },
   {
    "duration": 226,
    "start_time": "2022-06-29T19:13:15.146Z"
   },
   {
    "duration": 0,
    "start_time": "2022-06-29T19:13:15.374Z"
   },
   {
    "duration": 0,
    "start_time": "2022-06-29T19:13:15.375Z"
   },
   {
    "duration": 0,
    "start_time": "2022-06-29T19:13:15.376Z"
   },
   {
    "duration": 0,
    "start_time": "2022-06-29T19:13:15.376Z"
   },
   {
    "duration": 183,
    "start_time": "2022-06-29T19:14:01.795Z"
   },
   {
    "duration": 10,
    "start_time": "2022-06-29T19:15:19.206Z"
   },
   {
    "duration": 1402,
    "start_time": "2022-06-29T19:15:20.339Z"
   },
   {
    "duration": 228,
    "start_time": "2022-06-29T19:15:21.742Z"
   },
   {
    "duration": 408,
    "start_time": "2022-06-29T19:15:59.733Z"
   },
   {
    "duration": 1595,
    "start_time": "2022-06-29T19:17:06.255Z"
   },
   {
    "duration": 639,
    "start_time": "2022-06-29T19:17:07.851Z"
   },
   {
    "duration": 22,
    "start_time": "2022-06-29T19:17:08.491Z"
   },
   {
    "duration": 230,
    "start_time": "2022-06-29T19:17:08.515Z"
   },
   {
    "duration": 8,
    "start_time": "2022-06-29T19:17:08.746Z"
   },
   {
    "duration": 102,
    "start_time": "2022-06-29T19:17:08.755Z"
   },
   {
    "duration": 1725,
    "start_time": "2022-06-29T19:17:08.858Z"
   },
   {
    "duration": 13,
    "start_time": "2022-06-29T19:17:10.585Z"
   },
   {
    "duration": 25,
    "start_time": "2022-06-29T19:17:10.600Z"
   },
   {
    "duration": 13,
    "start_time": "2022-06-29T19:17:10.650Z"
   },
   {
    "duration": 88,
    "start_time": "2022-06-29T19:17:10.664Z"
   },
   {
    "duration": 1142,
    "start_time": "2022-06-29T19:17:10.754Z"
   },
   {
    "duration": 4,
    "start_time": "2022-06-29T19:17:11.898Z"
   },
   {
    "duration": 8,
    "start_time": "2022-06-29T19:17:11.904Z"
   },
   {
    "duration": 19,
    "start_time": "2022-06-29T19:17:11.914Z"
   },
   {
    "duration": 53,
    "start_time": "2022-06-29T19:17:11.934Z"
   },
   {
    "duration": 3,
    "start_time": "2022-06-29T19:17:11.988Z"
   },
   {
    "duration": 10,
    "start_time": "2022-06-29T19:17:11.992Z"
   },
   {
    "duration": 1494,
    "start_time": "2022-06-29T19:17:12.004Z"
   },
   {
    "duration": 383,
    "start_time": "2022-06-29T19:17:13.500Z"
   },
   {
    "duration": 92,
    "start_time": "2022-06-29T19:17:13.884Z"
   },
   {
    "duration": 124,
    "start_time": "2022-06-29T19:17:13.978Z"
   },
   {
    "duration": 0,
    "start_time": "2022-06-29T19:17:14.104Z"
   },
   {
    "duration": 0,
    "start_time": "2022-06-29T19:17:14.105Z"
   },
   {
    "duration": 1513,
    "start_time": "2022-06-29T19:38:36.809Z"
   },
   {
    "duration": 1600,
    "start_time": "2022-06-29T19:41:42.189Z"
   },
   {
    "duration": 6,
    "start_time": "2022-06-29T19:43:27.088Z"
   },
   {
    "duration": 10,
    "start_time": "2022-06-29T19:43:27.816Z"
   },
   {
    "duration": 1315,
    "start_time": "2022-06-29T19:43:28.999Z"
   },
   {
    "duration": 1887,
    "start_time": "2022-06-29T19:43:30.316Z"
   },
   {
    "duration": 1466,
    "start_time": "2022-06-29T19:44:04.095Z"
   },
   {
    "duration": 2063,
    "start_time": "2022-06-29T19:44:05.563Z"
   },
   {
    "duration": 5,
    "start_time": "2022-06-29T19:44:56.822Z"
   },
   {
    "duration": 10,
    "start_time": "2022-06-29T19:44:57.425Z"
   },
   {
    "duration": 1295,
    "start_time": "2022-06-29T19:45:02.000Z"
   },
   {
    "duration": 1824,
    "start_time": "2022-06-29T19:45:03.297Z"
   },
   {
    "duration": 4,
    "start_time": "2022-06-29T19:46:43.041Z"
   },
   {
    "duration": 9,
    "start_time": "2022-06-29T19:46:43.778Z"
   },
   {
    "duration": 1450,
    "start_time": "2022-06-29T19:46:44.239Z"
   },
   {
    "duration": 1927,
    "start_time": "2022-06-29T19:46:45.691Z"
   },
   {
    "duration": 1521,
    "start_time": "2022-06-29T19:49:51.421Z"
   },
   {
    "duration": 1536,
    "start_time": "2022-06-29T19:50:38.531Z"
   },
   {
    "duration": 664,
    "start_time": "2022-06-29T19:50:40.068Z"
   },
   {
    "duration": 36,
    "start_time": "2022-06-29T19:50:40.733Z"
   },
   {
    "duration": 218,
    "start_time": "2022-06-29T19:50:40.771Z"
   },
   {
    "duration": 6,
    "start_time": "2022-06-29T19:50:40.991Z"
   },
   {
    "duration": 100,
    "start_time": "2022-06-29T19:50:40.998Z"
   },
   {
    "duration": 1627,
    "start_time": "2022-06-29T19:50:41.100Z"
   },
   {
    "duration": 12,
    "start_time": "2022-06-29T19:50:42.728Z"
   },
   {
    "duration": 26,
    "start_time": "2022-06-29T19:50:42.750Z"
   },
   {
    "duration": 12,
    "start_time": "2022-06-29T19:50:42.779Z"
   },
   {
    "duration": 94,
    "start_time": "2022-06-29T19:50:42.792Z"
   },
   {
    "duration": 1377,
    "start_time": "2022-06-29T19:50:42.888Z"
   },
   {
    "duration": 4,
    "start_time": "2022-06-29T19:50:44.266Z"
   },
   {
    "duration": 5,
    "start_time": "2022-06-29T19:50:44.271Z"
   },
   {
    "duration": 7,
    "start_time": "2022-06-29T19:50:44.278Z"
   },
   {
    "duration": 434,
    "start_time": "2022-06-29T19:50:44.286Z"
   },
   {
    "duration": 5,
    "start_time": "2022-06-29T19:50:44.722Z"
   },
   {
    "duration": 35,
    "start_time": "2022-06-29T19:50:44.729Z"
   },
   {
    "duration": 183784,
    "start_time": "2022-06-29T19:50:44.767Z"
   },
   {
    "duration": 209,
    "start_time": "2022-06-29T19:53:48.553Z"
   },
   {
    "duration": 0,
    "start_time": "2022-06-29T19:53:48.763Z"
   },
   {
    "duration": 0,
    "start_time": "2022-06-29T19:53:48.765Z"
   },
   {
    "duration": 0,
    "start_time": "2022-06-29T19:53:48.765Z"
   },
   {
    "duration": 0,
    "start_time": "2022-06-29T19:53:48.766Z"
   },
   {
    "duration": 0,
    "start_time": "2022-06-29T19:53:48.769Z"
   },
   {
    "duration": 563,
    "start_time": "2022-06-29T19:54:42.263Z"
   },
   {
    "duration": 13283,
    "start_time": "2022-06-29T19:54:53.098Z"
   },
   {
    "duration": 14,
    "start_time": "2022-06-29T19:58:21.148Z"
   },
   {
    "duration": 182489,
    "start_time": "2022-06-29T19:58:22.182Z"
   },
   {
    "duration": 426,
    "start_time": "2022-06-29T20:01:24.673Z"
   },
   {
    "duration": 10,
    "start_time": "2022-06-29T20:01:47.727Z"
   },
   {
    "duration": 208698,
    "start_time": "2022-06-29T20:01:48.662Z"
   },
   {
    "duration": 434,
    "start_time": "2022-06-29T20:05:17.362Z"
   },
   {
    "duration": 98619,
    "start_time": "2022-06-29T20:06:55.109Z"
   },
   {
    "duration": 9,
    "start_time": "2022-06-29T20:11:17.715Z"
   },
   {
    "duration": 196298,
    "start_time": "2022-06-29T20:11:18.778Z"
   },
   {
    "duration": 331,
    "start_time": "2022-06-29T20:14:35.077Z"
   },
   {
    "duration": 0,
    "start_time": "2022-06-29T20:14:35.410Z"
   },
   {
    "duration": 0,
    "start_time": "2022-06-29T20:14:35.411Z"
   },
   {
    "duration": 0,
    "start_time": "2022-06-29T20:14:35.412Z"
   },
   {
    "duration": 0,
    "start_time": "2022-06-29T20:14:35.413Z"
   },
   {
    "duration": 0,
    "start_time": "2022-06-29T20:14:35.413Z"
   },
   {
    "duration": 0,
    "start_time": "2022-06-29T20:14:35.414Z"
   },
   {
    "duration": 10,
    "start_time": "2022-06-29T20:15:43.796Z"
   },
   {
    "duration": 76,
    "start_time": "2022-06-29T20:15:45.673Z"
   },
   {
    "duration": 9,
    "start_time": "2022-06-29T20:15:48.125Z"
   },
   {
    "duration": 5,
    "start_time": "2022-06-29T20:17:26.166Z"
   },
   {
    "duration": 1600,
    "start_time": "2022-06-29T20:17:32.598Z"
   },
   {
    "duration": 772,
    "start_time": "2022-06-29T20:17:34.200Z"
   },
   {
    "duration": 32,
    "start_time": "2022-06-29T20:17:34.974Z"
   },
   {
    "duration": 268,
    "start_time": "2022-06-29T20:17:35.008Z"
   },
   {
    "duration": 6,
    "start_time": "2022-06-29T20:17:35.278Z"
   },
   {
    "duration": 118,
    "start_time": "2022-06-29T20:17:35.285Z"
   },
   {
    "duration": 2103,
    "start_time": "2022-06-29T20:17:35.405Z"
   },
   {
    "duration": 15,
    "start_time": "2022-06-29T20:17:37.510Z"
   },
   {
    "duration": 44,
    "start_time": "2022-06-29T20:17:37.526Z"
   },
   {
    "duration": 14,
    "start_time": "2022-06-29T20:17:37.572Z"
   },
   {
    "duration": 106,
    "start_time": "2022-06-29T20:17:37.588Z"
   },
   {
    "duration": 1620,
    "start_time": "2022-06-29T20:17:37.696Z"
   },
   {
    "duration": 4,
    "start_time": "2022-06-29T20:17:39.318Z"
   },
   {
    "duration": 5,
    "start_time": "2022-06-29T20:17:39.326Z"
   },
   {
    "duration": 32,
    "start_time": "2022-06-29T20:17:39.332Z"
   },
   {
    "duration": 469,
    "start_time": "2022-06-29T20:17:39.370Z"
   },
   {
    "duration": 6,
    "start_time": "2022-06-29T20:17:39.841Z"
   },
   {
    "duration": 20,
    "start_time": "2022-06-29T20:17:39.853Z"
   },
   {
    "duration": 11,
    "start_time": "2022-06-29T20:17:39.875Z"
   },
   {
    "duration": 505,
    "start_time": "2022-06-29T20:17:39.888Z"
   },
   {
    "duration": 224461,
    "start_time": "2022-06-29T20:17:40.395Z"
   },
   {
    "duration": 568,
    "start_time": "2022-06-29T20:21:24.860Z"
   },
   {
    "duration": 15013,
    "start_time": "2022-06-29T20:21:25.429Z"
   },
   {
    "duration": 3,
    "start_time": "2022-06-29T20:21:40.443Z"
   },
   {
    "duration": 77704,
    "start_time": "2022-06-29T20:21:40.461Z"
   },
   {
    "duration": 662,
    "start_time": "2022-06-29T20:22:58.166Z"
   },
   {
    "duration": 203,
    "start_time": "2022-06-29T20:22:58.829Z"
   },
   {
    "duration": 9,
    "start_time": "2022-06-29T20:22:59.033Z"
   },
   {
    "duration": 0,
    "start_time": "2022-06-29T20:22:59.043Z"
   },
   {
    "duration": 0,
    "start_time": "2022-06-29T20:22:59.045Z"
   },
   {
    "duration": 0,
    "start_time": "2022-06-29T20:22:59.045Z"
   },
   {
    "duration": 0,
    "start_time": "2022-06-29T20:22:59.047Z"
   },
   {
    "duration": 0,
    "start_time": "2022-06-29T20:22:59.047Z"
   },
   {
    "duration": 0,
    "start_time": "2022-06-29T20:22:59.049Z"
   },
   {
    "duration": 119,
    "start_time": "2022-06-29T20:25:05.643Z"
   },
   {
    "duration": 46,
    "start_time": "2022-06-29T20:25:40.048Z"
   },
   {
    "duration": 14,
    "start_time": "2022-06-29T20:25:50.217Z"
   },
   {
    "duration": 1666,
    "start_time": "2022-06-29T20:26:06.144Z"
   },
   {
    "duration": 690,
    "start_time": "2022-06-29T20:26:07.812Z"
   },
   {
    "duration": 24,
    "start_time": "2022-06-29T20:26:08.503Z"
   },
   {
    "duration": 234,
    "start_time": "2022-06-29T20:26:08.530Z"
   },
   {
    "duration": 6,
    "start_time": "2022-06-29T20:26:08.766Z"
   },
   {
    "duration": 92,
    "start_time": "2022-06-29T20:26:08.774Z"
   },
   {
    "duration": 1733,
    "start_time": "2022-06-29T20:26:08.867Z"
   },
   {
    "duration": 13,
    "start_time": "2022-06-29T20:26:10.601Z"
   },
   {
    "duration": 44,
    "start_time": "2022-06-29T20:26:10.616Z"
   },
   {
    "duration": 12,
    "start_time": "2022-06-29T20:26:10.662Z"
   },
   {
    "duration": 87,
    "start_time": "2022-06-29T20:26:10.676Z"
   },
   {
    "duration": 1426,
    "start_time": "2022-06-29T20:26:10.764Z"
   },
   {
    "duration": 4,
    "start_time": "2022-06-29T20:26:12.191Z"
   },
   {
    "duration": 7,
    "start_time": "2022-06-29T20:26:12.197Z"
   },
   {
    "duration": 8,
    "start_time": "2022-06-29T20:26:12.206Z"
   },
   {
    "duration": 400,
    "start_time": "2022-06-29T20:26:12.215Z"
   },
   {
    "duration": 6,
    "start_time": "2022-06-29T20:26:12.616Z"
   },
   {
    "duration": 10,
    "start_time": "2022-06-29T20:26:12.624Z"
   },
   {
    "duration": 29,
    "start_time": "2022-06-29T20:26:12.636Z"
   },
   {
    "duration": 429,
    "start_time": "2022-06-29T20:26:12.667Z"
   },
   {
    "duration": 212258,
    "start_time": "2022-06-29T20:26:13.098Z"
   },
   {
    "duration": 572,
    "start_time": "2022-06-29T20:29:45.358Z"
   },
   {
    "duration": 15302,
    "start_time": "2022-06-29T20:29:45.932Z"
   },
   {
    "duration": 82837,
    "start_time": "2022-06-29T20:30:01.236Z"
   },
   {
    "duration": 711,
    "start_time": "2022-06-29T20:31:24.074Z"
   },
   {
    "duration": 26,
    "start_time": "2022-06-29T20:31:24.787Z"
   },
   {
    "duration": 0,
    "start_time": "2022-06-29T20:31:24.815Z"
   },
   {
    "duration": 0,
    "start_time": "2022-06-29T20:31:24.816Z"
   },
   {
    "duration": 0,
    "start_time": "2022-06-29T20:31:24.817Z"
   },
   {
    "duration": 0,
    "start_time": "2022-06-29T20:31:24.818Z"
   },
   {
    "duration": 0,
    "start_time": "2022-06-29T20:31:24.820Z"
   },
   {
    "duration": 0,
    "start_time": "2022-06-29T20:31:24.821Z"
   },
   {
    "duration": 0,
    "start_time": "2022-06-29T20:31:24.822Z"
   },
   {
    "duration": 0,
    "start_time": "2022-06-29T20:31:24.823Z"
   },
   {
    "duration": 0,
    "start_time": "2022-06-29T20:31:24.825Z"
   },
   {
    "duration": 0,
    "start_time": "2022-06-29T20:31:24.826Z"
   },
   {
    "duration": 0,
    "start_time": "2022-06-29T20:31:24.827Z"
   },
   {
    "duration": 433335,
    "start_time": "2022-06-29T20:34:47.043Z"
   },
   {
    "duration": 9,
    "start_time": "2022-06-29T20:42:00.380Z"
   },
   {
    "duration": 0,
    "start_time": "2022-06-29T20:42:00.391Z"
   },
   {
    "duration": 0,
    "start_time": "2022-06-29T20:42:00.392Z"
   },
   {
    "duration": 0,
    "start_time": "2022-06-29T20:42:00.393Z"
   },
   {
    "duration": 0,
    "start_time": "2022-06-29T20:42:00.394Z"
   },
   {
    "duration": 0,
    "start_time": "2022-06-29T20:42:00.396Z"
   },
   {
    "duration": 0,
    "start_time": "2022-06-29T20:42:00.396Z"
   },
   {
    "duration": 73,
    "start_time": "2022-06-29T20:42:02.001Z"
   },
   {
    "duration": 69,
    "start_time": "2022-06-29T20:44:24.928Z"
   },
   {
    "duration": 14,
    "start_time": "2022-06-29T20:45:26.338Z"
   },
   {
    "duration": 68,
    "start_time": "2022-06-29T20:49:02.626Z"
   },
   {
    "duration": 64,
    "start_time": "2022-06-29T20:49:39.722Z"
   },
   {
    "duration": 1559,
    "start_time": "2022-06-29T20:57:56.919Z"
   },
   {
    "duration": 652,
    "start_time": "2022-06-29T20:57:58.698Z"
   },
   {
    "duration": 25,
    "start_time": "2022-06-29T20:57:59.352Z"
   },
   {
    "duration": 228,
    "start_time": "2022-06-29T20:57:59.379Z"
   },
   {
    "duration": 7,
    "start_time": "2022-06-29T20:57:59.610Z"
   },
   {
    "duration": 101,
    "start_time": "2022-06-29T20:57:59.620Z"
   },
   {
    "duration": 1742,
    "start_time": "2022-06-29T20:57:59.722Z"
   },
   {
    "duration": 12,
    "start_time": "2022-06-29T20:58:01.468Z"
   },
   {
    "duration": 20,
    "start_time": "2022-06-29T20:58:01.482Z"
   },
   {
    "duration": 13,
    "start_time": "2022-06-29T20:58:01.505Z"
   },
   {
    "duration": 104,
    "start_time": "2022-06-29T20:58:01.519Z"
   },
   {
    "duration": 1398,
    "start_time": "2022-06-29T20:58:01.625Z"
   },
   {
    "duration": 4,
    "start_time": "2022-06-29T20:58:03.025Z"
   },
   {
    "duration": 4,
    "start_time": "2022-06-29T20:58:03.030Z"
   },
   {
    "duration": 21,
    "start_time": "2022-06-29T20:58:03.035Z"
   },
   {
    "duration": 398,
    "start_time": "2022-06-29T20:58:03.063Z"
   },
   {
    "duration": 5,
    "start_time": "2022-06-29T20:58:03.468Z"
   },
   {
    "duration": 11,
    "start_time": "2022-06-29T20:58:03.475Z"
   },
   {
    "duration": 12,
    "start_time": "2022-06-29T20:58:03.488Z"
   },
   {
    "duration": 476,
    "start_time": "2022-06-29T20:58:03.501Z"
   },
   {
    "duration": 257689,
    "start_time": "2022-06-29T20:58:03.979Z"
   },
   {
    "duration": 645,
    "start_time": "2022-06-29T21:02:21.673Z"
   },
   {
    "duration": 14219,
    "start_time": "2022-06-29T21:02:22.320Z"
   },
   {
    "duration": 82678,
    "start_time": "2022-06-29T21:02:36.541Z"
   },
   {
    "duration": 753,
    "start_time": "2022-06-29T21:03:59.221Z"
   },
   {
    "duration": 150,
    "start_time": "2022-06-29T21:03:59.976Z"
   },
   {
    "duration": 0,
    "start_time": "2022-06-29T21:04:00.128Z"
   },
   {
    "duration": 0,
    "start_time": "2022-06-29T21:04:00.130Z"
   },
   {
    "duration": 0,
    "start_time": "2022-06-29T21:04:00.133Z"
   },
   {
    "duration": 0,
    "start_time": "2022-06-29T21:04:00.136Z"
   },
   {
    "duration": 0,
    "start_time": "2022-06-29T21:04:00.138Z"
   },
   {
    "duration": 0,
    "start_time": "2022-06-29T21:04:00.140Z"
   },
   {
    "duration": 0,
    "start_time": "2022-06-29T21:04:00.156Z"
   },
   {
    "duration": 0,
    "start_time": "2022-06-29T21:04:00.157Z"
   },
   {
    "duration": 0,
    "start_time": "2022-06-29T21:04:00.158Z"
   },
   {
    "duration": 0,
    "start_time": "2022-06-29T21:04:00.158Z"
   },
   {
    "duration": 0,
    "start_time": "2022-06-29T21:04:00.160Z"
   },
   {
    "duration": 0,
    "start_time": "2022-06-29T21:04:00.162Z"
   },
   {
    "duration": 69,
    "start_time": "2022-06-29T21:09:29.827Z"
   },
   {
    "duration": 1576,
    "start_time": "2022-06-29T21:44:42.290Z"
   },
   {
    "duration": 688,
    "start_time": "2022-06-29T21:44:43.869Z"
   },
   {
    "duration": 32,
    "start_time": "2022-06-29T21:44:44.566Z"
   },
   {
    "duration": 231,
    "start_time": "2022-06-29T21:44:44.600Z"
   },
   {
    "duration": 4,
    "start_time": "2022-06-29T21:44:44.833Z"
   },
   {
    "duration": 98,
    "start_time": "2022-06-29T21:44:44.838Z"
   },
   {
    "duration": 1647,
    "start_time": "2022-06-29T21:44:44.938Z"
   },
   {
    "duration": 12,
    "start_time": "2022-06-29T21:44:46.586Z"
   },
   {
    "duration": 18,
    "start_time": "2022-06-29T21:44:46.600Z"
   },
   {
    "duration": 10,
    "start_time": "2022-06-29T21:44:46.620Z"
   },
   {
    "duration": 105,
    "start_time": "2022-06-29T21:44:46.631Z"
   },
   {
    "duration": 1164,
    "start_time": "2022-06-29T21:44:46.737Z"
   },
   {
    "duration": 3,
    "start_time": "2022-06-29T21:44:47.902Z"
   },
   {
    "duration": 3,
    "start_time": "2022-06-29T21:44:47.908Z"
   },
   {
    "duration": 5,
    "start_time": "2022-06-29T21:44:47.913Z"
   },
   {
    "duration": 57,
    "start_time": "2022-06-29T21:44:47.919Z"
   },
   {
    "duration": 4,
    "start_time": "2022-06-29T21:44:47.978Z"
   },
   {
    "duration": 11,
    "start_time": "2022-06-29T21:44:47.984Z"
   },
   {
    "duration": 10,
    "start_time": "2022-06-29T21:44:47.996Z"
   },
   {
    "duration": 407,
    "start_time": "2022-06-29T21:44:48.008Z"
   },
   {
    "duration": 1371,
    "start_time": "2022-06-29T21:44:48.417Z"
   },
   {
    "duration": 418,
    "start_time": "2022-06-29T21:44:49.791Z"
   },
   {
    "duration": 1046,
    "start_time": "2022-06-29T21:44:50.210Z"
   },
   {
    "duration": 458,
    "start_time": "2022-06-29T21:44:51.257Z"
   },
   {
    "duration": 14451,
    "start_time": "2022-06-29T21:44:51.717Z"
   },
   {
    "duration": 533,
    "start_time": "2022-06-29T21:45:06.169Z"
   },
   {
    "duration": 0,
    "start_time": "2022-06-29T21:45:06.704Z"
   },
   {
    "duration": 0,
    "start_time": "2022-06-29T21:45:06.705Z"
   },
   {
    "duration": 0,
    "start_time": "2022-06-29T21:45:06.706Z"
   },
   {
    "duration": 0,
    "start_time": "2022-06-29T21:45:06.707Z"
   },
   {
    "duration": 0,
    "start_time": "2022-06-29T21:45:06.708Z"
   },
   {
    "duration": 0,
    "start_time": "2022-06-29T21:45:06.708Z"
   },
   {
    "duration": 0,
    "start_time": "2022-06-29T21:45:06.709Z"
   },
   {
    "duration": 0,
    "start_time": "2022-06-29T21:45:06.710Z"
   },
   {
    "duration": 0,
    "start_time": "2022-06-29T21:45:06.711Z"
   },
   {
    "duration": 0,
    "start_time": "2022-06-29T21:45:06.712Z"
   },
   {
    "duration": 0,
    "start_time": "2022-06-29T21:45:06.713Z"
   },
   {
    "duration": 0,
    "start_time": "2022-06-29T21:45:06.714Z"
   },
   {
    "duration": 0,
    "start_time": "2022-06-29T21:45:06.715Z"
   },
   {
    "duration": 0,
    "start_time": "2022-06-29T21:45:06.716Z"
   },
   {
    "duration": 438,
    "start_time": "2022-06-29T21:46:38.829Z"
   },
   {
    "duration": 26,
    "start_time": "2022-06-29T21:46:42.264Z"
   },
   {
    "duration": 453273,
    "start_time": "2022-06-29T21:46:57.096Z"
   },
   {
    "duration": 0,
    "start_time": "2022-06-29T21:54:30.814Z"
   },
   {
    "duration": 0,
    "start_time": "2022-06-29T21:54:30.815Z"
   },
   {
    "duration": 0,
    "start_time": "2022-06-29T21:54:30.816Z"
   },
   {
    "duration": 0,
    "start_time": "2022-06-29T21:54:30.817Z"
   },
   {
    "duration": 0,
    "start_time": "2022-06-29T21:54:30.818Z"
   },
   {
    "duration": 481,
    "start_time": "2022-06-29T21:56:57.362Z"
   },
   {
    "duration": 8,
    "start_time": "2022-06-29T21:57:09.655Z"
   },
   {
    "duration": 16279,
    "start_time": "2022-06-29T21:57:10.005Z"
   },
   {
    "duration": 5,
    "start_time": "2022-06-29T21:57:26.286Z"
   },
   {
    "duration": 13,
    "start_time": "2022-06-29T21:57:26.292Z"
   },
   {
    "duration": 104,
    "start_time": "2022-06-29T22:00:05.042Z"
   },
   {
    "duration": 10,
    "start_time": "2022-06-29T22:00:11.169Z"
   },
   {
    "duration": 9,
    "start_time": "2022-06-29T22:00:19.439Z"
   },
   {
    "duration": 3,
    "start_time": "2022-06-29T22:00:25.823Z"
   },
   {
    "duration": 571,
    "start_time": "2022-06-29T22:00:26.848Z"
   },
   {
    "duration": 539,
    "start_time": "2022-06-29T22:02:07.186Z"
   },
   {
    "duration": 681,
    "start_time": "2022-06-29T22:04:28.003Z"
   },
   {
    "duration": 4,
    "start_time": "2022-06-29T22:05:44.221Z"
   },
   {
    "duration": 11,
    "start_time": "2022-06-29T22:05:45.626Z"
   },
   {
    "duration": 72,
    "start_time": "2022-06-29T22:06:03.028Z"
   },
   {
    "duration": 9,
    "start_time": "2022-06-29T22:06:06.917Z"
   },
   {
    "duration": 1452,
    "start_time": "2022-06-29T22:06:34.714Z"
   },
   {
    "duration": 14,
    "start_time": "2022-06-29T22:06:53.379Z"
   },
   {
    "duration": 401,
    "start_time": "2022-06-29T22:08:10.289Z"
   },
   {
    "duration": 416,
    "start_time": "2022-06-29T22:12:06.670Z"
   },
   {
    "duration": 4,
    "start_time": "2022-06-29T22:12:08.604Z"
   },
   {
    "duration": 11,
    "start_time": "2022-06-29T22:12:08.972Z"
   },
   {
    "duration": 13,
    "start_time": "2022-06-29T22:12:10.363Z"
   },
   {
    "duration": 109,
    "start_time": "2022-06-29T22:12:11.962Z"
   },
   {
    "duration": 1560,
    "start_time": "2022-06-29T22:13:43.932Z"
   },
   {
    "duration": 674,
    "start_time": "2022-06-29T22:13:45.494Z"
   },
   {
    "duration": 25,
    "start_time": "2022-06-29T22:13:46.172Z"
   },
   {
    "duration": 225,
    "start_time": "2022-06-29T22:13:46.198Z"
   },
   {
    "duration": 5,
    "start_time": "2022-06-29T22:13:46.424Z"
   },
   {
    "duration": 97,
    "start_time": "2022-06-29T22:13:46.431Z"
   },
   {
    "duration": 1640,
    "start_time": "2022-06-29T22:13:46.530Z"
   },
   {
    "duration": 14,
    "start_time": "2022-06-29T22:13:48.171Z"
   },
   {
    "duration": 19,
    "start_time": "2022-06-29T22:13:48.188Z"
   },
   {
    "duration": 12,
    "start_time": "2022-06-29T22:13:48.209Z"
   },
   {
    "duration": 104,
    "start_time": "2022-06-29T22:13:48.222Z"
   },
   {
    "duration": 1348,
    "start_time": "2022-06-29T22:13:48.328Z"
   },
   {
    "duration": 4,
    "start_time": "2022-06-29T22:13:49.677Z"
   },
   {
    "duration": 4,
    "start_time": "2022-06-29T22:13:49.683Z"
   },
   {
    "duration": 7,
    "start_time": "2022-06-29T22:13:49.688Z"
   },
   {
    "duration": 426,
    "start_time": "2022-06-29T22:13:49.696Z"
   },
   {
    "duration": 6,
    "start_time": "2022-06-29T22:13:50.123Z"
   },
   {
    "duration": 32,
    "start_time": "2022-06-29T22:13:50.130Z"
   },
   {
    "duration": 12,
    "start_time": "2022-06-29T22:13:50.164Z"
   },
   {
    "duration": 418,
    "start_time": "2022-06-29T22:13:50.178Z"
   },
   {
    "duration": 186073,
    "start_time": "2022-06-29T22:13:50.597Z"
   },
   {
    "duration": 611,
    "start_time": "2022-06-29T22:16:56.672Z"
   },
   {
    "duration": 12105,
    "start_time": "2022-06-29T22:16:57.285Z"
   },
   {
    "duration": 401,
    "start_time": "2022-06-29T22:17:09.391Z"
   },
   {
    "duration": 100487,
    "start_time": "2022-06-29T22:17:09.793Z"
   },
   {
    "duration": 413,
    "start_time": "2022-06-29T22:18:50.281Z"
   },
   {
    "duration": 1750681,
    "start_time": "2022-06-29T22:18:50.697Z"
   },
   {
    "duration": 695,
    "start_time": "2022-06-29T22:48:01.379Z"
   },
   {
    "duration": 34366,
    "start_time": "2022-06-29T22:48:02.076Z"
   },
   {
    "duration": 290,
    "start_time": "2022-06-29T22:48:36.451Z"
   },
   {
    "duration": 460,
    "start_time": "2022-06-29T22:48:36.742Z"
   },
   {
    "duration": 3,
    "start_time": "2022-06-29T22:48:37.204Z"
   },
   {
    "duration": 13,
    "start_time": "2022-06-29T22:48:37.208Z"
   },
   {
    "duration": 34,
    "start_time": "2022-06-29T22:48:37.222Z"
   },
   {
    "duration": 155,
    "start_time": "2022-06-29T22:48:37.257Z"
   },
   {
    "duration": 14238,
    "start_time": "2022-06-29T22:48:37.414Z"
   },
   {
    "duration": 157,
    "start_time": "2022-06-29T22:48:51.653Z"
   },
   {
    "duration": 0,
    "start_time": "2022-06-29T22:48:51.811Z"
   },
   {
    "duration": 0,
    "start_time": "2022-06-29T22:48:51.813Z"
   },
   {
    "duration": 0,
    "start_time": "2022-06-29T22:48:51.814Z"
   },
   {
    "duration": 164,
    "start_time": "2022-06-29T22:52:26.589Z"
   },
   {
    "duration": 328,
    "start_time": "2022-06-29T22:52:45.671Z"
   },
   {
    "duration": 164,
    "start_time": "2022-06-29T22:53:03.698Z"
   },
   {
    "duration": 153,
    "start_time": "2022-06-29T22:53:11.771Z"
   },
   {
    "duration": 9,
    "start_time": "2022-06-29T22:55:48.412Z"
   },
   {
    "duration": 152,
    "start_time": "2022-06-29T22:56:00.323Z"
   },
   {
    "duration": 16,
    "start_time": "2022-06-29T22:56:29.948Z"
   },
   {
    "duration": 11,
    "start_time": "2022-06-29T22:56:30.833Z"
   },
   {
    "duration": 7,
    "start_time": "2022-06-29T22:56:32.515Z"
   },
   {
    "duration": 556,
    "start_time": "2022-06-29T22:56:33.121Z"
   },
   {
    "duration": 166700,
    "start_time": "2022-06-29T22:56:43.125Z"
   },
   {
    "duration": 28,
    "start_time": "2022-06-29T22:59:29.827Z"
   },
   {
    "duration": 0,
    "start_time": "2022-06-29T22:59:29.857Z"
   },
   {
    "duration": 0,
    "start_time": "2022-06-29T22:59:29.861Z"
   },
   {
    "duration": 0,
    "start_time": "2022-06-29T22:59:29.862Z"
   },
   {
    "duration": 0,
    "start_time": "2022-06-29T22:59:29.863Z"
   },
   {
    "duration": 19,
    "start_time": "2022-06-29T22:59:35.064Z"
   },
   {
    "duration": 8,
    "start_time": "2022-06-29T22:59:36.294Z"
   },
   {
    "duration": 572,
    "start_time": "2022-06-29T22:59:36.604Z"
   },
   {
    "duration": 195,
    "start_time": "2022-06-29T23:00:15.791Z"
   },
   {
    "duration": 15,
    "start_time": "2022-06-29T23:00:43.838Z"
   },
   {
    "duration": 13,
    "start_time": "2022-06-29T23:01:08.393Z"
   },
   {
    "duration": 3,
    "start_time": "2022-06-29T23:09:25.779Z"
   },
   {
    "duration": 20,
    "start_time": "2022-06-29T23:09:26.465Z"
   },
   {
    "duration": 13,
    "start_time": "2022-06-29T23:09:52.289Z"
   },
   {
    "duration": 10,
    "start_time": "2022-06-29T23:16:13.347Z"
   },
   {
    "duration": 24,
    "start_time": "2022-06-29T23:19:52.876Z"
   },
   {
    "duration": 24,
    "start_time": "2022-06-29T23:22:56.135Z"
   },
   {
    "duration": 1969,
    "start_time": "2022-06-29T23:23:05.945Z"
   },
   {
    "duration": 766,
    "start_time": "2022-06-29T23:23:07.916Z"
   },
   {
    "duration": 34,
    "start_time": "2022-06-29T23:23:08.683Z"
   },
   {
    "duration": 271,
    "start_time": "2022-06-29T23:23:08.718Z"
   },
   {
    "duration": 6,
    "start_time": "2022-06-29T23:23:08.992Z"
   },
   {
    "duration": 119,
    "start_time": "2022-06-29T23:23:08.999Z"
   },
   {
    "duration": 1884,
    "start_time": "2022-06-29T23:23:09.119Z"
   },
   {
    "duration": 15,
    "start_time": "2022-06-29T23:23:11.005Z"
   },
   {
    "duration": 36,
    "start_time": "2022-06-29T23:23:11.022Z"
   },
   {
    "duration": 14,
    "start_time": "2022-06-29T23:23:11.060Z"
   },
   {
    "duration": 112,
    "start_time": "2022-06-29T23:23:11.075Z"
   },
   {
    "duration": 1606,
    "start_time": "2022-06-29T23:23:11.189Z"
   },
   {
    "duration": 3,
    "start_time": "2022-06-29T23:23:12.797Z"
   },
   {
    "duration": 7,
    "start_time": "2022-06-29T23:23:12.803Z"
   },
   {
    "duration": 8,
    "start_time": "2022-06-29T23:23:12.812Z"
   },
   {
    "duration": 10,
    "start_time": "2022-06-29T23:23:12.822Z"
   },
   {
    "duration": 14,
    "start_time": "2022-06-29T23:23:12.852Z"
   },
   {
    "duration": 901,
    "start_time": "2022-06-29T23:23:12.868Z"
   },
   {
    "duration": 6,
    "start_time": "2022-06-29T23:23:13.771Z"
   },
   {
    "duration": 11,
    "start_time": "2022-06-29T23:23:13.779Z"
   },
   {
    "duration": 11,
    "start_time": "2022-06-29T23:23:13.792Z"
   },
   {
    "duration": 519,
    "start_time": "2022-06-29T23:23:13.805Z"
   },
   {
    "duration": 1783,
    "start_time": "2022-06-29T23:24:02.803Z"
   },
   {
    "duration": 813,
    "start_time": "2022-06-29T23:24:04.588Z"
   },
   {
    "duration": 48,
    "start_time": "2022-06-29T23:24:05.404Z"
   },
   {
    "duration": 277,
    "start_time": "2022-06-29T23:24:05.454Z"
   },
   {
    "duration": 7,
    "start_time": "2022-06-29T23:24:05.732Z"
   },
   {
    "duration": 116,
    "start_time": "2022-06-29T23:24:05.751Z"
   },
   {
    "duration": 1921,
    "start_time": "2022-06-29T23:24:05.869Z"
   },
   {
    "duration": 14,
    "start_time": "2022-06-29T23:24:07.792Z"
   },
   {
    "duration": 23,
    "start_time": "2022-06-29T23:24:07.808Z"
   },
   {
    "duration": 6,
    "start_time": "2022-06-29T23:24:07.850Z"
   },
   {
    "duration": 111,
    "start_time": "2022-06-29T23:24:07.858Z"
   },
   {
    "duration": 5451,
    "start_time": "2022-06-29T23:24:07.970Z"
   },
   {
    "duration": 4,
    "start_time": "2022-06-29T23:24:13.423Z"
   },
   {
    "duration": 11,
    "start_time": "2022-06-29T23:24:13.429Z"
   },
   {
    "duration": 46,
    "start_time": "2022-06-29T23:24:13.442Z"
   },
   {
    "duration": 83,
    "start_time": "2022-06-29T23:24:13.490Z"
   },
   {
    "duration": 89,
    "start_time": "2022-06-29T23:24:13.574Z"
   },
   {
    "duration": 1895,
    "start_time": "2022-06-29T23:24:37.175Z"
   },
   {
    "duration": 2311,
    "start_time": "2022-06-29T23:24:39.072Z"
   },
   {
    "duration": 34,
    "start_time": "2022-06-29T23:24:41.385Z"
   },
   {
    "duration": 280,
    "start_time": "2022-06-29T23:24:41.421Z"
   },
   {
    "duration": 6,
    "start_time": "2022-06-29T23:24:41.703Z"
   },
   {
    "duration": 114,
    "start_time": "2022-06-29T23:24:41.711Z"
   },
   {
    "duration": 1851,
    "start_time": "2022-06-29T23:24:41.827Z"
   },
   {
    "duration": 15,
    "start_time": "2022-06-29T23:24:43.679Z"
   },
   {
    "duration": 35,
    "start_time": "2022-06-29T23:24:43.695Z"
   },
   {
    "duration": 18,
    "start_time": "2022-06-29T23:24:43.733Z"
   },
   {
    "duration": 104,
    "start_time": "2022-06-29T23:24:43.753Z"
   },
   {
    "duration": 5514,
    "start_time": "2022-06-29T23:24:43.858Z"
   },
   {
    "duration": 4,
    "start_time": "2022-06-29T23:24:49.373Z"
   },
   {
    "duration": 12,
    "start_time": "2022-06-29T23:24:49.379Z"
   },
   {
    "duration": 42,
    "start_time": "2022-06-29T23:24:49.393Z"
   },
   {
    "duration": 71,
    "start_time": "2022-06-29T23:24:49.436Z"
   },
   {
    "duration": 99,
    "start_time": "2022-06-29T23:24:49.508Z"
   },
   {
    "duration": 1949,
    "start_time": "2022-06-29T23:25:29.948Z"
   },
   {
    "duration": 2287,
    "start_time": "2022-06-29T23:25:31.899Z"
   },
   {
    "duration": 38,
    "start_time": "2022-06-29T23:25:34.188Z"
   },
   {
    "duration": 293,
    "start_time": "2022-06-29T23:25:34.228Z"
   },
   {
    "duration": 8,
    "start_time": "2022-06-29T23:25:34.524Z"
   },
   {
    "duration": 138,
    "start_time": "2022-06-29T23:25:34.535Z"
   },
   {
    "duration": 1841,
    "start_time": "2022-06-29T23:25:34.675Z"
   },
   {
    "duration": 15,
    "start_time": "2022-06-29T23:25:36.519Z"
   },
   {
    "duration": 23,
    "start_time": "2022-06-29T23:25:36.551Z"
   },
   {
    "duration": 7,
    "start_time": "2022-06-29T23:25:36.578Z"
   },
   {
    "duration": 128,
    "start_time": "2022-06-29T23:25:36.587Z"
   },
   {
    "duration": 5338,
    "start_time": "2022-06-29T23:25:36.717Z"
   },
   {
    "duration": 5,
    "start_time": "2022-06-29T23:25:42.058Z"
   },
   {
    "duration": 6,
    "start_time": "2022-06-29T23:25:42.064Z"
   },
   {
    "duration": 35,
    "start_time": "2022-06-29T23:25:42.072Z"
   },
   {
    "duration": 80,
    "start_time": "2022-06-29T23:25:42.109Z"
   },
   {
    "duration": 94,
    "start_time": "2022-06-29T23:25:42.191Z"
   },
   {
    "duration": 82,
    "start_time": "2022-06-29T23:26:58.667Z"
   },
   {
    "duration": 2001,
    "start_time": "2022-06-29T23:27:04.152Z"
   },
   {
    "duration": 2275,
    "start_time": "2022-06-29T23:27:06.155Z"
   },
   {
    "duration": 39,
    "start_time": "2022-06-29T23:27:08.432Z"
   },
   {
    "duration": 284,
    "start_time": "2022-06-29T23:27:08.475Z"
   },
   {
    "duration": 6,
    "start_time": "2022-06-29T23:27:08.761Z"
   },
   {
    "duration": 120,
    "start_time": "2022-06-29T23:27:08.768Z"
   },
   {
    "duration": 2052,
    "start_time": "2022-06-29T23:27:08.889Z"
   },
   {
    "duration": 20,
    "start_time": "2022-06-29T23:27:10.943Z"
   },
   {
    "duration": 23,
    "start_time": "2022-06-29T23:27:10.965Z"
   },
   {
    "duration": 6,
    "start_time": "2022-06-29T23:27:10.991Z"
   },
   {
    "duration": 124,
    "start_time": "2022-06-29T23:27:10.999Z"
   },
   {
    "duration": 5718,
    "start_time": "2022-06-29T23:27:11.125Z"
   },
   {
    "duration": 7,
    "start_time": "2022-06-29T23:27:16.845Z"
   },
   {
    "duration": 8,
    "start_time": "2022-06-29T23:27:16.854Z"
   },
   {
    "duration": 37,
    "start_time": "2022-06-29T23:27:16.864Z"
   },
   {
    "duration": 111,
    "start_time": "2022-06-29T23:27:16.903Z"
   },
   {
    "duration": 93,
    "start_time": "2022-06-29T23:27:17.016Z"
   },
   {
    "duration": 81,
    "start_time": "2022-06-29T23:30:14.598Z"
   },
   {
    "duration": 1978,
    "start_time": "2022-06-29T23:30:21.644Z"
   },
   {
    "duration": 2278,
    "start_time": "2022-06-29T23:30:23.624Z"
   },
   {
    "duration": 38,
    "start_time": "2022-06-29T23:30:25.904Z"
   },
   {
    "duration": 329,
    "start_time": "2022-06-29T23:30:25.951Z"
   },
   {
    "duration": 8,
    "start_time": "2022-06-29T23:30:26.282Z"
   },
   {
    "duration": 130,
    "start_time": "2022-06-29T23:30:26.292Z"
   },
   {
    "duration": 1939,
    "start_time": "2022-06-29T23:30:26.423Z"
   },
   {
    "duration": 16,
    "start_time": "2022-06-29T23:30:28.363Z"
   },
   {
    "duration": 26,
    "start_time": "2022-06-29T23:30:28.380Z"
   },
   {
    "duration": 124,
    "start_time": "2022-06-29T23:30:28.408Z"
   },
   {
    "duration": 0,
    "start_time": "2022-06-29T23:30:28.533Z"
   },
   {
    "duration": 11,
    "start_time": "2022-06-29T23:30:50.909Z"
   },
   {
    "duration": 12,
    "start_time": "2022-06-29T23:31:22.636Z"
   },
   {
    "duration": 12,
    "start_time": "2022-06-29T23:32:02.948Z"
   },
   {
    "duration": 105,
    "start_time": "2022-06-29T23:32:06.271Z"
   },
   {
    "duration": 1685,
    "start_time": "2022-06-29T23:32:09.387Z"
   },
   {
    "duration": 5,
    "start_time": "2022-06-29T23:32:25.348Z"
   },
   {
    "duration": 3,
    "start_time": "2022-06-29T23:32:28.805Z"
   },
   {
    "duration": 8,
    "start_time": "2022-06-29T23:32:29.538Z"
   },
   {
    "duration": 12,
    "start_time": "2022-06-29T23:32:30.613Z"
   },
   {
    "duration": 18,
    "start_time": "2022-06-29T23:32:31.845Z"
   },
   {
    "duration": 62,
    "start_time": "2022-06-29T23:34:23.684Z"
   },
   {
    "duration": 15,
    "start_time": "2022-06-29T23:35:38.136Z"
   },
   {
    "duration": 3,
    "start_time": "2022-06-29T23:35:56.063Z"
   },
   {
    "duration": 8,
    "start_time": "2022-06-29T23:35:56.871Z"
   },
   {
    "duration": 14,
    "start_time": "2022-06-29T23:35:58.757Z"
   },
   {
    "duration": 14,
    "start_time": "2022-06-29T23:36:01.894Z"
   },
   {
    "duration": 16,
    "start_time": "2022-06-29T23:36:02.717Z"
   },
   {
    "duration": 6,
    "start_time": "2022-06-29T23:36:14.188Z"
   },
   {
    "duration": 777,
    "start_time": "2022-06-29T23:36:14.641Z"
   },
   {
    "duration": 39,
    "start_time": "2022-06-29T23:36:15.420Z"
   },
   {
    "duration": 268,
    "start_time": "2022-06-29T23:36:15.461Z"
   },
   {
    "duration": 7,
    "start_time": "2022-06-29T23:36:15.731Z"
   },
   {
    "duration": 107,
    "start_time": "2022-06-29T23:36:15.750Z"
   },
   {
    "duration": 1953,
    "start_time": "2022-06-29T23:36:16.340Z"
   },
   {
    "duration": 14,
    "start_time": "2022-06-29T23:36:18.296Z"
   },
   {
    "duration": 42,
    "start_time": "2022-06-29T23:36:18.312Z"
   },
   {
    "duration": 17,
    "start_time": "2022-06-29T23:36:18.357Z"
   },
   {
    "duration": 122,
    "start_time": "2022-06-29T23:36:18.375Z"
   },
   {
    "duration": 309,
    "start_time": "2022-06-29T23:36:18.499Z"
   },
   {
    "duration": 4,
    "start_time": "2022-06-29T23:36:18.810Z"
   },
   {
    "duration": 2,
    "start_time": "2022-06-29T23:36:19.285Z"
   },
   {
    "duration": 11,
    "start_time": "2022-06-29T23:36:19.654Z"
   },
   {
    "duration": 18,
    "start_time": "2022-06-29T23:36:20.196Z"
   },
   {
    "duration": 15,
    "start_time": "2022-06-29T23:36:20.572Z"
   },
   {
    "duration": 15,
    "start_time": "2022-06-29T23:36:20.774Z"
   },
   {
    "duration": 659,
    "start_time": "2022-06-29T23:36:22.494Z"
   },
   {
    "duration": 23,
    "start_time": "2022-06-29T23:38:45.733Z"
   },
   {
    "duration": 24,
    "start_time": "2022-06-29T23:39:07.552Z"
   },
   {
    "duration": 1808,
    "start_time": "2022-06-29T23:39:18.325Z"
   },
   {
    "duration": 788,
    "start_time": "2022-06-29T23:39:20.136Z"
   },
   {
    "duration": 35,
    "start_time": "2022-06-29T23:39:20.926Z"
   },
   {
    "duration": 273,
    "start_time": "2022-06-29T23:39:20.963Z"
   },
   {
    "duration": 17,
    "start_time": "2022-06-29T23:39:21.237Z"
   },
   {
    "duration": 119,
    "start_time": "2022-06-29T23:39:21.256Z"
   },
   {
    "duration": 1895,
    "start_time": "2022-06-29T23:39:21.378Z"
   },
   {
    "duration": 14,
    "start_time": "2022-06-29T23:39:23.275Z"
   },
   {
    "duration": 23,
    "start_time": "2022-06-29T23:39:23.291Z"
   },
   {
    "duration": 38,
    "start_time": "2022-06-29T23:39:23.316Z"
   },
   {
    "duration": 108,
    "start_time": "2022-06-29T23:39:23.355Z"
   },
   {
    "duration": 1684,
    "start_time": "2022-06-29T23:39:23.465Z"
   },
   {
    "duration": 4,
    "start_time": "2022-06-29T23:39:25.151Z"
   },
   {
    "duration": 4,
    "start_time": "2022-06-29T23:39:25.157Z"
   },
   {
    "duration": 9,
    "start_time": "2022-06-29T23:39:25.163Z"
   },
   {
    "duration": 15,
    "start_time": "2022-06-29T23:39:25.173Z"
   },
   {
    "duration": 14,
    "start_time": "2022-06-29T23:39:25.190Z"
   },
   {
    "duration": 643,
    "start_time": "2022-06-29T23:39:25.205Z"
   },
   {
    "duration": 5,
    "start_time": "2022-06-29T23:39:25.850Z"
   },
   {
    "duration": 13,
    "start_time": "2022-06-29T23:39:25.857Z"
   },
   {
    "duration": 11,
    "start_time": "2022-06-29T23:39:25.872Z"
   },
   {
    "duration": 514,
    "start_time": "2022-06-29T23:39:25.885Z"
   },
   {
    "duration": 187053,
    "start_time": "2022-06-29T23:39:26.401Z"
   },
   {
    "duration": 610,
    "start_time": "2022-06-29T23:42:33.456Z"
   },
   {
    "duration": 24515,
    "start_time": "2022-06-29T23:42:34.070Z"
   },
   {
    "duration": 498,
    "start_time": "2022-06-29T23:42:58.586Z"
   },
   {
    "duration": 182340,
    "start_time": "2022-06-29T23:42:59.085Z"
   },
   {
    "duration": 549,
    "start_time": "2022-06-29T23:46:01.428Z"
   },
   {
    "duration": 46,
    "start_time": "2022-06-30T08:20:10.320Z"
   },
   {
    "duration": 2725,
    "start_time": "2022-06-30T08:20:15.578Z"
   },
   {
    "duration": 2101,
    "start_time": "2022-06-30T08:20:18.304Z"
   },
   {
    "duration": 27,
    "start_time": "2022-06-30T08:20:20.406Z"
   },
   {
    "duration": 227,
    "start_time": "2022-06-30T08:20:20.435Z"
   },
   {
    "duration": 5,
    "start_time": "2022-06-30T08:20:20.664Z"
   },
   {
    "duration": 110,
    "start_time": "2022-06-30T08:20:20.671Z"
   },
   {
    "duration": 1738,
    "start_time": "2022-06-30T08:20:20.783Z"
   },
   {
    "duration": 13,
    "start_time": "2022-06-30T08:20:22.523Z"
   },
   {
    "duration": 36,
    "start_time": "2022-06-30T08:20:22.537Z"
   },
   {
    "duration": 16,
    "start_time": "2022-06-30T08:20:22.576Z"
   },
   {
    "duration": 110,
    "start_time": "2022-06-30T08:20:22.593Z"
   },
   {
    "duration": 1396,
    "start_time": "2022-06-30T08:20:22.704Z"
   },
   {
    "duration": 6,
    "start_time": "2022-06-30T08:20:24.102Z"
   },
   {
    "duration": 6,
    "start_time": "2022-06-30T08:21:13.078Z"
   },
   {
    "duration": 1956,
    "start_time": "2022-06-30T11:15:38.283Z"
   },
   {
    "duration": 2702,
    "start_time": "2022-06-30T11:15:54.969Z"
   },
   {
    "duration": 3642,
    "start_time": "2022-06-30T11:15:57.673Z"
   },
   {
    "duration": 56,
    "start_time": "2022-06-30T11:16:01.318Z"
   },
   {
    "duration": 372,
    "start_time": "2022-06-30T11:16:01.378Z"
   },
   {
    "duration": 13,
    "start_time": "2022-06-30T11:16:01.756Z"
   },
   {
    "duration": 403,
    "start_time": "2022-06-30T11:16:01.775Z"
   },
   {
    "duration": 2670,
    "start_time": "2022-06-30T11:16:02.183Z"
   },
   {
    "duration": 23,
    "start_time": "2022-06-30T11:16:04.855Z"
   },
   {
    "duration": 30,
    "start_time": "2022-06-30T11:16:04.881Z"
   },
   {
    "duration": 42,
    "start_time": "2022-06-30T11:16:04.914Z"
   },
   {
    "duration": 190,
    "start_time": "2022-06-30T11:16:04.964Z"
   },
   {
    "duration": 221,
    "start_time": "2022-06-30T11:16:05.160Z"
   },
   {
    "duration": 0,
    "start_time": "2022-06-30T11:16:05.384Z"
   },
   {
    "duration": 0,
    "start_time": "2022-06-30T11:16:05.385Z"
   },
   {
    "duration": 0,
    "start_time": "2022-06-30T11:16:05.387Z"
   },
   {
    "duration": 0,
    "start_time": "2022-06-30T11:16:05.389Z"
   },
   {
    "duration": 0,
    "start_time": "2022-06-30T11:16:05.390Z"
   },
   {
    "duration": 0,
    "start_time": "2022-06-30T11:16:05.393Z"
   },
   {
    "duration": 0,
    "start_time": "2022-06-30T11:16:05.395Z"
   },
   {
    "duration": 0,
    "start_time": "2022-06-30T11:16:05.397Z"
   },
   {
    "duration": 0,
    "start_time": "2022-06-30T11:16:05.399Z"
   },
   {
    "duration": 0,
    "start_time": "2022-06-30T11:16:05.426Z"
   },
   {
    "duration": 0,
    "start_time": "2022-06-30T11:16:05.428Z"
   },
   {
    "duration": 0,
    "start_time": "2022-06-30T11:16:05.429Z"
   },
   {
    "duration": 0,
    "start_time": "2022-06-30T11:16:05.430Z"
   },
   {
    "duration": 0,
    "start_time": "2022-06-30T11:16:05.432Z"
   },
   {
    "duration": 0,
    "start_time": "2022-06-30T11:16:05.433Z"
   },
   {
    "duration": 0,
    "start_time": "2022-06-30T11:16:05.434Z"
   },
   {
    "duration": 0,
    "start_time": "2022-06-30T11:16:05.436Z"
   },
   {
    "duration": 0,
    "start_time": "2022-06-30T11:16:05.437Z"
   },
   {
    "duration": 0,
    "start_time": "2022-06-30T11:16:05.438Z"
   },
   {
    "duration": 0,
    "start_time": "2022-06-30T11:16:05.439Z"
   },
   {
    "duration": 0,
    "start_time": "2022-06-30T11:16:05.441Z"
   },
   {
    "duration": 0,
    "start_time": "2022-06-30T11:16:05.442Z"
   },
   {
    "duration": 0,
    "start_time": "2022-06-30T11:16:05.444Z"
   },
   {
    "duration": 0,
    "start_time": "2022-06-30T11:16:05.445Z"
   },
   {
    "duration": 0,
    "start_time": "2022-06-30T11:16:05.446Z"
   },
   {
    "duration": 0,
    "start_time": "2022-06-30T11:16:05.447Z"
   },
   {
    "duration": 5,
    "start_time": "2022-06-30T11:16:45.118Z"
   },
   {
    "duration": 99,
    "start_time": "2022-06-30T11:16:46.544Z"
   },
   {
    "duration": 428,
    "start_time": "2022-06-30T11:16:55.048Z"
   },
   {
    "duration": 374,
    "start_time": "2022-06-30T11:17:27.319Z"
   },
   {
    "duration": 1774,
    "start_time": "2022-06-30T11:26:12.175Z"
   },
   {
    "duration": 2018,
    "start_time": "2022-06-30T11:29:23.597Z"
   },
   {
    "duration": 955,
    "start_time": "2022-06-30T11:29:25.618Z"
   },
   {
    "duration": 39,
    "start_time": "2022-06-30T11:29:26.575Z"
   },
   {
    "duration": 329,
    "start_time": "2022-06-30T11:29:26.629Z"
   },
   {
    "duration": 8,
    "start_time": "2022-06-30T11:29:26.961Z"
   },
   {
    "duration": 152,
    "start_time": "2022-06-30T11:29:26.971Z"
   },
   {
    "duration": 2143,
    "start_time": "2022-06-30T11:29:27.125Z"
   },
   {
    "duration": 18,
    "start_time": "2022-06-30T11:29:29.270Z"
   },
   {
    "duration": 56,
    "start_time": "2022-06-30T11:29:29.290Z"
   },
   {
    "duration": 20,
    "start_time": "2022-06-30T11:29:29.350Z"
   },
   {
    "duration": 138,
    "start_time": "2022-06-30T11:29:29.372Z"
   },
   {
    "duration": 5,
    "start_time": "2022-06-30T11:29:29.512Z"
   },
   {
    "duration": 1982,
    "start_time": "2022-06-30T11:29:29.519Z"
   },
   {
    "duration": 0,
    "start_time": "2022-06-30T11:29:31.504Z"
   },
   {
    "duration": 0,
    "start_time": "2022-06-30T11:29:31.507Z"
   },
   {
    "duration": 0,
    "start_time": "2022-06-30T11:29:31.508Z"
   },
   {
    "duration": 0,
    "start_time": "2022-06-30T11:29:31.509Z"
   },
   {
    "duration": 0,
    "start_time": "2022-06-30T11:29:31.510Z"
   },
   {
    "duration": 0,
    "start_time": "2022-06-30T11:29:31.511Z"
   },
   {
    "duration": 0,
    "start_time": "2022-06-30T11:29:31.513Z"
   },
   {
    "duration": 0,
    "start_time": "2022-06-30T11:29:31.516Z"
   },
   {
    "duration": 0,
    "start_time": "2022-06-30T11:29:31.517Z"
   },
   {
    "duration": 1,
    "start_time": "2022-06-30T11:29:31.518Z"
   },
   {
    "duration": 0,
    "start_time": "2022-06-30T11:29:31.520Z"
   },
   {
    "duration": 0,
    "start_time": "2022-06-30T11:29:31.521Z"
   },
   {
    "duration": 0,
    "start_time": "2022-06-30T11:29:31.523Z"
   },
   {
    "duration": 0,
    "start_time": "2022-06-30T11:29:31.524Z"
   },
   {
    "duration": 0,
    "start_time": "2022-06-30T11:29:31.526Z"
   },
   {
    "duration": 0,
    "start_time": "2022-06-30T11:29:31.527Z"
   },
   {
    "duration": 0,
    "start_time": "2022-06-30T11:29:31.528Z"
   },
   {
    "duration": 0,
    "start_time": "2022-06-30T11:29:31.529Z"
   },
   {
    "duration": 0,
    "start_time": "2022-06-30T11:29:31.530Z"
   },
   {
    "duration": 0,
    "start_time": "2022-06-30T11:29:31.531Z"
   },
   {
    "duration": 0,
    "start_time": "2022-06-30T11:29:31.537Z"
   },
   {
    "duration": 0,
    "start_time": "2022-06-30T11:29:31.538Z"
   },
   {
    "duration": 0,
    "start_time": "2022-06-30T11:29:31.539Z"
   },
   {
    "duration": 0,
    "start_time": "2022-06-30T11:29:31.545Z"
   },
   {
    "duration": 0,
    "start_time": "2022-06-30T11:29:31.546Z"
   },
   {
    "duration": 2136,
    "start_time": "2022-06-30T11:36:55.457Z"
   },
   {
    "duration": 976,
    "start_time": "2022-06-30T11:36:57.595Z"
   },
   {
    "duration": 52,
    "start_time": "2022-06-30T11:36:58.576Z"
   },
   {
    "duration": 360,
    "start_time": "2022-06-30T11:36:58.639Z"
   },
   {
    "duration": 10,
    "start_time": "2022-06-30T11:36:59.002Z"
   },
   {
    "duration": 140,
    "start_time": "2022-06-30T11:36:59.014Z"
   },
   {
    "duration": 2527,
    "start_time": "2022-06-30T11:36:59.155Z"
   },
   {
    "duration": 24,
    "start_time": "2022-06-30T11:37:01.684Z"
   },
   {
    "duration": 74,
    "start_time": "2022-06-30T11:37:01.710Z"
   },
   {
    "duration": 53,
    "start_time": "2022-06-30T11:37:01.789Z"
   },
   {
    "duration": 194,
    "start_time": "2022-06-30T11:37:01.844Z"
   },
   {
    "duration": 208,
    "start_time": "2022-06-30T11:37:02.045Z"
   },
   {
    "duration": 1,
    "start_time": "2022-06-30T11:37:02.260Z"
   },
   {
    "duration": 0,
    "start_time": "2022-06-30T11:37:02.266Z"
   },
   {
    "duration": 0,
    "start_time": "2022-06-30T11:37:02.271Z"
   },
   {
    "duration": 0,
    "start_time": "2022-06-30T11:37:02.276Z"
   },
   {
    "duration": 0,
    "start_time": "2022-06-30T11:37:02.281Z"
   },
   {
    "duration": 0,
    "start_time": "2022-06-30T11:37:02.285Z"
   },
   {
    "duration": 0,
    "start_time": "2022-06-30T11:37:02.289Z"
   },
   {
    "duration": 0,
    "start_time": "2022-06-30T11:37:02.290Z"
   },
   {
    "duration": 0,
    "start_time": "2022-06-30T11:37:02.291Z"
   },
   {
    "duration": 0,
    "start_time": "2022-06-30T11:37:02.293Z"
   },
   {
    "duration": 0,
    "start_time": "2022-06-30T11:37:02.294Z"
   },
   {
    "duration": 0,
    "start_time": "2022-06-30T11:37:02.300Z"
   },
   {
    "duration": 0,
    "start_time": "2022-06-30T11:37:02.301Z"
   },
   {
    "duration": 0,
    "start_time": "2022-06-30T11:37:02.303Z"
   },
   {
    "duration": 0,
    "start_time": "2022-06-30T11:37:02.306Z"
   },
   {
    "duration": 0,
    "start_time": "2022-06-30T11:37:02.326Z"
   },
   {
    "duration": 0,
    "start_time": "2022-06-30T11:37:02.327Z"
   },
   {
    "duration": 0,
    "start_time": "2022-06-30T11:37:02.328Z"
   },
   {
    "duration": 0,
    "start_time": "2022-06-30T11:37:02.329Z"
   },
   {
    "duration": 0,
    "start_time": "2022-06-30T11:37:02.330Z"
   },
   {
    "duration": 0,
    "start_time": "2022-06-30T11:37:02.331Z"
   },
   {
    "duration": 0,
    "start_time": "2022-06-30T11:37:02.332Z"
   },
   {
    "duration": 0,
    "start_time": "2022-06-30T11:37:02.333Z"
   },
   {
    "duration": 0,
    "start_time": "2022-06-30T11:37:02.334Z"
   },
   {
    "duration": 0,
    "start_time": "2022-06-30T11:37:02.334Z"
   },
   {
    "duration": 0,
    "start_time": "2022-06-30T11:37:02.335Z"
   },
   {
    "duration": 0,
    "start_time": "2022-06-30T11:37:02.338Z"
   },
   {
    "duration": 0,
    "start_time": "2022-06-30T11:37:02.339Z"
   },
   {
    "duration": 45757,
    "start_time": "2022-06-30T11:37:33.856Z"
   },
   {
    "duration": 68701,
    "start_time": "2022-06-30T11:43:23.277Z"
   },
   {
    "duration": 25,
    "start_time": "2022-06-30T11:45:41.271Z"
   },
   {
    "duration": 101,
    "start_time": "2022-06-30T11:45:52.092Z"
   },
   {
    "duration": 1907,
    "start_time": "2022-06-30T11:48:50.022Z"
   },
   {
    "duration": 866,
    "start_time": "2022-06-30T11:48:51.930Z"
   },
   {
    "duration": 41,
    "start_time": "2022-06-30T11:48:52.798Z"
   },
   {
    "duration": 265,
    "start_time": "2022-06-30T11:48:52.847Z"
   },
   {
    "duration": 16,
    "start_time": "2022-06-30T11:48:53.113Z"
   },
   {
    "duration": 124,
    "start_time": "2022-06-30T11:48:53.132Z"
   },
   {
    "duration": 2036,
    "start_time": "2022-06-30T11:48:53.258Z"
   },
   {
    "duration": 14,
    "start_time": "2022-06-30T11:48:55.296Z"
   },
   {
    "duration": 54,
    "start_time": "2022-06-30T11:48:55.311Z"
   },
   {
    "duration": 13,
    "start_time": "2022-06-30T11:48:55.368Z"
   },
   {
    "duration": 100,
    "start_time": "2022-06-30T11:48:55.384Z"
   },
   {
    "duration": 37549,
    "start_time": "2022-06-30T11:48:55.486Z"
   },
   {
    "duration": 58543,
    "start_time": "2022-06-30T11:49:33.039Z"
   },
   {
    "duration": 0,
    "start_time": "2022-06-30T11:50:31.586Z"
   },
   {
    "duration": 0,
    "start_time": "2022-06-30T11:50:31.588Z"
   },
   {
    "duration": 0,
    "start_time": "2022-06-30T11:50:31.589Z"
   },
   {
    "duration": 0,
    "start_time": "2022-06-30T11:50:31.592Z"
   },
   {
    "duration": 0,
    "start_time": "2022-06-30T11:50:31.593Z"
   },
   {
    "duration": 0,
    "start_time": "2022-06-30T11:50:31.595Z"
   },
   {
    "duration": 0,
    "start_time": "2022-06-30T11:50:31.597Z"
   },
   {
    "duration": 0,
    "start_time": "2022-06-30T11:50:31.598Z"
   },
   {
    "duration": 0,
    "start_time": "2022-06-30T11:50:31.634Z"
   },
   {
    "duration": 0,
    "start_time": "2022-06-30T11:50:31.635Z"
   },
   {
    "duration": 0,
    "start_time": "2022-06-30T11:50:31.637Z"
   },
   {
    "duration": 0,
    "start_time": "2022-06-30T11:50:31.639Z"
   },
   {
    "duration": 0,
    "start_time": "2022-06-30T11:50:31.641Z"
   },
   {
    "duration": 0,
    "start_time": "2022-06-30T11:50:31.643Z"
   },
   {
    "duration": 0,
    "start_time": "2022-06-30T11:50:31.644Z"
   },
   {
    "duration": 0,
    "start_time": "2022-06-30T11:50:31.646Z"
   },
   {
    "duration": 0,
    "start_time": "2022-06-30T11:50:31.647Z"
   },
   {
    "duration": 0,
    "start_time": "2022-06-30T11:50:31.649Z"
   },
   {
    "duration": 0,
    "start_time": "2022-06-30T11:50:31.651Z"
   },
   {
    "duration": 0,
    "start_time": "2022-06-30T11:50:31.652Z"
   },
   {
    "duration": 0,
    "start_time": "2022-06-30T11:50:31.654Z"
   },
   {
    "duration": 0,
    "start_time": "2022-06-30T11:50:31.656Z"
   },
   {
    "duration": 0,
    "start_time": "2022-06-30T11:50:31.657Z"
   },
   {
    "duration": 0,
    "start_time": "2022-06-30T11:50:31.660Z"
   },
   {
    "duration": 0,
    "start_time": "2022-06-30T11:50:31.661Z"
   },
   {
    "duration": 0,
    "start_time": "2022-06-30T11:50:31.665Z"
   },
   {
    "duration": 0,
    "start_time": "2022-06-30T11:50:31.666Z"
   },
   {
    "duration": 0,
    "start_time": "2022-06-30T11:50:31.668Z"
   },
   {
    "duration": 777,
    "start_time": "2022-06-30T11:51:40.600Z"
   },
   {
    "duration": 976,
    "start_time": "2022-06-30T11:53:20.882Z"
   },
   {
    "duration": 4,
    "start_time": "2022-06-30T11:58:31.247Z"
   },
   {
    "duration": 1788,
    "start_time": "2022-06-30T11:58:32.531Z"
   },
   {
    "duration": 2066,
    "start_time": "2022-06-30T12:02:19.442Z"
   },
   {
    "duration": 1145,
    "start_time": "2022-06-30T12:02:21.511Z"
   },
   {
    "duration": 39,
    "start_time": "2022-06-30T12:02:22.658Z"
   },
   {
    "duration": 357,
    "start_time": "2022-06-30T12:02:22.700Z"
   },
   {
    "duration": 9,
    "start_time": "2022-06-30T12:02:23.059Z"
   },
   {
    "duration": 180,
    "start_time": "2022-06-30T12:02:23.070Z"
   },
   {
    "duration": 2106,
    "start_time": "2022-06-30T12:02:23.253Z"
   },
   {
    "duration": 15,
    "start_time": "2022-06-30T12:02:25.361Z"
   },
   {
    "duration": 64,
    "start_time": "2022-06-30T12:02:25.378Z"
   },
   {
    "duration": 20,
    "start_time": "2022-06-30T12:02:25.446Z"
   },
   {
    "duration": 141,
    "start_time": "2022-06-30T12:02:25.468Z"
   },
   {
    "duration": 181,
    "start_time": "2022-06-30T12:02:25.611Z"
   },
   {
    "duration": 0,
    "start_time": "2022-06-30T12:02:25.794Z"
   },
   {
    "duration": 0,
    "start_time": "2022-06-30T12:02:25.796Z"
   },
   {
    "duration": 0,
    "start_time": "2022-06-30T12:02:25.798Z"
   },
   {
    "duration": 0,
    "start_time": "2022-06-30T12:02:25.800Z"
   },
   {
    "duration": 0,
    "start_time": "2022-06-30T12:02:25.801Z"
   },
   {
    "duration": 0,
    "start_time": "2022-06-30T12:02:25.802Z"
   },
   {
    "duration": 0,
    "start_time": "2022-06-30T12:02:25.803Z"
   },
   {
    "duration": 0,
    "start_time": "2022-06-30T12:02:25.804Z"
   },
   {
    "duration": 0,
    "start_time": "2022-06-30T12:02:25.806Z"
   },
   {
    "duration": 0,
    "start_time": "2022-06-30T12:02:25.828Z"
   },
   {
    "duration": 0,
    "start_time": "2022-06-30T12:02:25.832Z"
   },
   {
    "duration": 0,
    "start_time": "2022-06-30T12:02:25.833Z"
   },
   {
    "duration": 0,
    "start_time": "2022-06-30T12:02:25.834Z"
   },
   {
    "duration": 0,
    "start_time": "2022-06-30T12:02:25.834Z"
   },
   {
    "duration": 0,
    "start_time": "2022-06-30T12:02:25.835Z"
   },
   {
    "duration": 0,
    "start_time": "2022-06-30T12:02:25.836Z"
   },
   {
    "duration": 0,
    "start_time": "2022-06-30T12:02:25.842Z"
   },
   {
    "duration": 0,
    "start_time": "2022-06-30T12:02:25.845Z"
   },
   {
    "duration": 0,
    "start_time": "2022-06-30T12:02:25.847Z"
   },
   {
    "duration": 0,
    "start_time": "2022-06-30T12:02:25.848Z"
   },
   {
    "duration": 0,
    "start_time": "2022-06-30T12:02:25.851Z"
   },
   {
    "duration": 0,
    "start_time": "2022-06-30T12:02:25.852Z"
   },
   {
    "duration": 0,
    "start_time": "2022-06-30T12:02:25.853Z"
   },
   {
    "duration": 0,
    "start_time": "2022-06-30T12:02:25.854Z"
   },
   {
    "duration": 0,
    "start_time": "2022-06-30T12:02:25.857Z"
   },
   {
    "duration": 0,
    "start_time": "2022-06-30T12:02:25.860Z"
   },
   {
    "duration": 5,
    "start_time": "2022-06-30T12:06:58.350Z"
   },
   {
    "duration": 20,
    "start_time": "2022-06-30T12:06:58.358Z"
   },
   {
    "duration": 377,
    "start_time": "2022-06-30T12:07:21.147Z"
   },
   {
    "duration": 299,
    "start_time": "2022-06-30T12:07:54.681Z"
   },
   {
    "duration": 315,
    "start_time": "2022-06-30T12:08:29.164Z"
   },
   {
    "duration": 1835,
    "start_time": "2022-06-30T12:19:40.562Z"
   },
   {
    "duration": 2020,
    "start_time": "2022-06-30T16:57:39.518Z"
   },
   {
    "duration": 2382,
    "start_time": "2022-06-30T16:57:41.540Z"
   },
   {
    "duration": 35,
    "start_time": "2022-06-30T16:57:43.924Z"
   },
   {
    "duration": 267,
    "start_time": "2022-06-30T16:57:43.961Z"
   },
   {
    "duration": 6,
    "start_time": "2022-06-30T16:57:44.230Z"
   },
   {
    "duration": 117,
    "start_time": "2022-06-30T16:57:44.238Z"
   },
   {
    "duration": 1926,
    "start_time": "2022-06-30T16:57:44.357Z"
   },
   {
    "duration": 19,
    "start_time": "2022-06-30T16:57:46.285Z"
   },
   {
    "duration": 42,
    "start_time": "2022-06-30T16:57:46.306Z"
   },
   {
    "duration": 17,
    "start_time": "2022-06-30T16:57:46.352Z"
   },
   {
    "duration": 156,
    "start_time": "2022-06-30T16:57:46.371Z"
   },
   {
    "duration": 148,
    "start_time": "2022-06-30T16:57:46.529Z"
   },
   {
    "duration": 0,
    "start_time": "2022-06-30T16:57:46.679Z"
   },
   {
    "duration": 0,
    "start_time": "2022-06-30T16:57:46.680Z"
   },
   {
    "duration": 0,
    "start_time": "2022-06-30T16:57:46.682Z"
   },
   {
    "duration": 0,
    "start_time": "2022-06-30T16:57:46.682Z"
   },
   {
    "duration": 0,
    "start_time": "2022-06-30T16:57:46.684Z"
   },
   {
    "duration": 0,
    "start_time": "2022-06-30T16:57:46.685Z"
   },
   {
    "duration": 0,
    "start_time": "2022-06-30T16:57:46.686Z"
   },
   {
    "duration": 0,
    "start_time": "2022-06-30T16:57:46.687Z"
   },
   {
    "duration": 0,
    "start_time": "2022-06-30T16:57:46.688Z"
   },
   {
    "duration": 0,
    "start_time": "2022-06-30T16:57:46.690Z"
   },
   {
    "duration": 0,
    "start_time": "2022-06-30T16:57:46.691Z"
   },
   {
    "duration": 0,
    "start_time": "2022-06-30T16:57:46.693Z"
   },
   {
    "duration": 0,
    "start_time": "2022-06-30T16:57:46.694Z"
   },
   {
    "duration": 0,
    "start_time": "2022-06-30T16:57:46.695Z"
   },
   {
    "duration": 0,
    "start_time": "2022-06-30T16:57:46.696Z"
   },
   {
    "duration": 0,
    "start_time": "2022-06-30T16:57:46.697Z"
   },
   {
    "duration": 0,
    "start_time": "2022-06-30T16:57:46.727Z"
   },
   {
    "duration": 0,
    "start_time": "2022-06-30T16:57:46.729Z"
   },
   {
    "duration": 0,
    "start_time": "2022-06-30T16:57:46.730Z"
   },
   {
    "duration": 0,
    "start_time": "2022-06-30T16:57:46.732Z"
   },
   {
    "duration": 0,
    "start_time": "2022-06-30T16:57:46.733Z"
   },
   {
    "duration": 0,
    "start_time": "2022-06-30T16:57:46.735Z"
   },
   {
    "duration": 0,
    "start_time": "2022-06-30T16:57:46.737Z"
   },
   {
    "duration": 0,
    "start_time": "2022-06-30T16:57:46.738Z"
   },
   {
    "duration": 0,
    "start_time": "2022-06-30T16:57:46.739Z"
   },
   {
    "duration": 0,
    "start_time": "2022-06-30T16:57:46.741Z"
   },
   {
    "duration": 0,
    "start_time": "2022-06-30T16:57:46.742Z"
   },
   {
    "duration": 0,
    "start_time": "2022-06-30T16:57:46.744Z"
   },
   {
    "duration": 1832,
    "start_time": "2022-06-30T17:00:25.519Z"
   },
   {
    "duration": 808,
    "start_time": "2022-06-30T17:00:27.353Z"
   },
   {
    "duration": 32,
    "start_time": "2022-06-30T17:00:28.163Z"
   },
   {
    "duration": 267,
    "start_time": "2022-06-30T17:00:28.197Z"
   },
   {
    "duration": 6,
    "start_time": "2022-06-30T17:00:28.466Z"
   },
   {
    "duration": 115,
    "start_time": "2022-06-30T17:00:28.473Z"
   },
   {
    "duration": 1851,
    "start_time": "2022-06-30T17:00:28.590Z"
   },
   {
    "duration": 14,
    "start_time": "2022-06-30T17:00:30.443Z"
   },
   {
    "duration": 59,
    "start_time": "2022-06-30T17:00:30.458Z"
   },
   {
    "duration": 35,
    "start_time": "2022-06-30T17:00:30.519Z"
   },
   {
    "duration": 138,
    "start_time": "2022-06-30T17:00:30.556Z"
   },
   {
    "duration": 139,
    "start_time": "2022-06-30T17:00:30.696Z"
   },
   {
    "duration": 0,
    "start_time": "2022-06-30T17:00:30.837Z"
   },
   {
    "duration": 0,
    "start_time": "2022-06-30T17:00:30.838Z"
   },
   {
    "duration": 0,
    "start_time": "2022-06-30T17:00:30.839Z"
   },
   {
    "duration": 0,
    "start_time": "2022-06-30T17:00:30.840Z"
   },
   {
    "duration": 0,
    "start_time": "2022-06-30T17:00:30.842Z"
   },
   {
    "duration": 0,
    "start_time": "2022-06-30T17:00:30.843Z"
   },
   {
    "duration": 0,
    "start_time": "2022-06-30T17:00:30.844Z"
   },
   {
    "duration": 0,
    "start_time": "2022-06-30T17:00:30.845Z"
   },
   {
    "duration": 0,
    "start_time": "2022-06-30T17:00:30.846Z"
   },
   {
    "duration": 0,
    "start_time": "2022-06-30T17:00:30.847Z"
   },
   {
    "duration": 0,
    "start_time": "2022-06-30T17:00:30.848Z"
   },
   {
    "duration": 0,
    "start_time": "2022-06-30T17:00:30.849Z"
   },
   {
    "duration": 0,
    "start_time": "2022-06-30T17:00:30.850Z"
   },
   {
    "duration": 0,
    "start_time": "2022-06-30T17:00:30.851Z"
   },
   {
    "duration": 0,
    "start_time": "2022-06-30T17:00:30.852Z"
   },
   {
    "duration": 0,
    "start_time": "2022-06-30T17:00:30.853Z"
   },
   {
    "duration": 0,
    "start_time": "2022-06-30T17:00:30.854Z"
   },
   {
    "duration": 0,
    "start_time": "2022-06-30T17:00:30.855Z"
   },
   {
    "duration": 0,
    "start_time": "2022-06-30T17:00:30.856Z"
   },
   {
    "duration": 0,
    "start_time": "2022-06-30T17:00:30.857Z"
   },
   {
    "duration": 0,
    "start_time": "2022-06-30T17:00:30.858Z"
   },
   {
    "duration": 0,
    "start_time": "2022-06-30T17:00:30.859Z"
   },
   {
    "duration": 0,
    "start_time": "2022-06-30T17:00:30.861Z"
   },
   {
    "duration": 0,
    "start_time": "2022-06-30T17:00:30.862Z"
   },
   {
    "duration": 0,
    "start_time": "2022-06-30T17:00:30.863Z"
   },
   {
    "duration": 0,
    "start_time": "2022-06-30T17:00:30.864Z"
   },
   {
    "duration": 0,
    "start_time": "2022-06-30T17:00:30.865Z"
   },
   {
    "duration": 0,
    "start_time": "2022-06-30T17:00:30.866Z"
   },
   {
    "duration": 0,
    "start_time": "2022-06-30T17:00:30.867Z"
   },
   {
    "duration": 9,
    "start_time": "2022-06-30T17:01:36.194Z"
   },
   {
    "duration": 294,
    "start_time": "2022-06-30T17:02:23.359Z"
   },
   {
    "duration": 3,
    "start_time": "2022-06-30T17:12:46.815Z"
   },
   {
    "duration": 6,
    "start_time": "2022-06-30T17:12:47.551Z"
   },
   {
    "duration": 408,
    "start_time": "2022-06-30T17:12:48.528Z"
   },
   {
    "duration": 589,
    "start_time": "2022-06-30T17:17:35.879Z"
   },
   {
    "duration": 8,
    "start_time": "2022-06-30T17:17:41.353Z"
   },
   {
    "duration": 64633,
    "start_time": "2022-06-30T17:17:42.254Z"
   },
   {
    "duration": 66233,
    "start_time": "2022-06-30T17:21:25.907Z"
   },
   {
    "duration": 7,
    "start_time": "2022-06-30T17:38:41.195Z"
   },
   {
    "duration": 8,
    "start_time": "2022-06-30T17:38:51.226Z"
   },
   {
    "duration": 3,
    "start_time": "2022-06-30T17:39:03.691Z"
   },
   {
    "duration": 10,
    "start_time": "2022-06-30T17:39:04.775Z"
   },
   {
    "duration": 19,
    "start_time": "2022-06-30T17:39:06.380Z"
   },
   {
    "duration": 16,
    "start_time": "2022-06-30T17:39:08.108Z"
   },
   {
    "duration": 889,
    "start_time": "2022-06-30T17:39:11.938Z"
   },
   {
    "duration": 6,
    "start_time": "2022-06-30T17:40:55.001Z"
   },
   {
    "duration": 11,
    "start_time": "2022-06-30T17:40:57.653Z"
   },
   {
    "duration": 9,
    "start_time": "2022-06-30T17:41:00.547Z"
   },
   {
    "duration": 518,
    "start_time": "2022-06-30T17:41:01.123Z"
   },
   {
    "duration": 299,
    "start_time": "2022-06-30T17:41:02.700Z"
   },
   {
    "duration": 22,
    "start_time": "2022-06-30T17:41:03.149Z"
   },
   {
    "duration": 1753,
    "start_time": "2022-06-30T18:54:24.600Z"
   },
   {
    "duration": 843,
    "start_time": "2022-06-30T18:54:26.356Z"
   },
   {
    "duration": 38,
    "start_time": "2022-06-30T18:54:27.200Z"
   },
   {
    "duration": 256,
    "start_time": "2022-06-30T18:54:27.240Z"
   },
   {
    "duration": 5,
    "start_time": "2022-06-30T18:54:27.498Z"
   },
   {
    "duration": 128,
    "start_time": "2022-06-30T18:54:27.505Z"
   },
   {
    "duration": 1865,
    "start_time": "2022-06-30T18:54:27.638Z"
   },
   {
    "duration": 14,
    "start_time": "2022-06-30T18:54:29.505Z"
   },
   {
    "duration": 24,
    "start_time": "2022-06-30T18:54:29.527Z"
   },
   {
    "duration": 11,
    "start_time": "2022-06-30T18:54:29.554Z"
   },
   {
    "duration": 107,
    "start_time": "2022-06-30T18:54:29.567Z"
   },
   {
    "duration": 157,
    "start_time": "2022-06-30T18:54:29.676Z"
   },
   {
    "duration": 7,
    "start_time": "2022-06-30T18:54:29.837Z"
   },
   {
    "duration": 62938,
    "start_time": "2022-06-30T18:54:29.846Z"
   },
   {
    "duration": 6,
    "start_time": "2022-06-30T18:55:32.785Z"
   },
   {
    "duration": 128,
    "start_time": "2022-06-30T18:55:32.792Z"
   },
   {
    "duration": 0,
    "start_time": "2022-06-30T18:55:32.922Z"
   },
   {
    "duration": 0,
    "start_time": "2022-06-30T18:55:32.923Z"
   },
   {
    "duration": 0,
    "start_time": "2022-06-30T18:55:32.927Z"
   },
   {
    "duration": 0,
    "start_time": "2022-06-30T18:55:32.928Z"
   },
   {
    "duration": 0,
    "start_time": "2022-06-30T18:55:32.929Z"
   },
   {
    "duration": 0,
    "start_time": "2022-06-30T18:55:32.930Z"
   },
   {
    "duration": 0,
    "start_time": "2022-06-30T18:55:32.931Z"
   },
   {
    "duration": 0,
    "start_time": "2022-06-30T18:55:32.932Z"
   },
   {
    "duration": 0,
    "start_time": "2022-06-30T18:55:32.933Z"
   },
   {
    "duration": 0,
    "start_time": "2022-06-30T18:55:32.935Z"
   },
   {
    "duration": 0,
    "start_time": "2022-06-30T18:55:32.935Z"
   },
   {
    "duration": 0,
    "start_time": "2022-06-30T18:55:32.936Z"
   },
   {
    "duration": 0,
    "start_time": "2022-06-30T18:55:32.938Z"
   },
   {
    "duration": 0,
    "start_time": "2022-06-30T18:55:32.939Z"
   },
   {
    "duration": 0,
    "start_time": "2022-06-30T18:55:32.940Z"
   },
   {
    "duration": 0,
    "start_time": "2022-06-30T18:55:32.941Z"
   },
   {
    "duration": 0,
    "start_time": "2022-06-30T18:55:32.942Z"
   },
   {
    "duration": 0,
    "start_time": "2022-06-30T18:55:32.943Z"
   },
   {
    "duration": 0,
    "start_time": "2022-06-30T18:55:32.944Z"
   },
   {
    "duration": 0,
    "start_time": "2022-06-30T18:55:32.946Z"
   },
   {
    "duration": 0,
    "start_time": "2022-06-30T18:55:32.947Z"
   },
   {
    "duration": 0,
    "start_time": "2022-06-30T18:55:32.948Z"
   },
   {
    "duration": 0,
    "start_time": "2022-06-30T18:55:32.949Z"
   },
   {
    "duration": 0,
    "start_time": "2022-06-30T18:55:32.950Z"
   },
   {
    "duration": 0,
    "start_time": "2022-06-30T18:55:32.950Z"
   },
   {
    "duration": 0,
    "start_time": "2022-06-30T18:55:32.951Z"
   },
   {
    "duration": 8,
    "start_time": "2022-06-30T18:57:16.764Z"
   },
   {
    "duration": 13,
    "start_time": "2022-06-30T19:16:38.490Z"
   },
   {
    "duration": 12,
    "start_time": "2022-06-30T19:17:02.782Z"
   },
   {
    "duration": 1783,
    "start_time": "2022-06-30T19:17:18.006Z"
   },
   {
    "duration": 5819,
    "start_time": "2022-06-30T19:20:38.939Z"
   },
   {
    "duration": 5483,
    "start_time": "2022-06-30T19:23:41.182Z"
   },
   {
    "duration": 5715,
    "start_time": "2022-06-30T19:25:10.964Z"
   },
   {
    "duration": 19,
    "start_time": "2022-06-30T19:25:35.320Z"
   },
   {
    "duration": 6,
    "start_time": "2022-06-30T19:25:51.062Z"
   },
   {
    "duration": 8,
    "start_time": "2022-06-30T19:25:52.487Z"
   },
   {
    "duration": 8,
    "start_time": "2022-06-30T19:28:31.127Z"
   },
   {
    "duration": 6,
    "start_time": "2022-06-30T19:29:16.656Z"
   },
   {
    "duration": 4,
    "start_time": "2022-06-30T19:31:28.803Z"
   },
   {
    "duration": 2057,
    "start_time": "2022-06-30T19:31:34.583Z"
   },
   {
    "duration": 2212,
    "start_time": "2022-06-30T19:31:48.210Z"
   },
   {
    "duration": 15,
    "start_time": "2022-06-30T19:35:07.866Z"
   },
   {
    "duration": 1776,
    "start_time": "2022-06-30T19:36:40.201Z"
   },
   {
    "duration": 840,
    "start_time": "2022-06-30T19:36:41.979Z"
   },
   {
    "duration": 40,
    "start_time": "2022-06-30T19:36:42.820Z"
   },
   {
    "duration": 263,
    "start_time": "2022-06-30T19:36:42.862Z"
   },
   {
    "duration": 9,
    "start_time": "2022-06-30T19:36:43.127Z"
   },
   {
    "duration": 111,
    "start_time": "2022-06-30T19:36:43.137Z"
   },
   {
    "duration": 1834,
    "start_time": "2022-06-30T19:36:43.252Z"
   },
   {
    "duration": 13,
    "start_time": "2022-06-30T19:36:45.088Z"
   },
   {
    "duration": 39,
    "start_time": "2022-06-30T19:36:45.102Z"
   },
   {
    "duration": 13,
    "start_time": "2022-06-30T19:36:45.143Z"
   },
   {
    "duration": 99,
    "start_time": "2022-06-30T19:36:45.158Z"
   },
   {
    "duration": 194,
    "start_time": "2022-06-30T19:36:45.259Z"
   },
   {
    "duration": 8,
    "start_time": "2022-06-30T19:36:45.455Z"
   },
   {
    "duration": 63505,
    "start_time": "2022-06-30T19:36:45.465Z"
   },
   {
    "duration": 6,
    "start_time": "2022-06-30T19:37:48.971Z"
   },
   {
    "duration": 135,
    "start_time": "2022-06-30T19:37:48.979Z"
   },
   {
    "duration": 0,
    "start_time": "2022-06-30T19:37:49.116Z"
   },
   {
    "duration": 0,
    "start_time": "2022-06-30T19:37:49.117Z"
   },
   {
    "duration": 0,
    "start_time": "2022-06-30T19:37:49.128Z"
   },
   {
    "duration": 0,
    "start_time": "2022-06-30T19:37:49.129Z"
   },
   {
    "duration": 0,
    "start_time": "2022-06-30T19:37:49.130Z"
   },
   {
    "duration": 0,
    "start_time": "2022-06-30T19:37:49.130Z"
   },
   {
    "duration": 0,
    "start_time": "2022-06-30T19:37:49.131Z"
   },
   {
    "duration": 0,
    "start_time": "2022-06-30T19:37:49.131Z"
   },
   {
    "duration": 0,
    "start_time": "2022-06-30T19:37:49.132Z"
   },
   {
    "duration": 0,
    "start_time": "2022-06-30T19:37:49.133Z"
   },
   {
    "duration": 0,
    "start_time": "2022-06-30T19:37:49.134Z"
   },
   {
    "duration": 0,
    "start_time": "2022-06-30T19:37:49.134Z"
   },
   {
    "duration": 0,
    "start_time": "2022-06-30T19:37:49.136Z"
   },
   {
    "duration": 0,
    "start_time": "2022-06-30T19:37:49.137Z"
   },
   {
    "duration": 0,
    "start_time": "2022-06-30T19:37:49.137Z"
   },
   {
    "duration": 0,
    "start_time": "2022-06-30T19:37:49.138Z"
   },
   {
    "duration": 0,
    "start_time": "2022-06-30T19:37:49.139Z"
   },
   {
    "duration": 0,
    "start_time": "2022-06-30T19:37:49.139Z"
   },
   {
    "duration": 0,
    "start_time": "2022-06-30T19:37:49.140Z"
   },
   {
    "duration": 0,
    "start_time": "2022-06-30T19:37:49.140Z"
   },
   {
    "duration": 0,
    "start_time": "2022-06-30T19:37:49.141Z"
   },
   {
    "duration": 0,
    "start_time": "2022-06-30T19:37:49.143Z"
   },
   {
    "duration": 0,
    "start_time": "2022-06-30T19:37:49.145Z"
   },
   {
    "duration": 0,
    "start_time": "2022-06-30T19:37:49.147Z"
   },
   {
    "duration": 0,
    "start_time": "2022-06-30T19:37:49.148Z"
   },
   {
    "duration": 0,
    "start_time": "2022-06-30T19:37:49.150Z"
   },
   {
    "duration": 0,
    "start_time": "2022-06-30T19:37:49.152Z"
   },
   {
    "duration": 5527,
    "start_time": "2022-06-30T19:38:56.147Z"
   },
   {
    "duration": 12,
    "start_time": "2022-06-30T19:39:01.676Z"
   },
   {
    "duration": 61,
    "start_time": "2022-06-30T19:39:01.689Z"
   },
   {
    "duration": 3,
    "start_time": "2022-06-30T19:39:05.686Z"
   },
   {
    "duration": 8,
    "start_time": "2022-06-30T19:39:07.270Z"
   },
   {
    "duration": 16,
    "start_time": "2022-06-30T19:39:09.596Z"
   },
   {
    "duration": 11,
    "start_time": "2022-06-30T19:39:11.804Z"
   },
   {
    "duration": 3214,
    "start_time": "2022-06-30T19:39:13.778Z"
   },
   {
    "duration": 7,
    "start_time": "2022-06-30T19:39:27.451Z"
   },
   {
    "duration": 10,
    "start_time": "2022-06-30T19:39:28.140Z"
   },
   {
    "duration": 3176,
    "start_time": "2022-06-30T19:40:07.067Z"
   },
   {
    "duration": 5,
    "start_time": "2022-06-30T19:40:11.386Z"
   },
   {
    "duration": 11,
    "start_time": "2022-06-30T19:40:11.571Z"
   },
   {
    "duration": 7,
    "start_time": "2022-06-30T19:40:12.110Z"
   },
   {
    "duration": 498,
    "start_time": "2022-06-30T19:40:12.272Z"
   },
   {
    "duration": 275566,
    "start_time": "2022-06-30T19:40:13.970Z"
   },
   {
    "duration": 131,
    "start_time": "2022-06-30T19:44:49.635Z"
   },
   {
    "duration": 0,
    "start_time": "2022-06-30T19:44:49.768Z"
   },
   {
    "duration": 0,
    "start_time": "2022-06-30T19:44:49.769Z"
   },
   {
    "duration": 0,
    "start_time": "2022-06-30T19:44:49.770Z"
   },
   {
    "duration": 0,
    "start_time": "2022-06-30T19:44:49.771Z"
   },
   {
    "duration": 0,
    "start_time": "2022-06-30T19:44:49.772Z"
   },
   {
    "duration": 0,
    "start_time": "2022-06-30T19:44:49.772Z"
   },
   {
    "duration": 0,
    "start_time": "2022-06-30T19:44:49.774Z"
   },
   {
    "duration": 0,
    "start_time": "2022-06-30T19:44:49.775Z"
   },
   {
    "duration": 0,
    "start_time": "2022-06-30T19:44:49.776Z"
   },
   {
    "duration": 0,
    "start_time": "2022-06-30T19:44:49.777Z"
   },
   {
    "duration": 0,
    "start_time": "2022-06-30T19:44:49.778Z"
   },
   {
    "duration": 0,
    "start_time": "2022-06-30T19:44:49.779Z"
   },
   {
    "duration": 0,
    "start_time": "2022-06-30T19:44:49.780Z"
   },
   {
    "duration": 51149,
    "start_time": "2022-06-30T19:48:27.306Z"
   },
   {
    "duration": 23,
    "start_time": "2022-06-30T19:49:18.457Z"
   },
   {
    "duration": 34,
    "start_time": "2022-06-30T19:50:21.491Z"
   },
   {
    "duration": 1694,
    "start_time": "2022-06-30T19:50:48.401Z"
   },
   {
    "duration": 773,
    "start_time": "2022-06-30T19:50:50.097Z"
   },
   {
    "duration": 34,
    "start_time": "2022-06-30T19:50:50.872Z"
   },
   {
    "duration": 256,
    "start_time": "2022-06-30T19:50:50.908Z"
   },
   {
    "duration": 5,
    "start_time": "2022-06-30T19:50:51.166Z"
   },
   {
    "duration": 109,
    "start_time": "2022-06-30T19:50:51.173Z"
   },
   {
    "duration": 1784,
    "start_time": "2022-06-30T19:50:51.284Z"
   },
   {
    "duration": 16,
    "start_time": "2022-06-30T19:50:53.071Z"
   },
   {
    "duration": 39,
    "start_time": "2022-06-30T19:50:53.089Z"
   },
   {
    "duration": 17,
    "start_time": "2022-06-30T19:50:53.131Z"
   },
   {
    "duration": 111,
    "start_time": "2022-06-30T19:50:53.150Z"
   },
   {
    "duration": 160,
    "start_time": "2022-06-30T19:50:53.263Z"
   },
   {
    "duration": 9,
    "start_time": "2022-06-30T19:50:53.425Z"
   },
   {
    "duration": 60357,
    "start_time": "2022-06-30T19:50:53.436Z"
   },
   {
    "duration": 8,
    "start_time": "2022-06-30T19:51:53.794Z"
   },
   {
    "duration": 175,
    "start_time": "2022-06-30T19:51:53.805Z"
   },
   {
    "duration": 0,
    "start_time": "2022-06-30T19:51:53.983Z"
   },
   {
    "duration": 0,
    "start_time": "2022-06-30T19:51:53.984Z"
   },
   {
    "duration": 0,
    "start_time": "2022-06-30T19:51:53.985Z"
   },
   {
    "duration": 0,
    "start_time": "2022-06-30T19:51:53.987Z"
   },
   {
    "duration": 0,
    "start_time": "2022-06-30T19:51:53.988Z"
   },
   {
    "duration": 0,
    "start_time": "2022-06-30T19:51:53.990Z"
   },
   {
    "duration": 0,
    "start_time": "2022-06-30T19:51:53.991Z"
   },
   {
    "duration": 0,
    "start_time": "2022-06-30T19:51:53.993Z"
   },
   {
    "duration": 0,
    "start_time": "2022-06-30T19:51:53.994Z"
   },
   {
    "duration": 0,
    "start_time": "2022-06-30T19:51:53.995Z"
   },
   {
    "duration": 0,
    "start_time": "2022-06-30T19:51:53.996Z"
   },
   {
    "duration": 0,
    "start_time": "2022-06-30T19:51:53.997Z"
   },
   {
    "duration": 0,
    "start_time": "2022-06-30T19:51:53.998Z"
   },
   {
    "duration": 0,
    "start_time": "2022-06-30T19:51:53.998Z"
   },
   {
    "duration": 0,
    "start_time": "2022-06-30T19:51:53.999Z"
   },
   {
    "duration": 0,
    "start_time": "2022-06-30T19:51:53.999Z"
   },
   {
    "duration": 0,
    "start_time": "2022-06-30T19:51:54.000Z"
   },
   {
    "duration": 0,
    "start_time": "2022-06-30T19:51:54.000Z"
   },
   {
    "duration": 0,
    "start_time": "2022-06-30T19:51:54.001Z"
   },
   {
    "duration": 0,
    "start_time": "2022-06-30T19:51:54.030Z"
   },
   {
    "duration": 0,
    "start_time": "2022-06-30T19:51:54.031Z"
   },
   {
    "duration": 0,
    "start_time": "2022-06-30T19:51:54.033Z"
   },
   {
    "duration": 0,
    "start_time": "2022-06-30T19:51:54.035Z"
   },
   {
    "duration": 0,
    "start_time": "2022-06-30T19:51:54.036Z"
   },
   {
    "duration": 0,
    "start_time": "2022-06-30T19:51:54.038Z"
   },
   {
    "duration": 0,
    "start_time": "2022-06-30T19:51:54.039Z"
   },
   {
    "duration": 0,
    "start_time": "2022-06-30T19:51:54.041Z"
   },
   {
    "duration": 5806,
    "start_time": "2022-06-30T19:53:11.470Z"
   },
   {
    "duration": 16,
    "start_time": "2022-06-30T19:53:17.279Z"
   },
   {
    "duration": 23,
    "start_time": "2022-06-30T19:53:17.324Z"
   },
   {
    "duration": 3,
    "start_time": "2022-06-30T19:53:18.449Z"
   },
   {
    "duration": 9,
    "start_time": "2022-06-30T19:53:18.942Z"
   },
   {
    "duration": 23,
    "start_time": "2022-06-30T19:53:19.714Z"
   },
   {
    "duration": 16,
    "start_time": "2022-06-30T19:53:20.513Z"
   },
   {
    "duration": 4546,
    "start_time": "2022-06-30T19:53:20.800Z"
   },
   {
    "duration": 7,
    "start_time": "2022-06-30T19:53:29.286Z"
   },
   {
    "duration": 10,
    "start_time": "2022-06-30T19:53:29.529Z"
   },
   {
    "duration": 9,
    "start_time": "2022-06-30T19:53:30.266Z"
   },
   {
    "duration": 551,
    "start_time": "2022-06-30T19:53:30.504Z"
   },
   {
    "duration": 81608,
    "start_time": "2022-06-30T19:53:31.620Z"
   },
   {
    "duration": 1100,
    "start_time": "2022-06-30T19:54:53.230Z"
   },
   {
    "duration": 57238,
    "start_time": "2022-06-30T19:54:54.332Z"
   },
   {
    "duration": 443,
    "start_time": "2022-06-30T19:55:51.572Z"
   },
   {
    "duration": 498943,
    "start_time": "2022-06-30T19:55:52.016Z"
   },
   {
    "duration": 564,
    "start_time": "2022-06-30T20:04:10.961Z"
   },
   {
    "duration": 2276682,
    "start_time": "2022-06-30T20:04:11.528Z"
   },
   {
    "duration": 13,
    "start_time": "2022-06-30T20:42:08.212Z"
   },
   {
    "duration": 0,
    "start_time": "2022-06-30T20:42:08.227Z"
   },
   {
    "duration": 0,
    "start_time": "2022-06-30T20:42:08.229Z"
   },
   {
    "duration": 0,
    "start_time": "2022-06-30T20:42:08.230Z"
   },
   {
    "duration": 0,
    "start_time": "2022-06-30T20:42:08.231Z"
   },
   {
    "duration": 0,
    "start_time": "2022-06-30T20:42:08.232Z"
   },
   {
    "duration": 0,
    "start_time": "2022-06-30T20:42:08.234Z"
   },
   {
    "duration": 0,
    "start_time": "2022-06-30T20:42:08.235Z"
   },
   {
    "duration": 0,
    "start_time": "2022-06-30T20:42:08.236Z"
   },
   {
    "duration": 66,
    "start_time": "2022-06-30T20:42:11.897Z"
   },
   {
    "duration": 5,
    "start_time": "2022-06-30T20:42:41.688Z"
   },
   {
    "duration": 79,
    "start_time": "2022-06-30T20:42:42.214Z"
   },
   {
    "duration": 4,
    "start_time": "2022-06-30T20:43:03.022Z"
   },
   {
    "duration": 65,
    "start_time": "2022-06-30T20:43:03.533Z"
   },
   {
    "duration": 73,
    "start_time": "2022-06-30T20:44:13.105Z"
   },
   {
    "duration": 153,
    "start_time": "2022-06-30T20:45:38.103Z"
   },
   {
    "duration": 126,
    "start_time": "2022-06-30T20:46:36.079Z"
   },
   {
    "duration": 57,
    "start_time": "2022-06-30T20:47:26.731Z"
   },
   {
    "duration": 1810,
    "start_time": "2022-06-30T20:47:34.538Z"
   },
   {
    "duration": 803,
    "start_time": "2022-06-30T20:47:36.352Z"
   },
   {
    "duration": 33,
    "start_time": "2022-06-30T20:47:37.156Z"
   },
   {
    "duration": 267,
    "start_time": "2022-06-30T20:47:37.191Z"
   },
   {
    "duration": 6,
    "start_time": "2022-06-30T20:47:37.461Z"
   },
   {
    "duration": 117,
    "start_time": "2022-06-30T20:47:37.469Z"
   },
   {
    "duration": 1804,
    "start_time": "2022-06-30T20:47:37.588Z"
   },
   {
    "duration": 14,
    "start_time": "2022-06-30T20:47:39.394Z"
   },
   {
    "duration": 36,
    "start_time": "2022-06-30T20:47:39.409Z"
   },
   {
    "duration": 16,
    "start_time": "2022-06-30T20:47:39.447Z"
   },
   {
    "duration": 114,
    "start_time": "2022-06-30T20:47:39.464Z"
   },
   {
    "duration": 119,
    "start_time": "2022-06-30T20:47:39.580Z"
   },
   {
    "duration": 8,
    "start_time": "2022-06-30T20:47:39.701Z"
   },
   {
    "duration": 1722,
    "start_time": "2022-06-30T20:48:21.654Z"
   },
   {
    "duration": 809,
    "start_time": "2022-06-30T20:48:23.378Z"
   },
   {
    "duration": 39,
    "start_time": "2022-06-30T20:48:24.188Z"
   },
   {
    "duration": 255,
    "start_time": "2022-06-30T20:48:24.229Z"
   },
   {
    "duration": 5,
    "start_time": "2022-06-30T20:48:24.487Z"
   },
   {
    "duration": 107,
    "start_time": "2022-06-30T20:48:24.494Z"
   },
   {
    "duration": 1852,
    "start_time": "2022-06-30T20:48:24.602Z"
   },
   {
    "duration": 13,
    "start_time": "2022-06-30T20:48:26.456Z"
   },
   {
    "duration": 21,
    "start_time": "2022-06-30T20:48:26.471Z"
   },
   {
    "duration": 35,
    "start_time": "2022-06-30T20:48:26.494Z"
   },
   {
    "duration": 123,
    "start_time": "2022-06-30T20:48:26.531Z"
   },
   {
    "duration": 195,
    "start_time": "2022-06-30T20:48:26.655Z"
   },
   {
    "duration": 7,
    "start_time": "2022-06-30T20:48:26.851Z"
   },
   {
    "duration": 7004,
    "start_time": "2022-06-30T20:48:26.861Z"
   },
   {
    "duration": 5,
    "start_time": "2022-06-30T20:48:33.866Z"
   },
   {
    "duration": 131,
    "start_time": "2022-06-30T20:48:33.873Z"
   },
   {
    "duration": 0,
    "start_time": "2022-06-30T20:48:34.006Z"
   },
   {
    "duration": 0,
    "start_time": "2022-06-30T20:48:34.008Z"
   },
   {
    "duration": 0,
    "start_time": "2022-06-30T20:48:34.009Z"
   },
   {
    "duration": 0,
    "start_time": "2022-06-30T20:48:34.010Z"
   },
   {
    "duration": 0,
    "start_time": "2022-06-30T20:48:34.011Z"
   },
   {
    "duration": 0,
    "start_time": "2022-06-30T20:48:34.013Z"
   },
   {
    "duration": 0,
    "start_time": "2022-06-30T20:48:34.013Z"
   },
   {
    "duration": 0,
    "start_time": "2022-06-30T20:48:34.014Z"
   },
   {
    "duration": 0,
    "start_time": "2022-06-30T20:48:34.014Z"
   },
   {
    "duration": 0,
    "start_time": "2022-06-30T20:48:34.015Z"
   },
   {
    "duration": 0,
    "start_time": "2022-06-30T20:48:34.015Z"
   },
   {
    "duration": 0,
    "start_time": "2022-06-30T20:48:34.016Z"
   },
   {
    "duration": 0,
    "start_time": "2022-06-30T20:48:34.016Z"
   },
   {
    "duration": 0,
    "start_time": "2022-06-30T20:48:34.026Z"
   },
   {
    "duration": 0,
    "start_time": "2022-06-30T20:48:34.028Z"
   },
   {
    "duration": 0,
    "start_time": "2022-06-30T20:48:34.029Z"
   },
   {
    "duration": 0,
    "start_time": "2022-06-30T20:48:34.030Z"
   },
   {
    "duration": 0,
    "start_time": "2022-06-30T20:48:34.031Z"
   },
   {
    "duration": 0,
    "start_time": "2022-06-30T20:48:34.033Z"
   },
   {
    "duration": 0,
    "start_time": "2022-06-30T20:48:34.033Z"
   },
   {
    "duration": 0,
    "start_time": "2022-06-30T20:48:34.035Z"
   },
   {
    "duration": 0,
    "start_time": "2022-06-30T20:48:34.036Z"
   },
   {
    "duration": 0,
    "start_time": "2022-06-30T20:48:34.038Z"
   },
   {
    "duration": 0,
    "start_time": "2022-06-30T20:48:34.042Z"
   },
   {
    "duration": 0,
    "start_time": "2022-06-30T20:48:34.044Z"
   },
   {
    "duration": 0,
    "start_time": "2022-06-30T20:48:34.045Z"
   },
   {
    "duration": 0,
    "start_time": "2022-06-30T20:48:34.046Z"
   },
   {
    "duration": 0,
    "start_time": "2022-06-30T20:48:34.048Z"
   },
   {
    "duration": 0,
    "start_time": "2022-06-30T20:48:34.049Z"
   },
   {
    "duration": 0,
    "start_time": "2022-06-30T20:48:34.051Z"
   },
   {
    "duration": 11,
    "start_time": "2022-06-30T20:49:04.636Z"
   },
   {
    "duration": 723,
    "start_time": "2022-06-30T20:49:05.213Z"
   },
   {
    "duration": 12,
    "start_time": "2022-06-30T20:49:05.938Z"
   },
   {
    "duration": 21,
    "start_time": "2022-06-30T20:49:05.980Z"
   },
   {
    "duration": 4,
    "start_time": "2022-06-30T20:49:07.301Z"
   },
   {
    "duration": 7,
    "start_time": "2022-06-30T20:49:08.339Z"
   },
   {
    "duration": 12,
    "start_time": "2022-06-30T20:49:08.969Z"
   },
   {
    "duration": 14,
    "start_time": "2022-06-30T20:49:09.799Z"
   },
   {
    "duration": 300,
    "start_time": "2022-06-30T20:49:12.860Z"
   },
   {
    "duration": 6,
    "start_time": "2022-06-30T20:49:17.549Z"
   },
   {
    "duration": 11,
    "start_time": "2022-06-30T20:49:17.745Z"
   },
   {
    "duration": 31,
    "start_time": "2022-06-30T20:49:18.822Z"
   },
   {
    "duration": 7,
    "start_time": "2022-06-30T20:49:27.109Z"
   },
   {
    "duration": 550,
    "start_time": "2022-06-30T20:49:27.897Z"
   },
   {
    "duration": 5,
    "start_time": "2022-06-30T20:49:38.243Z"
   },
   {
    "duration": 111,
    "start_time": "2022-06-30T20:49:38.715Z"
   },
   {
    "duration": 75,
    "start_time": "2022-06-30T20:51:07.175Z"
   },
   {
    "duration": 67,
    "start_time": "2022-06-30T20:51:51.490Z"
   },
   {
    "duration": 59,
    "start_time": "2022-06-30T20:52:50.342Z"
   },
   {
    "duration": 57,
    "start_time": "2022-06-30T20:53:32.832Z"
   },
   {
    "duration": 75,
    "start_time": "2022-06-30T20:54:09.118Z"
   },
   {
    "duration": 14253,
    "start_time": "2022-06-30T20:55:04.183Z"
   },
   {
    "duration": 978,
    "start_time": "2022-06-30T20:55:18.438Z"
   },
   {
    "duration": 3276,
    "start_time": "2022-06-30T20:55:19.426Z"
   },
   {
    "duration": 481,
    "start_time": "2022-06-30T20:55:22.704Z"
   },
   {
    "duration": 41665,
    "start_time": "2022-06-30T20:55:23.186Z"
   },
   {
    "duration": 488,
    "start_time": "2022-06-30T20:56:04.855Z"
   },
   {
    "duration": 1725,
    "start_time": "2022-06-30T20:57:03.770Z"
   },
   {
    "duration": 854,
    "start_time": "2022-06-30T20:57:05.496Z"
   },
   {
    "duration": 39,
    "start_time": "2022-06-30T20:57:06.352Z"
   },
   {
    "duration": 291,
    "start_time": "2022-06-30T20:57:06.394Z"
   },
   {
    "duration": 6,
    "start_time": "2022-06-30T20:57:06.688Z"
   },
   {
    "duration": 114,
    "start_time": "2022-06-30T20:57:06.696Z"
   },
   {
    "duration": 1859,
    "start_time": "2022-06-30T20:57:06.812Z"
   },
   {
    "duration": 14,
    "start_time": "2022-06-30T20:57:08.674Z"
   },
   {
    "duration": 22,
    "start_time": "2022-06-30T20:57:08.690Z"
   },
   {
    "duration": 16,
    "start_time": "2022-06-30T20:57:08.728Z"
   },
   {
    "duration": 116,
    "start_time": "2022-06-30T20:57:08.746Z"
   },
   {
    "duration": 148,
    "start_time": "2022-06-30T20:57:08.863Z"
   },
   {
    "duration": 7,
    "start_time": "2022-06-30T20:57:09.012Z"
   },
   {
    "duration": 61046,
    "start_time": "2022-06-30T20:57:09.023Z"
   },
   {
    "duration": 6,
    "start_time": "2022-06-30T20:58:10.070Z"
   },
   {
    "duration": 5495,
    "start_time": "2022-06-30T20:58:10.078Z"
   },
   {
    "duration": 59,
    "start_time": "2022-06-30T20:58:15.575Z"
   },
   {
    "duration": 23,
    "start_time": "2022-06-30T20:58:15.635Z"
   },
   {
    "duration": 9,
    "start_time": "2022-06-30T20:58:15.660Z"
   },
   {
    "duration": 10,
    "start_time": "2022-06-30T20:58:15.671Z"
   },
   {
    "duration": 14,
    "start_time": "2022-06-30T20:58:15.682Z"
   },
   {
    "duration": 17,
    "start_time": "2022-06-30T20:58:15.698Z"
   },
   {
    "duration": 4272,
    "start_time": "2022-06-30T20:58:15.717Z"
   },
   {
    "duration": 9,
    "start_time": "2022-06-30T20:58:19.991Z"
   },
   {
    "duration": 10,
    "start_time": "2022-06-30T20:58:20.002Z"
   },
   {
    "duration": 19,
    "start_time": "2022-06-30T20:58:20.014Z"
   },
   {
    "duration": 513,
    "start_time": "2022-06-30T20:58:20.035Z"
   },
   {
    "duration": 86390,
    "start_time": "2022-06-30T20:58:20.549Z"
   },
   {
    "duration": 1004,
    "start_time": "2022-06-30T20:59:47.029Z"
   },
   {
    "duration": 48901,
    "start_time": "2022-06-30T20:59:48.034Z"
   },
   {
    "duration": 531,
    "start_time": "2022-06-30T21:00:36.937Z"
   },
   {
    "duration": 498890,
    "start_time": "2022-06-30T21:00:37.470Z"
   },
   {
    "duration": 476,
    "start_time": "2022-06-30T21:08:56.363Z"
   },
   {
    "duration": 1985,
    "start_time": "2022-06-30T21:16:43.172Z"
   },
   {
    "duration": 838,
    "start_time": "2022-06-30T21:16:45.160Z"
   },
   {
    "duration": 36,
    "start_time": "2022-06-30T21:16:45.999Z"
   },
   {
    "duration": 286,
    "start_time": "2022-06-30T21:16:46.038Z"
   },
   {
    "duration": 9,
    "start_time": "2022-06-30T21:16:46.326Z"
   },
   {
    "duration": 163,
    "start_time": "2022-06-30T21:16:46.336Z"
   },
   {
    "duration": 1881,
    "start_time": "2022-06-30T21:16:46.501Z"
   },
   {
    "duration": 14,
    "start_time": "2022-06-30T21:16:48.384Z"
   },
   {
    "duration": 43,
    "start_time": "2022-06-30T21:16:48.400Z"
   },
   {
    "duration": 15,
    "start_time": "2022-06-30T21:16:48.446Z"
   },
   {
    "duration": 165,
    "start_time": "2022-06-30T21:16:48.463Z"
   },
   {
    "duration": 135,
    "start_time": "2022-06-30T21:16:48.630Z"
   },
   {
    "duration": 11,
    "start_time": "2022-06-30T21:16:48.767Z"
   },
   {
    "duration": 63364,
    "start_time": "2022-06-30T21:16:48.779Z"
   },
   {
    "duration": 6,
    "start_time": "2022-06-30T21:17:52.144Z"
   },
   {
    "duration": 5719,
    "start_time": "2022-06-30T21:17:52.152Z"
   },
   {
    "duration": 11,
    "start_time": "2022-06-30T21:17:57.873Z"
   },
   {
    "duration": 43,
    "start_time": "2022-06-30T21:17:57.886Z"
   },
   {
    "duration": 6,
    "start_time": "2022-06-30T21:17:57.931Z"
   },
   {
    "duration": 13,
    "start_time": "2022-06-30T21:17:57.938Z"
   },
   {
    "duration": 14,
    "start_time": "2022-06-30T21:17:57.953Z"
   },
   {
    "duration": 198,
    "start_time": "2022-06-30T21:17:57.969Z"
   },
   {
    "duration": 0,
    "start_time": "2022-06-30T21:17:58.169Z"
   },
   {
    "duration": 0,
    "start_time": "2022-06-30T21:17:58.170Z"
   },
   {
    "duration": 0,
    "start_time": "2022-06-30T21:17:58.171Z"
   },
   {
    "duration": 0,
    "start_time": "2022-06-30T21:17:58.172Z"
   },
   {
    "duration": 0,
    "start_time": "2022-06-30T21:17:58.174Z"
   },
   {
    "duration": 0,
    "start_time": "2022-06-30T21:17:58.175Z"
   },
   {
    "duration": 0,
    "start_time": "2022-06-30T21:17:58.176Z"
   },
   {
    "duration": 0,
    "start_time": "2022-06-30T21:17:58.177Z"
   },
   {
    "duration": 0,
    "start_time": "2022-06-30T21:17:58.178Z"
   },
   {
    "duration": 0,
    "start_time": "2022-06-30T21:17:58.179Z"
   },
   {
    "duration": 0,
    "start_time": "2022-06-30T21:17:58.180Z"
   },
   {
    "duration": 0,
    "start_time": "2022-06-30T21:17:58.181Z"
   },
   {
    "duration": 0,
    "start_time": "2022-06-30T21:17:58.181Z"
   },
   {
    "duration": 0,
    "start_time": "2022-06-30T21:17:58.183Z"
   },
   {
    "duration": 0,
    "start_time": "2022-06-30T21:17:58.184Z"
   },
   {
    "duration": 0,
    "start_time": "2022-06-30T21:17:58.185Z"
   },
   {
    "duration": 0,
    "start_time": "2022-06-30T21:17:58.186Z"
   },
   {
    "duration": 0,
    "start_time": "2022-06-30T21:17:58.188Z"
   },
   {
    "duration": 0,
    "start_time": "2022-06-30T21:17:58.189Z"
   },
   {
    "duration": 0,
    "start_time": "2022-06-30T21:17:58.227Z"
   },
   {
    "duration": 28,
    "start_time": "2022-06-30T21:19:41.897Z"
   },
   {
    "duration": 29,
    "start_time": "2022-06-30T21:20:02.867Z"
   },
   {
    "duration": 17,
    "start_time": "2022-06-30T21:20:23.695Z"
   },
   {
    "duration": 34,
    "start_time": "2022-06-30T21:20:36.653Z"
   },
   {
    "duration": 21759,
    "start_time": "2022-06-30T21:21:19.403Z"
   },
   {
    "duration": 7,
    "start_time": "2022-06-30T21:21:41.165Z"
   },
   {
    "duration": 13,
    "start_time": "2022-06-30T21:21:41.174Z"
   },
   {
    "duration": 5,
    "start_time": "2022-06-30T21:21:52.199Z"
   },
   {
    "duration": 11,
    "start_time": "2022-06-30T21:21:52.538Z"
   },
   {
    "duration": 10,
    "start_time": "2022-06-30T21:21:53.445Z"
   },
   {
    "duration": 535,
    "start_time": "2022-06-30T21:21:54.824Z"
   },
   {
    "duration": 1650,
    "start_time": "2022-06-30T21:24:33.552Z"
   },
   {
    "duration": 786,
    "start_time": "2022-06-30T21:24:35.205Z"
   },
   {
    "duration": 39,
    "start_time": "2022-06-30T21:24:35.992Z"
   },
   {
    "duration": 280,
    "start_time": "2022-06-30T21:24:36.033Z"
   },
   {
    "duration": 16,
    "start_time": "2022-06-30T21:24:36.315Z"
   },
   {
    "duration": 141,
    "start_time": "2022-06-30T21:24:36.333Z"
   },
   {
    "duration": 1817,
    "start_time": "2022-06-30T21:24:36.475Z"
   },
   {
    "duration": 17,
    "start_time": "2022-06-30T21:24:38.294Z"
   },
   {
    "duration": 37,
    "start_time": "2022-06-30T21:24:38.313Z"
   },
   {
    "duration": 15,
    "start_time": "2022-06-30T21:24:38.353Z"
   },
   {
    "duration": 114,
    "start_time": "2022-06-30T21:24:38.369Z"
   },
   {
    "duration": 148,
    "start_time": "2022-06-30T21:24:38.485Z"
   },
   {
    "duration": 11,
    "start_time": "2022-06-30T21:24:38.635Z"
   },
   {
    "duration": 7512,
    "start_time": "2022-06-30T21:24:38.648Z"
   },
   {
    "duration": 3,
    "start_time": "2022-06-30T21:24:46.162Z"
   },
   {
    "duration": 711,
    "start_time": "2022-06-30T21:24:46.167Z"
   },
   {
    "duration": 14,
    "start_time": "2022-06-30T21:24:46.927Z"
   },
   {
    "duration": 13,
    "start_time": "2022-06-30T21:24:46.942Z"
   },
   {
    "duration": 4,
    "start_time": "2022-06-30T21:24:46.957Z"
   },
   {
    "duration": 7,
    "start_time": "2022-06-30T21:24:46.963Z"
   },
   {
    "duration": 14,
    "start_time": "2022-06-30T21:24:46.972Z"
   },
   {
    "duration": 51,
    "start_time": "2022-06-30T21:24:46.987Z"
   },
   {
    "duration": 327,
    "start_time": "2022-06-30T21:24:47.039Z"
   },
   {
    "duration": 10,
    "start_time": "2022-06-30T21:24:47.368Z"
   },
   {
    "duration": 10,
    "start_time": "2022-06-30T21:24:47.380Z"
   },
   {
    "duration": 15,
    "start_time": "2022-06-30T21:24:47.392Z"
   },
   {
    "duration": 544,
    "start_time": "2022-06-30T21:24:47.410Z"
   },
   {
    "duration": 11271,
    "start_time": "2022-06-30T21:24:47.957Z"
   },
   {
    "duration": 996,
    "start_time": "2022-06-30T21:24:59.231Z"
   },
   {
    "duration": 2915,
    "start_time": "2022-06-30T21:25:00.229Z"
   },
   {
    "duration": 492,
    "start_time": "2022-06-30T21:25:03.145Z"
   },
   {
    "duration": 36567,
    "start_time": "2022-06-30T21:25:03.640Z"
   },
   {
    "duration": 490,
    "start_time": "2022-06-30T21:25:40.208Z"
   },
   {
    "duration": 1711,
    "start_time": "2022-06-30T21:27:31.616Z"
   },
   {
    "duration": 808,
    "start_time": "2022-06-30T21:27:33.329Z"
   },
   {
    "duration": 34,
    "start_time": "2022-06-30T21:27:34.139Z"
   },
   {
    "duration": 255,
    "start_time": "2022-06-30T21:27:34.175Z"
   },
   {
    "duration": 5,
    "start_time": "2022-06-30T21:27:34.433Z"
   },
   {
    "duration": 107,
    "start_time": "2022-06-30T21:27:34.440Z"
   },
   {
    "duration": 1863,
    "start_time": "2022-06-30T21:27:34.549Z"
   },
   {
    "duration": 22,
    "start_time": "2022-06-30T21:27:36.414Z"
   },
   {
    "duration": 21,
    "start_time": "2022-06-30T21:27:36.438Z"
   },
   {
    "duration": 12,
    "start_time": "2022-06-30T21:27:36.460Z"
   },
   {
    "duration": 110,
    "start_time": "2022-06-30T21:27:36.473Z"
   },
   {
    "duration": 187,
    "start_time": "2022-06-30T21:27:36.585Z"
   },
   {
    "duration": 7,
    "start_time": "2022-06-30T21:27:36.774Z"
   },
   {
    "duration": 7325,
    "start_time": "2022-06-30T21:27:36.784Z"
   },
   {
    "duration": 3,
    "start_time": "2022-06-30T21:27:44.111Z"
   },
   {
    "duration": 632,
    "start_time": "2022-06-30T21:27:44.116Z"
   },
   {
    "duration": 10,
    "start_time": "2022-06-30T21:27:44.750Z"
   },
   {
    "duration": 9,
    "start_time": "2022-06-30T21:27:44.762Z"
   },
   {
    "duration": 7,
    "start_time": "2022-06-30T21:27:44.773Z"
   },
   {
    "duration": 46,
    "start_time": "2022-06-30T21:27:44.782Z"
   },
   {
    "duration": 15,
    "start_time": "2022-06-30T21:27:44.830Z"
   },
   {
    "duration": 246,
    "start_time": "2022-06-30T21:27:44.847Z"
   },
   {
    "duration": 9,
    "start_time": "2022-06-30T21:27:45.094Z"
   },
   {
    "duration": 26,
    "start_time": "2022-06-30T21:27:45.105Z"
   },
   {
    "duration": 11,
    "start_time": "2022-06-30T21:27:45.133Z"
   },
   {
    "duration": 570,
    "start_time": "2022-06-30T21:27:45.146Z"
   },
   {
    "duration": 7202,
    "start_time": "2022-06-30T21:27:45.726Z"
   },
   {
    "duration": 1036,
    "start_time": "2022-06-30T21:27:52.931Z"
   },
   {
    "duration": 3177,
    "start_time": "2022-06-30T21:27:53.969Z"
   },
   {
    "duration": 459,
    "start_time": "2022-06-30T21:27:57.147Z"
   },
   {
    "duration": 30552,
    "start_time": "2022-06-30T21:27:57.608Z"
   },
   {
    "duration": 447,
    "start_time": "2022-06-30T21:28:28.162Z"
   },
   {
    "duration": 328668,
    "start_time": "2022-06-30T21:28:28.610Z"
   },
   {
    "duration": 12,
    "start_time": "2022-06-30T21:33:57.279Z"
   },
   {
    "duration": 0,
    "start_time": "2022-06-30T21:33:57.293Z"
   },
   {
    "duration": 0,
    "start_time": "2022-06-30T21:33:57.294Z"
   },
   {
    "duration": 0,
    "start_time": "2022-06-30T21:33:57.296Z"
   },
   {
    "duration": 0,
    "start_time": "2022-06-30T21:33:57.297Z"
   },
   {
    "duration": 0,
    "start_time": "2022-06-30T21:33:57.298Z"
   },
   {
    "duration": 0,
    "start_time": "2022-06-30T21:33:57.300Z"
   },
   {
    "duration": 0,
    "start_time": "2022-06-30T21:33:57.300Z"
   },
   {
    "duration": 9733,
    "start_time": "2022-06-30T21:34:14.404Z"
   },
   {
    "duration": 965,
    "start_time": "2022-06-30T21:34:49.173Z"
   },
   {
    "duration": 10316,
    "start_time": "2022-06-30T21:35:12.410Z"
   },
   {
    "duration": 1018,
    "start_time": "2022-06-30T21:35:22.729Z"
   },
   {
    "duration": 1661,
    "start_time": "2022-06-30T21:36:37.452Z"
   },
   {
    "duration": 807,
    "start_time": "2022-06-30T21:36:39.115Z"
   },
   {
    "duration": 33,
    "start_time": "2022-06-30T21:36:39.924Z"
   },
   {
    "duration": 251,
    "start_time": "2022-06-30T21:36:39.960Z"
   },
   {
    "duration": 15,
    "start_time": "2022-06-30T21:36:40.213Z"
   },
   {
    "duration": 105,
    "start_time": "2022-06-30T21:36:40.229Z"
   },
   {
    "duration": 1743,
    "start_time": "2022-06-30T21:36:40.336Z"
   },
   {
    "duration": 14,
    "start_time": "2022-06-30T21:36:42.081Z"
   },
   {
    "duration": 36,
    "start_time": "2022-06-30T21:36:42.097Z"
   },
   {
    "duration": 13,
    "start_time": "2022-06-30T21:36:42.135Z"
   },
   {
    "duration": 112,
    "start_time": "2022-06-30T21:36:42.149Z"
   },
   {
    "duration": 204,
    "start_time": "2022-06-30T21:36:42.263Z"
   },
   {
    "duration": 8,
    "start_time": "2022-06-30T21:36:42.469Z"
   },
   {
    "duration": 7262,
    "start_time": "2022-06-30T21:36:42.479Z"
   },
   {
    "duration": 4,
    "start_time": "2022-06-30T21:36:49.742Z"
   },
   {
    "duration": 623,
    "start_time": "2022-06-30T21:36:49.748Z"
   },
   {
    "duration": 60,
    "start_time": "2022-06-30T21:36:50.374Z"
   },
   {
    "duration": 10,
    "start_time": "2022-06-30T21:36:50.436Z"
   },
   {
    "duration": 7,
    "start_time": "2022-06-30T21:36:50.447Z"
   },
   {
    "duration": 9,
    "start_time": "2022-06-30T21:36:50.456Z"
   },
   {
    "duration": 14,
    "start_time": "2022-06-30T21:36:50.467Z"
   },
   {
    "duration": 226,
    "start_time": "2022-06-30T21:36:50.483Z"
   },
   {
    "duration": 8,
    "start_time": "2022-06-30T21:36:50.711Z"
   },
   {
    "duration": 15,
    "start_time": "2022-06-30T21:36:50.721Z"
   },
   {
    "duration": 15,
    "start_time": "2022-06-30T21:36:50.738Z"
   },
   {
    "duration": 529,
    "start_time": "2022-06-30T21:36:50.755Z"
   },
   {
    "duration": 11342,
    "start_time": "2022-06-30T21:36:51.299Z"
   },
   {
    "duration": 1007,
    "start_time": "2022-06-30T21:37:02.733Z"
   },
   {
    "duration": 2888,
    "start_time": "2022-06-30T21:37:03.742Z"
   },
   {
    "duration": 501,
    "start_time": "2022-06-30T21:37:06.632Z"
   },
   {
    "duration": 32755,
    "start_time": "2022-06-30T21:37:07.135Z"
   },
   {
    "duration": 466,
    "start_time": "2022-06-30T21:37:39.891Z"
   },
   {
    "duration": 1723,
    "start_time": "2022-06-30T21:45:57.284Z"
   },
   {
    "duration": 827,
    "start_time": "2022-06-30T21:45:59.009Z"
   },
   {
    "duration": 33,
    "start_time": "2022-06-30T21:45:59.839Z"
   },
   {
    "duration": 264,
    "start_time": "2022-06-30T21:45:59.874Z"
   },
   {
    "duration": 6,
    "start_time": "2022-06-30T21:46:00.140Z"
   },
   {
    "duration": 115,
    "start_time": "2022-06-30T21:46:00.147Z"
   },
   {
    "duration": 1820,
    "start_time": "2022-06-30T21:46:00.264Z"
   },
   {
    "duration": 14,
    "start_time": "2022-06-30T21:46:02.085Z"
   },
   {
    "duration": 33,
    "start_time": "2022-06-30T21:46:02.100Z"
   },
   {
    "duration": 13,
    "start_time": "2022-06-30T21:46:02.135Z"
   },
   {
    "duration": 102,
    "start_time": "2022-06-30T21:46:02.150Z"
   },
   {
    "duration": 200,
    "start_time": "2022-06-30T21:46:02.254Z"
   },
   {
    "duration": 7,
    "start_time": "2022-06-30T21:46:02.456Z"
   },
   {
    "duration": 7294,
    "start_time": "2022-06-30T21:46:02.465Z"
   },
   {
    "duration": 5,
    "start_time": "2022-06-30T21:46:09.761Z"
   },
   {
    "duration": 660,
    "start_time": "2022-06-30T21:46:09.768Z"
   },
   {
    "duration": 12,
    "start_time": "2022-06-30T21:46:10.430Z"
   },
   {
    "duration": 10,
    "start_time": "2022-06-30T21:46:10.443Z"
   },
   {
    "duration": 5,
    "start_time": "2022-06-30T21:46:10.455Z"
   },
   {
    "duration": 7,
    "start_time": "2022-06-30T21:46:10.461Z"
   },
   {
    "duration": 12,
    "start_time": "2022-06-30T21:46:10.469Z"
   },
   {
    "duration": 15,
    "start_time": "2022-06-30T21:46:10.483Z"
   },
   {
    "duration": 10,
    "start_time": "2022-06-30T21:46:10.528Z"
   },
   {
    "duration": 1028,
    "start_time": "2022-06-30T21:46:10.539Z"
   },
   {
    "duration": 8,
    "start_time": "2022-06-30T21:46:11.569Z"
   },
   {
    "duration": 15,
    "start_time": "2022-06-30T21:46:11.578Z"
   },
   {
    "duration": 11,
    "start_time": "2022-06-30T21:46:11.594Z"
   },
   {
    "duration": 535,
    "start_time": "2022-06-30T21:46:11.608Z"
   },
   {
    "duration": 27182,
    "start_time": "2022-06-30T21:46:12.145Z"
   },
   {
    "duration": 1010,
    "start_time": "2022-06-30T21:46:39.330Z"
   },
   {
    "duration": 6689,
    "start_time": "2022-06-30T21:46:40.342Z"
   },
   {
    "duration": 486,
    "start_time": "2022-06-30T21:46:47.032Z"
   },
   {
    "duration": 1752,
    "start_time": "2022-06-30T21:47:40.690Z"
   },
   {
    "duration": 816,
    "start_time": "2022-06-30T21:47:42.444Z"
   },
   {
    "duration": 37,
    "start_time": "2022-06-30T21:47:43.262Z"
   },
   {
    "duration": 268,
    "start_time": "2022-06-30T21:47:43.301Z"
   },
   {
    "duration": 6,
    "start_time": "2022-06-30T21:47:43.571Z"
   },
   {
    "duration": 115,
    "start_time": "2022-06-30T21:47:43.578Z"
   },
   {
    "duration": 1857,
    "start_time": "2022-06-30T21:47:43.694Z"
   },
   {
    "duration": 15,
    "start_time": "2022-06-30T21:47:45.552Z"
   },
   {
    "duration": 23,
    "start_time": "2022-06-30T21:47:45.569Z"
   },
   {
    "duration": 7,
    "start_time": "2022-06-30T21:47:45.595Z"
   },
   {
    "duration": 112,
    "start_time": "2022-06-30T21:47:45.603Z"
   },
   {
    "duration": 122,
    "start_time": "2022-06-30T21:47:45.726Z"
   },
   {
    "duration": 8,
    "start_time": "2022-06-30T21:47:45.850Z"
   },
   {
    "duration": 1799,
    "start_time": "2022-07-01T07:29:54.123Z"
   },
   {
    "duration": 2051,
    "start_time": "2022-07-01T07:29:55.924Z"
   },
   {
    "duration": 32,
    "start_time": "2022-07-01T07:29:57.977Z"
   },
   {
    "duration": 244,
    "start_time": "2022-07-01T07:29:58.011Z"
   },
   {
    "duration": 12,
    "start_time": "2022-07-01T07:29:58.256Z"
   },
   {
    "duration": 100,
    "start_time": "2022-07-01T07:29:58.270Z"
   },
   {
    "duration": 1754,
    "start_time": "2022-07-01T07:29:58.372Z"
   },
   {
    "duration": 14,
    "start_time": "2022-07-01T07:30:00.128Z"
   },
   {
    "duration": 40,
    "start_time": "2022-07-01T07:30:00.144Z"
   },
   {
    "duration": 13,
    "start_time": "2022-07-01T07:30:00.187Z"
   },
   {
    "duration": 100,
    "start_time": "2022-07-01T07:30:00.202Z"
   },
   {
    "duration": 425,
    "start_time": "2022-07-01T07:30:00.305Z"
   },
   {
    "duration": 7,
    "start_time": "2022-07-01T07:30:00.731Z"
   },
   {
    "duration": 15247,
    "start_time": "2022-07-01T07:30:00.739Z"
   },
   {
    "duration": 0,
    "start_time": "2022-07-01T07:30:15.988Z"
   },
   {
    "duration": 0,
    "start_time": "2022-07-01T07:30:15.990Z"
   },
   {
    "duration": 0,
    "start_time": "2022-07-01T07:30:15.991Z"
   },
   {
    "duration": 0,
    "start_time": "2022-07-01T07:30:15.992Z"
   },
   {
    "duration": 0,
    "start_time": "2022-07-01T07:30:15.993Z"
   },
   {
    "duration": 0,
    "start_time": "2022-07-01T07:30:15.994Z"
   },
   {
    "duration": 0,
    "start_time": "2022-07-01T07:30:15.995Z"
   },
   {
    "duration": 0,
    "start_time": "2022-07-01T07:30:15.996Z"
   },
   {
    "duration": 0,
    "start_time": "2022-07-01T07:30:15.997Z"
   },
   {
    "duration": 0,
    "start_time": "2022-07-01T07:30:15.998Z"
   },
   {
    "duration": 0,
    "start_time": "2022-07-01T07:30:15.999Z"
   },
   {
    "duration": 0,
    "start_time": "2022-07-01T07:30:16.001Z"
   },
   {
    "duration": 0,
    "start_time": "2022-07-01T07:30:16.002Z"
   },
   {
    "duration": 0,
    "start_time": "2022-07-01T07:30:16.002Z"
   },
   {
    "duration": 0,
    "start_time": "2022-07-01T07:30:16.003Z"
   },
   {
    "duration": 0,
    "start_time": "2022-07-01T07:30:16.004Z"
   },
   {
    "duration": 0,
    "start_time": "2022-07-01T07:30:16.006Z"
   },
   {
    "duration": 0,
    "start_time": "2022-07-01T07:30:16.007Z"
   },
   {
    "duration": 0,
    "start_time": "2022-07-01T07:30:16.008Z"
   },
   {
    "duration": 0,
    "start_time": "2022-07-01T07:30:16.009Z"
   },
   {
    "duration": 0,
    "start_time": "2022-07-01T07:30:16.010Z"
   },
   {
    "duration": 0,
    "start_time": "2022-07-01T07:30:16.011Z"
   },
   {
    "duration": 0,
    "start_time": "2022-07-01T07:30:16.012Z"
   },
   {
    "duration": 0,
    "start_time": "2022-07-01T07:30:16.013Z"
   },
   {
    "duration": 0,
    "start_time": "2022-07-01T07:30:16.014Z"
   },
   {
    "duration": 0,
    "start_time": "2022-07-01T07:30:16.015Z"
   },
   {
    "duration": 1,
    "start_time": "2022-07-01T07:30:16.016Z"
   },
   {
    "duration": 1,
    "start_time": "2022-07-01T07:30:16.017Z"
   },
   {
    "duration": 0,
    "start_time": "2022-07-01T07:30:16.019Z"
   },
   {
    "duration": 1651,
    "start_time": "2022-07-01T07:37:15.157Z"
   },
   {
    "duration": 684,
    "start_time": "2022-07-01T07:37:16.810Z"
   },
   {
    "duration": 30,
    "start_time": "2022-07-01T07:37:17.495Z"
   },
   {
    "duration": 251,
    "start_time": "2022-07-01T07:37:17.527Z"
   },
   {
    "duration": 5,
    "start_time": "2022-07-01T07:37:17.780Z"
   },
   {
    "duration": 110,
    "start_time": "2022-07-01T07:37:17.787Z"
   },
   {
    "duration": 1839,
    "start_time": "2022-07-01T07:37:17.898Z"
   },
   {
    "duration": 14,
    "start_time": "2022-07-01T07:37:19.739Z"
   },
   {
    "duration": 31,
    "start_time": "2022-07-01T07:37:19.755Z"
   },
   {
    "duration": 13,
    "start_time": "2022-07-01T07:37:19.788Z"
   },
   {
    "duration": 112,
    "start_time": "2022-07-01T07:37:19.803Z"
   },
   {
    "duration": 122,
    "start_time": "2022-07-01T07:37:19.917Z"
   },
   {
    "duration": 7,
    "start_time": "2022-07-01T07:37:20.041Z"
   },
   {
    "duration": 59368,
    "start_time": "2022-07-01T07:37:20.051Z"
   },
   {
    "duration": 6,
    "start_time": "2022-07-01T07:38:19.421Z"
   },
   {
    "duration": 5278,
    "start_time": "2022-07-01T07:38:19.429Z"
   },
   {
    "duration": 12,
    "start_time": "2022-07-01T07:38:24.709Z"
   },
   {
    "duration": 49,
    "start_time": "2022-07-01T07:38:24.723Z"
   },
   {
    "duration": 11,
    "start_time": "2022-07-01T07:38:24.773Z"
   },
   {
    "duration": 13,
    "start_time": "2022-07-01T07:38:24.785Z"
   },
   {
    "duration": 23,
    "start_time": "2022-07-01T07:38:24.799Z"
   },
   {
    "duration": 3,
    "start_time": "2022-07-01T07:38:24.823Z"
   },
   {
    "duration": 1972,
    "start_time": "2022-07-01T07:38:24.828Z"
   },
   {
    "duration": 9,
    "start_time": "2022-07-01T07:38:26.802Z"
   },
   {
    "duration": 11,
    "start_time": "2022-07-01T07:38:26.813Z"
   },
   {
    "duration": 10,
    "start_time": "2022-07-01T07:38:26.826Z"
   },
   {
    "duration": 545,
    "start_time": "2022-07-01T07:38:26.838Z"
   },
   {
    "duration": 51963,
    "start_time": "2022-07-01T07:38:27.386Z"
   },
   {
    "duration": 1021,
    "start_time": "2022-07-01T07:39:19.351Z"
   },
   {
    "duration": 36546,
    "start_time": "2022-07-01T07:39:20.374Z"
   },
   {
    "duration": 456,
    "start_time": "2022-07-01T07:39:56.922Z"
   },
   {
    "duration": 343842,
    "start_time": "2022-07-01T07:39:57.381Z"
   },
   {
    "duration": 487,
    "start_time": "2022-07-01T07:45:41.225Z"
   },
   {
    "duration": 1818,
    "start_time": "2022-07-01T07:48:47.583Z"
   },
   {
    "duration": 713,
    "start_time": "2022-07-01T07:48:49.403Z"
   },
   {
    "duration": 32,
    "start_time": "2022-07-01T07:48:50.117Z"
   },
   {
    "duration": 251,
    "start_time": "2022-07-01T07:48:50.152Z"
   },
   {
    "duration": 6,
    "start_time": "2022-07-01T07:48:50.405Z"
   },
   {
    "duration": 115,
    "start_time": "2022-07-01T07:48:50.412Z"
   },
   {
    "duration": 1780,
    "start_time": "2022-07-01T07:48:50.528Z"
   },
   {
    "duration": 14,
    "start_time": "2022-07-01T07:48:52.310Z"
   },
   {
    "duration": 21,
    "start_time": "2022-07-01T07:48:52.326Z"
   },
   {
    "duration": 15,
    "start_time": "2022-07-01T07:48:52.366Z"
   },
   {
    "duration": 115,
    "start_time": "2022-07-01T07:48:52.383Z"
   },
   {
    "duration": 193,
    "start_time": "2022-07-01T07:48:52.499Z"
   },
   {
    "duration": 8,
    "start_time": "2022-07-01T07:48:52.693Z"
   },
   {
    "duration": 57920,
    "start_time": "2022-07-01T07:48:52.702Z"
   },
   {
    "duration": 5,
    "start_time": "2022-07-01T07:49:50.624Z"
   },
   {
    "duration": 5085,
    "start_time": "2022-07-01T07:49:50.631Z"
   },
   {
    "duration": 57,
    "start_time": "2022-07-01T07:49:55.718Z"
   },
   {
    "duration": 14,
    "start_time": "2022-07-01T07:49:55.776Z"
   },
   {
    "duration": 10,
    "start_time": "2022-07-01T07:49:55.791Z"
   },
   {
    "duration": 14,
    "start_time": "2022-07-01T07:49:55.804Z"
   },
   {
    "duration": 23,
    "start_time": "2022-07-01T07:49:55.819Z"
   },
   {
    "duration": 3,
    "start_time": "2022-07-01T07:49:55.844Z"
   },
   {
    "duration": 76,
    "start_time": "2022-07-01T07:49:55.849Z"
   },
   {
    "duration": 0,
    "start_time": "2022-07-01T07:49:55.927Z"
   },
   {
    "duration": 0,
    "start_time": "2022-07-01T07:49:55.928Z"
   },
   {
    "duration": 0,
    "start_time": "2022-07-01T07:49:55.929Z"
   },
   {
    "duration": 0,
    "start_time": "2022-07-01T07:49:55.930Z"
   },
   {
    "duration": 0,
    "start_time": "2022-07-01T07:49:55.931Z"
   },
   {
    "duration": 0,
    "start_time": "2022-07-01T07:49:55.931Z"
   },
   {
    "duration": 0,
    "start_time": "2022-07-01T07:49:55.932Z"
   },
   {
    "duration": 0,
    "start_time": "2022-07-01T07:49:55.933Z"
   },
   {
    "duration": 0,
    "start_time": "2022-07-01T07:49:55.934Z"
   },
   {
    "duration": 0,
    "start_time": "2022-07-01T07:49:55.935Z"
   },
   {
    "duration": 0,
    "start_time": "2022-07-01T07:49:55.936Z"
   },
   {
    "duration": 0,
    "start_time": "2022-07-01T07:49:55.937Z"
   },
   {
    "duration": 0,
    "start_time": "2022-07-01T07:49:55.938Z"
   },
   {
    "duration": 0,
    "start_time": "2022-07-01T07:49:55.939Z"
   },
   {
    "duration": 0,
    "start_time": "2022-07-01T07:49:55.940Z"
   },
   {
    "duration": 0,
    "start_time": "2022-07-01T07:49:55.941Z"
   },
   {
    "duration": 0,
    "start_time": "2022-07-01T07:49:55.942Z"
   },
   {
    "duration": 0,
    "start_time": "2022-07-01T07:49:55.943Z"
   },
   {
    "duration": 0,
    "start_time": "2022-07-01T07:49:55.944Z"
   },
   {
    "duration": 0,
    "start_time": "2022-07-01T07:49:55.945Z"
   },
   {
    "duration": 2493,
    "start_time": "2022-07-01T07:50:47.575Z"
   },
   {
    "duration": 1621,
    "start_time": "2022-07-01T07:53:00.515Z"
   },
   {
    "duration": 1639,
    "start_time": "2022-07-01T07:53:29.392Z"
   },
   {
    "duration": 2159,
    "start_time": "2022-07-01T08:15:09.850Z"
   },
   {
    "duration": 5,
    "start_time": "2022-07-01T08:15:26.529Z"
   },
   {
    "duration": 10,
    "start_time": "2022-07-01T08:15:27.433Z"
   },
   {
    "duration": 8,
    "start_time": "2022-07-01T08:15:28.782Z"
   },
   {
    "duration": 508,
    "start_time": "2022-07-01T08:15:29.277Z"
   },
   {
    "duration": 47637,
    "start_time": "2022-07-01T08:15:31.731Z"
   },
   {
    "duration": 1006,
    "start_time": "2022-07-01T08:16:19.370Z"
   },
   {
    "duration": 58019,
    "start_time": "2022-07-01T08:18:38.748Z"
   },
   {
    "duration": 1001,
    "start_time": "2022-07-01T08:19:36.769Z"
   },
   {
    "duration": 135317,
    "start_time": "2022-07-01T08:20:18.465Z"
   },
   {
    "duration": 1023,
    "start_time": "2022-07-01T08:22:33.872Z"
   },
   {
    "duration": 101609,
    "start_time": "2022-07-01T08:23:34.874Z"
   },
   {
    "duration": 1017,
    "start_time": "2022-07-01T08:25:16.568Z"
   },
   {
    "duration": 29969,
    "start_time": "2022-07-01T08:25:17.587Z"
   },
   {
    "duration": 521,
    "start_time": "2022-07-01T08:25:47.558Z"
   },
   {
    "duration": 317407,
    "start_time": "2022-07-01T08:25:48.080Z"
   },
   {
    "duration": 495,
    "start_time": "2022-07-01T08:31:05.489Z"
   },
   {
    "duration": 242,
    "start_time": "2022-07-01T08:31:05.986Z"
   },
   {
    "duration": 13,
    "start_time": "2022-07-01T08:31:06.230Z"
   },
   {
    "duration": 502,
    "start_time": "2022-07-01T08:31:06.244Z"
   },
   {
    "duration": 48525,
    "start_time": "2022-07-01T08:31:06.747Z"
   },
   {
    "duration": 1099,
    "start_time": "2022-07-01T08:31:55.274Z"
   },
   {
    "duration": 52,
    "start_time": "2022-07-01T08:47:22.528Z"
   },
   {
    "duration": 52,
    "start_time": "2022-07-01T08:47:29.920Z"
   },
   {
    "duration": 13,
    "start_time": "2022-07-01T08:47:40.118Z"
   },
   {
    "duration": 12,
    "start_time": "2022-07-01T08:50:16.262Z"
   },
   {
    "duration": 4,
    "start_time": "2022-07-01T08:52:00.898Z"
   },
   {
    "duration": 14,
    "start_time": "2022-07-01T08:52:10.668Z"
   },
   {
    "duration": 11,
    "start_time": "2022-07-01T08:54:24.748Z"
   },
   {
    "duration": 9,
    "start_time": "2022-07-01T08:55:05.818Z"
   },
   {
    "duration": 87,
    "start_time": "2022-07-01T09:08:29.384Z"
   },
   {
    "duration": 95,
    "start_time": "2022-07-01T09:13:10.817Z"
   },
   {
    "duration": 93,
    "start_time": "2022-07-01T09:13:34.608Z"
   },
   {
    "duration": 32,
    "start_time": "2022-07-01T09:15:04.551Z"
   },
   {
    "duration": 70,
    "start_time": "2022-07-01T09:15:22.452Z"
   },
   {
    "duration": 59,
    "start_time": "2022-07-01T09:15:37.052Z"
   },
   {
    "duration": 77,
    "start_time": "2022-07-01T09:15:48.580Z"
   },
   {
    "duration": 86,
    "start_time": "2022-07-01T09:16:05.954Z"
   },
   {
    "duration": 78,
    "start_time": "2022-07-01T09:19:20.526Z"
   },
   {
    "duration": 94,
    "start_time": "2022-07-01T09:19:44.784Z"
   },
   {
    "duration": 102,
    "start_time": "2022-07-01T09:20:11.154Z"
   },
   {
    "duration": 1795,
    "start_time": "2022-07-01T10:21:29.873Z"
   },
   {
    "duration": 780,
    "start_time": "2022-07-01T10:21:31.670Z"
   },
   {
    "duration": 39,
    "start_time": "2022-07-01T10:21:32.452Z"
   },
   {
    "duration": 249,
    "start_time": "2022-07-01T10:21:32.493Z"
   },
   {
    "duration": 6,
    "start_time": "2022-07-01T10:21:32.744Z"
   },
   {
    "duration": 118,
    "start_time": "2022-07-01T10:21:32.752Z"
   },
   {
    "duration": 1808,
    "start_time": "2022-07-01T10:21:32.872Z"
   },
   {
    "duration": 17,
    "start_time": "2022-07-01T10:21:34.684Z"
   },
   {
    "duration": 28,
    "start_time": "2022-07-01T10:21:34.704Z"
   },
   {
    "duration": 35,
    "start_time": "2022-07-01T10:21:34.735Z"
   },
   {
    "duration": 99,
    "start_time": "2022-07-01T10:21:34.772Z"
   },
   {
    "duration": 132,
    "start_time": "2022-07-01T10:21:34.872Z"
   },
   {
    "duration": 7,
    "start_time": "2022-07-01T10:21:35.006Z"
   },
   {
    "duration": 65361,
    "start_time": "2022-07-01T10:21:35.015Z"
   },
   {
    "duration": 7,
    "start_time": "2022-07-01T10:22:40.378Z"
   },
   {
    "duration": 5696,
    "start_time": "2022-07-01T10:22:40.386Z"
   },
   {
    "duration": 12,
    "start_time": "2022-07-01T10:22:46.085Z"
   },
   {
    "duration": 17,
    "start_time": "2022-07-01T10:22:46.099Z"
   },
   {
    "duration": 5,
    "start_time": "2022-07-01T10:22:46.118Z"
   },
   {
    "duration": 12,
    "start_time": "2022-07-01T10:22:46.125Z"
   },
   {
    "duration": 33,
    "start_time": "2022-07-01T10:22:46.138Z"
   },
   {
    "duration": 3,
    "start_time": "2022-07-01T10:22:46.173Z"
   },
   {
    "duration": 2189,
    "start_time": "2022-07-01T10:22:46.178Z"
   },
   {
    "duration": 9,
    "start_time": "2022-07-01T10:22:48.369Z"
   },
   {
    "duration": 13,
    "start_time": "2022-07-01T10:22:48.379Z"
   },
   {
    "duration": 19,
    "start_time": "2022-07-01T10:22:48.394Z"
   },
   {
    "duration": 640,
    "start_time": "2022-07-01T10:22:48.417Z"
   },
   {
    "duration": 13,
    "start_time": "2022-07-01T10:22:49.062Z"
   },
   {
    "duration": 197,
    "start_time": "2022-07-01T10:22:49.077Z"
   },
   {
    "duration": 0,
    "start_time": "2022-07-01T10:22:49.276Z"
   },
   {
    "duration": 0,
    "start_time": "2022-07-01T10:22:49.278Z"
   },
   {
    "duration": 0,
    "start_time": "2022-07-01T10:22:49.279Z"
   },
   {
    "duration": 0,
    "start_time": "2022-07-01T10:22:49.281Z"
   },
   {
    "duration": 0,
    "start_time": "2022-07-01T10:22:49.283Z"
   },
   {
    "duration": 0,
    "start_time": "2022-07-01T10:22:49.285Z"
   },
   {
    "duration": 0,
    "start_time": "2022-07-01T10:22:49.286Z"
   },
   {
    "duration": 0,
    "start_time": "2022-07-01T10:22:49.288Z"
   },
   {
    "duration": 0,
    "start_time": "2022-07-01T10:22:49.289Z"
   },
   {
    "duration": 0,
    "start_time": "2022-07-01T10:22:49.292Z"
   },
   {
    "duration": 0,
    "start_time": "2022-07-01T10:22:49.293Z"
   },
   {
    "duration": 0,
    "start_time": "2022-07-01T10:22:49.295Z"
   },
   {
    "duration": 0,
    "start_time": "2022-07-01T10:22:49.296Z"
   },
   {
    "duration": 0,
    "start_time": "2022-07-01T10:22:49.297Z"
   },
   {
    "duration": 0,
    "start_time": "2022-07-01T10:22:49.299Z"
   },
   {
    "duration": 0,
    "start_time": "2022-07-01T10:22:49.300Z"
   },
   {
    "duration": 0,
    "start_time": "2022-07-01T10:22:49.302Z"
   },
   {
    "duration": 84468,
    "start_time": "2022-07-01T10:23:16.401Z"
   },
   {
    "duration": 1107,
    "start_time": "2022-07-01T10:24:40.875Z"
   },
   {
    "duration": 11,
    "start_time": "2022-07-01T10:53:27.030Z"
   },
   {
    "duration": 3,
    "start_time": "2022-07-01T10:53:36.188Z"
   },
   {
    "duration": 104,
    "start_time": "2022-07-01T11:02:22.088Z"
   },
   {
    "duration": 97,
    "start_time": "2022-07-01T11:02:59.206Z"
   },
   {
    "duration": 94,
    "start_time": "2022-07-01T11:07:31.934Z"
   },
   {
    "duration": 10,
    "start_time": "2022-07-01T11:08:01.265Z"
   },
   {
    "duration": 12,
    "start_time": "2022-07-01T11:08:17.773Z"
   },
   {
    "duration": 14,
    "start_time": "2022-07-01T11:08:28.246Z"
   },
   {
    "duration": 77,
    "start_time": "2022-07-01T11:12:10.519Z"
   },
   {
    "duration": 77,
    "start_time": "2022-07-01T11:13:09.258Z"
   },
   {
    "duration": 3,
    "start_time": "2022-07-01T11:13:53.249Z"
   },
   {
    "duration": 88,
    "start_time": "2022-07-01T11:13:55.065Z"
   },
   {
    "duration": 28,
    "start_time": "2022-07-01T11:16:58.183Z"
   },
   {
    "duration": 57,
    "start_time": "2022-07-01T11:17:33.722Z"
   },
   {
    "duration": 15,
    "start_time": "2022-07-01T11:20:59.021Z"
   },
   {
    "duration": 4,
    "start_time": "2022-07-01T11:21:09.677Z"
   },
   {
    "duration": 71,
    "start_time": "2022-07-01T11:21:10.500Z"
   },
   {
    "duration": 12,
    "start_time": "2022-07-01T11:22:47.069Z"
   },
   {
    "duration": 154,
    "start_time": "2022-07-01T11:23:21.786Z"
   },
   {
    "duration": 4,
    "start_time": "2022-07-01T11:29:38.525Z"
   },
   {
    "duration": 104,
    "start_time": "2022-07-01T11:29:39.346Z"
   },
   {
    "duration": 84,
    "start_time": "2022-07-01T11:30:25.869Z"
   },
   {
    "duration": 43657,
    "start_time": "2022-07-01T11:31:47.925Z"
   },
   {
    "duration": 1005,
    "start_time": "2022-07-01T11:32:31.669Z"
   },
   {
    "duration": 30804,
    "start_time": "2022-07-01T11:32:32.676Z"
   },
   {
    "duration": 456,
    "start_time": "2022-07-01T11:33:03.482Z"
   },
   {
    "duration": 333744,
    "start_time": "2022-07-01T11:33:03.940Z"
   },
   {
    "duration": 521,
    "start_time": "2022-07-01T11:38:37.686Z"
   },
   {
    "duration": 11,
    "start_time": "2022-07-01T11:38:38.209Z"
   },
   {
    "duration": 0,
    "start_time": "2022-07-01T11:38:38.222Z"
   },
   {
    "duration": 54018,
    "start_time": "2022-07-01T11:58:54.350Z"
   },
   {
    "duration": 1089,
    "start_time": "2022-07-01T11:59:48.370Z"
   },
   {
    "duration": 48375,
    "start_time": "2022-07-01T12:03:23.400Z"
   },
   {
    "duration": 1097,
    "start_time": "2022-07-01T12:04:11.777Z"
   },
   {
    "duration": 1935,
    "start_time": "2022-07-01T12:10:01.078Z"
   },
   {
    "duration": 727,
    "start_time": "2022-07-01T12:10:03.015Z"
   },
   {
    "duration": 38,
    "start_time": "2022-07-01T12:10:03.744Z"
   },
   {
    "duration": 247,
    "start_time": "2022-07-01T12:10:03.783Z"
   },
   {
    "duration": 6,
    "start_time": "2022-07-01T12:10:04.031Z"
   },
   {
    "duration": 121,
    "start_time": "2022-07-01T12:10:04.039Z"
   },
   {
    "duration": 1816,
    "start_time": "2022-07-01T12:10:04.167Z"
   },
   {
    "duration": 14,
    "start_time": "2022-07-01T12:10:05.984Z"
   },
   {
    "duration": 21,
    "start_time": "2022-07-01T12:10:05.999Z"
   },
   {
    "duration": 13,
    "start_time": "2022-07-01T12:10:06.022Z"
   },
   {
    "duration": 116,
    "start_time": "2022-07-01T12:10:06.037Z"
   },
   {
    "duration": 162,
    "start_time": "2022-07-01T12:10:06.155Z"
   },
   {
    "duration": 7,
    "start_time": "2022-07-01T12:10:06.319Z"
   },
   {
    "duration": 60267,
    "start_time": "2022-07-01T12:10:06.328Z"
   },
   {
    "duration": 6,
    "start_time": "2022-07-01T12:11:06.596Z"
   },
   {
    "duration": 4787,
    "start_time": "2022-07-01T12:11:06.603Z"
   },
   {
    "duration": 11,
    "start_time": "2022-07-01T12:11:11.392Z"
   },
   {
    "duration": 12,
    "start_time": "2022-07-01T12:11:11.405Z"
   },
   {
    "duration": 11,
    "start_time": "2022-07-01T12:11:11.419Z"
   },
   {
    "duration": 41,
    "start_time": "2022-07-01T12:11:11.431Z"
   },
   {
    "duration": 26,
    "start_time": "2022-07-01T12:11:11.473Z"
   },
   {
    "duration": 3,
    "start_time": "2022-07-01T12:11:11.501Z"
   },
   {
    "duration": 2053,
    "start_time": "2022-07-01T12:11:11.505Z"
   },
   {
    "duration": 11,
    "start_time": "2022-07-01T12:11:13.560Z"
   },
   {
    "duration": 24,
    "start_time": "2022-07-01T12:11:13.573Z"
   },
   {
    "duration": 18,
    "start_time": "2022-07-01T12:11:13.598Z"
   },
   {
    "duration": 571,
    "start_time": "2022-07-01T12:11:13.618Z"
   },
   {
    "duration": 43574,
    "start_time": "2022-07-01T12:11:14.193Z"
   },
   {
    "duration": 1027,
    "start_time": "2022-07-01T12:11:57.769Z"
   },
   {
    "duration": 34694,
    "start_time": "2022-07-01T12:11:58.798Z"
   },
   {
    "duration": 506,
    "start_time": "2022-07-01T12:12:33.495Z"
   },
   {
    "duration": 310948,
    "start_time": "2022-07-01T12:12:34.003Z"
   },
   {
    "duration": 477,
    "start_time": "2022-07-01T12:17:44.953Z"
   },
   {
    "duration": 158,
    "start_time": "2022-07-01T12:17:45.431Z"
   },
   {
    "duration": 0,
    "start_time": "2022-07-01T12:17:45.591Z"
   },
   {
    "duration": 0,
    "start_time": "2022-07-01T12:17:45.593Z"
   },
   {
    "duration": 0,
    "start_time": "2022-07-01T12:17:45.594Z"
   },
   {
    "duration": 0,
    "start_time": "2022-07-01T12:17:45.596Z"
   },
   {
    "duration": 0,
    "start_time": "2022-07-01T12:17:45.598Z"
   },
   {
    "duration": 0,
    "start_time": "2022-07-01T12:17:45.599Z"
   },
   {
    "duration": 0,
    "start_time": "2022-07-01T12:17:45.601Z"
   },
   {
    "duration": 0,
    "start_time": "2022-07-01T12:17:45.602Z"
   },
   {
    "duration": 0,
    "start_time": "2022-07-01T12:17:45.607Z"
   },
   {
    "duration": 2884,
    "start_time": "2022-07-01T21:02:56.021Z"
   },
   {
    "duration": 4294,
    "start_time": "2022-07-01T21:02:58.908Z"
   },
   {
    "duration": 35,
    "start_time": "2022-07-01T21:03:03.204Z"
   },
   {
    "duration": 295,
    "start_time": "2022-07-01T21:03:03.242Z"
   },
   {
    "duration": 10,
    "start_time": "2022-07-01T21:03:03.541Z"
   },
   {
    "duration": 177,
    "start_time": "2022-07-01T21:03:03.557Z"
   },
   {
    "duration": 2314,
    "start_time": "2022-07-01T21:03:03.736Z"
   },
   {
    "duration": 16,
    "start_time": "2022-07-01T21:03:06.053Z"
   },
   {
    "duration": 51,
    "start_time": "2022-07-01T21:03:06.071Z"
   },
   {
    "duration": 15,
    "start_time": "2022-07-01T21:03:06.125Z"
   },
   {
    "duration": 117,
    "start_time": "2022-07-01T21:03:06.148Z"
   },
   {
    "duration": 702,
    "start_time": "2022-07-01T21:03:06.270Z"
   },
   {
    "duration": 11,
    "start_time": "2022-07-01T21:03:06.976Z"
   },
   {
    "duration": 79694,
    "start_time": "2022-07-01T21:03:06.989Z"
   },
   {
    "duration": 8,
    "start_time": "2022-07-01T21:04:26.686Z"
   },
   {
    "duration": 6897,
    "start_time": "2022-07-01T21:04:26.698Z"
   },
   {
    "duration": 43,
    "start_time": "2022-07-01T21:04:33.598Z"
   },
   {
    "duration": 35,
    "start_time": "2022-07-01T21:04:33.643Z"
   },
   {
    "duration": 8,
    "start_time": "2022-07-01T21:04:33.684Z"
   },
   {
    "duration": 9,
    "start_time": "2022-07-01T21:04:33.694Z"
   },
   {
    "duration": 18,
    "start_time": "2022-07-01T21:04:33.706Z"
   },
   {
    "duration": 4,
    "start_time": "2022-07-01T21:04:33.726Z"
   },
   {
    "duration": 2795,
    "start_time": "2022-07-01T21:04:33.732Z"
   },
   {
    "duration": 12,
    "start_time": "2022-07-01T21:04:36.529Z"
   },
   {
    "duration": 51,
    "start_time": "2022-07-01T21:04:36.543Z"
   },
   {
    "duration": 15,
    "start_time": "2022-07-01T21:04:36.597Z"
   },
   {
    "duration": 757,
    "start_time": "2022-07-01T21:04:36.614Z"
   },
   {
    "duration": 294,
    "start_time": "2022-07-01T21:04:37.386Z"
   },
   {
    "duration": 0,
    "start_time": "2022-07-01T21:04:37.682Z"
   },
   {
    "duration": 0,
    "start_time": "2022-07-01T21:04:37.683Z"
   },
   {
    "duration": 0,
    "start_time": "2022-07-01T21:04:37.683Z"
   },
   {
    "duration": 0,
    "start_time": "2022-07-01T21:04:37.684Z"
   },
   {
    "duration": 0,
    "start_time": "2022-07-01T21:04:37.684Z"
   },
   {
    "duration": 0,
    "start_time": "2022-07-01T21:04:37.685Z"
   },
   {
    "duration": 0,
    "start_time": "2022-07-01T21:04:37.686Z"
   },
   {
    "duration": 0,
    "start_time": "2022-07-01T21:04:37.686Z"
   },
   {
    "duration": 0,
    "start_time": "2022-07-01T21:04:37.687Z"
   },
   {
    "duration": 0,
    "start_time": "2022-07-01T21:04:37.702Z"
   },
   {
    "duration": 0,
    "start_time": "2022-07-01T21:04:37.710Z"
   },
   {
    "duration": 0,
    "start_time": "2022-07-01T21:04:37.712Z"
   },
   {
    "duration": 0,
    "start_time": "2022-07-01T21:04:37.716Z"
   },
   {
    "duration": 0,
    "start_time": "2022-07-01T21:04:37.717Z"
   },
   {
    "duration": 0,
    "start_time": "2022-07-01T21:04:37.719Z"
   },
   {
    "duration": 0,
    "start_time": "2022-07-01T21:04:37.720Z"
   },
   {
    "duration": 0,
    "start_time": "2022-07-01T21:04:37.721Z"
   },
   {
    "duration": 0,
    "start_time": "2022-07-01T21:04:37.722Z"
   },
   {
    "duration": 0,
    "start_time": "2022-07-01T21:04:37.724Z"
   },
   {
    "duration": 5,
    "start_time": "2022-07-01T21:09:13.201Z"
   },
   {
    "duration": 121,
    "start_time": "2022-07-01T21:09:14.389Z"
   },
   {
    "duration": 12,
    "start_time": "2022-07-01T21:10:06.866Z"
   },
   {
    "duration": 123,
    "start_time": "2022-07-01T21:10:07.585Z"
   },
   {
    "duration": 9,
    "start_time": "2022-07-01T21:11:59.777Z"
   },
   {
    "duration": 146,
    "start_time": "2022-07-01T21:12:01.030Z"
   },
   {
    "duration": 16,
    "start_time": "2022-07-01T21:12:02.398Z"
   },
   {
    "duration": 5,
    "start_time": "2022-07-01T21:31:47.126Z"
   },
   {
    "duration": 131,
    "start_time": "2022-07-01T21:31:56.300Z"
   },
   {
    "duration": 39,
    "start_time": "2022-07-01T21:32:12.987Z"
   },
   {
    "duration": 14,
    "start_time": "2022-07-01T21:32:14.863Z"
   },
   {
    "duration": 50,
    "start_time": "2022-07-01T21:35:53.869Z"
   },
   {
    "duration": 66,
    "start_time": "2022-07-01T21:36:47.817Z"
   },
   {
    "duration": 146,
    "start_time": "2022-07-01T21:36:57.172Z"
   },
   {
    "duration": 22,
    "start_time": "2022-07-01T21:37:33.272Z"
   },
   {
    "duration": 226394,
    "start_time": "2022-07-01T21:38:02.340Z"
   },
   {
    "duration": 941,
    "start_time": "2022-07-01T21:41:48.736Z"
   },
   {
    "duration": 1996,
    "start_time": "2022-07-01T21:45:12.009Z"
   },
   {
    "duration": 822,
    "start_time": "2022-07-01T21:45:14.007Z"
   },
   {
    "duration": 44,
    "start_time": "2022-07-01T21:45:14.831Z"
   },
   {
    "duration": 280,
    "start_time": "2022-07-01T21:45:14.877Z"
   },
   {
    "duration": 7,
    "start_time": "2022-07-01T21:45:15.166Z"
   },
   {
    "duration": 119,
    "start_time": "2022-07-01T21:45:15.175Z"
   },
   {
    "duration": 2191,
    "start_time": "2022-07-01T21:45:15.295Z"
   },
   {
    "duration": 14,
    "start_time": "2022-07-01T21:45:17.489Z"
   },
   {
    "duration": 20,
    "start_time": "2022-07-01T21:45:17.505Z"
   },
   {
    "duration": 25,
    "start_time": "2022-07-01T21:45:17.545Z"
   },
   {
    "duration": 113,
    "start_time": "2022-07-01T21:45:17.573Z"
   },
   {
    "duration": 183,
    "start_time": "2022-07-01T21:45:17.688Z"
   },
   {
    "duration": 8,
    "start_time": "2022-07-01T21:45:17.873Z"
   },
   {
    "duration": 72256,
    "start_time": "2022-07-01T21:45:17.883Z"
   },
   {
    "duration": 6,
    "start_time": "2022-07-01T21:46:30.141Z"
   },
   {
    "duration": 6626,
    "start_time": "2022-07-01T21:46:30.149Z"
   },
   {
    "duration": 14,
    "start_time": "2022-07-01T21:46:36.779Z"
   },
   {
    "duration": 18,
    "start_time": "2022-07-01T21:46:36.795Z"
   },
   {
    "duration": 61,
    "start_time": "2022-07-01T21:46:36.815Z"
   },
   {
    "duration": 28,
    "start_time": "2022-07-01T21:46:36.878Z"
   },
   {
    "duration": 22,
    "start_time": "2022-07-01T21:46:36.909Z"
   },
   {
    "duration": 4,
    "start_time": "2022-07-01T21:46:36.934Z"
   },
   {
    "duration": 57,
    "start_time": "2022-07-01T21:46:36.941Z"
   },
   {
    "duration": 20,
    "start_time": "2022-07-01T21:46:37.000Z"
   },
   {
    "duration": 36,
    "start_time": "2022-07-01T21:46:37.023Z"
   },
   {
    "duration": 665,
    "start_time": "2022-07-01T21:46:37.061Z"
   },
   {
    "duration": 17,
    "start_time": "2022-07-01T21:46:37.728Z"
   },
   {
    "duration": 184,
    "start_time": "2022-07-01T21:46:37.756Z"
   },
   {
    "duration": 0,
    "start_time": "2022-07-01T21:46:37.942Z"
   },
   {
    "duration": 0,
    "start_time": "2022-07-01T21:46:37.943Z"
   },
   {
    "duration": 0,
    "start_time": "2022-07-01T21:46:37.943Z"
   },
   {
    "duration": 0,
    "start_time": "2022-07-01T21:46:37.944Z"
   },
   {
    "duration": 0,
    "start_time": "2022-07-01T21:46:37.945Z"
   },
   {
    "duration": 0,
    "start_time": "2022-07-01T21:46:37.945Z"
   },
   {
    "duration": 0,
    "start_time": "2022-07-01T21:46:37.946Z"
   },
   {
    "duration": 0,
    "start_time": "2022-07-01T21:46:37.946Z"
   },
   {
    "duration": 0,
    "start_time": "2022-07-01T21:46:37.947Z"
   },
   {
    "duration": 0,
    "start_time": "2022-07-01T21:46:37.948Z"
   },
   {
    "duration": 0,
    "start_time": "2022-07-01T21:46:37.949Z"
   },
   {
    "duration": 0,
    "start_time": "2022-07-01T21:46:37.949Z"
   },
   {
    "duration": 0,
    "start_time": "2022-07-01T21:46:37.950Z"
   },
   {
    "duration": 0,
    "start_time": "2022-07-01T21:46:37.951Z"
   },
   {
    "duration": 0,
    "start_time": "2022-07-01T21:46:37.952Z"
   },
   {
    "duration": 0,
    "start_time": "2022-07-01T21:46:37.953Z"
   },
   {
    "duration": 0,
    "start_time": "2022-07-01T21:46:37.956Z"
   },
   {
    "duration": 0,
    "start_time": "2022-07-01T21:46:37.957Z"
   },
   {
    "duration": 0,
    "start_time": "2022-07-01T21:46:37.958Z"
   },
   {
    "duration": 238,
    "start_time": "2022-07-01T21:47:29.400Z"
   },
   {
    "duration": 232,
    "start_time": "2022-07-01T21:48:58.007Z"
   },
   {
    "duration": 315,
    "start_time": "2022-07-01T21:49:36.800Z"
   },
   {
    "duration": 300,
    "start_time": "2022-07-01T21:50:32.238Z"
   },
   {
    "duration": 410,
    "start_time": "2022-07-01T21:50:53.690Z"
   },
   {
    "duration": 669,
    "start_time": "2022-07-01T21:51:03.787Z"
   },
   {
    "duration": 14,
    "start_time": "2022-07-01T21:52:08.724Z"
   },
   {
    "duration": 26,
    "start_time": "2022-07-01T21:52:46.228Z"
   },
   {
    "duration": 15,
    "start_time": "2022-07-01T21:58:00.806Z"
   },
   {
    "duration": 2010,
    "start_time": "2022-07-01T21:59:13.410Z"
   },
   {
    "duration": 827,
    "start_time": "2022-07-01T21:59:15.423Z"
   },
   {
    "duration": 36,
    "start_time": "2022-07-01T21:59:16.251Z"
   },
   {
    "duration": 282,
    "start_time": "2022-07-01T21:59:16.289Z"
   },
   {
    "duration": 6,
    "start_time": "2022-07-01T21:59:16.573Z"
   },
   {
    "duration": 127,
    "start_time": "2022-07-01T21:59:16.581Z"
   },
   {
    "duration": 2263,
    "start_time": "2022-07-01T21:59:16.710Z"
   },
   {
    "duration": 18,
    "start_time": "2022-07-01T21:59:18.974Z"
   },
   {
    "duration": 22,
    "start_time": "2022-07-01T21:59:18.994Z"
   },
   {
    "duration": 37,
    "start_time": "2022-07-01T21:59:19.018Z"
   },
   {
    "duration": 129,
    "start_time": "2022-07-01T21:59:19.057Z"
   },
   {
    "duration": 197,
    "start_time": "2022-07-01T21:59:19.188Z"
   },
   {
    "duration": 8,
    "start_time": "2022-07-01T21:59:19.387Z"
   },
   {
    "duration": 73230,
    "start_time": "2022-07-01T21:59:19.397Z"
   },
   {
    "duration": 7,
    "start_time": "2022-07-01T22:00:32.629Z"
   },
   {
    "duration": 6239,
    "start_time": "2022-07-01T22:00:32.638Z"
   },
   {
    "duration": 17,
    "start_time": "2022-07-01T22:00:38.880Z"
   },
   {
    "duration": 17,
    "start_time": "2022-07-01T22:00:38.899Z"
   },
   {
    "duration": 5,
    "start_time": "2022-07-01T22:00:38.917Z"
   },
   {
    "duration": 54,
    "start_time": "2022-07-01T22:00:38.924Z"
   },
   {
    "duration": 16,
    "start_time": "2022-07-01T22:00:38.981Z"
   },
   {
    "duration": 3,
    "start_time": "2022-07-01T22:00:38.999Z"
   },
   {
    "duration": 16,
    "start_time": "2022-07-01T22:00:39.004Z"
   },
   {
    "duration": 8,
    "start_time": "2022-07-01T22:00:39.022Z"
   },
   {
    "duration": 26,
    "start_time": "2022-07-01T22:00:39.032Z"
   },
   {
    "duration": 312,
    "start_time": "2022-07-01T22:00:39.064Z"
   },
   {
    "duration": 16,
    "start_time": "2022-07-01T22:00:39.377Z"
   },
   {
    "duration": 0,
    "start_time": "2022-07-01T22:00:39.396Z"
   },
   {
    "duration": 0,
    "start_time": "2022-07-01T22:00:39.397Z"
   },
   {
    "duration": 0,
    "start_time": "2022-07-01T22:00:39.398Z"
   },
   {
    "duration": 0,
    "start_time": "2022-07-01T22:00:39.399Z"
   },
   {
    "duration": 0,
    "start_time": "2022-07-01T22:00:39.400Z"
   },
   {
    "duration": 0,
    "start_time": "2022-07-01T22:00:39.401Z"
   },
   {
    "duration": 0,
    "start_time": "2022-07-01T22:00:39.402Z"
   },
   {
    "duration": 0,
    "start_time": "2022-07-01T22:00:39.403Z"
   },
   {
    "duration": 0,
    "start_time": "2022-07-01T22:00:39.404Z"
   },
   {
    "duration": 0,
    "start_time": "2022-07-01T22:00:39.406Z"
   },
   {
    "duration": 0,
    "start_time": "2022-07-01T22:00:39.406Z"
   },
   {
    "duration": 0,
    "start_time": "2022-07-01T22:00:39.407Z"
   },
   {
    "duration": 0,
    "start_time": "2022-07-01T22:00:39.409Z"
   },
   {
    "duration": 0,
    "start_time": "2022-07-01T22:00:39.409Z"
   },
   {
    "duration": 0,
    "start_time": "2022-07-01T22:00:39.410Z"
   },
   {
    "duration": 1,
    "start_time": "2022-07-01T22:00:39.411Z"
   },
   {
    "duration": 0,
    "start_time": "2022-07-01T22:00:39.413Z"
   },
   {
    "duration": 0,
    "start_time": "2022-07-01T22:00:39.414Z"
   },
   {
    "duration": 0,
    "start_time": "2022-07-01T22:00:39.415Z"
   },
   {
    "duration": 0,
    "start_time": "2022-07-01T22:00:39.416Z"
   },
   {
    "duration": 0,
    "start_time": "2022-07-01T22:00:39.417Z"
   },
   {
    "duration": 15,
    "start_time": "2022-07-01T22:02:07.745Z"
   },
   {
    "duration": 2023,
    "start_time": "2022-07-01T22:03:09.270Z"
   },
   {
    "duration": 843,
    "start_time": "2022-07-01T22:03:11.295Z"
   },
   {
    "duration": 43,
    "start_time": "2022-07-01T22:03:12.144Z"
   },
   {
    "duration": 271,
    "start_time": "2022-07-01T22:03:12.189Z"
   },
   {
    "duration": 8,
    "start_time": "2022-07-01T22:03:12.463Z"
   },
   {
    "duration": 149,
    "start_time": "2022-07-01T22:03:12.480Z"
   },
   {
    "duration": 2240,
    "start_time": "2022-07-01T22:03:12.631Z"
   },
   {
    "duration": 15,
    "start_time": "2022-07-01T22:03:14.873Z"
   },
   {
    "duration": 21,
    "start_time": "2022-07-01T22:03:14.890Z"
   },
   {
    "duration": 14,
    "start_time": "2022-07-01T22:03:14.912Z"
   },
   {
    "duration": 124,
    "start_time": "2022-07-01T22:03:14.927Z"
   },
   {
    "duration": 173,
    "start_time": "2022-07-01T22:03:15.053Z"
   },
   {
    "duration": 7,
    "start_time": "2022-07-01T22:03:15.228Z"
   },
   {
    "duration": 75854,
    "start_time": "2022-07-01T22:03:15.239Z"
   },
   {
    "duration": 5,
    "start_time": "2022-07-01T22:04:31.095Z"
   },
   {
    "duration": 6691,
    "start_time": "2022-07-01T22:04:31.101Z"
   },
   {
    "duration": 11,
    "start_time": "2022-07-01T22:04:37.795Z"
   },
   {
    "duration": 16,
    "start_time": "2022-07-01T22:04:37.807Z"
   },
   {
    "duration": 54,
    "start_time": "2022-07-01T22:04:37.825Z"
   },
   {
    "duration": 12,
    "start_time": "2022-07-01T22:04:37.882Z"
   },
   {
    "duration": 14,
    "start_time": "2022-07-01T22:04:37.895Z"
   },
   {
    "duration": 3,
    "start_time": "2022-07-01T22:04:37.911Z"
   },
   {
    "duration": 23,
    "start_time": "2022-07-01T22:04:37.915Z"
   },
   {
    "duration": 34,
    "start_time": "2022-07-01T22:04:37.940Z"
   },
   {
    "duration": 14,
    "start_time": "2022-07-01T22:04:37.976Z"
   },
   {
    "duration": 12,
    "start_time": "2022-07-01T22:04:37.992Z"
   },
   {
    "duration": 553,
    "start_time": "2022-07-01T22:04:38.006Z"
   },
   {
    "duration": 16,
    "start_time": "2022-07-01T22:04:38.560Z"
   },
   {
    "duration": 294,
    "start_time": "2022-07-01T22:04:38.578Z"
   },
   {
    "duration": 18,
    "start_time": "2022-07-01T22:04:38.874Z"
   },
   {
    "duration": 0,
    "start_time": "2022-07-01T22:04:38.894Z"
   },
   {
    "duration": 0,
    "start_time": "2022-07-01T22:04:38.897Z"
   },
   {
    "duration": 0,
    "start_time": "2022-07-01T22:04:38.898Z"
   },
   {
    "duration": 0,
    "start_time": "2022-07-01T22:04:38.900Z"
   },
   {
    "duration": 0,
    "start_time": "2022-07-01T22:04:38.902Z"
   },
   {
    "duration": 0,
    "start_time": "2022-07-01T22:04:38.903Z"
   },
   {
    "duration": 0,
    "start_time": "2022-07-01T22:04:38.905Z"
   },
   {
    "duration": 0,
    "start_time": "2022-07-01T22:04:38.907Z"
   },
   {
    "duration": 0,
    "start_time": "2022-07-01T22:04:38.908Z"
   },
   {
    "duration": 0,
    "start_time": "2022-07-01T22:04:38.910Z"
   },
   {
    "duration": 0,
    "start_time": "2022-07-01T22:04:38.911Z"
   },
   {
    "duration": 0,
    "start_time": "2022-07-01T22:04:38.913Z"
   },
   {
    "duration": 0,
    "start_time": "2022-07-01T22:04:38.915Z"
   },
   {
    "duration": 0,
    "start_time": "2022-07-01T22:04:38.941Z"
   },
   {
    "duration": 0,
    "start_time": "2022-07-01T22:04:38.942Z"
   },
   {
    "duration": 0,
    "start_time": "2022-07-01T22:04:38.943Z"
   },
   {
    "duration": 0,
    "start_time": "2022-07-01T22:04:38.950Z"
   },
   {
    "duration": 0,
    "start_time": "2022-07-01T22:04:38.951Z"
   },
   {
    "duration": 8,
    "start_time": "2022-07-01T22:05:51.767Z"
   },
   {
    "duration": 18,
    "start_time": "2022-07-01T22:05:52.929Z"
   },
   {
    "duration": 6,
    "start_time": "2022-07-01T22:05:53.838Z"
   },
   {
    "duration": 5,
    "start_time": "2022-07-01T22:05:54.704Z"
   },
   {
    "duration": 6,
    "start_time": "2022-07-01T22:05:56.330Z"
   },
   {
    "duration": 18,
    "start_time": "2022-07-01T22:05:56.503Z"
   },
   {
    "duration": 8,
    "start_time": "2022-07-01T22:05:57.220Z"
   },
   {
    "duration": 564,
    "start_time": "2022-07-01T22:05:57.412Z"
   },
   {
    "duration": 4,
    "start_time": "2022-07-01T22:05:58.022Z"
   },
   {
    "duration": 2381,
    "start_time": "2022-07-01T22:05:58.397Z"
   },
   {
    "duration": 88,
    "start_time": "2022-07-01T22:06:00.780Z"
   },
   {
    "duration": 106,
    "start_time": "2022-07-01T22:06:00.870Z"
   },
   {
    "duration": 10,
    "start_time": "2022-07-01T22:06:00.978Z"
   },
   {
    "duration": 352,
    "start_time": "2022-07-01T22:08:30.099Z"
   },
   {
    "duration": 1910,
    "start_time": "2022-07-01T22:09:40.059Z"
   },
   {
    "duration": 858,
    "start_time": "2022-07-01T22:09:41.972Z"
   },
   {
    "duration": 42,
    "start_time": "2022-07-01T22:09:42.831Z"
   },
   {
    "duration": 273,
    "start_time": "2022-07-01T22:09:42.875Z"
   },
   {
    "duration": 8,
    "start_time": "2022-07-01T22:09:43.154Z"
   },
   {
    "duration": 124,
    "start_time": "2022-07-01T22:09:43.164Z"
   },
   {
    "duration": 2125,
    "start_time": "2022-07-01T22:09:43.290Z"
   },
   {
    "duration": 28,
    "start_time": "2022-07-01T22:09:45.417Z"
   },
   {
    "duration": 39,
    "start_time": "2022-07-01T22:09:45.450Z"
   },
   {
    "duration": 16,
    "start_time": "2022-07-01T22:09:45.491Z"
   },
   {
    "duration": 114,
    "start_time": "2022-07-01T22:09:45.509Z"
   },
   {
    "duration": 259,
    "start_time": "2022-07-01T22:09:45.625Z"
   },
   {
    "duration": 8,
    "start_time": "2022-07-01T22:09:45.885Z"
   },
   {
    "duration": 72890,
    "start_time": "2022-07-01T22:09:45.896Z"
   },
   {
    "duration": 5,
    "start_time": "2022-07-01T22:10:58.788Z"
   },
   {
    "duration": 6400,
    "start_time": "2022-07-01T22:10:58.795Z"
   },
   {
    "duration": 14,
    "start_time": "2022-07-01T22:11:05.241Z"
   },
   {
    "duration": 25,
    "start_time": "2022-07-01T22:11:05.260Z"
   },
   {
    "duration": 6,
    "start_time": "2022-07-01T22:11:05.287Z"
   },
   {
    "duration": 9,
    "start_time": "2022-07-01T22:11:05.294Z"
   },
   {
    "duration": 15,
    "start_time": "2022-07-01T22:11:05.305Z"
   },
   {
    "duration": 3,
    "start_time": "2022-07-01T22:11:05.322Z"
   },
   {
    "duration": 2785,
    "start_time": "2022-07-01T22:11:05.327Z"
   },
   {
    "duration": 7,
    "start_time": "2022-07-01T22:11:08.114Z"
   },
   {
    "duration": 21,
    "start_time": "2022-07-01T22:11:08.123Z"
   },
   {
    "duration": 34,
    "start_time": "2022-07-01T22:11:08.146Z"
   },
   {
    "duration": 10,
    "start_time": "2022-07-01T22:11:08.182Z"
   },
   {
    "duration": 603,
    "start_time": "2022-07-01T22:11:08.194Z"
   },
   {
    "duration": 5,
    "start_time": "2022-07-01T22:11:08.799Z"
   },
   {
    "duration": 8,
    "start_time": "2022-07-01T22:11:08.806Z"
   },
   {
    "duration": 248644,
    "start_time": "2022-07-01T22:11:08.816Z"
   },
   {
    "duration": 1014,
    "start_time": "2022-07-01T22:15:17.462Z"
   },
   {
    "duration": 39874,
    "start_time": "2022-07-01T22:15:18.478Z"
   },
   {
    "duration": 519,
    "start_time": "2022-07-01T22:15:58.356Z"
   },
   {
    "duration": 326183,
    "start_time": "2022-07-01T22:15:58.877Z"
   },
   {
    "duration": 518,
    "start_time": "2022-07-01T22:21:25.068Z"
   },
   {
    "duration": 187,
    "start_time": "2022-07-01T22:21:25.587Z"
   },
   {
    "duration": 0,
    "start_time": "2022-07-01T22:21:25.776Z"
   },
   {
    "duration": 0,
    "start_time": "2022-07-01T22:21:25.778Z"
   },
   {
    "duration": 0,
    "start_time": "2022-07-01T22:21:25.779Z"
   },
   {
    "duration": 0,
    "start_time": "2022-07-01T22:21:25.780Z"
   },
   {
    "duration": 0,
    "start_time": "2022-07-01T22:21:25.781Z"
   },
   {
    "duration": 0,
    "start_time": "2022-07-01T22:21:25.782Z"
   },
   {
    "duration": 0,
    "start_time": "2022-07-01T22:21:25.783Z"
   },
   {
    "duration": 0,
    "start_time": "2022-07-01T22:21:25.784Z"
   },
   {
    "duration": 0,
    "start_time": "2022-07-01T22:21:25.786Z"
   },
   {
    "duration": 1873,
    "start_time": "2022-07-02T08:02:30.853Z"
   },
   {
    "duration": 2317,
    "start_time": "2022-07-02T08:02:32.728Z"
   },
   {
    "duration": 31,
    "start_time": "2022-07-02T08:02:35.046Z"
   },
   {
    "duration": 228,
    "start_time": "2022-07-02T08:02:35.079Z"
   },
   {
    "duration": 6,
    "start_time": "2022-07-02T08:02:35.309Z"
   },
   {
    "duration": 107,
    "start_time": "2022-07-02T08:02:35.316Z"
   },
   {
    "duration": 1773,
    "start_time": "2022-07-02T08:02:35.425Z"
   },
   {
    "duration": 13,
    "start_time": "2022-07-02T08:02:37.200Z"
   },
   {
    "duration": 19,
    "start_time": "2022-07-02T08:02:37.215Z"
   },
   {
    "duration": 14,
    "start_time": "2022-07-02T08:02:37.252Z"
   },
   {
    "duration": 108,
    "start_time": "2022-07-02T08:02:37.268Z"
   },
   {
    "duration": 495,
    "start_time": "2022-07-02T08:02:37.378Z"
   },
   {
    "duration": 7,
    "start_time": "2022-07-02T08:02:37.874Z"
   },
   {
    "duration": 57545,
    "start_time": "2022-07-02T08:02:37.882Z"
   },
   {
    "duration": 5,
    "start_time": "2022-07-02T08:03:35.429Z"
   },
   {
    "duration": 5119,
    "start_time": "2022-07-02T08:03:35.436Z"
   },
   {
    "duration": 12,
    "start_time": "2022-07-02T08:03:40.558Z"
   },
   {
    "duration": 15,
    "start_time": "2022-07-02T08:03:40.572Z"
   },
   {
    "duration": 15,
    "start_time": "2022-07-02T08:03:40.589Z"
   },
   {
    "duration": 8,
    "start_time": "2022-07-02T08:03:40.606Z"
   },
   {
    "duration": 17,
    "start_time": "2022-07-02T08:03:40.615Z"
   },
   {
    "duration": 4,
    "start_time": "2022-07-02T08:03:40.634Z"
   },
   {
    "duration": 2033,
    "start_time": "2022-07-02T08:03:40.639Z"
   },
   {
    "duration": 8,
    "start_time": "2022-07-02T08:03:42.673Z"
   },
   {
    "duration": 18,
    "start_time": "2022-07-02T08:03:42.683Z"
   },
   {
    "duration": 21,
    "start_time": "2022-07-02T08:03:42.703Z"
   },
   {
    "duration": 28,
    "start_time": "2022-07-02T08:03:42.726Z"
   },
   {
    "duration": 498,
    "start_time": "2022-07-02T08:03:42.760Z"
   },
   {
    "duration": 8,
    "start_time": "2022-07-02T08:03:43.259Z"
   },
   {
    "duration": 8,
    "start_time": "2022-07-02T08:03:43.269Z"
   },
   {
    "duration": 168881,
    "start_time": "2022-07-02T08:03:43.279Z"
   },
   {
    "duration": 969,
    "start_time": "2022-07-02T08:06:32.162Z"
   },
   {
    "duration": 32006,
    "start_time": "2022-07-02T08:06:33.132Z"
   },
   {
    "duration": 481,
    "start_time": "2022-07-02T08:07:05.139Z"
   },
   {
    "duration": 292706,
    "start_time": "2022-07-02T08:07:05.622Z"
   },
   {
    "duration": 580,
    "start_time": "2022-07-02T08:11:58.330Z"
   },
   {
    "duration": 150,
    "start_time": "2022-07-02T08:11:58.912Z"
   },
   {
    "duration": 0,
    "start_time": "2022-07-02T08:11:59.064Z"
   },
   {
    "duration": 0,
    "start_time": "2022-07-02T08:11:59.065Z"
   },
   {
    "duration": 0,
    "start_time": "2022-07-02T08:11:59.066Z"
   },
   {
    "duration": 0,
    "start_time": "2022-07-02T08:11:59.068Z"
   },
   {
    "duration": 0,
    "start_time": "2022-07-02T08:11:59.069Z"
   },
   {
    "duration": 0,
    "start_time": "2022-07-02T08:11:59.070Z"
   },
   {
    "duration": 0,
    "start_time": "2022-07-02T08:11:59.071Z"
   },
   {
    "duration": 0,
    "start_time": "2022-07-02T08:11:59.076Z"
   },
   {
    "duration": 0,
    "start_time": "2022-07-02T08:11:59.077Z"
   },
   {
    "duration": 1702,
    "start_time": "2022-07-02T08:53:29.887Z"
   },
   {
    "duration": 631,
    "start_time": "2022-07-02T08:53:31.591Z"
   },
   {
    "duration": 33,
    "start_time": "2022-07-02T08:53:32.224Z"
   },
   {
    "duration": 223,
    "start_time": "2022-07-02T08:53:32.258Z"
   },
   {
    "duration": 5,
    "start_time": "2022-07-02T08:53:32.483Z"
   },
   {
    "duration": 104,
    "start_time": "2022-07-02T08:53:32.489Z"
   },
   {
    "duration": 1686,
    "start_time": "2022-07-02T08:53:32.595Z"
   },
   {
    "duration": 13,
    "start_time": "2022-07-02T08:53:34.282Z"
   },
   {
    "duration": 18,
    "start_time": "2022-07-02T08:53:34.297Z"
   },
   {
    "duration": 11,
    "start_time": "2022-07-02T08:53:34.318Z"
   },
   {
    "duration": 131,
    "start_time": "2022-07-02T08:53:34.330Z"
   },
   {
    "duration": 154,
    "start_time": "2022-07-02T08:53:34.462Z"
   },
   {
    "duration": 9,
    "start_time": "2022-07-02T08:53:34.618Z"
   },
   {
    "duration": 53358,
    "start_time": "2022-07-02T08:53:34.629Z"
   },
   {
    "duration": 6,
    "start_time": "2022-07-02T08:54:27.988Z"
   },
   {
    "duration": 4897,
    "start_time": "2022-07-02T08:54:27.995Z"
   },
   {
    "duration": 12,
    "start_time": "2022-07-02T08:54:32.895Z"
   },
   {
    "duration": 11,
    "start_time": "2022-07-02T08:54:32.951Z"
   },
   {
    "duration": 4,
    "start_time": "2022-07-02T08:54:32.964Z"
   },
   {
    "duration": 9,
    "start_time": "2022-07-02T08:54:32.970Z"
   },
   {
    "duration": 15,
    "start_time": "2022-07-02T08:54:32.981Z"
   },
   {
    "duration": 195,
    "start_time": "2022-07-02T08:54:32.998Z"
   },
   {
    "duration": 0,
    "start_time": "2022-07-02T08:54:33.195Z"
   },
   {
    "duration": 0,
    "start_time": "2022-07-02T08:54:33.196Z"
   },
   {
    "duration": 0,
    "start_time": "2022-07-02T08:54:33.198Z"
   },
   {
    "duration": 0,
    "start_time": "2022-07-02T08:54:33.199Z"
   },
   {
    "duration": 0,
    "start_time": "2022-07-02T08:54:33.200Z"
   },
   {
    "duration": 0,
    "start_time": "2022-07-02T08:54:33.201Z"
   },
   {
    "duration": 0,
    "start_time": "2022-07-02T08:54:33.202Z"
   },
   {
    "duration": 0,
    "start_time": "2022-07-02T08:54:33.204Z"
   },
   {
    "duration": 0,
    "start_time": "2022-07-02T08:54:33.205Z"
   },
   {
    "duration": 0,
    "start_time": "2022-07-02T08:54:33.206Z"
   },
   {
    "duration": 0,
    "start_time": "2022-07-02T08:54:33.207Z"
   },
   {
    "duration": 0,
    "start_time": "2022-07-02T08:54:33.208Z"
   },
   {
    "duration": 0,
    "start_time": "2022-07-02T08:54:33.209Z"
   },
   {
    "duration": 0,
    "start_time": "2022-07-02T08:54:33.210Z"
   },
   {
    "duration": 0,
    "start_time": "2022-07-02T08:54:33.211Z"
   },
   {
    "duration": 0,
    "start_time": "2022-07-02T08:54:33.213Z"
   },
   {
    "duration": 0,
    "start_time": "2022-07-02T08:54:33.214Z"
   },
   {
    "duration": 0,
    "start_time": "2022-07-02T08:54:33.215Z"
   },
   {
    "duration": 0,
    "start_time": "2022-07-02T08:54:33.250Z"
   },
   {
    "duration": 0,
    "start_time": "2022-07-02T08:54:33.251Z"
   },
   {
    "duration": 0,
    "start_time": "2022-07-02T08:54:33.252Z"
   },
   {
    "duration": 0,
    "start_time": "2022-07-02T08:54:33.253Z"
   },
   {
    "duration": 0,
    "start_time": "2022-07-02T08:54:33.254Z"
   },
   {
    "duration": 0,
    "start_time": "2022-07-02T08:54:33.256Z"
   },
   {
    "duration": 0,
    "start_time": "2022-07-02T08:54:33.257Z"
   },
   {
    "duration": 17,
    "start_time": "2022-07-02T08:56:00.444Z"
   },
   {
    "duration": 2908,
    "start_time": "2022-07-02T08:56:04.558Z"
   },
   {
    "duration": 5,
    "start_time": "2022-07-02T08:56:07.469Z"
   },
   {
    "duration": 6,
    "start_time": "2022-07-02T08:56:09.429Z"
   },
   {
    "duration": 9,
    "start_time": "2022-07-02T08:56:09.655Z"
   },
   {
    "duration": 6,
    "start_time": "2022-07-02T08:56:11.928Z"
   },
   {
    "duration": 533,
    "start_time": "2022-07-02T08:56:12.228Z"
   },
   {
    "duration": 3,
    "start_time": "2022-07-02T08:56:14.257Z"
   },
   {
    "duration": 4,
    "start_time": "2022-07-02T08:56:14.892Z"
   },
   {
    "duration": 136501,
    "start_time": "2022-07-02T08:56:16.656Z"
   },
   {
    "duration": 998,
    "start_time": "2022-07-02T08:58:33.159Z"
   },
   {
    "duration": 43237,
    "start_time": "2022-07-02T08:59:05.532Z"
   },
   {
    "duration": 453,
    "start_time": "2022-07-02T08:59:48.771Z"
   },
   {
    "duration": 409334,
    "start_time": "2022-07-02T08:59:49.226Z"
   },
   {
    "duration": 492,
    "start_time": "2022-07-02T09:06:38.563Z"
   },
   {
    "duration": 14,
    "start_time": "2022-07-02T09:06:39.057Z"
   },
   {
    "duration": 0,
    "start_time": "2022-07-02T09:06:39.072Z"
   },
   {
    "duration": 0,
    "start_time": "2022-07-02T09:06:39.074Z"
   },
   {
    "duration": 0,
    "start_time": "2022-07-02T09:06:39.075Z"
   },
   {
    "duration": 0,
    "start_time": "2022-07-02T09:06:39.076Z"
   },
   {
    "duration": 0,
    "start_time": "2022-07-02T09:06:39.077Z"
   },
   {
    "duration": 53874,
    "start_time": "2022-07-02T09:43:03.902Z"
   },
   {
    "duration": 6,
    "start_time": "2022-07-02T09:43:57.778Z"
   },
   {
    "duration": 5094,
    "start_time": "2022-07-02T09:43:57.785Z"
   },
   {
    "duration": 12,
    "start_time": "2022-07-02T09:44:02.881Z"
   },
   {
    "duration": 26,
    "start_time": "2022-07-02T09:44:02.895Z"
   },
   {
    "duration": 5,
    "start_time": "2022-07-02T09:44:02.923Z"
   },
   {
    "duration": 11,
    "start_time": "2022-07-02T09:44:02.930Z"
   },
   {
    "duration": 14,
    "start_time": "2022-07-02T09:44:02.942Z"
   },
   {
    "duration": 21,
    "start_time": "2022-07-02T09:44:02.957Z"
   },
   {
    "duration": 4104,
    "start_time": "2022-07-02T09:44:02.980Z"
   },
   {
    "duration": 7,
    "start_time": "2022-07-02T09:44:07.085Z"
   },
   {
    "duration": 13,
    "start_time": "2022-07-02T09:44:07.094Z"
   },
   {
    "duration": 13,
    "start_time": "2022-07-02T09:44:07.109Z"
   },
   {
    "duration": 13,
    "start_time": "2022-07-02T09:44:07.123Z"
   },
   {
    "duration": 512,
    "start_time": "2022-07-02T09:44:07.150Z"
   },
   {
    "duration": 135295,
    "start_time": "2022-07-02T09:44:07.664Z"
   },
   {
    "duration": 1079,
    "start_time": "2022-07-02T09:46:22.961Z"
   },
   {
    "duration": 40758,
    "start_time": "2022-07-02T09:46:24.052Z"
   },
   {
    "duration": 469,
    "start_time": "2022-07-02T09:47:04.812Z"
   },
   {
    "duration": 396434,
    "start_time": "2022-07-02T09:47:05.283Z"
   },
   {
    "duration": 468,
    "start_time": "2022-07-02T09:53:41.718Z"
   },
   {
    "duration": 2686469,
    "start_time": "2022-07-02T09:53:42.187Z"
   },
   {
    "duration": 741,
    "start_time": "2022-07-02T10:38:28.658Z"
   },
   {
    "duration": 55019,
    "start_time": "2022-07-02T10:38:29.400Z"
   },
   {
    "duration": 333,
    "start_time": "2022-07-02T10:39:24.421Z"
   },
   {
    "duration": 1007,
    "start_time": "2022-07-02T10:39:24.755Z"
   },
   {
    "duration": 13,
    "start_time": "2022-07-02T10:39:25.764Z"
   },
   {
    "duration": 14,
    "start_time": "2022-07-02T10:39:25.779Z"
   },
   {
    "duration": 10,
    "start_time": "2022-07-02T10:39:25.795Z"
   },
   {
    "duration": 159,
    "start_time": "2022-07-02T10:39:25.807Z"
   },
   {
    "duration": 11,
    "start_time": "2022-07-02T10:40:44.927Z"
   },
   {
    "duration": 9,
    "start_time": "2022-07-02T10:40:47.656Z"
   },
   {
    "duration": 65,
    "start_time": "2022-07-02T12:11:16.319Z"
   },
   {
    "duration": 45,
    "start_time": "2022-07-02T12:12:41.377Z"
   },
   {
    "duration": 255,
    "start_time": "2022-07-02T12:12:50.576Z"
   },
   {
    "duration": 143,
    "start_time": "2022-07-02T12:12:58.644Z"
   },
   {
    "duration": 607,
    "start_time": "2022-07-02T12:17:31.033Z"
   },
   {
    "duration": 545,
    "start_time": "2022-07-02T12:17:48.233Z"
   },
   {
    "duration": 1612,
    "start_time": "2022-07-02T12:18:23.850Z"
   },
   {
    "duration": 3714,
    "start_time": "2022-07-02T12:18:46.443Z"
   },
   {
    "duration": 3574,
    "start_time": "2022-07-02T12:19:04.980Z"
   },
   {
    "duration": 4145,
    "start_time": "2022-07-02T12:42:40.828Z"
   },
   {
    "duration": 4385,
    "start_time": "2022-07-02T12:42:57.092Z"
   },
   {
    "duration": 5994,
    "start_time": "2022-07-02T12:43:58.652Z"
   },
   {
    "duration": 12,
    "start_time": "2022-07-02T12:48:57.970Z"
   },
   {
    "duration": 13,
    "start_time": "2022-07-02T12:49:45.356Z"
   },
   {
    "duration": 164,
    "start_time": "2022-07-02T13:30:56.414Z"
   },
   {
    "duration": 655,
    "start_time": "2022-07-02T13:30:59.455Z"
   },
   {
    "duration": 32,
    "start_time": "2022-07-02T13:31:01.646Z"
   },
   {
    "duration": 221,
    "start_time": "2022-07-02T13:31:02.030Z"
   },
   {
    "duration": 6,
    "start_time": "2022-07-02T13:31:02.481Z"
   },
   {
    "duration": 108,
    "start_time": "2022-07-02T13:31:03.287Z"
   },
   {
    "duration": 1630,
    "start_time": "2022-07-02T13:31:05.353Z"
   },
   {
    "duration": 13,
    "start_time": "2022-07-02T13:31:06.986Z"
   },
   {
    "duration": 18,
    "start_time": "2022-07-02T13:31:07.206Z"
   },
   {
    "duration": 13,
    "start_time": "2022-07-02T13:31:07.925Z"
   },
   {
    "duration": 96,
    "start_time": "2022-07-02T13:31:09.161Z"
   },
   {
    "duration": 8,
    "start_time": "2022-07-02T13:31:10.900Z"
   },
   {
    "duration": 5840,
    "start_time": "2022-07-02T19:12:23.654Z"
   },
   {
    "duration": 3452,
    "start_time": "2022-07-02T19:12:29.496Z"
   },
   {
    "duration": 39,
    "start_time": "2022-07-02T19:12:32.952Z"
   },
   {
    "duration": 303,
    "start_time": "2022-07-02T19:12:32.993Z"
   },
   {
    "duration": 6,
    "start_time": "2022-07-02T19:12:33.298Z"
   },
   {
    "duration": 144,
    "start_time": "2022-07-02T19:12:33.306Z"
   },
   {
    "duration": 2327,
    "start_time": "2022-07-02T19:12:33.451Z"
   },
   {
    "duration": 21,
    "start_time": "2022-07-02T19:12:35.789Z"
   },
   {
    "duration": 29,
    "start_time": "2022-07-02T19:12:35.812Z"
   },
   {
    "duration": 56,
    "start_time": "2022-07-02T19:12:35.847Z"
   },
   {
    "duration": 130,
    "start_time": "2022-07-02T19:12:35.905Z"
   },
   {
    "duration": 23,
    "start_time": "2022-07-02T19:12:36.040Z"
   },
   {
    "duration": 86442,
    "start_time": "2022-07-02T19:12:36.068Z"
   },
   {
    "duration": 13,
    "start_time": "2022-07-02T19:15:20.379Z"
   }
  ],
  "kernelspec": {
   "display_name": "Python 3 (ipykernel)",
   "language": "python",
   "name": "python3"
  },
  "language_info": {
   "codemirror_mode": {
    "name": "ipython",
    "version": 3
   },
   "file_extension": ".py",
   "mimetype": "text/x-python",
   "name": "python",
   "nbconvert_exporter": "python",
   "pygments_lexer": "ipython3",
   "version": "3.9.5"
  },
  "toc": {
   "base_numbering": 1,
   "nav_menu": {
    "height": "322px",
    "width": "243px"
   },
   "number_sections": true,
   "sideBar": true,
   "skip_h1_title": true,
   "title_cell": "Содержание",
   "title_sidebar": "Contents",
   "toc_cell": true,
   "toc_position": {
    "height": "calc(100% - 180px)",
    "left": "10px",
    "top": "150px",
    "width": "302.391px"
   },
   "toc_section_display": true,
   "toc_window_display": true
  }
 },
 "nbformat": 4,
 "nbformat_minor": 2
}
